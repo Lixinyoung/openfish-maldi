{
 "cells": [
  {
   "cell_type": "raw",
   "id": "6159c28f-f193-48d2-94e7-e0788d976f44",
   "metadata": {},
   "source": [
    "cellranger count --id LPS03_cr \\\n",
    "--transcriptome /media/duan/sda2/Reference_DataBase/refdata-gex-GRCm39-2024-A \\\n",
    "--fastqs ./LPS03 \\\n",
    "--sample LPS_3 \\\n",
    "--localcores 64 \\\n",
    "--localmem 256\n",
    "\n",
    "cellranger count --id SA03_cr \\\n",
    "--transcriptome /media/duan/sda2/Reference_DataBase/refdata-gex-GRCm39-2024-A \\\n",
    "--fastqs ./SA03 \\\n",
    "--sample SA_3 \\\n",
    "--localcores 64 \\\n",
    "--localmem 256\n",
    "\n",
    "python /media/duan/DuanLab_Data/ZC_epi/Code/SoloTE/SoloTE_pipeline.py \\\n",
    "-b /media/duan/DuanLab_Data/LPS_10x/Cleandata/LPS03_cr/outs/possorted_genome_bam.bam \\\n",
    "-t 32 \\\n",
    "-d /media/duan/DuanLab_Data/LPS_10x/Cleandata/LPS03_cr/solote_outs \\\n",
    "-a /media/duan/sda2/Reference_DataBase/refdata-gex-GRCm39-2024-A/genes/mm39_ucsc_rmsk.bed \\\n",
    "-o LPS03\n",
    "\n",
    "python /media/duan/DuanLab_Data/ZC_epi/Code/SoloTE/SoloTE_pipeline.py \\\n",
    "-b /media/duan/DuanLab_Data/LPS_10x/Cleandata/SA03_cr/outs/possorted_genome_bam.bam \\\n",
    "-t 32 \\\n",
    "-d /media/duan/DuanLab_Data/LPS_10x/Cleandata/SA03_cr/solote_outs \\\n",
    "-a /media/duan/sda2/Reference_DataBase/refdata-gex-GRCm39-2024-A/genes/mm39_ucsc_rmsk.bed \\\n",
    "-o SA03"
   ]
  },
  {
   "cell_type": "code",
   "execution_count": null,
   "id": "419a76a8-3543-4d7e-a124-e5d9d36a12fb",
   "metadata": {},
   "outputs": [],
   "source": []
  },
  {
   "cell_type": "code",
   "execution_count": null,
   "id": "2658e421-8717-423b-a6f7-ae61aefea859",
   "metadata": {
    "tags": []
   },
   "outputs": [],
   "source": [
    "import scanpy as sc\n",
    "import numpy as np\n",
    "import pandas as pd\n",
    "import os"
   ]
  },
  {
   "cell_type": "markdown",
   "id": "80a1f7b3-7bbf-4882-a34f-5111393552df",
   "metadata": {
    "tags": []
   },
   "source": [
    "# Preporcess"
   ]
  },
  {
   "cell_type": "code",
   "execution_count": null,
   "id": "851cd683-a498-4151-b182-d44bc3180302",
   "metadata": {
    "tags": []
   },
   "outputs": [],
   "source": [
    "def helper_read(filepath: str) -> sc.AnnData:\n",
    "    adata = sc.read(os.path.join(filepath, \"matrix.mtx\"))\n",
    "    adata = adata.T\n",
    "    barcodes = pd.read_csv(os.path.join(filepath, \"barcodes.tsv\"), sep = '\\t', header = None)\n",
    "    features = pd.read_csv(os.path.join(filepath, \"features.tsv\"), sep = '\\t', header = None)\n",
    "    adata.obs_names = barcodes[0]\n",
    "    adata.var_names = features[1]\n",
    "    adata.var_names_make_unique()\n",
    "    return adata"
   ]
  },
  {
   "cell_type": "code",
   "execution_count": null,
   "id": "38ae539c-986d-4b31-a723-cc3b0313b689",
   "metadata": {
    "tags": []
   },
   "outputs": [],
   "source": [
    "filepath = \"/media/duan/DuanLab_Data/LPS_10x/Cleandata/LPS03_cr/solote_outs/LPS03_SoloTE_output/LPS03_familytes_MATRIX\""
   ]
  },
  {
   "cell_type": "code",
   "execution_count": null,
   "id": "59e67fdf-3428-4367-b63a-8e8d868e0040",
   "metadata": {
    "tags": []
   },
   "outputs": [],
   "source": [
    "adata = helper_read(filepath)"
   ]
  },
  {
   "cell_type": "code",
   "execution_count": null,
   "id": "090568d2-f9bb-4a3b-a30c-ca3a7a4a703c",
   "metadata": {
    "tags": []
   },
   "outputs": [],
   "source": [
    "adata.write_h5ad(\"/media/duan/DuanLab_Data/LPS_10x/Cleandata/LPS03_cr/solote_outs/LPS03_SoloTE_output/LPS03_familytes_MATRIX.h5ad\")"
   ]
  },
  {
   "cell_type": "code",
   "execution_count": null,
   "id": "3b67acd6-e01d-41bc-85ca-733d6d9976d9",
   "metadata": {
    "tags": []
   },
   "outputs": [],
   "source": [
    "filepath = \"/media/duan/DuanLab_Data/LPS_10x/Cleandata/SA03_cr/solote_outs/SA03_SoloTE_output/SA03_familytes_MATRIX\""
   ]
  },
  {
   "cell_type": "code",
   "execution_count": null,
   "id": "fe6e807a-cfcb-4e27-a79a-25a393ce14f6",
   "metadata": {
    "tags": []
   },
   "outputs": [],
   "source": [
    "adata = helper_read(filepath)"
   ]
  },
  {
   "cell_type": "code",
   "execution_count": null,
   "id": "d3dc41dc-aec9-48c5-b08f-49773e9d2485",
   "metadata": {
    "tags": []
   },
   "outputs": [],
   "source": [
    "adata.write_h5ad(\"/media/duan/DuanLab_Data/LPS_10x/Cleandata/SA03_cr/solote_outs/SA03_SoloTE_output/SA03_familytes_MATRIX.h5ad\")"
   ]
  },
  {
   "cell_type": "code",
   "execution_count": null,
   "id": "535fc913-ea5a-4ecb-a15a-031b1543e419",
   "metadata": {
    "tags": []
   },
   "outputs": [],
   "source": [
    "adata1 = sc.read_h5ad(\"/media/duan/DuanLab_Data/LPS_10x/Cleandata/LPS03_cr/solote_outs/LPS03_SoloTE_output/LPS03_familytes_MATRIX.h5ad\")\n",
    "adata1.obs['Sample'] = 'LPS'\n",
    "adata2 = sc.read_h5ad(\"/media/duan/DuanLab_Data/LPS_10x/Cleandata/SA03_cr/solote_outs/SA03_SoloTE_output/SA03_familytes_MATRIX.h5ad\")\n",
    "adata2.obs['Sample'] = 'Sham'\n",
    "adata = sc.concat([adata1,adata2], merge = 'same', join = 'outer')\n",
    "adata"
   ]
  },
  {
   "cell_type": "code",
   "execution_count": null,
   "id": "eafe4867-644d-4bdb-96f5-b857fb7e2085",
   "metadata": {
    "tags": []
   },
   "outputs": [],
   "source": [
    "adata.obs_names_make_unique()"
   ]
  },
  {
   "cell_type": "code",
   "execution_count": null,
   "id": "22325f38-dca5-422a-aefa-422a6b5a8ed4",
   "metadata": {
    "tags": []
   },
   "outputs": [],
   "source": [
    "sc.pp.filter_cells(adata, min_counts=100)\n",
    "sc.pp.filter_cells(adata, min_genes=10)"
   ]
  },
  {
   "cell_type": "code",
   "execution_count": null,
   "id": "948aeadf-1b50-4d6c-80eb-651048bd74be",
   "metadata": {
    "tags": []
   },
   "outputs": [],
   "source": [
    "adata"
   ]
  },
  {
   "cell_type": "code",
   "execution_count": null,
   "id": "61471933-ede5-4f7a-8550-3fdec4c82fda",
   "metadata": {},
   "outputs": [],
   "source": []
  },
  {
   "cell_type": "code",
   "execution_count": null,
   "id": "fde6fe9a-e471-4574-959d-4aab4f424f41",
   "metadata": {
    "tags": []
   },
   "outputs": [],
   "source": [
    "# mitochondrial genes, \"MT-\" for human, \"Mt-\" for mouse\n",
    "adata.var[\"mt\"] = adata.var_names.str.startswith(\"mt-\")\n",
    "# ribosomal genes\n",
    "adata.var[\"ribo\"] = adata.var_names.str.startswith((\"Rps\", \"Rpl\"))\n",
    "# hemoglobin genes\n",
    "adata.var[\"hb\"] = adata.var_names.str.contains(\"^Hb[^(p)]\")\n",
    "\n",
    "adata.var[\"TE\"] = adata.var_names.str.startswith((\"SoloTE\"))"
   ]
  },
  {
   "cell_type": "code",
   "execution_count": null,
   "id": "382f392a-4ca6-4124-b95c-baf2423210d3",
   "metadata": {
    "tags": []
   },
   "outputs": [],
   "source": [
    "sc.pp.calculate_qc_metrics(\n",
    "    adata, qc_vars=[\"mt\", \"ribo\", \"hb\"], inplace=True, log1p=True\n",
    ")"
   ]
  },
  {
   "cell_type": "code",
   "execution_count": null,
   "id": "13e9a780-00f5-4423-ab62-c639f5c526c1",
   "metadata": {
    "tags": []
   },
   "outputs": [],
   "source": [
    "sc.pl.violin(\n",
    "    adata,\n",
    "    [\"n_genes_by_counts\", \"total_counts\", \"pct_counts_mt\", \"pct_counts_ribo\",\"pct_counts_hb\"],\n",
    "    jitter=0.4,\n",
    "    multi_panel=True,\n",
    ")"
   ]
  },
  {
   "cell_type": "code",
   "execution_count": null,
   "id": "4b0a2859-0a45-40df-b24f-5412787a2cfd",
   "metadata": {},
   "outputs": [],
   "source": []
  },
  {
   "cell_type": "code",
   "execution_count": null,
   "id": "c905d6d5-fc70-4545-a6e5-8a10b1e5a5ca",
   "metadata": {
    "tags": []
   },
   "outputs": [],
   "source": [
    "import numpy as np"
   ]
  },
  {
   "cell_type": "code",
   "execution_count": null,
   "id": "c4dad284-106c-4247-bfc4-03469c700d4e",
   "metadata": {
    "tags": []
   },
   "outputs": [],
   "source": [
    "np.percentile(adata.obs[\"pct_counts_hb\"], 98)"
   ]
  },
  {
   "cell_type": "code",
   "execution_count": null,
   "id": "2307a773-4883-487f-b48b-07e290b91745",
   "metadata": {
    "tags": []
   },
   "outputs": [],
   "source": [
    "np.percentile(adata.obs[\"pct_counts_ribo\"], 98)"
   ]
  },
  {
   "cell_type": "code",
   "execution_count": null,
   "id": "f7c0eab1-613a-402e-9108-89c52945829d",
   "metadata": {
    "tags": []
   },
   "outputs": [],
   "source": [
    "np.percentile(adata.obs[\"total_counts\"], 2)"
   ]
  },
  {
   "cell_type": "code",
   "execution_count": null,
   "id": "542bcd41-cbd8-4ac1-9b52-bf32a3c5b541",
   "metadata": {
    "tags": []
   },
   "outputs": [],
   "source": [
    "np.percentile(adata.obs[\"total_counts\"], 98)"
   ]
  },
  {
   "cell_type": "code",
   "execution_count": null,
   "id": "aef4fef9-ae5a-4519-9796-8c58da6a05b3",
   "metadata": {
    "tags": []
   },
   "outputs": [],
   "source": [
    "np.percentile(adata.obs[\"n_genes_by_counts\"], 98)"
   ]
  },
  {
   "cell_type": "code",
   "execution_count": null,
   "id": "2628b4e1-cd95-452d-99d8-f9b127c1c783",
   "metadata": {
    "tags": []
   },
   "outputs": [],
   "source": [
    "np.percentile(adata.obs[\"n_genes_by_counts\"], 2)"
   ]
  },
  {
   "cell_type": "code",
   "execution_count": null,
   "id": "cab0fb56-8e84-4a40-8ccf-96c98ff3070b",
   "metadata": {
    "tags": []
   },
   "outputs": [],
   "source": [
    "adata = adata[adata.obs.pct_counts_mt < 20, :].copy()\n",
    "adata = adata[adata.obs.pct_counts_hb < 5, :].copy()\n",
    "adata = adata[adata.obs.pct_counts_ribo < 20, :].copy()\n",
    "sc.pp.filter_cells(adata, min_counts=300)\n",
    "sc.pp.filter_cells(adata, max_counts=40000)\n",
    "sc.pp.filter_cells(adata, max_genes = 8000)\n",
    "sc.pp.filter_cells(adata, min_genes=100)\n",
    "adata"
   ]
  },
  {
   "cell_type": "code",
   "execution_count": null,
   "id": "83ac98ba-f64c-4e2b-becd-ac89f5a70aaa",
   "metadata": {},
   "outputs": [],
   "source": []
  },
  {
   "cell_type": "code",
   "execution_count": null,
   "id": "48a23e8e-2391-41de-8608-9b40b49cd790",
   "metadata": {
    "tags": []
   },
   "outputs": [],
   "source": [
    "# gene selection and normalization by Pearson residuals, and PCA on top\n",
    "adata.layers['counts'] = adata.X.copy()\n",
    "sc.experimental.pp.recipe_pearson_residuals(adata, batch_key = 'Sample', n_top_genes = 2000)"
   ]
  },
  {
   "cell_type": "code",
   "execution_count": null,
   "id": "764b6585-2d4e-4e7c-944a-20dc36d89b5a",
   "metadata": {
    "tags": []
   },
   "outputs": [],
   "source": [
    "sc.external.pp.harmony_integrate(adata, key = 'Sample', basis='X_pca', adjusted_basis='X_pca_harmony', max_iter_harmony = 100)"
   ]
  },
  {
   "cell_type": "code",
   "execution_count": null,
   "id": "dfc128bd-3511-4c40-9f9a-a7b0e83a334a",
   "metadata": {
    "tags": []
   },
   "outputs": [],
   "source": [
    "sc.pl.embedding(adata, basis = 'X_pca_harmony', color = 'Sample')"
   ]
  },
  {
   "cell_type": "code",
   "execution_count": null,
   "id": "61387ed5-0385-4f7c-8598-9e1c14db4ea3",
   "metadata": {
    "scrolled": true,
    "tags": []
   },
   "outputs": [],
   "source": [
    "sc.pp.neighbors(adata, n_neighbors=15, use_rep='X_pca_harmony')\n",
    "sc.tl.umap(adata)\n",
    "sc.pl.umap(adata, color = 'Sample')"
   ]
  },
  {
   "cell_type": "code",
   "execution_count": null,
   "id": "acf2d1a3-18a4-4b9f-bd7a-12804735525d",
   "metadata": {
    "tags": []
   },
   "outputs": [],
   "source": [
    "adata.write_h5ad(\"LPS_TEfamily_Itg.h5ad\")"
   ]
  },
  {
   "cell_type": "code",
   "execution_count": null,
   "id": "2ded358d-4ab3-4a00-a24b-2ef41325b508",
   "metadata": {
    "tags": []
   },
   "outputs": [],
   "source": [
    "sc.tl.leiden(adata)"
   ]
  },
  {
   "cell_type": "code",
   "execution_count": null,
   "id": "dfc4e29f-a48e-4250-a073-baab4fd8584f",
   "metadata": {
    "tags": []
   },
   "outputs": [],
   "source": [
    "adata.obsm['X_umap'][adata.obs['Sample'] == 'LPS',0] += 10"
   ]
  },
  {
   "cell_type": "markdown",
   "id": "89d1b6e4-bf31-432f-8413-05416af7d386",
   "metadata": {},
   "source": [
    "# Results"
   ]
  },
  {
   "cell_type": "code",
   "execution_count": null,
   "id": "b6c8619e-d03c-4f66-9234-e221b92cf760",
   "metadata": {
    "tags": []
   },
   "outputs": [],
   "source": [
    "sc.pl.umap(adata, color = 'leiden', legend_loc = 'on data')"
   ]
  },
  {
   "cell_type": "code",
   "execution_count": null,
   "id": "8b2326ac-1499-40de-945e-027f728021ea",
   "metadata": {
    "tags": []
   },
   "outputs": [],
   "source": [
    "adata"
   ]
  },
  {
   "cell_type": "code",
   "execution_count": null,
   "id": "076aa290-16b9-45e9-b074-0f362f423dc0",
   "metadata": {
    "tags": []
   },
   "outputs": [],
   "source": [
    "sum(adata.var['TE'])"
   ]
  },
  {
   "cell_type": "code",
   "execution_count": null,
   "id": "ec71b7f6-db54-44a0-bdb1-c8cc0ec59e52",
   "metadata": {
    "tags": []
   },
   "outputs": [],
   "source": [
    "import cosg"
   ]
  },
  {
   "cell_type": "code",
   "execution_count": null,
   "id": "351107be-21c7-4e84-be96-55e28d57bbe4",
   "metadata": {
    "tags": []
   },
   "outputs": [],
   "source": [
    "tedata = adata[:, adata.var['TE']].copy()"
   ]
  },
  {
   "cell_type": "code",
   "execution_count": null,
   "id": "2c580495-f17f-4338-ae39-217cc8ab5ad6",
   "metadata": {
    "scrolled": true,
    "tags": []
   },
   "outputs": [],
   "source": [
    "for ct in tedata.obs['leiden'].unique():\n",
    "    tmp = tedata[tedata.obs['leiden'] == ct].copy()\n",
    "    if len(tmp.obs['Sample'].unique()) == 2:\n",
    "        cosg.cosg(tmp, key_added='cosg', mu=1,expressed_pct=0.1,remove_lowly_expressed=True,\n",
    "              n_genes_user=5, groupby='Sample')\n",
    "        adata.uns[f'cosg_leiden_{ct}'] = tmp.uns['cosg']"
   ]
  },
  {
   "cell_type": "code",
   "execution_count": null,
   "id": "9acfd669-780c-4f57-858d-51e1aed7c854",
   "metadata": {
    "tags": []
   },
   "outputs": [],
   "source": [
    "cosg.cosg(adata, key_added='cosg', mu=1,expressed_pct=0.1,remove_lowly_expressed=True,\n",
    "              n_genes_user=10, groupby='leiden')"
   ]
  },
  {
   "cell_type": "code",
   "execution_count": null,
   "id": "0ce8a267-6db6-49e9-931e-76c9ddb7b6c2",
   "metadata": {
    "scrolled": true,
    "tags": []
   },
   "outputs": [],
   "source": [
    "adata.uns['cosg']"
   ]
  },
  {
   "cell_type": "code",
   "execution_count": null,
   "id": "b247f63c-a5b4-4ccf-8933-50bd38424aec",
   "metadata": {
    "tags": []
   },
   "outputs": [],
   "source": [
    "sc.pl.umap(adata, color = ['Mrc1', 'P2ry12', 'Pecam1'], vmax = 'p99')"
   ]
  },
  {
   "cell_type": "code",
   "execution_count": null,
   "id": "4525670f-a39d-4d8a-bc0e-9b4e24ee4f0b",
   "metadata": {
    "tags": []
   },
   "outputs": [],
   "source": [
    "# Macrophage\n",
    "sc.pl.violin(adata[adata.obs['leiden'].isin(['24'])], keys=['SoloTE|ERV1', 'SoloTE|LTR'], groupby='Sample')"
   ]
  },
  {
   "cell_type": "code",
   "execution_count": null,
   "id": "55a122bd-b972-4fd3-b1e3-d2be539b2af5",
   "metadata": {
    "tags": []
   },
   "outputs": [],
   "source": [
    "# Microglia\n",
    "sc.pl.violin(adata[adata.obs['leiden'].isin(['9'])], keys=['SoloTE|ERV1', 'SoloTE|LTR'], groupby='Sample')"
   ]
  },
  {
   "cell_type": "code",
   "execution_count": null,
   "id": "1b0080ca-e65c-4420-b60b-f6625b1fe726",
   "metadata": {
    "tags": []
   },
   "outputs": [],
   "source": [
    "# Endothelial\n",
    "sc.pl.violin(adata[adata.obs['leiden'].isin(['0'])], keys=['SoloTE|ERV1', 'SoloTE|LTR'], groupby='Sample')"
   ]
  },
  {
   "cell_type": "code",
   "execution_count": null,
   "id": "366b2b68-c307-4de2-825e-98d10f1e2bf9",
   "metadata": {},
   "outputs": [],
   "source": [
    "# 衰老里面和Rag1里面认为的神经元差异在这里几乎没有\n",
    "sc.pl.violin(adata[adata.obs['leiden'].isin(['12', '28', '4'])], keys=['SoloTE|L2', 'SoloTE|L1', 'SoloTE|ERVK'], groupby='Sample')"
   ]
  },
  {
   "cell_type": "code",
   "execution_count": null,
   "id": "c31a399d-d06e-497f-a6c2-2fcd8fd38d92",
   "metadata": {
    "tags": []
   },
   "outputs": [],
   "source": [
    "sc.pl.umap(adata, color = ['SoloTE|ERV1', 'SoloTE|LTR'], vmax = 'p99')"
   ]
  },
  {
   "cell_type": "code",
   "execution_count": null,
   "id": "0e149c0a-5e8c-4e65-958f-e4b87b69b399",
   "metadata": {},
   "outputs": [],
   "source": []
  },
  {
   "cell_type": "code",
   "execution_count": null,
   "id": "38749e41-fe7d-4e81-b72a-edb2e349b57d",
   "metadata": {
    "tags": []
   },
   "outputs": [],
   "source": [
    "import scanpy as sc\n",
    "import cosg\n",
    "import pandas as pd\n",
    "import numpy as np"
   ]
  },
  {
   "cell_type": "code",
   "execution_count": null,
   "id": "e296cd98-bf64-4885-be69-89e2c6ea3c3e",
   "metadata": {
    "tags": []
   },
   "outputs": [],
   "source": [
    "adata = sc.read_h5ad(\"LPS_TEfamily_Itg.h5ad\")\n",
    "adata"
   ]
  },
  {
   "cell_type": "code",
   "execution_count": null,
   "id": "1521a1dd-d70e-42e3-a468-0a2338170531",
   "metadata": {
    "tags": []
   },
   "outputs": [],
   "source": [
    "sc.tl.leiden(adata)"
   ]
  },
  {
   "cell_type": "code",
   "execution_count": null,
   "id": "cb0044ef-4aa9-4f13-975f-aeac3bb8bcf1",
   "metadata": {
    "tags": []
   },
   "outputs": [],
   "source": [
    "sc.pl.umap(adata, color = 'leiden')"
   ]
  },
  {
   "cell_type": "code",
   "execution_count": null,
   "id": "42d37769-e6df-490e-acd1-c9a9465718ef",
   "metadata": {
    "tags": []
   },
   "outputs": [],
   "source": [
    "adata.obsm['X_umap'][adata.obs['Sample'] == 'LPS',0] += 40"
   ]
  },
  {
   "cell_type": "code",
   "execution_count": null,
   "id": "d0984738-4c54-4076-93c9-7bb605799ade",
   "metadata": {
    "tags": []
   },
   "outputs": [],
   "source": [
    "sc.set_figure_params(figsize = (8,4), scanpy = False)\n",
    "sc.pl.umap(adata, color = 'leiden', size = 15)"
   ]
  },
  {
   "cell_type": "code",
   "execution_count": null,
   "id": "3ede4024-c281-4cca-a017-75abb35403c6",
   "metadata": {
    "tags": []
   },
   "outputs": [],
   "source": [
    "cosg.cosg(adata, key_added='cosg', mu=1,expressed_pct=0.1,remove_lowly_expressed=True,\n",
    "              n_genes_user=50, groupby='leiden')"
   ]
  },
  {
   "cell_type": "code",
   "execution_count": null,
   "id": "e2ae42f1-4992-435f-aac7-53517e0ac614",
   "metadata": {
    "tags": []
   },
   "outputs": [],
   "source": [
    "sc.pl.umap(adata, color = 'Camk2a', size = 15, vmax = 'p99')"
   ]
  },
  {
   "cell_type": "code",
   "execution_count": null,
   "id": "334b5b53-1a86-46d3-b124-7387701b3df3",
   "metadata": {
    "tags": []
   },
   "outputs": [],
   "source": [
    "annotation_dict = {\n",
    "    '0': 'Endothelial cells',\n",
    "    '1': 'Astrocytes',\n",
    "    '2': 'Immature neurons',\n",
    "    '3': 'Astrocytes',\n",
    "    '4': 'DG',\n",
    "    '5': 'Astrocytes',\n",
    "    '6': 'Astrocytes',\n",
    "    '7': 'Immature neurons',\n",
    "    '8': 'OPC',\n",
    "    '9': 'Microglia',\n",
    "    '10': 'Unknown',\n",
    "    '11': 'Immature neurons',\n",
    "    '12': 'CA1',\n",
    "    '13': 'Pericytes',\n",
    "    '14': 'Oligodendrocytes',\n",
    "    '15': 'Tfap2c cells',\n",
    "    '16': 'Oligodendrocytes',\n",
    "    '17': 'Reln interneurons',\n",
    "    '18': 'NSCs/NPCs',\n",
    "    '19': 'Unknown',\n",
    "    '20': 'Fibroblasts',\n",
    "    '21': 'Oligodendrocytes',\n",
    "    '22': 'Macrophage',\n",
    "    '23': 'NSCs/NPCs',\n",
    "    '24': 'Unknown',\n",
    "    '25': 'Spock1 neurons',\n",
    "    '26': 'Erythrocyte',\n",
    "    '27': 'CHOR',\n",
    "    '28': 'Gad2 interneurons',\n",
    "    '29': 'Ependymal cells',\n",
    "    '30': 'Unknown'\n",
    "}"
   ]
  },
  {
   "cell_type": "code",
   "execution_count": null,
   "id": "7bcb5472-5709-429e-ad38-72e16a258cf7",
   "metadata": {},
   "outputs": [],
   "source": []
  },
  {
   "cell_type": "code",
   "execution_count": null,
   "id": "636822fa-37a6-430f-83b6-3e4e3f44d566",
   "metadata": {
    "tags": []
   },
   "outputs": [],
   "source": [
    "with open(\"ACT.txt\", \"w\") as handle:\n",
    "    for i in df_tmp.index:\n",
    "        line = \"chuster_{}:\".format(str(i))\n",
    "        for g in df_tmp.loc[i,:]:\n",
    "            line += \"{},\".format(g)\n",
    "        handle.write(line[0:-1] + \"\\n\")"
   ]
  },
  {
   "cell_type": "code",
   "execution_count": null,
   "id": "8376cd29-cdb1-48b5-8137-b5bf7ab1d927",
   "metadata": {
    "tags": []
   },
   "outputs": [],
   "source": [
    "#sc.tl.dendrogram(adata,groupby=groupby,use_rep='X_pca')\n",
    "df_tmp=pd.DataFrame(adata.uns['cosg']['names'][:20,]).T\n",
    "#df_tmp=df_tmp.reindex(adata.uns['dendrogram_'+groupby]['categories_ordered'])\n",
    "marker_genes_list={idx: list(row.values) for idx, row in df_tmp.iterrows()}\n",
    "marker_genes_list = {k: v for k, v in marker_genes_list.items() if not any(isinstance(x, float) for x in v)}\n",
    "\n",
    "sc.pl.dotplot(adata, marker_genes_list,\n",
    "             groupby=\"leiden\",\n",
    "             dendrogram=False,\n",
    "             swap_axes=True,\n",
    "             standard_scale='var',\n",
    "             cmap='RdYlBu_r', colorbar_title='column scaled\\nexpression', var_group_rotation = 0,\n",
    "             mean_only_expressed = True, linewidth = 0, marker = \"o\")"
   ]
  },
  {
   "cell_type": "code",
   "execution_count": null,
   "id": "ece1f55e-ca30-4e17-8c73-1fdf3f4bca8f",
   "metadata": {
    "tags": []
   },
   "outputs": [],
   "source": [
    "adata.obs['cell_type'] = [annotation_dict[x] for x in adata.obs['leiden']]"
   ]
  },
  {
   "cell_type": "code",
   "execution_count": null,
   "id": "5ac314a9-0ea5-4ee6-90bc-5a3323554ce6",
   "metadata": {
    "tags": []
   },
   "outputs": [],
   "source": [
    "adata = adata[adata.obs['cell_type']!='Unknown'].copy()"
   ]
  },
  {
   "cell_type": "code",
   "execution_count": null,
   "id": "053be445-5181-4856-ab58-1853ac3858a6",
   "metadata": {
    "tags": []
   },
   "outputs": [],
   "source": [
    "sc.pl.umap(adata, color = 'cell_type')"
   ]
  },
  {
   "cell_type": "code",
   "execution_count": null,
   "id": "ddf7aa34-9378-4f47-b45c-07ab6d904261",
   "metadata": {
    "tags": []
   },
   "outputs": [],
   "source": [
    "adata.obsm['X_umap'][adata.obs['Sample'] == 'LPS',0] -= 40"
   ]
  },
  {
   "cell_type": "code",
   "execution_count": null,
   "id": "b355b445-de97-4198-ae66-e94f79b6dc51",
   "metadata": {
    "tags": []
   },
   "outputs": [],
   "source": [
    "sc.set_figure_params(figsize=(6,6), scanpy = False, dpi_save=600)\n",
    "sc.pl.umap(adata, color = 'cell_type', frameon = False, size = 30, save = \"celltype.pdf\")"
   ]
  },
  {
   "cell_type": "code",
   "execution_count": null,
   "id": "c1d21b76-d0ee-4153-8ebf-ed1deee69f9d",
   "metadata": {
    "tags": []
   },
   "outputs": [],
   "source": [
    "sc.set_figure_params(figsize=(6,6), scanpy = False, dpi_save=600)\n",
    "sc.pl.umap(adata, color = 'Sample', frameon = False, size = 30, save = \"Batch.pdf\", palette=['#0000FF', '#FF0000'])"
   ]
  },
  {
   "cell_type": "code",
   "execution_count": null,
   "id": "b07ac7ed-8531-45f9-8afa-8d5b46f5282c",
   "metadata": {
    "tags": []
   },
   "outputs": [],
   "source": [
    "adata.obsm['X_umap'][adata.obs['Sample'] == 'LPS',0] += 40"
   ]
  },
  {
   "cell_type": "code",
   "execution_count": null,
   "id": "3e3b3aee-1eaf-4ac0-8b04-c4974d627828",
   "metadata": {
    "tags": []
   },
   "outputs": [],
   "source": [
    "sc.set_figure_params(figsize=(12,6), scanpy = False, dpi_save=600)\n",
    "sc.pl.umap(adata, color = ['SoloTE|RLTR4_Mm', 'SoloTE|MMVL30-int'], frameon = False, size = 30, vmax = 'p99')"
   ]
  },
  {
   "cell_type": "code",
   "execution_count": null,
   "id": "52cbe91b-16d5-4b7f-8952-be163d69c0ca",
   "metadata": {},
   "outputs": [],
   "source": [
    "adata"
   ]
  },
  {
   "cell_type": "code",
   "execution_count": null,
   "id": "830ea9c0-7367-448a-a497-bf9ed812b0c6",
   "metadata": {
    "tags": []
   },
   "outputs": [],
   "source": [
    "tedata = adata[:, adata.var['TE']].copy()"
   ]
  },
  {
   "cell_type": "code",
   "execution_count": null,
   "id": "24141082-c18e-4d80-bae2-b037cc882fab",
   "metadata": {
    "scrolled": true,
    "tags": []
   },
   "outputs": [],
   "source": [
    "for ct in tedata.obs['leiden'].unique():\n",
    "    tmp = tedata[tedata.obs['leiden'] == ct].copy()\n",
    "    if len(tmp.obs['Sample'].unique()) == 2:\n",
    "        cosg.cosg(tmp, key_added='cosg', mu=1,expressed_pct=0.1,remove_lowly_expressed=True,\n",
    "              n_genes_user=10, groupby='Sample')\n",
    "        adata.uns[f'cosg_{ct}'] = tmp.uns['cosg']"
   ]
  },
  {
   "cell_type": "code",
   "execution_count": null,
   "id": "81b33086-f600-4b9a-a8bb-25ad01363b6b",
   "metadata": {
    "scrolled": true,
    "tags": []
   },
   "outputs": [],
   "source": [
    "adata.uns['cosg_30']"
   ]
  },
  {
   "cell_type": "code",
   "execution_count": null,
   "id": "f6fbf5f9-4784-488a-850b-29865ee2daa4",
   "metadata": {
    "tags": []
   },
   "outputs": [],
   "source": [
    "sc.pl.umap(adata, color = ['SoloTE|ERVL-MaLR'], frameon = False, size = 30, vmax = 'p99')"
   ]
  },
  {
   "cell_type": "code",
   "execution_count": null,
   "id": "4b129346-507f-4d0b-8e9f-d74a728dc897",
   "metadata": {
    "tags": []
   },
   "outputs": [],
   "source": [
    "sc.pl.umap(adata, color = ['SoloTE|LTR'], frameon = False, size = 30, vmax = 'p99')"
   ]
  },
  {
   "cell_type": "code",
   "execution_count": null,
   "id": "59aa7ac8-206c-4481-987c-53244f5c23be",
   "metadata": {
    "tags": []
   },
   "outputs": [],
   "source": [
    "sc.pl.umap(adata, color = ['SoloTE|ERV1'], frameon = False, size = 30, vmax = 'p99')"
   ]
  },
  {
   "cell_type": "code",
   "execution_count": null,
   "id": "2746ce52-5615-4093-9169-8ffef97675eb",
   "metadata": {
    "tags": []
   },
   "outputs": [],
   "source": [
    "TE_df = pd.read_table(\"/media/duan/sda2/Reference_DataBase/refdata-gex-GRCm39-2024-A/genes/mm39_rmsk.txt.gz\")"
   ]
  },
  {
   "cell_type": "code",
   "execution_count": null,
   "id": "c912a61f-1d44-433c-9ab8-3ac5c6ff7e9c",
   "metadata": {
    "tags": []
   },
   "outputs": [],
   "source": [
    "TE_df[TE_df['repName'] == 'MTEa']"
   ]
  },
  {
   "cell_type": "code",
   "execution_count": null,
   "id": "fd6371d8-64bc-4b39-acdb-78afc8192466",
   "metadata": {},
   "outputs": [],
   "source": []
  },
  {
   "cell_type": "code",
   "execution_count": null,
   "id": "d84f872e-33fc-4fa5-95f5-6bf4c5f7c11c",
   "metadata": {
    "scrolled": true,
    "tags": []
   },
   "outputs": [],
   "source": [
    "adata.uns['cosg_Endothelial cells']"
   ]
  },
  {
   "cell_type": "code",
   "execution_count": null,
   "id": "3c687bd8-e4d5-4c2e-83bb-b11767764e60",
   "metadata": {
    "tags": []
   },
   "outputs": [],
   "source": [
    "sc.pl.umap(adata, color = ['SoloTE|RLTR4_Mm', 'SoloTE|L1M3',\n",
    "                          'SoloTE|MTEa', 'SoloTE|RLTR31C_MM',\n",
    "                          'SoloTE|MER20B', 'SoloTE|RLTR4_MM-int',\n",
    "                          'SoloTE|IAPEz-int', 'SoloTE|MMVL30-int',\n",
    "                          'SoloTE|L1MB4'], frameon = False, size = 30, vmax = 'p99', ncols = 2, save = 'EC_DETE.pdf')"
   ]
  },
  {
   "cell_type": "code",
   "execution_count": null,
   "id": "984d7538-c5e5-4584-bdfa-241d8d463a24",
   "metadata": {
    "tags": []
   },
   "outputs": [],
   "source": [
    "marker_genes_list = {\n",
    "    'Endothelial cells': ['Flt1', 'Cldn5'],\n",
    "    'Astrocytes': ['Slc1a3', 'Aqp4'],\n",
    "    'Immature neurons': ['Dcx', 'Neurod1'],\n",
    "    'DG': ['C1ql3', 'C1ql2'],\n",
    "    'OPC': ['Cspg4', 'Pdgfra'],\n",
    "    'Microglia': ['Ctss', 'Csf1r'],\n",
    "    'CA1': ['Fibcd1', 'Prkcg'],\n",
    "    'Pericytes': ['Rgs5', 'Notch3'],\n",
    "    'Oligodendrocytes': ['Mog', 'Ermn'],\n",
    "    'Tfap2c cells': ['Tfap2c', 'Gas1'],\n",
    "    'Reln interneurons': ['Reln', 'Ndnf'],\n",
    "    'NSCs/NPCs': ['Top2a', 'Cdca8'],\n",
    "    'Fibroblasts': ['Col1a1', 'Dcn'],\n",
    "    'Macrophage': ['Pf4', 'Mrc1'],\n",
    "    'Spock1 neurons': ['Spock1', 'Cpne4'],\n",
    "    'Erythrocyte': ['Hba-a1', 'Hbb-bt'],\n",
    "    'CHOR': ['Prlr', 'Ttr'],\n",
    "    'Gad2 interneurons': ['Gad2', 'Slc32a1'],\n",
    "    'Ependymal cells': ['Ccdc153', 'Tmem212']\n",
    "}"
   ]
  },
  {
   "cell_type": "code",
   "execution_count": null,
   "id": "a0024e4a-452f-4b86-8550-ae6b33362643",
   "metadata": {
    "tags": []
   },
   "outputs": [],
   "source": [
    "marker_genes_list = {\n",
    "     'Astrocytes': ['Slc1a3', 'Aqp4'],'CA1': ['Fibcd1', 'Prkcg'], 'CHOR': ['Prlr', 'Ttr'], 'DG': ['C1ql3', 'C1ql2'],\n",
    "     'Endothelial cells': ['Flt1', 'Cldn5'], 'Ependymal cells': ['Ccdc153', 'Tmem212'], 'Erythrocyte': ['Hba-a1', 'Hbb-bt'],\n",
    "    'Fibroblasts': ['Col1a1', 'Dcn'],'Gad2 interneurons': ['Gad2', 'Slc32a1'], 'Immature neurons': ['Dcx', 'Neurod1'],\n",
    "     'Macrophage': ['Pf4', 'Mrc1'],'Microglia': ['Ctss', 'Csf1r'],'NSCs/NPCs': ['Top2a', 'Cdca8'], 'OPC': ['Cspg4', 'Pdgfra'],\n",
    "     'Oligodendrocytes': ['Mog', 'Ermn'],'Pericytes': ['Rgs5', 'Notch3'], 'Reln interneurons': ['Reln', 'Ndnf'],  'Spock1 neurons': ['Spock1', 'Cpne4'],\n",
    "    'Tfap2c cells': ['Tfap2c', 'Gas1'],\n",
    "}"
   ]
  },
  {
   "cell_type": "code",
   "execution_count": null,
   "id": "58b3ffac-d169-45d0-880e-0cbcc1406eab",
   "metadata": {
    "tags": []
   },
   "outputs": [],
   "source": [
    "sc.pl.dotplot(adata, marker_genes_list,\n",
    "             groupby=\"cell_type\",\n",
    "             dendrogram=False,\n",
    "             swap_axes=False,\n",
    "             standard_scale='var',\n",
    "             cmap='RdYlBu_r', colorbar_title='column scaled\\nexpression', var_group_rotation = 90,\n",
    "             mean_only_expressed = True, linewidth = 0, marker = \"o\", save = 'cell_type.pdf')"
   ]
  },
  {
   "cell_type": "code",
   "execution_count": null,
   "id": "ce940815-2b72-4b87-8a23-6a8b1a01ab29",
   "metadata": {
    "tags": []
   },
   "outputs": [],
   "source": [
    "adata.write_h5ad(\"LPS_TEsubfamily_Itg_anno.h5ad\")"
   ]
  },
  {
   "cell_type": "code",
   "execution_count": null,
   "id": "9fede760-3bae-4d7f-aae5-71c85ed60266",
   "metadata": {},
   "outputs": [],
   "source": [
    "adata = sc.read_h5ad(\"LPS_TEsubfamily_Itg_anno.h5ad\")"
   ]
  },
  {
   "cell_type": "code",
   "execution_count": null,
   "id": "132c733e-9583-4003-a5a6-fa85556c870d",
   "metadata": {
    "tags": []
   },
   "outputs": [],
   "source": [
    "sc.pl.umap(adata, color = 'SoloTE|RLTR4_Mm', vmax = 'p99')"
   ]
  },
  {
   "cell_type": "code",
   "execution_count": null,
   "id": "01ae1277-6e41-4c5f-beb9-28f788eebf01",
   "metadata": {
    "tags": []
   },
   "outputs": [],
   "source": [
    "sc.pl.umap(adata, color = 'SoloTE|RLTR4_MM-int', vmax = 'p99')"
   ]
  },
  {
   "cell_type": "code",
   "execution_count": null,
   "id": "75ba3be2-bd58-413c-8c52-28d3ee28960a",
   "metadata": {},
   "outputs": [],
   "source": [
    "import scanpy as sc"
   ]
  },
  {
   "cell_type": "code",
   "execution_count": null,
   "id": "2668d567-d7b6-4caa-b2eb-e13a3339eb39",
   "metadata": {
    "tags": []
   },
   "outputs": [],
   "source": [
    "adata = sc.read_h5ad(\"LPS_TEsubfamily_Itg_anno.h5ad\")\n",
    "adata"
   ]
  },
  {
   "cell_type": "code",
   "execution_count": null,
   "id": "ab795297-f135-441a-83de-7c8750d04db5",
   "metadata": {
    "tags": []
   },
   "outputs": [],
   "source": [
    "del adata.varm\n",
    "del adata.layers\n",
    "del adata.obsp"
   ]
  },
  {
   "cell_type": "code",
   "execution_count": null,
   "id": "fb48f9bb-3127-4661-900f-59c4031a093a",
   "metadata": {
    "tags": []
   },
   "outputs": [],
   "source": [
    "adata"
   ]
  },
  {
   "cell_type": "code",
   "execution_count": null,
   "id": "5c217c29-84e0-4a79-bb3a-d5fe4b72a57d",
   "metadata": {
    "tags": []
   },
   "outputs": [],
   "source": [
    "import numpy as np\n",
    "from tqdm import tqdm\n",
    "from scipy.sparse import csr_matrix"
   ]
  },
  {
   "cell_type": "code",
   "execution_count": null,
   "id": "2d4fdb12-03b2-4c85-91be-0c5beb886a39",
   "metadata": {
    "tags": []
   },
   "outputs": [],
   "source": [
    "tmp = adata.X.toarray()\n",
    "tmp_q = np.percentile(tmp, 99, axis = 0)\n",
    "for i in tqdm(range(len(tmp_q))):\n",
    "    tmp[tmp[:,i] >= tmp_q[i], i] = tmp_q[i]"
   ]
  },
  {
   "cell_type": "code",
   "execution_count": null,
   "id": "9be08a43-2604-4757-be7e-5f899daf7f95",
   "metadata": {
    "tags": []
   },
   "outputs": [],
   "source": [
    "adata.X = csr_matrix(tmp)"
   ]
  },
  {
   "cell_type": "code",
   "execution_count": null,
   "id": "6a70ef23-77c4-48e1-84ea-79d910a97faa",
   "metadata": {
    "tags": []
   },
   "outputs": [],
   "source": [
    "sc.pl.umap(adata, color = 'SoloTE|MMVL30-int')"
   ]
  },
  {
   "cell_type": "code",
   "execution_count": null,
   "id": "bd0b4bb0-b0bc-4c6d-bf32-ac6948dc4fe1",
   "metadata": {
    "tags": []
   },
   "outputs": [],
   "source": [
    "del adata.uns['pearson_residuals_normalization']"
   ]
  },
  {
   "cell_type": "code",
   "execution_count": null,
   "id": "d152ae3a-1444-4b95-966b-7cd2094a8ad8",
   "metadata": {
    "tags": []
   },
   "outputs": [],
   "source": [
    "adata.write_h5ad(\"LPS_TEsubfamily_Itg_cirro.h5ad\")"
   ]
  },
  {
   "cell_type": "code",
   "execution_count": null,
   "id": "1c5c8a6c-fa05-4dd9-b40a-9121826f9a01",
   "metadata": {
    "tags": []
   },
   "outputs": [],
   "source": [
    "adata"
   ]
  },
  {
   "cell_type": "code",
   "execution_count": null,
   "id": "f2d61c6c-fe02-4cf8-a5ad-31681dfd3098",
   "metadata": {},
   "outputs": [],
   "source": []
  },
  {
   "cell_type": "markdown",
   "id": "4aee3715-28d2-41ce-9c31-aa953137658e",
   "metadata": {},
   "source": [
    "## Only use gene for clustering"
   ]
  },
  {
   "cell_type": "code",
   "execution_count": null,
   "id": "adda217e-ce0a-46e5-b1e5-0265c8cf91be",
   "metadata": {
    "tags": []
   },
   "outputs": [],
   "source": [
    "adata.obs_names_make_unique()\n",
    "adata.var[\"TE\"] = adata.var_names.str.startswith((\"SoloTE\"))\n",
    "\n",
    "BACKUP = adata.copy()\n",
    "adata = adata[:, ~adata.var['TE']].copy()"
   ]
  },
  {
   "cell_type": "code",
   "execution_count": null,
   "id": "1f4b5782-d71a-4bfc-9d92-42e54ce19ae9",
   "metadata": {
    "tags": []
   },
   "outputs": [],
   "source": [
    "adata.var[\"mt\"] = adata.var_names.str.startswith(\"mt-\")\n",
    "# ribosomal genes\n",
    "adata.var[\"ribo\"] = adata.var_names.str.startswith((\"Rps\", \"Rpl\"))\n",
    "# hemoglobin genes\n",
    "adata.var[\"hb\"] = adata.var_names.str.contains(\"^Hb[^(p)]\")\n",
    "\n",
    "sc.pp.calculate_qc_metrics(\n",
    "    adata, qc_vars=[\"mt\", \"ribo\", \"hb\"], inplace=True, log1p=True\n",
    ")"
   ]
  },
  {
   "cell_type": "code",
   "execution_count": null,
   "id": "9da730dc-7451-4554-b0a8-78159fd5b9c7",
   "metadata": {
    "tags": []
   },
   "outputs": [],
   "source": [
    "sc.pl.violin(\n",
    "    adata,\n",
    "    [\"n_genes_by_counts\", \"total_counts\", \"pct_counts_mt\", \"pct_counts_ribo\",\"pct_counts_hb\"],\n",
    "    jitter=0.4,\n",
    "    multi_panel=True,\n",
    ")"
   ]
  },
  {
   "cell_type": "code",
   "execution_count": null,
   "id": "6f255d61-7e9f-4f6a-8dff-c8b7260224e6",
   "metadata": {
    "tags": []
   },
   "outputs": [],
   "source": [
    "adata = adata[adata.obs.pct_counts_mt < 20, :].copy()\n",
    "adata = adata[adata.obs.pct_counts_hb < 5, :].copy()\n",
    "adata = adata[adata.obs.pct_counts_ribo < 20, :].copy()\n",
    "sc.pp.filter_cells(adata, min_counts=300)\n",
    "sc.pp.filter_cells(adata, max_counts=60000)\n",
    "sc.pp.filter_cells(adata, max_genes = 8000)\n",
    "sc.pp.filter_cells(adata, min_genes=100)\n",
    "adata"
   ]
  },
  {
   "cell_type": "code",
   "execution_count": null,
   "id": "2c34bf93-24f9-43ac-888e-14c2cfd7a902",
   "metadata": {
    "tags": []
   },
   "outputs": [],
   "source": [
    "# gene selection and normalization by Pearson residuals, and PCA on top\n",
    "adata.layers['counts'] = adata.X.copy()\n",
    "sc.experimental.pp.recipe_pearson_residuals(adata, batch_key = 'Sample', n_top_genes = 2000)"
   ]
  },
  {
   "cell_type": "code",
   "execution_count": null,
   "id": "e9a81c68-c2ce-44e2-8aff-11abdb80e643",
   "metadata": {
    "tags": []
   },
   "outputs": [],
   "source": [
    "sc.external.pp.harmony_integrate(adata, key = 'Sample', basis='X_pca', adjusted_basis='X_pca_harmony', max_iter_harmony = 100)"
   ]
  },
  {
   "cell_type": "code",
   "execution_count": null,
   "id": "01eb67e3-81f6-4deb-b0e5-313f1d4be88e",
   "metadata": {
    "tags": []
   },
   "outputs": [],
   "source": [
    "sc.pl.embedding(adata, basis = 'X_pca_harmony', color = 'Sample')"
   ]
  },
  {
   "cell_type": "code",
   "execution_count": null,
   "id": "33bbf458-3694-4132-9ef5-bfe1108f9b76",
   "metadata": {
    "scrolled": true,
    "tags": []
   },
   "outputs": [],
   "source": [
    "sc.pp.neighbors(adata, n_neighbors=15, use_rep='X_pca_harmony')\n",
    "sc.tl.umap(adata)\n",
    "sc.pl.umap(adata, color = 'Sample')"
   ]
  },
  {
   "cell_type": "code",
   "execution_count": null,
   "id": "61291840-a8b0-4100-b883-81514a63b79d",
   "metadata": {
    "tags": []
   },
   "outputs": [],
   "source": [
    "sc.tl.leiden(adata)"
   ]
  },
  {
   "cell_type": "code",
   "execution_count": null,
   "id": "f81434af-ab1e-433f-b1b0-0af8a1c2f56f",
   "metadata": {
    "tags": []
   },
   "outputs": [],
   "source": [
    "sc.pl.umap(adata, color = ['Ptprb', 'leiden'])"
   ]
  },
  {
   "cell_type": "code",
   "execution_count": null,
   "id": "345925b1-9422-4d36-a2f8-51052be05911",
   "metadata": {
    "tags": []
   },
   "outputs": [],
   "source": [
    "adata.obsm['X_umap'][adata.obs['Sample'] == 'LPS',0] += 10\n",
    "sc.pl.umap(adata, color = ['Sample'])"
   ]
  },
  {
   "cell_type": "markdown",
   "id": "57da0d49-c426-4644-b236-4c535514e3f4",
   "metadata": {},
   "source": [
    "## 然后把TE合并回来，这一次只用TE，且只保留前2000 highly variable"
   ]
  },
  {
   "cell_type": "code",
   "execution_count": null,
   "id": "96ac8f9c-b88e-4bc4-8f13-1f315cb45feb",
   "metadata": {
    "tags": []
   },
   "outputs": [],
   "source": [
    "BACKUP[adata.obs_names, ]"
   ]
  },
  {
   "cell_type": "code",
   "execution_count": null,
   "id": "78560274-399b-4162-a461-4504107d03a4",
   "metadata": {
    "tags": []
   },
   "outputs": [],
   "source": [
    "adata"
   ]
  },
  {
   "cell_type": "code",
   "execution_count": null,
   "id": "59cdd88b-2f7c-4e38-98e4-9e3fc09ae678",
   "metadata": {
    "tags": []
   },
   "outputs": [],
   "source": [
    "new_adata = BACKUP[adata.obs_names, :].copy()\n",
    "new_adata.obs = adata.obs\n",
    "new_adata.obsm = adata.obsm"
   ]
  },
  {
   "cell_type": "code",
   "execution_count": null,
   "id": "bbca1f2f-76d3-4631-8bfc-8b3f98151175",
   "metadata": {
    "tags": []
   },
   "outputs": [],
   "source": [
    "adata = new_adata.copy()"
   ]
  },
  {
   "cell_type": "code",
   "execution_count": null,
   "id": "a6d2dcfe-ebec-4074-9bc7-6b198c2a4c6f",
   "metadata": {
    "tags": []
   },
   "outputs": [],
   "source": [
    "from scipy.sparse import csr_matrix\n",
    "adata.layers['counts'] = adata.X.copy()"
   ]
  },
  {
   "cell_type": "code",
   "execution_count": null,
   "id": "6f221abe-b2af-4c68-9cc5-536223c23e0a",
   "metadata": {
    "tags": []
   },
   "outputs": [],
   "source": [
    "adata = adata[:, adata.var['TE']].copy()"
   ]
  },
  {
   "cell_type": "code",
   "execution_count": null,
   "id": "1529ff26-1250-4a17-8c6d-29040d5d42ab",
   "metadata": {
    "tags": []
   },
   "outputs": [],
   "source": [
    "sc.experimental.pp.highly_variable_genes(adata, n_top_genes = 2000, batch_key='Sample')"
   ]
  },
  {
   "cell_type": "code",
   "execution_count": null,
   "id": "d9294cbf-ad3c-49dc-84c8-20b74fcd92bb",
   "metadata": {
    "tags": []
   },
   "outputs": [],
   "source": [
    "adata = adata[:, adata.var['highly_variable']].copy()"
   ]
  },
  {
   "cell_type": "code",
   "execution_count": null,
   "id": "6e3ca3c5-e298-4d06-aead-ac939516d766",
   "metadata": {
    "tags": []
   },
   "outputs": [],
   "source": [
    "# Freeman-Tukey (FT) transform\n",
    "adata.X = csr_matrix(np.sqrt(adata.X.toarray()) + np.sqrt(adata.X.toarray() + 1))"
   ]
  },
  {
   "cell_type": "markdown",
   "id": "c06717fa-c5d0-4a9a-88e3-6182246892dc",
   "metadata": {},
   "source": [
    "## 进行差异分析"
   ]
  },
  {
   "cell_type": "code",
   "execution_count": null,
   "id": "a451c039-1513-4e1b-9d95-e43af10e2a32",
   "metadata": {
    "tags": []
   },
   "outputs": [],
   "source": [
    "sc.set_figure_params(figsize=(10,5), scanpy = False)\n",
    "sc.pl.umap(adata, color = 'leiden', size = 20)"
   ]
  },
  {
   "cell_type": "code",
   "execution_count": null,
   "id": "ff20fbe2-f2fd-4674-b8cc-ea780d925e62",
   "metadata": {
    "tags": []
   },
   "outputs": [],
   "source": [
    "import cosg"
   ]
  },
  {
   "cell_type": "code",
   "execution_count": null,
   "id": "2cf1e2a9-c7a0-4f16-904e-c66f2561985d",
   "metadata": {
    "scrolled": true,
    "tags": []
   },
   "outputs": [],
   "source": [
    "for ct in adata.obs['leiden'].unique():\n",
    "    tmp = adata[adata.obs['leiden'] == ct].copy()\n",
    "    if len(tmp.obs['Sample'].unique()) == 2:\n",
    "        cosg.cosg(tmp, key_added='cosg', mu=1,expressed_pct=0.1,remove_lowly_expressed=True,\n",
    "              n_genes_user=50, groupby='Sample')\n",
    "        adata.uns[f'cosg_leiden_{ct}'] = tmp.uns['cosg']"
   ]
  },
  {
   "cell_type": "markdown",
   "id": "e34b9fe1-8ad3-4609-ab9d-20f210446f70",
   "metadata": {},
   "source": [
    "### Endothelial"
   ]
  },
  {
   "cell_type": "code",
   "execution_count": null,
   "id": "1bccbecb-d8ed-4d99-9d42-f92aad63839b",
   "metadata": {
    "tags": []
   },
   "outputs": [],
   "source": [
    "sc.pl.umap(adata, color = 'SoloTE|chr5|105249814|105250057|MTEa:ERVL-MaLR:LTR|27.3|+', size = 20)"
   ]
  },
  {
   "cell_type": "code",
   "execution_count": null,
   "id": "6185b55a-060b-4e5e-8620-bb9a48f43d8b",
   "metadata": {
    "tags": []
   },
   "outputs": [],
   "source": [
    "sc.pl.umap(adata, color = 'SoloTE|chr5|105249273|105249812|L1M3:L1:LINE|30.0|+', size = 20)"
   ]
  },
  {
   "cell_type": "code",
   "execution_count": null,
   "id": "a83cea06-7d39-4f04-8eba-958f069a5ea7",
   "metadata": {
    "tags": []
   },
   "outputs": [],
   "source": [
    "sc.pl.umap(adata, color = 'SoloTE|chr5|105250070|105250149|RLTR31C_MM:ERVK:LTR|10.3|+', size = 20)"
   ]
  },
  {
   "cell_type": "code",
   "execution_count": null,
   "id": "91b9148c-bd3b-4096-9e14-87fea4f2fe51",
   "metadata": {
    "tags": []
   },
   "outputs": [],
   "source": [
    "sc.pl.umap(adata, color = 'SoloTE|chr18|60516527|60517104|Lx8:L1:LINE|26.9|-', size = 20)"
   ]
  },
  {
   "cell_type": "code",
   "execution_count": null,
   "id": "8fb6befa-1040-41dd-bdb7-720225af10fe",
   "metadata": {},
   "outputs": [],
   "source": [
    "# 0: Endo\n",
    "# 8: Microglia\n",
    "# 23: Macrophage\n",
    "# 22: Fibroblasts"
   ]
  },
  {
   "cell_type": "markdown",
   "id": "32b64d09-5e4c-4643-a24a-d3ef6a9daeb8",
   "metadata": {},
   "source": [
    "### Microglia"
   ]
  },
  {
   "cell_type": "code",
   "execution_count": null,
   "id": "7034fc56-1cdc-4feb-bfea-0da831b15ba9",
   "metadata": {
    "tags": []
   },
   "outputs": [],
   "source": [
    "sc.pl.umap(adata, color = 'SoloTE|chr13|55334594|55335474|RLTR4_MM-int:LTR:LTR|31.6|+', size = 20, vmax = 'p99.9')"
   ]
  },
  {
   "cell_type": "code",
   "execution_count": null,
   "id": "a6cc9896-b4bf-442b-9079-f12b4d509ddf",
   "metadata": {
    "tags": []
   },
   "outputs": [],
   "source": [
    "sc.pl.umap(adata, color = 'SoloTE|chr11|83555632|83555906|L1MdV_I:L1:LINE|11.0|+', size = 20, vmax = 'p99.9')"
   ]
  },
  {
   "cell_type": "code",
   "execution_count": null,
   "id": "386fa8a5-f87b-4cbe-a7ac-a6b4100aa6ea",
   "metadata": {
    "tags": []
   },
   "outputs": [],
   "source": [
    "sc.pl.umap(adata, color = 'SoloTE|chr2|90278726|90279258|L1MdF_IV:L1:LINE|6.5|+', size = 20, vmax = 'p99.9')"
   ]
  },
  {
   "cell_type": "code",
   "execution_count": null,
   "id": "f88d7624-ce64-4a09-963c-992bdfe0566d",
   "metadata": {
    "tags": []
   },
   "outputs": [],
   "source": [
    "sc.pl.umap(adata, color = 'SoloTE|chr13|55335474|55335696|MMVL30-int:ERV1:LTR|.9|+', size = 20, vmax = 'p99.9')"
   ]
  },
  {
   "cell_type": "code",
   "execution_count": null,
   "id": "25f3fbcf-c60f-404b-944d-232885e07c7f",
   "metadata": {
    "tags": []
   },
   "outputs": [],
   "source": [
    "sc.pl.umap(adata, color = 'SoloTE|chr6|31779939|31781206|IAPEz-int:ERVK:LTR|8.9|-', size = 20, vmax = 'p99.9')"
   ]
  },
  {
   "cell_type": "markdown",
   "id": "89c2601c-1e5d-4fb7-aa20-0fe4d6c5c8f8",
   "metadata": {},
   "source": [
    "### Macrophage"
   ]
  },
  {
   "cell_type": "code",
   "execution_count": null,
   "id": "a538ae53-370f-47d8-a858-61983abfa8cb",
   "metadata": {
    "tags": []
   },
   "outputs": [],
   "source": [
    "sc.pl.umap(adata, color = 'SoloTE|chr13|55334594|55335474|RLTR4_MM-int:LTR:LTR|31.6|+', size = 20, vmax = 'p99.9')"
   ]
  },
  {
   "cell_type": "code",
   "execution_count": null,
   "id": "9443a114-5b3c-4b05-a95e-79ce684c9a98",
   "metadata": {
    "tags": []
   },
   "outputs": [],
   "source": [
    "sc.pl.umap(adata, color = 'SoloTE|chr2|75472715|75473289|RLTR6_Mm:ERV1:LTR|3.9|+', size = 20, vmax = 'p99.9')"
   ]
  },
  {
   "cell_type": "code",
   "execution_count": null,
   "id": "42e6b3f4-57ba-4547-a4bb-95c7dce9809b",
   "metadata": {
    "tags": []
   },
   "outputs": [],
   "source": [
    "sc.pl.umap(adata, color = 'SoloTE|chr2|75470991|75471717|RLTR4_MM-int:LTR:LTR|34.5|+', size = 20, vmax = 'p99.9')"
   ]
  },
  {
   "cell_type": "code",
   "execution_count": null,
   "id": "e1674e17-ce47-4f32-aa14-1435b16d0c85",
   "metadata": {
    "tags": []
   },
   "outputs": [],
   "source": [
    "sc.pl.umap(adata, color = 'SoloTE|chr11|83555632|83555906|L1MdV_I:L1:LINE|11.0|+', size = 20, vmax = 'p99.9')"
   ]
  },
  {
   "cell_type": "code",
   "execution_count": null,
   "id": "ba3bfde9-909c-4c20-b12f-f985d7530ddd",
   "metadata": {
    "tags": []
   },
   "outputs": [],
   "source": [
    "sc.pl.umap(adata, color = 'SoloTE|chr2|75471717|75471888|MMVL30-int:ERV1:LTR|1.8|+', size = 20, vmax = 'p99.9')"
   ]
  },
  {
   "cell_type": "code",
   "execution_count": null,
   "id": "9c938811-73a4-4127-b558-be5cc273933e",
   "metadata": {
    "tags": []
   },
   "outputs": [],
   "source": [
    "sc.pl.umap(adata, color = 'SoloTE|chr13|55335474|55335696|MMVL30-int:ERV1:LTR|.9|+', size = 20, vmax = 'p99.9')"
   ]
  },
  {
   "cell_type": "code",
   "execution_count": null,
   "id": "0977fc9a-266a-4790-bb7e-3749550db65e",
   "metadata": {
    "tags": []
   },
   "outputs": [],
   "source": [
    "sc.pl.umap(adata, color = 'SoloTE|chr2|75469015|75470605|MMVL30-int:ERV1:LTR|4.1|+', size = 20, vmax = 'p99.9')"
   ]
  },
  {
   "cell_type": "code",
   "execution_count": null,
   "id": "5b3a5ed2-06c2-45c8-b80a-018f77456a78",
   "metadata": {
    "tags": []
   },
   "outputs": [],
   "source": [
    "sc.pl.umap(adata, color = 'SoloTE|chr2|75471888|75472595|RLTR4_MM-int:LTR:LTR|33.2|+', size = 20, vmax = 'p99.9')"
   ]
  },
  {
   "cell_type": "code",
   "execution_count": null,
   "id": "d49a3520-aced-4023-8546-56d1069b1acf",
   "metadata": {
    "tags": []
   },
   "outputs": [],
   "source": [
    "sc.pl.umap(adata, color = 'SoloTE|chr2|164266546|164266658|MER3:hAT-Charlie:DNA|30.4|+', size = 20, vmax = 'p99.9')"
   ]
  },
  {
   "cell_type": "markdown",
   "id": "738c5a41-5841-4b4d-a52a-792adc9db49b",
   "metadata": {},
   "source": [
    "### Fibroblast"
   ]
  },
  {
   "cell_type": "code",
   "execution_count": null,
   "id": "395f9f78-cd92-4061-86ad-a562f3d4e89b",
   "metadata": {
    "tags": []
   },
   "outputs": [],
   "source": [
    "sc.pl.umap(adata, color = 'SoloTE|chr2|75472715|75473289|RLTR6_Mm:ERV1:LTR|3.9|+', size = 20, vmax = 'p99.9')"
   ]
  },
  {
   "cell_type": "code",
   "execution_count": null,
   "id": "a39939e3-eed1-4a04-9fd6-c122d87c9c01",
   "metadata": {
    "tags": []
   },
   "outputs": [],
   "source": [
    "sc.pl.umap(adata, color = 'SoloTE|chr2|75469015|75470605|MMVL30-int:ERV1:LTR|4.1|+', size = 20, vmax = 'p99.9')"
   ]
  },
  {
   "cell_type": "code",
   "execution_count": null,
   "id": "3c57a97e-d447-4b73-8e41-f347b69936c6",
   "metadata": {
    "tags": []
   },
   "outputs": [],
   "source": [
    "sc.pl.umap(adata, color = 'SoloTE|chr2|75471717|75471888|MMVL30-int:ERV1:LTR|1.8|+', size = 20, vmax = 'p99.9')"
   ]
  },
  {
   "cell_type": "code",
   "execution_count": null,
   "id": "9eb541a4-6c7f-46da-bf0e-8c92de31f434",
   "metadata": {
    "tags": []
   },
   "outputs": [],
   "source": [
    "sc.pl.umap(adata, color = 'SoloTE|chr2|75470991|75471717|RLTR4_MM-int:LTR:LTR|34.5|+', size = 20, vmax = 'p99.9')"
   ]
  },
  {
   "cell_type": "code",
   "execution_count": null,
   "id": "6b796f9c-e5ad-43e9-a3a0-576ae7f4fff0",
   "metadata": {
    "tags": []
   },
   "outputs": [],
   "source": [
    "sc.pl.umap(adata, color = 'SoloTE|chr5|142990803|142991508|IAPEz-int:ERVK:LTR|12.9|+', size = 20, vmax = 'p99.9')"
   ]
  },
  {
   "cell_type": "code",
   "execution_count": null,
   "id": "fe8addf6-aeef-4117-8610-89d429066a3f",
   "metadata": {
    "tags": []
   },
   "outputs": [],
   "source": [
    "sc.pl.umap(adata, color = 'SoloTE|chr10|4258075|4258217|B1_Mus1:Alu:SINE|7.0|-', size = 20, vmax = 'p99.9')"
   ]
  },
  {
   "cell_type": "code",
   "execution_count": null,
   "id": "1c4dfa49-9150-4958-bbe5-2087988254d6",
   "metadata": {
    "tags": []
   },
   "outputs": [],
   "source": [
    "sc.pl.umap(adata, color = 'SoloTE|chr10|4270793|4270950|RSINE1:B4:SINE|32.7|-', size = 20, vmax = 'p99.9')"
   ]
  },
  {
   "cell_type": "code",
   "execution_count": null,
   "id": "acf4b2a0-1c3c-429f-a73f-14401527eac2",
   "metadata": {
    "tags": []
   },
   "outputs": [],
   "source": [
    "new_adata.write_h5ad('LPS_TElocus_annotated_raw.h5ad')"
   ]
  }
 ],
 "metadata": {
  "kernelspec": {
   "display_name": "Python [conda env:python3.10]",
   "language": "python",
   "name": "conda-env-python3.10-py"
  },
  "language_info": {
   "codemirror_mode": {
    "name": "ipython",
    "version": 3
   },
   "file_extension": ".py",
   "mimetype": "text/x-python",
   "name": "python",
   "nbconvert_exporter": "python",
   "pygments_lexer": "ipython3",
   "version": "3.10.9"
  }
 },
 "nbformat": 4,
 "nbformat_minor": 5
}
