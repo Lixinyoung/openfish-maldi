{
 "cells": [
  {
   "cell_type": "code",
   "execution_count": null,
   "id": "399e7725-99e4-4d9e-bd68-6916f8eece49",
   "metadata": {
    "tags": []
   },
   "outputs": [],
   "source": [
    "import scanpy as sc\n",
    "import numpy as np\n",
    "import pandas as pd\n",
    "from spatialdata import read_zarr"
   ]
  },
  {
   "cell_type": "markdown",
   "id": "a8d83314-f28d-4ca0-b548-1e1e2a517d38",
   "metadata": {
    "jp-MarkdownHeadingCollapsed": true,
    "tags": []
   },
   "source": [
    "## LPS_10"
   ]
  },
  {
   "cell_type": "code",
   "execution_count": null,
   "id": "fe63fff1-e640-480f-9697-c71809073c78",
   "metadata": {
    "tags": []
   },
   "outputs": [],
   "source": [
    "Sample = 'LPS_10'"
   ]
  },
  {
   "cell_type": "code",
   "execution_count": null,
   "id": "34d43e8e-d394-4e5e-ae3c-9e5f7e374da6",
   "metadata": {
    "scrolled": true,
    "tags": []
   },
   "outputs": [],
   "source": [
    "sdata = read_zarr(f\"./{Sample}/raw_sdata.zarr\")\n",
    "sdata"
   ]
  },
  {
   "cell_type": "code",
   "execution_count": null,
   "id": "27b8f4a3-75a8-46ac-ab3b-3c2927817d5d",
   "metadata": {
    "tags": []
   },
   "outputs": [],
   "source": [
    "areas = []\n",
    "for pg in sdata.shapes[\"MultiModel\"][\"geometry\"]:\n",
    "    areas.append(pg.area)"
   ]
  },
  {
   "cell_type": "code",
   "execution_count": null,
   "id": "436794a2-1225-44df-9667-d741ca5e028a",
   "metadata": {
    "tags": []
   },
   "outputs": [],
   "source": [
    "adata = sdata.tables['table'].copy()\n",
    "adata"
   ]
  },
  {
   "cell_type": "code",
   "execution_count": null,
   "id": "fff952cc-969f-4666-a9e3-622e150c320a",
   "metadata": {
    "tags": []
   },
   "outputs": [],
   "source": [
    "adata.obs['area'] = areas\n",
    "adata.obs"
   ]
  },
  {
   "cell_type": "code",
   "execution_count": null,
   "id": "429346a2-8cd6-4b01-8a8c-cdf2eb7aa91b",
   "metadata": {
    "tags": []
   },
   "outputs": [],
   "source": [
    "import pandas as pd"
   ]
  },
  {
   "cell_type": "code",
   "execution_count": null,
   "id": "76ad5373-085f-4409-aa31-45718be8a784",
   "metadata": {
    "tags": []
   },
   "outputs": [],
   "source": [
    "NP_Pad = pd.read_csv(\"/media/duan/DuanLab_Data/openFISH/TE/NP_Fold_V58_TE.csv\", index_col=0)"
   ]
  },
  {
   "cell_type": "code",
   "execution_count": null,
   "id": "f65d12a9-40cb-4813-aaea-74f33cb8572f",
   "metadata": {
    "tags": []
   },
   "outputs": [],
   "source": [
    "adata.obsm['spatial'] = adata.obs[['x', 'y']].to_numpy()"
   ]
  },
  {
   "cell_type": "code",
   "execution_count": null,
   "id": "3b96fc30-186c-4d06-8bf6-f50c3737b581",
   "metadata": {
    "tags": []
   },
   "outputs": [],
   "source": [
    "sc.set_figure_params(figsize = (6,6), scanpy = False)\n",
    "sc.pl.embedding(adata, basis = 'spatial', color = 'Cck', size = 10)"
   ]
  },
  {
   "cell_type": "code",
   "execution_count": null,
   "id": "d1390dfc-aef2-457a-a3f8-3c56349e8dea",
   "metadata": {
    "tags": []
   },
   "outputs": [],
   "source": [
    "adata.obsm[\"spatial\"][:,1] =  0 - adata.obsm[\"spatial\"][:,1]\n",
    "sc.pl.embedding(adata, basis = 'spatial', color = 'Cck', size = 10)"
   ]
  },
  {
   "cell_type": "code",
   "execution_count": null,
   "id": "9c01b40b-d2a5-4f7c-a26e-4fb2479e4c0f",
   "metadata": {
    "tags": []
   },
   "outputs": [],
   "source": [
    "tmpmatrix = adata.to_df().copy()"
   ]
  },
  {
   "cell_type": "code",
   "execution_count": null,
   "id": "cac80e52-47a7-4aca-9f74-e0a819d35b9f",
   "metadata": {
    "tags": []
   },
   "outputs": [],
   "source": [
    "tmpmatrix = tmpmatrix.astype('float32')"
   ]
  },
  {
   "cell_type": "code",
   "execution_count": null,
   "id": "05122389-241e-44ec-8d4a-a731a51bebaf",
   "metadata": {
    "scrolled": true,
    "tags": []
   },
   "outputs": [],
   "source": [
    "import numpy as np\n",
    "\n",
    "for col in tmpmatrix.columns:\n",
    "    # tmpmatrix.loc[:,col] = tmpmatrix.loc[:,col] * np.log2(NP_Pad.loc[col, 'Fold'] + 1)\n",
    "    tmpmatrix.loc[:,col] = tmpmatrix.loc[:,col] * NP_Pad.loc[col, 'Fold']"
   ]
  },
  {
   "cell_type": "code",
   "execution_count": null,
   "id": "8f4652f7-cccb-4143-8338-73d78e7d30b2",
   "metadata": {
    "tags": []
   },
   "outputs": [],
   "source": [
    "from scipy.sparse import csr_matrix"
   ]
  },
  {
   "cell_type": "code",
   "execution_count": null,
   "id": "065ff42d-721d-4aab-9dbd-031d7fd8bf10",
   "metadata": {
    "tags": []
   },
   "outputs": [],
   "source": [
    "adata.layers['counts'] = adata.X.copy()\n",
    "adata.X = csr_matrix(tmpmatrix)\n",
    "adata.layers['counts_corrected'] = adata.X.copy()"
   ]
  },
  {
   "cell_type": "code",
   "execution_count": null,
   "id": "77d77383-e039-4fcd-a5ca-814c2bc97b7f",
   "metadata": {
    "tags": []
   },
   "outputs": [],
   "source": [
    "adata"
   ]
  },
  {
   "cell_type": "code",
   "execution_count": null,
   "id": "4a54f3f2-3f52-4869-969d-f0b3250f3961",
   "metadata": {},
   "outputs": [],
   "source": [
    "adata.var[\"FP\"] = adata.var_names.str.startswith(\"sFP\")"
   ]
  },
  {
   "cell_type": "code",
   "execution_count": null,
   "id": "c21e8770-473c-4a74-b510-e40e99b59f55",
   "metadata": {
    "tags": []
   },
   "outputs": [],
   "source": [
    "sc.pp.calculate_qc_metrics(\n",
    "    adata, inplace=True, log1p=True, percent_top=None,qc_vars=[\"FP\"]\n",
    ")"
   ]
  },
  {
   "cell_type": "code",
   "execution_count": null,
   "id": "f0ea6419-f09e-4746-9c17-74b7f10b48e0",
   "metadata": {
    "tags": []
   },
   "outputs": [],
   "source": [
    "sc.pl.violin(\n",
    "    adata,\n",
    "    [\"n_genes_by_counts\", \"total_counts\", 'pct_counts_FP'],\n",
    "    jitter=0.4,\n",
    "    multi_panel=True,\n",
    ")"
   ]
  },
  {
   "cell_type": "code",
   "execution_count": null,
   "id": "19666555-75ad-46cf-9df9-6b5695253eaa",
   "metadata": {
    "tags": []
   },
   "outputs": [],
   "source": [
    "import numpy as np\n",
    "from tqdm import tqdm"
   ]
  },
  {
   "cell_type": "code",
   "execution_count": null,
   "id": "df4d6b8f-bc2b-41c6-be43-de1856595180",
   "metadata": {
    "tags": []
   },
   "outputs": [],
   "source": [
    "adata"
   ]
  },
  {
   "cell_type": "code",
   "execution_count": null,
   "id": "0005ccaa-d55a-4920-bd80-df634974d09e",
   "metadata": {
    "tags": []
   },
   "outputs": [],
   "source": [
    "adata.obs['total_counts'].mean()"
   ]
  },
  {
   "cell_type": "code",
   "execution_count": null,
   "id": "448cf885-2d98-4f9f-b4fb-fa50eeba1826",
   "metadata": {
    "tags": []
   },
   "outputs": [],
   "source": [
    "adata.obs['total_counts'].median()"
   ]
  },
  {
   "cell_type": "code",
   "execution_count": null,
   "id": "7a168ec4-af44-4e06-bf26-520b47e8baa3",
   "metadata": {
    "tags": []
   },
   "outputs": [],
   "source": [
    "np.max(adata.obs['total_counts_FP'])"
   ]
  },
  {
   "cell_type": "code",
   "execution_count": null,
   "id": "841040f9-7f74-453c-a078-c086d60ba72a",
   "metadata": {
    "tags": []
   },
   "outputs": [],
   "source": [
    "adata.obs['total_counts_FP'].mean()"
   ]
  },
  {
   "cell_type": "code",
   "execution_count": null,
   "id": "d04e886e-f50d-42ee-9173-991b62fa0758",
   "metadata": {
    "tags": []
   },
   "outputs": [],
   "source": [
    "# Filter cells according to Cell Volume\n",
    "adata.obs[\"area\"].mean()"
   ]
  },
  {
   "cell_type": "code",
   "execution_count": null,
   "id": "e605a48a-a48b-42a2-8819-a6499edf6a35",
   "metadata": {
    "tags": []
   },
   "outputs": [],
   "source": [
    "np.percentile(adata.obs[\"area\"], 1)"
   ]
  },
  {
   "cell_type": "code",
   "execution_count": null,
   "id": "42c44e25-7b8d-4728-a917-b5b8542bc327",
   "metadata": {
    "tags": []
   },
   "outputs": [],
   "source": [
    "np.percentile(adata.obs[\"area\"], 90)"
   ]
  },
  {
   "cell_type": "code",
   "execution_count": null,
   "id": "13a61756-6a5a-4c34-be4d-ba16ea0e4e99",
   "metadata": {
    "tags": []
   },
   "outputs": [],
   "source": [
    "np.percentile(adata.obs[\"area\"], 50)"
   ]
  },
  {
   "cell_type": "code",
   "execution_count": null,
   "id": "bac7abe1-33e7-45d8-915c-eeaa301a3e41",
   "metadata": {
    "tags": []
   },
   "outputs": [],
   "source": [
    "adata = adata[(adata.obs[\"area\"] > 600) & (adata.obs[\"area\"] < (3 * adata.obs[\"area\"].mean())),:].copy()\n",
    "adata"
   ]
  },
  {
   "cell_type": "code",
   "execution_count": null,
   "id": "577c0f7d-17f6-42d5-8ac1-4e9a2fb7777b",
   "metadata": {
    "tags": []
   },
   "outputs": [],
   "source": [
    "adata.obs['total_counts'].median()"
   ]
  },
  {
   "cell_type": "code",
   "execution_count": null,
   "id": "9034fd94-9eba-4fbd-a5c1-48f66ee267c5",
   "metadata": {},
   "outputs": [],
   "source": []
  },
  {
   "cell_type": "code",
   "execution_count": null,
   "id": "7ed40fcc-af6a-46f8-b0ba-e3813c905f26",
   "metadata": {},
   "outputs": [],
   "source": [
    "adata = adata[adata.obs.pct_counts_FP < 0.1, :].copy()\n",
    "sc.pp.filter_cells(adata, min_genes=2)\n",
    "sc.pp.filter_cells(adata, max_counts=800)\n",
    "sc.pp.filter_cells(adata, min_counts=10)"
   ]
  },
  {
   "cell_type": "code",
   "execution_count": null,
   "id": "df7507a0-a83c-4208-8496-4add44b9187b",
   "metadata": {},
   "outputs": [],
   "source": []
  },
  {
   "cell_type": "code",
   "execution_count": null,
   "id": "f609a765-2c03-4f02-8182-d1dd44c7a373",
   "metadata": {
    "tags": []
   },
   "outputs": [],
   "source": [
    "BLACK_LIST = ['sFP']"
   ]
  },
  {
   "cell_type": "code",
   "execution_count": null,
   "id": "e4bac72d-9ed8-4289-b792-186e8fe18553",
   "metadata": {
    "tags": []
   },
   "outputs": [],
   "source": [
    "adata = adata[:, [x for x in adata.var_names if x not in BLACK_LIST]].copy()"
   ]
  },
  {
   "cell_type": "code",
   "execution_count": null,
   "id": "5e7d7638-aaf6-4b54-a558-4516631df304",
   "metadata": {
    "tags": []
   },
   "outputs": [],
   "source": [
    "ref = sc.read_h5ad(\"/media/duan/DuanLab_Data/openFISH/ABA110_Demo2/Rep2/annotated.h5ad\")\n",
    "ref"
   ]
  },
  {
   "cell_type": "code",
   "execution_count": null,
   "id": "e56fa858-d24e-4efd-86b0-4d8561794530",
   "metadata": {
    "tags": []
   },
   "outputs": [],
   "source": [
    "ref.X = ref.layers['counts_corrected'].copy()"
   ]
  },
  {
   "cell_type": "code",
   "execution_count": null,
   "id": "c9b85364-801c-491d-8d48-6083500b792b",
   "metadata": {
    "tags": []
   },
   "outputs": [],
   "source": [
    "adata.obs['transfer'] = 'target'\n",
    "adata.obs['cell_type'] = 'target'\n",
    "\n",
    "ref.obs['transfer'] = 'source'"
   ]
  },
  {
   "cell_type": "code",
   "execution_count": null,
   "id": "ec45f462-e88e-49c5-a096-072c425b90c0",
   "metadata": {
    "tags": []
   },
   "outputs": [],
   "source": [
    "merged = sc.concat([adata, ref], merge=\"same\")\n",
    "merged"
   ]
  },
  {
   "cell_type": "code",
   "execution_count": null,
   "id": "f0ee2647-15ef-4e4e-8739-975d10bcde4e",
   "metadata": {
    "tags": []
   },
   "outputs": [],
   "source": [
    "# Normalize using cell area\n",
    "from scipy.sparse import csr_matrix\n",
    "cell_area = np.array(merged.obs[\"area\"])\n",
    "# cell_area = cell_area.reshape((len(cell_area),1))\n",
    "merged.X = csr_matrix((merged.X.T / cell_area).T)"
   ]
  },
  {
   "cell_type": "code",
   "execution_count": null,
   "id": "f4dfe5a5-3962-4685-9a7e-fa87b460db7a",
   "metadata": {
    "tags": []
   },
   "outputs": [],
   "source": [
    "# Normalizing to median total counts\n",
    "sc.pp.normalize_total(merged, target_sum=109)\n",
    "# Logarithmize the data\n",
    "sc.pp.log1p(merged)"
   ]
  },
  {
   "cell_type": "code",
   "execution_count": null,
   "id": "065c8237-4453-46b6-ac34-3d95e03e678b",
   "metadata": {
    "tags": []
   },
   "outputs": [],
   "source": [
    "sc.tl.pca(merged, svd_solver='arpack')"
   ]
  },
  {
   "cell_type": "code",
   "execution_count": null,
   "id": "810c617b-0625-465e-b394-e6ba8dfa52b7",
   "metadata": {
    "tags": []
   },
   "outputs": [],
   "source": [
    "import scanpy.external as sce"
   ]
  },
  {
   "cell_type": "code",
   "execution_count": null,
   "id": "802566bb-2d2b-4c35-928d-9815ea586ad5",
   "metadata": {
    "tags": []
   },
   "outputs": [],
   "source": [
    "sce.pp.harmony_integrate(merged, [\"transfer\"], max_iter_harmony = 100)"
   ]
  },
  {
   "cell_type": "code",
   "execution_count": null,
   "id": "667be3a9-29ad-4c08-a0d5-8c20ddc90977",
   "metadata": {
    "scrolled": true,
    "tags": []
   },
   "outputs": [],
   "source": [
    "sc.pp.neighbors(merged, use_rep = \"X_pca_harmony\")"
   ]
  },
  {
   "cell_type": "code",
   "execution_count": null,
   "id": "c197014b-7603-4a79-9183-a6dee38527bf",
   "metadata": {
    "tags": []
   },
   "outputs": [],
   "source": [
    "sc.tl.umap(merged)"
   ]
  },
  {
   "cell_type": "code",
   "execution_count": null,
   "id": "897aa537-12f3-4251-9609-51836a08c2b6",
   "metadata": {
    "tags": []
   },
   "outputs": [],
   "source": [
    "sc.pl.umap(merged, color=[\"transfer\", 'cell_type'], size = 2)"
   ]
  },
  {
   "cell_type": "code",
   "execution_count": null,
   "id": "8b9247d1-4009-4f55-a569-c738ba2ad338",
   "metadata": {
    "tags": []
   },
   "outputs": [],
   "source": [
    "from scipy.spatial import KDTree\n",
    "from tqdm import tqdm\n",
    "import numpy as np"
   ]
  },
  {
   "cell_type": "code",
   "execution_count": null,
   "id": "795c8259-8469-4f67-9957-702f9b7f6c36",
   "metadata": {
    "tags": []
   },
   "outputs": [],
   "source": [
    "tmp = merged[merged.obs['transfer'] == 'source'].copy()\n",
    "tmp"
   ]
  },
  {
   "cell_type": "code",
   "execution_count": null,
   "id": "fc002fa1-85b0-4ebd-a48d-a8d378e7e5ae",
   "metadata": {
    "tags": []
   },
   "outputs": [],
   "source": [
    "ALL_CellTypes = []\n",
    "ALL_Centers = []\n",
    "\n",
    "for ct in tmp.obs['cell_type'].unique():\n",
    "    ALL_Centers.append(np.mean(tmp.obsm['X_pca_harmony'][tmp.obs['cell_type'] == ct,:], axis = 0))\n",
    "    ALL_CellTypes.append(ct)"
   ]
  },
  {
   "cell_type": "code",
   "execution_count": null,
   "id": "eccfde0b-b832-47fb-9ea7-c0d9d9f3a680",
   "metadata": {
    "tags": []
   },
   "outputs": [],
   "source": [
    "tree = KDTree(ALL_Centers)"
   ]
  },
  {
   "cell_type": "code",
   "execution_count": null,
   "id": "08758f5e-4247-49c3-bf4f-1b04d8253a55",
   "metadata": {
    "tags": []
   },
   "outputs": [],
   "source": [
    "transfer_celltype = []\n",
    "for i in tqdm(range(merged.shape[0])):\n",
    "    if merged.obs[\"cell_type\"][i] == \"target\":\n",
    "        _, index = tree.query(merged.obsm[\"X_pca_harmony\"][i])\n",
    "        transfer_celltype.append(ALL_CellTypes[index])\n",
    "    else:\n",
    "        transfer_celltype.append(merged.obs[\"cell_type\"][i])"
   ]
  },
  {
   "cell_type": "code",
   "execution_count": null,
   "id": "385f28b8-e352-4d30-9ac3-9b16c3cd4b65",
   "metadata": {
    "tags": []
   },
   "outputs": [],
   "source": [
    "merged.obs[\"transfer_cell_type\"] = transfer_celltype"
   ]
  },
  {
   "cell_type": "code",
   "execution_count": null,
   "id": "6e8ef0ba-2aac-4b08-bb68-0da346a29b70",
   "metadata": {
    "tags": []
   },
   "outputs": [],
   "source": [
    "sc.pl.umap(merged, color=[\"transfer_cell_type\"], size = 2)"
   ]
  },
  {
   "cell_type": "code",
   "execution_count": null,
   "id": "0218a57c-7584-4157-acdf-6dd86ff84e5f",
   "metadata": {},
   "outputs": [],
   "source": [
    "adata"
   ]
  },
  {
   "cell_type": "code",
   "execution_count": null,
   "id": "e462604f-38be-430b-bbf6-5427f90ff050",
   "metadata": {
    "tags": []
   },
   "outputs": [],
   "source": [
    "adata.obs['cell_type'] = merged[merged.obs['transfer'] == 'target'].obs['transfer_cell_type'].to_numpy()"
   ]
  },
  {
   "cell_type": "code",
   "execution_count": null,
   "id": "461a0102-27cf-4333-bb0d-44a12480d137",
   "metadata": {
    "tags": []
   },
   "outputs": [],
   "source": [
    "sc.pl.embedding(adata, basis = 'spatial', color = 'cell_type')"
   ]
  },
  {
   "cell_type": "code",
   "execution_count": null,
   "id": "69c07558-b842-42ab-b524-214bc30dc76f",
   "metadata": {
    "tags": []
   },
   "outputs": [],
   "source": [
    "sc.pl.embedding(adata, basis = 'spatial', color = 'cell_type', groups = 'Inh Vip', size = 20)"
   ]
  },
  {
   "cell_type": "code",
   "execution_count": null,
   "id": "3b001e1a-8e1b-4cea-bf75-20cda85cbf0b",
   "metadata": {},
   "outputs": [],
   "source": []
  },
  {
   "cell_type": "code",
   "execution_count": null,
   "id": "98c68e14-b36e-48ce-99ac-39d2cc437f53",
   "metadata": {
    "tags": []
   },
   "outputs": [],
   "source": [
    "adata.write_h5ad(f'data/{Sample}_annotated.h5ad')"
   ]
  },
  {
   "cell_type": "markdown",
   "id": "20ad83e2-521d-402e-9175-63f3ed08a20b",
   "metadata": {
    "jp-MarkdownHeadingCollapsed": true,
    "tags": []
   },
   "source": [
    "## LPS_7"
   ]
  },
  {
   "cell_type": "code",
   "execution_count": null,
   "id": "45826aaa-67a4-4eaf-a08f-0ac7af66f0d2",
   "metadata": {
    "tags": []
   },
   "outputs": [],
   "source": [
    "Sample = 'LPS_7'"
   ]
  },
  {
   "cell_type": "code",
   "execution_count": null,
   "id": "b510ded7-d8bc-4073-9e91-351b930d33ca",
   "metadata": {
    "scrolled": true,
    "tags": []
   },
   "outputs": [],
   "source": [
    "sdata = read_zarr(f\"./{Sample}/raw_sdata.zarr\")\n",
    "sdata"
   ]
  },
  {
   "cell_type": "code",
   "execution_count": null,
   "id": "a2322202-4f22-4fe2-a21e-bf5d049ad64f",
   "metadata": {
    "tags": []
   },
   "outputs": [],
   "source": [
    "areas = []\n",
    "for pg in sdata.shapes[\"MultiModel\"][\"geometry\"]:\n",
    "    areas.append(pg.area)"
   ]
  },
  {
   "cell_type": "code",
   "execution_count": null,
   "id": "320087ec-d79e-4db5-b90b-6c4f6bd7447e",
   "metadata": {
    "tags": []
   },
   "outputs": [],
   "source": [
    "adata = sdata.tables['table'].copy()\n",
    "adata"
   ]
  },
  {
   "cell_type": "code",
   "execution_count": null,
   "id": "d48d5a28-de70-4257-a9c6-d9d971d47314",
   "metadata": {
    "tags": []
   },
   "outputs": [],
   "source": [
    "adata.obs['area'] = areas\n",
    "adata.obs"
   ]
  },
  {
   "cell_type": "code",
   "execution_count": null,
   "id": "27158b44-ddd9-4ed2-9322-cbdb3bd34da7",
   "metadata": {
    "tags": []
   },
   "outputs": [],
   "source": [
    "import pandas as pd"
   ]
  },
  {
   "cell_type": "code",
   "execution_count": null,
   "id": "8a60361c-2458-4470-93c1-e8e7efa7a39f",
   "metadata": {
    "tags": []
   },
   "outputs": [],
   "source": [
    "NP_Pad = pd.read_csv(\"/media/duan/DuanLab_Data/openFISH/TE/NP_Fold_V58_TE.csv\", index_col=0)"
   ]
  },
  {
   "cell_type": "code",
   "execution_count": null,
   "id": "5d4b0d4a-3935-4765-905f-27afe264fb1d",
   "metadata": {
    "tags": []
   },
   "outputs": [],
   "source": [
    "adata.obsm['spatial'] = adata.obs[['x', 'y']].to_numpy()"
   ]
  },
  {
   "cell_type": "code",
   "execution_count": null,
   "id": "ab4b0bb4-2aa2-43dc-b694-93503b3575b4",
   "metadata": {
    "tags": []
   },
   "outputs": [],
   "source": [
    "sc.set_figure_params(figsize = (6,6), scanpy = False)\n",
    "sc.pl.embedding(adata, basis = 'spatial', color = 'Cck', size = 10)"
   ]
  },
  {
   "cell_type": "code",
   "execution_count": null,
   "id": "084aaaeb-c6c9-45fc-8f62-e343a94e0730",
   "metadata": {
    "tags": []
   },
   "outputs": [],
   "source": [
    "adata.obsm[\"spatial\"][:,1] =  0 - adata.obsm[\"spatial\"][:,1]\n",
    "sc.pl.embedding(adata, basis = 'spatial', color = 'Cck', size = 10)"
   ]
  },
  {
   "cell_type": "code",
   "execution_count": null,
   "id": "bec12697-f380-477b-9b64-b232145bf344",
   "metadata": {
    "tags": []
   },
   "outputs": [],
   "source": [
    "tmpmatrix = adata.to_df().copy()"
   ]
  },
  {
   "cell_type": "code",
   "execution_count": null,
   "id": "d724cd00-1382-4fec-8f06-461313d3ff0f",
   "metadata": {
    "tags": []
   },
   "outputs": [],
   "source": [
    "tmpmatrix = tmpmatrix.astype('float32')"
   ]
  },
  {
   "cell_type": "code",
   "execution_count": null,
   "id": "e6932d92-0c92-4c8d-a9f3-227337092b24",
   "metadata": {
    "scrolled": true,
    "tags": []
   },
   "outputs": [],
   "source": [
    "import numpy as np\n",
    "\n",
    "for col in tmpmatrix.columns:\n",
    "    # tmpmatrix.loc[:,col] = tmpmatrix.loc[:,col] * np.log2(NP_Pad.loc[col, 'Fold'] + 1)\n",
    "    tmpmatrix.loc[:,col] = tmpmatrix.loc[:,col] * NP_Pad.loc[col, 'Fold']"
   ]
  },
  {
   "cell_type": "code",
   "execution_count": null,
   "id": "5566659c-f2a3-449e-a82c-b07a2b56ca38",
   "metadata": {
    "tags": []
   },
   "outputs": [],
   "source": [
    "from scipy.sparse import csr_matrix"
   ]
  },
  {
   "cell_type": "code",
   "execution_count": null,
   "id": "8c47dcc3-c8b8-4c48-b7b2-262f09fe2c0f",
   "metadata": {
    "tags": []
   },
   "outputs": [],
   "source": [
    "adata.layers['counts'] = adata.X.copy()\n",
    "adata.X = csr_matrix(tmpmatrix)\n",
    "adata.layers['counts_corrected'] = adata.X.copy()"
   ]
  },
  {
   "cell_type": "code",
   "execution_count": null,
   "id": "fb0d7a34-beab-4ded-b3ab-655abcfbb7bd",
   "metadata": {
    "tags": []
   },
   "outputs": [],
   "source": [
    "adata"
   ]
  },
  {
   "cell_type": "code",
   "execution_count": null,
   "id": "ff774eee-c2a4-4642-999c-73f9c5b4fd30",
   "metadata": {},
   "outputs": [],
   "source": [
    "adata.var[\"FP\"] = adata.var_names.str.startswith(\"sFP\")"
   ]
  },
  {
   "cell_type": "code",
   "execution_count": null,
   "id": "6d116fc9-8de5-4749-8680-4c90600ea25d",
   "metadata": {
    "tags": []
   },
   "outputs": [],
   "source": [
    "sc.pp.calculate_qc_metrics(\n",
    "    adata, inplace=True, log1p=True, percent_top=None,qc_vars=[\"FP\"]\n",
    ")"
   ]
  },
  {
   "cell_type": "code",
   "execution_count": null,
   "id": "be089933-31f9-40a0-9d8a-e2ecd9bef4e9",
   "metadata": {
    "tags": []
   },
   "outputs": [],
   "source": [
    "sc.pl.violin(\n",
    "    adata,\n",
    "    [\"n_genes_by_counts\", \"total_counts\", 'pct_counts_FP'],\n",
    "    jitter=0.4,\n",
    "    multi_panel=True,\n",
    ")"
   ]
  },
  {
   "cell_type": "code",
   "execution_count": null,
   "id": "e95f8aec-43f9-4341-af8c-ab436ce6d88c",
   "metadata": {
    "tags": []
   },
   "outputs": [],
   "source": [
    "import numpy as np\n",
    "from tqdm import tqdm"
   ]
  },
  {
   "cell_type": "code",
   "execution_count": null,
   "id": "b8a889be-e95b-4e33-aaf2-cc9507e1bb03",
   "metadata": {
    "tags": []
   },
   "outputs": [],
   "source": [
    "adata"
   ]
  },
  {
   "cell_type": "code",
   "execution_count": null,
   "id": "c9c3193e-ccaf-425f-9e9d-c5622e83d9d8",
   "metadata": {
    "tags": []
   },
   "outputs": [],
   "source": [
    "adata.obs['total_counts'].mean()"
   ]
  },
  {
   "cell_type": "code",
   "execution_count": null,
   "id": "66245bf5-c356-4bc0-8ab7-d6b7bb2d1d69",
   "metadata": {
    "tags": []
   },
   "outputs": [],
   "source": [
    "adata.obs['total_counts'].median()"
   ]
  },
  {
   "cell_type": "code",
   "execution_count": null,
   "id": "d36bfc15-e6a9-482b-9b90-3652372032c4",
   "metadata": {
    "tags": []
   },
   "outputs": [],
   "source": [
    "np.max(adata.obs['total_counts_FP'])"
   ]
  },
  {
   "cell_type": "code",
   "execution_count": null,
   "id": "5e66bd7b-822e-4573-8c35-56dead365386",
   "metadata": {
    "tags": []
   },
   "outputs": [],
   "source": [
    "adata.obs['total_counts_FP'].mean()"
   ]
  },
  {
   "cell_type": "code",
   "execution_count": null,
   "id": "b3ccefd9-b64a-4cf6-bf08-bbd4f3e26e80",
   "metadata": {
    "tags": []
   },
   "outputs": [],
   "source": [
    "# Filter cells according to Cell Volume\n",
    "adata.obs[\"area\"].mean()"
   ]
  },
  {
   "cell_type": "code",
   "execution_count": null,
   "id": "9d68e9ee-c3e3-4e79-b628-30cfef473d62",
   "metadata": {
    "tags": []
   },
   "outputs": [],
   "source": [
    "np.percentile(adata.obs[\"area\"], 1)"
   ]
  },
  {
   "cell_type": "code",
   "execution_count": null,
   "id": "ebd51dc8-0da8-4dd6-9663-39ea8dd0ee27",
   "metadata": {
    "tags": []
   },
   "outputs": [],
   "source": [
    "np.percentile(adata.obs[\"area\"], 90)"
   ]
  },
  {
   "cell_type": "code",
   "execution_count": null,
   "id": "e6b73cd6-2424-4271-b30a-5723f13ef212",
   "metadata": {
    "tags": []
   },
   "outputs": [],
   "source": [
    "np.percentile(adata.obs[\"area\"], 50)"
   ]
  },
  {
   "cell_type": "code",
   "execution_count": null,
   "id": "cf3f89bc-1bc7-4f58-b16e-6543c3ed4dd7",
   "metadata": {
    "tags": []
   },
   "outputs": [],
   "source": [
    "adata = adata[(adata.obs[\"area\"] > 600) & (adata.obs[\"area\"] < (3 * adata.obs[\"area\"].mean())),:].copy()\n",
    "adata"
   ]
  },
  {
   "cell_type": "code",
   "execution_count": null,
   "id": "438758d6-a123-4920-ad6f-9a9f91afed30",
   "metadata": {
    "tags": []
   },
   "outputs": [],
   "source": [
    "adata.obs['total_counts'].median()"
   ]
  },
  {
   "cell_type": "code",
   "execution_count": null,
   "id": "38f8a045-59b1-426a-a8bd-8fe573f9a882",
   "metadata": {},
   "outputs": [],
   "source": []
  },
  {
   "cell_type": "code",
   "execution_count": null,
   "id": "8fd2442a-7453-48be-81f2-43b8f2870796",
   "metadata": {},
   "outputs": [],
   "source": [
    "adata = adata[adata.obs.pct_counts_FP < 0.1, :].copy()\n",
    "sc.pp.filter_cells(adata, min_genes=2)\n",
    "sc.pp.filter_cells(adata, max_counts=900)\n",
    "sc.pp.filter_cells(adata, min_counts=10)"
   ]
  },
  {
   "cell_type": "code",
   "execution_count": null,
   "id": "88d15c72-929b-4bf9-9278-78a57ef8086c",
   "metadata": {},
   "outputs": [],
   "source": []
  },
  {
   "cell_type": "code",
   "execution_count": null,
   "id": "0093856a-56d5-400d-8d48-298a877702c4",
   "metadata": {
    "tags": []
   },
   "outputs": [],
   "source": [
    "BLACK_LIST = ['sFP']"
   ]
  },
  {
   "cell_type": "code",
   "execution_count": null,
   "id": "a44bfe5b-ff5d-41ed-b05a-5aefb9138231",
   "metadata": {
    "tags": []
   },
   "outputs": [],
   "source": [
    "adata = adata[:, [x for x in adata.var_names if x not in BLACK_LIST]].copy()"
   ]
  },
  {
   "cell_type": "code",
   "execution_count": null,
   "id": "1c287bfc-4799-4e00-9507-dca2301c6725",
   "metadata": {
    "tags": []
   },
   "outputs": [],
   "source": [
    "ref = sc.read_h5ad(\"/media/duan/DuanLab_Data/openFISH/ABA110_Demo2/Rep2/annotated.h5ad\")\n",
    "ref"
   ]
  },
  {
   "cell_type": "code",
   "execution_count": null,
   "id": "3be5e39c-8acb-4da1-966a-e8cd59601940",
   "metadata": {
    "tags": []
   },
   "outputs": [],
   "source": [
    "ref.X = ref.layers['counts_corrected'].copy()"
   ]
  },
  {
   "cell_type": "code",
   "execution_count": null,
   "id": "2973c031-a331-47b4-9074-81328d568cec",
   "metadata": {
    "tags": []
   },
   "outputs": [],
   "source": [
    "adata.obs['transfer'] = 'target'\n",
    "adata.obs['cell_type'] = 'target'\n",
    "\n",
    "ref.obs['transfer'] = 'source'"
   ]
  },
  {
   "cell_type": "code",
   "execution_count": null,
   "id": "7cd099a0-bd70-4cc4-8fe4-969ec5ba18b3",
   "metadata": {
    "tags": []
   },
   "outputs": [],
   "source": [
    "merged = sc.concat([adata, ref], merge=\"same\")\n",
    "merged"
   ]
  },
  {
   "cell_type": "code",
   "execution_count": null,
   "id": "4d7bb29b-76c7-4f3d-881a-50b80d03d114",
   "metadata": {
    "tags": []
   },
   "outputs": [],
   "source": [
    "# Normalize using cell area\n",
    "from scipy.sparse import csr_matrix\n",
    "cell_area = np.array(merged.obs[\"area\"])\n",
    "# cell_area = cell_area.reshape((len(cell_area),1))\n",
    "merged.X = csr_matrix((merged.X.T / cell_area).T)"
   ]
  },
  {
   "cell_type": "code",
   "execution_count": null,
   "id": "32d9cb33-ade8-4056-a977-d19545d47314",
   "metadata": {
    "tags": []
   },
   "outputs": [],
   "source": [
    "# Normalizing to median total counts\n",
    "sc.pp.normalize_total(merged, target_sum=109)\n",
    "# Logarithmize the data\n",
    "sc.pp.log1p(merged)"
   ]
  },
  {
   "cell_type": "code",
   "execution_count": null,
   "id": "9ed428c5-3e38-40a6-baff-8f82107d4796",
   "metadata": {
    "tags": []
   },
   "outputs": [],
   "source": [
    "sc.tl.pca(merged, svd_solver='arpack')"
   ]
  },
  {
   "cell_type": "code",
   "execution_count": null,
   "id": "c2a22556-cef9-4778-ab67-dda91fc1596c",
   "metadata": {
    "tags": []
   },
   "outputs": [],
   "source": [
    "import scanpy.external as sce"
   ]
  },
  {
   "cell_type": "code",
   "execution_count": null,
   "id": "a6a80dd2-1ed8-46c8-a86a-5573fc0b7502",
   "metadata": {
    "tags": []
   },
   "outputs": [],
   "source": [
    "sce.pp.harmony_integrate(merged, [\"transfer\"], max_iter_harmony = 100)"
   ]
  },
  {
   "cell_type": "code",
   "execution_count": null,
   "id": "a18e55e6-2346-4d78-8dad-5ede828d22e8",
   "metadata": {
    "scrolled": true,
    "tags": []
   },
   "outputs": [],
   "source": [
    "sc.pp.neighbors(merged, use_rep = \"X_pca_harmony\")"
   ]
  },
  {
   "cell_type": "code",
   "execution_count": null,
   "id": "837e30a5-db47-4157-9c9b-8bac31b35909",
   "metadata": {
    "tags": []
   },
   "outputs": [],
   "source": [
    "sc.tl.umap(merged)"
   ]
  },
  {
   "cell_type": "code",
   "execution_count": null,
   "id": "d344071d-7284-4af9-ad69-b79cbed9ef8e",
   "metadata": {
    "tags": []
   },
   "outputs": [],
   "source": [
    "sc.pl.umap(merged, color=[\"transfer\", 'cell_type'], size = 2)"
   ]
  },
  {
   "cell_type": "code",
   "execution_count": null,
   "id": "53943787-051f-4404-8090-bb6cfcae91e6",
   "metadata": {
    "tags": []
   },
   "outputs": [],
   "source": [
    "from scipy.spatial import KDTree\n",
    "from tqdm import tqdm\n",
    "import numpy as np"
   ]
  },
  {
   "cell_type": "code",
   "execution_count": null,
   "id": "3541ad71-f0f1-45aa-9dcc-ad0749e84100",
   "metadata": {
    "tags": []
   },
   "outputs": [],
   "source": [
    "tmp = merged[merged.obs['transfer'] == 'source'].copy()\n",
    "tmp"
   ]
  },
  {
   "cell_type": "code",
   "execution_count": null,
   "id": "e541b87f-2eff-4d5d-a246-89527702179a",
   "metadata": {
    "tags": []
   },
   "outputs": [],
   "source": [
    "ALL_CellTypes = []\n",
    "ALL_Centers = []\n",
    "\n",
    "for ct in tmp.obs['cell_type'].unique():\n",
    "    ALL_Centers.append(np.mean(tmp.obsm['X_pca_harmony'][tmp.obs['cell_type'] == ct,:], axis = 0))\n",
    "    ALL_CellTypes.append(ct)"
   ]
  },
  {
   "cell_type": "code",
   "execution_count": null,
   "id": "3d80f630-74dd-44bb-86dd-2d89179a750b",
   "metadata": {
    "tags": []
   },
   "outputs": [],
   "source": [
    "tree = KDTree(ALL_Centers)"
   ]
  },
  {
   "cell_type": "code",
   "execution_count": null,
   "id": "491aaac1-6d49-4ecf-9277-a115eda1f914",
   "metadata": {
    "tags": []
   },
   "outputs": [],
   "source": [
    "transfer_celltype = []\n",
    "for i in tqdm(range(merged.shape[0])):\n",
    "    if merged.obs[\"cell_type\"][i] == \"target\":\n",
    "        _, index = tree.query(merged.obsm[\"X_pca_harmony\"][i])\n",
    "        transfer_celltype.append(ALL_CellTypes[index])\n",
    "    else:\n",
    "        transfer_celltype.append(merged.obs[\"cell_type\"][i])"
   ]
  },
  {
   "cell_type": "code",
   "execution_count": null,
   "id": "347fc85e-edb0-49f3-acd2-7533199c5dd1",
   "metadata": {
    "tags": []
   },
   "outputs": [],
   "source": [
    "merged.obs[\"transfer_cell_type\"] = transfer_celltype"
   ]
  },
  {
   "cell_type": "code",
   "execution_count": null,
   "id": "5e9dc8ce-35ff-4180-bca9-d7a8c6e8bd5d",
   "metadata": {
    "tags": []
   },
   "outputs": [],
   "source": [
    "sc.pl.umap(merged, color=[\"transfer_cell_type\"], size = 2)"
   ]
  },
  {
   "cell_type": "code",
   "execution_count": null,
   "id": "b9811792-f4ba-414d-ab11-09e405d1b3b1",
   "metadata": {},
   "outputs": [],
   "source": [
    "adata"
   ]
  },
  {
   "cell_type": "code",
   "execution_count": null,
   "id": "2780a7de-eed1-4fc8-8e79-d0a59eba298d",
   "metadata": {
    "tags": []
   },
   "outputs": [],
   "source": [
    "adata.obs['cell_type'] = merged[merged.obs['transfer'] == 'target'].obs['transfer_cell_type'].to_numpy()"
   ]
  },
  {
   "cell_type": "code",
   "execution_count": null,
   "id": "f1146453-d3d9-42a0-857e-3cee2b13f34f",
   "metadata": {
    "tags": []
   },
   "outputs": [],
   "source": [
    "sc.pl.embedding(adata, basis = 'spatial', color = 'cell_type')"
   ]
  },
  {
   "cell_type": "code",
   "execution_count": null,
   "id": "21d18e8c-c586-47b5-a5e9-e58e45ebaf8e",
   "metadata": {
    "tags": []
   },
   "outputs": [],
   "source": [
    "sc.pl.embedding(adata, basis = 'spatial', color = 'cell_type', groups = 'Inh Vip', size = 20)"
   ]
  },
  {
   "cell_type": "code",
   "execution_count": null,
   "id": "0f7149ea-8503-47d4-96a9-5d3dc11f4062",
   "metadata": {},
   "outputs": [],
   "source": []
  },
  {
   "cell_type": "code",
   "execution_count": null,
   "id": "85da335a-6230-4f2c-b957-4c874519defc",
   "metadata": {
    "tags": []
   },
   "outputs": [],
   "source": [
    "adata.write_h5ad(f'data/{Sample}_annotated.h5ad')"
   ]
  },
  {
   "cell_type": "markdown",
   "id": "a16d1ee8-d910-4887-9c66-f343bdbe9971",
   "metadata": {
    "jp-MarkdownHeadingCollapsed": true,
    "tags": []
   },
   "source": [
    "## LPS_8"
   ]
  },
  {
   "cell_type": "code",
   "execution_count": null,
   "id": "4e413dc6-743e-411b-8974-3a24c1993433",
   "metadata": {
    "tags": []
   },
   "outputs": [],
   "source": [
    "Sample = 'LPS_8'"
   ]
  },
  {
   "cell_type": "code",
   "execution_count": null,
   "id": "09481b0b-49b8-49b2-9bf4-c3951968be78",
   "metadata": {
    "scrolled": true,
    "tags": []
   },
   "outputs": [],
   "source": [
    "sdata = read_zarr(f\"./{Sample}/raw_sdata.zarr\")\n",
    "sdata"
   ]
  },
  {
   "cell_type": "code",
   "execution_count": null,
   "id": "b4e40957-3c45-4cd3-a9ba-079d6d09d58f",
   "metadata": {
    "tags": []
   },
   "outputs": [],
   "source": [
    "areas = []\n",
    "for pg in sdata.shapes[\"MultiModel\"][\"geometry\"]:\n",
    "    areas.append(pg.area)"
   ]
  },
  {
   "cell_type": "code",
   "execution_count": null,
   "id": "226528bb-9266-44bf-89d3-0032a97d36d9",
   "metadata": {
    "tags": []
   },
   "outputs": [],
   "source": [
    "adata = sdata.tables['table'].copy()\n",
    "adata"
   ]
  },
  {
   "cell_type": "code",
   "execution_count": null,
   "id": "3f72b894-fc09-4365-b0f3-6d00f20a1e5a",
   "metadata": {
    "tags": []
   },
   "outputs": [],
   "source": [
    "adata.obs['area'] = areas\n",
    "adata.obs"
   ]
  },
  {
   "cell_type": "code",
   "execution_count": null,
   "id": "5c2a571a-75fb-41f6-b7f7-350725553eb0",
   "metadata": {
    "tags": []
   },
   "outputs": [],
   "source": [
    "import pandas as pd"
   ]
  },
  {
   "cell_type": "code",
   "execution_count": null,
   "id": "a0f82f9c-1c1e-4a25-9409-84bb14f800bd",
   "metadata": {
    "tags": []
   },
   "outputs": [],
   "source": [
    "NP_Pad = pd.read_csv(\"/media/duan/DuanLab_Data/openFISH/TE/NP_Fold_V58_TE.csv\", index_col=0)"
   ]
  },
  {
   "cell_type": "code",
   "execution_count": null,
   "id": "1f28e1ce-59c6-4cdb-8cb4-eee5bb0b00ec",
   "metadata": {
    "tags": []
   },
   "outputs": [],
   "source": [
    "adata.obsm['spatial'] = adata.obs[['x', 'y']].to_numpy()"
   ]
  },
  {
   "cell_type": "code",
   "execution_count": null,
   "id": "14a3580b-fe7c-4f1f-b0bb-6995a5525e74",
   "metadata": {
    "tags": []
   },
   "outputs": [],
   "source": [
    "sc.set_figure_params(figsize = (6,6), scanpy = False)\n",
    "sc.pl.embedding(adata, basis = 'spatial', color = 'Cck', size = 10)"
   ]
  },
  {
   "cell_type": "code",
   "execution_count": null,
   "id": "86ca2bd3-162b-408f-9d8e-a13e2c3705f8",
   "metadata": {
    "tags": []
   },
   "outputs": [],
   "source": [
    "adata.obsm[\"spatial\"][:,1] =  0 - adata.obsm[\"spatial\"][:,1]\n",
    "sc.pl.embedding(adata, basis = 'spatial', color = 'TE_RLTR6_Mm', size = 10)"
   ]
  },
  {
   "cell_type": "code",
   "execution_count": null,
   "id": "044ad252-1447-4244-9b9e-af84c648b847",
   "metadata": {
    "tags": []
   },
   "outputs": [],
   "source": [
    "tmpmatrix = adata.to_df().copy()"
   ]
  },
  {
   "cell_type": "code",
   "execution_count": null,
   "id": "d54a920c-4975-4801-92f6-9fdb83af1570",
   "metadata": {
    "tags": []
   },
   "outputs": [],
   "source": [
    "tmpmatrix = tmpmatrix.astype('float32')"
   ]
  },
  {
   "cell_type": "code",
   "execution_count": null,
   "id": "e22cac7c-ba1d-47e6-bb35-467aee39e4c7",
   "metadata": {
    "scrolled": true,
    "tags": []
   },
   "outputs": [],
   "source": [
    "import numpy as np\n",
    "\n",
    "for col in tmpmatrix.columns:\n",
    "    # tmpmatrix.loc[:,col] = tmpmatrix.loc[:,col] * np.log2(NP_Pad.loc[col, 'Fold'] + 1)\n",
    "    tmpmatrix.loc[:,col] = tmpmatrix.loc[:,col] * NP_Pad.loc[col, 'Fold']"
   ]
  },
  {
   "cell_type": "code",
   "execution_count": null,
   "id": "2814344d-1c0b-4b56-abc2-6b1d8a8fd18f",
   "metadata": {
    "tags": []
   },
   "outputs": [],
   "source": [
    "from scipy.sparse import csr_matrix"
   ]
  },
  {
   "cell_type": "code",
   "execution_count": null,
   "id": "29e3f47e-476d-490b-992d-644ebdc69c4a",
   "metadata": {
    "tags": []
   },
   "outputs": [],
   "source": [
    "adata.layers['counts'] = adata.X.copy()\n",
    "adata.X = csr_matrix(tmpmatrix)\n",
    "adata.layers['counts_corrected'] = adata.X.copy()"
   ]
  },
  {
   "cell_type": "code",
   "execution_count": null,
   "id": "849b2455-47e1-4956-9e25-556ce96adb84",
   "metadata": {
    "tags": []
   },
   "outputs": [],
   "source": [
    "adata"
   ]
  },
  {
   "cell_type": "code",
   "execution_count": null,
   "id": "12030d85-480b-4ea7-8cd7-58a268220e96",
   "metadata": {},
   "outputs": [],
   "source": [
    "adata.var[\"FP\"] = adata.var_names.str.startswith(\"sFP\")"
   ]
  },
  {
   "cell_type": "code",
   "execution_count": null,
   "id": "dfeac21e-ed9e-4a4e-8034-026a7b443e75",
   "metadata": {
    "tags": []
   },
   "outputs": [],
   "source": [
    "sc.pp.calculate_qc_metrics(\n",
    "    adata, inplace=True, log1p=True, percent_top=None,qc_vars=[\"FP\"]\n",
    ")"
   ]
  },
  {
   "cell_type": "code",
   "execution_count": null,
   "id": "5447c073-49fb-4722-af8b-8ee277d6593b",
   "metadata": {
    "tags": []
   },
   "outputs": [],
   "source": [
    "sc.pl.violin(\n",
    "    adata,\n",
    "    [\"n_genes_by_counts\", \"total_counts\", 'pct_counts_FP'],\n",
    "    jitter=0.4,\n",
    "    multi_panel=True,\n",
    ")"
   ]
  },
  {
   "cell_type": "code",
   "execution_count": null,
   "id": "66670428-39bf-4e0e-990f-e3fe3327a90b",
   "metadata": {
    "tags": []
   },
   "outputs": [],
   "source": [
    "import numpy as np\n",
    "from tqdm import tqdm"
   ]
  },
  {
   "cell_type": "code",
   "execution_count": null,
   "id": "2b711d2b-63e3-4a1f-8229-784451fcc931",
   "metadata": {
    "tags": []
   },
   "outputs": [],
   "source": [
    "adata"
   ]
  },
  {
   "cell_type": "code",
   "execution_count": null,
   "id": "a0527485-4b1e-4826-8dc4-f65615dae449",
   "metadata": {
    "tags": []
   },
   "outputs": [],
   "source": [
    "adata.obs['total_counts'].mean()"
   ]
  },
  {
   "cell_type": "code",
   "execution_count": null,
   "id": "de5c056a-aaff-4ea6-be38-c5e0653ae42a",
   "metadata": {
    "tags": []
   },
   "outputs": [],
   "source": [
    "adata.obs['total_counts'].median()"
   ]
  },
  {
   "cell_type": "code",
   "execution_count": null,
   "id": "fafb600b-de35-4936-9f99-a5ef7db8d65d",
   "metadata": {
    "tags": []
   },
   "outputs": [],
   "source": [
    "np.max(adata.obs['total_counts_FP'])"
   ]
  },
  {
   "cell_type": "code",
   "execution_count": null,
   "id": "ae036679-be49-4493-b35b-dd21dd1599b4",
   "metadata": {
    "tags": []
   },
   "outputs": [],
   "source": [
    "adata.obs['total_counts_FP'].mean()"
   ]
  },
  {
   "cell_type": "code",
   "execution_count": null,
   "id": "0bd769b6-58bb-4294-b98e-a55f1c8f24bd",
   "metadata": {
    "tags": []
   },
   "outputs": [],
   "source": [
    "# Filter cells according to Cell Volume\n",
    "adata.obs[\"area\"].mean()"
   ]
  },
  {
   "cell_type": "code",
   "execution_count": null,
   "id": "e7a74788-a06f-44ce-af42-c921fb2d1ac9",
   "metadata": {
    "tags": []
   },
   "outputs": [],
   "source": [
    "np.percentile(adata.obs[\"area\"], 1)"
   ]
  },
  {
   "cell_type": "code",
   "execution_count": null,
   "id": "5bf3d2bb-1751-48c8-98c5-5d456d457c3d",
   "metadata": {
    "tags": []
   },
   "outputs": [],
   "source": [
    "np.percentile(adata.obs[\"area\"], 90)"
   ]
  },
  {
   "cell_type": "code",
   "execution_count": null,
   "id": "03547739-67d9-48ef-9d0f-ee22b9129ec6",
   "metadata": {
    "tags": []
   },
   "outputs": [],
   "source": [
    "np.percentile(adata.obs[\"area\"], 50)"
   ]
  },
  {
   "cell_type": "code",
   "execution_count": null,
   "id": "4bde2ff0-f3c7-43e9-b456-fef8e1d3cbf1",
   "metadata": {
    "tags": []
   },
   "outputs": [],
   "source": [
    "adata = adata[(adata.obs[\"area\"] > 600) & (adata.obs[\"area\"] < (3 * adata.obs[\"area\"].mean())),:].copy()\n",
    "adata"
   ]
  },
  {
   "cell_type": "code",
   "execution_count": null,
   "id": "36ab9f2e-6b81-4a1c-a468-f0c50e1b60a2",
   "metadata": {
    "tags": []
   },
   "outputs": [],
   "source": [
    "adata.obs['total_counts'].median()"
   ]
  },
  {
   "cell_type": "code",
   "execution_count": null,
   "id": "60be2b65-e159-4df4-97e9-6f8a96774039",
   "metadata": {},
   "outputs": [],
   "source": []
  },
  {
   "cell_type": "code",
   "execution_count": null,
   "id": "40cd5247-37a7-44e7-814e-c91a70df9369",
   "metadata": {},
   "outputs": [],
   "source": [
    "adata = adata[adata.obs.pct_counts_FP < 0.1, :].copy()\n",
    "sc.pp.filter_cells(adata, min_genes=2)\n",
    "sc.pp.filter_cells(adata, max_counts=900)\n",
    "sc.pp.filter_cells(adata, min_counts=10)"
   ]
  },
  {
   "cell_type": "code",
   "execution_count": null,
   "id": "b4018a06-6ab5-4657-a810-27328245126e",
   "metadata": {},
   "outputs": [],
   "source": []
  },
  {
   "cell_type": "code",
   "execution_count": null,
   "id": "1b6039c5-4fd0-42c8-8d57-576e3d7fc2e6",
   "metadata": {
    "tags": []
   },
   "outputs": [],
   "source": [
    "BLACK_LIST = ['sFP']"
   ]
  },
  {
   "cell_type": "code",
   "execution_count": null,
   "id": "91b77d0a-6f7f-48a7-b22a-9fd05fa29815",
   "metadata": {
    "tags": []
   },
   "outputs": [],
   "source": [
    "adata = adata[:, [x for x in adata.var_names if x not in BLACK_LIST]].copy()"
   ]
  },
  {
   "cell_type": "code",
   "execution_count": null,
   "id": "3c7b55c1-9989-410b-bca5-4d9b8306dbaf",
   "metadata": {
    "tags": []
   },
   "outputs": [],
   "source": [
    "ref = sc.read_h5ad(\"/media/duan/DuanLab_Data/openFISH/ABA110_Demo2/Rep2/annotated.h5ad\")\n",
    "ref"
   ]
  },
  {
   "cell_type": "code",
   "execution_count": null,
   "id": "881ef528-7e67-4765-8730-a29e4c36d072",
   "metadata": {
    "tags": []
   },
   "outputs": [],
   "source": [
    "ref.X = ref.layers['counts_corrected'].copy()"
   ]
  },
  {
   "cell_type": "code",
   "execution_count": null,
   "id": "6b97a7bf-5ed0-4219-99f9-b0cee6bd79b3",
   "metadata": {
    "tags": []
   },
   "outputs": [],
   "source": [
    "adata.obs['transfer'] = 'target'\n",
    "adata.obs['cell_type'] = 'target'\n",
    "\n",
    "ref.obs['transfer'] = 'source'"
   ]
  },
  {
   "cell_type": "code",
   "execution_count": null,
   "id": "f562e1a2-2f9f-4430-bfa2-862b5d4a7fca",
   "metadata": {
    "tags": []
   },
   "outputs": [],
   "source": [
    "merged = sc.concat([adata, ref], merge=\"same\")\n",
    "merged"
   ]
  },
  {
   "cell_type": "code",
   "execution_count": null,
   "id": "23fb40bf-2f20-4ed4-ba97-9b341c68d9ee",
   "metadata": {
    "tags": []
   },
   "outputs": [],
   "source": [
    "# Normalize using cell area\n",
    "from scipy.sparse import csr_matrix\n",
    "cell_area = np.array(merged.obs[\"area\"])\n",
    "# cell_area = cell_area.reshape((len(cell_area),1))\n",
    "merged.X = csr_matrix((merged.X.T / cell_area).T)"
   ]
  },
  {
   "cell_type": "code",
   "execution_count": null,
   "id": "274ecf37-ce95-477a-8872-dc24fd851c44",
   "metadata": {
    "tags": []
   },
   "outputs": [],
   "source": [
    "# Normalizing to median total counts\n",
    "sc.pp.normalize_total(merged, target_sum=109)\n",
    "# Logarithmize the data\n",
    "sc.pp.log1p(merged)"
   ]
  },
  {
   "cell_type": "code",
   "execution_count": null,
   "id": "badbd49f-d821-47a8-b18d-304d20a78156",
   "metadata": {
    "tags": []
   },
   "outputs": [],
   "source": [
    "sc.tl.pca(merged, svd_solver='arpack')"
   ]
  },
  {
   "cell_type": "code",
   "execution_count": null,
   "id": "0d23109d-9184-498b-8b19-013a5898e8f7",
   "metadata": {
    "tags": []
   },
   "outputs": [],
   "source": [
    "import scanpy.external as sce"
   ]
  },
  {
   "cell_type": "code",
   "execution_count": null,
   "id": "caac9b3d-2e73-46a2-92d0-067fbed403e6",
   "metadata": {
    "tags": []
   },
   "outputs": [],
   "source": [
    "sce.pp.harmony_integrate(merged, [\"transfer\"], max_iter_harmony = 100)"
   ]
  },
  {
   "cell_type": "code",
   "execution_count": null,
   "id": "40ac15cb-050d-418f-9385-61cc30b33293",
   "metadata": {
    "scrolled": true,
    "tags": []
   },
   "outputs": [],
   "source": [
    "sc.pp.neighbors(merged, use_rep = \"X_pca_harmony\")"
   ]
  },
  {
   "cell_type": "code",
   "execution_count": null,
   "id": "7131311b-178c-4fb6-87de-3777cfe11db4",
   "metadata": {
    "tags": []
   },
   "outputs": [],
   "source": [
    "sc.tl.umap(merged)"
   ]
  },
  {
   "cell_type": "code",
   "execution_count": null,
   "id": "9211237e-bc6d-445d-b069-c4e6d129d3d5",
   "metadata": {
    "tags": []
   },
   "outputs": [],
   "source": [
    "sc.pl.umap(merged, color=[\"transfer\", 'cell_type'], size = 2)"
   ]
  },
  {
   "cell_type": "code",
   "execution_count": null,
   "id": "a7e41032-2f20-4a13-b9c2-fd67f0077274",
   "metadata": {
    "tags": []
   },
   "outputs": [],
   "source": [
    "from scipy.spatial import KDTree\n",
    "from tqdm import tqdm\n",
    "import numpy as np"
   ]
  },
  {
   "cell_type": "code",
   "execution_count": null,
   "id": "12c6faaf-90d9-4031-b6ad-d5996c09373c",
   "metadata": {
    "tags": []
   },
   "outputs": [],
   "source": [
    "tmp = merged[merged.obs['transfer'] == 'source'].copy()\n",
    "tmp"
   ]
  },
  {
   "cell_type": "code",
   "execution_count": null,
   "id": "5025f020-2bd8-45de-b462-e0cd997f7c3b",
   "metadata": {
    "tags": []
   },
   "outputs": [],
   "source": [
    "ALL_CellTypes = []\n",
    "ALL_Centers = []\n",
    "\n",
    "for ct in tmp.obs['cell_type'].unique():\n",
    "    ALL_Centers.append(np.mean(tmp.obsm['X_pca_harmony'][tmp.obs['cell_type'] == ct,:], axis = 0))\n",
    "    ALL_CellTypes.append(ct)"
   ]
  },
  {
   "cell_type": "code",
   "execution_count": null,
   "id": "e398f93b-985c-4ef3-885b-e9f43255367f",
   "metadata": {
    "tags": []
   },
   "outputs": [],
   "source": [
    "tree = KDTree(ALL_Centers)"
   ]
  },
  {
   "cell_type": "code",
   "execution_count": null,
   "id": "0e8ee368-e8f5-4036-88d3-104b4abb6e12",
   "metadata": {
    "tags": []
   },
   "outputs": [],
   "source": [
    "transfer_celltype = []\n",
    "for i in tqdm(range(merged.shape[0])):\n",
    "    if merged.obs[\"cell_type\"][i] == \"target\":\n",
    "        _, index = tree.query(merged.obsm[\"X_pca_harmony\"][i])\n",
    "        transfer_celltype.append(ALL_CellTypes[index])\n",
    "    else:\n",
    "        transfer_celltype.append(merged.obs[\"cell_type\"][i])"
   ]
  },
  {
   "cell_type": "code",
   "execution_count": null,
   "id": "5118fa9b-05c2-4da6-aa6f-3d77cacc17c0",
   "metadata": {
    "tags": []
   },
   "outputs": [],
   "source": [
    "merged.obs[\"transfer_cell_type\"] = transfer_celltype"
   ]
  },
  {
   "cell_type": "code",
   "execution_count": null,
   "id": "4f1c9674-992e-4c82-93a5-085672c673a7",
   "metadata": {
    "tags": []
   },
   "outputs": [],
   "source": [
    "sc.pl.umap(merged, color=[\"transfer_cell_type\"], size = 2)"
   ]
  },
  {
   "cell_type": "code",
   "execution_count": null,
   "id": "09c9388c-e424-4184-aec1-9c23651c8f67",
   "metadata": {},
   "outputs": [],
   "source": [
    "adata"
   ]
  },
  {
   "cell_type": "code",
   "execution_count": null,
   "id": "344506d8-c8a7-477f-b796-fcdd2369fcf1",
   "metadata": {
    "tags": []
   },
   "outputs": [],
   "source": [
    "adata.obs['cell_type'] = merged[merged.obs['transfer'] == 'target'].obs['transfer_cell_type'].to_numpy()"
   ]
  },
  {
   "cell_type": "code",
   "execution_count": null,
   "id": "9e880f30-f38b-4990-bb23-bab47fd797a8",
   "metadata": {
    "tags": []
   },
   "outputs": [],
   "source": [
    "sc.pl.embedding(adata, basis = 'spatial', color = 'cell_type')"
   ]
  },
  {
   "cell_type": "code",
   "execution_count": null,
   "id": "91babd82-0abe-4a3b-8bd0-0cd00b37b167",
   "metadata": {
    "tags": []
   },
   "outputs": [],
   "source": [
    "sc.pl.embedding(adata, basis = 'spatial', color = 'cell_type', groups = 'Inh Vip', size = 20)"
   ]
  },
  {
   "cell_type": "code",
   "execution_count": null,
   "id": "7229ce0e-26dc-4115-bdbf-0ae0379a7433",
   "metadata": {},
   "outputs": [],
   "source": []
  },
  {
   "cell_type": "code",
   "execution_count": null,
   "id": "ce01e52c-dd9f-485a-aecf-142e4bfcc471",
   "metadata": {
    "tags": []
   },
   "outputs": [],
   "source": [
    "adata.write_h5ad(f'data/{Sample}_annotated.h5ad')"
   ]
  },
  {
   "cell_type": "markdown",
   "id": "e1efd296-0b64-491b-b7e2-c55771efcfd2",
   "metadata": {
    "jp-MarkdownHeadingCollapsed": true,
    "tags": []
   },
   "source": [
    "## Saline2"
   ]
  },
  {
   "cell_type": "code",
   "execution_count": null,
   "id": "9bf478b5-a4fc-47c6-b9f1-45937bfababc",
   "metadata": {},
   "outputs": [],
   "source": []
  },
  {
   "cell_type": "code",
   "execution_count": null,
   "id": "2992c1fd-e9f4-44ed-bfa8-cb3e4e6f9618",
   "metadata": {
    "tags": []
   },
   "outputs": [],
   "source": [
    "Sample = 'Saline_2'"
   ]
  },
  {
   "cell_type": "code",
   "execution_count": null,
   "id": "111da7ef-c927-44e2-b27a-0d2c00b1a425",
   "metadata": {
    "scrolled": true,
    "tags": []
   },
   "outputs": [],
   "source": [
    "sdata = read_zarr(f\"./{Sample}/raw_sdata.zarr\")\n",
    "sdata"
   ]
  },
  {
   "cell_type": "code",
   "execution_count": null,
   "id": "2b265b41-8afd-4883-825d-ed5bd3f9e551",
   "metadata": {
    "tags": []
   },
   "outputs": [],
   "source": [
    "areas = []\n",
    "for pg in sdata.shapes[\"MultiModel\"][\"geometry\"]:\n",
    "    areas.append(pg.area)"
   ]
  },
  {
   "cell_type": "code",
   "execution_count": null,
   "id": "41a98fc1-6524-434a-883d-d162775eec1a",
   "metadata": {
    "tags": []
   },
   "outputs": [],
   "source": [
    "adata = sdata.tables['table'].copy()\n",
    "adata"
   ]
  },
  {
   "cell_type": "code",
   "execution_count": null,
   "id": "0fbc31f3-1a23-4f3a-abba-233e8b162ae8",
   "metadata": {
    "tags": []
   },
   "outputs": [],
   "source": [
    "adata.obs['area'] = areas\n",
    "adata.obs"
   ]
  },
  {
   "cell_type": "code",
   "execution_count": null,
   "id": "a81bb53b-55aa-42a5-af42-24c4d5a22192",
   "metadata": {
    "tags": []
   },
   "outputs": [],
   "source": [
    "import pandas as pd"
   ]
  },
  {
   "cell_type": "code",
   "execution_count": null,
   "id": "31ee2d9d-410b-40cb-a2a6-4f93c60e4f51",
   "metadata": {
    "tags": []
   },
   "outputs": [],
   "source": [
    "NP_Pad = pd.read_csv(\"/media/duan/DuanLab_Data/openFISH/TE/NP_Fold_V58_TE.csv\", index_col=0)"
   ]
  },
  {
   "cell_type": "code",
   "execution_count": null,
   "id": "4ebe86eb-b48a-49ca-af46-1ca21a6c54ea",
   "metadata": {
    "tags": []
   },
   "outputs": [],
   "source": [
    "adata.obsm['spatial'] = adata.obs[['x', 'y']].to_numpy()"
   ]
  },
  {
   "cell_type": "code",
   "execution_count": null,
   "id": "a1db5ccc-425c-490e-8895-fdc9b1dd7c42",
   "metadata": {
    "tags": []
   },
   "outputs": [],
   "source": [
    "sc.set_figure_params(figsize = (6,6), scanpy = False)\n",
    "sc.pl.embedding(adata, basis = 'spatial', color = 'Cck', size = 10)"
   ]
  },
  {
   "cell_type": "code",
   "execution_count": null,
   "id": "c3614463-6bf6-4704-aea2-28508740ee62",
   "metadata": {
    "tags": []
   },
   "outputs": [],
   "source": [
    "adata.obsm[\"spatial\"][:,1] =  0 - adata.obsm[\"spatial\"][:,1]\n",
    "sc.pl.embedding(adata, basis = 'spatial', color = 'TE_RLTR6_Mm', size = 10)"
   ]
  },
  {
   "cell_type": "code",
   "execution_count": null,
   "id": "a27e27b6-f908-4d7a-a124-0b3c47e20c33",
   "metadata": {
    "tags": []
   },
   "outputs": [],
   "source": [
    "tmpmatrix = adata.to_df().copy()"
   ]
  },
  {
   "cell_type": "code",
   "execution_count": null,
   "id": "242e732b-a3e9-416f-a846-602a74d562e6",
   "metadata": {
    "tags": []
   },
   "outputs": [],
   "source": [
    "tmpmatrix = tmpmatrix.astype('float32')"
   ]
  },
  {
   "cell_type": "code",
   "execution_count": null,
   "id": "54ab6765-c79b-40f8-89dc-71ef39f9f1b8",
   "metadata": {
    "scrolled": true,
    "tags": []
   },
   "outputs": [],
   "source": [
    "import numpy as np\n",
    "\n",
    "for col in tmpmatrix.columns:\n",
    "    # tmpmatrix.loc[:,col] = tmpmatrix.loc[:,col] * np.log2(NP_Pad.loc[col, 'Fold'] + 1)\n",
    "    tmpmatrix.loc[:,col] = tmpmatrix.loc[:,col] * NP_Pad.loc[col, 'Fold']"
   ]
  },
  {
   "cell_type": "code",
   "execution_count": null,
   "id": "73c2bef4-2334-4f85-baff-8daac04517be",
   "metadata": {
    "tags": []
   },
   "outputs": [],
   "source": [
    "from scipy.sparse import csr_matrix"
   ]
  },
  {
   "cell_type": "code",
   "execution_count": null,
   "id": "4151fea0-b0f5-43cf-8576-c2b32ced09b7",
   "metadata": {
    "tags": []
   },
   "outputs": [],
   "source": [
    "adata.layers['counts'] = adata.X.copy()\n",
    "adata.X = csr_matrix(tmpmatrix)\n",
    "adata.layers['counts_corrected'] = adata.X.copy()"
   ]
  },
  {
   "cell_type": "code",
   "execution_count": null,
   "id": "548e799b-217f-4410-8e90-514edf1d0034",
   "metadata": {
    "tags": []
   },
   "outputs": [],
   "source": [
    "adata"
   ]
  },
  {
   "cell_type": "code",
   "execution_count": null,
   "id": "2aa13d25-cac1-487e-9c04-0d18b00d33f7",
   "metadata": {},
   "outputs": [],
   "source": [
    "adata.var[\"FP\"] = adata.var_names.str.startswith(\"sFP\")"
   ]
  },
  {
   "cell_type": "code",
   "execution_count": null,
   "id": "d81f7a83-d874-45d9-9791-738065009726",
   "metadata": {
    "tags": []
   },
   "outputs": [],
   "source": [
    "sc.pp.calculate_qc_metrics(\n",
    "    adata, inplace=True, log1p=True, percent_top=None,qc_vars=[\"FP\"]\n",
    ")"
   ]
  },
  {
   "cell_type": "code",
   "execution_count": null,
   "id": "ae48806e-92a5-4456-b12f-37c5618a3e39",
   "metadata": {
    "tags": []
   },
   "outputs": [],
   "source": [
    "sc.pl.violin(\n",
    "    adata,\n",
    "    [\"n_genes_by_counts\", \"total_counts\", 'pct_counts_FP'],\n",
    "    jitter=0.4,\n",
    "    multi_panel=True,\n",
    ")"
   ]
  },
  {
   "cell_type": "code",
   "execution_count": null,
   "id": "872e4fd7-92c1-4435-8a00-2324809944ff",
   "metadata": {
    "tags": []
   },
   "outputs": [],
   "source": [
    "import numpy as np\n",
    "from tqdm import tqdm"
   ]
  },
  {
   "cell_type": "code",
   "execution_count": null,
   "id": "9ae756b6-cbdd-4356-98c5-4f0dfe944d0f",
   "metadata": {
    "tags": []
   },
   "outputs": [],
   "source": [
    "adata"
   ]
  },
  {
   "cell_type": "code",
   "execution_count": null,
   "id": "bf876644-552a-4bcf-8225-95796efd52f0",
   "metadata": {
    "tags": []
   },
   "outputs": [],
   "source": [
    "adata.obs['total_counts'].mean()"
   ]
  },
  {
   "cell_type": "code",
   "execution_count": null,
   "id": "f2399d76-730c-4dc2-8e48-d76c2241a0ca",
   "metadata": {
    "tags": []
   },
   "outputs": [],
   "source": [
    "adata.obs['total_counts'].median()"
   ]
  },
  {
   "cell_type": "code",
   "execution_count": null,
   "id": "b05de2f1-f9c1-4058-b881-1def62ec313b",
   "metadata": {
    "tags": []
   },
   "outputs": [],
   "source": [
    "np.max(adata.obs['total_counts_FP'])"
   ]
  },
  {
   "cell_type": "code",
   "execution_count": null,
   "id": "dca76b95-3705-4c3a-8b1d-fcd353328592",
   "metadata": {
    "tags": []
   },
   "outputs": [],
   "source": [
    "adata.obs['total_counts_FP'].mean()"
   ]
  },
  {
   "cell_type": "code",
   "execution_count": null,
   "id": "53277f5c-a40c-4c5e-bc95-2b073ad66f62",
   "metadata": {
    "tags": []
   },
   "outputs": [],
   "source": [
    "# Filter cells according to Cell Volume\n",
    "adata.obs[\"area\"].mean()"
   ]
  },
  {
   "cell_type": "code",
   "execution_count": null,
   "id": "2cf146ad-5c87-427c-8da9-9b2dee22da6d",
   "metadata": {
    "tags": []
   },
   "outputs": [],
   "source": [
    "np.percentile(adata.obs[\"area\"], 1)"
   ]
  },
  {
   "cell_type": "code",
   "execution_count": null,
   "id": "1f471f6e-1cad-4f0b-973b-5c1694a57a92",
   "metadata": {
    "tags": []
   },
   "outputs": [],
   "source": [
    "np.percentile(adata.obs[\"area\"], 90)"
   ]
  },
  {
   "cell_type": "code",
   "execution_count": null,
   "id": "25c15af9-e5c8-467b-812d-6c5b60ae16a8",
   "metadata": {
    "tags": []
   },
   "outputs": [],
   "source": [
    "np.percentile(adata.obs[\"area\"], 50)"
   ]
  },
  {
   "cell_type": "code",
   "execution_count": null,
   "id": "a472fcaf-65da-4ffb-8039-251954466d04",
   "metadata": {
    "tags": []
   },
   "outputs": [],
   "source": [
    "adata = adata[(adata.obs[\"area\"] > 600) & (adata.obs[\"area\"] < (3 * adata.obs[\"area\"].mean())),:].copy()\n",
    "adata"
   ]
  },
  {
   "cell_type": "code",
   "execution_count": null,
   "id": "1ae676e3-fb21-412b-87f6-c691f45691d3",
   "metadata": {
    "tags": []
   },
   "outputs": [],
   "source": [
    "adata.obs['total_counts'].median()"
   ]
  },
  {
   "cell_type": "code",
   "execution_count": null,
   "id": "c5c180d8-6459-45d2-815d-27aa807fed1e",
   "metadata": {},
   "outputs": [],
   "source": []
  },
  {
   "cell_type": "code",
   "execution_count": null,
   "id": "9ff68021-782e-4886-b0f6-7143171c5425",
   "metadata": {},
   "outputs": [],
   "source": [
    "adata = adata[adata.obs.pct_counts_FP < 0.1, :].copy()\n",
    "sc.pp.filter_cells(adata, min_genes=2)\n",
    "sc.pp.filter_cells(adata, max_counts=900)\n",
    "sc.pp.filter_cells(adata, min_counts=10)"
   ]
  },
  {
   "cell_type": "code",
   "execution_count": null,
   "id": "d21ba2bc-76e8-4dad-8fc0-d2b36574f1b8",
   "metadata": {},
   "outputs": [],
   "source": []
  },
  {
   "cell_type": "code",
   "execution_count": null,
   "id": "cef300ad-1282-4c47-83b8-8b6a7a19afbb",
   "metadata": {
    "tags": []
   },
   "outputs": [],
   "source": [
    "BLACK_LIST = ['sFP']"
   ]
  },
  {
   "cell_type": "code",
   "execution_count": null,
   "id": "eb3e4140-36e2-41d1-976c-0c0beb9ba152",
   "metadata": {
    "tags": []
   },
   "outputs": [],
   "source": [
    "adata = adata[:, [x for x in adata.var_names if x not in BLACK_LIST]].copy()"
   ]
  },
  {
   "cell_type": "code",
   "execution_count": null,
   "id": "4ed5290d-28ba-41ff-81ea-28aaec71ce58",
   "metadata": {
    "tags": []
   },
   "outputs": [],
   "source": [
    "ref = sc.read_h5ad(\"/media/duan/DuanLab_Data/openFISH/ABA110_Demo2/Rep2/annotated.h5ad\")\n",
    "ref"
   ]
  },
  {
   "cell_type": "code",
   "execution_count": null,
   "id": "6f2cc5b5-047a-4241-8934-2dc9898c8d07",
   "metadata": {
    "tags": []
   },
   "outputs": [],
   "source": [
    "ref.X = ref.layers['counts_corrected'].copy()"
   ]
  },
  {
   "cell_type": "code",
   "execution_count": null,
   "id": "2a8ce6c8-6c3c-4074-941e-20f9ec4fefa1",
   "metadata": {
    "tags": []
   },
   "outputs": [],
   "source": [
    "adata.obs['transfer'] = 'target'\n",
    "adata.obs['cell_type'] = 'target'\n",
    "\n",
    "ref.obs['transfer'] = 'source'"
   ]
  },
  {
   "cell_type": "code",
   "execution_count": null,
   "id": "bcc067be-1822-4604-a711-d86153941eeb",
   "metadata": {
    "tags": []
   },
   "outputs": [],
   "source": [
    "merged = sc.concat([adata, ref], merge=\"same\")\n",
    "merged"
   ]
  },
  {
   "cell_type": "code",
   "execution_count": null,
   "id": "df655eae-30b4-49db-9c7a-d2767995f0b8",
   "metadata": {
    "tags": []
   },
   "outputs": [],
   "source": [
    "# Normalize using cell area\n",
    "from scipy.sparse import csr_matrix\n",
    "cell_area = np.array(merged.obs[\"area\"])\n",
    "# cell_area = cell_area.reshape((len(cell_area),1))\n",
    "merged.X = csr_matrix((merged.X.T / cell_area).T)"
   ]
  },
  {
   "cell_type": "code",
   "execution_count": null,
   "id": "7c62eaeb-6fd6-4744-8dd4-fa38f0c54201",
   "metadata": {
    "tags": []
   },
   "outputs": [],
   "source": [
    "# Normalizing to median total counts\n",
    "sc.pp.normalize_total(merged, target_sum=109)\n",
    "# Logarithmize the data\n",
    "sc.pp.log1p(merged)"
   ]
  },
  {
   "cell_type": "code",
   "execution_count": null,
   "id": "83065d2f-1eea-4e1e-8c2b-899904b5213e",
   "metadata": {
    "tags": []
   },
   "outputs": [],
   "source": [
    "sc.tl.pca(merged, svd_solver='arpack')"
   ]
  },
  {
   "cell_type": "code",
   "execution_count": null,
   "id": "b08d9875-8257-4e6d-a7c8-bc89d642df03",
   "metadata": {
    "tags": []
   },
   "outputs": [],
   "source": [
    "import scanpy.external as sce"
   ]
  },
  {
   "cell_type": "code",
   "execution_count": null,
   "id": "41651baf-da31-4b37-b7d0-5cf6eae7519e",
   "metadata": {
    "tags": []
   },
   "outputs": [],
   "source": [
    "sce.pp.harmony_integrate(merged, [\"transfer\"], max_iter_harmony = 100)"
   ]
  },
  {
   "cell_type": "code",
   "execution_count": null,
   "id": "a46c5523-3767-4b06-94ba-5f98e1e9143a",
   "metadata": {
    "scrolled": true,
    "tags": []
   },
   "outputs": [],
   "source": [
    "sc.pp.neighbors(merged, use_rep = \"X_pca_harmony\")"
   ]
  },
  {
   "cell_type": "code",
   "execution_count": null,
   "id": "82f662ac-8477-41d1-8975-d5537a0d7c1a",
   "metadata": {
    "tags": []
   },
   "outputs": [],
   "source": [
    "sc.tl.umap(merged)"
   ]
  },
  {
   "cell_type": "code",
   "execution_count": null,
   "id": "9761fc76-d59f-409f-92cc-c45846b23d5f",
   "metadata": {
    "tags": []
   },
   "outputs": [],
   "source": [
    "sc.pl.umap(merged, color=[\"transfer\", 'cell_type'], size = 2)"
   ]
  },
  {
   "cell_type": "code",
   "execution_count": null,
   "id": "a61c4871-47cf-4cd7-b3fb-75e1639aceac",
   "metadata": {
    "tags": []
   },
   "outputs": [],
   "source": [
    "from scipy.spatial import KDTree\n",
    "from tqdm import tqdm\n",
    "import numpy as np"
   ]
  },
  {
   "cell_type": "code",
   "execution_count": null,
   "id": "b2c5cc64-5dc1-4219-add8-68a4f332c83b",
   "metadata": {
    "tags": []
   },
   "outputs": [],
   "source": [
    "tmp = merged[merged.obs['transfer'] == 'source'].copy()\n",
    "tmp"
   ]
  },
  {
   "cell_type": "code",
   "execution_count": null,
   "id": "3fd71925-744c-4f07-8c5e-3717d1021e0c",
   "metadata": {
    "tags": []
   },
   "outputs": [],
   "source": [
    "ALL_CellTypes = []\n",
    "ALL_Centers = []\n",
    "\n",
    "for ct in tmp.obs['cell_type'].unique():\n",
    "    ALL_Centers.append(np.mean(tmp.obsm['X_pca_harmony'][tmp.obs['cell_type'] == ct,:], axis = 0))\n",
    "    ALL_CellTypes.append(ct)"
   ]
  },
  {
   "cell_type": "code",
   "execution_count": null,
   "id": "3c3b28ab-b0c1-4b63-9782-c4be140c1dcf",
   "metadata": {
    "tags": []
   },
   "outputs": [],
   "source": [
    "tree = KDTree(ALL_Centers)"
   ]
  },
  {
   "cell_type": "code",
   "execution_count": null,
   "id": "9c9fa78e-d161-40dd-9678-35c63397f6e9",
   "metadata": {
    "tags": []
   },
   "outputs": [],
   "source": [
    "transfer_celltype = []\n",
    "for i in tqdm(range(merged.shape[0])):\n",
    "    if merged.obs[\"cell_type\"][i] == \"target\":\n",
    "        _, index = tree.query(merged.obsm[\"X_pca_harmony\"][i])\n",
    "        transfer_celltype.append(ALL_CellTypes[index])\n",
    "    else:\n",
    "        transfer_celltype.append(merged.obs[\"cell_type\"][i])"
   ]
  },
  {
   "cell_type": "code",
   "execution_count": null,
   "id": "8645ab1f-7412-4803-8418-35565e2c0ce1",
   "metadata": {
    "tags": []
   },
   "outputs": [],
   "source": [
    "merged.obs[\"transfer_cell_type\"] = transfer_celltype"
   ]
  },
  {
   "cell_type": "code",
   "execution_count": null,
   "id": "5745ae6f-29cc-4310-b052-9b6642aa80c2",
   "metadata": {
    "tags": []
   },
   "outputs": [],
   "source": [
    "sc.pl.umap(merged, color=[\"transfer_cell_type\"], size = 2)"
   ]
  },
  {
   "cell_type": "code",
   "execution_count": null,
   "id": "d482bb49-d22d-48b3-998e-195438ade919",
   "metadata": {},
   "outputs": [],
   "source": [
    "adata"
   ]
  },
  {
   "cell_type": "code",
   "execution_count": null,
   "id": "7a26f002-f15e-4bf1-92f1-20ad36cbb094",
   "metadata": {
    "tags": []
   },
   "outputs": [],
   "source": [
    "adata.obs['cell_type'] = merged[merged.obs['transfer'] == 'target'].obs['transfer_cell_type'].to_numpy()"
   ]
  },
  {
   "cell_type": "code",
   "execution_count": null,
   "id": "932c2ba2-406b-4e53-bbf1-bf5357e9d397",
   "metadata": {
    "tags": []
   },
   "outputs": [],
   "source": [
    "sc.pl.embedding(adata, basis = 'spatial', color = 'cell_type')"
   ]
  },
  {
   "cell_type": "code",
   "execution_count": null,
   "id": "0e07e8c2-0b38-4548-bdbc-2acbe558ee35",
   "metadata": {
    "tags": []
   },
   "outputs": [],
   "source": [
    "sc.pl.embedding(adata, basis = 'spatial', color = 'cell_type', groups = 'Inh Vip', size = 20)"
   ]
  },
  {
   "cell_type": "code",
   "execution_count": null,
   "id": "9adb49c5-4fe5-4b86-b676-faf8e86a6b9c",
   "metadata": {},
   "outputs": [],
   "source": []
  },
  {
   "cell_type": "code",
   "execution_count": null,
   "id": "59fde7c9-0ddf-481e-ac1f-0744fbdd49e2",
   "metadata": {
    "tags": []
   },
   "outputs": [],
   "source": [
    "adata.write_h5ad(f'data/{Sample}_annotated.h5ad')"
   ]
  },
  {
   "cell_type": "markdown",
   "id": "0657f985-9bb1-48dc-80eb-205e2eb8474e",
   "metadata": {
    "jp-MarkdownHeadingCollapsed": true,
    "tags": []
   },
   "source": [
    "## Saline4"
   ]
  },
  {
   "cell_type": "code",
   "execution_count": null,
   "id": "46734b65-e4f7-4cbd-bc2d-f805aac973ff",
   "metadata": {},
   "outputs": [],
   "source": []
  },
  {
   "cell_type": "code",
   "execution_count": null,
   "id": "89f869d3-e031-4cc9-8523-76f9a6b03095",
   "metadata": {
    "tags": []
   },
   "outputs": [],
   "source": [
    "Sample = 'Saline_4'"
   ]
  },
  {
   "cell_type": "code",
   "execution_count": null,
   "id": "cec57fc9-6bd6-4521-a816-7d01d0e1e4a9",
   "metadata": {
    "scrolled": true,
    "tags": []
   },
   "outputs": [],
   "source": [
    "sdata = read_zarr(f\"./{Sample}/raw_sdata.zarr\")\n",
    "sdata"
   ]
  },
  {
   "cell_type": "code",
   "execution_count": null,
   "id": "60ad42f1-4680-494f-98a3-35a19664d0db",
   "metadata": {
    "tags": []
   },
   "outputs": [],
   "source": [
    "areas = []\n",
    "for pg in sdata.shapes[\"MultiModel\"][\"geometry\"]:\n",
    "    areas.append(pg.area)"
   ]
  },
  {
   "cell_type": "code",
   "execution_count": null,
   "id": "7fac9950-42ff-439a-8520-4c2e9495a678",
   "metadata": {
    "tags": []
   },
   "outputs": [],
   "source": [
    "adata = sdata.tables['table'].copy()\n",
    "adata"
   ]
  },
  {
   "cell_type": "code",
   "execution_count": null,
   "id": "a3ec0bdc-093d-49b8-9419-fda56382d9a6",
   "metadata": {
    "tags": []
   },
   "outputs": [],
   "source": [
    "adata.obs['area'] = areas\n",
    "adata.obs"
   ]
  },
  {
   "cell_type": "code",
   "execution_count": null,
   "id": "078eae7f-6d05-4b32-bb97-69fc9b33b9a2",
   "metadata": {
    "tags": []
   },
   "outputs": [],
   "source": [
    "import pandas as pd"
   ]
  },
  {
   "cell_type": "code",
   "execution_count": null,
   "id": "32fdb181-926f-4e00-b3e7-2d6de77e8ab7",
   "metadata": {
    "tags": []
   },
   "outputs": [],
   "source": [
    "NP_Pad = pd.read_csv(\"/media/duan/DuanLab_Data/openFISH/TE/NP_Fold_V58_TE.csv\", index_col=0)"
   ]
  },
  {
   "cell_type": "code",
   "execution_count": null,
   "id": "4056fb3c-1489-453a-8f9f-6ed74ed11bd8",
   "metadata": {
    "tags": []
   },
   "outputs": [],
   "source": [
    "adata.obsm['spatial'] = adata.obs[['x', 'y']].to_numpy()"
   ]
  },
  {
   "cell_type": "code",
   "execution_count": null,
   "id": "c5714433-3716-4eef-8134-6521656c279f",
   "metadata": {
    "tags": []
   },
   "outputs": [],
   "source": [
    "sc.set_figure_params(figsize = (6,6), scanpy = False)\n",
    "sc.pl.embedding(adata, basis = 'spatial', color = 'Cck', size = 10)"
   ]
  },
  {
   "cell_type": "code",
   "execution_count": null,
   "id": "635f86e1-368b-4fbe-a1a9-ae132c0f575b",
   "metadata": {
    "tags": []
   },
   "outputs": [],
   "source": [
    "adata.obsm[\"spatial\"][:,1] =  0 - adata.obsm[\"spatial\"][:,1]\n",
    "sc.pl.embedding(adata, basis = 'spatial', color = 'TE_RLTR6_Mm', size = 10)"
   ]
  },
  {
   "cell_type": "code",
   "execution_count": null,
   "id": "301d5113-b706-4790-819c-67a189cfbe3e",
   "metadata": {
    "tags": []
   },
   "outputs": [],
   "source": [
    "tmpmatrix = adata.to_df().copy()"
   ]
  },
  {
   "cell_type": "code",
   "execution_count": null,
   "id": "b7ed1530-2c9e-4278-9320-5ee1e12b079c",
   "metadata": {
    "tags": []
   },
   "outputs": [],
   "source": [
    "tmpmatrix = tmpmatrix.astype('float32')"
   ]
  },
  {
   "cell_type": "code",
   "execution_count": null,
   "id": "9cbdb7c9-5310-48c2-ac75-011b3c3f4cce",
   "metadata": {
    "scrolled": true,
    "tags": []
   },
   "outputs": [],
   "source": [
    "import numpy as np\n",
    "\n",
    "for col in tmpmatrix.columns:\n",
    "    # tmpmatrix.loc[:,col] = tmpmatrix.loc[:,col] * np.log2(NP_Pad.loc[col, 'Fold'] + 1)\n",
    "    tmpmatrix.loc[:,col] = tmpmatrix.loc[:,col] * NP_Pad.loc[col, 'Fold']"
   ]
  },
  {
   "cell_type": "code",
   "execution_count": null,
   "id": "2a1bfba7-6bf8-434a-9357-fad3104aeb6f",
   "metadata": {
    "tags": []
   },
   "outputs": [],
   "source": [
    "from scipy.sparse import csr_matrix"
   ]
  },
  {
   "cell_type": "code",
   "execution_count": null,
   "id": "27bfceba-c05d-4b3b-9b00-3a93d11c3cbf",
   "metadata": {
    "tags": []
   },
   "outputs": [],
   "source": [
    "adata.layers['counts'] = adata.X.copy()\n",
    "adata.X = csr_matrix(tmpmatrix)\n",
    "adata.layers['counts_corrected'] = adata.X.copy()"
   ]
  },
  {
   "cell_type": "code",
   "execution_count": null,
   "id": "d9509b4c-20bd-420c-ae3d-c6e474bc75db",
   "metadata": {
    "tags": []
   },
   "outputs": [],
   "source": [
    "adata"
   ]
  },
  {
   "cell_type": "code",
   "execution_count": null,
   "id": "9a5fe31a-34f0-4eb6-a9c3-989d272acf75",
   "metadata": {},
   "outputs": [],
   "source": [
    "adata.var[\"FP\"] = adata.var_names.str.startswith(\"sFP\")"
   ]
  },
  {
   "cell_type": "code",
   "execution_count": null,
   "id": "a8d75105-914c-46d7-a010-3e7ad19cc4e9",
   "metadata": {
    "tags": []
   },
   "outputs": [],
   "source": [
    "sc.pp.calculate_qc_metrics(\n",
    "    adata, inplace=True, log1p=True, percent_top=None,qc_vars=[\"FP\"]\n",
    ")"
   ]
  },
  {
   "cell_type": "code",
   "execution_count": null,
   "id": "d8966a2e-7707-4639-9416-fff9959c6fa5",
   "metadata": {
    "tags": []
   },
   "outputs": [],
   "source": [
    "sc.pl.violin(\n",
    "    adata,\n",
    "    [\"n_genes_by_counts\", \"total_counts\", 'pct_counts_FP'],\n",
    "    jitter=0.4,\n",
    "    multi_panel=True,\n",
    ")"
   ]
  },
  {
   "cell_type": "code",
   "execution_count": null,
   "id": "fa34063b-acab-49df-85eb-82e903a33d4a",
   "metadata": {
    "tags": []
   },
   "outputs": [],
   "source": [
    "import numpy as np\n",
    "from tqdm import tqdm"
   ]
  },
  {
   "cell_type": "code",
   "execution_count": null,
   "id": "01594160-a627-4064-aa7b-152afe7c3836",
   "metadata": {
    "tags": []
   },
   "outputs": [],
   "source": [
    "adata"
   ]
  },
  {
   "cell_type": "code",
   "execution_count": null,
   "id": "e5b6ac46-9db0-46b2-9b73-40a120150634",
   "metadata": {
    "tags": []
   },
   "outputs": [],
   "source": [
    "adata.obs['total_counts'].mean()"
   ]
  },
  {
   "cell_type": "code",
   "execution_count": null,
   "id": "2acf0ddb-a5a6-4d1c-b802-5792c45e7545",
   "metadata": {
    "tags": []
   },
   "outputs": [],
   "source": [
    "adata.obs['total_counts'].median()"
   ]
  },
  {
   "cell_type": "code",
   "execution_count": null,
   "id": "664be1eb-a72c-414b-8797-c79df3f49043",
   "metadata": {
    "tags": []
   },
   "outputs": [],
   "source": [
    "np.max(adata.obs['total_counts_FP'])"
   ]
  },
  {
   "cell_type": "code",
   "execution_count": null,
   "id": "1fa1315c-c8cb-43c1-8191-485ade175805",
   "metadata": {
    "tags": []
   },
   "outputs": [],
   "source": [
    "adata.obs['total_counts_FP'].mean()"
   ]
  },
  {
   "cell_type": "code",
   "execution_count": null,
   "id": "338d8224-7f29-4b41-9fda-e6f4192068b0",
   "metadata": {
    "tags": []
   },
   "outputs": [],
   "source": [
    "# Filter cells according to Cell Volume\n",
    "adata.obs[\"area\"].mean()"
   ]
  },
  {
   "cell_type": "code",
   "execution_count": null,
   "id": "fbc043ab-dde1-489c-9f1d-dce42d25aece",
   "metadata": {
    "tags": []
   },
   "outputs": [],
   "source": [
    "np.percentile(adata.obs[\"area\"], 1)"
   ]
  },
  {
   "cell_type": "code",
   "execution_count": null,
   "id": "bdd770a2-798d-48bb-8670-c965831d9ab2",
   "metadata": {
    "tags": []
   },
   "outputs": [],
   "source": [
    "np.percentile(adata.obs[\"area\"], 90)"
   ]
  },
  {
   "cell_type": "code",
   "execution_count": null,
   "id": "1aa0222b-c0d5-4b87-b418-8eba411e2669",
   "metadata": {
    "tags": []
   },
   "outputs": [],
   "source": [
    "np.percentile(adata.obs[\"area\"], 50)"
   ]
  },
  {
   "cell_type": "code",
   "execution_count": null,
   "id": "e71908e9-640c-475f-9399-bba0b152517f",
   "metadata": {
    "tags": []
   },
   "outputs": [],
   "source": [
    "adata = adata[(adata.obs[\"area\"] > 600) & (adata.obs[\"area\"] < (3 * adata.obs[\"area\"].mean())),:].copy()\n",
    "adata"
   ]
  },
  {
   "cell_type": "code",
   "execution_count": null,
   "id": "b9bf21a8-e151-4fcf-954c-09b19f93d2aa",
   "metadata": {
    "tags": []
   },
   "outputs": [],
   "source": [
    "adata.obs['total_counts'].median()"
   ]
  },
  {
   "cell_type": "code",
   "execution_count": null,
   "id": "3f2fc573-a050-4df6-94a2-caec278670d1",
   "metadata": {},
   "outputs": [],
   "source": []
  },
  {
   "cell_type": "code",
   "execution_count": null,
   "id": "db2cd4a6-eeeb-48bf-8e84-3eff1d420be0",
   "metadata": {},
   "outputs": [],
   "source": [
    "adata = adata[adata.obs.pct_counts_FP < 0.1, :].copy()\n",
    "sc.pp.filter_cells(adata, min_genes=2)\n",
    "sc.pp.filter_cells(adata, max_counts=900)\n",
    "sc.pp.filter_cells(adata, min_counts=10)"
   ]
  },
  {
   "cell_type": "code",
   "execution_count": null,
   "id": "73b5b09b-3139-4988-bb6c-e32b39d52f31",
   "metadata": {},
   "outputs": [],
   "source": []
  },
  {
   "cell_type": "code",
   "execution_count": null,
   "id": "fbd1a0f0-9a1a-4136-919e-3bf83ad8523d",
   "metadata": {
    "tags": []
   },
   "outputs": [],
   "source": [
    "BLACK_LIST = ['sFP']"
   ]
  },
  {
   "cell_type": "code",
   "execution_count": null,
   "id": "787f7083-eb72-40ff-a890-7e7ddff51fb8",
   "metadata": {
    "tags": []
   },
   "outputs": [],
   "source": [
    "adata = adata[:, [x for x in adata.var_names if x not in BLACK_LIST]].copy()"
   ]
  },
  {
   "cell_type": "code",
   "execution_count": null,
   "id": "be82043a-49d7-4fd1-ab20-92cc3359014a",
   "metadata": {
    "tags": []
   },
   "outputs": [],
   "source": [
    "ref = sc.read_h5ad(\"/media/duan/DuanLab_Data/openFISH/ABA110_Demo2/Rep2/annotated.h5ad\")\n",
    "ref"
   ]
  },
  {
   "cell_type": "code",
   "execution_count": null,
   "id": "b18adb9d-3437-4508-a412-11a413c5532a",
   "metadata": {
    "tags": []
   },
   "outputs": [],
   "source": [
    "ref.X = ref.layers['counts_corrected'].copy()"
   ]
  },
  {
   "cell_type": "code",
   "execution_count": null,
   "id": "4d75f9f7-cb68-4ab1-94af-036e045af2dc",
   "metadata": {
    "tags": []
   },
   "outputs": [],
   "source": [
    "adata.obs['transfer'] = 'target'\n",
    "adata.obs['cell_type'] = 'target'\n",
    "\n",
    "ref.obs['transfer'] = 'source'"
   ]
  },
  {
   "cell_type": "code",
   "execution_count": null,
   "id": "e2a0e5fa-c789-4de2-b531-9d4cbb14f4a6",
   "metadata": {
    "tags": []
   },
   "outputs": [],
   "source": [
    "merged = sc.concat([adata, ref], merge=\"same\")\n",
    "merged"
   ]
  },
  {
   "cell_type": "code",
   "execution_count": null,
   "id": "1237b447-a125-4b83-b745-c2e25b63aa6f",
   "metadata": {
    "tags": []
   },
   "outputs": [],
   "source": [
    "# Normalize using cell area\n",
    "from scipy.sparse import csr_matrix\n",
    "cell_area = np.array(merged.obs[\"area\"])\n",
    "# cell_area = cell_area.reshape((len(cell_area),1))\n",
    "merged.X = csr_matrix((merged.X.T / cell_area).T)"
   ]
  },
  {
   "cell_type": "code",
   "execution_count": null,
   "id": "583c188d-f3fe-47d5-8271-0f3febc0a70d",
   "metadata": {
    "tags": []
   },
   "outputs": [],
   "source": [
    "# Normalizing to median total counts\n",
    "sc.pp.normalize_total(merged, target_sum=109)\n",
    "# Logarithmize the data\n",
    "sc.pp.log1p(merged)"
   ]
  },
  {
   "cell_type": "code",
   "execution_count": null,
   "id": "b7ae83ed-943c-4b9a-a940-9ab4e2109cc5",
   "metadata": {
    "tags": []
   },
   "outputs": [],
   "source": [
    "sc.tl.pca(merged, svd_solver='arpack')"
   ]
  },
  {
   "cell_type": "code",
   "execution_count": null,
   "id": "12bf3a6b-184f-4310-a64d-eacd813e617f",
   "metadata": {
    "tags": []
   },
   "outputs": [],
   "source": [
    "import scanpy.external as sce"
   ]
  },
  {
   "cell_type": "code",
   "execution_count": null,
   "id": "3d02af16-c167-4c4f-9d9a-730e21c21cff",
   "metadata": {
    "tags": []
   },
   "outputs": [],
   "source": [
    "sce.pp.harmony_integrate(merged, [\"transfer\"], max_iter_harmony = 100)"
   ]
  },
  {
   "cell_type": "code",
   "execution_count": null,
   "id": "ff7a6f2b-5615-45e8-afc7-3e3efc7b955b",
   "metadata": {
    "scrolled": true,
    "tags": []
   },
   "outputs": [],
   "source": [
    "sc.pp.neighbors(merged, use_rep = \"X_pca_harmony\")"
   ]
  },
  {
   "cell_type": "code",
   "execution_count": null,
   "id": "a9a037a5-b1ac-455b-ba6f-d6c028206afd",
   "metadata": {
    "tags": []
   },
   "outputs": [],
   "source": [
    "sc.tl.umap(merged)"
   ]
  },
  {
   "cell_type": "code",
   "execution_count": null,
   "id": "362409d5-8463-4e38-acc9-c43a3bd9411f",
   "metadata": {
    "tags": []
   },
   "outputs": [],
   "source": [
    "sc.pl.umap(merged, color=[\"transfer\", 'cell_type'], size = 2)"
   ]
  },
  {
   "cell_type": "code",
   "execution_count": null,
   "id": "66befa2f-de21-4615-b996-d3ad75c9598a",
   "metadata": {
    "tags": []
   },
   "outputs": [],
   "source": [
    "from scipy.spatial import KDTree\n",
    "from tqdm import tqdm\n",
    "import numpy as np"
   ]
  },
  {
   "cell_type": "code",
   "execution_count": null,
   "id": "620e3ea3-60ab-4655-b142-35e9c301cfb9",
   "metadata": {
    "tags": []
   },
   "outputs": [],
   "source": [
    "tmp = merged[merged.obs['transfer'] == 'source'].copy()\n",
    "tmp"
   ]
  },
  {
   "cell_type": "code",
   "execution_count": null,
   "id": "7c37dd91-60c2-4d18-a8a9-33c4561dc1a2",
   "metadata": {
    "tags": []
   },
   "outputs": [],
   "source": [
    "ALL_CellTypes = []\n",
    "ALL_Centers = []\n",
    "\n",
    "for ct in tmp.obs['cell_type'].unique():\n",
    "    ALL_Centers.append(np.mean(tmp.obsm['X_pca_harmony'][tmp.obs['cell_type'] == ct,:], axis = 0))\n",
    "    ALL_CellTypes.append(ct)"
   ]
  },
  {
   "cell_type": "code",
   "execution_count": null,
   "id": "3b766161-1651-459f-b9dc-401f96aab2d1",
   "metadata": {
    "tags": []
   },
   "outputs": [],
   "source": [
    "tree = KDTree(ALL_Centers)"
   ]
  },
  {
   "cell_type": "code",
   "execution_count": null,
   "id": "58dcf03b-68b4-464b-b92f-9c0c2befd3fa",
   "metadata": {
    "tags": []
   },
   "outputs": [],
   "source": [
    "transfer_celltype = []\n",
    "for i in tqdm(range(merged.shape[0])):\n",
    "    if merged.obs[\"cell_type\"][i] == \"target\":\n",
    "        _, index = tree.query(merged.obsm[\"X_pca_harmony\"][i])\n",
    "        transfer_celltype.append(ALL_CellTypes[index])\n",
    "    else:\n",
    "        transfer_celltype.append(merged.obs[\"cell_type\"][i])"
   ]
  },
  {
   "cell_type": "code",
   "execution_count": null,
   "id": "533d2363-78c4-4eab-8080-037d0a009b20",
   "metadata": {
    "tags": []
   },
   "outputs": [],
   "source": [
    "merged.obs[\"transfer_cell_type\"] = transfer_celltype"
   ]
  },
  {
   "cell_type": "code",
   "execution_count": null,
   "id": "be189e9d-ac35-495b-bb5c-1a4ea7ce8fbe",
   "metadata": {
    "tags": []
   },
   "outputs": [],
   "source": [
    "sc.pl.umap(merged, color=[\"transfer_cell_type\"], size = 2)"
   ]
  },
  {
   "cell_type": "code",
   "execution_count": null,
   "id": "d2f2c473-4667-47c6-a1ed-26ed8068b4c1",
   "metadata": {},
   "outputs": [],
   "source": [
    "adata"
   ]
  },
  {
   "cell_type": "code",
   "execution_count": null,
   "id": "a5555641-659d-4340-b4fc-808ece35bc40",
   "metadata": {
    "tags": []
   },
   "outputs": [],
   "source": [
    "adata.obs['cell_type'] = merged[merged.obs['transfer'] == 'target'].obs['transfer_cell_type'].to_numpy()"
   ]
  },
  {
   "cell_type": "code",
   "execution_count": null,
   "id": "7ec252bd-56aa-4c79-93e0-530399f30a82",
   "metadata": {
    "tags": []
   },
   "outputs": [],
   "source": [
    "sc.pl.embedding(adata, basis = 'spatial', color = 'cell_type')"
   ]
  },
  {
   "cell_type": "code",
   "execution_count": null,
   "id": "d2c139be-dbf6-4b1d-9e03-844e3e1d318f",
   "metadata": {
    "tags": []
   },
   "outputs": [],
   "source": [
    "sc.pl.embedding(adata, basis = 'spatial', color = 'cell_type', groups = 'Inh Vip', size = 20)"
   ]
  },
  {
   "cell_type": "code",
   "execution_count": null,
   "id": "a2ababc5-7eca-4d9d-a4bf-3475cccf8541",
   "metadata": {},
   "outputs": [],
   "source": []
  },
  {
   "cell_type": "code",
   "execution_count": null,
   "id": "d2d43daf-f02b-4154-ac11-708f4b03e8b8",
   "metadata": {
    "tags": []
   },
   "outputs": [],
   "source": [
    "adata.write_h5ad(f'data/{Sample}_annotated.h5ad')"
   ]
  },
  {
   "cell_type": "markdown",
   "id": "4a98a0d0-58db-4278-a223-a226a80a4c5e",
   "metadata": {
    "jp-MarkdownHeadingCollapsed": true,
    "tags": []
   },
   "source": [
    "## Saline9"
   ]
  },
  {
   "cell_type": "code",
   "execution_count": null,
   "id": "9927f4ea-88fa-47cf-8a15-56ad2a36610d",
   "metadata": {},
   "outputs": [],
   "source": []
  },
  {
   "cell_type": "code",
   "execution_count": null,
   "id": "0c90c2c8-1f6a-457b-a953-ecc3e7d47f99",
   "metadata": {},
   "outputs": [],
   "source": []
  },
  {
   "cell_type": "code",
   "execution_count": null,
   "id": "e6f80c54-a7c5-441e-9c34-238ca43db7ad",
   "metadata": {
    "tags": []
   },
   "outputs": [],
   "source": [
    "Sample = 'Saline_9'"
   ]
  },
  {
   "cell_type": "code",
   "execution_count": null,
   "id": "31bfbb26-ba95-4c9c-9330-f7d43b2eabb0",
   "metadata": {
    "scrolled": true,
    "tags": []
   },
   "outputs": [],
   "source": [
    "sdata = read_zarr(f\"./{Sample}/raw_sdata.zarr\")\n",
    "sdata"
   ]
  },
  {
   "cell_type": "code",
   "execution_count": null,
   "id": "5377c60a-b030-4886-b84b-b1c3528a07d6",
   "metadata": {
    "tags": []
   },
   "outputs": [],
   "source": [
    "areas = []\n",
    "for pg in sdata.shapes[\"MultiModel\"][\"geometry\"]:\n",
    "    areas.append(pg.area)"
   ]
  },
  {
   "cell_type": "code",
   "execution_count": null,
   "id": "ffc4fe90-53a8-4e53-af66-a9d6e7613b77",
   "metadata": {
    "tags": []
   },
   "outputs": [],
   "source": [
    "adata = sdata.tables['table'].copy()\n",
    "adata"
   ]
  },
  {
   "cell_type": "code",
   "execution_count": null,
   "id": "fcb7bbfb-9215-4cbf-8e8c-9b9475c9af51",
   "metadata": {
    "tags": []
   },
   "outputs": [],
   "source": [
    "adata.obs['area'] = areas\n",
    "adata.obs"
   ]
  },
  {
   "cell_type": "code",
   "execution_count": null,
   "id": "342db499-2ef6-45bd-a278-27e9c5ddff0d",
   "metadata": {
    "tags": []
   },
   "outputs": [],
   "source": [
    "import pandas as pd"
   ]
  },
  {
   "cell_type": "code",
   "execution_count": null,
   "id": "c8e60068-3c1e-464b-b651-b3e01735c5d0",
   "metadata": {
    "tags": []
   },
   "outputs": [],
   "source": [
    "NP_Pad = pd.read_csv(\"/media/duan/DuanLab_Data/openFISH/TE/NP_Fold_V58_TE.csv\", index_col=0)"
   ]
  },
  {
   "cell_type": "code",
   "execution_count": null,
   "id": "1c36bd86-502c-472b-9d56-8ca25385a8f9",
   "metadata": {
    "tags": []
   },
   "outputs": [],
   "source": [
    "adata.obsm['spatial'] = adata.obs[['x', 'y']].to_numpy()"
   ]
  },
  {
   "cell_type": "code",
   "execution_count": null,
   "id": "b8f7f28f-684a-4732-92c1-5e0bd5b0f2ac",
   "metadata": {
    "tags": []
   },
   "outputs": [],
   "source": [
    "sc.set_figure_params(figsize = (6,6), scanpy = False)\n",
    "sc.pl.embedding(adata, basis = 'spatial', color = 'Cck', size = 10)"
   ]
  },
  {
   "cell_type": "code",
   "execution_count": null,
   "id": "aeaa4b0b-7eef-4ab0-8492-0014a1ab023b",
   "metadata": {
    "tags": []
   },
   "outputs": [],
   "source": [
    "adata.obsm[\"spatial\"][:,1] =  0 - adata.obsm[\"spatial\"][:,1]\n",
    "sc.pl.embedding(adata, basis = 'spatial', color = 'TE_RLTR6_Mm', size = 10)"
   ]
  },
  {
   "cell_type": "code",
   "execution_count": null,
   "id": "c877f466-fee1-4a85-b158-3ef250bb4b76",
   "metadata": {
    "tags": []
   },
   "outputs": [],
   "source": [
    "tmpmatrix = adata.to_df().copy()"
   ]
  },
  {
   "cell_type": "code",
   "execution_count": null,
   "id": "2e74f248-c259-42d8-b4fc-ab01f90eb55b",
   "metadata": {
    "tags": []
   },
   "outputs": [],
   "source": [
    "tmpmatrix = tmpmatrix.astype('float32')"
   ]
  },
  {
   "cell_type": "code",
   "execution_count": null,
   "id": "853ef8f4-d14d-4d82-a44e-702e29237ba1",
   "metadata": {
    "scrolled": true,
    "tags": []
   },
   "outputs": [],
   "source": [
    "import numpy as np\n",
    "\n",
    "for col in tmpmatrix.columns:\n",
    "    # tmpmatrix.loc[:,col] = tmpmatrix.loc[:,col] * np.log2(NP_Pad.loc[col, 'Fold'] + 1)\n",
    "    tmpmatrix.loc[:,col] = tmpmatrix.loc[:,col] * NP_Pad.loc[col, 'Fold']"
   ]
  },
  {
   "cell_type": "code",
   "execution_count": null,
   "id": "43046d89-6b1d-477e-9909-b597e1d370b6",
   "metadata": {
    "tags": []
   },
   "outputs": [],
   "source": [
    "from scipy.sparse import csr_matrix"
   ]
  },
  {
   "cell_type": "code",
   "execution_count": null,
   "id": "b1356769-858e-4de1-9d9a-8f151dd24f60",
   "metadata": {
    "tags": []
   },
   "outputs": [],
   "source": [
    "adata.layers['counts'] = adata.X.copy()\n",
    "adata.X = csr_matrix(tmpmatrix)\n",
    "adata.layers['counts_corrected'] = adata.X.copy()"
   ]
  },
  {
   "cell_type": "code",
   "execution_count": null,
   "id": "b4240375-bc3f-4d22-aba8-4a9ec2961f96",
   "metadata": {
    "tags": []
   },
   "outputs": [],
   "source": [
    "adata"
   ]
  },
  {
   "cell_type": "code",
   "execution_count": null,
   "id": "b72b3c02-8918-4e09-bc64-73cbe825e3c1",
   "metadata": {},
   "outputs": [],
   "source": [
    "adata.var[\"FP\"] = adata.var_names.str.startswith(\"sFP\")"
   ]
  },
  {
   "cell_type": "code",
   "execution_count": null,
   "id": "93d0de7e-2bb4-4840-bb32-ee1f35ee2344",
   "metadata": {
    "tags": []
   },
   "outputs": [],
   "source": [
    "sc.pp.calculate_qc_metrics(\n",
    "    adata, inplace=True, log1p=True, percent_top=None,qc_vars=[\"FP\"]\n",
    ")"
   ]
  },
  {
   "cell_type": "code",
   "execution_count": null,
   "id": "056e0a66-00e9-4dca-b045-379cfe049b72",
   "metadata": {
    "tags": []
   },
   "outputs": [],
   "source": [
    "sc.pl.violin(\n",
    "    adata,\n",
    "    [\"n_genes_by_counts\", \"total_counts\", 'pct_counts_FP'],\n",
    "    jitter=0.4,\n",
    "    multi_panel=True,\n",
    ")"
   ]
  },
  {
   "cell_type": "code",
   "execution_count": null,
   "id": "4a742c1a-28a8-4862-af22-a2b44100c452",
   "metadata": {
    "tags": []
   },
   "outputs": [],
   "source": [
    "import numpy as np\n",
    "from tqdm import tqdm"
   ]
  },
  {
   "cell_type": "code",
   "execution_count": null,
   "id": "6dea0f39-b196-4ba3-a76e-8e4ea0b380ae",
   "metadata": {
    "tags": []
   },
   "outputs": [],
   "source": [
    "adata"
   ]
  },
  {
   "cell_type": "code",
   "execution_count": null,
   "id": "1fbf134c-0ab7-49bb-bf7d-8bfa37f2de0a",
   "metadata": {
    "tags": []
   },
   "outputs": [],
   "source": [
    "adata.obs['total_counts'].mean()"
   ]
  },
  {
   "cell_type": "code",
   "execution_count": null,
   "id": "6de9dbd3-bbd7-47ac-8650-930cdc4e5d72",
   "metadata": {
    "tags": []
   },
   "outputs": [],
   "source": [
    "adata.obs['total_counts'].median()"
   ]
  },
  {
   "cell_type": "code",
   "execution_count": null,
   "id": "9fd26797-fc9c-43cb-a3c4-dbd2afc1cec6",
   "metadata": {
    "tags": []
   },
   "outputs": [],
   "source": [
    "np.max(adata.obs['total_counts_FP'])"
   ]
  },
  {
   "cell_type": "code",
   "execution_count": null,
   "id": "4dc3ca67-e408-40bb-804b-17794500ee7c",
   "metadata": {
    "tags": []
   },
   "outputs": [],
   "source": [
    "adata.obs['total_counts_FP'].mean()"
   ]
  },
  {
   "cell_type": "code",
   "execution_count": null,
   "id": "bdb4699c-fc8c-4c6d-a43e-46b359010c30",
   "metadata": {
    "tags": []
   },
   "outputs": [],
   "source": [
    "# Filter cells according to Cell Volume\n",
    "adata.obs[\"area\"].mean()"
   ]
  },
  {
   "cell_type": "code",
   "execution_count": null,
   "id": "99838cde-bd44-49cf-ad6b-2cb92832607e",
   "metadata": {
    "tags": []
   },
   "outputs": [],
   "source": [
    "np.percentile(adata.obs[\"area\"], 1)"
   ]
  },
  {
   "cell_type": "code",
   "execution_count": null,
   "id": "4f158c21-3dc6-40cb-b871-b5aa2f24017a",
   "metadata": {
    "tags": []
   },
   "outputs": [],
   "source": [
    "np.percentile(adata.obs[\"area\"], 90)"
   ]
  },
  {
   "cell_type": "code",
   "execution_count": null,
   "id": "89cf8b53-e4b3-499d-bcc9-d0db008bbaa2",
   "metadata": {
    "tags": []
   },
   "outputs": [],
   "source": [
    "np.percentile(adata.obs[\"area\"], 50)"
   ]
  },
  {
   "cell_type": "code",
   "execution_count": null,
   "id": "a1c1c419-9bf0-4ab2-a631-0ebe978f3601",
   "metadata": {
    "tags": []
   },
   "outputs": [],
   "source": [
    "adata = adata[(adata.obs[\"area\"] > 600) & (adata.obs[\"area\"] < (3 * adata.obs[\"area\"].mean())),:].copy()\n",
    "adata"
   ]
  },
  {
   "cell_type": "code",
   "execution_count": null,
   "id": "428b1edf-a7a3-478c-ade7-8e1c3f516e63",
   "metadata": {
    "tags": []
   },
   "outputs": [],
   "source": [
    "adata.obs['total_counts'].median()"
   ]
  },
  {
   "cell_type": "code",
   "execution_count": null,
   "id": "8de75809-75c9-4e86-949b-9447e463419a",
   "metadata": {},
   "outputs": [],
   "source": []
  },
  {
   "cell_type": "code",
   "execution_count": null,
   "id": "b8f15d08-30f6-4b62-9fe6-52c0532b2a20",
   "metadata": {},
   "outputs": [],
   "source": [
    "adata = adata[adata.obs.pct_counts_FP < 0.1, :].copy()\n",
    "sc.pp.filter_cells(adata, min_genes=2)\n",
    "sc.pp.filter_cells(adata, max_counts=900)\n",
    "sc.pp.filter_cells(adata, min_counts=10)"
   ]
  },
  {
   "cell_type": "code",
   "execution_count": null,
   "id": "58eb423b-22a3-489d-9c98-ada38cb7383c",
   "metadata": {},
   "outputs": [],
   "source": []
  },
  {
   "cell_type": "code",
   "execution_count": null,
   "id": "0c5209fa-b9b2-4bac-8022-5305e065d197",
   "metadata": {
    "tags": []
   },
   "outputs": [],
   "source": [
    "BLACK_LIST = ['sFP']"
   ]
  },
  {
   "cell_type": "code",
   "execution_count": null,
   "id": "c8a220c9-be44-432d-bb71-ce6846ede7d2",
   "metadata": {
    "tags": []
   },
   "outputs": [],
   "source": [
    "adata = adata[:, [x for x in adata.var_names if x not in BLACK_LIST]].copy()"
   ]
  },
  {
   "cell_type": "code",
   "execution_count": null,
   "id": "4a2222d3-32be-4b6d-a32a-b7c6fce79562",
   "metadata": {
    "tags": []
   },
   "outputs": [],
   "source": [
    "ref = sc.read_h5ad(\"/media/duan/DuanLab_Data/openFISH/ABA110_Demo2/Rep2/annotated.h5ad\")\n",
    "ref"
   ]
  },
  {
   "cell_type": "code",
   "execution_count": null,
   "id": "a670523b-1ee7-46b1-9138-1046dda13f93",
   "metadata": {
    "tags": []
   },
   "outputs": [],
   "source": [
    "ref.X = ref.layers['counts_corrected'].copy()"
   ]
  },
  {
   "cell_type": "code",
   "execution_count": null,
   "id": "1672d24b-3aaf-41f5-a16a-2d422adf0ef8",
   "metadata": {
    "tags": []
   },
   "outputs": [],
   "source": [
    "adata.obs['transfer'] = 'target'\n",
    "adata.obs['cell_type'] = 'target'\n",
    "\n",
    "ref.obs['transfer'] = 'source'"
   ]
  },
  {
   "cell_type": "code",
   "execution_count": null,
   "id": "95116b81-bf6d-43be-b907-b7d278dff22d",
   "metadata": {
    "tags": []
   },
   "outputs": [],
   "source": [
    "merged = sc.concat([adata, ref], merge=\"same\")\n",
    "merged"
   ]
  },
  {
   "cell_type": "code",
   "execution_count": null,
   "id": "6ceb2864-5614-42c9-8340-04d951ce5e8b",
   "metadata": {
    "tags": []
   },
   "outputs": [],
   "source": [
    "# Normalize using cell area\n",
    "from scipy.sparse import csr_matrix\n",
    "cell_area = np.array(merged.obs[\"area\"])\n",
    "# cell_area = cell_area.reshape((len(cell_area),1))\n",
    "merged.X = csr_matrix((merged.X.T / cell_area).T)"
   ]
  },
  {
   "cell_type": "code",
   "execution_count": null,
   "id": "6e189f1e-582a-4115-a66b-0a6c3fb448e2",
   "metadata": {
    "tags": []
   },
   "outputs": [],
   "source": [
    "# Normalizing to median total counts\n",
    "sc.pp.normalize_total(merged, target_sum=109)\n",
    "# Logarithmize the data\n",
    "sc.pp.log1p(merged)"
   ]
  },
  {
   "cell_type": "code",
   "execution_count": null,
   "id": "8334e785-2d2d-4778-9418-3177cb646988",
   "metadata": {
    "tags": []
   },
   "outputs": [],
   "source": [
    "sc.tl.pca(merged, svd_solver='arpack')"
   ]
  },
  {
   "cell_type": "code",
   "execution_count": null,
   "id": "4bb33c14-4bf2-4e20-8e46-ea3b2eed31df",
   "metadata": {
    "tags": []
   },
   "outputs": [],
   "source": [
    "import scanpy.external as sce"
   ]
  },
  {
   "cell_type": "code",
   "execution_count": null,
   "id": "c8d6bb9c-1ac9-4534-a4d8-5ae31ea368e0",
   "metadata": {
    "tags": []
   },
   "outputs": [],
   "source": [
    "sce.pp.harmony_integrate(merged, [\"transfer\"], max_iter_harmony = 100)"
   ]
  },
  {
   "cell_type": "code",
   "execution_count": null,
   "id": "3afd6115-c80e-4ec4-9c25-a1c25538c511",
   "metadata": {
    "scrolled": true,
    "tags": []
   },
   "outputs": [],
   "source": [
    "sc.pp.neighbors(merged, use_rep = \"X_pca_harmony\")"
   ]
  },
  {
   "cell_type": "code",
   "execution_count": null,
   "id": "f7460b76-72a2-415e-9e88-53c367babb79",
   "metadata": {
    "tags": []
   },
   "outputs": [],
   "source": [
    "sc.tl.umap(merged)"
   ]
  },
  {
   "cell_type": "code",
   "execution_count": null,
   "id": "6393fc71-4772-471c-b82c-7dc0d26812ce",
   "metadata": {
    "tags": []
   },
   "outputs": [],
   "source": [
    "sc.pl.umap(merged, color=[\"transfer\", 'cell_type'], size = 2)"
   ]
  },
  {
   "cell_type": "code",
   "execution_count": null,
   "id": "3b712a0f-9c07-4eb5-ba58-da711e48192f",
   "metadata": {
    "tags": []
   },
   "outputs": [],
   "source": [
    "from scipy.spatial import KDTree\n",
    "from tqdm import tqdm\n",
    "import numpy as np"
   ]
  },
  {
   "cell_type": "code",
   "execution_count": null,
   "id": "2ffeda06-d0c3-4747-9421-e47ded4824c3",
   "metadata": {
    "tags": []
   },
   "outputs": [],
   "source": [
    "tmp = merged[merged.obs['transfer'] == 'source'].copy()\n",
    "tmp"
   ]
  },
  {
   "cell_type": "code",
   "execution_count": null,
   "id": "0dd6130a-a16b-473c-b65c-ee35e25077ba",
   "metadata": {
    "tags": []
   },
   "outputs": [],
   "source": [
    "ALL_CellTypes = []\n",
    "ALL_Centers = []\n",
    "\n",
    "for ct in tmp.obs['cell_type'].unique():\n",
    "    ALL_Centers.append(np.mean(tmp.obsm['X_pca_harmony'][tmp.obs['cell_type'] == ct,:], axis = 0))\n",
    "    ALL_CellTypes.append(ct)"
   ]
  },
  {
   "cell_type": "code",
   "execution_count": null,
   "id": "380d16ec-adcf-4b73-bb51-b9aa697d34d9",
   "metadata": {
    "tags": []
   },
   "outputs": [],
   "source": [
    "tree = KDTree(ALL_Centers)"
   ]
  },
  {
   "cell_type": "code",
   "execution_count": null,
   "id": "84307ef8-bc57-49d7-9f51-142a02a90787",
   "metadata": {
    "tags": []
   },
   "outputs": [],
   "source": [
    "transfer_celltype = []\n",
    "for i in tqdm(range(merged.shape[0])):\n",
    "    if merged.obs[\"cell_type\"][i] == \"target\":\n",
    "        _, index = tree.query(merged.obsm[\"X_pca_harmony\"][i])\n",
    "        transfer_celltype.append(ALL_CellTypes[index])\n",
    "    else:\n",
    "        transfer_celltype.append(merged.obs[\"cell_type\"][i])"
   ]
  },
  {
   "cell_type": "code",
   "execution_count": null,
   "id": "7b2d19ca-21eb-4df5-9e4a-f5958a15410b",
   "metadata": {
    "tags": []
   },
   "outputs": [],
   "source": [
    "merged.obs[\"transfer_cell_type\"] = transfer_celltype"
   ]
  },
  {
   "cell_type": "code",
   "execution_count": null,
   "id": "30e50801-0e0f-45fd-a392-49f7292fe3af",
   "metadata": {
    "tags": []
   },
   "outputs": [],
   "source": [
    "sc.pl.umap(merged, color=[\"transfer_cell_type\"], size = 2)"
   ]
  },
  {
   "cell_type": "code",
   "execution_count": null,
   "id": "53bd1cfa-6b3c-41ba-a608-01bc68418562",
   "metadata": {},
   "outputs": [],
   "source": [
    "adata"
   ]
  },
  {
   "cell_type": "code",
   "execution_count": null,
   "id": "4b802eaa-9375-485a-aa1a-1169a7bca67b",
   "metadata": {
    "tags": []
   },
   "outputs": [],
   "source": [
    "adata.obs['cell_type'] = merged[merged.obs['transfer'] == 'target'].obs['transfer_cell_type'].to_numpy()"
   ]
  },
  {
   "cell_type": "code",
   "execution_count": null,
   "id": "0bb18d89-522b-4713-9edf-51b2fa4fedc0",
   "metadata": {
    "tags": []
   },
   "outputs": [],
   "source": [
    "sc.pl.embedding(adata, basis = 'spatial', color = 'cell_type')"
   ]
  },
  {
   "cell_type": "code",
   "execution_count": null,
   "id": "d9548e89-5094-49ed-96a4-c87556017aab",
   "metadata": {
    "tags": []
   },
   "outputs": [],
   "source": [
    "sc.pl.embedding(adata, basis = 'spatial', color = 'cell_type', groups = 'Inh Vip', size = 20)"
   ]
  },
  {
   "cell_type": "code",
   "execution_count": null,
   "id": "2222262c-aae6-4e69-be9f-7f121e5dd86b",
   "metadata": {},
   "outputs": [],
   "source": []
  },
  {
   "cell_type": "code",
   "execution_count": null,
   "id": "34a372d0-8c71-48c2-a7d4-2020f6d1793e",
   "metadata": {
    "tags": []
   },
   "outputs": [],
   "source": [
    "adata.write_h5ad(f'data/{Sample}_annotated.h5ad')"
   ]
  },
  {
   "cell_type": "markdown",
   "id": "1393fcf4-5044-4faa-94f1-8bdd34efab5f",
   "metadata": {},
   "source": [
    "## Annotation"
   ]
  },
  {
   "cell_type": "code",
   "execution_count": null,
   "id": "a170cf0e-10ce-4fc0-ac2f-0985b3156ce5",
   "metadata": {
    "tags": []
   },
   "outputs": [],
   "source": [
    "import scanpy as sc\n",
    "import numpy as np\n",
    "import cosg\n",
    "import pandas as pd"
   ]
  },
  {
   "cell_type": "code",
   "execution_count": null,
   "id": "222e2ee7-bf07-4132-8905-c2e21816fc6d",
   "metadata": {
    "tags": []
   },
   "outputs": [],
   "source": [
    "adatas = []\n",
    "\n",
    "for sample in ['LPS_10', 'LPS_7', 'LPS_8']:\n",
    "    adata = sc.read_h5ad(f\"./data/{sample}_annotated.h5ad\")\n",
    "    adata.obs_names = [f\"{x}_{sample}\" for x in adata.obs_names]\n",
    "    adata.obs['Sample'] = sample\n",
    "    adata.obs['Condition'] = 'LPS'\n",
    "    adatas.append(adata)\n",
    "    \n",
    "adata = sc.concat(adatas)\n",
    "adata"
   ]
  },
  {
   "cell_type": "code",
   "execution_count": null,
   "id": "35640ac7-c23b-4cf5-a473-06de3a77a316",
   "metadata": {
    "tags": []
   },
   "outputs": [],
   "source": [
    "sc.pl.embedding(adata, basis = 'spatial', color = ['Sample'], size = 10)"
   ]
  },
  {
   "cell_type": "code",
   "execution_count": null,
   "id": "ccb970f7-466e-44db-aa6e-83192d0b08dd",
   "metadata": {
    "tags": []
   },
   "outputs": [],
   "source": [
    "adata.obsm['spatial'][adata.obs['Sample'] == 'LPS_8',0] += 20000\n",
    "adata.obsm['spatial'][adata.obs['Sample'] == 'LPS_10',0] += 41000"
   ]
  },
  {
   "cell_type": "code",
   "execution_count": null,
   "id": "d148b88f-532b-4232-b4d3-a10768220387",
   "metadata": {
    "tags": []
   },
   "outputs": [],
   "source": [
    "sc.set_figure_params(figsize = (16,6), dpi = 100)\n",
    "sc.pl.embedding(adata, basis = 'spatial', color = ['Sample'], size = 10)"
   ]
  },
  {
   "cell_type": "code",
   "execution_count": null,
   "id": "41958d85-1877-4def-ac7c-100a207a2bcf",
   "metadata": {
    "tags": []
   },
   "outputs": [],
   "source": [
    "sc.pl.embedding(adata, basis = 'spatial', color = ['cell_type'], size = 10)"
   ]
  },
  {
   "cell_type": "code",
   "execution_count": null,
   "id": "d83add2a-3766-42c5-8e87-d4ef06d3f89d",
   "metadata": {
    "tags": []
   },
   "outputs": [],
   "source": [
    "# Normalize using cell area\n",
    "from scipy.sparse import csr_matrix\n",
    "cell_area = np.array(adata.obs[\"area\"])\n",
    "# cell_area = cell_area.reshape((len(cell_area),1))\n",
    "adata.X = csr_matrix((adata.X.T / cell_area).T)"
   ]
  },
  {
   "cell_type": "code",
   "execution_count": null,
   "id": "63dcde35-1d30-4b5d-bed9-09ed14bd6093",
   "metadata": {
    "tags": []
   },
   "outputs": [],
   "source": [
    "# Normalizing to library size\n",
    "sc.pp.normalize_total(adata, target_sum=109)\n",
    "# Logarithmize the data\n",
    "sc.pp.log1p(adata)"
   ]
  },
  {
   "cell_type": "code",
   "execution_count": null,
   "id": "9096cb10-fe6d-4eec-971d-27ef08918e0e",
   "metadata": {
    "tags": []
   },
   "outputs": [],
   "source": [
    "sc.pl.embedding(adata, basis=\"spatial\", color=\"Slc17a7\", size = 10)"
   ]
  },
  {
   "cell_type": "code",
   "execution_count": null,
   "id": "603fb372-4653-43d7-aac2-a2b0bcbf92c7",
   "metadata": {
    "scrolled": true,
    "tags": []
   },
   "outputs": [],
   "source": [
    "sc.tl.pca(adata)\n",
    "sc.external.pp.harmony_integrate(adata, [\"transfer\"], max_iter_harmony = 20)\n",
    "sc.pp.neighbors(adata, use_rep='X_pca_harmony')\n",
    "sc.tl.umap(adata)"
   ]
  },
  {
   "cell_type": "code",
   "execution_count": null,
   "id": "66525d99-2f25-42d8-988d-405a674d7c14",
   "metadata": {
    "tags": []
   },
   "outputs": [],
   "source": [
    "sc.tl.leiden(adata, resolution=2, flavor='igraph', n_iterations=-1)"
   ]
  },
  {
   "cell_type": "code",
   "execution_count": null,
   "id": "862ffdf6-787b-4186-9471-035323a3cd8b",
   "metadata": {
    "tags": []
   },
   "outputs": [],
   "source": [
    "sc.set_figure_params(figsize = (6,6), dpi = 100)\n",
    "sc.pl.umap(adata, color=['Sample', 'leiden'], size = 2)"
   ]
  },
  {
   "cell_type": "code",
   "execution_count": null,
   "id": "ed879437-786b-4755-b1d0-8f5f1b8c7352",
   "metadata": {
    "scrolled": true,
    "tags": []
   },
   "outputs": [],
   "source": [
    "groupby='leiden_R'\n",
    "cosg.cosg(adata, key_added='cosg_leiden',\n",
    "          # use_raw=False, layer='log1p', ## e.g., if you want to use the log1p layer in adata\n",
    "          mu=1,\n",
    "          expressed_pct=0.1,\n",
    "          remove_lowly_expressed=True,\n",
    "          n_genes_user=10,\n",
    "          groupby=groupby)\n",
    "\n",
    "import pandas as pd\n",
    "pd.DataFrame(adata.uns[\"cosg_leiden\"][\"names\"]).to_csv('LPS_cosg.csv')"
   ]
  },
  {
   "cell_type": "code",
   "execution_count": null,
   "id": "b31b45ea-7f2d-4298-ba84-1c69f527eaca",
   "metadata": {
    "tags": []
   },
   "outputs": [],
   "source": [
    "sc.tl.leiden(adata, restrict_to=('leiden', ['0']), resolution = 0.2)\n",
    "sc.tl.leiden(adata, restrict_to=('leiden_R', ['0,0']), resolution = 0.3)\n",
    "sc.tl.leiden(adata, restrict_to=('leiden_R', ['1']), resolution = 0.3)\n",
    "sc.tl.leiden(adata, restrict_to=('leiden_R', ['5']), resolution = 0.2)\n",
    "sc.tl.leiden(adata, restrict_to=('leiden_R', ['16']), resolution = 0.3)\n",
    "sc.tl.leiden(adata, restrict_to=('leiden_R', ['16,0']), resolution = 0.3)\n",
    "sc.tl.leiden(adata, restrict_to=('leiden_R', ['17']), resolution = 0.2)\n",
    "sc.tl.leiden(adata, restrict_to=('leiden_R', ['18']), resolution = 0.2)\n",
    "sc.tl.leiden(adata, restrict_to=('leiden_R', ['21']), resolution = 0.3)\n",
    "sc.tl.leiden(adata, restrict_to=('leiden_R', ['22']), resolution = 0.2)\n",
    "sc.tl.leiden(adata, restrict_to=('leiden_R', ['23']), resolution = 0.2)\n",
    "sc.tl.leiden(adata, restrict_to=('leiden_R', ['24']), resolution = 0.2)\n",
    "sc.tl.leiden(adata, restrict_to=('leiden_R', ['25']), resolution = 0.2)\n",
    "sc.tl.leiden(adata, restrict_to=('leiden_R', ['26']), resolution = 0.2)\n",
    "sc.tl.leiden(adata, restrict_to=('leiden_R', ['29']), resolution = 0.3)\n",
    "sc.tl.leiden(adata, restrict_to=('leiden_R', ['31']), resolution = 0.2)\n",
    "sc.tl.leiden(adata, restrict_to=('leiden_R', ['40']), resolution = 0.2)\n",
    "sc.tl.leiden(adata, restrict_to=('leiden_R', ['41']), resolution = 0.2)\n",
    "sc.tl.leiden(adata, restrict_to=('leiden_R', ['42']), resolution = 0.2)\n",
    "sc.tl.leiden(adata, restrict_to=('leiden_R', ['43']), resolution = 0.2)\n",
    "sc.tl.leiden(adata, restrict_to=('leiden_R', ['47']), resolution = 0.2)\n",
    "\n",
    "sc.set_figure_params(figsize = (6,6), dpi = 100)\n",
    "sc.pl.umap(adata, color = 'leiden_R', size = 20)"
   ]
  },
  {
   "cell_type": "code",
   "execution_count": null,
   "id": "d432469a-7e8d-4989-bffe-529505823518",
   "metadata": {
    "tags": []
   },
   "outputs": [],
   "source": [
    "annotation_dict = {\n",
    "    '0,0,0': 'Fibro',\n",
    "    '0,0,1': 'Mural',\n",
    "    '0,0,2': 'Mural',\n",
    "    '0,0,3': 'Fibro',\n",
    "    '0,1': 'Fibro',\n",
    "    '1,0': 'Fibro',\n",
    "    '1,1': 'BACKGROUND', # CHOR飘了\n",
    "    '1,2': 'BACKGROUND', # 组织破损\n",
    "    '1,3': 'Fibro',\n",
    "    '1,4': 'BACKGROUND',\n",
    "    '1,5': 'BACKGROUND',\n",
    "    '2': 'Endo',\n",
    "    '3': 'Microglia',\n",
    "    '4': 'Astro-TE',\n",
    "    '5,0': 'Endo',\n",
    "    '5,1': 'Endo',\n",
    "    '5,2': 'Mural',\n",
    "    '6': 'Microglia',\n",
    "    '7': 'Microglia',\n",
    "    '8': 'Ext TH',\n",
    "    '9': 'Endo',\n",
    "    '10': 'Oligo',\n",
    "    '11': 'Oligo',\n",
    "    '12': 'Ext MEA-COA',\n",
    "    '13': 'Astro-NT',\n",
    "    '14': 'Astro-TE',\n",
    "    '15': 'OPC',\n",
    "    '16,0,0': 'Oligo',\n",
    "    '16,0,1': 'Inh RT-ZI',\n",
    "    '16,0,2': 'Oligo',\n",
    "    '16,1': 'Inh RT-ZI',\n",
    "    '17,0': 'Inh Lamp5',\n",
    "    '17,1': 'Inh Vip',\n",
    "    '17,2': 'Inh Vip',\n",
    "    '18,0': 'Inh DMH-LHA-MEA',\n",
    "    '18,1': 'Inh CEA',\n",
    "    '18,2': 'Inh PAL',\n",
    "    '18,3': 'Inh DMH-LHA-MEA',\n",
    "    '19': 'Ext L6 CT',\n",
    "    '20': 'OPC',\n",
    "    '21,0': 'Epen',\n",
    "    '21,1': 'Epen',\n",
    "    '21,2': 'Epen',\n",
    "    '21,3': 'Tanycyte',\n",
    "    '22,0': 'Oligo',\n",
    "    '22,1': 'Ext TH',\n",
    "    '23,0': 'OPC',\n",
    "    '23,1': 'OPC',\n",
    "    '24,0': 'Ext L5 ET/NP',\n",
    "    '24,1': 'Ext L5 ET/NP',\n",
    "    '24,2': 'Ext L4 RSP-ACA',\n",
    "    '25,0': 'Ext L5 ET/NP',\n",
    "    '25,1': 'Ext L6 IT',\n",
    "    '25,2': 'Ext CLA-EPd',\n",
    "    '26,0': 'Ext L6 IT',\n",
    "    '26,1': 'Ext CLA-EPd',\n",
    "    '26,2': 'Ext L6 CT',\n",
    "    '26,3': 'Ext L6b',\n",
    "    '27': 'Ext L2/3 IT',\n",
    "    '28': 'Ext L2/3 PIR-ENTl',\n",
    "    '29,0': 'Ext L4 IT',\n",
    "    '29,1': 'Ext L5 IT',\n",
    "    '29,2': 'Ext L4 IT',\n",
    "    '30': 'BACKGROUND',\n",
    "    '31,0': 'Ext L2/3 IT',\n",
    "    '31,1': 'Ext L4 IT',\n",
    "    '31,2': 'Ext L2/3 RSP IT',\n",
    "    '32': 'Inh STR D2',\n",
    "    '33': 'Inh STR D1',\n",
    "    '34': 'Inh Pvalb',\n",
    "    '35': 'Ext L2/3 RSP IT',\n",
    "    '36': 'Inh DMH-LHA-MEA',\n",
    "    '37': 'Ext L5 ET/NP',\n",
    "    '38': 'Inh Sst',\n",
    "    '39': 'Ext L2/3 PIR-ENTl',\n",
    "    '40,0': 'Ext LA-BLA-BMA-PA',\n",
    "    '40,1': 'Ext MEA',\n",
    "    '40,2': 'Ext LA-BLA-BMA-PA',\n",
    "    '41,0': 'Ext CA3',\n",
    "    '41,1': 'Ext CA2',\n",
    "    '41,2': 'Ext CA2',\n",
    "    '42,0': 'Ext LH-VMH-LHA',\n",
    "    '42,1': 'Ext LH-VMH-LHA',\n",
    "    '42,2': 'Inh TU-ARH',\n",
    "    '42,3': 'Ext LH-VMH-LHA',\n",
    "    '43,0': 'Inh RT-ZI',\n",
    "    '43,1': 'Inh Sst',\n",
    "    '44': 'CHOR',\n",
    "    '45': 'Ext TH',\n",
    "    '46': 'Inh STR D2',\n",
    "    '47,0': 'Inh STR D2',\n",
    "    '47,1': 'Inh STR D1',\n",
    "    '48': 'Ext CA1',\n",
    "    '49': 'Ext L6b',\n",
    "    '50': 'Ext DG',\n",
    "    '51': 'Ext DG',\n",
    "    '52': 'Ext MH',\n",
    "}"
   ]
  },
  {
   "cell_type": "code",
   "execution_count": null,
   "id": "5aa66a27-b6cb-4ff9-9002-6fc5b0388ab1",
   "metadata": {
    "scrolled": true,
    "tags": []
   },
   "outputs": [],
   "source": [
    "adata[adata.obs['leiden_R'] == '53'].obs[['cell_type']].value_counts()"
   ]
  },
  {
   "cell_type": "code",
   "execution_count": null,
   "id": "4673b9f2-24df-44a2-827b-70df4d83fa2a",
   "metadata": {
    "tags": []
   },
   "outputs": [],
   "source": [
    "sc.set_figure_params(figsize = (16,6), dpi = 100)\n",
    "sc.pl.embedding(adata, basis = 'spatial', color = 'leiden_R', size = 20, groups=['51'])"
   ]
  },
  {
   "cell_type": "code",
   "execution_count": null,
   "id": "3fda31d5-3a7a-4468-9547-9ff11920117d",
   "metadata": {
    "tags": []
   },
   "outputs": [],
   "source": [
    "sc.pl.umap(adata, color = 'Mrc1', size = 20)"
   ]
  },
  {
   "cell_type": "code",
   "execution_count": null,
   "id": "fba43fe0-68e8-4803-8952-40b420c5ccb8",
   "metadata": {
    "tags": []
   },
   "outputs": [],
   "source": [
    "adata.obs['cell_type'] = [annotation_dict[x] for x in adata.obs['leiden_R']]"
   ]
  },
  {
   "cell_type": "code",
   "execution_count": null,
   "id": "a83e6440-1551-4e0c-9014-37e134a8bbf8",
   "metadata": {
    "tags": []
   },
   "outputs": [],
   "source": [
    "sc.pl.embedding(adata, basis = 'spatial', color = 'cell_type', size = 20)"
   ]
  },
  {
   "cell_type": "code",
   "execution_count": null,
   "id": "ea72c7a4-de91-41ec-bfb9-7fb73eef3436",
   "metadata": {
    "tags": []
   },
   "outputs": [],
   "source": [
    "adata.write_h5ad(\"./LPS_annotated.h5ad\")"
   ]
  },
  {
   "cell_type": "code",
   "execution_count": null,
   "id": "47a68a25-6077-4090-b097-98a6d9eee260",
   "metadata": {},
   "outputs": [],
   "source": []
  },
  {
   "cell_type": "code",
   "execution_count": null,
   "id": "ae1122ea-363f-4a03-93f8-e6bcbbabdacf",
   "metadata": {
    "tags": []
   },
   "outputs": [],
   "source": [
    "import scanpy as sc\n",
    "import numpy as np\n",
    "import cosg\n",
    "import pandas as pd"
   ]
  },
  {
   "cell_type": "code",
   "execution_count": null,
   "id": "5d3b2a0a-8a75-42f7-a3a3-8f634539bbf4",
   "metadata": {
    "tags": []
   },
   "outputs": [],
   "source": [
    "adatas = []\n",
    "\n",
    "for sample in ['Saline_2', 'Saline_4', 'Saline_9']:\n",
    "    adata = sc.read_h5ad(f\"./data/{sample}_annotated.h5ad\")\n",
    "    adata.obs_names = [f\"{x}_{sample}\" for x in adata.obs_names]\n",
    "    adata.obs['Sample'] = sample\n",
    "    adata.obs['Condition'] = 'Saline'\n",
    "    adatas.append(adata)\n",
    "    \n",
    "adata = sc.concat(adatas)\n",
    "adata"
   ]
  },
  {
   "cell_type": "code",
   "execution_count": null,
   "id": "44382a8f-8a6f-4acb-a36c-77397a069b88",
   "metadata": {
    "tags": []
   },
   "outputs": [],
   "source": [
    "sc.pl.embedding(adata, basis = 'spatial', color = ['Sample'], size = 10)"
   ]
  },
  {
   "cell_type": "code",
   "execution_count": null,
   "id": "e378bcb5-f868-4e02-9828-d6eacb005fca",
   "metadata": {
    "tags": []
   },
   "outputs": [],
   "source": [
    "adata.obsm['spatial'][adata.obs['Sample'] == 'Saline_4',0] += 20000\n",
    "adata.obsm['spatial'][adata.obs['Sample'] == 'Saline_9',0] += 41000"
   ]
  },
  {
   "cell_type": "code",
   "execution_count": null,
   "id": "dd46985c-789f-4d64-b332-3437f9bb49e9",
   "metadata": {
    "tags": []
   },
   "outputs": [],
   "source": [
    "sc.set_figure_params(figsize = (16,6), dpi = 100)\n",
    "sc.pl.embedding(adata, basis = 'spatial', color = ['Sample'], size = 10)"
   ]
  },
  {
   "cell_type": "code",
   "execution_count": null,
   "id": "8da133b0-608f-4d95-9c46-6b641e2bf909",
   "metadata": {
    "tags": []
   },
   "outputs": [],
   "source": [
    "sc.pl.embedding(adata, basis = 'spatial', color = ['cell_type'], size = 10)"
   ]
  },
  {
   "cell_type": "code",
   "execution_count": null,
   "id": "3f6c9a0f-8117-4286-ae7e-83a98a8e633a",
   "metadata": {
    "tags": []
   },
   "outputs": [],
   "source": [
    "# Normalize using cell area\n",
    "from scipy.sparse import csr_matrix\n",
    "cell_area = np.array(adata.obs[\"area\"])\n",
    "# cell_area = cell_area.reshape((len(cell_area),1))\n",
    "adata.X = csr_matrix((adata.X.T / cell_area).T)"
   ]
  },
  {
   "cell_type": "code",
   "execution_count": null,
   "id": "d1a03b4c-e372-4782-841d-34abd24b9675",
   "metadata": {
    "tags": []
   },
   "outputs": [],
   "source": [
    "# Normalizing to library size\n",
    "sc.pp.normalize_total(adata, target_sum=109)\n",
    "# Logarithmize the data\n",
    "sc.pp.log1p(adata)"
   ]
  },
  {
   "cell_type": "code",
   "execution_count": null,
   "id": "3002871b-55d7-400d-bd71-cb313c06f77a",
   "metadata": {
    "tags": []
   },
   "outputs": [],
   "source": [
    "sc.pl.embedding(adata, basis=\"spatial\", color=\"Slc17a7\", size = 10)"
   ]
  },
  {
   "cell_type": "code",
   "execution_count": null,
   "id": "3e811574-9590-4b9c-a5bd-b61d6e8b8ab7",
   "metadata": {
    "scrolled": true,
    "tags": []
   },
   "outputs": [],
   "source": [
    "sc.tl.pca(adata)\n",
    "sc.external.pp.harmony_integrate(adata, [\"transfer\"], max_iter_harmony = 20)\n",
    "sc.pp.neighbors(adata, use_rep='X_pca_harmony')\n",
    "sc.tl.umap(adata)"
   ]
  },
  {
   "cell_type": "code",
   "execution_count": null,
   "id": "dfeb321b-7c58-49f8-988a-a6096a9e496d",
   "metadata": {
    "tags": []
   },
   "outputs": [],
   "source": [
    "sc.tl.leiden(adata, resolution=2, flavor='igraph', n_iterations=-1)"
   ]
  },
  {
   "cell_type": "code",
   "execution_count": null,
   "id": "98963d0e-b642-491f-9dea-3674f211103a",
   "metadata": {
    "tags": []
   },
   "outputs": [],
   "source": [
    "sc.set_figure_params(figsize = (6,6), dpi = 100)\n",
    "sc.pl.umap(adata, color=['Sample', 'leiden'], size = 2)"
   ]
  },
  {
   "cell_type": "code",
   "execution_count": null,
   "id": "fbc3e150-c585-463c-b9f4-56ad90f42884",
   "metadata": {
    "scrolled": true,
    "tags": []
   },
   "outputs": [],
   "source": [
    "groupby='leiden_R'\n",
    "cosg.cosg(adata, key_added='cosg_leiden',\n",
    "          # use_raw=False, layer='log1p', ## e.g., if you want to use the log1p layer in adata\n",
    "          mu=1,\n",
    "          expressed_pct=0.1,\n",
    "          remove_lowly_expressed=True,\n",
    "          n_genes_user=10,\n",
    "          groupby=groupby)\n",
    "\n",
    "import pandas as pd\n",
    "pd.DataFrame(adata.uns[\"cosg_leiden\"][\"names\"]).to_csv('Saline_cosg.csv')"
   ]
  },
  {
   "cell_type": "code",
   "execution_count": null,
   "id": "fbaaf27f-feb2-4d16-8049-c382d3b6a980",
   "metadata": {
    "tags": []
   },
   "outputs": [],
   "source": [
    "sc.tl.leiden(adata, restrict_to=('leiden', ['0']), resolution = 0.2)\n",
    "sc.tl.leiden(adata, restrict_to=('leiden_R', ['0,1']), resolution = 0.2)\n",
    "sc.tl.leiden(adata, restrict_to=('leiden_R', ['1']), resolution = 0.2)\n",
    "sc.tl.leiden(adata, restrict_to=('leiden_R', ['6']), resolution = 0.2)\n",
    "sc.tl.leiden(adata, restrict_to=('leiden_R', ['12']), resolution = 0.2)\n",
    "sc.tl.leiden(adata, restrict_to=('leiden_R', ['16']), resolution = 0.2)\n",
    "sc.tl.leiden(adata, restrict_to=('leiden_R', ['19']), resolution = 0.2)\n",
    "sc.tl.leiden(adata, restrict_to=('leiden_R', ['21']), resolution = 0.2)\n",
    "sc.tl.leiden(adata, restrict_to=('leiden_R', ['21,0']), resolution = 0.3)\n",
    "sc.tl.leiden(adata, restrict_to=('leiden_R', ['26']), resolution = 0.2)\n",
    "sc.tl.leiden(adata, restrict_to=('leiden_R', ['31']), resolution = 0.2)\n",
    "sc.tl.leiden(adata, restrict_to=('leiden_R', ['47']), resolution = 0.2)\n",
    "sc.tl.leiden(adata, restrict_to=('leiden_R', ['49']), resolution = 0.2)\n",
    "sc.tl.leiden(adata, restrict_to=('leiden_R', ['52']), resolution = 0.2)\n",
    "sc.tl.leiden(adata, restrict_to=('leiden_R', ['53']), resolution = 0.2)\n",
    "sc.tl.leiden(adata, restrict_to=('leiden_R', ['58']), resolution = 0.2)\n",
    "\n",
    "sc.set_figure_params(figsize = (6,6), dpi = 100)\n",
    "sc.pl.umap(adata, color = 'leiden_R', size = 20)"
   ]
  },
  {
   "cell_type": "code",
   "execution_count": null,
   "id": "22bbde06-1b88-4b78-b8e7-f6e02c5df535",
   "metadata": {
    "tags": []
   },
   "outputs": [],
   "source": [
    "annotation_dict = {\n",
    "    '0,0': 'Astro-TE',\n",
    "    '0,1,0': 'Astro-TE',\n",
    "    '0,1,1': 'Astro-TE',\n",
    "    '0,2': 'Astro-TE',\n",
    "    '1,0': 'Mural',\n",
    "    '1,1': 'Fibro',\n",
    "    '2': 'Astro-NT',\n",
    "    '3': 'Ext MH',\n",
    "    '4': 'Oligo',\n",
    "    '5': 'Endo',\n",
    "    '6,0': 'Mural',\n",
    "    '6,1': 'Mural',\n",
    "    '7': 'Endo',\n",
    "    '8': 'Oligo',\n",
    "    '9': 'Oligo',\n",
    "    '10': 'Oligo',\n",
    "    '11': 'OPC',\n",
    "    '12,0': 'Inh Lamp5',\n",
    "    '12,1': 'Inh Vip',\n",
    "    '12,2': 'Inh Vip',\n",
    "    '13': 'Inh Sst',\n",
    "    '14': 'Oligo',\n",
    "    '15': 'Microglia',\n",
    "    '16,0': 'Inh DMH-LHA-MEA',\n",
    "    '16,1': 'Inh DMH-LHA-MEA',\n",
    "    '16,2': 'Inh PAL',\n",
    "    '17': 'Inh CEA',\n",
    "    '18': 'Ext TH',\n",
    "    '19,0': 'Ext LH-LHA',\n",
    "    '19,1': 'Ext LH-LHA',\n",
    "    '19,2': 'Ext LH-LHA',\n",
    "    '19,3': 'Ext LH-LHA',\n",
    "    '20': 'Astro-TE',\n",
    "    '21,0,0': 'Ext L5 ET/NP',\n",
    "    '21,0,1': 'Ext L5 ET/NP',\n",
    "    '21,0,2': 'Ext L5 ET/NP',\n",
    "    '21,1': 'Ext L6 IT',\n",
    "    '21,2': 'Ext L4 RSP-ACA',\n",
    "    '22': 'Inh PAL',\n",
    "    '23': 'Inh RT-ZI',\n",
    "    '24': 'Oligo',\n",
    "    '25': 'Ext L2/3 IT',\n",
    "    '26,0': 'Endo',\n",
    "    '26,1': 'Mural',\n",
    "    '26,2': 'Endo',\n",
    "    '26,3': 'Microglia',\n",
    "    '26,4': 'Astro-TE',\n",
    "    '27': 'Ext L6 CT',\n",
    "    '28': 'Ext MEA-COA',\n",
    "    '29': 'Inh DMH-LHA-MEA',\n",
    "    '30': 'Epen', \n",
    "    '31,0': 'Inh DMH-LHA-MEA',\n",
    "    '31,1': 'Inh PAL',\n",
    "    '32': 'OPC',\n",
    "    '33': 'CHOR',\n",
    "    '34': 'Microglia',\n",
    "    '35': 'Ext L2/3 RSP IT',\n",
    "    '36': 'Inh STR D1',\n",
    "    '37': 'Ext TH',\n",
    "    '38': 'Ext L2/3 PIR-ENTl',\n",
    "    '39': 'Endo',\n",
    "    '40': 'Inh Pvalb',\n",
    "    '41': 'Ext L4 IT',\n",
    "    '42': 'Ext L5 IT',\n",
    "    '43': 'Ext L2/3 PIR-ENTl',\n",
    "    '44': 'Ext L6b',\n",
    "    '45': 'Ext LA-BLA-BMA-PA',\n",
    "    '46': 'Ext L2/3 IT',\n",
    "    '47,0': 'Ext L6 IT',\n",
    "    '47,1': 'Ext L6 CT',\n",
    "    '47,2': 'Ext L6b',\n",
    "    '47,3': 'Ext L5 ET/NP',\n",
    "    '48': 'Inh STR D2',\n",
    "    '49,0': 'Inh RT-ZI',\n",
    "    '49,1': 'Inh Sst',\n",
    "    '50': 'Ext L5 ET/NP',\n",
    "    '51': 'Ext L5 ET/NP',\n",
    "    '52,0': 'Inh STR D1',\n",
    "    '52,1': 'Inh STR D2',\n",
    "    '53,0': 'Ext CA3',\n",
    "    '53,1': 'Ext CA2',\n",
    "    '53,2': 'Ext CA3',\n",
    "    '54': 'Ext CLA-EPd',\n",
    "    '55': 'Ext CA1',\n",
    "    '56': 'Ext DG',\n",
    "    '57': 'Ext DG',\n",
    "    '58,0': 'Inh STR D1',\n",
    "    '58,1': 'Inh STR D2'\n",
    "}"
   ]
  },
  {
   "cell_type": "code",
   "execution_count": null,
   "id": "5a19c85d-7c3d-40c5-bf6b-41cbf9bdb7ae",
   "metadata": {
    "scrolled": true,
    "tags": []
   },
   "outputs": [],
   "source": [
    "adata[adata.obs['leiden_R'] == '19,3'].obs[['cell_type']].value_counts()"
   ]
  },
  {
   "cell_type": "code",
   "execution_count": null,
   "id": "fa493050-dbf2-4068-9581-fc16dee479c7",
   "metadata": {
    "tags": []
   },
   "outputs": [],
   "source": [
    "sc.set_figure_params(figsize = (16,6), dpi = 100)\n",
    "sc.pl.embedding(adata, basis = 'spatial', color = 'leiden_R', size = 20, groups=['58'])"
   ]
  },
  {
   "cell_type": "code",
   "execution_count": null,
   "id": "b9fa2321-fab7-4b22-9610-6b1b4aa69691",
   "metadata": {
    "tags": []
   },
   "outputs": [],
   "source": [
    "sc.pl.umap(adata, color = 'Mrc1', size = 20)"
   ]
  },
  {
   "cell_type": "code",
   "execution_count": null,
   "id": "71ef7052-3961-4b87-9896-55ca71f07c6d",
   "metadata": {
    "tags": []
   },
   "outputs": [],
   "source": [
    "adata.obs['cell_type'] = [annotation_dict[x] for x in adata.obs['leiden_R']]"
   ]
  },
  {
   "cell_type": "code",
   "execution_count": null,
   "id": "fa12e9d7-0ee6-4adb-b0f4-6146af233a23",
   "metadata": {
    "tags": []
   },
   "outputs": [],
   "source": [
    "sc.set_figure_params(figsize = (16,6), dpi = 100)\n",
    "sc.pl.embedding(adata, basis = 'spatial', color = 'cell_type', size = 20)"
   ]
  },
  {
   "cell_type": "code",
   "execution_count": null,
   "id": "ac0f1240-0ac1-4e3d-88fb-9abe115f36ca",
   "metadata": {
    "tags": []
   },
   "outputs": [],
   "source": [
    "adata.write_h5ad(\"./Saline_annotated.h5ad\")"
   ]
  },
  {
   "cell_type": "code",
   "execution_count": null,
   "id": "caebec5c-52cc-4491-bf80-85313543381f",
   "metadata": {},
   "outputs": [],
   "source": []
  },
  {
   "cell_type": "code",
   "execution_count": null,
   "id": "e604fef6-7303-4295-b0d4-51ce82fe72bd",
   "metadata": {
    "tags": []
   },
   "outputs": [],
   "source": [
    "import scanpy as sc\n",
    "import numpy as np\n",
    "import pandas as  pd"
   ]
  },
  {
   "cell_type": "code",
   "execution_count": null,
   "id": "215992c8-93a8-4156-a739-daeb00528bbf",
   "metadata": {
    "tags": []
   },
   "outputs": [],
   "source": [
    "adata1 = sc.read_h5ad(\"LPS_annotated.h5ad\")\n",
    "adata1"
   ]
  },
  {
   "cell_type": "code",
   "execution_count": null,
   "id": "226144b5-9501-4be9-9411-19ac86ff1002",
   "metadata": {
    "tags": []
   },
   "outputs": [],
   "source": [
    "adata2 = sc.read_h5ad(\"Saline_annotated.h5ad\")\n",
    "adata2"
   ]
  },
  {
   "cell_type": "code",
   "execution_count": null,
   "id": "3d8c2eb8-b847-4fe8-b775-c553840b0d45",
   "metadata": {
    "tags": []
   },
   "outputs": [],
   "source": [
    "adata = sc.concat([adata1,adata2])\n",
    "adata"
   ]
  },
  {
   "cell_type": "code",
   "execution_count": null,
   "id": "2f0ba739-d432-4e9a-b7da-7557df458bb7",
   "metadata": {
    "scrolled": true,
    "tags": []
   },
   "outputs": [],
   "source": [
    "adata.obsm['spatial'][adata.obs['Condition'] == 'LPS',1] -= 25000"
   ]
  },
  {
   "cell_type": "code",
   "execution_count": null,
   "id": "a8c5a160-18dd-4bab-ae07-b2e013690cd5",
   "metadata": {
    "tags": []
   },
   "outputs": [],
   "source": [
    "sc.set_figure_params(figsize = (16,10), scanpy = False)\n",
    "sc.pl.embedding(adata, basis = 'spatial', color = ['Sample'], size = 10)"
   ]
  },
  {
   "cell_type": "code",
   "execution_count": null,
   "id": "4b160f07-e765-407e-93f6-52e9feec3e9c",
   "metadata": {
    "tags": []
   },
   "outputs": [],
   "source": [
    "annotation_dict = {\n",
    "    'Ext LH-LHA': 'Ext LH-VMH-LHA',\n",
    "    'Ext MEA': 'Ext MEA-COA'\n",
    "}"
   ]
  },
  {
   "cell_type": "code",
   "execution_count": null,
   "id": "4c8e3e27-1839-45c9-8551-8b4e3dd71a95",
   "metadata": {
    "tags": []
   },
   "outputs": [],
   "source": [
    "new_cell_type = []\n",
    "\n",
    "for ct in adata.obs['cell_type']:\n",
    "    try:\n",
    "        new_ct = annotation_dict[ct]\n",
    "    except:\n",
    "        new_ct = ct\n",
    "    \n",
    "    new_cell_type.append(new_ct)"
   ]
  },
  {
   "cell_type": "code",
   "execution_count": null,
   "id": "48d1b6a4-3f00-4f87-ba33-f9cf88a3245b",
   "metadata": {
    "tags": []
   },
   "outputs": [],
   "source": [
    "adata.obs['cell_type'] = new_cell_type"
   ]
  },
  {
   "cell_type": "code",
   "execution_count": null,
   "id": "c149d798-385e-4937-95dd-10afe793ecca",
   "metadata": {
    "tags": []
   },
   "outputs": [],
   "source": [
    "adata = adata[adata.obs['cell_type'] != 'BACKGROUND'].copy()"
   ]
  },
  {
   "cell_type": "code",
   "execution_count": null,
   "id": "780c36c4-fc1b-4464-ad72-5f82f2c51411",
   "metadata": {
    "tags": []
   },
   "outputs": [],
   "source": [
    "sc.pl.embedding(adata, basis = 'spatial', color = ['cell_type'], size = 10)"
   ]
  },
  {
   "cell_type": "code",
   "execution_count": null,
   "id": "2deebe17-29d8-48e8-9d2c-354103a6add8",
   "metadata": {
    "tags": []
   },
   "outputs": [],
   "source": [
    "adata.write_h5ad('TE_all.h5ad')"
   ]
  },
  {
   "cell_type": "code",
   "execution_count": null,
   "id": "d0ce7906-2be5-4df8-b12b-f094a8abd857",
   "metadata": {
    "tags": []
   },
   "outputs": [],
   "source": [
    "TE_RLTR6_Mm\n",
    "TE_L1MdV_I\n",
    "TE_MMVL30-int\n",
    "TE_RLTR4_MM-int"
   ]
  },
  {
   "cell_type": "code",
   "execution_count": null,
   "id": "4cbc2c86-1aa7-4749-a63d-68a049b2b60a",
   "metadata": {
    "scrolled": true,
    "tags": []
   },
   "outputs": [],
   "source": [
    "cdf = pd.read_table(\"TE_CellType_Color.tsv\", header=None)\n",
    "cdf"
   ]
  },
  {
   "cell_type": "code",
   "execution_count": null,
   "id": "fb3a7232-c3c1-4910-a649-4d463da2733e",
   "metadata": {
    "tags": []
   },
   "outputs": [],
   "source": [
    "color_dict = {row[0]:row[1] for _,row in cdf.iterrows()}"
   ]
  },
  {
   "cell_type": "code",
   "execution_count": null,
   "id": "051ff4f4-e485-4a3a-9b0b-3447d7416eb2",
   "metadata": {
    "tags": []
   },
   "outputs": [],
   "source": [
    "sc.set_figure_params(figsize = (16,11), dpi_save=600, scanpy = False)\n",
    "sc.pl.embedding(adata, basis = 'spatial', color = ['cell_type'], size = 3, palette=color_dict, save='cell_type_V2.pdf')"
   ]
  },
  {
   "cell_type": "code",
   "execution_count": null,
   "id": "56d8f2fc-7b6d-43f0-83b6-77b4cc4376a6",
   "metadata": {
    "tags": []
   },
   "outputs": [],
   "source": [
    "#sc.set_figure_params(figsize = (16,11), dpi_save=600)\n",
    "sc.pl.embedding(adata, basis = 'spatial', color = ['TE_RLTR4_MM-int'], size = 10, cmap = 'Reds', vmax = 'p99.9', vmin = 1,\n",
    "               save = \"RLTR4_MM-int.pdf\")"
   ]
  },
  {
   "cell_type": "code",
   "execution_count": null,
   "id": "ab71c88a-7d52-4654-9fa2-413bc9e49f1a",
   "metadata": {
    "tags": []
   },
   "outputs": [],
   "source": [
    "sc.set_figure_params(figsize = (16,11), dpi_save=600, scanpy = False)\n",
    "sc.pl.embedding(adata, basis = 'spatial', color = ['TE_MMVL30-int'], size = 10, cmap = 'Reds', vmax = 'p99.9', vmin = 1,\n",
    "               save = \"MMVL30-int.pdf\")"
   ]
  },
  {
   "cell_type": "code",
   "execution_count": null,
   "id": "5111e099-762b-49b6-9ace-3b22274cf9d6",
   "metadata": {
    "tags": []
   },
   "outputs": [],
   "source": [
    "#sc.set_figure_params(figsize = (16,11), dpi_save=600)\n",
    "sc.pl.embedding(adata, basis = 'spatial', color = ['TE_L1MdV_I'], size = 10, cmap = 'Reds', vmax = 'p99.9', vmin = 1,\n",
    "               save = \"L1MdV_I.pdf\")"
   ]
  },
  {
   "cell_type": "code",
   "execution_count": null,
   "id": "9c454266-885b-464e-a2fe-c950f2d60151",
   "metadata": {
    "tags": []
   },
   "outputs": [],
   "source": [
    "# sc.set_figure_params(figsize = (16,11), dpi_save=600)\n",
    "sc.pl.embedding(adata, basis = 'spatial', color = ['TE_RLTR6_Mm'], size = 10, cmap = 'Reds', vmax = 'p99.9', vmin = 1,\n",
    "               save = \"RLTR6_Mm.pdf\")"
   ]
  },
  {
   "cell_type": "code",
   "execution_count": null,
   "id": "245c6215-3a9e-486b-9f86-4a1680f60425",
   "metadata": {
    "tags": []
   },
   "outputs": [],
   "source": [
    "adata.uns['Sample_colors'] = ['#FF0000', '#EE0000', '#CD0000', '#0000FF', '#0000EE', '#0000CD']"
   ]
  },
  {
   "cell_type": "code",
   "execution_count": null,
   "id": "e4d73dc2-0bf1-4751-9c59-18677c91c290",
   "metadata": {
    "tags": []
   },
   "outputs": [],
   "source": [
    "adata.obs['Sample'].cat.categories"
   ]
  },
  {
   "cell_type": "code",
   "execution_count": null,
   "id": "ba12426f-7e5a-4420-a9e7-eba03e36db7b",
   "metadata": {
    "tags": []
   },
   "outputs": [],
   "source": [
    "from pandas.api.types import CategoricalDtype\n",
    "custom_order = ['Saline_2', 'Saline_4', 'Saline_9', 'LPS_7', 'LPS_8', 'LPS_10']\n",
    "cat_dtype = CategoricalDtype(categories=custom_order, ordered=True)\n",
    "adata.obs['Sample'] = adata.obs['Sample'].astype(cat_dtype)\n",
    "\n",
    "adata.uns['Sample_colors'] = ['#0000FF', '#0000EE', '#0000CD', '#FF0000', '#EE0000', '#CD0000']"
   ]
  },
  {
   "cell_type": "code",
   "execution_count": null,
   "id": "ec570ba3-ed46-4771-9709-c43c66a7c6a6",
   "metadata": {
    "tags": []
   },
   "outputs": [],
   "source": [
    "sc.set_figure_params(figsize = (10,5), dpi_save=600, scanpy = False)\n",
    "sc.pl.violin(adata[adata.obs['cell_type'] == 'Fibro'], keys ='TE_MMVL30-int', groupby='Sample', inner = 'box', stripplot=False,\n",
    "             linewidth=1,\n",
    "            save = 'Fibro_MMVL30-int.pdf')"
   ]
  },
  {
   "cell_type": "code",
   "execution_count": null,
   "id": "9b009ac9-6fc7-4656-9146-6742794c4804",
   "metadata": {
    "tags": []
   },
   "outputs": [],
   "source": [
    "sc.pl.violin(adata[adata.obs['cell_type'] == 'Microglia'], keys ='TE_RLTR6_Mm', groupby='Sample', inner = 'box', stripplot=False,\n",
    "            save = 'Microglia_RLTR6_Mm.pdf')"
   ]
  },
  {
   "cell_type": "code",
   "execution_count": null,
   "id": "eaec365d-bfe6-4c6f-bf09-1c1e39e2d5f1",
   "metadata": {
    "tags": []
   },
   "outputs": [],
   "source": [
    "sc.pl.violin(adata[adata.obs['cell_type'] == 'Endo'], keys ='TE_RLTR6_Mm', groupby='Sample', inner = 'box', stripplot=False,\n",
    "            save = 'Endo_RLTR6_Mm.pdf')"
   ]
  },
  {
   "cell_type": "code",
   "execution_count": null,
   "id": "5662d626-6ce0-49fd-8a8c-8178b0a21bd7",
   "metadata": {
    "tags": []
   },
   "outputs": [],
   "source": [
    "sc.pl.violin(adata[adata.obs['cell_type'] == 'Ext DG'], keys ='TE_L1MdV_I', groupby='Sample', inner = 'box', stripplot=False,\n",
    "            save = 'DG_L1MdV_I.pdf')"
   ]
  },
  {
   "cell_type": "code",
   "execution_count": null,
   "id": "2c9dee62-4b7e-4e48-9340-a2c315a03e46",
   "metadata": {
    "tags": []
   },
   "outputs": [],
   "source": [
    "sc.pl.violin(adata[adata.obs['cell_type'] == 'Fibro'], keys ='TE_RLTR4_MM-int', groupby='Sample', inner = 'box', stripplot=False,\n",
    "            save = 'Fibro_RLTR4_MM-int.pdf')"
   ]
  },
  {
   "cell_type": "code",
   "execution_count": null,
   "id": "2975c377-0897-4f08-8e32-1500c5a4786c",
   "metadata": {
    "tags": []
   },
   "outputs": [],
   "source": [
    "sc.pl.violin(adata[adata.obs['cell_type'] == 'Endo'], keys ='TE_RLTR4_MM-int', groupby='Sample', inner = 'box', stripplot=False,\n",
    "            save = 'Endo_RLTR4_MM-int.pdf')"
   ]
  },
  {
   "cell_type": "code",
   "execution_count": null,
   "id": "1cb9d9b0-d008-487c-ad19-8ffbc6d5550f",
   "metadata": {
    "tags": []
   },
   "outputs": [],
   "source": [
    "sc.pl.violin(adata[adata.obs['cell_type'] == 'Microglia'], keys ='TE_RLTR4_MM-int', groupby='Sample', inner = 'box', stripplot=False,\n",
    "            save = 'Microglia_RLTR4_MM-int.pdf')"
   ]
  },
  {
   "cell_type": "code",
   "execution_count": null,
   "id": "ff492abf-f715-410b-9168-6094a2bde501",
   "metadata": {
    "tags": []
   },
   "outputs": [],
   "source": [
    "sc.pl.violin(adata, keys ='total_counts', groupby='Sample', inner = 'box', stripplot=False)"
   ]
  },
  {
   "cell_type": "code",
   "execution_count": null,
   "id": "657414f9-31aa-416e-9ad3-a7ed0e5b24ce",
   "metadata": {},
   "outputs": [],
   "source": []
  },
  {
   "cell_type": "code",
   "execution_count": null,
   "id": "686654cc-b1d1-472e-83e4-994ccef6da32",
   "metadata": {
    "tags": []
   },
   "outputs": [],
   "source": [
    "import statsmodels.api as sm\n",
    "import statsmodels.formula.api as smf"
   ]
  },
  {
   "cell_type": "code",
   "execution_count": null,
   "id": "aaddff9e-b839-4446-a832-2d977d82dbfb",
   "metadata": {},
   "outputs": [],
   "source": []
  },
  {
   "cell_type": "code",
   "execution_count": null,
   "id": "56351e00-29cc-4a2a-a258-e0038ac64f5d",
   "metadata": {
    "tags": []
   },
   "outputs": [],
   "source": [
    "import scanpy as sc\n",
    "import numpy as np\n",
    "import pandas as  pd"
   ]
  },
  {
   "cell_type": "code",
   "execution_count": null,
   "id": "545455f7-ed59-4204-b2c2-d69b492d3f0b",
   "metadata": {
    "tags": []
   },
   "outputs": [],
   "source": [
    "adata1 = sc.read_h5ad(\"LPS_annotated.h5ad\")\n",
    "adata1"
   ]
  },
  {
   "cell_type": "code",
   "execution_count": null,
   "id": "fd24cceb-ca5c-47f5-8c2e-3b14d09e91cb",
   "metadata": {
    "tags": []
   },
   "outputs": [],
   "source": [
    "adata2 = sc.read_h5ad(\"Saline_annotated.h5ad\")\n",
    "adata2"
   ]
  },
  {
   "cell_type": "code",
   "execution_count": null,
   "id": "0a289956-a0fb-43a7-bd72-be859e0e5711",
   "metadata": {
    "tags": []
   },
   "outputs": [],
   "source": [
    "adata = sc.concat([adata1,adata2])\n",
    "adata"
   ]
  },
  {
   "cell_type": "code",
   "execution_count": null,
   "id": "f3e9986d-b545-4c79-b0c1-ae76dedceefd",
   "metadata": {
    "tags": []
   },
   "outputs": [],
   "source": [
    "df = adata.to_df(layer='counts_corrected')"
   ]
  },
  {
   "cell_type": "code",
   "execution_count": null,
   "id": "47b081d8-63c8-4c98-acd0-24e319f74622",
   "metadata": {
    "tags": []
   },
   "outputs": [],
   "source": [
    "df['Sample'] = adata.obs['Sample']\n",
    "df['Condition'] = adata.obs['Condition']\n",
    "df['cell_type'] = adata.obs['cell_type']"
   ]
  },
  {
   "cell_type": "code",
   "execution_count": null,
   "id": "e3229a74-d5c9-4c45-a4c4-e4f4bda67bad",
   "metadata": {
    "scrolled": true,
    "tags": []
   },
   "outputs": [],
   "source": [
    "df"
   ]
  },
  {
   "cell_type": "code",
   "execution_count": null,
   "id": "ea6aa41a-e71e-46c2-8fb3-a79d4a67fc75",
   "metadata": {},
   "outputs": [],
   "source": [
    "MMVL30-int"
   ]
  },
  {
   "cell_type": "code",
   "execution_count": null,
   "id": "0f786cb1-c65a-42f6-be56-fe6db1afd719",
   "metadata": {
    "tags": []
   },
   "outputs": [],
   "source": [
    "tmp = df[df['cell_type'] == 'Fibro'].copy()\n",
    "tmp"
   ]
  },
  {
   "cell_type": "code",
   "execution_count": null,
   "id": "acc17f27-5c1c-4d5f-818e-c397e67c4093",
   "metadata": {
    "tags": []
   },
   "outputs": [],
   "source": [
    "tmp = tmp.loc[:, ['TE_MMVL30-int', 'Sample', 'Condition']].copy()\n",
    "tmp.columns = ['Exp', 'Sample', 'Condition']"
   ]
  },
  {
   "cell_type": "code",
   "execution_count": null,
   "id": "4b5b0034-9913-48d0-8a10-20bcd2cd6550",
   "metadata": {
    "tags": []
   },
   "outputs": [],
   "source": [
    "tmp['Condition'] = tmp['Condition'].cat.set_categories(['Saline', 'LPS'])"
   ]
  },
  {
   "cell_type": "code",
   "execution_count": null,
   "id": "eec8c741-b350-4055-8098-635b4aded309",
   "metadata": {
    "tags": []
   },
   "outputs": [],
   "source": [
    "model = smf.mixedlm(\n",
    "    formula=\"Exp ~ Condition\",  \n",
    "    data=tmp,\n",
    "    groups=\"Sample\"                      \n",
    ")\n",
    "\n",
    "result = model.fit()\n",
    "print(result.summary())"
   ]
  },
  {
   "cell_type": "code",
   "execution_count": null,
   "id": "9e1f809e-c3ad-4ded-9645-a8770461764d",
   "metadata": {
    "tags": []
   },
   "outputs": [],
   "source": [
    "tmp = df[df['cell_type'] == 'Endo'].copy()\n",
    "tmp"
   ]
  },
  {
   "cell_type": "code",
   "execution_count": null,
   "id": "8ae2a10b-a9d7-45fc-a5eb-217019875d05",
   "metadata": {
    "tags": []
   },
   "outputs": [],
   "source": [
    "tmp = tmp.loc[:, ['TE_RLTR4_MM-int', 'Sample', 'Condition']].copy()\n",
    "tmp.columns = ['Exp', 'Sample', 'Condition']"
   ]
  },
  {
   "cell_type": "code",
   "execution_count": null,
   "id": "eb7365b7-a1f0-464a-bb82-3cd99ec40168",
   "metadata": {
    "tags": []
   },
   "outputs": [],
   "source": [
    "tmp['Condition'] = tmp['Condition'].cat.set_categories(['Saline', 'LPS'])"
   ]
  },
  {
   "cell_type": "code",
   "execution_count": null,
   "id": "800061bc-eabb-4ef9-be01-f99225216a03",
   "metadata": {
    "tags": []
   },
   "outputs": [],
   "source": [
    "model = smf.mixedlm(\n",
    "    formula=\"Exp ~ Condition\",  \n",
    "    data=tmp,\n",
    "    groups=\"Sample\"                      \n",
    ")\n",
    "\n",
    "\n",
    "result = model.fit()\n",
    "print(result.summary())"
   ]
  },
  {
   "cell_type": "code",
   "execution_count": null,
   "id": "24fa0566-d8ba-4711-9a4a-938dd564f9d6",
   "metadata": {},
   "outputs": [],
   "source": []
  },
  {
   "cell_type": "code",
   "execution_count": null,
   "id": "1c4f4915-60a4-4aed-aa21-37106d215c18",
   "metadata": {
    "tags": []
   },
   "outputs": [],
   "source": [
    "tmp = df[df['cell_type'] == 'Microglia'].copy()\n",
    "tmp"
   ]
  },
  {
   "cell_type": "code",
   "execution_count": null,
   "id": "01928ca2-0f9b-4d7d-b668-ca5bd4aa54ea",
   "metadata": {
    "tags": []
   },
   "outputs": [],
   "source": [
    "tmp = tmp.loc[:, ['TE_RLTR6_Mm', 'Sample', 'Condition']].copy()\n",
    "tmp.columns = ['Exp', 'Sample', 'Condition']"
   ]
  },
  {
   "cell_type": "code",
   "execution_count": null,
   "id": "4b93aaca-b435-4197-923e-8ab39ecd8812",
   "metadata": {
    "tags": []
   },
   "outputs": [],
   "source": [
    "tmp['Condition'] = tmp['Condition'].cat.set_categories(['Saline', 'LPS'])"
   ]
  },
  {
   "cell_type": "code",
   "execution_count": null,
   "id": "6a2af1e3-3a78-4ca4-b0f4-a8afae098451",
   "metadata": {
    "tags": []
   },
   "outputs": [],
   "source": [
    "model = smf.mixedlm(\n",
    "    formula=\"Exp ~ Condition\",  \n",
    "    data=tmp,\n",
    "    groups=\"Sample\"                      \n",
    ")\n",
    "\n",
    "\n",
    "result = model.fit()\n",
    "print(result.summary())"
   ]
  },
  {
   "cell_type": "code",
   "execution_count": null,
   "id": "ac18608f-5729-45c6-84ac-21eebc58ca07",
   "metadata": {},
   "outputs": [],
   "source": []
  },
  {
   "cell_type": "code",
   "execution_count": null,
   "id": "9cf67842-34bb-420b-98b0-abd0e5d91203",
   "metadata": {
    "tags": []
   },
   "outputs": [],
   "source": [
    "adata.obs['Sample'] = adata.obs['Sample'].cat.set_categories(['Saline_2', 'Saline_4', 'Saline_9', 'LPS_7', 'LPS_8', 'LPS_10'])"
   ]
  },
  {
   "cell_type": "code",
   "execution_count": null,
   "id": "2e47195b-92cc-4957-8b33-dc78d8083b0b",
   "metadata": {},
   "outputs": [],
   "source": []
  },
  {
   "cell_type": "code",
   "execution_count": null,
   "id": "d62ba073-acba-4bdc-8f58-cab18fd46575",
   "metadata": {
    "tags": []
   },
   "outputs": [],
   "source": [
    "adata.uns['Sample_colors'] = ['#0000FF', '#0000EE', '#0000CD', '#FF0000', '#EE0000', '#CD0000']"
   ]
  },
  {
   "cell_type": "code",
   "execution_count": null,
   "id": "1bce05a1-9195-4de9-9975-ee9d3c0c1382",
   "metadata": {
    "tags": []
   },
   "outputs": [],
   "source": [
    "sc.set_figure_params(figsize = (10,5), dpi_save=600, scanpy = False)\n",
    "sc.pl.violin(adata, keys ='n_genes_by_counts', groupby='Sample', inner = 'box', stripplot=False,\n",
    "            save = 'n_genes_by_counts.pdf')"
   ]
  },
  {
   "cell_type": "code",
   "execution_count": null,
   "id": "acd49d72-14f9-401e-aad1-7f0e7c7a6941",
   "metadata": {
    "tags": []
   },
   "outputs": [],
   "source": [
    "sc.set_figure_params(figsize = (10,5), dpi_save=600, scanpy = False)\n",
    "sc.pl.violin(adata, keys ='total_counts', groupby='Sample', inner = 'box', stripplot=False,\n",
    "            save = 'total_counts.pdf')"
   ]
  }
 ],
 "metadata": {
  "kernelspec": {
   "display_name": "Python [conda env:python3.9]",
   "language": "python",
   "name": "conda-env-python3.9-py"
  },
  "language_info": {
   "codemirror_mode": {
    "name": "ipython",
    "version": 3
   },
   "file_extension": ".py",
   "mimetype": "text/x-python",
   "name": "python",
   "nbconvert_exporter": "python",
   "pygments_lexer": "ipython3",
   "version": "3.9.13"
  }
 },
 "nbformat": 4,
 "nbformat_minor": 5
}
