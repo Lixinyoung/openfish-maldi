{
 "cells": [
  {
   "cell_type": "code",
   "execution_count": null,
   "id": "cb84a907-2000-42e8-8cac-b5a60f07d029",
   "metadata": {},
   "outputs": [],
   "source": []
  },
  {
   "cell_type": "code",
   "execution_count": null,
   "id": "e145a3c9-ee94-48a2-9646-fdc3d3d2baca",
   "metadata": {
    "tags": []
   },
   "outputs": [],
   "source": [
    "import scanpy as sc\n",
    "import numpy as np\n",
    "import pandas as pd\n",
    "import anndata as ad\n",
    "import seaborn as sns\n",
    "from scipy import stats\n",
    "import matplotlib.pyplot as plt\n",
    "\n",
    "from mesa import ecospatial as eco"
   ]
  },
  {
   "cell_type": "code",
   "execution_count": null,
   "id": "0fafd5aa-69e9-485a-ad71-9bb4b731a6d3",
   "metadata": {
    "tags": []
   },
   "outputs": [],
   "source": [
    "adata = sc.read_h5ad('RelnAll_Annotated.h5ad')\n",
    "adata"
   ]
  },
  {
   "cell_type": "code",
   "execution_count": null,
   "id": "bcdc6d09-257f-45e0-8639-03153b1e5edf",
   "metadata": {
    "tags": []
   },
   "outputs": [],
   "source": [
    "adata = adata[adata.obs['STR'] == True].copy()"
   ]
  },
  {
   "cell_type": "code",
   "execution_count": null,
   "id": "dc82aa26-eda2-4722-b7bf-006131e05cfe",
   "metadata": {
    "tags": []
   },
   "outputs": [],
   "source": [
    "sc.pl.embedding(adata, basis = 'spatial', color = 'cell_type', size = 5)"
   ]
  },
  {
   "cell_type": "code",
   "execution_count": null,
   "id": "4592ecec-36d8-4803-a0b4-7e8fc70e6a43",
   "metadata": {},
   "outputs": [],
   "source": [
    "KEEP_CELL_TYPE = ['Astro-TE', 'CHOR', 'Endo', 'Epen', 'Fibro', 'Inh Lamp5', 'Inh STR D1', 'Inh STR D2', 'Inh Sst', 'Inh Vip', 'Microglia', 'Mural', 'OPC', 'Oligo']"
   ]
  },
  {
   "cell_type": "code",
   "execution_count": null,
   "id": "d52c2923-70d2-478b-a971-3e84a49944ab",
   "metadata": {
    "tags": []
   },
   "outputs": [],
   "source": [
    "adata = adata[adata.obs['cell_type'].isin(KEEP_CELL_TYPE)].copy()"
   ]
  },
  {
   "cell_type": "code",
   "execution_count": null,
   "id": "73ffa7d9-8274-4ee4-a1ec-43d7f04ee97f",
   "metadata": {
    "tags": []
   },
   "outputs": [],
   "source": [
    "adata.obsm['spatial'] = adata.obsm['spatial'] * 0.325# Convert units to microns"
   ]
  },
  {
   "cell_type": "code",
   "execution_count": null,
   "id": "1c787ee2-9338-4bf1-9159-3e7b46a53383",
   "metadata": {
    "tags": []
   },
   "outputs": [],
   "source": [
    "adata.obs['Sample']"
   ]
  },
  {
   "cell_type": "code",
   "execution_count": null,
   "id": "aba7f6a3-1401-4a89-a171-a12f55f49a31",
   "metadata": {},
   "outputs": [],
   "source": []
  },
  {
   "cell_type": "code",
   "execution_count": null,
   "id": "39fab050-3469-41e6-bda4-b418c5f5dfaa",
   "metadata": {
    "tags": []
   },
   "outputs": [],
   "source": [
    "library_ids = ['KO1', 'KO2', 'WT1', 'WT2']"
   ]
  },
  {
   "cell_type": "code",
   "execution_count": null,
   "id": "2e2217d3-5ffe-4b52-b324-766e4e84eae5",
   "metadata": {
    "scrolled": true,
    "tags": []
   },
   "outputs": [],
   "source": [
    "# Define the sequence of scales\n",
    "scales = [1., 2., 4., 8., 16., 32., 64.]\n",
    "\n",
    "mdi_results = eco.calculate_MDI(spatial_data=adata,\n",
    "                                scales=scales,\n",
    "                                library_key='Sample',\n",
    "                                library_id=library_ids,\n",
    "                                spatial_key='spatial',\n",
    "                                cluster_key='cell_type',\n",
    "                                random_patch=False,\n",
    "                                plotfigs=False,\n",
    "                                savefigs=False,\n",
    "                                patch_kwargs={'random_seed': None, 'min_points':2},\n",
    "                                other_kwargs={'metric': 'Shannon Diversity'})"
   ]
  },
  {
   "cell_type": "code",
   "execution_count": null,
   "id": "6b028808-b164-4110-bd2a-852774a7f24e",
   "metadata": {
    "tags": []
   },
   "outputs": [],
   "source": [
    "# Add 'Condition' and 'Sample_id' to the columns\n",
    "mdi_results['Condition'] = ' '\n",
    "mdi_results['Sample_id'] = mdi_results.index\n",
    "mdi_results.loc[mdi_results.index.str.contains('WT'), 'Condition'] = 'WT'\n",
    "mdi_results.loc[mdi_results.index.str.contains('KO'), 'Condition'] = 'KO'\n",
    "mdi_results.head()"
   ]
  },
  {
   "cell_type": "code",
   "execution_count": null,
   "id": "1b3f448c-69aa-4561-aa67-a31251be834e",
   "metadata": {
    "scrolled": true,
    "tags": []
   },
   "outputs": [],
   "source": [
    "df_melted = pd.melt(mdi_results, id_vars=['Sample_id', 'Condition'], value_vars=scales,\n",
    "                    var_name='Scale', value_name='Diversity Value')\n",
    "df_melted['sample'] = 'Tissue Sample'\n",
    "df_melted"
   ]
  },
  {
   "cell_type": "code",
   "execution_count": null,
   "id": "b5df8ec4-7157-408f-95d8-c428b3b05e3a",
   "metadata": {
    "tags": []
   },
   "outputs": [],
   "source": [
    "xrange = []\n",
    "yrange = []\n",
    "for region in adata.obs['Sample'].unique():\n",
    "    spatial_value = adata[adata.obs['Sample']==region].obsm['spatial']\n",
    "    xrange.append(spatial_value.max(axis=0)[0] - spatial_value.min(axis=0)[0])\n",
    "    yrange.append(spatial_value.max(axis=0)[1] - spatial_value.min(axis=0)[1])\n",
    "mean_xrange = np.mean(xrange)\n",
    "std_xrange = np.std(xrange)\n",
    "mean_yrange = np.mean(yrange)\n",
    "std_yrange = np.std(yrange)\n",
    "\n",
    "# Calculate mean and confidence interval\n",
    "grouped = df_melted.groupby('Scale')\n",
    "mean_values = grouped['Diversity Value'].mean()\n",
    "conf_intervals = grouped['Diversity Value'].apply(lambda x: stats.sem(x) * stats.t.ppf((1 + 0.95) / 2., len(x)-1))\n",
    "\n",
    "# Plotting using sns.lineplot\n",
    "plt.figure(figsize=(6, 4))\n",
    "ax = sns.lineplot(data=df_melted,\n",
    "                  x='Scale',\n",
    "                  y='Diversity Value',\n",
    "                  style='sample',\n",
    "                  markers=True,\n",
    "                  estimator='mean',\n",
    "                  err_style='bars',\n",
    "                  errorbar=(\"ci\", 95),\n",
    "                  err_kws={\"capsize\":5.0}\n",
    "                 )\n",
    "\n",
    "# Annotating error bars with their value\n",
    "for i, (scale, mean, ci) in enumerate(zip(mean_values.index, mean_values, conf_intervals)):\n",
    "    ax.text(scale, mean + ci, f'{mean:.3f}±{ci:.3f}', color='black', ha='center', va='bottom')\n",
    "\n",
    "# Drawing red dashed horizontal lines at half the maximum of x and y axes\n",
    "mean_diversity_per_scale = df_melted.groupby('Scale')['Diversity Value'].mean()\n",
    "y_sep = mean_diversity_per_scale.median()\n",
    "x_sep = mean_diversity_per_scale.idxmax()\n",
    "\n",
    "ax.axhline(y_sep, color='red', linestyle='--')\n",
    "ax.axvline(x_sep, color='red', linestyle='--')\n",
    "ax.get_legend().remove()\n",
    "\n",
    "ax.spines['top'].set_visible(False)\n",
    "ax.spines['right'].set_visible(False)\n",
    "plt.xlabel('', fontsize=0)\n",
    "plt.xticks(fontsize=12)\n",
    "plt.ylabel(f\"GDI\", fontsize=16)\n",
    "plt.yticks(fontsize=12)\n",
    "\n",
    "# Add secondary x-axis\n",
    "xtick_labels = [tick.get_text() for tick in ax.get_xticklabels()][2:-1]\n",
    "scales = [int(label) for label in xtick_labels if label.strip() != '']\n",
    "x_sizes = [mean_xrange / scale for scale in scales]\n",
    "y_sizes = [mean_yrange / scale for scale in scales]\n",
    "size_labels = [f\"{int(x_size)}×{int(y_size)}\" for x_size, y_size in zip(x_sizes, y_sizes)]\n",
    "secax = ax.secondary_xaxis(location=-0.075)\n",
    "secax.set_xticks(scales)\n",
    "secax.set_xticklabels(size_labels)\n",
    "secax.tick_params('x', length=0)\n",
    "secax.spines['bottom'].set_linewidth(0)\n",
    "secax.set_xlabel(f'Scale \\n (Area μm²)', fontsize=12)\n",
    "\n",
    "plt.title(f'GDI per Scale with 95% Confidence Intervals')\n",
    "plt.grid(False)\n",
    "fig = plt.gcf()\n",
    "plt.show()"
   ]
  },
  {
   "cell_type": "code",
   "execution_count": null,
   "id": "86ad43e0-4cfe-4458-918b-ded8214bcbea",
   "metadata": {
    "scrolled": true,
    "tags": []
   },
   "outputs": [],
   "source": [
    "mdi_results"
   ]
  },
  {
   "cell_type": "code",
   "execution_count": null,
   "id": "4e5b4c29-eb5a-4f0f-b677-47a1552679de",
   "metadata": {
    "scrolled": true,
    "tags": []
   },
   "outputs": [],
   "source": [
    "gdi_results = eco.calculate_GDI(spatial_data=adata,\n",
    "                                scale=64,\n",
    "                                library_key='Sample',\n",
    "                                library_id=library_ids,\n",
    "                                spatial_key='spatial',\n",
    "                                cluster_key='cell_type',\n",
    "                                hotspot=True,\n",
    "                                restricted=False,\n",
    "                                metric='Shannon Diversity')\n",
    "gdi_results"
   ]
  },
  {
   "cell_type": "code",
   "execution_count": null,
   "id": "b46f794b-d480-4058-b79b-ab3565fb5f6a",
   "metadata": {
    "tags": []
   },
   "outputs": [],
   "source": [
    "gdi_results.to_csv(\"STR_GDI.csv\")"
   ]
  },
  {
   "cell_type": "code",
   "execution_count": null,
   "id": "5da9ec6c-c5d3-448b-a6a0-6e87a626b3b2",
   "metadata": {
    "scrolled": true,
    "tags": []
   },
   "outputs": [],
   "source": [
    "# Calculate DPI for hotspots\n",
    "dpi_results = eco.calculate_DPI(spatial_data=adata,\n",
    "                                scale=64.0,\n",
    "                                library_key='Sample',\n",
    "                                library_id=library_ids,\n",
    "                                spatial_key='spatial',\n",
    "                                cluster_key='cell_type',\n",
    "                                hotspot=True,\n",
    "                                metric='Shannon Diversity')\n",
    "dpi_results"
   ]
  },
  {
   "cell_type": "code",
   "execution_count": null,
   "id": "d0374baa-c000-48d3-ad79-11fde60a28d7",
   "metadata": {
    "tags": []
   },
   "outputs": [],
   "source": [
    "dpi_results.to_csv('STR_DPI.csv')"
   ]
  },
  {
   "cell_type": "code",
   "execution_count": null,
   "id": "0e8e6e97-1559-49ec-8c7b-4addcfd1c59a",
   "metadata": {
    "scrolled": true,
    "tags": []
   },
   "outputs": [],
   "source": [
    "global_cellfreq_df, global_co_occurrence_df = eco.spot_cellfreq(spatial_data=adata,\n",
    "                                                                scale=64.0,\n",
    "                                                                library_key='Sample',\n",
    "                                                                library_id=library_ids,\n",
    "                                                                spatial_key='spatial',\n",
    "                                                                cluster_key='cell_type',\n",
    "                                                                spots='global',\n",
    "                                                                top=None,\n",
    "                                                                selected_comb=None,\n",
    "                                                                restricted=False,\n",
    "                                                                metric='Shannon Diversity')"
   ]
  },
  {
   "cell_type": "code",
   "execution_count": null,
   "id": "b3f8e4a5-15e2-4d5d-a62e-f54e076dcb7a",
   "metadata": {
    "scrolled": true,
    "tags": []
   },
   "outputs": [],
   "source": [
    "global_cellfreq_df"
   ]
  },
  {
   "cell_type": "code",
   "execution_count": null,
   "id": "07a1bcfe-8942-4772-a758-015072eff1a3",
   "metadata": {
    "tags": []
   },
   "outputs": [],
   "source": [
    "global_cellfreq_df['Condition'] = ' '\n",
    "global_cellfreq_df.loc[global_cellfreq_df.index.str.contains('KO'), 'Condition'] = 'KO'\n",
    "global_cellfreq_df.loc[global_cellfreq_df.index.str.contains('WT'), 'Condition'] = 'WT'\n",
    "\n",
    "global_co_occurrence_subcols = global_co_occurrence_df.loc[:,global_co_occurrence_df.mean()>0.05].columns.tolist()\n",
    "global_co_occurrence_df['Condition'] = ' '\n",
    "global_co_occurrence_df['Patch'] = global_co_occurrence_df.index\n",
    "global_co_occurrence_df.loc[global_co_occurrence_df.index.str.contains('KO'), 'Condition'] = 'KO'\n",
    "global_co_occurrence_df.loc[global_co_occurrence_df.index.str.contains('WT'), 'Condition'] = 'WT'\n",
    "global_co_occurrence_subcols.extend([('Condition',''),('Patch','')])"
   ]
  },
  {
   "cell_type": "code",
   "execution_count": null,
   "id": "fee5b56f-d6d7-427d-bbc2-d524b4029bde",
   "metadata": {
    "scrolled": true,
    "tags": []
   },
   "outputs": [],
   "source": [
    "global_cellfreq_df"
   ]
  },
  {
   "cell_type": "code",
   "execution_count": null,
   "id": "9d765fb6-731d-4bed-a308-a92463b3ba3c",
   "metadata": {
    "tags": []
   },
   "outputs": [],
   "source": [
    "# Melt the dataframe for easier plotting and statistical analysis\n",
    "global_cellfreq_df_melt = global_cellfreq_df.reset_index().melt(id_vars=['Sample', 'Condition'])\n",
    "global_cellfreq_df_melt.columns = ['Sample', 'group', 'cell_type', 'Frequency']\n",
    "\n",
    "global_cellfreq_df_melt"
   ]
  },
  {
   "cell_type": "code",
   "execution_count": null,
   "id": "1131ec06-6fa5-4f4b-b40d-a95be7db08b2",
   "metadata": {
    "scrolled": true,
    "tags": []
   },
   "outputs": [],
   "source": [
    "# Perform t-tests\n",
    "selected_cell_types = sorted(adata.obs['cell_type'].unique())\n",
    "selected_p_values = []\n",
    "for ct in selected_cell_types:\n",
    "    group1 = global_cellfreq_df_melt[(global_cellfreq_df_melt['cell_type'] == ct) & (global_cellfreq_df_melt['group'] == 'WT')]['Frequency']\n",
    "    group2 = global_cellfreq_df_melt[(global_cellfreq_df_melt['cell_type'] == ct) & (global_cellfreq_df_melt['group'] == 'KO')]['Frequency']\n",
    "    t_stat, p_value = stats.ttest_ind(group1, group2, equal_var=False)\n",
    "    print(f\"{ct} has p value of {p_value}\")\n",
    "    selected_p_values.append(p_value)\n",
    "\n",
    "pvals_corrected = stats.false_discovery_control(selected_p_values, method='bh')\n",
    "print('-'*42)\n",
    "print(f\"p-values after correction:\")\n",
    "\n",
    "# Plot\n",
    "fig, ax = plt.subplots(figsize=(30,10))\n",
    "sns.boxplot(data=global_cellfreq_df_melt, x='cell_type', y='Frequency', hue='group', palette='muted', boxprops=dict(alpha=.3), ax=ax, dodge=True, order=selected_cell_types)\n",
    "sns.swarmplot(data=global_cellfreq_df_melt, x='cell_type', y='Frequency', hue='group', palette='dark:black', size=2.0, dodge=True, order=selected_cell_types, ax=ax, edgecolor='auto', linewidth=0.5)\n",
    "handles, labels = ax.get_legend_handles_labels()\n",
    "ax.legend(handles[:2], labels[:2], title=\"Groups\", handletextpad=1, columnspacing=1, bbox_to_anchor=(1, 1), ncol=3, frameon=True)\n",
    "plt.xticks(rotation=90)\n",
    "\n",
    "p_vals_corrected_dict = {}\n",
    "yrange = ax.get_ylim()[1] - ax.get_ylim()[0]\n",
    "for i, ct in enumerate(selected_cell_types):\n",
    "    ax.text(i, yrange, f\"p = {pvals_corrected[i]:.3f}\", ha='center', fontsize=12, rotation=0)\n",
    "    print(f\"{ct} has p value = {pvals_corrected[i]:.3f}\", flush=True)\n",
    "    p_vals_corrected_dict[ct] = pvals_corrected[i]\n",
    "\n",
    "for i in range(len(selected_cell_types) - 1):\n",
    "    ax.axvline(i + 0.55, color='grey', linestyle='--', linewidth=0.5)\n",
    "\n",
    "ax.set_ylabel(\"Frequency\", fontsize=14)\n",
    "ax.set_xlabel('')\n",
    "plt.savefig(\"Global_Cell_Frequency_STR.pdf\", dpi = 300)\n",
    "plt.show()"
   ]
  },
  {
   "cell_type": "code",
   "execution_count": null,
   "id": "3c76870b-4037-4266-aa79-0b63e66710d5",
   "metadata": {
    "scrolled": true,
    "tags": []
   },
   "outputs": [],
   "source": [
    "spot_cellfreq_df, spot_co_occurrence_df = eco.spot_cellfreq(spatial_data=adata,\n",
    "                                                            scale=64.0,\n",
    "                                                            library_key='Sample',\n",
    "                                                            library_id=library_ids,\n",
    "                                                            spatial_key='spatial',\n",
    "                                                            cluster_key='cell_type',\n",
    "                                                            spots='hot',\n",
    "                                                            top=None,\n",
    "                                                            selected_comb=None,\n",
    "                                                            restricted=False,\n",
    "                                                            metric='Shannon Diversity')"
   ]
  },
  {
   "cell_type": "code",
   "execution_count": null,
   "id": "7e63ec4b-3d0f-401f-aa17-aee4a2f63af5",
   "metadata": {
    "tags": []
   },
   "outputs": [],
   "source": [
    "spot_cellfreq_df['Condition'] = ' '\n",
    "spot_cellfreq_df.loc[spot_cellfreq_df.index.str.contains('KO'), 'Condition'] = 'KO'\n",
    "spot_cellfreq_df.loc[spot_cellfreq_df.index.str.contains('WT'), 'Condition'] = 'WT'\n",
    "\n",
    "spot_co_occurrence_subcols = spot_co_occurrence_df.loc[:,spot_co_occurrence_df.mean()>0.05].columns.tolist()\n",
    "spot_co_occurrence_df['Condition'] = ' '\n",
    "spot_co_occurrence_df['Patch'] = spot_co_occurrence_df.index\n",
    "spot_co_occurrence_df.loc[spot_co_occurrence_df.index.str.contains('KO'), 'Condition'] = 'KO'\n",
    "spot_co_occurrence_df.loc[spot_co_occurrence_df.index.str.contains('WT'), 'Condition'] = 'WT'\n",
    "spot_co_occurrence_subcols.extend([('Condition',''),('Patch','')])"
   ]
  },
  {
   "cell_type": "code",
   "execution_count": null,
   "id": "b99923a6-9dbe-42b6-b111-70e0c3dda416",
   "metadata": {
    "tags": []
   },
   "outputs": [],
   "source": [
    "spot_cellfreq_df['Patch'] = spot_cellfreq_df.index\n",
    "\n",
    "# Melt the DataFrame\n",
    "spot_cellfreq_df_melt = spot_cellfreq_df.melt(id_vars=['Patch', 'Condition'], var_name='CellType', value_name='Frequency')"
   ]
  },
  {
   "cell_type": "code",
   "execution_count": null,
   "id": "00de204e-cab2-4911-99a8-2a0024337dab",
   "metadata": {
    "scrolled": true,
    "tags": []
   },
   "outputs": [],
   "source": [
    "spot_cellfreq_df_melt"
   ]
  },
  {
   "cell_type": "code",
   "execution_count": null,
   "id": "42d8a7cb-706f-4954-9db8-ff3bfade4db9",
   "metadata": {
    "scrolled": true,
    "tags": []
   },
   "outputs": [],
   "source": [
    "selected_cell_types = sorted(spot_cellfreq_df_melt['CellType'].unique())\n",
    "selected_p_values = []\n",
    "\n",
    "# Perform t-tests\n",
    "print(f\"p-value before correction:\")\n",
    "for ct in selected_cell_types: # df_melted['CellType'].unique():\n",
    "    subset = spot_cellfreq_df_melt[spot_cellfreq_df_melt['CellType'] == ct]\n",
    "    group1 = subset[subset['Condition'] == 'WT']['Frequency']\n",
    "    group2 = subset[subset['Condition'] == 'KO']['Frequency']\n",
    "\n",
    "    t_stat, p_value = stats.ttest_ind(group1, group2, equal_var=False)\n",
    "    print(f\"{ct} has p value = {p_value:.4f}\")\n",
    "    selected_p_values.append(p_value)\n",
    "\n",
    "# Filter the dataframe based on selected CellTypes\n",
    "df_filtered = spot_cellfreq_df_melt[spot_cellfreq_df_melt['CellType'].isin(selected_cell_types)]\n",
    "\n",
    "# Plot the filtered data\n",
    "fig, ax = plt.subplots(figsize=(30,10))\n",
    "sns.boxplot(data=df_filtered, x='CellType', y='Frequency', hue='Condition', palette='muted', boxprops=dict(alpha=.3), ax=ax, dodge=True,order=selected_cell_types)\n",
    "sns.swarmplot(data=df_filtered, x='CellType', y='Frequency', hue='Condition', palette='dark:black', size=3.0, dodge=True, order=selected_cell_types, ax=ax, edgecolor='auto', linewidth=0.5)\n",
    "\n",
    "handles, labels = ax.get_legend_handles_labels()\n",
    "ax.legend(handles[:2], labels[:2], title=\"Groups\", handletextpad=1, columnspacing=1, bbox_to_anchor=(1, 1), ncol=3, frameon=True)\n",
    "\n",
    "spot_pvals_corrected = stats.false_discovery_control(selected_p_values, method='bh')\n",
    "spot_pvals_corrected = dict(map(lambda i,j : (i,j) , selected_cell_types, spot_pvals_corrected))\n",
    "\n",
    "print('-'*42)\n",
    "print(f\"p-values after correction: \")\n",
    "\n",
    "yrange = ax.get_ylim()[1] - ax.get_ylim()[0]\n",
    "for i, ct in enumerate(selected_cell_types):\n",
    "    ax.text(i, yrange, f\"p = {spot_pvals_corrected[ct]:.3f}\", ha='center', fontsize=12, rotation=90)\n",
    "    print(f\"{ct} in hot spots has p value = {spot_pvals_corrected[ct]:.3f}\", flush=True)\n",
    "    if spot_pvals_corrected[ct] < 0.05 and p_vals_corrected_dict[ct] > 0.05:\n",
    "        print(f\"{ct} in whole tissue has p value = {p_vals_corrected_dict[ct]:.3f}\", flush=True)\n",
    "        print('*'*42)\n",
    "\n",
    "for i in range(len(selected_cell_types) - 1):\n",
    "    ax.axvline(i + 0.55, color='grey', linestyle='--', linewidth=0.5)\n",
    "\n",
    "ax.set_ylabel(\"Frequency\", fontsize=14)\n",
    "ax.set_xlabel('')\n",
    "plt.xticks(rotation=90)\n",
    "plt.yticks(rotation=90)\n",
    "plt.savefig(\"HotColdSpot_Cell_Frequency_STR.pdf\", dpi = 300)\n",
    "plt.show()\n",
    "plt.close(fig)"
   ]
  },
  {
   "cell_type": "code",
   "execution_count": null,
   "id": "510a91ee-ee7d-4cd0-8968-bab9036e867a",
   "metadata": {
    "tags": []
   },
   "outputs": [],
   "source": [
    "union_cols = set(global_co_occurrence_subcols).union(set(spot_co_occurrence_subcols))"
   ]
  },
  {
   "cell_type": "code",
   "execution_count": null,
   "id": "671925c2-9941-4969-b37c-c0218bca2039",
   "metadata": {
    "tags": []
   },
   "outputs": [],
   "source": [
    "# Make them have the same set of columns\n",
    "global_co_occurrence_df = global_co_occurrence_df.reindex(columns=union_cols).fillna(0)\n",
    "spot_co_occurrence_df = spot_co_occurrence_df.reindex(columns=union_cols).fillna(0)"
   ]
  },
  {
   "cell_type": "code",
   "execution_count": null,
   "id": "4748ca1f-a527-407f-9ecd-29366d55c10a",
   "metadata": {
    "tags": []
   },
   "outputs": [],
   "source": [
    "# Global Cell Co-Occurrence\n",
    "# Multi-index to single-index column\n",
    "new_columns = []\n",
    "for col in global_co_occurrence_df.columns:\n",
    "    if isinstance(col, tuple):  # This checks if the column is a MultiIndex\n",
    "        # Join only if the column name is not 'Mouse' or 'Condition'\n",
    "        if \"Patch\" not in col and \"Condition\" not in col:\n",
    "            new_columns.append('&'.join(map(str, col)).strip())\n",
    "        else:\n",
    "            # If 'Mouse' or 'Condition' is in the column, it is not joined with '&'\n",
    "            new_columns.append(col[0])\n",
    "    else:\n",
    "        new_columns.append(col)\n",
    "\n",
    "global_co_occurrence_df_single = global_co_occurrence_df.copy()\n",
    "global_co_occurrence_df_single.columns = new_columns\n",
    "global_co_occurrence_df_single = global_co_occurrence_df_single[[col for col in global_co_occurrence_df_single.columns if 'noid' not in col]]\n",
    "\n",
    "# Melt the DataFrame\n",
    "global_co_occurrence_melted = global_co_occurrence_df_single.melt(id_vars=['Patch', 'Condition'], var_name='Cell Combination', value_name='Frequency')\n",
    "global_co_occurrence_melted"
   ]
  },
  {
   "cell_type": "code",
   "execution_count": null,
   "id": "fe235dca-616e-4d65-8946-241c5be27bfc",
   "metadata": {
    "scrolled": true,
    "tags": []
   },
   "outputs": [],
   "source": [
    "# Global Cell Co-Occurrence\n",
    "selected_cell_types = sorted(global_co_occurrence_melted['Cell Combination'].unique())\n",
    "selected_p_values = []\n",
    "\n",
    "# Perform t-tests\n",
    "print(f\"p-value before correction:\")\n",
    "for ct in selected_cell_types:\n",
    "    subset = global_co_occurrence_melted[global_co_occurrence_melted['Cell Combination'] == ct]\n",
    "    group1 = subset[subset['Condition'] == 'WT']['Frequency']\n",
    "    group2 = subset[subset['Condition'] == 'KO']['Frequency']\n",
    "\n",
    "    t_stat, p_value = stats.ttest_ind(group1, group2, equal_var=False)\n",
    "    print(f\"{ct} has p value = {p_value:.3f}\")\n",
    "    selected_p_values.append(p_value)\n",
    "\n",
    "# Filter the dataframe based on selected Cell Combinations\n",
    "df_filtered = global_co_occurrence_melted[global_co_occurrence_melted['Cell Combination'].isin(selected_cell_types)]\n",
    "\n",
    "# Plot the filtered data\n",
    "fig, ax = plt.subplots(figsize=(45,10))\n",
    "sns.boxplot(data=df_filtered, x='Cell Combination', y='Frequency', hue='Condition', palette='muted', boxprops=dict(alpha=.3), ax=ax, dodge=True,order=selected_cell_types)\n",
    "sns.swarmplot(data=df_filtered, x='Cell Combination', y='Frequency', hue='Condition', palette='dark:black', size=1.0, dodge=True,order=selected_cell_types, ax=ax, edgecolor='gray', linewidth=0.5)\n",
    "\n",
    "handles, labels = ax.get_legend_handles_labels()\n",
    "ax.legend(handles[:2], labels[:2], title=\"Groups\", handletextpad=1, columnspacing=1, bbox_to_anchor=(1, 1), ncol=3, frameon=True)\n",
    "\n",
    "pvals_corrected = stats.false_discovery_control(selected_p_values, method='bh')\n",
    "\n",
    "print('-'*42)\n",
    "print(f\"p-values after correction:\")\n",
    "\n",
    "p_vals_corrected_dict = {}\n",
    "yrange = ax.get_ylim()[1] - ax.get_ylim()[0]\n",
    "for i, ct in enumerate(selected_cell_types):\n",
    "    ax.text(i, yrange, f\"p = {pvals_corrected[i]:.3f}\", ha='center', fontsize=8, rotation=0)\n",
    "    print(f\"{ct} has p value = {pvals_corrected[i]:.3f}\", flush=True)\n",
    "    p_vals_corrected_dict[ct] = pvals_corrected[i]\n",
    "\n",
    "for i in range(len(selected_cell_types) - 1):\n",
    "    ax.axvline(i + 0.55, color='grey', linestyle='--', linewidth=0.5)\n",
    "\n",
    "ax.set_ylabel(\"Frequency\", fontsize=14)\n",
    "ax.set_xlabel('')\n",
    "plt.xticks(rotation=90)\n",
    "plt.savefig(\"Global_Cell_co_occurance_STR.pdf\", dpi = 300)\n",
    "plt.show()"
   ]
  },
  {
   "cell_type": "code",
   "execution_count": null,
   "id": "ad7e9819-43e7-4d15-b4d2-a69d1a34f6c5",
   "metadata": {
    "tags": []
   },
   "outputs": [],
   "source": [
    "# Spot Cell Co-Occurrence\n",
    "# Multi-index to single-index column\n",
    "new_columns = []\n",
    "for col in spot_co_occurrence_df.columns:\n",
    "    if isinstance(col, tuple):  # This checks if the column is a MultiIndex\n",
    "        # Join only if the column name is not 'Mouse' or 'Condition'\n",
    "        if \"Patch\" not in col and \"Condition\" not in col:\n",
    "            new_columns.append('&'.join(map(str, col)).strip())\n",
    "        else:\n",
    "            # If 'Mouse' or 'Condition' is in the column, it is not joined with '&'\n",
    "            new_columns.append(col[0])\n",
    "    else:\n",
    "        new_columns.append(col)\n",
    "\n",
    "spot_co_occurrence_df_single = spot_co_occurrence_df.copy()\n",
    "spot_co_occurrence_df_single.columns = new_columns\n",
    "spot_co_occurrence_df_single = spot_co_occurrence_df_single[[col for col in spot_co_occurrence_df_single.columns if 'noid' not in col]]\n",
    "\n",
    "# Melt the DataFrame\n",
    "spot_co_occurrence_melted = spot_co_occurrence_df_single.melt(id_vars=['Patch', 'Condition'], var_name='Cell Combination', value_name='Frequency')\n",
    "spot_co_occurrence_melted"
   ]
  },
  {
   "cell_type": "code",
   "execution_count": null,
   "id": "119ff4ac-0c2f-4bd3-a509-c960021d7055",
   "metadata": {
    "scrolled": true,
    "tags": []
   },
   "outputs": [],
   "source": [
    "# Spot Cell Co-Occurrence\n",
    "selected_cell_types = sorted(spot_co_occurrence_melted['Cell Combination'].unique())\n",
    "selected_p_values = []\n",
    "\n",
    "# Perform t-tests\n",
    "print(f\"p-value before correction: \")\n",
    "for ct in selected_cell_types: # df_melted['CellType'].unique():\n",
    "    subset = spot_co_occurrence_melted[spot_co_occurrence_melted['Cell Combination'] == ct]\n",
    "    group1 = subset[subset['Condition'] == 'WT']['Frequency']\n",
    "    group2 = subset[subset['Condition'] == 'KO']['Frequency']\n",
    "\n",
    "    t_stat, p_value = stats.ttest_ind(group1, group2, equal_var=False)\n",
    "    print(f\"{ct} has p value = {p_value:.3f}\")\n",
    "    selected_p_values.append(p_value)\n",
    "\n",
    "# Filter the dataframe based on selected CellTypes\n",
    "df_filtered = spot_co_occurrence_melted[spot_co_occurrence_melted['Cell Combination'].isin(selected_cell_types)]\n",
    "\n",
    "# Plot the filtered data\n",
    "fig, ax = plt.subplots(figsize=(42,10))\n",
    "sns.boxplot(data=df_filtered, x='Cell Combination', y='Frequency', hue='Condition', palette='muted', boxprops=dict(alpha=.3), ax=ax, dodge=True,order=selected_cell_types)\n",
    "sns.swarmplot(data=df_filtered, x='Cell Combination', y='Frequency', hue='Condition', palette='dark:black', size=2.0, dodge=True,order=selected_cell_types, ax=ax, edgecolor='gray', linewidth=0.5)\n",
    "\n",
    "handles, labels = ax.get_legend_handles_labels()\n",
    "ax.legend(handles[:2], labels[:2], title=\"Groups\", handletextpad=1, columnspacing=1, bbox_to_anchor=(1, 1), ncol=3, frameon=True)\n",
    "\n",
    "hot_pvals_corrected = stats.false_discovery_control(selected_p_values, method='bh')\n",
    "\n",
    "print('-'*42)\n",
    "print(f\"p-values after correction:\")\n",
    "\n",
    "highlighted_comb = []\n",
    "yrange = ax.get_ylim()[1] - ax.get_ylim()[0]\n",
    "for i, ct in enumerate(selected_cell_types):\n",
    "    ax.text(i, yrange, f\"p = {pvals_corrected[i]:.3f}\", ha='center', fontsize=8, rotation=0)\n",
    "    print(f\"{ct} in hot spots has p value = {hot_pvals_corrected[i]:.3f}\", flush=True)\n",
    "    if hot_pvals_corrected[i] < 0.05 and p_vals_corrected_dict[ct] >= 0.05:\n",
    "        highlighted_comb.append(tuple(map(str.strip, ct.split('&'))))\n",
    "        print(f\"{ct} in whole tissue has p value = {p_vals_corrected_dict[ct]:.3f}\", flush=True)\n",
    "        print('*'*42)\n",
    "\n",
    "for i in range(len(selected_cell_types) - 1):\n",
    "    ax.axvline(i + 0.55, color='grey', linestyle='--', linewidth=0.5)\n",
    "\n",
    "ax.set_ylabel(\"Frequency\", fontsize=14)\n",
    "ax.set_xlabel('')\n",
    "plt.xticks(rotation=90)\n",
    "plt.yticks(rotation=90)\n",
    "plt.savefig(\"Spot_Cell_co_occurance_STR.pdf\", dpi = 300)\n",
    "plt.show()"
   ]
  },
  {
   "cell_type": "code",
   "execution_count": null,
   "id": "e145246f-9925-4cc6-9908-81d09473f41f",
   "metadata": {
    "tags": []
   },
   "outputs": [],
   "source": [
    "circoplot_df1 = global_co_occurrence_df.sort_index(axis=1, level=[0,1]).drop(columns=['Patch'])\n",
    "circoplot_df1 = circoplot_df1[[col for col in circoplot_df1.columns if 'noid' not in col]]\n",
    "# Group by 'Condition' and calculate the mean of the other columns\n",
    "circoplot_df1 = circoplot_df1.groupby('Condition').mean().reset_index()\n",
    "circoplot_df1 = circoplot_df1.set_index('Condition')\n",
    "circoplot_df1"
   ]
  },
  {
   "cell_type": "code",
   "execution_count": null,
   "id": "31c6a255-eef9-417e-8e59-2a60fb83b0e0",
   "metadata": {
    "scrolled": true,
    "tags": []
   },
   "outputs": [],
   "source": [
    "global_cellfreq_df"
   ]
  },
  {
   "cell_type": "code",
   "execution_count": null,
   "id": "73c67fe2-4c0e-4aa2-9624-1ff183bdacba",
   "metadata": {
    "tags": []
   },
   "outputs": [],
   "source": [
    "# circoplot_df2 = global_cellfreq_df.drop(columns=['noid'])\n",
    "circoplot_df2 = global_cellfreq_df.copy()\n",
    "# Group by 'Condition' and calculate the mean of the other columns\n",
    "circoplot_df2 = circoplot_df2.groupby('Condition').mean().reset_index()\n",
    "circoplot_df2 = circoplot_df2.set_index('Condition')\n",
    "circoplot_df2"
   ]
  },
  {
   "cell_type": "code",
   "execution_count": null,
   "id": "d6a6abc1-b680-40a6-ad58-f39b3be93b3f",
   "metadata": {
    "scrolled": true,
    "tags": []
   },
   "outputs": [],
   "source": [
    "patient_group = 'WT'\n",
    "eco.create_circos_plot(circoplot_df1.loc[[patient_group]],\n",
    "                       cell_type_colors_hex=None,\n",
    "                       cell_abundance=circoplot_df2.loc[[patient_group]],\n",
    "                       threshold=0.05,\n",
    "                       edge_weights_scaler=10,\n",
    "                       highlighted_edges=None,\n",
    "                       node_weights_scaler=5000,\n",
    "                       figure_size=(8,8),\n",
    "                       save_path='WT_STR_circoplot.pdf')"
   ]
  },
  {
   "cell_type": "code",
   "execution_count": null,
   "id": "350384e7-0dfc-48c4-ac5a-51d2f91392a8",
   "metadata": {
    "tags": []
   },
   "outputs": [],
   "source": [
    "circoplot_df1 = spot_co_occurrence_df.sort_index(axis=1, level=[0,1]).drop(columns=['Patch'])\n",
    "circoplot_df1 = circoplot_df1[[col for col in circoplot_df1.columns if 'noid' not in col]]\n",
    "# Group by 'Condition' and calculate the mean of the other columns\n",
    "circoplot_df1 = circoplot_df1.groupby('Condition').mean().reset_index()\n",
    "circoplot_df1 = circoplot_df1.set_index('Condition')\n",
    "circoplot_df1"
   ]
  },
  {
   "cell_type": "code",
   "execution_count": null,
   "id": "aa75932c-0ec4-4435-8a3c-3744d0550eae",
   "metadata": {
    "tags": []
   },
   "outputs": [],
   "source": [
    "circoplot_df2 = spot_cellfreq_df.drop(columns=['Patch'])\n",
    "# Group by 'Condition' and calculate the mean of the other columns\n",
    "circoplot_df2 = circoplot_df2.groupby('Condition').mean().reset_index()\n",
    "circoplot_df2 = circoplot_df2.set_index('Condition')\n",
    "circoplot_df2"
   ]
  },
  {
   "cell_type": "code",
   "execution_count": null,
   "id": "abc57b2e-3232-4aca-b31e-8ed1fc4c20b7",
   "metadata": {
    "scrolled": true,
    "tags": []
   },
   "outputs": [],
   "source": [
    "patient_group = 'KO'\n",
    "eco.create_circos_plot(circoplot_df1.loc[[patient_group]],\n",
    "                       cell_type_colors_hex=None,\n",
    "                       cell_abundance=circoplot_df2.loc[[patient_group]],\n",
    "                       threshold=0.05,\n",
    "                       edge_weights_scaler=10,\n",
    "                       highlighted_edges=highlighted_comb,\n",
    "                       node_weights_scaler=5000,\n",
    "                       figure_size=(8,8),\n",
    "                       save_path='KO_STR_circoplot.pdf')"
   ]
  },
  {
   "cell_type": "code",
   "execution_count": null,
   "id": "5b9eaffa-1316-4495-9139-191be5b5a389",
   "metadata": {
    "tags": []
   },
   "outputs": [],
   "source": [
    "import scanpy as sc\n",
    "import numpy as np\n",
    "import pandas as pd\n",
    "import anndata as ad\n",
    "import seaborn as sns\n",
    "from scipy import stats\n",
    "import matplotlib.pyplot as plt\n",
    "\n",
    "from mesa import ecospatial as eco"
   ]
  },
  {
   "cell_type": "code",
   "execution_count": null,
   "id": "c7db4722-8511-4a85-b439-1b46162ea19b",
   "metadata": {
    "tags": []
   },
   "outputs": [],
   "source": [
    "adata = sc.read_h5ad('RelnAll_Annotated.h5ad')\n",
    "adata"
   ]
  },
  {
   "cell_type": "code",
   "execution_count": null,
   "id": "e97d91c8-e36d-4ef3-95d3-894c32c11598",
   "metadata": {
    "tags": []
   },
   "outputs": [],
   "source": [
    "adata = adata[adata.obs['CB'] == True].copy()"
   ]
  },
  {
   "cell_type": "code",
   "execution_count": null,
   "id": "92ef710a-e731-4ca6-87a9-69df7b4a013b",
   "metadata": {
    "tags": []
   },
   "outputs": [],
   "source": [
    "sc.pl.embedding(adata, basis = 'spatial', color = 'cell_type', size = 5)"
   ]
  },
  {
   "cell_type": "code",
   "execution_count": null,
   "id": "8292ddcc-5094-443f-8119-f9a35ad574c3",
   "metadata": {},
   "outputs": [],
   "source": [
    "KEEP_CELL_TYPE = ['Astro-CB', 'CHOR', 'Endo', 'Epen', 'Ext CB', 'Ext UBC', 'Fibro', 'Inh CB', 'Inh CB Purkinje', 'Microglia', 'Mural', 'OPC', 'Oligo']"
   ]
  },
  {
   "cell_type": "code",
   "execution_count": null,
   "id": "b8d81474-f9aa-4acb-bf66-2643ebbbb1d4",
   "metadata": {
    "tags": []
   },
   "outputs": [],
   "source": [
    "adata = adata[adata.obs['cell_type'].isin(KEEP_CELL_TYPE)].copy()"
   ]
  },
  {
   "cell_type": "code",
   "execution_count": null,
   "id": "4871b48c-e289-4230-848a-31d4723b4f0a",
   "metadata": {
    "tags": []
   },
   "outputs": [],
   "source": [
    "adata.obsm['spatial'] = adata.obsm['spatial'] * 0.325# Convert units to microns"
   ]
  },
  {
   "cell_type": "code",
   "execution_count": null,
   "id": "c5246fe2-54db-44e6-9865-78377b738439",
   "metadata": {
    "tags": []
   },
   "outputs": [],
   "source": [
    "adata.obs['Sample']"
   ]
  },
  {
   "cell_type": "markdown",
   "id": "9d5d4698-dee2-4933-b66b-ef29bf38deb4",
   "metadata": {},
   "source": [
    "## 先单独运行一个样本的MESA，看看scale factor选多少合适"
   ]
  },
  {
   "cell_type": "code",
   "execution_count": null,
   "id": "e81166ae-bd1b-41f5-a6e7-dfe656443e70",
   "metadata": {
    "tags": []
   },
   "outputs": [],
   "source": [
    "adata_all = adata.copy()"
   ]
  },
  {
   "cell_type": "code",
   "execution_count": null,
   "id": "928b9bd9-81d4-4041-a62c-7378b1f31632",
   "metadata": {
    "tags": []
   },
   "outputs": [],
   "source": [
    "adata = adata_all[adata_all.obs['Sample'] == 'WT2'].copy()"
   ]
  },
  {
   "cell_type": "raw",
   "id": "c07f5a75-b8ee-49d4-bf25-82071c8a1701",
   "metadata": {
    "tags": []
   },
   "source": [
    "#WT = ad.read_h5ad('RelnWT_0624_Annotated.h5ad')\n",
    "adata.obsm['spatial'] = adata.obsm['spatial'] * 0.325 # Convert units to microns"
   ]
  },
  {
   "cell_type": "code",
   "execution_count": null,
   "id": "987787ed-1c4b-4a45-9c42-82451a64e17a",
   "metadata": {
    "tags": []
   },
   "outputs": [],
   "source": [
    "adata.obs['sample'] = '1'"
   ]
  },
  {
   "cell_type": "code",
   "execution_count": null,
   "id": "cd0e5703-34b4-4234-af67-324cf6bd65d7",
   "metadata": {
    "scrolled": true,
    "tags": []
   },
   "outputs": [],
   "source": [
    "library_ids = adata.obs['sample'].unique().tolist()\n",
    "\n",
    "# Define the sequence of scales\n",
    "scales = [2., 4., 8., 16., 24., 32., 48., 64., 72.]\n",
    "\n",
    "mdi_results = eco.calculate_MDI(spatial_data=adata,\n",
    "                                scales=scales,\n",
    "                                library_key='sample',\n",
    "                                library_id=library_ids,\n",
    "                                spatial_key='spatial',\n",
    "                                cluster_key='cell_type',\n",
    "                                selecting_scale=True,\n",
    "                                random_patch=False,\n",
    "                                plotfigs=False,\n",
    "                                savefigs=False,\n",
    "                                patch_kwargs={'random_seed': None, 'min_points':2},\n",
    "                                other_kwargs={'metric': 'Shannon Diversity'})"
   ]
  },
  {
   "cell_type": "code",
   "execution_count": null,
   "id": "010d5da5-0936-4a15-8084-645c0361f946",
   "metadata": {
    "tags": []
   },
   "outputs": [],
   "source": [
    "mdi_results"
   ]
  },
  {
   "cell_type": "code",
   "execution_count": null,
   "id": "44cdecfc-aa07-4cef-9c79-a60e5d59d945",
   "metadata": {
    "tags": []
   },
   "outputs": [],
   "source": [
    "# Add 'Condition' and 'Sample_id' to the columns\n",
    "mdi_results['Condition'] = 'WT'\n",
    "mdi_results['Sample_id'] = '1'\n",
    "mdi_results"
   ]
  },
  {
   "cell_type": "code",
   "execution_count": null,
   "id": "c48ca8a4-eac8-4ada-9db7-3b193c27b07b",
   "metadata": {
    "tags": []
   },
   "outputs": [],
   "source": [
    "df_melted = pd.melt(mdi_results, id_vars=['Sample_id', 'Condition'], value_vars=scales,\n",
    "                    var_name='Scale', value_name='Diversity Value')\n",
    "df_melted['sample'] = 'Tissue Sample'\n",
    "df_melted"
   ]
  },
  {
   "cell_type": "code",
   "execution_count": null,
   "id": "a690285e-154b-46eb-9373-e7f664ff33ae",
   "metadata": {
    "tags": []
   },
   "outputs": [],
   "source": [
    "xrange = []\n",
    "yrange = []\n",
    "for region in adata.obs['sample'].unique():\n",
    "    spatial_value = adata[adata.obs['sample']==region].obsm['spatial']\n",
    "    xrange.append(spatial_value.max(axis=0)[0] - spatial_value.min(axis=0)[0])\n",
    "    yrange.append(spatial_value.max(axis=0)[1] - spatial_value.min(axis=0)[1])\n",
    "mean_xrange = np.mean(xrange)\n",
    "std_xrange = np.std(xrange)\n",
    "mean_yrange = np.mean(yrange)\n",
    "std_yrange = np.std(yrange)\n",
    "\n",
    "# Calculate mean and confidence interval\n",
    "grouped = df_melted.groupby('Scale')\n",
    "mean_values = grouped['Diversity Value'].mean()\n",
    "conf_intervals = grouped['Diversity Value'].apply(lambda x: stats.sem(x) * stats.t.ppf((1 + 0.95) / 2., len(x)-1))\n",
    "\n",
    "# Plotting using sns.lineplot\n",
    "plt.figure(figsize=(6, 4))\n",
    "ax = sns.lineplot(data=df_melted,\n",
    "                  x='Scale',\n",
    "                  y='Diversity Value',\n",
    "                  style='sample',\n",
    "                  markers=True,\n",
    "                  estimator='mean',\n",
    "                  err_style='bars',\n",
    "                  errorbar=(\"ci\", 95),\n",
    "                  err_kws={\"capsize\":5.0}\n",
    "                 )\n",
    "\n",
    "# Annotating error bars with their value\n",
    "for i, (scale, mean, ci) in enumerate(zip(mean_values.index, mean_values, conf_intervals)):\n",
    "    ax.text(scale, mean + ci, f'{mean:.3f}±{ci:.3f}', color='black', ha='center', va='bottom')\n",
    "\n",
    "# Drawing red dashed horizontal lines at half the maximum of x and y axes\n",
    "mean_diversity_per_scale = df_melted.groupby('Scale')['Diversity Value'].mean()\n",
    "y_sep = mean_diversity_per_scale.median()\n",
    "x_sep = mean_diversity_per_scale.idxmax()\n",
    "\n",
    "ax.axhline(y_sep, color='red', linestyle='--')\n",
    "ax.axvline(x_sep, color='red', linestyle='--')\n",
    "ax.get_legend().remove()\n",
    "\n",
    "ax.spines['top'].set_visible(False)\n",
    "ax.spines['right'].set_visible(False)\n",
    "plt.xlabel('', fontsize=0)\n",
    "plt.xticks(fontsize=12)\n",
    "plt.ylabel(f\"GDI\", fontsize=16)\n",
    "plt.yticks(fontsize=12)\n",
    "\n",
    "# Add secondary x-axis\n",
    "xtick_labels = [tick.get_text() for tick in ax.get_xticklabels()][2:-1]\n",
    "scales = [int(label) for label in xtick_labels if label.strip() != '']\n",
    "x_sizes = [mean_xrange / scale for scale in scales]\n",
    "y_sizes = [mean_yrange / scale for scale in scales]\n",
    "size_labels = [f\"{int(x_size)}×{int(y_size)}\" for x_size, y_size in zip(x_sizes, y_sizes)]\n",
    "secax = ax.secondary_xaxis(location=-0.075)\n",
    "secax.set_xticks(scales)\n",
    "secax.set_xticklabels(size_labels)\n",
    "secax.tick_params('x', length=0)\n",
    "secax.spines['bottom'].set_linewidth(0)\n",
    "secax.set_xlabel(f'Scale \\n (Area μm²)', fontsize=12)\n",
    "\n",
    "plt.title(f'GDI per Scale with 95% Confidence Intervals')\n",
    "plt.grid(False)\n",
    "fig = plt.gcf()\n",
    "plt.show()"
   ]
  },
  {
   "cell_type": "code",
   "execution_count": null,
   "id": "b316a7d4-d67c-4f90-a719-f07245995ad8",
   "metadata": {},
   "outputs": [],
   "source": []
  },
  {
   "cell_type": "code",
   "execution_count": null,
   "id": "3b3fb4b0-b18f-4706-b0b5-0e4c5d8d1a09",
   "metadata": {
    "tags": []
   },
   "outputs": [],
   "source": [
    "adata = adata_all.copy()"
   ]
  },
  {
   "cell_type": "code",
   "execution_count": null,
   "id": "76937dcc-b089-48fe-8a50-440e92a8b4b5",
   "metadata": {
    "tags": []
   },
   "outputs": [],
   "source": [
    "library_ids = ['KO1', 'KO2', 'WT1', 'WT2']"
   ]
  },
  {
   "cell_type": "code",
   "execution_count": null,
   "id": "31752394-3d9c-482b-a1ba-ca53bc140d26",
   "metadata": {
    "scrolled": true,
    "tags": []
   },
   "outputs": [],
   "source": [
    "# Define the sequence of scales\n",
    "scales = [1., 2., 4., 8., 16., 32., 64.]\n",
    "\n",
    "mdi_results = eco.calculate_MDI(spatial_data=adata,\n",
    "                                scales=scales,\n",
    "                                library_key='Sample',\n",
    "                                library_id=library_ids,\n",
    "                                spatial_key='spatial',\n",
    "                                cluster_key='cell_type',\n",
    "                                random_patch=False,\n",
    "                                plotfigs=False,\n",
    "                                savefigs=False,\n",
    "                                patch_kwargs={'random_seed': None, 'min_points':2},\n",
    "                                other_kwargs={'metric': 'Shannon Diversity'})"
   ]
  },
  {
   "cell_type": "code",
   "execution_count": null,
   "id": "3d6695f6-9afb-4e6c-95f7-3b26ef9cc9a7",
   "metadata": {
    "tags": []
   },
   "outputs": [],
   "source": [
    "# Add 'Condition' and 'Sample_id' to the columns\n",
    "mdi_results['Condition'] = ' '\n",
    "mdi_results['Sample_id'] = mdi_results.index\n",
    "mdi_results.loc[mdi_results.index.str.contains('WT'), 'Condition'] = 'WT'\n",
    "mdi_results.loc[mdi_results.index.str.contains('KO'), 'Condition'] = 'KO'\n",
    "mdi_results.head()"
   ]
  },
  {
   "cell_type": "code",
   "execution_count": null,
   "id": "1a953fdd-0e74-4ce9-a894-b03870c4836f",
   "metadata": {
    "scrolled": true,
    "tags": []
   },
   "outputs": [],
   "source": [
    "df_melted = pd.melt(mdi_results, id_vars=['Sample_id', 'Condition'], value_vars=scales,\n",
    "                    var_name='Scale', value_name='Diversity Value')\n",
    "df_melted['sample'] = 'Tissue Sample'\n",
    "df_melted"
   ]
  },
  {
   "cell_type": "code",
   "execution_count": null,
   "id": "ced6470a-7843-4ffc-8a32-277de3176a37",
   "metadata": {
    "tags": []
   },
   "outputs": [],
   "source": [
    "xrange = []\n",
    "yrange = []\n",
    "for region in adata.obs['Sample'].unique():\n",
    "    spatial_value = adata[adata.obs['Sample']==region].obsm['spatial']\n",
    "    xrange.append(spatial_value.max(axis=0)[0] - spatial_value.min(axis=0)[0])\n",
    "    yrange.append(spatial_value.max(axis=0)[1] - spatial_value.min(axis=0)[1])\n",
    "mean_xrange = np.mean(xrange)\n",
    "std_xrange = np.std(xrange)\n",
    "mean_yrange = np.mean(yrange)\n",
    "std_yrange = np.std(yrange)\n",
    "\n",
    "# Calculate mean and confidence interval\n",
    "grouped = df_melted.groupby('Scale')\n",
    "mean_values = grouped['Diversity Value'].mean()\n",
    "conf_intervals = grouped['Diversity Value'].apply(lambda x: stats.sem(x) * stats.t.ppf((1 + 0.95) / 2., len(x)-1))\n",
    "\n",
    "# Plotting using sns.lineplot\n",
    "plt.figure(figsize=(6, 4))\n",
    "ax = sns.lineplot(data=df_melted,\n",
    "                  x='Scale',\n",
    "                  y='Diversity Value',\n",
    "                  style='sample',\n",
    "                  markers=True,\n",
    "                  estimator='mean',\n",
    "                  err_style='bars',\n",
    "                  errorbar=(\"ci\", 95),\n",
    "                  err_kws={\"capsize\":5.0}\n",
    "                 )\n",
    "\n",
    "# Annotating error bars with their value\n",
    "for i, (scale, mean, ci) in enumerate(zip(mean_values.index, mean_values, conf_intervals)):\n",
    "    ax.text(scale, mean + ci, f'{mean:.3f}±{ci:.3f}', color='black', ha='center', va='bottom')\n",
    "\n",
    "# Drawing red dashed horizontal lines at half the maximum of x and y axes\n",
    "mean_diversity_per_scale = df_melted.groupby('Scale')['Diversity Value'].mean()\n",
    "y_sep = mean_diversity_per_scale.median()\n",
    "x_sep = mean_diversity_per_scale.idxmax()\n",
    "\n",
    "ax.axhline(y_sep, color='red', linestyle='--')\n",
    "ax.axvline(x_sep, color='red', linestyle='--')\n",
    "ax.get_legend().remove()\n",
    "\n",
    "ax.spines['top'].set_visible(False)\n",
    "ax.spines['right'].set_visible(False)\n",
    "plt.xlabel('', fontsize=0)\n",
    "plt.xticks(fontsize=12)\n",
    "plt.ylabel(f\"GDI\", fontsize=16)\n",
    "plt.yticks(fontsize=12)\n",
    "\n",
    "# Add secondary x-axis\n",
    "xtick_labels = [tick.get_text() for tick in ax.get_xticklabels()][2:-1]\n",
    "scales = [int(label) for label in xtick_labels if label.strip() != '']\n",
    "x_sizes = [mean_xrange / scale for scale in scales]\n",
    "y_sizes = [mean_yrange / scale for scale in scales]\n",
    "size_labels = [f\"{int(x_size)}×{int(y_size)}\" for x_size, y_size in zip(x_sizes, y_sizes)]\n",
    "secax = ax.secondary_xaxis(location=-0.075)\n",
    "secax.set_xticks(scales)\n",
    "secax.set_xticklabels(size_labels)\n",
    "secax.tick_params('x', length=0)\n",
    "secax.spines['bottom'].set_linewidth(0)\n",
    "secax.set_xlabel(f'Scale \\n (Area μm²)', fontsize=12)\n",
    "\n",
    "plt.title(f'GDI per Scale with 95% Confidence Intervals')\n",
    "plt.grid(False)\n",
    "fig = plt.gcf()\n",
    "plt.show()"
   ]
  },
  {
   "cell_type": "code",
   "execution_count": null,
   "id": "a94e576e-445c-4214-af84-33260cdedc02",
   "metadata": {
    "scrolled": true,
    "tags": []
   },
   "outputs": [],
   "source": [
    "mdi_results"
   ]
  },
  {
   "cell_type": "code",
   "execution_count": null,
   "id": "c4d454cb-1b26-434f-b69a-45246c0b48f2",
   "metadata": {
    "scrolled": true,
    "tags": []
   },
   "outputs": [],
   "source": [
    "gdi_results = eco.calculate_GDI(spatial_data=adata,\n",
    "                                scale=64,\n",
    "                                library_key='Sample',\n",
    "                                library_id=library_ids,\n",
    "                                spatial_key='spatial',\n",
    "                                cluster_key='cell_type',\n",
    "                                hotspot=True,\n",
    "                                restricted=False,\n",
    "                                metric='Shannon Diversity')\n",
    "gdi_results"
   ]
  },
  {
   "cell_type": "code",
   "execution_count": null,
   "id": "0a51df15-69d5-4a0e-a9e4-e955ce164ea9",
   "metadata": {
    "tags": []
   },
   "outputs": [],
   "source": [
    "gdi_results.to_csv(\"CB_GDI.csv\")"
   ]
  },
  {
   "cell_type": "code",
   "execution_count": null,
   "id": "9ee078c6-4bd2-4918-ab68-2ceddfcf564c",
   "metadata": {
    "scrolled": true,
    "tags": []
   },
   "outputs": [],
   "source": [
    "# Calculate DPI for hotspots\n",
    "dpi_results = eco.calculate_DPI(spatial_data=adata,\n",
    "                                scale=64.0,\n",
    "                                library_key='Sample',\n",
    "                                library_id=library_ids,\n",
    "                                spatial_key='spatial',\n",
    "                                cluster_key='cell_type',\n",
    "                                hotspot=True,\n",
    "                                metric='Shannon Diversity')\n",
    "dpi_results"
   ]
  },
  {
   "cell_type": "code",
   "execution_count": null,
   "id": "ee6d0c54-19b6-456f-a60a-c502f04df234",
   "metadata": {
    "tags": []
   },
   "outputs": [],
   "source": [
    "dpi_results.to_csv('CB_DPI.csv')"
   ]
  },
  {
   "cell_type": "code",
   "execution_count": null,
   "id": "a924dfab-4605-4db4-9110-cf48e8a772b5",
   "metadata": {
    "scrolled": true,
    "tags": []
   },
   "outputs": [],
   "source": [
    "global_cellfreq_df, global_co_occurrence_df = eco.spot_cellfreq(spatial_data=adata,\n",
    "                                                                scale=64.0,\n",
    "                                                                library_key='Sample',\n",
    "                                                                library_id=library_ids,\n",
    "                                                                spatial_key='spatial',\n",
    "                                                                cluster_key='cell_type',\n",
    "                                                                spots='global',\n",
    "                                                                top=None,\n",
    "                                                                selected_comb=None,\n",
    "                                                                restricted=False,\n",
    "                                                                metric='Shannon Diversity')"
   ]
  },
  {
   "cell_type": "code",
   "execution_count": null,
   "id": "8373e2a6-33a8-41db-91f7-ebbf528a8061",
   "metadata": {
    "scrolled": true,
    "tags": []
   },
   "outputs": [],
   "source": [
    "global_cellfreq_df"
   ]
  },
  {
   "cell_type": "code",
   "execution_count": null,
   "id": "1cc25d34-4c55-4e62-9983-669da44a6bc5",
   "metadata": {
    "tags": []
   },
   "outputs": [],
   "source": [
    "global_cellfreq_df['Condition'] = ' '\n",
    "global_cellfreq_df.loc[global_cellfreq_df.index.str.contains('KO'), 'Condition'] = 'KO'\n",
    "global_cellfreq_df.loc[global_cellfreq_df.index.str.contains('WT'), 'Condition'] = 'WT'\n",
    "\n",
    "global_co_occurrence_subcols = global_co_occurrence_df.loc[:,global_co_occurrence_df.mean()>0.05].columns.tolist()\n",
    "global_co_occurrence_df['Condition'] = ' '\n",
    "global_co_occurrence_df['Patch'] = global_co_occurrence_df.index\n",
    "global_co_occurrence_df.loc[global_co_occurrence_df.index.str.contains('KO'), 'Condition'] = 'KO'\n",
    "global_co_occurrence_df.loc[global_co_occurrence_df.index.str.contains('WT'), 'Condition'] = 'WT'\n",
    "global_co_occurrence_subcols.extend([('Condition',''),('Patch','')])"
   ]
  },
  {
   "cell_type": "code",
   "execution_count": null,
   "id": "6db0b446-0af7-4abf-8f75-d59f39b0ab24",
   "metadata": {
    "scrolled": true,
    "tags": []
   },
   "outputs": [],
   "source": [
    "global_cellfreq_df"
   ]
  },
  {
   "cell_type": "code",
   "execution_count": null,
   "id": "d0cb1e7b-85c9-4161-8d77-6da23ae1c41f",
   "metadata": {
    "tags": []
   },
   "outputs": [],
   "source": [
    "# Melt the dataframe for easier plotting and statistical analysis\n",
    "global_cellfreq_df_melt = global_cellfreq_df.reset_index().melt(id_vars=['Sample', 'Condition'])\n",
    "global_cellfreq_df_melt.columns = ['Sample', 'group', 'cell_type', 'Frequency']\n",
    "\n",
    "global_cellfreq_df_melt"
   ]
  },
  {
   "cell_type": "code",
   "execution_count": null,
   "id": "f539e783-fc9e-4752-ae91-12e06e5b409c",
   "metadata": {
    "scrolled": true,
    "tags": []
   },
   "outputs": [],
   "source": [
    "# Perform t-tests\n",
    "selected_cell_types = sorted(adata.obs['cell_type'].unique())\n",
    "selected_p_values = []\n",
    "for ct in selected_cell_types:\n",
    "    group1 = global_cellfreq_df_melt[(global_cellfreq_df_melt['cell_type'] == ct) & (global_cellfreq_df_melt['group'] == 'WT')]['Frequency']\n",
    "    group2 = global_cellfreq_df_melt[(global_cellfreq_df_melt['cell_type'] == ct) & (global_cellfreq_df_melt['group'] == 'KO')]['Frequency']\n",
    "    t_stat, p_value = stats.ttest_ind(group1, group2, equal_var=False)\n",
    "    print(f\"{ct} has p value of {p_value}\")\n",
    "    selected_p_values.append(p_value)\n",
    "\n",
    "pvals_corrected = stats.false_discovery_control(selected_p_values, method='bh')\n",
    "print('-'*42)\n",
    "print(f\"p-values after correction:\")\n",
    "\n",
    "# Plot\n",
    "fig, ax = plt.subplots(figsize=(30,10))\n",
    "sns.boxplot(data=global_cellfreq_df_melt, x='cell_type', y='Frequency', hue='group', palette='muted', boxprops=dict(alpha=.3), ax=ax, dodge=True, order=selected_cell_types)\n",
    "sns.swarmplot(data=global_cellfreq_df_melt, x='cell_type', y='Frequency', hue='group', palette='dark:black', size=2.0, dodge=True, order=selected_cell_types, ax=ax, edgecolor='auto', linewidth=0.5)\n",
    "handles, labels = ax.get_legend_handles_labels()\n",
    "ax.legend(handles[:2], labels[:2], title=\"Groups\", handletextpad=1, columnspacing=1, bbox_to_anchor=(1, 1), ncol=3, frameon=True)\n",
    "plt.xticks(rotation=90)\n",
    "\n",
    "p_vals_corrected_dict = {}\n",
    "yrange = ax.get_ylim()[1] - ax.get_ylim()[0]\n",
    "for i, ct in enumerate(selected_cell_types):\n",
    "    ax.text(i, yrange, f\"p = {pvals_corrected[i]:.3f}\", ha='center', fontsize=12, rotation=0)\n",
    "    print(f\"{ct} has p value = {pvals_corrected[i]:.3f}\", flush=True)\n",
    "    p_vals_corrected_dict[ct] = pvals_corrected[i]\n",
    "\n",
    "for i in range(len(selected_cell_types) - 1):\n",
    "    ax.axvline(i + 0.55, color='grey', linestyle='--', linewidth=0.5)\n",
    "\n",
    "ax.set_ylabel(\"Frequency\", fontsize=14)\n",
    "ax.set_xlabel('')\n",
    "plt.savefig(\"Global_Cell_Frequency_CB.pdf\", dpi = 300)\n",
    "plt.show()"
   ]
  },
  {
   "cell_type": "code",
   "execution_count": null,
   "id": "b02e46b0-3f2b-4d19-9905-2e409b9e38e6",
   "metadata": {
    "scrolled": true,
    "tags": []
   },
   "outputs": [],
   "source": [
    "spot_cellfreq_df, spot_co_occurrence_df = eco.spot_cellfreq(spatial_data=adata,\n",
    "                                                            scale=64.0,\n",
    "                                                            library_key='Sample',\n",
    "                                                            library_id=library_ids,\n",
    "                                                            spatial_key='spatial',\n",
    "                                                            cluster_key='cell_type',\n",
    "                                                            spots='hot',\n",
    "                                                            top=None,\n",
    "                                                            selected_comb=None,\n",
    "                                                            restricted=False,\n",
    "                                                            metric='Shannon Diversity')"
   ]
  },
  {
   "cell_type": "code",
   "execution_count": null,
   "id": "b3ce45e9-d954-4d3b-837c-36e631f0e056",
   "metadata": {
    "tags": []
   },
   "outputs": [],
   "source": [
    "spot_cellfreq_df['Condition'] = ' '\n",
    "spot_cellfreq_df.loc[spot_cellfreq_df.index.str.contains('KO'), 'Condition'] = 'KO'\n",
    "spot_cellfreq_df.loc[spot_cellfreq_df.index.str.contains('WT'), 'Condition'] = 'WT'\n",
    "\n",
    "spot_co_occurrence_subcols = spot_co_occurrence_df.loc[:,spot_co_occurrence_df.mean()>0.05].columns.tolist()\n",
    "spot_co_occurrence_df['Condition'] = ' '\n",
    "spot_co_occurrence_df['Patch'] = spot_co_occurrence_df.index\n",
    "spot_co_occurrence_df.loc[spot_co_occurrence_df.index.str.contains('KO'), 'Condition'] = 'KO'\n",
    "spot_co_occurrence_df.loc[spot_co_occurrence_df.index.str.contains('WT'), 'Condition'] = 'WT'\n",
    "spot_co_occurrence_subcols.extend([('Condition',''),('Patch','')])"
   ]
  },
  {
   "cell_type": "code",
   "execution_count": null,
   "id": "e0e19f5c-74be-4423-be9d-e9c40c2e7668",
   "metadata": {
    "tags": []
   },
   "outputs": [],
   "source": [
    "spot_cellfreq_df['Patch'] = spot_cellfreq_df.index\n",
    "\n",
    "# Melt the DataFrame\n",
    "spot_cellfreq_df_melt = spot_cellfreq_df.melt(id_vars=['Patch', 'Condition'], var_name='CellType', value_name='Frequency')"
   ]
  },
  {
   "cell_type": "code",
   "execution_count": null,
   "id": "449c9d49-4a9f-47f1-b7dd-8c5305973c19",
   "metadata": {
    "scrolled": true,
    "tags": []
   },
   "outputs": [],
   "source": [
    "spot_cellfreq_df_melt"
   ]
  },
  {
   "cell_type": "code",
   "execution_count": null,
   "id": "71f99d03-039f-431e-8aa6-4a97c7546b69",
   "metadata": {
    "scrolled": true,
    "tags": []
   },
   "outputs": [],
   "source": [
    "selected_cell_types = sorted(spot_cellfreq_df_melt['CellType'].unique())\n",
    "selected_p_values = []\n",
    "\n",
    "# Perform t-tests\n",
    "print(f\"p-value before correction:\")\n",
    "for ct in selected_cell_types: # df_melted['CellType'].unique():\n",
    "    subset = spot_cellfreq_df_melt[spot_cellfreq_df_melt['CellType'] == ct]\n",
    "    group1 = subset[subset['Condition'] == 'WT']['Frequency']\n",
    "    group2 = subset[subset['Condition'] == 'KO']['Frequency']\n",
    "\n",
    "    t_stat, p_value = stats.ttest_ind(group1, group2, equal_var=False)\n",
    "    print(f\"{ct} has p value = {p_value:.4f}\")\n",
    "    selected_p_values.append(p_value)\n",
    "\n",
    "# Filter the dataframe based on selected CellTypes\n",
    "df_filtered = spot_cellfreq_df_melt[spot_cellfreq_df_melt['CellType'].isin(selected_cell_types)]\n",
    "\n",
    "# Plot the filtered data\n",
    "fig, ax = plt.subplots(figsize=(30,10))\n",
    "sns.boxplot(data=df_filtered, x='CellType', y='Frequency', hue='Condition', palette='muted', boxprops=dict(alpha=.3), ax=ax, dodge=True,order=selected_cell_types)\n",
    "sns.swarmplot(data=df_filtered, x='CellType', y='Frequency', hue='Condition', palette='dark:black', size=3.0, dodge=True, order=selected_cell_types, ax=ax, edgecolor='auto', linewidth=0.5)\n",
    "\n",
    "handles, labels = ax.get_legend_handles_labels()\n",
    "ax.legend(handles[:2], labels[:2], title=\"Groups\", handletextpad=1, columnspacing=1, bbox_to_anchor=(1, 1), ncol=3, frameon=True)\n",
    "\n",
    "spot_pvals_corrected = stats.false_discovery_control(selected_p_values, method='bh')\n",
    "spot_pvals_corrected = dict(map(lambda i,j : (i,j) , selected_cell_types, spot_pvals_corrected))\n",
    "\n",
    "print('-'*42)\n",
    "print(f\"p-values after correction: \")\n",
    "\n",
    "yrange = ax.get_ylim()[1] - ax.get_ylim()[0]\n",
    "for i, ct in enumerate(selected_cell_types):\n",
    "    ax.text(i, yrange, f\"p = {spot_pvals_corrected[ct]:.3f}\", ha='center', fontsize=12, rotation=90)\n",
    "    print(f\"{ct} in hot spots has p value = {spot_pvals_corrected[ct]:.3f}\", flush=True)\n",
    "    if spot_pvals_corrected[ct] < 0.05 and p_vals_corrected_dict[ct] > 0.05:\n",
    "        print(f\"{ct} in whole tissue has p value = {p_vals_corrected_dict[ct]:.3f}\", flush=True)\n",
    "        print('*'*42)\n",
    "\n",
    "for i in range(len(selected_cell_types) - 1):\n",
    "    ax.axvline(i + 0.55, color='grey', linestyle='--', linewidth=0.5)\n",
    "\n",
    "ax.set_ylabel(\"Frequency\", fontsize=14)\n",
    "ax.set_xlabel('')\n",
    "plt.xticks(rotation=90)\n",
    "plt.yticks(rotation=90)\n",
    "plt.savefig(\"HotColdSpot_Cell_Frequency_CB.pdf\", dpi = 300)\n",
    "plt.show()\n",
    "plt.close(fig)"
   ]
  },
  {
   "cell_type": "code",
   "execution_count": null,
   "id": "fc903be4-c6c8-48ed-a2cf-52bae0c661f8",
   "metadata": {
    "tags": []
   },
   "outputs": [],
   "source": [
    "union_cols = set(global_co_occurrence_subcols).union(set(spot_co_occurrence_subcols))"
   ]
  },
  {
   "cell_type": "code",
   "execution_count": null,
   "id": "56759113-02f1-463a-b214-c04083bc7d35",
   "metadata": {
    "tags": []
   },
   "outputs": [],
   "source": [
    "# Make them have the same set of columns\n",
    "global_co_occurrence_df = global_co_occurrence_df.reindex(columns=union_cols).fillna(0)\n",
    "spot_co_occurrence_df = spot_co_occurrence_df.reindex(columns=union_cols).fillna(0)"
   ]
  },
  {
   "cell_type": "code",
   "execution_count": null,
   "id": "d05903a0-9867-4649-9dc6-f59a053015fa",
   "metadata": {
    "tags": []
   },
   "outputs": [],
   "source": [
    "# Global Cell Co-Occurrence\n",
    "# Multi-index to single-index column\n",
    "new_columns = []\n",
    "for col in global_co_occurrence_df.columns:\n",
    "    if isinstance(col, tuple):  # This checks if the column is a MultiIndex\n",
    "        # Join only if the column name is not 'Mouse' or 'Condition'\n",
    "        if \"Patch\" not in col and \"Condition\" not in col:\n",
    "            new_columns.append('&'.join(map(str, col)).strip())\n",
    "        else:\n",
    "            # If 'Mouse' or 'Condition' is in the column, it is not joined with '&'\n",
    "            new_columns.append(col[0])\n",
    "    else:\n",
    "        new_columns.append(col)\n",
    "\n",
    "global_co_occurrence_df_single = global_co_occurrence_df.copy()\n",
    "global_co_occurrence_df_single.columns = new_columns\n",
    "global_co_occurrence_df_single = global_co_occurrence_df_single[[col for col in global_co_occurrence_df_single.columns if 'noid' not in col]]\n",
    "\n",
    "# Melt the DataFrame\n",
    "global_co_occurrence_melted = global_co_occurrence_df_single.melt(id_vars=['Patch', 'Condition'], var_name='Cell Combination', value_name='Frequency')\n",
    "global_co_occurrence_melted"
   ]
  },
  {
   "cell_type": "code",
   "execution_count": null,
   "id": "900a3d2f-40ea-4570-9207-0abe8ee5a82e",
   "metadata": {
    "scrolled": true,
    "tags": []
   },
   "outputs": [],
   "source": [
    "# Global Cell Co-Occurrence\n",
    "selected_cell_types = sorted(global_co_occurrence_melted['Cell Combination'].unique())\n",
    "selected_p_values = []\n",
    "\n",
    "# Perform t-tests\n",
    "print(f\"p-value before correction:\")\n",
    "for ct in selected_cell_types:\n",
    "    subset = global_co_occurrence_melted[global_co_occurrence_melted['Cell Combination'] == ct]\n",
    "    group1 = subset[subset['Condition'] == 'WT']['Frequency']\n",
    "    group2 = subset[subset['Condition'] == 'KO']['Frequency']\n",
    "\n",
    "    t_stat, p_value = stats.ttest_ind(group1, group2, equal_var=False)\n",
    "    print(f\"{ct} has p value = {p_value:.3f}\")\n",
    "    selected_p_values.append(p_value)\n",
    "\n",
    "# Filter the dataframe based on selected Cell Combinations\n",
    "df_filtered = global_co_occurrence_melted[global_co_occurrence_melted['Cell Combination'].isin(selected_cell_types)]\n",
    "\n",
    "# Plot the filtered data\n",
    "fig, ax = plt.subplots(figsize=(45,10))\n",
    "sns.boxplot(data=df_filtered, x='Cell Combination', y='Frequency', hue='Condition', palette='muted', boxprops=dict(alpha=.3), ax=ax, dodge=True,order=selected_cell_types)\n",
    "sns.swarmplot(data=df_filtered, x='Cell Combination', y='Frequency', hue='Condition', palette='dark:black', size=1.0, dodge=True,order=selected_cell_types, ax=ax, edgecolor='gray', linewidth=0.5)\n",
    "\n",
    "handles, labels = ax.get_legend_handles_labels()\n",
    "ax.legend(handles[:2], labels[:2], title=\"Groups\", handletextpad=1, columnspacing=1, bbox_to_anchor=(1, 1), ncol=3, frameon=True)\n",
    "\n",
    "pvals_corrected = stats.false_discovery_control(selected_p_values, method='bh')\n",
    "\n",
    "print('-'*42)\n",
    "print(f\"p-values after correction:\")\n",
    "\n",
    "p_vals_corrected_dict = {}\n",
    "yrange = ax.get_ylim()[1] - ax.get_ylim()[0]\n",
    "for i, ct in enumerate(selected_cell_types):\n",
    "    ax.text(i, yrange, f\"p = {pvals_corrected[i]:.3f}\", ha='center', fontsize=8, rotation=0)\n",
    "    print(f\"{ct} has p value = {pvals_corrected[i]:.3f}\", flush=True)\n",
    "    p_vals_corrected_dict[ct] = pvals_corrected[i]\n",
    "\n",
    "for i in range(len(selected_cell_types) - 1):\n",
    "    ax.axvline(i + 0.55, color='grey', linestyle='--', linewidth=0.5)\n",
    "\n",
    "ax.set_ylabel(\"Frequency\", fontsize=14)\n",
    "ax.set_xlabel('')\n",
    "plt.xticks(rotation=90)\n",
    "plt.savefig(\"Global_Cell_co_occurance_CB.pdf\", dpi = 300)\n",
    "plt.show()"
   ]
  },
  {
   "cell_type": "code",
   "execution_count": null,
   "id": "c95c2dff-37fb-4010-831b-044426d91fac",
   "metadata": {
    "tags": []
   },
   "outputs": [],
   "source": [
    "# Spot Cell Co-Occurrence\n",
    "# Multi-index to single-index column\n",
    "new_columns = []\n",
    "for col in spot_co_occurrence_df.columns:\n",
    "    if isinstance(col, tuple):  # This checks if the column is a MultiIndex\n",
    "        # Join only if the column name is not 'Mouse' or 'Condition'\n",
    "        if \"Patch\" not in col and \"Condition\" not in col:\n",
    "            new_columns.append('&'.join(map(str, col)).strip())\n",
    "        else:\n",
    "            # If 'Mouse' or 'Condition' is in the column, it is not joined with '&'\n",
    "            new_columns.append(col[0])\n",
    "    else:\n",
    "        new_columns.append(col)\n",
    "\n",
    "spot_co_occurrence_df_single = spot_co_occurrence_df.copy()\n",
    "spot_co_occurrence_df_single.columns = new_columns\n",
    "spot_co_occurrence_df_single = spot_co_occurrence_df_single[[col for col in spot_co_occurrence_df_single.columns if 'noid' not in col]]\n",
    "\n",
    "# Melt the DataFrame\n",
    "spot_co_occurrence_melted = spot_co_occurrence_df_single.melt(id_vars=['Patch', 'Condition'], var_name='Cell Combination', value_name='Frequency')\n",
    "spot_co_occurrence_melted"
   ]
  },
  {
   "cell_type": "code",
   "execution_count": null,
   "id": "269656df-1a22-4ac1-83cb-cd352adb5d2a",
   "metadata": {
    "scrolled": true,
    "tags": []
   },
   "outputs": [],
   "source": [
    "# Spot Cell Co-Occurrence\n",
    "selected_cell_types = sorted(spot_co_occurrence_melted['Cell Combination'].unique())\n",
    "selected_p_values = []\n",
    "\n",
    "# Perform t-tests\n",
    "print(f\"p-value before correction: \")\n",
    "for ct in selected_cell_types: # df_melted['CellType'].unique():\n",
    "    subset = spot_co_occurrence_melted[spot_co_occurrence_melted['Cell Combination'] == ct]\n",
    "    group1 = subset[subset['Condition'] == 'WT']['Frequency']\n",
    "    group2 = subset[subset['Condition'] == 'KO']['Frequency']\n",
    "\n",
    "    t_stat, p_value = stats.ttest_ind(group1, group2, equal_var=False)\n",
    "    print(f\"{ct} has p value = {p_value:.3f}\")\n",
    "    selected_p_values.append(p_value)\n",
    "\n",
    "# Filter the dataframe based on selected CellTypes\n",
    "df_filtered = spot_co_occurrence_melted[spot_co_occurrence_melted['Cell Combination'].isin(selected_cell_types)]\n",
    "\n",
    "# Plot the filtered data\n",
    "fig, ax = plt.subplots(figsize=(42,10))\n",
    "sns.boxplot(data=df_filtered, x='Cell Combination', y='Frequency', hue='Condition', palette='muted', boxprops=dict(alpha=.3), ax=ax, dodge=True,order=selected_cell_types)\n",
    "sns.swarmplot(data=df_filtered, x='Cell Combination', y='Frequency', hue='Condition', palette='dark:black', size=2.0, dodge=True,order=selected_cell_types, ax=ax, edgecolor='gray', linewidth=0.5)\n",
    "\n",
    "handles, labels = ax.get_legend_handles_labels()\n",
    "ax.legend(handles[:2], labels[:2], title=\"Groups\", handletextpad=1, columnspacing=1, bbox_to_anchor=(1, 1), ncol=3, frameon=True)\n",
    "\n",
    "hot_pvals_corrected = stats.false_discovery_control(selected_p_values, method='bh')\n",
    "\n",
    "print('-'*42)\n",
    "print(f\"p-values after correction:\")\n",
    "\n",
    "highlighted_comb = []\n",
    "yrange = ax.get_ylim()[1] - ax.get_ylim()[0]\n",
    "for i, ct in enumerate(selected_cell_types):\n",
    "    ax.text(i, yrange, f\"p = {pvals_corrected[i]:.3f}\", ha='center', fontsize=8, rotation=0)\n",
    "    print(f\"{ct} in hot spots has p value = {hot_pvals_corrected[i]:.3f}\", flush=True)\n",
    "    if hot_pvals_corrected[i] < 0.05 and p_vals_corrected_dict[ct] >= 0.05:\n",
    "        highlighted_comb.append(tuple(map(str.strip, ct.split('&'))))\n",
    "        print(f\"{ct} in whole tissue has p value = {p_vals_corrected_dict[ct]:.3f}\", flush=True)\n",
    "        print('*'*42)\n",
    "\n",
    "for i in range(len(selected_cell_types) - 1):\n",
    "    ax.axvline(i + 0.55, color='grey', linestyle='--', linewidth=0.5)\n",
    "\n",
    "ax.set_ylabel(\"Frequency\", fontsize=14)\n",
    "ax.set_xlabel('')\n",
    "plt.xticks(rotation=90)\n",
    "plt.yticks(rotation=90)\n",
    "plt.savefig(\"Spot_Cell_co_occurance_CB.pdf\", dpi = 300)\n",
    "plt.show()"
   ]
  },
  {
   "cell_type": "code",
   "execution_count": null,
   "id": "0b4e8e24-4f80-4a8b-bf07-359f0b05774c",
   "metadata": {
    "tags": []
   },
   "outputs": [],
   "source": [
    "circoplot_df1 = global_co_occurrence_df.sort_index(axis=1, level=[0,1]).drop(columns=['Patch'])\n",
    "circoplot_df1 = circoplot_df1[[col for col in circoplot_df1.columns if 'noid' not in col]]\n",
    "# Group by 'Condition' and calculate the mean of the other columns\n",
    "circoplot_df1 = circoplot_df1.groupby('Condition').mean().reset_index()\n",
    "circoplot_df1 = circoplot_df1.set_index('Condition')\n",
    "circoplot_df1"
   ]
  },
  {
   "cell_type": "code",
   "execution_count": null,
   "id": "785a8f98-3cb2-44d8-bdcb-58446e00534a",
   "metadata": {
    "scrolled": true,
    "tags": []
   },
   "outputs": [],
   "source": [
    "global_cellfreq_df"
   ]
  },
  {
   "cell_type": "code",
   "execution_count": null,
   "id": "40599e3f-1e92-435c-a54b-f472ab0bc14c",
   "metadata": {
    "tags": []
   },
   "outputs": [],
   "source": [
    "# circoplot_df2 = global_cellfreq_df.drop(columns=['noid'])\n",
    "circoplot_df2 = global_cellfreq_df.copy()\n",
    "# Group by 'Condition' and calculate the mean of the other columns\n",
    "circoplot_df2 = circoplot_df2.groupby('Condition').mean().reset_index()\n",
    "circoplot_df2 = circoplot_df2.set_index('Condition')\n",
    "circoplot_df2"
   ]
  },
  {
   "cell_type": "code",
   "execution_count": null,
   "id": "8fc025e7-0675-43f5-9bde-f9b1f3e31037",
   "metadata": {
    "scrolled": true,
    "tags": []
   },
   "outputs": [],
   "source": [
    "patient_group = 'WT'\n",
    "eco.create_circos_plot(circoplot_df1.loc[[patient_group]],\n",
    "                       cell_type_colors_hex=None,\n",
    "                       cell_abundance=circoplot_df2.loc[[patient_group]],\n",
    "                       threshold=0.05,\n",
    "                       edge_weights_scaler=10,\n",
    "                       highlighted_edges=None,\n",
    "                       node_weights_scaler=5000,\n",
    "                       figure_size=(8,8),\n",
    "                       save_path='WT_CB_circoplot.pdf')"
   ]
  },
  {
   "cell_type": "code",
   "execution_count": null,
   "id": "15db83b0-e6ef-4d5f-a3e0-f43f0ec9561b",
   "metadata": {
    "tags": []
   },
   "outputs": [],
   "source": [
    "circoplot_df1 = spot_co_occurrence_df.sort_index(axis=1, level=[0,1]).drop(columns=['Patch'])\n",
    "circoplot_df1 = circoplot_df1[[col for col in circoplot_df1.columns if 'noid' not in col]]\n",
    "# Group by 'Condition' and calculate the mean of the other columns\n",
    "circoplot_df1 = circoplot_df1.groupby('Condition').mean().reset_index()\n",
    "circoplot_df1 = circoplot_df1.set_index('Condition')\n",
    "circoplot_df1"
   ]
  },
  {
   "cell_type": "code",
   "execution_count": null,
   "id": "3a804bc2-1626-48f4-8310-1c1fb199d9c1",
   "metadata": {
    "tags": []
   },
   "outputs": [],
   "source": [
    "circoplot_df2 = spot_cellfreq_df.drop(columns=['Patch'])\n",
    "# Group by 'Condition' and calculate the mean of the other columns\n",
    "circoplot_df2 = circoplot_df2.groupby('Condition').mean().reset_index()\n",
    "circoplot_df2 = circoplot_df2.set_index('Condition')\n",
    "circoplot_df2"
   ]
  },
  {
   "cell_type": "code",
   "execution_count": null,
   "id": "a4ecc487-aa04-4bf2-b0c0-e96ba3f588e0",
   "metadata": {
    "scrolled": true,
    "tags": []
   },
   "outputs": [],
   "source": [
    "patient_group = 'KO'\n",
    "eco.create_circos_plot(circoplot_df1.loc[[patient_group]],\n",
    "                       cell_type_colors_hex=None,\n",
    "                       cell_abundance=circoplot_df2.loc[[patient_group]],\n",
    "                       threshold=0.05,\n",
    "                       edge_weights_scaler=10,\n",
    "                       highlighted_edges=highlighted_comb,\n",
    "                       node_weights_scaler=5000,\n",
    "                       figure_size=(8,8),\n",
    "                       save_path='KO_CB_circoplot.pdf')"
   ]
  },
  {
   "cell_type": "code",
   "execution_count": null,
   "id": "94ca47cf-cc74-4527-8c53-4e48bbcff664",
   "metadata": {
    "tags": []
   },
   "outputs": [],
   "source": [
    "import scanpy as sc\n",
    "import numpy as np\n",
    "import pandas as pd\n",
    "import anndata as ad\n",
    "import seaborn as sns\n",
    "from scipy import stats\n",
    "import matplotlib.pyplot as plt\n",
    "\n",
    "from mesa import ecospatial as eco"
   ]
  },
  {
   "cell_type": "code",
   "execution_count": null,
   "id": "f2e46eae-30a2-4e45-a6ab-2df1d77aa308",
   "metadata": {
    "tags": []
   },
   "outputs": [],
   "source": [
    "adata = sc.read_h5ad('RelnAll_Annotated.h5ad')\n",
    "adata"
   ]
  },
  {
   "cell_type": "code",
   "execution_count": null,
   "id": "4b91306a-0efd-468d-9978-d6e79e01a772",
   "metadata": {
    "tags": []
   },
   "outputs": [],
   "source": [
    "from shapely import Polygon\n",
    "import numpy as np"
   ]
  },
  {
   "cell_type": "code",
   "execution_count": null,
   "id": "b66c1bae-a016-49b5-b131-ad53e551ad9e",
   "metadata": {
    "tags": []
   },
   "outputs": [],
   "source": [
    "df = pd.read_csv(\"/media/duan/DuanLab_Data/openFISH/Reln/Reeler_reAnnotation_ROIs/KO1/CTX.csv\", skiprows=2)\n",
    "polygon1 = Polygon((df[df['Selection'] == 'Selection 1'][['X', 'Y']] / 0.325).to_numpy())\n",
    "\n",
    "df = pd.read_csv(\"/media/duan/DuanLab_Data/openFISH/Reln/Reeler_reAnnotation_ROIs/KO2/CTX.csv\", skiprows=2)\n",
    "polygon2 = Polygon((df[df['Selection'] == 'Selection 1'][['X', 'Y']] / 0.325).to_numpy())\n",
    "\n",
    "df = pd.read_csv(\"/media/duan/DuanLab_Data/openFISH/Reln/Reeler_reAnnotation_ROIs/WT1/CTX.csv\", skiprows=2)\n",
    "polygon3 = Polygon((df[df['Selection'] == 'Selection 1'][['X', 'Y']] / 0.325).to_numpy())\n",
    "\n",
    "df = pd.read_csv(\"/media/duan/DuanLab_Data/openFISH/Reln/Reeler_reAnnotation_ROIs/WT2/CTX.csv\", skiprows=2)\n",
    "polygon4 = Polygon((df[df['Selection'] == 'Selection 1'][['X', 'Y']] / 0.325).to_numpy())"
   ]
  },
  {
   "cell_type": "code",
   "execution_count": null,
   "id": "ea76b335-d574-448e-9b2f-699aef5b2471",
   "metadata": {
    "tags": []
   },
   "outputs": [],
   "source": [
    "CTX = [False] * len(adata)"
   ]
  },
  {
   "cell_type": "code",
   "execution_count": null,
   "id": "274cd1d9-cd5f-4ffc-a613-a7e711f00cd7",
   "metadata": {
    "tags": []
   },
   "outputs": [],
   "source": [
    "from shapely import Polygon,Point"
   ]
  },
  {
   "cell_type": "code",
   "execution_count": null,
   "id": "1140ee54-d180-44a1-bda6-0a3db6a46691",
   "metadata": {
    "tags": []
   },
   "outputs": [],
   "source": [
    "i = 0\n",
    "for _, row in adata.obs.iterrows():\n",
    "    \n",
    "    if row['Sample'] == 'KO1':\n",
    "        if polygon1.contains(Point([row['x'],row['y']])):\n",
    "            CTX[i] = True\n",
    "            \n",
    "    elif row['Sample'] == 'KO2':\n",
    "        if polygon2.contains(Point([row['x'],row['y']])):\n",
    "            CTX[i] = True\n",
    "            \n",
    "    elif row['Sample'] == 'WT1':\n",
    "        if polygon3.contains(Point([row['x'],row['y']])):\n",
    "            CTX[i] = True\n",
    "            \n",
    "    elif row['Sample'] == 'WT2':\n",
    "        if polygon4.contains(Point([row['x'],row['y']])):\n",
    "            CTX[i] = True\n",
    "    \n",
    "    i+=1"
   ]
  },
  {
   "cell_type": "code",
   "execution_count": null,
   "id": "ce4089fa-b54c-4af2-a2db-8204693c8146",
   "metadata": {
    "tags": []
   },
   "outputs": [],
   "source": [
    "adata.obs['CTX'] = CTX"
   ]
  },
  {
   "cell_type": "code",
   "execution_count": null,
   "id": "ee12c82d-29d6-4ce4-90fb-29e7881c614f",
   "metadata": {},
   "outputs": [],
   "source": []
  },
  {
   "cell_type": "code",
   "execution_count": null,
   "id": "f1aa5f9f-658e-4cfb-ac3e-7e5b131ae35a",
   "metadata": {
    "tags": []
   },
   "outputs": [],
   "source": [
    "adata = adata[adata.obs['CTX'] == True].copy()"
   ]
  },
  {
   "cell_type": "code",
   "execution_count": null,
   "id": "d7bb08e9-1054-4e68-a7eb-3213c8403b45",
   "metadata": {
    "tags": []
   },
   "outputs": [],
   "source": [
    "sc.pl.embedding(adata, basis = 'spatial', color = 'cell_type', size = 5)"
   ]
  },
  {
   "cell_type": "code",
   "execution_count": null,
   "id": "5c37f895-79fc-41d2-920c-853bd2c3d2ae",
   "metadata": {
    "tags": []
   },
   "outputs": [],
   "source": [
    "KEEP_CELL_TYPE = ['Astro-TE', 'Endo', 'Ext L2/3', 'Ext L2/3 PIR-ENTl', 'Ext L4/5', 'Ext L6', 'Fibro', 'Inh Lamp5', 'Inh Sst', 'Inh Vip', 'Microglia',\n",
    "                 'Mural', 'Oligo', 'OPC']"
   ]
  },
  {
   "cell_type": "raw",
   "id": "b46829da-6ebe-412e-9fe5-633893373308",
   "metadata": {
    "tags": []
   },
   "source": [
    "adata = adata[adata.obs['cell_type'].isin(KEEP_CELL_TYPE)].copy()"
   ]
  },
  {
   "cell_type": "code",
   "execution_count": null,
   "id": "7105dc82-f070-4080-8bc7-a128e48557a7",
   "metadata": {
    "tags": []
   },
   "outputs": [],
   "source": [
    "adata.obsm['spatial'] = adata.obsm['spatial'] * 0.325# Convert units to microns"
   ]
  },
  {
   "cell_type": "code",
   "execution_count": null,
   "id": "8db2500b-1283-46fc-b754-224368f3b26c",
   "metadata": {
    "tags": []
   },
   "outputs": [],
   "source": [
    "adata.obs['Sample']"
   ]
  },
  {
   "cell_type": "code",
   "execution_count": null,
   "id": "4d003bdf-140c-45b3-97db-3fb4f85715a4",
   "metadata": {},
   "outputs": [],
   "source": []
  },
  {
   "cell_type": "code",
   "execution_count": null,
   "id": "88d03cd4-f60c-411d-b479-e9b82fe5bf13",
   "metadata": {
    "tags": []
   },
   "outputs": [],
   "source": [
    "library_ids = ['KO1', 'KO2', 'WT1', 'WT2']"
   ]
  },
  {
   "cell_type": "code",
   "execution_count": null,
   "id": "8d9d3eef-5d6e-4638-ba21-9fec89d1845a",
   "metadata": {
    "scrolled": true,
    "tags": []
   },
   "outputs": [],
   "source": [
    "# Define the sequence of scales\n",
    "scales = [1., 2., 4., 8., 16., 32., 64.]\n",
    "\n",
    "mdi_results = eco.calculate_MDI(spatial_data=adata,\n",
    "                                scales=scales,\n",
    "                                library_key='Sample',\n",
    "                                library_id=library_ids,\n",
    "                                spatial_key='spatial',\n",
    "                                cluster_key='cell_type',\n",
    "                                random_patch=False,\n",
    "                                plotfigs=False,\n",
    "                                savefigs=False,\n",
    "                                patch_kwargs={'random_seed': None, 'min_points':2},\n",
    "                                other_kwargs={'metric': 'Shannon Diversity'})"
   ]
  },
  {
   "cell_type": "code",
   "execution_count": null,
   "id": "4566891d-2f43-4688-9111-3d5122134aac",
   "metadata": {
    "tags": []
   },
   "outputs": [],
   "source": [
    "# Add 'Condition' and 'Sample_id' to the columns\n",
    "mdi_results['Condition'] = ' '\n",
    "mdi_results['Sample_id'] = mdi_results.index\n",
    "mdi_results.loc[mdi_results.index.str.contains('WT'), 'Condition'] = 'WT'\n",
    "mdi_results.loc[mdi_results.index.str.contains('KO'), 'Condition'] = 'KO'\n",
    "mdi_results.head()"
   ]
  },
  {
   "cell_type": "code",
   "execution_count": null,
   "id": "fd158d37-80de-41ef-b776-6f1674fbd5e3",
   "metadata": {
    "scrolled": true,
    "tags": []
   },
   "outputs": [],
   "source": [
    "df_melted = pd.melt(mdi_results, id_vars=['Sample_id', 'Condition'], value_vars=scales,\n",
    "                    var_name='Scale', value_name='Diversity Value')\n",
    "df_melted['sample'] = 'Tissue Sample'\n",
    "df_melted"
   ]
  },
  {
   "cell_type": "code",
   "execution_count": null,
   "id": "40e2db98-2805-44f8-96e0-8152ee3b79a5",
   "metadata": {
    "tags": []
   },
   "outputs": [],
   "source": [
    "xrange = []\n",
    "yrange = []\n",
    "for region in adata.obs['Sample'].unique():\n",
    "    spatial_value = adata[adata.obs['Sample']==region].obsm['spatial']\n",
    "    xrange.append(spatial_value.max(axis=0)[0] - spatial_value.min(axis=0)[0])\n",
    "    yrange.append(spatial_value.max(axis=0)[1] - spatial_value.min(axis=0)[1])\n",
    "mean_xrange = np.mean(xrange)\n",
    "std_xrange = np.std(xrange)\n",
    "mean_yrange = np.mean(yrange)\n",
    "std_yrange = np.std(yrange)\n",
    "\n",
    "# Calculate mean and confidence interval\n",
    "grouped = df_melted.groupby('Scale')\n",
    "mean_values = grouped['Diversity Value'].mean()\n",
    "conf_intervals = grouped['Diversity Value'].apply(lambda x: stats.sem(x) * stats.t.ppf((1 + 0.95) / 2., len(x)-1))\n",
    "\n",
    "# Plotting using sns.lineplot\n",
    "plt.figure(figsize=(6, 4))\n",
    "ax = sns.lineplot(data=df_melted,\n",
    "                  x='Scale',\n",
    "                  y='Diversity Value',\n",
    "                  style='sample',\n",
    "                  markers=True,\n",
    "                  estimator='mean',\n",
    "                  err_style='bars',\n",
    "                  errorbar=(\"ci\", 95),\n",
    "                  err_kws={\"capsize\":5.0}\n",
    "                 )\n",
    "\n",
    "# Annotating error bars with their value\n",
    "for i, (scale, mean, ci) in enumerate(zip(mean_values.index, mean_values, conf_intervals)):\n",
    "    ax.text(scale, mean + ci, f'{mean:.3f}±{ci:.3f}', color='black', ha='center', va='bottom')\n",
    "\n",
    "# Drawing red dashed horizontal lines at half the maximum of x and y axes\n",
    "mean_diversity_per_scale = df_melted.groupby('Scale')['Diversity Value'].mean()\n",
    "y_sep = mean_diversity_per_scale.median()\n",
    "x_sep = mean_diversity_per_scale.idxmax()\n",
    "\n",
    "ax.axhline(y_sep, color='red', linestyle='--')\n",
    "ax.axvline(x_sep, color='red', linestyle='--')\n",
    "ax.get_legend().remove()\n",
    "\n",
    "ax.spines['top'].set_visible(False)\n",
    "ax.spines['right'].set_visible(False)\n",
    "plt.xlabel('', fontsize=0)\n",
    "plt.xticks(fontsize=12)\n",
    "plt.ylabel(f\"GDI\", fontsize=16)\n",
    "plt.yticks(fontsize=12)\n",
    "\n",
    "# Add secondary x-axis\n",
    "xtick_labels = [tick.get_text() for tick in ax.get_xticklabels()][2:-1]\n",
    "scales = [int(label) for label in xtick_labels if label.strip() != '']\n",
    "x_sizes = [mean_xrange / scale for scale in scales]\n",
    "y_sizes = [mean_yrange / scale for scale in scales]\n",
    "size_labels = [f\"{int(x_size)}×{int(y_size)}\" for x_size, y_size in zip(x_sizes, y_sizes)]\n",
    "secax = ax.secondary_xaxis(location=-0.075)\n",
    "secax.set_xticks(scales)\n",
    "secax.set_xticklabels(size_labels)\n",
    "secax.tick_params('x', length=0)\n",
    "secax.spines['bottom'].set_linewidth(0)\n",
    "secax.set_xlabel(f'Scale \\n (Area μm²)', fontsize=12)\n",
    "\n",
    "plt.title(f'GDI per Scale with 95% Confidence Intervals')\n",
    "plt.grid(False)\n",
    "fig = plt.gcf()\n",
    "plt.show()"
   ]
  },
  {
   "cell_type": "code",
   "execution_count": null,
   "id": "b830a613-e24a-4489-9bda-41c594916a90",
   "metadata": {
    "scrolled": true,
    "tags": []
   },
   "outputs": [],
   "source": [
    "mdi_results"
   ]
  },
  {
   "cell_type": "code",
   "execution_count": null,
   "id": "0578a108-cf87-430a-97a9-90bf647d8361",
   "metadata": {
    "scrolled": true,
    "tags": []
   },
   "outputs": [],
   "source": [
    "gdi_results = eco.calculate_GDI(spatial_data=adata,\n",
    "                                scale=64,\n",
    "                                library_key='Sample',\n",
    "                                library_id=library_ids,\n",
    "                                spatial_key='spatial',\n",
    "                                cluster_key='cell_type',\n",
    "                                hotspot=True,\n",
    "                                restricted=False,\n",
    "                                metric='Shannon Diversity')\n",
    "gdi_results"
   ]
  },
  {
   "cell_type": "code",
   "execution_count": null,
   "id": "7f5ce280-f846-491c-9fbe-e6ed279aab8f",
   "metadata": {
    "tags": []
   },
   "outputs": [],
   "source": [
    "gdi_results.to_csv(\"CTX_GDI.csv\")"
   ]
  },
  {
   "cell_type": "code",
   "execution_count": null,
   "id": "ce1b379c-d0ae-43e8-8996-74067a71e66e",
   "metadata": {
    "scrolled": true,
    "tags": []
   },
   "outputs": [],
   "source": [
    "# Calculate DPI for hotspots\n",
    "dpi_results = eco.calculate_DPI(spatial_data=adata,\n",
    "                                scale=64.0,\n",
    "                                library_key='Sample',\n",
    "                                library_id=library_ids,\n",
    "                                spatial_key='spatial',\n",
    "                                cluster_key='cell_type',\n",
    "                                hotspot=True,\n",
    "                                metric='Shannon Diversity')\n",
    "dpi_results"
   ]
  },
  {
   "cell_type": "code",
   "execution_count": null,
   "id": "188eb922-5263-4369-ba39-9c3833369cb8",
   "metadata": {
    "tags": []
   },
   "outputs": [],
   "source": [
    "dpi_results.to_csv('CTX_DPI.csv')"
   ]
  },
  {
   "cell_type": "code",
   "execution_count": null,
   "id": "96ac68de-5468-4636-8dd3-755ece904aa1",
   "metadata": {
    "scrolled": true,
    "tags": []
   },
   "outputs": [],
   "source": [
    "global_cellfreq_df, global_co_occurrence_df = eco.spot_cellfreq(spatial_data=adata,\n",
    "                                                                scale=64.0,\n",
    "                                                                library_key='Sample',\n",
    "                                                                library_id=library_ids,\n",
    "                                                                spatial_key='spatial',\n",
    "                                                                cluster_key='cell_type',\n",
    "                                                                spots='global',\n",
    "                                                                top=None,\n",
    "                                                                selected_comb=None,\n",
    "                                                                restricted=False,\n",
    "                                                                metric='Shannon Diversity')"
   ]
  },
  {
   "cell_type": "code",
   "execution_count": null,
   "id": "41e52977-f938-479e-9ef7-a316197f3a2f",
   "metadata": {
    "scrolled": true,
    "tags": []
   },
   "outputs": [],
   "source": [
    "global_cellfreq_df"
   ]
  },
  {
   "cell_type": "code",
   "execution_count": null,
   "id": "7beb633e-55d1-4232-a908-1c13fb8da41b",
   "metadata": {
    "tags": []
   },
   "outputs": [],
   "source": [
    "global_cellfreq_df['Condition'] = ' '\n",
    "global_cellfreq_df.loc[global_cellfreq_df.index.str.contains('KO'), 'Condition'] = 'KO'\n",
    "global_cellfreq_df.loc[global_cellfreq_df.index.str.contains('WT'), 'Condition'] = 'WT'\n",
    "\n",
    "global_co_occurrence_subcols = global_co_occurrence_df.loc[:,global_co_occurrence_df.mean()>0.05].columns.tolist()\n",
    "global_co_occurrence_df['Condition'] = ' '\n",
    "global_co_occurrence_df['Patch'] = global_co_occurrence_df.index\n",
    "global_co_occurrence_df.loc[global_co_occurrence_df.index.str.contains('KO'), 'Condition'] = 'KO'\n",
    "global_co_occurrence_df.loc[global_co_occurrence_df.index.str.contains('WT'), 'Condition'] = 'WT'\n",
    "global_co_occurrence_subcols.extend([('Condition',''),('Patch','')])"
   ]
  },
  {
   "cell_type": "code",
   "execution_count": null,
   "id": "a616b2fb-9df0-43ec-874d-d1089d9b54c3",
   "metadata": {
    "scrolled": true,
    "tags": []
   },
   "outputs": [],
   "source": [
    "global_cellfreq_df"
   ]
  },
  {
   "cell_type": "code",
   "execution_count": null,
   "id": "6322c999-c485-49af-8941-db7307ca3b05",
   "metadata": {
    "tags": []
   },
   "outputs": [],
   "source": [
    "# Melt the dataframe for easier plotting and statistical analysis\n",
    "global_cellfreq_df_melt = global_cellfreq_df.reset_index().melt(id_vars=['Sample', 'Condition'])\n",
    "global_cellfreq_df_melt.columns = ['Sample', 'group', 'cell_type', 'Frequency']\n",
    "\n",
    "global_cellfreq_df_melt"
   ]
  },
  {
   "cell_type": "code",
   "execution_count": null,
   "id": "b029c6a5-845e-4785-a736-d2b7243def10",
   "metadata": {
    "scrolled": true,
    "tags": []
   },
   "outputs": [],
   "source": [
    "# Perform t-tests\n",
    "selected_cell_types = sorted(adata.obs['cell_type'].unique())\n",
    "selected_p_values = []\n",
    "for ct in selected_cell_types:\n",
    "    group1 = global_cellfreq_df_melt[(global_cellfreq_df_melt['cell_type'] == ct) & (global_cellfreq_df_melt['group'] == 'WT')]['Frequency']\n",
    "    group2 = global_cellfreq_df_melt[(global_cellfreq_df_melt['cell_type'] == ct) & (global_cellfreq_df_melt['group'] == 'KO')]['Frequency']\n",
    "    t_stat, p_value = stats.ttest_ind(group1, group2, equal_var=False)\n",
    "    print(f\"{ct} has p value of {p_value}\")\n",
    "    selected_p_values.append(p_value)\n",
    "\n",
    "pvals_corrected = stats.false_discovery_control(selected_p_values, method='bh')\n",
    "print('-'*42)\n",
    "print(f\"p-values after correction:\")\n",
    "\n",
    "# Plot\n",
    "fig, ax = plt.subplots(figsize=(30,10))\n",
    "sns.boxplot(data=global_cellfreq_df_melt, x='cell_type', y='Frequency', hue='group', palette='muted', boxprops=dict(alpha=.3), ax=ax, dodge=True, order=selected_cell_types)\n",
    "sns.swarmplot(data=global_cellfreq_df_melt, x='cell_type', y='Frequency', hue='group', palette='dark:black', size=2.0, dodge=True, order=selected_cell_types, ax=ax, edgecolor='auto', linewidth=0.5)\n",
    "handles, labels = ax.get_legend_handles_labels()\n",
    "ax.legend(handles[:2], labels[:2], title=\"Groups\", handletextpad=1, columnspacing=1, bbox_to_anchor=(1, 1), ncol=3, frameon=True)\n",
    "plt.xticks(rotation=90)\n",
    "\n",
    "p_vals_corrected_dict = {}\n",
    "yrange = ax.get_ylim()[1] - ax.get_ylim()[0]\n",
    "for i, ct in enumerate(selected_cell_types):\n",
    "    ax.text(i, yrange, f\"p = {pvals_corrected[i]:.3f}\", ha='center', fontsize=12, rotation=0)\n",
    "    print(f\"{ct} has p value = {pvals_corrected[i]:.3f}\", flush=True)\n",
    "    p_vals_corrected_dict[ct] = pvals_corrected[i]\n",
    "\n",
    "for i in range(len(selected_cell_types) - 1):\n",
    "    ax.axvline(i + 0.55, color='grey', linestyle='--', linewidth=0.5)\n",
    "\n",
    "ax.set_ylabel(\"Frequency\", fontsize=14)\n",
    "ax.set_xlabel('')\n",
    "plt.savefig(\"Global_Cell_Frequency_CTX.pdf\", dpi = 300)\n",
    "plt.show()"
   ]
  },
  {
   "cell_type": "code",
   "execution_count": null,
   "id": "4e1f37ae-a858-48cd-a58e-f622c17ba6c6",
   "metadata": {
    "scrolled": true,
    "tags": []
   },
   "outputs": [],
   "source": [
    "spot_cellfreq_df, spot_co_occurrence_df = eco.spot_cellfreq(spatial_data=adata,\n",
    "                                                            scale=64.0,\n",
    "                                                            library_key='Sample',\n",
    "                                                            library_id=library_ids,\n",
    "                                                            spatial_key='spatial',\n",
    "                                                            cluster_key='cell_type',\n",
    "                                                            spots='hot',\n",
    "                                                            top=None,\n",
    "                                                            selected_comb=None,\n",
    "                                                            restricted=False,\n",
    "                                                            metric='Shannon Diversity')"
   ]
  },
  {
   "cell_type": "code",
   "execution_count": null,
   "id": "c07c54e1-5006-45ae-8156-eaeeb31a2e1a",
   "metadata": {
    "tags": []
   },
   "outputs": [],
   "source": [
    "spot_cellfreq_df['Condition'] = ' '\n",
    "spot_cellfreq_df.loc[spot_cellfreq_df.index.str.contains('KO'), 'Condition'] = 'KO'\n",
    "spot_cellfreq_df.loc[spot_cellfreq_df.index.str.contains('WT'), 'Condition'] = 'WT'\n",
    "\n",
    "spot_co_occurrence_subcols = spot_co_occurrence_df.loc[:,spot_co_occurrence_df.mean()>0.05].columns.tolist()\n",
    "spot_co_occurrence_df['Condition'] = ' '\n",
    "spot_co_occurrence_df['Patch'] = spot_co_occurrence_df.index\n",
    "spot_co_occurrence_df.loc[spot_co_occurrence_df.index.str.contains('KO'), 'Condition'] = 'KO'\n",
    "spot_co_occurrence_df.loc[spot_co_occurrence_df.index.str.contains('WT'), 'Condition'] = 'WT'\n",
    "spot_co_occurrence_subcols.extend([('Condition',''),('Patch','')])"
   ]
  },
  {
   "cell_type": "code",
   "execution_count": null,
   "id": "9667a6dc-366b-4c1d-93ff-fa4779c261b0",
   "metadata": {
    "tags": []
   },
   "outputs": [],
   "source": [
    "spot_cellfreq_df['Patch'] = spot_cellfreq_df.index\n",
    "\n",
    "# Melt the DataFrame\n",
    "spot_cellfreq_df_melt = spot_cellfreq_df.melt(id_vars=['Patch', 'Condition'], var_name='CellType', value_name='Frequency')"
   ]
  },
  {
   "cell_type": "code",
   "execution_count": null,
   "id": "3f1401ce-e70e-4670-9599-2f5036941432",
   "metadata": {
    "scrolled": true,
    "tags": []
   },
   "outputs": [],
   "source": [
    "spot_cellfreq_df_melt"
   ]
  },
  {
   "cell_type": "code",
   "execution_count": null,
   "id": "f1078f82-aa51-42fb-934a-a7998ba819e2",
   "metadata": {
    "scrolled": true,
    "tags": []
   },
   "outputs": [],
   "source": [
    "selected_cell_types = sorted(spot_cellfreq_df_melt['CellType'].unique())\n",
    "selected_p_values = []\n",
    "\n",
    "# Perform t-tests\n",
    "print(f\"p-value before correction:\")\n",
    "for ct in selected_cell_types: # df_melted['CellType'].unique():\n",
    "    subset = spot_cellfreq_df_melt[spot_cellfreq_df_melt['CellType'] == ct]\n",
    "    group1 = subset[subset['Condition'] == 'WT']['Frequency']\n",
    "    group2 = subset[subset['Condition'] == 'KO']['Frequency']\n",
    "\n",
    "    t_stat, p_value = stats.ttest_ind(group1, group2, equal_var=False)\n",
    "    print(f\"{ct} has p value = {p_value:.4f}\")\n",
    "    selected_p_values.append(p_value)\n",
    "\n",
    "# Filter the dataframe based on selected CellTypes\n",
    "df_filtered = spot_cellfreq_df_melt[spot_cellfreq_df_melt['CellType'].isin(selected_cell_types)]\n",
    "\n",
    "# Plot the filtered data\n",
    "fig, ax = plt.subplots(figsize=(30,10))\n",
    "sns.boxplot(data=df_filtered, x='CellType', y='Frequency', hue='Condition', palette='muted', boxprops=dict(alpha=.3), ax=ax, dodge=True,order=selected_cell_types)\n",
    "sns.swarmplot(data=df_filtered, x='CellType', y='Frequency', hue='Condition', palette='dark:black', size=3.0, dodge=True, order=selected_cell_types, ax=ax, edgecolor='auto', linewidth=0.5)\n",
    "\n",
    "handles, labels = ax.get_legend_handles_labels()\n",
    "ax.legend(handles[:2], labels[:2], title=\"Groups\", handletextpad=1, columnspacing=1, bbox_to_anchor=(1, 1), ncol=3, frameon=True)\n",
    "\n",
    "spot_pvals_corrected = stats.false_discovery_control(selected_p_values, method='bh')\n",
    "spot_pvals_corrected = dict(map(lambda i,j : (i,j) , selected_cell_types, spot_pvals_corrected))\n",
    "\n",
    "print('-'*42)\n",
    "print(f\"p-values after correction: \")\n",
    "\n",
    "yrange = ax.get_ylim()[1] - ax.get_ylim()[0]\n",
    "for i, ct in enumerate(selected_cell_types):\n",
    "    ax.text(i, yrange, f\"p = {spot_pvals_corrected[ct]:.3f}\", ha='center', fontsize=12, rotation=90)\n",
    "    print(f\"{ct} in hot spots has p value = {spot_pvals_corrected[ct]:.3f}\", flush=True)\n",
    "    if spot_pvals_corrected[ct] < 0.05 and p_vals_corrected_dict[ct] > 0.05:\n",
    "        print(f\"{ct} in whole tissue has p value = {p_vals_corrected_dict[ct]:.3f}\", flush=True)\n",
    "        print('*'*42)\n",
    "\n",
    "for i in range(len(selected_cell_types) - 1):\n",
    "    ax.axvline(i + 0.55, color='grey', linestyle='--', linewidth=0.5)\n",
    "\n",
    "ax.set_ylabel(\"Frequency\", fontsize=14)\n",
    "ax.set_xlabel('')\n",
    "plt.xticks(rotation=90)\n",
    "plt.yticks(rotation=90)\n",
    "plt.savefig(\"HotColdSpot_Cell_Frequency_CTX.pdf\", dpi = 300)\n",
    "plt.show()\n",
    "plt.close(fig)"
   ]
  },
  {
   "cell_type": "code",
   "execution_count": null,
   "id": "ca4d74b1-1097-4630-b94b-6c535be5e203",
   "metadata": {
    "tags": []
   },
   "outputs": [],
   "source": [
    "union_cols = set(global_co_occurrence_subcols).union(set(spot_co_occurrence_subcols))"
   ]
  },
  {
   "cell_type": "code",
   "execution_count": null,
   "id": "b15e4350-6d99-408d-bcad-d1f742ae1f37",
   "metadata": {
    "tags": []
   },
   "outputs": [],
   "source": [
    "# Make them have the same set of columns\n",
    "global_co_occurrence_df = global_co_occurrence_df.reindex(columns=union_cols).fillna(0)\n",
    "spot_co_occurrence_df = spot_co_occurrence_df.reindex(columns=union_cols).fillna(0)"
   ]
  },
  {
   "cell_type": "code",
   "execution_count": null,
   "id": "268af52b-f422-4e6c-8c04-6937a706595c",
   "metadata": {
    "tags": []
   },
   "outputs": [],
   "source": [
    "# Global Cell Co-Occurrence\n",
    "# Multi-index to single-index column\n",
    "new_columns = []\n",
    "for col in global_co_occurrence_df.columns:\n",
    "    if isinstance(col, tuple):  # This checks if the column is a MultiIndex\n",
    "        # Join only if the column name is not 'Mouse' or 'Condition'\n",
    "        if \"Patch\" not in col and \"Condition\" not in col:\n",
    "            new_columns.append('&'.join(map(str, col)).strip())\n",
    "        else:\n",
    "            # If 'Mouse' or 'Condition' is in the column, it is not joined with '&'\n",
    "            new_columns.append(col[0])\n",
    "    else:\n",
    "        new_columns.append(col)\n",
    "\n",
    "global_co_occurrence_df_single = global_co_occurrence_df.copy()\n",
    "global_co_occurrence_df_single.columns = new_columns\n",
    "global_co_occurrence_df_single = global_co_occurrence_df_single[[col for col in global_co_occurrence_df_single.columns if 'noid' not in col]]\n",
    "\n",
    "# Melt the DataFrame\n",
    "global_co_occurrence_melted = global_co_occurrence_df_single.melt(id_vars=['Patch', 'Condition'], var_name='Cell Combination', value_name='Frequency')\n",
    "global_co_occurrence_melted"
   ]
  },
  {
   "cell_type": "code",
   "execution_count": null,
   "id": "c80116cb-efd5-49b0-88ee-6304a338805d",
   "metadata": {
    "scrolled": true,
    "tags": []
   },
   "outputs": [],
   "source": [
    "# Global Cell Co-Occurrence\n",
    "selected_cell_types = sorted(global_co_occurrence_melted['Cell Combination'].unique())\n",
    "selected_p_values = []\n",
    "\n",
    "# Perform t-tests\n",
    "print(f\"p-value before correction:\")\n",
    "for ct in selected_cell_types:\n",
    "    subset = global_co_occurrence_melted[global_co_occurrence_melted['Cell Combination'] == ct]\n",
    "    group1 = subset[subset['Condition'] == 'WT']['Frequency']\n",
    "    group2 = subset[subset['Condition'] == 'KO']['Frequency']\n",
    "\n",
    "    t_stat, p_value = stats.ttest_ind(group1, group2, equal_var=False)\n",
    "    print(f\"{ct} has p value = {p_value:.3f}\")\n",
    "    selected_p_values.append(p_value)\n",
    "\n",
    "# Filter the dataframe based on selected Cell Combinations\n",
    "df_filtered = global_co_occurrence_melted[global_co_occurrence_melted['Cell Combination'].isin(selected_cell_types)]\n",
    "\n",
    "# Plot the filtered data\n",
    "fig, ax = plt.subplots(figsize=(45,10))\n",
    "sns.boxplot(data=df_filtered, x='Cell Combination', y='Frequency', hue='Condition', palette='muted', boxprops=dict(alpha=.3), ax=ax, dodge=True,order=selected_cell_types)\n",
    "sns.swarmplot(data=df_filtered, x='Cell Combination', y='Frequency', hue='Condition', palette='dark:black', size=1.0, dodge=True,order=selected_cell_types, ax=ax, edgecolor='gray', linewidth=0.5)\n",
    "\n",
    "handles, labels = ax.get_legend_handles_labels()\n",
    "ax.legend(handles[:2], labels[:2], title=\"Groups\", handletextpad=1, columnspacing=1, bbox_to_anchor=(1, 1), ncol=3, frameon=True)\n",
    "\n",
    "pvals_corrected = stats.false_discovery_control(selected_p_values, method='bh')\n",
    "\n",
    "print('-'*42)\n",
    "print(f\"p-values after correction:\")\n",
    "\n",
    "p_vals_corrected_dict = {}\n",
    "yrange = ax.get_ylim()[1] - ax.get_ylim()[0]\n",
    "for i, ct in enumerate(selected_cell_types):\n",
    "    ax.text(i, yrange, f\"p = {pvals_corrected[i]:.3f}\", ha='center', fontsize=8, rotation=0)\n",
    "    print(f\"{ct} has p value = {pvals_corrected[i]:.3f}\", flush=True)\n",
    "    p_vals_corrected_dict[ct] = pvals_corrected[i]\n",
    "\n",
    "for i in range(len(selected_cell_types) - 1):\n",
    "    ax.axvline(i + 0.55, color='grey', linestyle='--', linewidth=0.5)\n",
    "\n",
    "ax.set_ylabel(\"Frequency\", fontsize=14)\n",
    "ax.set_xlabel('')\n",
    "plt.xticks(rotation=90)\n",
    "plt.savefig(\"Global_Cell_co_occurance_CTX.pdf\", dpi = 300)\n",
    "plt.show()"
   ]
  },
  {
   "cell_type": "code",
   "execution_count": null,
   "id": "06e8a495-a26b-47f8-bdcf-4ca6e2bad2e0",
   "metadata": {
    "tags": []
   },
   "outputs": [],
   "source": [
    "# Spot Cell Co-Occurrence\n",
    "# Multi-index to single-index column\n",
    "new_columns = []\n",
    "for col in spot_co_occurrence_df.columns:\n",
    "    if isinstance(col, tuple):  # This checks if the column is a MultiIndex\n",
    "        # Join only if the column name is not 'Mouse' or 'Condition'\n",
    "        if \"Patch\" not in col and \"Condition\" not in col:\n",
    "            new_columns.append('&'.join(map(str, col)).strip())\n",
    "        else:\n",
    "            # If 'Mouse' or 'Condition' is in the column, it is not joined with '&'\n",
    "            new_columns.append(col[0])\n",
    "    else:\n",
    "        new_columns.append(col)\n",
    "\n",
    "spot_co_occurrence_df_single = spot_co_occurrence_df.copy()\n",
    "spot_co_occurrence_df_single.columns = new_columns\n",
    "spot_co_occurrence_df_single = spot_co_occurrence_df_single[[col for col in spot_co_occurrence_df_single.columns if 'noid' not in col]]\n",
    "\n",
    "# Melt the DataFrame\n",
    "spot_co_occurrence_melted = spot_co_occurrence_df_single.melt(id_vars=['Patch', 'Condition'], var_name='Cell Combination', value_name='Frequency')\n",
    "spot_co_occurrence_melted"
   ]
  },
  {
   "cell_type": "code",
   "execution_count": null,
   "id": "42709f74-345f-4636-95a5-8859648b7914",
   "metadata": {
    "scrolled": true,
    "tags": []
   },
   "outputs": [],
   "source": [
    "# Spot Cell Co-Occurrence\n",
    "selected_cell_types = sorted(spot_co_occurrence_melted['Cell Combination'].unique())\n",
    "selected_p_values = []\n",
    "\n",
    "# Perform t-tests\n",
    "print(f\"p-value before correction: \")\n",
    "for ct in selected_cell_types: # df_melted['CellType'].unique():\n",
    "    subset = spot_co_occurrence_melted[spot_co_occurrence_melted['Cell Combination'] == ct]\n",
    "    group1 = subset[subset['Condition'] == 'WT']['Frequency']\n",
    "    group2 = subset[subset['Condition'] == 'KO']['Frequency']\n",
    "\n",
    "    t_stat, p_value = stats.ttest_ind(group1, group2, equal_var=False)\n",
    "    print(f\"{ct} has p value = {p_value:.3f}\")\n",
    "    selected_p_values.append(p_value)\n",
    "\n",
    "# Filter the dataframe based on selected CellTypes\n",
    "df_filtered = spot_co_occurrence_melted[spot_co_occurrence_melted['Cell Combination'].isin(selected_cell_types)]\n",
    "\n",
    "# Plot the filtered data\n",
    "fig, ax = plt.subplots(figsize=(42,10))\n",
    "sns.boxplot(data=df_filtered, x='Cell Combination', y='Frequency', hue='Condition', palette='muted', boxprops=dict(alpha=.3), ax=ax, dodge=True,order=selected_cell_types)\n",
    "sns.swarmplot(data=df_filtered, x='Cell Combination', y='Frequency', hue='Condition', palette='dark:black', size=2.0, dodge=True,order=selected_cell_types, ax=ax, edgecolor='gray', linewidth=0.5)\n",
    "\n",
    "handles, labels = ax.get_legend_handles_labels()\n",
    "ax.legend(handles[:2], labels[:2], title=\"Groups\", handletextpad=1, columnspacing=1, bbox_to_anchor=(1, 1), ncol=3, frameon=True)\n",
    "\n",
    "hot_pvals_corrected = stats.false_discovery_control(selected_p_values, method='bh')\n",
    "\n",
    "print('-'*42)\n",
    "print(f\"p-values after correction:\")\n",
    "\n",
    "highlighted_comb = []\n",
    "yrange = ax.get_ylim()[1] - ax.get_ylim()[0]\n",
    "for i, ct in enumerate(selected_cell_types):\n",
    "    ax.text(i, yrange, f\"p = {pvals_corrected[i]:.3f}\", ha='center', fontsize=8, rotation=0)\n",
    "    print(f\"{ct} in hot spots has p value = {hot_pvals_corrected[i]:.3f}\", flush=True)\n",
    "    if hot_pvals_corrected[i] < 0.05 and p_vals_corrected_dict[ct] >= 0.05:\n",
    "        highlighted_comb.append(tuple(map(str.strip, ct.split('&'))))\n",
    "        print(f\"{ct} in whole tissue has p value = {p_vals_corrected_dict[ct]:.3f}\", flush=True)\n",
    "        print('*'*42)\n",
    "\n",
    "for i in range(len(selected_cell_types) - 1):\n",
    "    ax.axvline(i + 0.55, color='grey', linestyle='--', linewidth=0.5)\n",
    "\n",
    "ax.set_ylabel(\"Frequency\", fontsize=14)\n",
    "ax.set_xlabel('')\n",
    "plt.xticks(rotation=90)\n",
    "plt.yticks(rotation=90)\n",
    "plt.savefig(\"Spot_Cell_co_occurance_CTX.pdf\", dpi = 300)\n",
    "plt.show()"
   ]
  },
  {
   "cell_type": "code",
   "execution_count": null,
   "id": "29c8f581-a2e7-4fd3-9d5f-43f422ab10d4",
   "metadata": {
    "tags": []
   },
   "outputs": [],
   "source": [
    "circoplot_df1 = global_co_occurrence_df.sort_index(axis=1, level=[0,1]).drop(columns=['Patch'])\n",
    "circoplot_df1 = circoplot_df1[[col for col in circoplot_df1.columns if 'noid' not in col]]\n",
    "# Group by 'Condition' and calculate the mean of the other columns\n",
    "circoplot_df1 = circoplot_df1.groupby('Condition').mean().reset_index()\n",
    "circoplot_df1 = circoplot_df1.set_index('Condition')\n",
    "circoplot_df1"
   ]
  },
  {
   "cell_type": "code",
   "execution_count": null,
   "id": "d080aa16-89a1-4412-a380-a340f254ed8e",
   "metadata": {
    "scrolled": true,
    "tags": []
   },
   "outputs": [],
   "source": [
    "global_cellfreq_df"
   ]
  },
  {
   "cell_type": "code",
   "execution_count": null,
   "id": "bae32d8c-268b-4e05-8f7b-e4fdbb299514",
   "metadata": {
    "tags": []
   },
   "outputs": [],
   "source": [
    "# circoplot_df2 = global_cellfreq_df.drop(columns=['noid'])\n",
    "circoplot_df2 = global_cellfreq_df.copy()\n",
    "# Group by 'Condition' and calculate the mean of the other columns\n",
    "circoplot_df2 = circoplot_df2.groupby('Condition').mean().reset_index()\n",
    "circoplot_df2 = circoplot_df2.set_index('Condition')\n",
    "circoplot_df2"
   ]
  },
  {
   "cell_type": "code",
   "execution_count": null,
   "id": "d3931eb9-d466-46f0-a781-a69c8efb6828",
   "metadata": {
    "scrolled": true,
    "tags": []
   },
   "outputs": [],
   "source": [
    "patient_group = 'WT'\n",
    "eco.create_circos_plot(circoplot_df1.loc[[patient_group]],\n",
    "                       cell_type_colors_hex=None,\n",
    "                       cell_abundance=circoplot_df2.loc[[patient_group]],\n",
    "                       threshold=0.05,\n",
    "                       edge_weights_scaler=10,\n",
    "                       highlighted_edges=None,\n",
    "                       node_weights_scaler=5000,\n",
    "                       figure_size=(8,8),\n",
    "                       save_path='WT_CTX_circoplot.pdf')"
   ]
  },
  {
   "cell_type": "code",
   "execution_count": null,
   "id": "9de638aa-79cc-4b9f-9605-5aff5b0448df",
   "metadata": {
    "tags": []
   },
   "outputs": [],
   "source": [
    "circoplot_df1 = spot_co_occurrence_df.sort_index(axis=1, level=[0,1]).drop(columns=['Patch'])\n",
    "circoplot_df1 = circoplot_df1[[col for col in circoplot_df1.columns if 'noid' not in col]]\n",
    "# Group by 'Condition' and calculate the mean of the other columns\n",
    "circoplot_df1 = circoplot_df1.groupby('Condition').mean().reset_index()\n",
    "circoplot_df1 = circoplot_df1.set_index('Condition')\n",
    "circoplot_df1"
   ]
  },
  {
   "cell_type": "code",
   "execution_count": null,
   "id": "95268f09-2238-4241-958c-56b758af9c04",
   "metadata": {
    "tags": []
   },
   "outputs": [],
   "source": [
    "circoplot_df2 = spot_cellfreq_df.drop(columns=['Patch'])\n",
    "# Group by 'Condition' and calculate the mean of the other columns\n",
    "circoplot_df2 = circoplot_df2.groupby('Condition').mean().reset_index()\n",
    "circoplot_df2 = circoplot_df2.set_index('Condition')\n",
    "circoplot_df2"
   ]
  },
  {
   "cell_type": "code",
   "execution_count": null,
   "id": "734573e3-c8f1-4a49-a4ea-93cf999d4550",
   "metadata": {
    "scrolled": true,
    "tags": []
   },
   "outputs": [],
   "source": [
    "patient_group = 'KO'\n",
    "eco.create_circos_plot(circoplot_df1.loc[[patient_group]],\n",
    "                       cell_type_colors_hex=None,\n",
    "                       cell_abundance=circoplot_df2.loc[[patient_group]],\n",
    "                       threshold=0.05,\n",
    "                       edge_weights_scaler=10,\n",
    "                       highlighted_edges=highlighted_comb,\n",
    "                       node_weights_scaler=5000,\n",
    "                       figure_size=(8,8),\n",
    "                       save_path='KO_CTX_circoplot.pdf')"
   ]
  },
  {
   "cell_type": "code",
   "execution_count": null,
   "id": "449f6d4f-74f8-408e-b1f4-50565d504a2f",
   "metadata": {},
   "outputs": [],
   "source": []
  },
  {
   "cell_type": "code",
   "execution_count": null,
   "id": "412fbeb0-8444-460a-8f31-86af9d85fc09",
   "metadata": {
    "tags": []
   },
   "outputs": [],
   "source": [
    "import scanpy as sc"
   ]
  },
  {
   "cell_type": "code",
   "execution_count": null,
   "id": "ed42c0b1-ea0e-4fd4-bfed-917ae239a97c",
   "metadata": {
    "tags": []
   },
   "outputs": [],
   "source": [
    "adata = sc.read_h5ad(\"RelnAll_Annotated.h5ad\")"
   ]
  },
  {
   "cell_type": "code",
   "execution_count": null,
   "id": "f856f16e-d598-483f-b426-1af3125927a9",
   "metadata": {
    "tags": []
   },
   "outputs": [],
   "source": [
    "DG = adata[adata.obs['cell_type'].isin(['Ext DG'])].copy()"
   ]
  },
  {
   "cell_type": "code",
   "execution_count": null,
   "id": "3c1fc07d-a7bd-4270-a05b-0fa767993968",
   "metadata": {
    "tags": []
   },
   "outputs": [],
   "source": [
    "WT1_points = DG[(DG.obs['Sample'] == 'WT1')].obsm['spatial_raw'].copy()"
   ]
  },
  {
   "cell_type": "code",
   "execution_count": null,
   "id": "cf39c161-0dd0-4c1b-9658-b52fb2583e4a",
   "metadata": {
    "tags": []
   },
   "outputs": [],
   "source": [
    "WT1_points"
   ]
  },
  {
   "cell_type": "code",
   "execution_count": null,
   "id": "a470a68f-3cb2-425b-90cf-aca684cd271b",
   "metadata": {
    "tags": []
   },
   "outputs": [],
   "source": [
    "import networkx as nx\n",
    "import numpy as np\n",
    "from itertools import combinations\n",
    "\n",
    "def points_to_network(points, threshold):\n",
    "\n",
    "    G = nx.Graph()\n",
    "    n = len(points)\n",
    "    \n",
    "    for i in range(n):\n",
    "        G.add_node(i, pos=points[i])\n",
    "\n",
    "    for i, j in combinations(range(n), 2):\n",
    "        dist = np.linalg.norm(np.array(points[i]) - np.array(points[j]))\n",
    "        if dist <= threshold:\n",
    "            G.add_edge(i, j)\n",
    "    \n",
    "    return G\n",
    "    "
   ]
  },
  {
   "cell_type": "code",
   "execution_count": null,
   "id": "8cd5bf87-edb4-479c-84ad-1dc6c0409f3e",
   "metadata": {
    "tags": []
   },
   "outputs": [],
   "source": [
    "threshold = 100\n",
    "\n",
    "G = points_to_network(WT1_points, threshold)\n",
    "\n",
    "\n",
    "clustering_coefficient = nx.average_clustering(G)"
   ]
  },
  {
   "cell_type": "code",
   "execution_count": null,
   "id": "2ef9b181-bb40-4b0d-928f-f2d515bf6a60",
   "metadata": {},
   "outputs": [],
   "source": []
  },
  {
   "cell_type": "code",
   "execution_count": null,
   "id": "5386d2f2-496d-449d-9e0e-50ea35925587",
   "metadata": {
    "tags": []
   },
   "outputs": [],
   "source": [
    "WT2_points = CA[(CA.obs['Sample'] == 'WT2')].obsm['spatial_raw'].copy()"
   ]
  },
  {
   "cell_type": "code",
   "execution_count": null,
   "id": "064cb14d-e2f2-4f7b-9087-d2bfc693fa81",
   "metadata": {
    "tags": []
   },
   "outputs": [],
   "source": [
    "WT2_points"
   ]
  },
  {
   "cell_type": "code",
   "execution_count": null,
   "id": "af338359-0e87-45a5-b5c0-80ed6b13b643",
   "metadata": {
    "tags": []
   },
   "outputs": [],
   "source": [
    "threshold = 100\n",
    "\n",
    "G = points_to_network(WT2_points, threshold)\n",
    "\n",
    "# 计算聚类系数\n",
    "clustering_coefficient = nx.average_clustering(G)"
   ]
  },
  {
   "cell_type": "code",
   "execution_count": null,
   "id": "20fc37af-30af-4fef-9e0a-fc8480e32a3e",
   "metadata": {},
   "outputs": [],
   "source": []
  },
  {
   "cell_type": "code",
   "execution_count": null,
   "id": "8b4d782e-7d67-4529-9b77-97daebf639eb",
   "metadata": {
    "tags": []
   },
   "outputs": [],
   "source": [
    "KO1_points = CA[(CA.obs['Sample'] == 'KO1')].obsm['spatial_raw'].copy()"
   ]
  },
  {
   "cell_type": "code",
   "execution_count": null,
   "id": "b43dfa70-e50b-48c5-b151-885fa5398c4d",
   "metadata": {
    "tags": []
   },
   "outputs": [],
   "source": [
    "KO1_points"
   ]
  },
  {
   "cell_type": "code",
   "execution_count": null,
   "id": "4014a37f-24c9-45dd-b6f1-e10ad91a14a6",
   "metadata": {
    "tags": []
   },
   "outputs": [],
   "source": [
    "threshold = 100\n",
    "\n",
    "G = points_to_network(KO1_points, threshold)\n",
    "\n",
    "# 计算聚类系数\n",
    "clustering_coefficient = nx.average_clustering(G)"
   ]
  },
  {
   "cell_type": "code",
   "execution_count": null,
   "id": "aed2f735-9389-4779-8337-3aec1c9ec1ea",
   "metadata": {},
   "outputs": [],
   "source": []
  },
  {
   "cell_type": "code",
   "execution_count": null,
   "id": "fb743c48-d1b0-4ef9-85c1-4d34422b5db4",
   "metadata": {
    "tags": []
   },
   "outputs": [],
   "source": [
    "KO2_points = CA[(CA.obs['Sample'] == 'KO2')].obsm['spatial_raw'].copy()"
   ]
  },
  {
   "cell_type": "code",
   "execution_count": null,
   "id": "ef8f53cb-dcc5-4510-9a40-76d99fdf3e97",
   "metadata": {
    "tags": []
   },
   "outputs": [],
   "source": [
    "KO2_points"
   ]
  },
  {
   "cell_type": "code",
   "execution_count": null,
   "id": "d1fabb82-654a-480b-83bd-6e218f6c662f",
   "metadata": {
    "tags": []
   },
   "outputs": [],
   "source": [
    "threshold = 100\n",
    "\n",
    "G = points_to_network(KO2_points, threshold)\n",
    "\n",
    "# 计算聚类系数\n",
    "clustering_coefficient = nx.average_clustering(G)"
   ]
  },
  {
   "cell_type": "code",
   "execution_count": null,
   "id": "937982ff-6876-4a00-bb2c-6c4fb7c78c9b",
   "metadata": {
    "tags": []
   },
   "outputs": [],
   "source": [
    "import scanpy as sc"
   ]
  },
  {
   "cell_type": "code",
   "execution_count": null,
   "id": "23bba6fe-c0f0-4456-9293-e9c17ffbe213",
   "metadata": {
    "tags": []
   },
   "outputs": [],
   "source": [
    "adata = sc.read_h5ad(\"RelnAll_Annotated.h5ad\")\n",
    "adata"
   ]
  },
  {
   "cell_type": "code",
   "execution_count": null,
   "id": "0ab4a33f-4d4d-45a3-a568-cb0bdca4ae04",
   "metadata": {
    "tags": []
   },
   "outputs": [],
   "source": [
    "sc.pl.violin(adata, keys = ['n_genes_by_counts'], groupby = 'Sample', inner = 'box', stripplot=False, save = 'WTKO_n_genes_by_counts.pdf')"
   ]
  },
  {
   "cell_type": "code",
   "execution_count": null,
   "id": "f0982567-4d7f-4157-a54e-d8196d6b02d9",
   "metadata": {
    "tags": []
   },
   "outputs": [],
   "source": [
    "sc.pl.violin(adata, keys = ['total_counts'], groupby = 'Sample', inner = 'box', stripplot=False, save = 'WTKO_totalcounts.pdf')"
   ]
  },
  {
   "cell_type": "code",
   "execution_count": null,
   "id": "2e9a984a-7977-472a-85b0-24ff72bb5bf9",
   "metadata": {
    "tags": []
   },
   "outputs": [],
   "source": [
    "adata.uns['Sample_colors'] = ['#FF0000', '#FF0000', '#0000FF', '#0000FF']"
   ]
  },
  {
   "cell_type": "code",
   "execution_count": null,
   "id": "27bc45ee-c7b1-433e-9e0e-5af0fcfbe85e",
   "metadata": {
    "tags": []
   },
   "outputs": [],
   "source": [
    "marker_dict = {\n",
    "    'Astro-CB': ['Slc1a3'],\n",
    "    'Astro-NT': ['Agt'],\n",
    "    'Astro-TE': ['Aqp4'],\n",
    "    'CHOR': ['Ecrg4'],\n",
    "    'Endo': ['Cldn5'],\n",
    "    'Epen': ['Tmem212'],\n",
    "    'Ext CA1': ['Rasgrp1'],\n",
    "    'Ext CA2': ['Adcy1'],\n",
    "    'Ext CA3': ['Cpne4'],\n",
    "    'Ext CB': ['Cbln1'],\n",
    "    'Ext DG': ['Prox1'],\n",
    "    'Ext IC': ['Tcf7l2'],\n",
    "    'Ext L2/3': ['Satb2'],\n",
    "    'Ext L2/3 PIR-ENTl': ['Hs3st2'],\n",
    "    'Ext L4/5': ['Cck'],\n",
    "    'Ext L6': ['Rprm'],\n",
    "    'Ext MB-HY': ['Slc17a6'],\n",
    "    'Ext NLOT': ['Synpr'],\n",
    "    'Ext OB': ['Grm8'],\n",
    "    'Ext TH': ['Synpo2'],\n",
    "    'Ext UBC': ['Nfib'],\n",
    "    'Fibro': ['Igf2'],\n",
    "    'Inh CB': ['Pvalb'],\n",
    "    'Inh CB Purkinje': ['Calb1'],\n",
    "    'Inh Lamp5': ['Lamp5'],\n",
    "    'Inh MB-HY': ['Gad2'],\n",
    "    'Inh OB-STR-CTX': ['Meis2'],\n",
    "    'Inh RT': ['Trh'],\n",
    "    'Inh STR D1': ['Drd1'],\n",
    "    'Inh STR D2': ['Drd2'],\n",
    "    'Inh Sst': ['Sst'],\n",
    "    'Inh Vip': ['Vip'],\n",
    "    'Microglia': ['P2ry12'],\n",
    "    'Mural': ['Pdgfrb'],\n",
    "    'OPC': ['Pdgfra'],\n",
    "    'Oligo': ['Mog']\n",
    "}"
   ]
  },
  {
   "cell_type": "code",
   "execution_count": null,
   "id": "0bb4442a-c03f-4f57-b315-a878e5e419a0",
   "metadata": {
    "tags": []
   },
   "outputs": [],
   "source": [
    "import cosg"
   ]
  },
  {
   "cell_type": "code",
   "execution_count": null,
   "id": "245de5dc-3e81-4d2c-b6a6-53a7154117e1",
   "metadata": {
    "tags": []
   },
   "outputs": [],
   "source": [
    "groupby='cell_type'\n",
    "cosg.cosg(adata, key_added='cosg_cell_type',\n",
    "          # use_raw=False, layer='log1p', ## e.g., if you want to use the log1p layer in adata\n",
    "          mu=1,\n",
    "          expressed_pct=0.1,\n",
    "          remove_lowly_expressed=True,\n",
    "          n_genes_user=10,\n",
    "          groupby=groupby)\n",
    "\n",
    "import pandas as pd\n",
    "pd.DataFrame(adata.uns[\"cosg_cell_type\"][\"names\"]).to_csv('cell_type_cosg.csv')"
   ]
  },
  {
   "cell_type": "code",
   "execution_count": null,
   "id": "d48bd44a-f663-46b5-a15f-f4d70f9e25c6",
   "metadata": {
    "tags": []
   },
   "outputs": [],
   "source": [
    "groupby='cell_type'"
   ]
  },
  {
   "cell_type": "code",
   "execution_count": null,
   "id": "b4c23344-49e8-4694-bfd8-c5ba24427269",
   "metadata": {
    "tags": []
   },
   "outputs": [],
   "source": [
    "sc.tl.dendrogram(adata, groupby = 'cell_type')"
   ]
  },
  {
   "cell_type": "code",
   "execution_count": null,
   "id": "2550b41e-d74f-4337-b29b-1c7b865a7ef9",
   "metadata": {
    "tags": []
   },
   "outputs": [],
   "source": [
    "sc.pl.dotplot(adata, {x:marker_dict[x] for x in adata.uns['dendrogram_cell_type']['categories_ordered']},\n",
    "             groupby=groupby,\n",
    "             dendrogram=True,\n",
    "              swap_axes=False,\n",
    "             standard_scale='var',\n",
    "             cmap='RdYlBu_r',\n",
    "             mean_only_expressed = True,\n",
    "             linewidth = 0, marker = \"o\", figsize=(15,8),\n",
    "             save = 'All_cell_type_marker.pdf'\n",
    "             )"
   ]
  }
 ],
 "metadata": {
  "kernelspec": {
   "display_name": "Python [conda env:python3.9]",
   "language": "python",
   "name": "conda-env-python3.9-py"
  },
  "language_info": {
   "codemirror_mode": {
    "name": "ipython",
    "version": 3
   },
   "file_extension": ".py",
   "mimetype": "text/x-python",
   "name": "python",
   "nbconvert_exporter": "python",
   "pygments_lexer": "ipython3",
   "version": "3.9.13"
  }
 },
 "nbformat": 4,
 "nbformat_minor": 5
}
