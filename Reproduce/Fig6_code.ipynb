{
 "cells": [
  {
   "cell_type": "code",
   "execution_count": null,
   "id": "08e666f0-faf4-493e-843b-cd54b5ce1035",
   "metadata": {
    "tags": []
   },
   "outputs": [],
   "source": [
    "import scanpy as sc\n",
    "import numpy as np\n",
    "import pandas as pd\n",
    "from spatialdata import read_zarr"
   ]
  },
  {
   "cell_type": "code",
   "execution_count": null,
   "id": "d5ee89eb-19d4-47e7-acda-179fb400a203",
   "metadata": {
    "tags": []
   },
   "outputs": [],
   "source": [
    "sdata = read_zarr('/media/duan/DuanLab_Data/openFISH/Decode/Data/20250522_RelnWT/Result_WT/raw_sdata.zarr')\n",
    "sdata"
   ]
  },
  {
   "cell_type": "code",
   "execution_count": null,
   "id": "4f9b514b-9b34-40b1-8c5f-7bf4a6b95511",
   "metadata": {
    "tags": []
   },
   "outputs": [],
   "source": [
    "areas = []\n",
    "for pg in sdata.shapes[\"MultiModel\"][\"geometry\"]:\n",
    "    areas.append(pg.area)"
   ]
  },
  {
   "cell_type": "code",
   "execution_count": null,
   "id": "f703e6c8-ad63-4edc-8f6a-a9460730ab00",
   "metadata": {
    "tags": []
   },
   "outputs": [],
   "source": [
    "adata = sdata.tables['table'].copy()"
   ]
  },
  {
   "cell_type": "code",
   "execution_count": null,
   "id": "2640c222-5a2e-4521-b838-9a5ad384125f",
   "metadata": {
    "tags": []
   },
   "outputs": [],
   "source": [
    "adata.obs['area'] = areas\n",
    "adata.obs"
   ]
  },
  {
   "cell_type": "code",
   "execution_count": null,
   "id": "a15c63ed-7323-490b-8a4a-2651181c0ee1",
   "metadata": {
    "tags": []
   },
   "outputs": [],
   "source": [
    "NP_Pad = pd.read_csv(\"/media/duan/DuanLab_Data/openFISH/ABA110_Demo/NP_Fold_V58.csv\", index_col=0)"
   ]
  },
  {
   "cell_type": "code",
   "execution_count": null,
   "id": "27077196-3c81-40af-8f87-b714346a80a3",
   "metadata": {
    "tags": []
   },
   "outputs": [],
   "source": [
    "def rotate_coordinates(coords, angle):\n",
    "    theta = np.radians(angle)\n",
    "    rotation_matrix = np.array([[np.cos(theta), -np.sin(theta)],\n",
    "                               [np.sin(theta), np.cos(theta)]])\n",
    "    coords_array = np.array(coords)\n",
    "    rotated_coords = coords_array @ rotation_matrix.T\n",
    "    return rotated_coords"
   ]
  },
  {
   "cell_type": "code",
   "execution_count": null,
   "id": "371153cf-c1b6-4db9-9d43-7f240c531650",
   "metadata": {
    "tags": []
   },
   "outputs": [],
   "source": [
    "adata.obsm['spatial'] = adata.obs[['x', 'y']].to_numpy()\n",
    "adata.obsm[\"spatial\"][:,1] =  0 - adata.obsm[\"spatial\"][:,1]"
   ]
  },
  {
   "cell_type": "code",
   "execution_count": null,
   "id": "06d566a3-6d92-495b-9cff-20ca6e974932",
   "metadata": {
    "tags": []
   },
   "outputs": [],
   "source": [
    "sc.set_figure_params(figsize = (12,6), dpi = 100)\n",
    "sc.pl.embedding(adata, basis = 'spatial', color = 'area', size = 10)"
   ]
  },
  {
   "cell_type": "code",
   "execution_count": null,
   "id": "8aeac131-2c66-4247-b646-bd2e16d1259e",
   "metadata": {
    "tags": []
   },
   "outputs": [],
   "source": [
    "tmpmatrix = adata.to_df().copy()"
   ]
  },
  {
   "cell_type": "code",
   "execution_count": null,
   "id": "ccd783a9-dd7c-4e16-ab2e-41eef4d9b00c",
   "metadata": {
    "tags": []
   },
   "outputs": [],
   "source": [
    "tmpmatrix = tmpmatrix.astype('float32')"
   ]
  },
  {
   "cell_type": "code",
   "execution_count": null,
   "id": "69d3672b-a6e0-4db2-a61c-00e9e8fe9908",
   "metadata": {
    "scrolled": true,
    "tags": []
   },
   "outputs": [],
   "source": [
    "import numpy as np\n",
    "\n",
    "for col in tmpmatrix.columns:\n",
    "    # tmpmatrix.loc[:,col] = tmpmatrix.loc[:,col] * np.log2(NP_Pad.loc[col, 'Fold'] + 1)\n",
    "    tmpmatrix.loc[:,col] = tmpmatrix.loc[:,col] * NP_Pad.loc[col, 'Fold']"
   ]
  },
  {
   "cell_type": "code",
   "execution_count": null,
   "id": "0da5718f-f36b-48e2-8cab-11cb3fc8c7b5",
   "metadata": {
    "tags": []
   },
   "outputs": [],
   "source": [
    "from scipy.sparse import csr_matrix"
   ]
  },
  {
   "cell_type": "code",
   "execution_count": null,
   "id": "d8c1ee19-8d84-41c1-a447-5ed44ade410e",
   "metadata": {
    "tags": []
   },
   "outputs": [],
   "source": [
    "adata.layers['counts'] = adata.X.copy()\n",
    "adata.X = csr_matrix(tmpmatrix)\n",
    "adata.layers['counts_corrected'] = adata.X.copy()"
   ]
  },
  {
   "cell_type": "code",
   "execution_count": null,
   "id": "8a518d6b-6c29-4437-9462-a47aca55159c",
   "metadata": {
    "tags": []
   },
   "outputs": [],
   "source": [
    "adata"
   ]
  },
  {
   "cell_type": "code",
   "execution_count": null,
   "id": "44779462-79de-433e-83a3-e81db3e75325",
   "metadata": {},
   "outputs": [],
   "source": [
    "adata.var[\"FP\"] = adata.var_names.str.startswith(\"sFP\")"
   ]
  },
  {
   "cell_type": "code",
   "execution_count": null,
   "id": "be37bf8b-4ded-4e0b-b338-83a33f306017",
   "metadata": {
    "tags": []
   },
   "outputs": [],
   "source": [
    "sc.pp.calculate_qc_metrics(\n",
    "    adata, inplace=True, log1p=True, percent_top=None,qc_vars=['FP']\n",
    ")"
   ]
  },
  {
   "cell_type": "code",
   "execution_count": null,
   "id": "06b66a77-614b-49f4-bf19-00950b9e80a9",
   "metadata": {
    "tags": []
   },
   "outputs": [],
   "source": [
    "sc.pl.violin(\n",
    "    adata,\n",
    "    [\"n_genes_by_counts\", \"total_counts\", 'pct_counts_FP'],\n",
    "    jitter=0.4,\n",
    "    multi_panel=True,\n",
    ")"
   ]
  },
  {
   "cell_type": "code",
   "execution_count": null,
   "id": "f8a52687-7ef4-43b2-9136-8ba85ea7d84c",
   "metadata": {
    "tags": []
   },
   "outputs": [],
   "source": [
    "adata.obs['total_counts'].mean()"
   ]
  },
  {
   "cell_type": "code",
   "execution_count": null,
   "id": "25567d23-48f1-4934-a35f-8fba2650fc1e",
   "metadata": {
    "tags": []
   },
   "outputs": [],
   "source": [
    "adata.obs['total_counts'].median()"
   ]
  },
  {
   "cell_type": "code",
   "execution_count": null,
   "id": "f93373a8-9cee-41cc-9664-ca72223c6e37",
   "metadata": {
    "tags": []
   },
   "outputs": [],
   "source": [
    "np.max(adata.obs['total_counts_FP'])"
   ]
  },
  {
   "cell_type": "code",
   "execution_count": null,
   "id": "48982073-d988-4214-b49c-e79d97d64a35",
   "metadata": {
    "tags": []
   },
   "outputs": [],
   "source": [
    "adata.obs['total_counts_FP'].mean()"
   ]
  },
  {
   "cell_type": "code",
   "execution_count": null,
   "id": "22e23020-9f0a-4ba9-b635-f374cbf49861",
   "metadata": {
    "tags": []
   },
   "outputs": [],
   "source": [
    "adata.obs['pct_counts_FP'].mean()"
   ]
  },
  {
   "cell_type": "code",
   "execution_count": null,
   "id": "9c1723f9-bb50-4af1-9e0a-01d272010182",
   "metadata": {
    "tags": []
   },
   "outputs": [],
   "source": [
    "np.percentile(adata.obs[\"pct_counts_FP\"], 99)"
   ]
  },
  {
   "cell_type": "code",
   "execution_count": null,
   "id": "ad392608-36fa-4bca-8804-c37561fe82bc",
   "metadata": {
    "tags": []
   },
   "outputs": [],
   "source": [
    "# Filter cells according to Cell Volume\n",
    "adata.obs[\"area\"].mean()"
   ]
  },
  {
   "cell_type": "code",
   "execution_count": null,
   "id": "656de1a0-1e11-47c3-83dd-7d997529773b",
   "metadata": {
    "tags": []
   },
   "outputs": [],
   "source": [
    "np.percentile(adata.obs[\"area\"], 1)"
   ]
  },
  {
   "cell_type": "code",
   "execution_count": null,
   "id": "50c611fc-8fe3-4f37-9c46-2b57728e0888",
   "metadata": {
    "tags": []
   },
   "outputs": [],
   "source": [
    "np.percentile(adata.obs[\"area\"], 90)"
   ]
  },
  {
   "cell_type": "code",
   "execution_count": null,
   "id": "057eca9b-0516-4c0b-a4d4-1b3e8739bcc1",
   "metadata": {
    "tags": []
   },
   "outputs": [],
   "source": [
    "np.percentile(adata.obs[\"area\"], 50)"
   ]
  },
  {
   "cell_type": "code",
   "execution_count": null,
   "id": "d28795e2-ee44-4bb4-88ef-da5dad5383c4",
   "metadata": {
    "tags": []
   },
   "outputs": [],
   "source": [
    "adata = adata[(adata.obs[\"area\"] > 600) & (adata.obs[\"area\"] < (3 * adata.obs[\"area\"].mean())),:].copy()\n",
    "adata"
   ]
  },
  {
   "cell_type": "code",
   "execution_count": null,
   "id": "dd66a2fe-cf00-484c-b813-d005f810dc7b",
   "metadata": {
    "tags": []
   },
   "outputs": [],
   "source": [
    "adata.obs['total_counts'].median()"
   ]
  },
  {
   "cell_type": "code",
   "execution_count": null,
   "id": "4f7cb1bc-c400-4cbe-8739-414e0e52eb5d",
   "metadata": {},
   "outputs": [],
   "source": []
  },
  {
   "cell_type": "code",
   "execution_count": null,
   "id": "49013339-6032-4567-9c08-50976599e149",
   "metadata": {},
   "outputs": [],
   "source": [
    "adata = adata[adata.obs.pct_counts_FP < 10, :].copy()\n",
    "sc.pp.filter_cells(adata, min_genes=2)\n",
    "sc.pp.filter_cells(adata, max_counts=1000)\n",
    "sc.pp.filter_cells(adata, min_counts=10)"
   ]
  },
  {
   "cell_type": "code",
   "execution_count": null,
   "id": "fe716293-68cd-4fc4-bd7d-3de6e2057a66",
   "metadata": {
    "tags": []
   },
   "outputs": [],
   "source": [
    "adata"
   ]
  },
  {
   "cell_type": "code",
   "execution_count": null,
   "id": "cd38c259-6bfe-49dc-98e6-f6054d544e88",
   "metadata": {
    "tags": []
   },
   "outputs": [],
   "source": [
    "adata.var_names"
   ]
  },
  {
   "cell_type": "code",
   "execution_count": null,
   "id": "837763d2-4c60-4758-a81c-020056a5f565",
   "metadata": {},
   "outputs": [],
   "source": [
    "adata.obs['total_counts'].median()"
   ]
  },
  {
   "cell_type": "code",
   "execution_count": null,
   "id": "3a732403-e9b6-470d-a157-4d27f7aaa9cd",
   "metadata": {
    "tags": []
   },
   "outputs": [],
   "source": [
    "BLACK_LIST = ['sFP']"
   ]
  },
  {
   "cell_type": "code",
   "execution_count": null,
   "id": "6c190a8d-f2c6-4f7d-af7d-556c4f1f95c5",
   "metadata": {
    "tags": []
   },
   "outputs": [],
   "source": [
    "adata = adata[:, [x for x in adata.var_names if x not in BLACK_LIST]].copy()"
   ]
  },
  {
   "cell_type": "code",
   "execution_count": null,
   "id": "0166e736-2596-445a-97f5-bf92bbcc4114",
   "metadata": {
    "tags": []
   },
   "outputs": [],
   "source": [
    "adata"
   ]
  },
  {
   "cell_type": "code",
   "execution_count": null,
   "id": "01de67ef-ff3a-4fc1-b950-0281438fff8a",
   "metadata": {
    "tags": []
   },
   "outputs": [],
   "source": [
    "# Normalize using cell area\n",
    "from scipy.sparse import csr_matrix\n",
    "cell_area = np.array(adata.obs[\"area\"])\n",
    "# cell_area = cell_area.reshape((len(cell_area),1))\n",
    "adata.X = csr_matrix((adata.X.T / cell_area).T)"
   ]
  },
  {
   "cell_type": "code",
   "execution_count": null,
   "id": "43a37386-14cc-42ab-a43e-9b069763b47a",
   "metadata": {
    "tags": []
   },
   "outputs": [],
   "source": [
    "# Normalizing to library size\n",
    "sc.pp.normalize_total(adata, target_sum=109)\n",
    "# Logarithmize the data\n",
    "sc.pp.log1p(adata)"
   ]
  },
  {
   "cell_type": "code",
   "execution_count": null,
   "id": "100563b4-28c1-402d-a038-29259c63917e",
   "metadata": {
    "tags": []
   },
   "outputs": [],
   "source": [
    "sc.pl.embedding(adata, basis=\"spatial\", color=\"Slc17a7\", size = 5)"
   ]
  },
  {
   "cell_type": "code",
   "execution_count": null,
   "id": "34d8bc5b-9334-479f-a45b-f8a742af79b5",
   "metadata": {
    "scrolled": true,
    "tags": []
   },
   "outputs": [],
   "source": [
    "sc.tl.pca(adata)\n",
    "sc.pp.neighbors(adata)\n",
    "sc.tl.umap(adata)"
   ]
  },
  {
   "cell_type": "code",
   "execution_count": null,
   "id": "73832ba7-32ff-4e15-af56-ffc4f131482e",
   "metadata": {
    "tags": []
   },
   "outputs": [],
   "source": [
    "# Using the igraph implementation and a fixed number of iterations can be significantly faster, especially for larger datasets\n",
    "sc.tl.leiden(adata, resolution=2, flavor=\"igraph\",n_iterations=-1)"
   ]
  },
  {
   "cell_type": "code",
   "execution_count": null,
   "id": "a044d9b3-9b53-4e42-bcf1-8e8a15545d3a",
   "metadata": {
    "tags": []
   },
   "outputs": [],
   "source": [
    "sc.pl.umap(adata, color = 'leiden')"
   ]
  },
  {
   "cell_type": "code",
   "execution_count": null,
   "id": "78fcbddc-3b40-4108-8774-ef1c87df9a81",
   "metadata": {
    "tags": []
   },
   "outputs": [],
   "source": [
    "sc.pl.embedding(adata, basis=\"spatial\", color=\"leiden\", size = 5)"
   ]
  },
  {
   "cell_type": "code",
   "execution_count": null,
   "id": "546233bf-99f0-4aef-af07-9548af7c35ea",
   "metadata": {
    "tags": []
   },
   "outputs": [],
   "source": [
    "adata"
   ]
  },
  {
   "cell_type": "code",
   "execution_count": null,
   "id": "5781ef35-6bc6-41f9-a180-33323c7034e3",
   "metadata": {
    "tags": []
   },
   "outputs": [],
   "source": [
    "adata.layers['norm'] = adata.X.copy()"
   ]
  },
  {
   "cell_type": "code",
   "execution_count": null,
   "id": "92b7ada9-b5c6-499f-83f1-1928727eb1f2",
   "metadata": {},
   "outputs": [],
   "source": []
  },
  {
   "cell_type": "code",
   "execution_count": null,
   "id": "b06eec9d-7ea2-42b9-91c7-c4e0a6d7f91a",
   "metadata": {},
   "outputs": [],
   "source": []
  },
  {
   "cell_type": "code",
   "execution_count": null,
   "id": "d6f0c0ed-f24b-44bc-aff1-07d99fa3a5b4",
   "metadata": {
    "tags": []
   },
   "outputs": [],
   "source": [
    "adata.write_h5ad(\"./RelnWT_filtered.h5ad\")"
   ]
  },
  {
   "cell_type": "code",
   "execution_count": null,
   "id": "70fc4fd6-547e-41ad-81c4-b10549262557",
   "metadata": {},
   "outputs": [],
   "source": []
  },
  {
   "cell_type": "code",
   "execution_count": null,
   "id": "608f4799-dcf1-46d2-a452-d37606727c7e",
   "metadata": {
    "tags": []
   },
   "outputs": [],
   "source": [
    "sdata = read_zarr('/media/duan/DuanLab_Data/openFISH/Decode/Data/20250522_RelnKO/Result_KO/raw_sdata.zarr')\n",
    "sdata"
   ]
  },
  {
   "cell_type": "code",
   "execution_count": null,
   "id": "b3a3874d-6d2d-4245-a229-dbfbd7afda7d",
   "metadata": {
    "tags": []
   },
   "outputs": [],
   "source": [
    "areas = []\n",
    "for pg in sdata.shapes[\"MultiModel\"][\"geometry\"]:\n",
    "    areas.append(pg.area)"
   ]
  },
  {
   "cell_type": "code",
   "execution_count": null,
   "id": "2d97dd8a-aed5-4e1d-a7c6-2a95adef5721",
   "metadata": {
    "tags": []
   },
   "outputs": [],
   "source": [
    "adata = sdata.tables['table'].copy()"
   ]
  },
  {
   "cell_type": "code",
   "execution_count": null,
   "id": "9610ff73-6263-45da-b141-dab7f456051d",
   "metadata": {
    "tags": []
   },
   "outputs": [],
   "source": [
    "adata.obs['area'] = areas\n",
    "adata.obs"
   ]
  },
  {
   "cell_type": "code",
   "execution_count": null,
   "id": "f3bfb3ed-0651-4034-8b1a-ede148834e93",
   "metadata": {
    "tags": []
   },
   "outputs": [],
   "source": [
    "NP_Pad = pd.read_csv(\"/media/duan/DuanLab_Data/openFISH/ABA110_Demo/NP_Fold_V58.csv\", index_col=0)"
   ]
  },
  {
   "cell_type": "code",
   "execution_count": null,
   "id": "2af34d47-2ae2-4581-9d38-d6bc3766d11b",
   "metadata": {
    "tags": []
   },
   "outputs": [],
   "source": [
    "def rotate_coordinates(coords, angle):\n",
    "    theta = np.radians(angle)\n",
    "    rotation_matrix = np.array([[np.cos(theta), -np.sin(theta)],\n",
    "                               [np.sin(theta), np.cos(theta)]])\n",
    "    coords_array = np.array(coords)\n",
    "    rotated_coords = coords_array @ rotation_matrix.T\n",
    "    return rotated_coords"
   ]
  },
  {
   "cell_type": "code",
   "execution_count": null,
   "id": "eaadd9e3-89a8-48c7-a02c-8268acd4c12e",
   "metadata": {
    "tags": []
   },
   "outputs": [],
   "source": [
    "adata.obsm['spatial'] = adata.obs[['x', 'y']].to_numpy()\n",
    "adata.obsm[\"spatial\"][:,1] =  0 - adata.obsm[\"spatial\"][:,1]"
   ]
  },
  {
   "cell_type": "code",
   "execution_count": null,
   "id": "3853de38-b3e7-41ec-b731-d8caa0a67beb",
   "metadata": {
    "tags": []
   },
   "outputs": [],
   "source": [
    "sc.set_figure_params(figsize = (10,6), dpi = 100)\n",
    "sc.pl.embedding(adata, basis = 'spatial', color = 'area', size = 10)"
   ]
  },
  {
   "cell_type": "code",
   "execution_count": null,
   "id": "84e695cc-73b4-4d65-b9fd-7890c013da08",
   "metadata": {
    "tags": []
   },
   "outputs": [],
   "source": [
    "tmpmatrix = adata.to_df().copy()"
   ]
  },
  {
   "cell_type": "code",
   "execution_count": null,
   "id": "5759d616-efed-4dd1-9ed3-5495b55ae9d0",
   "metadata": {
    "tags": []
   },
   "outputs": [],
   "source": [
    "tmpmatrix = tmpmatrix.astype('float32')"
   ]
  },
  {
   "cell_type": "code",
   "execution_count": null,
   "id": "f99cfc58-7bb0-430e-a1b2-fe072698f323",
   "metadata": {
    "scrolled": true,
    "tags": []
   },
   "outputs": [],
   "source": [
    "import numpy as np\n",
    "\n",
    "for col in tmpmatrix.columns:\n",
    "    # tmpmatrix.loc[:,col] = tmpmatrix.loc[:,col] * np.log2(NP_Pad.loc[col, 'Fold'] + 1)\n",
    "    tmpmatrix.loc[:,col] = tmpmatrix.loc[:,col] * NP_Pad.loc[col, 'Fold']"
   ]
  },
  {
   "cell_type": "code",
   "execution_count": null,
   "id": "e2d69eb8-dc85-46a6-877f-aa963f600149",
   "metadata": {
    "tags": []
   },
   "outputs": [],
   "source": [
    "from scipy.sparse import csr_matrix"
   ]
  },
  {
   "cell_type": "code",
   "execution_count": null,
   "id": "32bece06-fafb-4a47-a6d3-460d9eea2269",
   "metadata": {
    "tags": []
   },
   "outputs": [],
   "source": [
    "adata.layers['counts'] = adata.X.copy()\n",
    "adata.X = csr_matrix(tmpmatrix)\n",
    "adata.layers['counts_corrected'] = adata.X.copy()"
   ]
  },
  {
   "cell_type": "code",
   "execution_count": null,
   "id": "01df87e3-5ddd-4c63-87dd-5c2603c5be20",
   "metadata": {
    "tags": []
   },
   "outputs": [],
   "source": [
    "adata"
   ]
  },
  {
   "cell_type": "code",
   "execution_count": null,
   "id": "ee80caa9-eb1c-487a-a693-ba4695faa471",
   "metadata": {},
   "outputs": [],
   "source": [
    "adata.var[\"FP\"] = adata.var_names.str.startswith(\"sFP\")"
   ]
  },
  {
   "cell_type": "code",
   "execution_count": null,
   "id": "2c0090d6-eaed-4695-a67b-dc670d670d1f",
   "metadata": {
    "tags": []
   },
   "outputs": [],
   "source": [
    "sc.pp.calculate_qc_metrics(\n",
    "    adata, inplace=True, log1p=True, percent_top=None,qc_vars=['FP']\n",
    ")"
   ]
  },
  {
   "cell_type": "code",
   "execution_count": null,
   "id": "e88d47ce-88c2-48f2-9a15-eb385322ccc8",
   "metadata": {
    "tags": []
   },
   "outputs": [],
   "source": [
    "sc.pl.violin(\n",
    "    adata,\n",
    "    [\"n_genes_by_counts\", \"total_counts\", 'pct_counts_FP'],\n",
    "    jitter=0.4,\n",
    "    multi_panel=True,\n",
    ")"
   ]
  },
  {
   "cell_type": "code",
   "execution_count": null,
   "id": "57e55559-42e2-4397-830a-706b9b9a0ff7",
   "metadata": {
    "tags": []
   },
   "outputs": [],
   "source": [
    "adata.obs['total_counts'].mean()"
   ]
  },
  {
   "cell_type": "code",
   "execution_count": null,
   "id": "10912d9b-89bf-4827-b8cb-7f1413561d6a",
   "metadata": {
    "tags": []
   },
   "outputs": [],
   "source": [
    "adata.obs['total_counts'].median()"
   ]
  },
  {
   "cell_type": "code",
   "execution_count": null,
   "id": "798102a8-9855-4469-8706-dd245be11c97",
   "metadata": {
    "tags": []
   },
   "outputs": [],
   "source": [
    "np.max(adata.obs['total_counts_FP'])"
   ]
  },
  {
   "cell_type": "code",
   "execution_count": null,
   "id": "71632892-7b3b-4e9a-af46-2296d0133b5d",
   "metadata": {
    "tags": []
   },
   "outputs": [],
   "source": [
    "adata.obs['total_counts_FP'].mean()"
   ]
  },
  {
   "cell_type": "code",
   "execution_count": null,
   "id": "076a6ba4-d9d1-47b1-9377-131343e8bffc",
   "metadata": {
    "tags": []
   },
   "outputs": [],
   "source": [
    "# Filter cells according to Cell Volume\n",
    "adata.obs[\"area\"].mean()"
   ]
  },
  {
   "cell_type": "code",
   "execution_count": null,
   "id": "accfa4f4-5651-4c03-9fb1-5d2023bb3041",
   "metadata": {
    "tags": []
   },
   "outputs": [],
   "source": [
    "np.percentile(adata.obs[\"area\"], 1)"
   ]
  },
  {
   "cell_type": "code",
   "execution_count": null,
   "id": "eb490ec6-9885-41ee-a580-e78183489b91",
   "metadata": {
    "tags": []
   },
   "outputs": [],
   "source": [
    "np.percentile(adata.obs[\"area\"], 90)"
   ]
  },
  {
   "cell_type": "code",
   "execution_count": null,
   "id": "0de5b141-bd07-461d-b208-6ac16ac40fc5",
   "metadata": {
    "tags": []
   },
   "outputs": [],
   "source": [
    "np.percentile(adata.obs[\"area\"], 50)"
   ]
  },
  {
   "cell_type": "code",
   "execution_count": null,
   "id": "cf2c0d4f-a839-4071-a49f-bd9192e3607f",
   "metadata": {
    "tags": []
   },
   "outputs": [],
   "source": [
    "adata = adata[(adata.obs[\"area\"] > 600) & (adata.obs[\"area\"] < (3 * adata.obs[\"area\"].mean())),:].copy()\n",
    "adata"
   ]
  },
  {
   "cell_type": "code",
   "execution_count": null,
   "id": "9aaba748-9364-49c9-a0dd-4ec7761323f4",
   "metadata": {
    "tags": []
   },
   "outputs": [],
   "source": [
    "adata.obs['total_counts'].median()"
   ]
  },
  {
   "cell_type": "code",
   "execution_count": null,
   "id": "08e373ee-54c9-4071-9ab8-9f368ce06b49",
   "metadata": {},
   "outputs": [],
   "source": []
  },
  {
   "cell_type": "code",
   "execution_count": null,
   "id": "28a408db-cd97-4ac0-a73c-8d8380ccfa32",
   "metadata": {},
   "outputs": [],
   "source": [
    "adata = adata[adata.obs.pct_counts_FP < 10, :].copy()\n",
    "sc.pp.filter_cells(adata, min_genes=3)\n",
    "sc.pp.filter_cells(adata, max_counts=1000)\n",
    "sc.pp.filter_cells(adata, min_counts=10)"
   ]
  },
  {
   "cell_type": "code",
   "execution_count": null,
   "id": "d0cd79c0-cbd4-451c-ba05-13e50f6ee234",
   "metadata": {
    "tags": []
   },
   "outputs": [],
   "source": [
    "adata"
   ]
  },
  {
   "cell_type": "code",
   "execution_count": null,
   "id": "9e8390cc-7b64-45c1-b4a5-1bf0e7ae9d98",
   "metadata": {
    "tags": []
   },
   "outputs": [],
   "source": [
    "adata.var_names"
   ]
  },
  {
   "cell_type": "code",
   "execution_count": null,
   "id": "03d45fcd-a9bb-4f79-a979-1f1a7370b3ad",
   "metadata": {},
   "outputs": [],
   "source": [
    "adata.obs['total_counts'].median()"
   ]
  },
  {
   "cell_type": "code",
   "execution_count": null,
   "id": "97b3271b-e85f-4aa4-8dca-c7bee0143cb0",
   "metadata": {
    "tags": []
   },
   "outputs": [],
   "source": [
    "BLACK_LIST = ['sFP']"
   ]
  },
  {
   "cell_type": "code",
   "execution_count": null,
   "id": "a72ca1b7-2530-4b34-9dcc-55804931cfd3",
   "metadata": {
    "tags": []
   },
   "outputs": [],
   "source": [
    "adata = adata[:, [x for x in adata.var_names if x not in BLACK_LIST]].copy()"
   ]
  },
  {
   "cell_type": "code",
   "execution_count": null,
   "id": "1d219640-3521-4b3a-bc3b-7b61d738452e",
   "metadata": {
    "tags": []
   },
   "outputs": [],
   "source": [
    "adata"
   ]
  },
  {
   "cell_type": "code",
   "execution_count": null,
   "id": "2871bdb9-af92-47c6-9c67-b3918bb59001",
   "metadata": {
    "tags": []
   },
   "outputs": [],
   "source": [
    "# Normalize using cell area\n",
    "from scipy.sparse import csr_matrix\n",
    "cell_area = np.array(adata.obs[\"area\"])\n",
    "# cell_area = cell_area.reshape((len(cell_area),1))\n",
    "adata.X = csr_matrix((adata.X.T / cell_area).T)"
   ]
  },
  {
   "cell_type": "code",
   "execution_count": null,
   "id": "7e848d43-985b-46a5-8706-80f240c2507b",
   "metadata": {
    "tags": []
   },
   "outputs": [],
   "source": [
    "# Normalizing to library size\n",
    "sc.pp.normalize_total(adata, target_sum=109)\n",
    "# Logarithmize the data\n",
    "sc.pp.log1p(adata)"
   ]
  },
  {
   "cell_type": "code",
   "execution_count": null,
   "id": "9f33c9c0-aaa2-4a75-900f-3042fd747d02",
   "metadata": {
    "tags": []
   },
   "outputs": [],
   "source": [
    "sc.pl.embedding(adata, basis=\"spatial\", color=\"Slc17a7\", size = 5)"
   ]
  },
  {
   "cell_type": "code",
   "execution_count": null,
   "id": "26c4884c-cc17-4f8a-b8d5-bf9d93fac607",
   "metadata": {
    "scrolled": true,
    "tags": []
   },
   "outputs": [],
   "source": [
    "sc.tl.pca(adata)\n",
    "sc.pp.neighbors(adata)\n",
    "sc.tl.umap(adata)"
   ]
  },
  {
   "cell_type": "code",
   "execution_count": null,
   "id": "8c9879d8-1b72-4ecc-9017-5f27e50a629c",
   "metadata": {
    "tags": []
   },
   "outputs": [],
   "source": [
    "# Using the igraph implementation and a fixed number of iterations can be significantly faster, especially for larger datasets\n",
    "sc.tl.leiden(adata, resolution=2, flavor=\"igraph\",n_iterations=-1)"
   ]
  },
  {
   "cell_type": "code",
   "execution_count": null,
   "id": "6286eaec-0929-4b2e-9a0c-3461f622549b",
   "metadata": {
    "tags": []
   },
   "outputs": [],
   "source": [
    "sc.pl.umap(adata, color = 'leiden')"
   ]
  },
  {
   "cell_type": "code",
   "execution_count": null,
   "id": "2b861af6-0fcc-4d21-b2e1-3ea7ff9a8e0c",
   "metadata": {
    "tags": []
   },
   "outputs": [],
   "source": [
    "sc.pl.embedding(adata, basis=\"spatial\", color=\"leiden\", size = 7)"
   ]
  },
  {
   "cell_type": "code",
   "execution_count": null,
   "id": "65a0447e-e5e4-4fc2-89b3-ad0a71a7711b",
   "metadata": {
    "tags": []
   },
   "outputs": [],
   "source": [
    "adata"
   ]
  },
  {
   "cell_type": "code",
   "execution_count": null,
   "id": "ebd90ea7-13ab-462b-98f4-73e70728d298",
   "metadata": {
    "tags": []
   },
   "outputs": [],
   "source": [
    "adata.layers['norm'] = adata.X.copy()"
   ]
  },
  {
   "cell_type": "code",
   "execution_count": null,
   "id": "ab611723-2e7a-4a85-aa0d-a2b47f4b221a",
   "metadata": {},
   "outputs": [],
   "source": []
  },
  {
   "cell_type": "code",
   "execution_count": null,
   "id": "eb40cd12-a573-4283-810e-48d9cd1fdff2",
   "metadata": {},
   "outputs": [],
   "source": []
  },
  {
   "cell_type": "code",
   "execution_count": null,
   "id": "40ec51bf-90d1-4eab-a7a7-facc73ba504e",
   "metadata": {
    "tags": []
   },
   "outputs": [],
   "source": [
    "adata.write_h5ad(\"./RelnKO_filtered.h5ad\")"
   ]
  },
  {
   "cell_type": "code",
   "execution_count": null,
   "id": "3fe7c45b-f0ed-48e4-9eaf-5e5920c7633b",
   "metadata": {},
   "outputs": [],
   "source": []
  },
  {
   "cell_type": "code",
   "execution_count": null,
   "id": "10cba30d-222d-4a01-ac70-aef9fea57fc6",
   "metadata": {
    "tags": []
   },
   "outputs": [],
   "source": [
    "import scanpy as sc\n",
    "import numpy as np\n",
    "import pandas as pd\n",
    "from spatialdata import read_zarr"
   ]
  },
  {
   "cell_type": "code",
   "execution_count": null,
   "id": "c48f5ced-c192-48ea-8115-2e1356722e87",
   "metadata": {
    "tags": []
   },
   "outputs": [],
   "source": [
    "sdata = read_zarr('/media/duan/DuanLab_Data/openFISH/Reln/Reln_0624/WT/raw_sdata.zarr')\n",
    "sdata"
   ]
  },
  {
   "cell_type": "code",
   "execution_count": null,
   "id": "b49ff749-6eac-4faa-80ec-107995db6763",
   "metadata": {
    "tags": []
   },
   "outputs": [],
   "source": [
    "areas = []\n",
    "for pg in sdata.shapes[\"MultiModel\"][\"geometry\"]:\n",
    "    areas.append(pg.area)"
   ]
  },
  {
   "cell_type": "code",
   "execution_count": null,
   "id": "bddf4100-e78a-49e6-8566-ed5ac3c91781",
   "metadata": {
    "tags": []
   },
   "outputs": [],
   "source": [
    "adata = sdata.tables['table'].copy()"
   ]
  },
  {
   "cell_type": "code",
   "execution_count": null,
   "id": "bcd92bcb-f9d6-4a28-b804-bdcd63a7f0fd",
   "metadata": {
    "tags": []
   },
   "outputs": [],
   "source": [
    "adata.obs['area'] = areas\n",
    "adata.obs"
   ]
  },
  {
   "cell_type": "code",
   "execution_count": null,
   "id": "a43892bd-86f8-473f-aa68-6142d7118c21",
   "metadata": {
    "tags": []
   },
   "outputs": [],
   "source": [
    "NP_Pad = pd.read_csv(\"/media/duan/DuanLab_Data/openFISH/Reln/Reln_0624/NP_Fold_V58.csv\", index_col=0)"
   ]
  },
  {
   "cell_type": "code",
   "execution_count": null,
   "id": "38404fb9-8e68-4e47-9acc-003d7d5f61af",
   "metadata": {
    "tags": []
   },
   "outputs": [],
   "source": [
    "def rotate_coordinates(coords, angle):\n",
    "    theta = np.radians(angle)\n",
    "    rotation_matrix = np.array([[np.cos(theta), -np.sin(theta)],\n",
    "                               [np.sin(theta), np.cos(theta)]])\n",
    "    coords_array = np.array(coords)\n",
    "    rotated_coords = coords_array @ rotation_matrix.T\n",
    "    return rotated_coords"
   ]
  },
  {
   "cell_type": "code",
   "execution_count": null,
   "id": "21f5f008-764e-4a30-8334-c234166322c9",
   "metadata": {
    "tags": []
   },
   "outputs": [],
   "source": [
    "adata.obsm['spatial'] = adata.obs[['x', 'y']].to_numpy()\n",
    "adata.obsm[\"spatial\"][:,1] =  0 - adata.obsm[\"spatial\"][:,1]"
   ]
  },
  {
   "cell_type": "code",
   "execution_count": null,
   "id": "6dc5e082-ccaa-4ebd-b9cc-13ab4b7a1841",
   "metadata": {
    "tags": []
   },
   "outputs": [],
   "source": [
    "sc.set_figure_params(figsize = (12,6), dpi = 100)\n",
    "sc.pl.embedding(adata, basis = 'spatial', color = 'area', size = 10)"
   ]
  },
  {
   "cell_type": "code",
   "execution_count": null,
   "id": "6c44ba5a-2127-49e8-bd63-02bc94b935fb",
   "metadata": {
    "tags": []
   },
   "outputs": [],
   "source": [
    "tmpmatrix = adata.to_df().copy()"
   ]
  },
  {
   "cell_type": "code",
   "execution_count": null,
   "id": "920c3ff8-e16d-4c80-baee-bb9d460f32ee",
   "metadata": {
    "tags": []
   },
   "outputs": [],
   "source": [
    "tmpmatrix = tmpmatrix.astype('float32')"
   ]
  },
  {
   "cell_type": "code",
   "execution_count": null,
   "id": "6ec0fe0e-1080-4f1d-aa2f-ae6fc1447180",
   "metadata": {
    "scrolled": true,
    "tags": []
   },
   "outputs": [],
   "source": [
    "import numpy as np\n",
    "\n",
    "for col in tmpmatrix.columns:\n",
    "    # tmpmatrix.loc[:,col] = tmpmatrix.loc[:,col] * np.log2(NP_Pad.loc[col, 'Fold'] + 1)\n",
    "    tmpmatrix.loc[:,col] = tmpmatrix.loc[:,col] * NP_Pad.loc[col, 'Fold']"
   ]
  },
  {
   "cell_type": "code",
   "execution_count": null,
   "id": "ddc96094-94f9-4553-bc7e-060122c94d08",
   "metadata": {
    "tags": []
   },
   "outputs": [],
   "source": [
    "from scipy.sparse import csr_matrix"
   ]
  },
  {
   "cell_type": "code",
   "execution_count": null,
   "id": "686512b7-7588-4845-8522-1fd553935560",
   "metadata": {
    "tags": []
   },
   "outputs": [],
   "source": [
    "adata.layers['counts'] = adata.X.copy()\n",
    "adata.X = csr_matrix(tmpmatrix)\n",
    "adata.layers['counts_corrected'] = adata.X.copy()"
   ]
  },
  {
   "cell_type": "code",
   "execution_count": null,
   "id": "87b8bd26-6829-43a1-9c79-f12dc8a4d35b",
   "metadata": {
    "tags": []
   },
   "outputs": [],
   "source": [
    "adata"
   ]
  },
  {
   "cell_type": "code",
   "execution_count": null,
   "id": "3dfb788f-57b8-4d46-866b-74439c9adddc",
   "metadata": {},
   "outputs": [],
   "source": [
    "adata.var[\"FP\"] = adata.var_names.str.startswith(\"False\")"
   ]
  },
  {
   "cell_type": "code",
   "execution_count": null,
   "id": "05d83323-30fc-4e96-b69a-e4cfd9218157",
   "metadata": {
    "tags": []
   },
   "outputs": [],
   "source": [
    "sc.pp.calculate_qc_metrics(\n",
    "    adata, inplace=True, log1p=True, percent_top=None,qc_vars=['FP']\n",
    ")"
   ]
  },
  {
   "cell_type": "code",
   "execution_count": null,
   "id": "edf4100b-7c42-4714-95a6-13c73b59b8a5",
   "metadata": {
    "tags": []
   },
   "outputs": [],
   "source": [
    "sc.pl.violin(\n",
    "    adata,\n",
    "    [\"n_genes_by_counts\", \"total_counts\", 'pct_counts_FP'],\n",
    "    jitter=0.4,\n",
    "    multi_panel=True,\n",
    ")"
   ]
  },
  {
   "cell_type": "code",
   "execution_count": null,
   "id": "ae90a35a-a4bd-4b89-ac83-db9f6caf2a36",
   "metadata": {
    "tags": []
   },
   "outputs": [],
   "source": [
    "adata.obs['total_counts'].mean()"
   ]
  },
  {
   "cell_type": "code",
   "execution_count": null,
   "id": "595924d7-75ac-4ec3-b631-28e1a6ff4560",
   "metadata": {
    "tags": []
   },
   "outputs": [],
   "source": [
    "adata.obs['total_counts'].median()"
   ]
  },
  {
   "cell_type": "code",
   "execution_count": null,
   "id": "364671fe-6e29-4dd9-9605-bd449fa07cb9",
   "metadata": {
    "tags": []
   },
   "outputs": [],
   "source": [
    "np.max(adata.obs['total_counts_FP'])"
   ]
  },
  {
   "cell_type": "code",
   "execution_count": null,
   "id": "d825627c-1a74-4c63-baa0-da652737e6d6",
   "metadata": {
    "tags": []
   },
   "outputs": [],
   "source": [
    "adata.obs['total_counts_FP'].mean()"
   ]
  },
  {
   "cell_type": "code",
   "execution_count": null,
   "id": "32fe7ce0-8c0b-4277-b286-4b8ac40afe43",
   "metadata": {
    "tags": []
   },
   "outputs": [],
   "source": [
    "adata.obs['pct_counts_FP'].mean()"
   ]
  },
  {
   "cell_type": "code",
   "execution_count": null,
   "id": "2b48f20a-093c-491a-8c3a-cd69e60be8e8",
   "metadata": {
    "tags": []
   },
   "outputs": [],
   "source": [
    "# Filter cells according to Cell Volume\n",
    "adata.obs[\"area\"].mean()"
   ]
  },
  {
   "cell_type": "code",
   "execution_count": null,
   "id": "bd28bae9-1dd9-402d-a835-27cc750d06d3",
   "metadata": {
    "tags": []
   },
   "outputs": [],
   "source": [
    "np.percentile(adata.obs[\"area\"], 1)"
   ]
  },
  {
   "cell_type": "code",
   "execution_count": null,
   "id": "11c219b6-5dab-4696-bd13-fda857ef7913",
   "metadata": {
    "tags": []
   },
   "outputs": [],
   "source": [
    "np.percentile(adata.obs[\"area\"], 90)"
   ]
  },
  {
   "cell_type": "code",
   "execution_count": null,
   "id": "a0d4ba55-8afe-4067-b53a-01c63dd2339f",
   "metadata": {
    "tags": []
   },
   "outputs": [],
   "source": [
    "np.percentile(adata.obs[\"area\"], 50)"
   ]
  },
  {
   "cell_type": "code",
   "execution_count": null,
   "id": "99cb6e2f-f776-4d83-8b06-1ff2cf256d5b",
   "metadata": {
    "tags": []
   },
   "outputs": [],
   "source": [
    "adata = adata[(adata.obs[\"area\"] > 600) & (adata.obs[\"area\"] < (3 * adata.obs[\"area\"].mean())),:].copy()\n",
    "adata"
   ]
  },
  {
   "cell_type": "code",
   "execution_count": null,
   "id": "2784995d-390b-4a24-b225-bf6918f312ad",
   "metadata": {
    "tags": []
   },
   "outputs": [],
   "source": [
    "adata.obs['total_counts'].median()"
   ]
  },
  {
   "cell_type": "code",
   "execution_count": null,
   "id": "7d36bbec-908f-4da3-9f2e-b0d3bc217971",
   "metadata": {},
   "outputs": [],
   "source": []
  },
  {
   "cell_type": "code",
   "execution_count": null,
   "id": "2015652d-40fe-459b-bed1-7dfd3fe47220",
   "metadata": {},
   "outputs": [],
   "source": [
    "adata = adata[adata.obs.pct_counts_FP < 10, :].copy()\n",
    "sc.pp.filter_cells(adata, min_genes=2)\n",
    "sc.pp.filter_cells(adata, max_counts=800)\n",
    "sc.pp.filter_cells(adata, min_counts=10)"
   ]
  },
  {
   "cell_type": "code",
   "execution_count": null,
   "id": "1a2905c7-8186-44cb-9b49-c2f6b7f72b45",
   "metadata": {
    "tags": []
   },
   "outputs": [],
   "source": [
    "adata"
   ]
  },
  {
   "cell_type": "code",
   "execution_count": null,
   "id": "8664fd12-1ecd-470a-950d-9d17f89acea4",
   "metadata": {
    "tags": []
   },
   "outputs": [],
   "source": [
    "adata.var_names"
   ]
  },
  {
   "cell_type": "code",
   "execution_count": null,
   "id": "ac4d2741-0d06-40bf-8de7-d4b5e1688c84",
   "metadata": {},
   "outputs": [],
   "source": [
    "adata.obs['total_counts'].median()"
   ]
  },
  {
   "cell_type": "code",
   "execution_count": null,
   "id": "bbdb2f7a-d276-4d5a-b962-92f52a46df2b",
   "metadata": {
    "tags": []
   },
   "outputs": [],
   "source": [
    "BLACK_LIST = ['FalsePositive', 'Dlk1']"
   ]
  },
  {
   "cell_type": "code",
   "execution_count": null,
   "id": "8e44f683-40c5-4ce2-845c-5fc65df1a660",
   "metadata": {
    "tags": []
   },
   "outputs": [],
   "source": [
    "adata = adata[:, [x for x in adata.var_names if x not in BLACK_LIST]].copy()"
   ]
  },
  {
   "cell_type": "code",
   "execution_count": null,
   "id": "91658e92-b6bf-45b7-b311-64998b6e4416",
   "metadata": {
    "tags": []
   },
   "outputs": [],
   "source": [
    "adata"
   ]
  },
  {
   "cell_type": "code",
   "execution_count": null,
   "id": "a1ab4618-f822-48b4-ba86-57cf0facafe7",
   "metadata": {
    "tags": []
   },
   "outputs": [],
   "source": [
    "# Normalize using cell area\n",
    "from scipy.sparse import csr_matrix\n",
    "cell_area = np.array(adata.obs[\"area\"])\n",
    "# cell_area = cell_area.reshape((len(cell_area),1))\n",
    "adata.X = csr_matrix((adata.X.T / cell_area).T)"
   ]
  },
  {
   "cell_type": "code",
   "execution_count": null,
   "id": "6bdbda5c-8bdf-40d7-934f-da607a0d23a0",
   "metadata": {
    "tags": []
   },
   "outputs": [],
   "source": [
    "# Normalizing to library size\n",
    "sc.pp.normalize_total(adata, target_sum=109)\n",
    "# Logarithmize the data\n",
    "sc.pp.log1p(adata)"
   ]
  },
  {
   "cell_type": "code",
   "execution_count": null,
   "id": "faf85424-2471-41d3-87ab-8fc80480fa31",
   "metadata": {
    "tags": []
   },
   "outputs": [],
   "source": [
    "sc.pl.embedding(adata, basis=\"spatial\", color=\"Slc17a7\", size = 5)"
   ]
  },
  {
   "cell_type": "code",
   "execution_count": null,
   "id": "f5bb52a9-7582-4c26-aff7-fee9e24dce4f",
   "metadata": {
    "scrolled": true,
    "tags": []
   },
   "outputs": [],
   "source": [
    "sc.tl.pca(adata)\n",
    "sc.pp.neighbors(adata)\n",
    "sc.tl.umap(adata)"
   ]
  },
  {
   "cell_type": "code",
   "execution_count": null,
   "id": "85fcc97f-720f-4322-9707-14eb93571075",
   "metadata": {
    "tags": []
   },
   "outputs": [],
   "source": [
    "# Using the igraph implementation and a fixed number of iterations can be significantly faster, especially for larger datasets\n",
    "sc.tl.leiden(adata, resolution=2, flavor=\"igraph\",n_iterations=-1)"
   ]
  },
  {
   "cell_type": "code",
   "execution_count": null,
   "id": "0c24c55c-b845-4a64-93be-c20c41a3c86b",
   "metadata": {
    "tags": []
   },
   "outputs": [],
   "source": [
    "sc.pl.umap(adata, color = 'leiden')"
   ]
  },
  {
   "cell_type": "code",
   "execution_count": null,
   "id": "10428f45-3151-42e8-a556-034e28a4d435",
   "metadata": {
    "tags": []
   },
   "outputs": [],
   "source": [
    "sc.pl.embedding(adata, basis=\"spatial\", color=\"leiden\", size = 5)"
   ]
  },
  {
   "cell_type": "code",
   "execution_count": null,
   "id": "459830f8-2584-41b8-a8f9-ba24f1a8e89a",
   "metadata": {
    "tags": []
   },
   "outputs": [],
   "source": [
    "adata"
   ]
  },
  {
   "cell_type": "code",
   "execution_count": null,
   "id": "6f7bd149-00e3-4b7b-8ca7-74ceb440df4e",
   "metadata": {
    "tags": []
   },
   "outputs": [],
   "source": [
    "adata.layers['norm'] = adata.X.copy()"
   ]
  },
  {
   "cell_type": "code",
   "execution_count": null,
   "id": "65ccb915-8509-48bc-b9a1-711e7ab89803",
   "metadata": {},
   "outputs": [],
   "source": []
  },
  {
   "cell_type": "code",
   "execution_count": null,
   "id": "099895c2-3060-4f7d-809a-e44079fa1f5e",
   "metadata": {},
   "outputs": [],
   "source": []
  },
  {
   "cell_type": "code",
   "execution_count": null,
   "id": "661a71fd-014f-4a52-9612-199d99355f74",
   "metadata": {
    "tags": []
   },
   "outputs": [],
   "source": [
    "adata.write_h5ad(\"./RelnWT_0624_filtered.h5ad\")"
   ]
  },
  {
   "cell_type": "code",
   "execution_count": null,
   "id": "d9dad212-3d6c-4d6f-b5bd-517ff2be45d5",
   "metadata": {},
   "outputs": [],
   "source": []
  },
  {
   "cell_type": "code",
   "execution_count": null,
   "id": "c46c524d-26e6-4466-905e-b917061997b9",
   "metadata": {
    "tags": []
   },
   "outputs": [],
   "source": [
    "sdata = read_zarr('/media/duan/DuanLab_Data/openFISH/Reln/Reln_0624/KO/raw_sdata.zarr')\n",
    "sdata"
   ]
  },
  {
   "cell_type": "code",
   "execution_count": null,
   "id": "a51f5fcd-962e-4fde-a7b4-9889280d1b3e",
   "metadata": {
    "tags": []
   },
   "outputs": [],
   "source": [
    "areas = []\n",
    "for pg in sdata.shapes[\"MultiModel\"][\"geometry\"]:\n",
    "    areas.append(pg.area)"
   ]
  },
  {
   "cell_type": "code",
   "execution_count": null,
   "id": "fa7328d0-95fb-47a8-a27c-ae1d49f00b73",
   "metadata": {
    "tags": []
   },
   "outputs": [],
   "source": [
    "adata = sdata.tables['table'].copy()"
   ]
  },
  {
   "cell_type": "code",
   "execution_count": null,
   "id": "5ccb42d2-d543-45d9-80fa-c6d7889c2908",
   "metadata": {
    "tags": []
   },
   "outputs": [],
   "source": [
    "adata.obs['area'] = areas\n",
    "adata.obs"
   ]
  },
  {
   "cell_type": "code",
   "execution_count": null,
   "id": "11ae586d-1af9-445d-91a9-eafb10488802",
   "metadata": {
    "tags": []
   },
   "outputs": [],
   "source": [
    "NP_Pad = pd.read_csv(\"/media/duan/DuanLab_Data/openFISH/Reln/Reln_0624/NP_Fold_V58.csv\", index_col=0)"
   ]
  },
  {
   "cell_type": "code",
   "execution_count": null,
   "id": "965ba4e0-6001-404b-ab78-0312aafd9d43",
   "metadata": {
    "tags": []
   },
   "outputs": [],
   "source": [
    "def rotate_coordinates(coords, angle):\n",
    "    theta = np.radians(angle)\n",
    "    rotation_matrix = np.array([[np.cos(theta), -np.sin(theta)],\n",
    "                               [np.sin(theta), np.cos(theta)]])\n",
    "    coords_array = np.array(coords)\n",
    "    rotated_coords = coords_array @ rotation_matrix.T\n",
    "    return rotated_coords"
   ]
  },
  {
   "cell_type": "code",
   "execution_count": null,
   "id": "1346823d-55a8-430a-b733-d16ffd1b6980",
   "metadata": {
    "tags": []
   },
   "outputs": [],
   "source": [
    "adata.obsm['spatial'] = adata.obs[['x', 'y']].to_numpy()\n",
    "adata.obsm[\"spatial\"][:,1] =  0 - adata.obsm[\"spatial\"][:,1]"
   ]
  },
  {
   "cell_type": "code",
   "execution_count": null,
   "id": "f3367854-3a42-4d8d-b27d-1742e029cc1a",
   "metadata": {
    "tags": []
   },
   "outputs": [],
   "source": [
    "sc.set_figure_params(figsize = (10,6), dpi = 100)\n",
    "sc.pl.embedding(adata, basis = 'spatial', color = 'area', size = 10)"
   ]
  },
  {
   "cell_type": "code",
   "execution_count": null,
   "id": "a7eeba99-b481-4c0a-85f8-7dc77fde9992",
   "metadata": {
    "tags": []
   },
   "outputs": [],
   "source": [
    "tmpmatrix = adata.to_df().copy()"
   ]
  },
  {
   "cell_type": "code",
   "execution_count": null,
   "id": "fc85c423-eab6-4464-bf2f-7c6ef1f9954e",
   "metadata": {
    "tags": []
   },
   "outputs": [],
   "source": [
    "tmpmatrix = tmpmatrix.astype('float32')"
   ]
  },
  {
   "cell_type": "code",
   "execution_count": null,
   "id": "faf2c614-4356-4031-a617-3260cedfae06",
   "metadata": {
    "scrolled": true,
    "tags": []
   },
   "outputs": [],
   "source": [
    "import numpy as np\n",
    "\n",
    "for col in tmpmatrix.columns:\n",
    "    # tmpmatrix.loc[:,col] = tmpmatrix.loc[:,col] * np.log2(NP_Pad.loc[col, 'Fold'] + 1)\n",
    "    tmpmatrix.loc[:,col] = tmpmatrix.loc[:,col] * NP_Pad.loc[col, 'Fold']"
   ]
  },
  {
   "cell_type": "code",
   "execution_count": null,
   "id": "cf37955c-b5d5-4678-96b4-b2e13ffee08e",
   "metadata": {
    "tags": []
   },
   "outputs": [],
   "source": [
    "from scipy.sparse import csr_matrix"
   ]
  },
  {
   "cell_type": "code",
   "execution_count": null,
   "id": "69365036-6858-4820-84d1-e3dde5fffc41",
   "metadata": {
    "tags": []
   },
   "outputs": [],
   "source": [
    "adata.layers['counts'] = adata.X.copy()\n",
    "adata.X = csr_matrix(tmpmatrix)\n",
    "adata.layers['counts_corrected'] = adata.X.copy()"
   ]
  },
  {
   "cell_type": "code",
   "execution_count": null,
   "id": "61c4f0ea-1962-4b3b-9423-9f7d3e65379b",
   "metadata": {
    "tags": []
   },
   "outputs": [],
   "source": [
    "adata"
   ]
  },
  {
   "cell_type": "code",
   "execution_count": null,
   "id": "b0b935f2-f15a-45dd-9ff1-cae12ff3a4dc",
   "metadata": {},
   "outputs": [],
   "source": [
    "adata.var[\"FP\"] = adata.var_names.str.startswith(\"False\")"
   ]
  },
  {
   "cell_type": "code",
   "execution_count": null,
   "id": "99f285ad-b75b-4657-a8eb-53d35d5457cb",
   "metadata": {
    "tags": []
   },
   "outputs": [],
   "source": [
    "sc.pp.calculate_qc_metrics(\n",
    "    adata, inplace=True, log1p=True, percent_top=None,qc_vars=['FP']\n",
    ")"
   ]
  },
  {
   "cell_type": "code",
   "execution_count": null,
   "id": "5ef81180-7af4-44d3-b542-7d4e6a9bb5e9",
   "metadata": {
    "tags": []
   },
   "outputs": [],
   "source": [
    "sc.pl.violin(\n",
    "    adata,\n",
    "    [\"n_genes_by_counts\", \"total_counts\", 'pct_counts_FP'],\n",
    "    jitter=0.4,\n",
    "    multi_panel=True,\n",
    ")"
   ]
  },
  {
   "cell_type": "code",
   "execution_count": null,
   "id": "5d4f4582-1411-43e2-8bed-dc76e451ef5c",
   "metadata": {
    "tags": []
   },
   "outputs": [],
   "source": [
    "adata.obs['total_counts'].mean()"
   ]
  },
  {
   "cell_type": "code",
   "execution_count": null,
   "id": "c222db4a-2428-493d-814a-58b57535939e",
   "metadata": {
    "tags": []
   },
   "outputs": [],
   "source": [
    "adata.obs['total_counts'].median()"
   ]
  },
  {
   "cell_type": "code",
   "execution_count": null,
   "id": "7ab5bac9-baf5-46ae-8755-0f16f9e0d194",
   "metadata": {
    "tags": []
   },
   "outputs": [],
   "source": [
    "np.max(adata.obs['total_counts_FP'])"
   ]
  },
  {
   "cell_type": "code",
   "execution_count": null,
   "id": "582a0178-06c6-482c-bea1-121ad0f91a53",
   "metadata": {
    "tags": []
   },
   "outputs": [],
   "source": [
    "adata.obs['total_counts_FP'].mean()"
   ]
  },
  {
   "cell_type": "code",
   "execution_count": null,
   "id": "ca3da2e9-4699-4e9e-864f-ad0cae4466d7",
   "metadata": {
    "tags": []
   },
   "outputs": [],
   "source": [
    "# Filter cells according to Cell Volume\n",
    "adata.obs[\"area\"].mean()"
   ]
  },
  {
   "cell_type": "code",
   "execution_count": null,
   "id": "9e32cfda-e3e8-41a9-a33b-27e7022f603c",
   "metadata": {
    "tags": []
   },
   "outputs": [],
   "source": [
    "np.percentile(adata.obs[\"area\"], 1)"
   ]
  },
  {
   "cell_type": "code",
   "execution_count": null,
   "id": "0233c67a-101b-4bf8-a0ce-d7981447cc21",
   "metadata": {
    "tags": []
   },
   "outputs": [],
   "source": [
    "np.percentile(adata.obs[\"area\"], 90)"
   ]
  },
  {
   "cell_type": "code",
   "execution_count": null,
   "id": "3b2ccea0-c74c-4731-81eb-44cdc8e224c4",
   "metadata": {
    "tags": []
   },
   "outputs": [],
   "source": [
    "np.percentile(adata.obs[\"area\"], 50)"
   ]
  },
  {
   "cell_type": "code",
   "execution_count": null,
   "id": "dae3848e-ddab-4377-8470-eaaaaff60091",
   "metadata": {
    "tags": []
   },
   "outputs": [],
   "source": [
    "adata = adata[(adata.obs[\"area\"] > 600) & (adata.obs[\"area\"] < (3 * adata.obs[\"area\"].mean())),:].copy()\n",
    "adata"
   ]
  },
  {
   "cell_type": "code",
   "execution_count": null,
   "id": "8343ea6d-8dd3-4098-a74a-2c3531a98307",
   "metadata": {
    "tags": []
   },
   "outputs": [],
   "source": [
    "adata.obs['total_counts'].median()"
   ]
  },
  {
   "cell_type": "code",
   "execution_count": null,
   "id": "56ab9bc2-6100-4f69-bb96-3c1bdb776022",
   "metadata": {},
   "outputs": [],
   "source": []
  },
  {
   "cell_type": "code",
   "execution_count": null,
   "id": "e287a908-822c-408f-8e7a-4301483bc3e8",
   "metadata": {},
   "outputs": [],
   "source": [
    "adata = adata[adata.obs.pct_counts_FP < 10, :].copy()\n",
    "sc.pp.filter_cells(adata, min_genes=3)\n",
    "sc.pp.filter_cells(adata, max_counts=1000)\n",
    "sc.pp.filter_cells(adata, min_counts=10)"
   ]
  },
  {
   "cell_type": "code",
   "execution_count": null,
   "id": "ad58c292-99c2-4a7d-9d1e-1bf9a74efc4f",
   "metadata": {
    "tags": []
   },
   "outputs": [],
   "source": [
    "adata"
   ]
  },
  {
   "cell_type": "code",
   "execution_count": null,
   "id": "81ef09b3-544f-45e7-85c6-8bca81113a11",
   "metadata": {
    "tags": []
   },
   "outputs": [],
   "source": [
    "adata.var_names"
   ]
  },
  {
   "cell_type": "code",
   "execution_count": null,
   "id": "be825514-2f5a-476c-ba38-a81379488694",
   "metadata": {},
   "outputs": [],
   "source": [
    "adata.obs['total_counts'].median()"
   ]
  },
  {
   "cell_type": "code",
   "execution_count": null,
   "id": "0467766b-a213-45a6-91c0-af00abd40e4c",
   "metadata": {
    "tags": []
   },
   "outputs": [],
   "source": [
    "BLACK_LIST = ['FalsePositive', 'Dlk1']"
   ]
  },
  {
   "cell_type": "code",
   "execution_count": null,
   "id": "adcb3c0e-9ba4-409f-afeb-a340acc1c783",
   "metadata": {
    "tags": []
   },
   "outputs": [],
   "source": [
    "adata = adata[:, [x for x in adata.var_names if x not in BLACK_LIST]].copy()"
   ]
  },
  {
   "cell_type": "code",
   "execution_count": null,
   "id": "42542f98-966b-4573-9f39-0c9c6e5aeab9",
   "metadata": {
    "tags": []
   },
   "outputs": [],
   "source": [
    "adata"
   ]
  },
  {
   "cell_type": "code",
   "execution_count": null,
   "id": "1c8f8455-0f4a-4469-85c0-7b6edc2538cd",
   "metadata": {
    "tags": []
   },
   "outputs": [],
   "source": [
    "# Normalize using cell area\n",
    "from scipy.sparse import csr_matrix\n",
    "cell_area = np.array(adata.obs[\"area\"])\n",
    "# cell_area = cell_area.reshape((len(cell_area),1))\n",
    "adata.X = csr_matrix((adata.X.T / cell_area).T)"
   ]
  },
  {
   "cell_type": "code",
   "execution_count": null,
   "id": "cc14e08d-5501-4a52-a09f-e09581f63b73",
   "metadata": {
    "tags": []
   },
   "outputs": [],
   "source": [
    "# Normalizing to library size\n",
    "sc.pp.normalize_total(adata, target_sum=109)\n",
    "# Logarithmize the data\n",
    "sc.pp.log1p(adata)"
   ]
  },
  {
   "cell_type": "code",
   "execution_count": null,
   "id": "276859e8-e8f6-4b93-85ad-29ba032b15e5",
   "metadata": {
    "tags": []
   },
   "outputs": [],
   "source": [
    "sc.pl.embedding(adata, basis=\"spatial\", color=\"Slc17a7\", size = 5)"
   ]
  },
  {
   "cell_type": "code",
   "execution_count": null,
   "id": "ff8c732c-5ed1-4fc0-9f7e-0463afc4c403",
   "metadata": {
    "scrolled": true,
    "tags": []
   },
   "outputs": [],
   "source": [
    "sc.tl.pca(adata)\n",
    "sc.pp.neighbors(adata)\n",
    "sc.tl.umap(adata)"
   ]
  },
  {
   "cell_type": "code",
   "execution_count": null,
   "id": "bc6fbfcf-bef5-443f-acb4-4fb588759231",
   "metadata": {
    "tags": []
   },
   "outputs": [],
   "source": [
    "# Using the igraph implementation and a fixed number of iterations can be significantly faster, especially for larger datasets\n",
    "sc.tl.leiden(adata, resolution=2, flavor=\"igraph\",n_iterations=-1)"
   ]
  },
  {
   "cell_type": "code",
   "execution_count": null,
   "id": "ff0a4fa5-66ff-4953-8148-69df03f9a973",
   "metadata": {
    "tags": []
   },
   "outputs": [],
   "source": [
    "sc.pl.umap(adata, color = 'leiden')"
   ]
  },
  {
   "cell_type": "code",
   "execution_count": null,
   "id": "4c58e23c-f8c1-4d36-a45f-7200ed029d9e",
   "metadata": {
    "tags": []
   },
   "outputs": [],
   "source": [
    "sc.pl.embedding(adata, basis=\"spatial\", color=\"leiden\", size = 7)"
   ]
  },
  {
   "cell_type": "code",
   "execution_count": null,
   "id": "7e698308-66c7-4c85-95fa-8b5d9ae6dae9",
   "metadata": {
    "tags": []
   },
   "outputs": [],
   "source": [
    "adata"
   ]
  },
  {
   "cell_type": "code",
   "execution_count": null,
   "id": "6118a6c7-c07f-405b-a1d8-08614ca7bbaa",
   "metadata": {
    "tags": []
   },
   "outputs": [],
   "source": [
    "adata.layers['norm'] = adata.X.copy()"
   ]
  },
  {
   "cell_type": "code",
   "execution_count": null,
   "id": "523f99f2-4324-4b09-924c-7ea1e2f99756",
   "metadata": {},
   "outputs": [],
   "source": []
  },
  {
   "cell_type": "code",
   "execution_count": null,
   "id": "e7ad352e-4f58-4950-b946-7dc1000efb23",
   "metadata": {},
   "outputs": [],
   "source": []
  },
  {
   "cell_type": "code",
   "execution_count": null,
   "id": "225dcdbb-32a0-4350-8672-2e3bfc658759",
   "metadata": {
    "tags": []
   },
   "outputs": [],
   "source": [
    "adata.write_h5ad(\"./RelnKO_0624_filtered.h5ad\")"
   ]
  },
  {
   "cell_type": "code",
   "execution_count": null,
   "id": "8dcb9754-f35e-44ea-bcbb-fa6cb56cfb3c",
   "metadata": {},
   "outputs": [],
   "source": []
  },
  {
   "cell_type": "code",
   "execution_count": null,
   "id": "b5ededb5-7e3f-4a08-8598-28ea22540f8b",
   "metadata": {
    "tags": []
   },
   "outputs": [],
   "source": [
    "import scanpy as sc\n",
    "import pandas as pd\n",
    "import numpy as np\n",
    "from read_roi import read_roi_file\n",
    "from shapely import Polygon,Point"
   ]
  },
  {
   "cell_type": "code",
   "execution_count": null,
   "id": "3613b73d-1274-40d7-aece-cb57dadb1559",
   "metadata": {
    "tags": []
   },
   "outputs": [],
   "source": [
    "adata"
   ]
  },
  {
   "cell_type": "code",
   "execution_count": null,
   "id": "defe8109-ce4a-439e-b4de-4c991ea98602",
   "metadata": {
    "tags": []
   },
   "outputs": [],
   "source": [
    "sc.pl.embedding(adata, basis = 'spatial', color = 'cell_type')"
   ]
  },
  {
   "cell_type": "code",
   "execution_count": null,
   "id": "e67cbdd6-f578-422d-b37c-497202505b29",
   "metadata": {
    "scrolled": true,
    "tags": []
   },
   "outputs": [],
   "source": [
    "roi_CA1 = read_roi_file(\"/media/duan/DuanLab_Data/openFISH/Reln/Reeler_reAnnotation_ROIs/WT1/CA1.roi\")\n",
    "roi_CA1"
   ]
  },
  {
   "cell_type": "code",
   "execution_count": null,
   "id": "deca0c5d-1936-4c71-85fb-73a1839cb366",
   "metadata": {
    "tags": []
   },
   "outputs": [],
   "source": [
    "key = 'CA1'\n",
    "polygon = Polygon(\n",
    "\n",
    "        np.column_stack([roi_CA1[key]['x'], roi_CA1[key]['y']])\n",
    "\n",
    ")\n",
    "polygon"
   ]
  },
  {
   "cell_type": "code",
   "execution_count": null,
   "id": "59b412c3-42df-4fcc-8056-0028c51adeae",
   "metadata": {
    "tags": []
   },
   "outputs": [],
   "source": [
    "adata.obs['CA1'] = adata.obs[['x', 'y']].apply(lambda row: polygon.contains(Point([row['x'],row['y']])), axis = 1)"
   ]
  },
  {
   "cell_type": "code",
   "execution_count": null,
   "id": "d9015dc0-0401-4098-9a5a-f9f5348e3cd5",
   "metadata": {
    "tags": []
   },
   "outputs": [],
   "source": [
    "sc.pl.embedding(adata, basis = 'spatial', color = 'CA1')"
   ]
  },
  {
   "cell_type": "code",
   "execution_count": null,
   "id": "cb052d38-d11d-4646-8e93-ea29096beef0",
   "metadata": {
    "tags": []
   },
   "outputs": [],
   "source": [
    "new_cell_type = []\n",
    "for _, row in adata.obs.iterrows():\n",
    "    # if row['cell_type'] == 'Ext CA1' and row['CA1'] == True:\n",
    "    #     new_cell_type.append('Ext CA1')\n",
    "    if row['cell_type'] == 'Ext CA1' and row['CA1'] == False:\n",
    "        new_cell_type.append('BACKGROUND')\n",
    "    else:\n",
    "        new_cell_type.append(row['cell_type'])\n",
    "        \n",
    "adata.obs['cell_type'] = new_cell_type"
   ]
  },
  {
   "cell_type": "code",
   "execution_count": null,
   "id": "d0d01818-5a5f-43c3-99d6-ff6d1b568c2c",
   "metadata": {
    "tags": []
   },
   "outputs": [],
   "source": [
    "sc.pl.embedding(adata, basis = 'spatial', color = 'cell_type', groups = ['Ext CA1'], size = 10)"
   ]
  },
  {
   "cell_type": "code",
   "execution_count": null,
   "id": "fa4c80dc-deb0-4917-a01f-4ca7f345ec82",
   "metadata": {},
   "outputs": [],
   "source": []
  },
  {
   "cell_type": "code",
   "execution_count": null,
   "id": "9e1b1dea-0e22-49ac-83d7-7c0dad0e1c8c",
   "metadata": {
    "scrolled": true,
    "tags": []
   },
   "outputs": [],
   "source": [
    "roi_CA3 = read_roi_file(\"/media/duan/DuanLab_Data/openFISH/Reln/Reeler_reAnnotation_ROIs/WT1/CA3.roi\")\n",
    "roi_CA3"
   ]
  },
  {
   "cell_type": "code",
   "execution_count": null,
   "id": "93409ead-be5c-4db3-a028-f03916c5d136",
   "metadata": {
    "tags": []
   },
   "outputs": [],
   "source": [
    "key = 'CA3'\n",
    "polygon = Polygon(\n",
    "\n",
    "        np.column_stack([roi_CA3[key]['x'], roi_CA3[key]['y']])\n",
    "\n",
    ")\n",
    "polygon"
   ]
  },
  {
   "cell_type": "code",
   "execution_count": null,
   "id": "f2528e65-9a9e-487d-8fc8-1954787ae8ec",
   "metadata": {
    "tags": []
   },
   "outputs": [],
   "source": [
    "adata.obs['CA3'] = adata.obs[['x', 'y']].apply(lambda row: polygon.contains(Point([row['x'],row['y']])), axis = 1)"
   ]
  },
  {
   "cell_type": "code",
   "execution_count": null,
   "id": "52eed178-c547-418e-898a-3878d739ffb2",
   "metadata": {
    "tags": []
   },
   "outputs": [],
   "source": [
    "sc.pl.embedding(adata, basis = 'spatial', color = 'CA3')"
   ]
  },
  {
   "cell_type": "code",
   "execution_count": null,
   "id": "86a70236-b7da-40eb-b4bf-acfcf800d4a3",
   "metadata": {
    "tags": []
   },
   "outputs": [],
   "source": [
    "new_cell_type = []\n",
    "for _, row in adata.obs.iterrows():\n",
    "    # if row['cell_type'] == 'Ext CA1' and row['CA1'] == True:\n",
    "    #     new_cell_type.append('Ext CA1')\n",
    "    if row['cell_type'] == 'Ext CA2' and row['CA3'] == False:\n",
    "        new_cell_type.append('BACKGROUND')\n",
    "    elif row['cell_type'] == 'Ext CA2' and row['CA3'] == True:\n",
    "        new_cell_type.append('Ext CA3')\n",
    "    else:\n",
    "        new_cell_type.append(row['cell_type'])\n",
    "        \n",
    "adata.obs['cell_type'] = new_cell_type"
   ]
  },
  {
   "cell_type": "code",
   "execution_count": null,
   "id": "9450e94a-9965-4634-ae28-b74e91c0cc64",
   "metadata": {
    "tags": []
   },
   "outputs": [],
   "source": [
    "sc.pl.embedding(adata, basis = 'spatial', color = 'cell_type', groups = ['Ext CA3'], size = 10)"
   ]
  },
  {
   "cell_type": "code",
   "execution_count": null,
   "id": "b5ef2f3a-360f-48ea-9f8a-60cde4378c03",
   "metadata": {},
   "outputs": [],
   "source": []
  },
  {
   "cell_type": "code",
   "execution_count": null,
   "id": "cce13228-b0a4-463f-95d8-a5b032e835c0",
   "metadata": {
    "scrolled": true,
    "tags": []
   },
   "outputs": [],
   "source": [
    "roi_CB = read_roi_file(\"/media/duan/DuanLab_Data/openFISH/Reln/Reeler_reAnnotation_ROIs/WT1/CB.roi\")\n",
    "roi_CB"
   ]
  },
  {
   "cell_type": "code",
   "execution_count": null,
   "id": "f704ccdc-6bc5-4513-88ff-51516095b2db",
   "metadata": {
    "tags": []
   },
   "outputs": [],
   "source": [
    "key = 'CB'\n",
    "polygon = Polygon(\n",
    "\n",
    "        np.column_stack([roi_CB[key]['x'], roi_CB[key]['y']])\n",
    "\n",
    ")\n",
    "polygon"
   ]
  },
  {
   "cell_type": "code",
   "execution_count": null,
   "id": "b3655a47-9902-4f6b-aaf5-7ad9af2058c3",
   "metadata": {
    "tags": []
   },
   "outputs": [],
   "source": [
    "adata.obs['CB'] = adata.obs[['x', 'y']].apply(lambda row: polygon.contains(Point([row['x'],row['y']])), axis = 1)"
   ]
  },
  {
   "cell_type": "code",
   "execution_count": null,
   "id": "ea1cc898-874d-4085-9999-fa6ea5cf7d7b",
   "metadata": {
    "tags": []
   },
   "outputs": [],
   "source": [
    "sc.pl.embedding(adata, basis = 'spatial', color = 'CB')"
   ]
  },
  {
   "cell_type": "code",
   "execution_count": null,
   "id": "d3fbfb88-8efc-4623-9d71-3facf5999387",
   "metadata": {
    "tags": []
   },
   "outputs": [],
   "source": [
    "new_cell_type = []\n",
    "for _, row in adata.obs.iterrows():\n",
    "    if row['cell_type'].startswith('Astro-') and row['CB'] == True:\n",
    "        new_cell_type.append('Astro-CB')\n",
    "    elif row['cell_type'] == 'Ext CB' and row['CB'] == False:\n",
    "        new_cell_type.append('BACKGROUND')\n",
    "    elif row['cell_type'] == 'Inh CB' and row['CB'] == False:\n",
    "        new_cell_type.append('BACKGROUND')\n",
    "    else:\n",
    "        new_cell_type.append(row['cell_type'])\n",
    "        \n",
    "adata.obs['cell_type'] = new_cell_type"
   ]
  },
  {
   "cell_type": "code",
   "execution_count": null,
   "id": "f9cc7809-a91a-45ec-8af2-7df2408f96e6",
   "metadata": {
    "tags": []
   },
   "outputs": [],
   "source": [
    "sc.pl.embedding(adata, basis = 'spatial', color = 'cell_type', groups = ['Astro-CB', 'Inh CB', 'Ext CB'], size = 10)"
   ]
  },
  {
   "cell_type": "code",
   "execution_count": null,
   "id": "ff490d37-527e-4758-a01b-96f75294a7a2",
   "metadata": {},
   "outputs": [],
   "source": []
  },
  {
   "cell_type": "code",
   "execution_count": null,
   "id": "2f76b945-2eef-4616-8b5f-a16e1f7558e1",
   "metadata": {
    "scrolled": true,
    "tags": []
   },
   "outputs": [],
   "source": [
    "roi_DG = read_roi_file(\"/media/duan/DuanLab_Data/openFISH/Reln/Reeler_reAnnotation_ROIs/WT1/DG.roi\")\n",
    "roi_DG"
   ]
  },
  {
   "cell_type": "code",
   "execution_count": null,
   "id": "4ed2dec2-de13-4a26-8ebd-1d29554afaf8",
   "metadata": {
    "tags": []
   },
   "outputs": [],
   "source": [
    "key = 'DG'\n",
    "polygon = Polygon(\n",
    "\n",
    "        np.column_stack([roi_DG[key]['x'], roi_DG[key]['y']])\n",
    "\n",
    ")\n",
    "polygon"
   ]
  },
  {
   "cell_type": "code",
   "execution_count": null,
   "id": "a4bb0241-c13f-4d8c-abf0-4169e43cd674",
   "metadata": {
    "tags": []
   },
   "outputs": [],
   "source": [
    "adata.obs['DG'] = adata.obs[['x', 'y']].apply(lambda row: polygon.contains(Point([row['x'],row['y']])), axis = 1)"
   ]
  },
  {
   "cell_type": "code",
   "execution_count": null,
   "id": "8eeb4201-b536-45fe-a33d-f13ad79dc1bb",
   "metadata": {
    "tags": []
   },
   "outputs": [],
   "source": [
    "sc.pl.embedding(adata, basis = 'spatial', color = 'DG')"
   ]
  },
  {
   "cell_type": "code",
   "execution_count": null,
   "id": "be7239bb-4b78-40b8-8514-16092a35d95b",
   "metadata": {
    "tags": []
   },
   "outputs": [],
   "source": [
    "new_cell_type = []\n",
    "for _, row in adata.obs.iterrows():\n",
    "    if row['cell_type'] == 'Ext DG' and row['DG'] == False:\n",
    "        new_cell_type.append('BACKGROUND')\n",
    "    else:\n",
    "        new_cell_type.append(row['cell_type'])\n",
    "        \n",
    "adata.obs['cell_type'] = new_cell_type"
   ]
  },
  {
   "cell_type": "code",
   "execution_count": null,
   "id": "c35841d4-caa7-4b21-af10-ad52c7cb7b81",
   "metadata": {
    "tags": []
   },
   "outputs": [],
   "source": [
    "sc.pl.embedding(adata, basis = 'spatial', color = 'cell_type', groups = ['Ext DG'], size = 10)"
   ]
  },
  {
   "cell_type": "code",
   "execution_count": null,
   "id": "ac888139-576d-431d-87bb-eec11cfbe3db",
   "metadata": {},
   "outputs": [],
   "source": []
  },
  {
   "cell_type": "code",
   "execution_count": null,
   "id": "cbca4285-c3e9-4b79-8298-2bd74aa23ad6",
   "metadata": {
    "scrolled": true,
    "tags": []
   },
   "outputs": [],
   "source": [
    "roi_MB = read_roi_file(\"/media/duan/DuanLab_Data/openFISH/Reln/Reeler_reAnnotation_ROIs/WT1/MB.roi\")\n",
    "roi_MB"
   ]
  },
  {
   "cell_type": "code",
   "execution_count": null,
   "id": "2eacf8be-1b02-4e00-8ff6-2a1620142ad1",
   "metadata": {
    "tags": []
   },
   "outputs": [],
   "source": [
    "key = 'MB'\n",
    "polygon = Polygon(\n",
    "\n",
    "        np.column_stack([roi_MB[key]['x'], roi_MB[key]['y']])\n",
    "\n",
    ")\n",
    "polygon"
   ]
  },
  {
   "cell_type": "code",
   "execution_count": null,
   "id": "51e526e5-2ac2-4bf2-b105-bef235c4d177",
   "metadata": {
    "tags": []
   },
   "outputs": [],
   "source": [
    "adata.obs['MB'] = adata.obs[['x', 'y']].apply(lambda row: polygon.contains(Point([row['x'],row['y']])), axis = 1)"
   ]
  },
  {
   "cell_type": "code",
   "execution_count": null,
   "id": "c71f70d4-3613-4c56-a592-93b6fbc40e9c",
   "metadata": {
    "tags": []
   },
   "outputs": [],
   "source": [
    "sc.pl.embedding(adata, basis = 'spatial', color = 'MB')"
   ]
  },
  {
   "cell_type": "markdown",
   "id": "1d85a636-3417-40a0-b05b-2f3645efef7c",
   "metadata": {},
   "source": [
    "## MB之后再处理"
   ]
  },
  {
   "cell_type": "raw",
   "id": "065b0e2c-0644-4a6d-b0d8-02567ff47913",
   "metadata": {
    "tags": []
   },
   "source": [
    "new_cell_type = []\n",
    "for _, row in adata.obs.iterrows():\n",
    "    if row['cell_type'] == 'Ext MB' and row['MB'] == False:\n",
    "        new_cell_type.append('BACKGROUND')\n",
    "    elif row['cell_type'] == 'Inh MB' and row['MB'] == False:\n",
    "        new_cell_type.append('BACKGROUND')\n",
    "    else:\n",
    "        new_cell_type.append(row['cell_type'])\n",
    "        \n",
    "adata.obs['cell_type'] = new_cell_type"
   ]
  },
  {
   "cell_type": "code",
   "execution_count": null,
   "id": "b1f8febf-4f32-4907-aceb-fe896b036b07",
   "metadata": {
    "tags": []
   },
   "outputs": [],
   "source": [
    "sc.pl.embedding(adata, basis = 'spatial', color = 'cell_type', groups = ['Ext MB', 'Inh MB'], size = 10)"
   ]
  },
  {
   "cell_type": "code",
   "execution_count": null,
   "id": "204cc1a7-b387-4230-af44-fd8325e367ed",
   "metadata": {
    "tags": []
   },
   "outputs": [],
   "source": [
    "sc.pl.embedding(adata, basis = 'spatial', color = 'Hap1', size = 10)"
   ]
  },
  {
   "cell_type": "code",
   "execution_count": null,
   "id": "4506fb09-f41b-4548-8af0-82d3b9910213",
   "metadata": {},
   "outputs": [],
   "source": []
  },
  {
   "cell_type": "code",
   "execution_count": null,
   "id": "73e164a2-a24e-466b-ac0e-f6d918cea182",
   "metadata": {
    "scrolled": true,
    "tags": []
   },
   "outputs": [],
   "source": [
    "roi_NT = read_roi_file(\"/media/duan/DuanLab_Data/openFISH/Reln/Reeler_reAnnotation_ROIs/WT1/NT.roi\")\n",
    "roi_NT"
   ]
  },
  {
   "cell_type": "code",
   "execution_count": null,
   "id": "798e9609-8d5b-4849-94a0-59f75fd590ac",
   "metadata": {
    "tags": []
   },
   "outputs": [],
   "source": [
    "key = 'NT'\n",
    "polygon = Polygon(\n",
    "\n",
    "        np.column_stack([roi_NT[key]['x'], roi_NT[key]['y']])\n",
    "\n",
    ")\n",
    "polygon"
   ]
  },
  {
   "cell_type": "code",
   "execution_count": null,
   "id": "ce2d0f59-60ea-47cc-9034-104e69ed5e9d",
   "metadata": {
    "tags": []
   },
   "outputs": [],
   "source": [
    "adata.obs['NT'] = adata.obs[['x', 'y']].apply(lambda row: polygon.contains(Point([row['x'],row['y']])), axis = 1)"
   ]
  },
  {
   "cell_type": "code",
   "execution_count": null,
   "id": "1a91cb40-52bc-4949-ba3e-54594c198004",
   "metadata": {
    "tags": []
   },
   "outputs": [],
   "source": [
    "sc.pl.embedding(adata, basis = 'spatial', color = 'NT')"
   ]
  },
  {
   "cell_type": "code",
   "execution_count": null,
   "id": "aad28b59-0463-4797-885a-4d59a8afebe3",
   "metadata": {
    "tags": []
   },
   "outputs": [],
   "source": [
    "new_cell_type = []\n",
    "for _, row in adata.obs.iterrows():\n",
    "    if row['cell_type'].startswith('Astro-') and row['NT'] == True:\n",
    "        new_cell_type.append('Astro-NT')\n",
    "    else:\n",
    "        new_cell_type.append(row['cell_type'])\n",
    "        \n",
    "adata.obs['cell_type'] = new_cell_type"
   ]
  },
  {
   "cell_type": "code",
   "execution_count": null,
   "id": "1f27b8f5-042f-4fc6-b33e-e9ade1499f11",
   "metadata": {
    "tags": []
   },
   "outputs": [],
   "source": [
    "sc.pl.embedding(adata, basis = 'spatial', color = 'cell_type', groups = ['Astro-NT', 'Astro-TE'], size = 10)"
   ]
  },
  {
   "cell_type": "code",
   "execution_count": null,
   "id": "ccd88bef-0e7e-4e31-a97d-08219a2f306d",
   "metadata": {},
   "outputs": [],
   "source": []
  },
  {
   "cell_type": "code",
   "execution_count": null,
   "id": "142a7a0d-0f0c-4ce0-9d64-4d72e2f937b0",
   "metadata": {
    "scrolled": true,
    "tags": []
   },
   "outputs": [],
   "source": [
    "roi_TE = read_roi_file(\"/media/duan/DuanLab_Data/openFISH/Reln/Reeler_reAnnotation_ROIs/WT1/TE.roi\")\n",
    "roi_TE"
   ]
  },
  {
   "cell_type": "code",
   "execution_count": null,
   "id": "c040840a-7c89-4581-8cc9-d15363d371fb",
   "metadata": {
    "tags": []
   },
   "outputs": [],
   "source": [
    "key = 'TE'\n",
    "polygon = Polygon(\n",
    "\n",
    "        np.column_stack([roi_TE[key]['x'], roi_TE[key]['y']])\n",
    "\n",
    ")\n",
    "polygon"
   ]
  },
  {
   "cell_type": "code",
   "execution_count": null,
   "id": "c447b3cf-87a0-45d8-92ec-b8f28ef4cfce",
   "metadata": {
    "tags": []
   },
   "outputs": [],
   "source": [
    "adata.obs['TE'] = adata.obs[['x', 'y']].apply(lambda row: polygon.contains(Point([row['x'],row['y']])), axis = 1)"
   ]
  },
  {
   "cell_type": "code",
   "execution_count": null,
   "id": "3916928a-7cec-4e9a-910a-c3256a9c2b12",
   "metadata": {
    "tags": []
   },
   "outputs": [],
   "source": [
    "sc.pl.embedding(adata, basis = 'spatial', color = 'TE')"
   ]
  },
  {
   "cell_type": "code",
   "execution_count": null,
   "id": "35b1d527-52e7-4892-a300-fe8feae2e72a",
   "metadata": {
    "tags": []
   },
   "outputs": [],
   "source": [
    "new_cell_type = []\n",
    "for _, row in adata.obs.iterrows():\n",
    "    if row['cell_type'].startswith('Astro-') and row['TE'] == True:\n",
    "        new_cell_type.append('Astro-TE')\n",
    "    else:\n",
    "        new_cell_type.append(row['cell_type'])\n",
    "        \n",
    "adata.obs['cell_type'] = new_cell_type"
   ]
  },
  {
   "cell_type": "code",
   "execution_count": null,
   "id": "0fb37336-f71c-4f2a-aef2-1c2a542d666f",
   "metadata": {
    "tags": []
   },
   "outputs": [],
   "source": [
    "sc.pl.embedding(adata, basis = 'spatial', color = 'cell_type', groups = ['Astro-NT', 'Astro-TE', 'Astro-CB'], size = 10)"
   ]
  },
  {
   "cell_type": "code",
   "execution_count": null,
   "id": "1ef1ee7d-4cb7-4890-ae01-169c79ebe655",
   "metadata": {},
   "outputs": [],
   "source": []
  },
  {
   "cell_type": "code",
   "execution_count": null,
   "id": "e63b2b87-2f6d-48c4-acdd-8c2a79e67168",
   "metadata": {
    "scrolled": true,
    "tags": []
   },
   "outputs": [],
   "source": [
    "roi_MCB = read_roi_file(\"/media/duan/DuanLab_Data/openFISH/Reln/Reeler_reAnnotation_ROIs/WT1/MEA-COA-BMA.roi\")\n",
    "roi_MCB"
   ]
  },
  {
   "cell_type": "code",
   "execution_count": null,
   "id": "94a752d8-cc44-4db3-816e-b3d6331a5ec7",
   "metadata": {
    "tags": []
   },
   "outputs": [],
   "source": [
    "key = 'MEA-COA-BMA'\n",
    "polygon = Polygon(\n",
    "\n",
    "        np.column_stack([roi_MCB[key]['x'], roi_MCB[key]['y']])\n",
    "\n",
    ")\n",
    "polygon"
   ]
  },
  {
   "cell_type": "code",
   "execution_count": null,
   "id": "8d460d99-2cdc-496c-bd9f-6c4b46ccf5b2",
   "metadata": {
    "tags": []
   },
   "outputs": [],
   "source": [
    "adata.obs['MEA-COA-BMA'] = adata.obs[['x', 'y']].apply(lambda row: polygon.contains(Point([row['x'],row['y']])), axis = 1)"
   ]
  },
  {
   "cell_type": "code",
   "execution_count": null,
   "id": "b9405e88-1892-4fc7-8b90-466a9449ff39",
   "metadata": {
    "tags": []
   },
   "outputs": [],
   "source": [
    "sc.pl.embedding(adata, basis = 'spatial', color = 'MEA-COA-BMA')"
   ]
  },
  {
   "cell_type": "code",
   "execution_count": null,
   "id": "77040fcc-e009-41db-81f9-f6300749cc7f",
   "metadata": {
    "tags": []
   },
   "outputs": [],
   "source": [
    "adata.write_h5ad(\"RelnWT_Manul.h5ad\")"
   ]
  },
  {
   "cell_type": "code",
   "execution_count": null,
   "id": "4741c726-cb6c-4ba2-9e1b-dd8e3824f91d",
   "metadata": {},
   "outputs": [],
   "source": [
    "adata = sc.read_h5ad(\"RelnWT_Manul.h5ad\")"
   ]
  },
  {
   "cell_type": "code",
   "execution_count": null,
   "id": "dc62a4df-f90f-469c-b3f5-dc74594f2040",
   "metadata": {
    "scrolled": true,
    "tags": []
   },
   "outputs": [],
   "source": [
    "df = pd.read_csv(\"/media/duan/DuanLab_Data/openFISH/Reln/Reeler_reAnnotation_ROIs/WT1/TH.csv\", skiprows=2)\n",
    "df"
   ]
  },
  {
   "cell_type": "code",
   "execution_count": null,
   "id": "c0a931c9-caf1-4bc4-8385-e036625b6fdf",
   "metadata": {
    "tags": []
   },
   "outputs": [],
   "source": [
    "polygon = Polygon(df[df['Selection'] == 'Selection 1'][['X', 'Y']].to_numpy())"
   ]
  },
  {
   "cell_type": "code",
   "execution_count": null,
   "id": "e3474bdd-186d-415e-a029-8308225cb7cb",
   "metadata": {
    "tags": []
   },
   "outputs": [],
   "source": [
    "adata.obs['TH'] = adata.obs[['x', 'y']].apply(lambda row: polygon.contains(Point([row['x']*0.325,row['y']*0.325])), axis = 1)"
   ]
  },
  {
   "cell_type": "code",
   "execution_count": null,
   "id": "1fe8e7bb-f97b-48c0-9028-9bbfb5e031e0",
   "metadata": {
    "tags": []
   },
   "outputs": [],
   "source": [
    "sc.pl.embedding(adata, basis = 'spatial', color = 'TH')"
   ]
  },
  {
   "cell_type": "code",
   "execution_count": null,
   "id": "442e085e-df14-4a75-bbb5-9b0c39a98839",
   "metadata": {
    "scrolled": true,
    "tags": []
   },
   "outputs": [],
   "source": [
    "df = pd.read_csv(\"/media/duan/DuanLab_Data/openFISH/Reln/Reeler_reAnnotation_ROIs/WT1/MB.csv\", skiprows=2)\n",
    "df"
   ]
  },
  {
   "cell_type": "code",
   "execution_count": null,
   "id": "b2bb5102-4414-466a-a2ec-7040f1cac3bf",
   "metadata": {
    "tags": []
   },
   "outputs": [],
   "source": [
    "polygon = Polygon(df[df['Selection'] == 'Selection 1'][['X', 'Y']].to_numpy())"
   ]
  },
  {
   "cell_type": "code",
   "execution_count": null,
   "id": "69315f88-337a-49ac-bfcc-ed85cb778c05",
   "metadata": {
    "tags": []
   },
   "outputs": [],
   "source": [
    "adata.obs['MB'] = adata.obs[['x', 'y']].apply(lambda row: polygon.contains(Point([row['x']*0.325,row['y']*0.325])), axis = 1)"
   ]
  },
  {
   "cell_type": "code",
   "execution_count": null,
   "id": "a847345f-71b3-46aa-a0b0-7049c481fc33",
   "metadata": {
    "tags": []
   },
   "outputs": [],
   "source": [
    "sc.pl.embedding(adata, basis = 'spatial', color = 'MB')"
   ]
  },
  {
   "cell_type": "code",
   "execution_count": null,
   "id": "1ff99195-b442-48fc-ab12-edf5c0119a72",
   "metadata": {
    "tags": []
   },
   "outputs": [],
   "source": [
    "adata.write_h5ad(\"RelnWT_Manul.h5ad\")"
   ]
  },
  {
   "cell_type": "code",
   "execution_count": null,
   "id": "514f84ea-3139-46f8-9216-0737ee267567",
   "metadata": {},
   "outputs": [],
   "source": [
    "adata = sc.read_h5ad(\"RelnWT_Manul.h5ad\")"
   ]
  },
  {
   "cell_type": "code",
   "execution_count": null,
   "id": "2c115fe0-5b22-42c8-9aad-0724be4bdb25",
   "metadata": {
    "scrolled": true,
    "tags": []
   },
   "outputs": [],
   "source": [
    "df = pd.read_csv(\"/media/duan/DuanLab_Data/openFISH/Reln/Reeler_reAnnotation_ROIs/WT1/IC.csv\", skiprows=2)\n",
    "df"
   ]
  },
  {
   "cell_type": "code",
   "execution_count": null,
   "id": "bdb6d4ea-09a5-405d-bde6-297b215384a2",
   "metadata": {
    "tags": []
   },
   "outputs": [],
   "source": [
    "polygon = Polygon(df[df['Selection'] == 'Selection 1'][['X', 'Y']].to_numpy())"
   ]
  },
  {
   "cell_type": "code",
   "execution_count": null,
   "id": "34260769-40ba-4bf2-ba38-e8fedadfd879",
   "metadata": {
    "tags": []
   },
   "outputs": [],
   "source": [
    "adata.obs['IC'] = adata.obs[['x', 'y']].apply(lambda row: polygon.contains(Point([row['x']*0.325,row['y']*0.325])), axis = 1)"
   ]
  },
  {
   "cell_type": "code",
   "execution_count": null,
   "id": "ffe654b6-2fe6-472e-883c-36f7ebf1f11f",
   "metadata": {
    "tags": []
   },
   "outputs": [],
   "source": [
    "sc.pl.embedding(adata, basis = 'spatial', color = 'IC')"
   ]
  },
  {
   "cell_type": "code",
   "execution_count": null,
   "id": "9aa46a77-c774-4966-87c2-d4e2459a6214",
   "metadata": {
    "scrolled": true,
    "tags": []
   },
   "outputs": [],
   "source": [
    "df = pd.read_csv(\"/media/duan/DuanLab_Data/openFISH/Reln/Reeler_reAnnotation_ROIs/WT1/STR.csv\", skiprows=2)\n",
    "df"
   ]
  },
  {
   "cell_type": "code",
   "execution_count": null,
   "id": "15e25234-5cfd-49f1-9b67-857006c8a609",
   "metadata": {
    "tags": []
   },
   "outputs": [],
   "source": [
    "polygon = Polygon(df[df['Selection'] == 'Selection 1'][['X', 'Y']].to_numpy())"
   ]
  },
  {
   "cell_type": "code",
   "execution_count": null,
   "id": "d22edac8-424a-4aad-b702-5e25ab6c61a5",
   "metadata": {
    "tags": []
   },
   "outputs": [],
   "source": [
    "adata.obs['STR'] = adata.obs[['x', 'y']].apply(lambda row: polygon.contains(Point([row['x']*0.325,row['y']*0.325])), axis = 1)"
   ]
  },
  {
   "cell_type": "code",
   "execution_count": null,
   "id": "070c1579-318e-42ef-98bb-2cc6c0eb3588",
   "metadata": {
    "tags": []
   },
   "outputs": [],
   "source": [
    "sc.pl.embedding(adata, basis = 'spatial', color = 'STR')"
   ]
  },
  {
   "cell_type": "code",
   "execution_count": null,
   "id": "6b0b7dca-f9ff-4c0e-9b63-9ae8fee87873",
   "metadata": {
    "tags": []
   },
   "outputs": [],
   "source": [
    "adata.write_h5ad(\"RelnWT_Manul.h5ad\")"
   ]
  },
  {
   "cell_type": "code",
   "execution_count": null,
   "id": "d173358f-6948-42ea-b21a-c0c6067d2a60",
   "metadata": {},
   "outputs": [],
   "source": []
  },
  {
   "cell_type": "code",
   "execution_count": null,
   "id": "4ac7ed93-142b-4dfa-8224-cee124c2e058",
   "metadata": {},
   "outputs": [],
   "source": []
  },
  {
   "cell_type": "code",
   "execution_count": null,
   "id": "20a28020-44fb-4907-be7e-b35bd4d86c8c",
   "metadata": {},
   "outputs": [],
   "source": []
  },
  {
   "cell_type": "code",
   "execution_count": null,
   "id": "a31d2a45-c8b8-4182-bc53-3087f73beac1",
   "metadata": {},
   "outputs": [],
   "source": []
  },
  {
   "cell_type": "code",
   "execution_count": null,
   "id": "8bc63514-7d96-4907-a5fc-bec6f00dbd9a",
   "metadata": {
    "tags": []
   },
   "outputs": [],
   "source": [
    "import scanpy as sc\n",
    "from shapely import Polygon, Point\n",
    "import numpy as np\n",
    "from read_roi import read_roi_file"
   ]
  },
  {
   "cell_type": "code",
   "execution_count": null,
   "id": "0a057fcb-755d-48f5-8013-889d7090237a",
   "metadata": {
    "tags": []
   },
   "outputs": [],
   "source": [
    "adata = sc.read_h5ad(\"RelnAll_Annotated.h5ad\")\n",
    "adata"
   ]
  },
  {
   "cell_type": "code",
   "execution_count": null,
   "id": "d6e9704b-3f94-4fbc-808a-257f80558d48",
   "metadata": {
    "tags": []
   },
   "outputs": [],
   "source": [
    "sc.pl.embedding(adata, basis = 'spatial', color = 'cell_type')"
   ]
  },
  {
   "cell_type": "code",
   "execution_count": null,
   "id": "36e8a10f-8ce7-42d6-b9e2-b1a3412e6feb",
   "metadata": {
    "tags": []
   },
   "outputs": [],
   "source": [
    "roi = read_roi_file('/media/duan/DuanLab_Data/openFISH/Reln/ROIs_Cortex/KO0522_cortex_ridge.roi')\n",
    "roi"
   ]
  },
  {
   "cell_type": "code",
   "execution_count": null,
   "id": "430fc2f6-969b-4862-ba9f-fec5399ff8ee",
   "metadata": {
    "tags": []
   },
   "outputs": [],
   "source": [
    "key = 'KO0522_cortex_ridge'\n",
    "polygon = Polygon(\n",
    "\n",
    "        np.column_stack([roi[key]['x'], roi[key]['y']])\n",
    "\n",
    ")\n",
    "polygon"
   ]
  },
  {
   "cell_type": "code",
   "execution_count": null,
   "id": "49a442cb-3f84-4d11-8d42-73c15954b61d",
   "metadata": {
    "tags": []
   },
   "outputs": [],
   "source": [
    "adata1 = adata[adata.obs['Sample'] == 'KO1'].copy()"
   ]
  },
  {
   "cell_type": "code",
   "execution_count": null,
   "id": "bddf1fea-997f-4ba0-97a9-f0c40e983a1c",
   "metadata": {
    "tags": []
   },
   "outputs": [],
   "source": [
    "adata1.obs['Cortex_Ridge'] = adata1.obs[['x', 'y']].apply(lambda row: polygon.contains(Point([row['x'],row['y']])), axis = 1)"
   ]
  },
  {
   "cell_type": "code",
   "execution_count": null,
   "id": "3824516c-bf9e-41c0-98e8-e9fd24d84024",
   "metadata": {
    "tags": []
   },
   "outputs": [],
   "source": [
    "adata1 = adata1[adata1.obs['Cortex_Ridge']].copy()"
   ]
  },
  {
   "cell_type": "code",
   "execution_count": null,
   "id": "5fff7364-7565-42b5-bfb5-ea183ee7fa45",
   "metadata": {
    "tags": []
   },
   "outputs": [],
   "source": [
    "sc.pl.embedding(adata1, basis = 'spatial_raw', color = 'Cortex_Ridge')"
   ]
  },
  {
   "cell_type": "code",
   "execution_count": null,
   "id": "674f7bf8-fec5-4e56-8dec-3db553d8adf1",
   "metadata": {
    "tags": []
   },
   "outputs": [],
   "source": [
    "def rotate_coordinates(coords, angle):\n",
    "    theta = np.radians(angle)\n",
    "    rotation_matrix = np.array([[np.cos(theta), -np.sin(theta)],\n",
    "                               [np.sin(theta), np.cos(theta)]])\n",
    "    coords_array = np.array(coords)\n",
    "    rotated_coords = coords_array @ rotation_matrix.T\n",
    "    return rotated_coords"
   ]
  },
  {
   "cell_type": "code",
   "execution_count": null,
   "id": "59f93ebe-575d-4db7-99e0-c0718ecd46c3",
   "metadata": {
    "tags": []
   },
   "outputs": [],
   "source": [
    "sc.set_figure_params(figsize=(3,7), scanpy = False)\n",
    "adata1.obsm['spatial_rotate'] = rotate_coordinates(adata1.obsm['spatial_raw'], 29)\n",
    "sc.pl.embedding(adata1, basis = 'spatial_rotate', color = 'Cortex_Ridge')"
   ]
  },
  {
   "cell_type": "code",
   "execution_count": null,
   "id": "186e76bc-88d1-4273-ac2a-34503dbe2757",
   "metadata": {
    "tags": []
   },
   "outputs": [],
   "source": [
    "sc.pl.embedding(adata1, basis = 'spatial_rotate', color = 'cell_type', save = 'KO1_cortex_ridge.pdf')"
   ]
  },
  {
   "cell_type": "code",
   "execution_count": null,
   "id": "3704a876-afd7-4ead-abbf-2158b361b455",
   "metadata": {
    "tags": []
   },
   "outputs": [],
   "source": [
    "import seaborn as sns\n",
    "import matplotlib.pyplot as plt\n",
    "\n",
    "plt.figure(figsize=(7, 3))\n",
    "\n",
    "sns.kdeplot(adata1[adata1.obs['cell_type'] == 'Ext L2/3'].obsm['spatial_rotate'][:,1], label='Ext L2/3', color = '#E9530F')\n",
    "sns.kdeplot(adata1[adata1.obs['cell_type'] == 'Ext L4/5'].obsm['spatial_rotate'][:,1], label='Ext L4/5', color = '#3DCCB7')\n",
    "sns.kdeplot(adata1[adata1.obs['cell_type'] == 'Ext L6'].obsm['spatial_rotate'][:,1], label='Ext L6', color = '#34661F')\n",
    "\n",
    "plt.legend()\n",
    "\n",
    "plt.savefig('KO1_cortex_kde_plot.pdf', dpi=300)  # 可以调整dpi和bbox_inches参数\n",
    "\n",
    "plt.show()"
   ]
  },
  {
   "cell_type": "code",
   "execution_count": null,
   "id": "9145f3ee-b1ec-4926-b460-f4456648876b",
   "metadata": {},
   "outputs": [],
   "source": []
  },
  {
   "cell_type": "code",
   "execution_count": null,
   "id": "2b431871-f5c9-45b5-89bf-485ce6928e68",
   "metadata": {
    "tags": []
   },
   "outputs": [],
   "source": [
    "roi = read_roi_file('/media/duan/DuanLab_Data/openFISH/Reln/ROIs_Cortex/KO0624_cortex_ridge.roi')\n",
    "roi"
   ]
  },
  {
   "cell_type": "code",
   "execution_count": null,
   "id": "c792f367-b738-4d54-bd8e-7dd1a7acf528",
   "metadata": {
    "tags": []
   },
   "outputs": [],
   "source": [
    "key = 'KO0624_cortex_ridge'\n",
    "polygon = Polygon(\n",
    "\n",
    "        np.column_stack([roi[key]['x'], roi[key]['y']])\n",
    "\n",
    ")\n",
    "polygon"
   ]
  },
  {
   "cell_type": "code",
   "execution_count": null,
   "id": "009efc95-bd13-4874-9dd1-9f840287b236",
   "metadata": {
    "tags": []
   },
   "outputs": [],
   "source": [
    "adata1 = adata[adata.obs['Sample'] == 'KO2'].copy()"
   ]
  },
  {
   "cell_type": "code",
   "execution_count": null,
   "id": "77cee17a-c246-4ad1-9b4e-bee2b9ed87ed",
   "metadata": {
    "tags": []
   },
   "outputs": [],
   "source": [
    "adata1.obs['Cortex_Ridge'] = adata1.obs[['x', 'y']].apply(lambda row: polygon.contains(Point([row['x'],row['y']])), axis = 1)"
   ]
  },
  {
   "cell_type": "code",
   "execution_count": null,
   "id": "b8f48718-f9fa-4f08-a570-bdcb82bd8f66",
   "metadata": {
    "tags": []
   },
   "outputs": [],
   "source": [
    "adata1 = adata1[adata1.obs['Cortex_Ridge']].copy()"
   ]
  },
  {
   "cell_type": "code",
   "execution_count": null,
   "id": "737f115d-b3c6-482f-b4ff-bcc177f45b6a",
   "metadata": {
    "tags": []
   },
   "outputs": [],
   "source": [
    "sc.pl.embedding(adata1, basis = 'spatial_raw', color = 'Cortex_Ridge')"
   ]
  },
  {
   "cell_type": "code",
   "execution_count": null,
   "id": "30350abd-5826-4a47-8f16-1e421ab0475e",
   "metadata": {
    "tags": []
   },
   "outputs": [],
   "source": [
    "def rotate_coordinates(coords, angle):\n",
    "    theta = np.radians(angle)\n",
    "    rotation_matrix = np.array([[np.cos(theta), -np.sin(theta)],\n",
    "                               [np.sin(theta), np.cos(theta)]])\n",
    "    coords_array = np.array(coords)\n",
    "    rotated_coords = coords_array @ rotation_matrix.T\n",
    "    return rotated_coords"
   ]
  },
  {
   "cell_type": "code",
   "execution_count": null,
   "id": "6dfe3999-fa97-47f4-b6ff-aae139574d7c",
   "metadata": {
    "tags": []
   },
   "outputs": [],
   "source": [
    "sc.set_figure_params(figsize=(3,7), scanpy = False)\n",
    "adata1.obsm['spatial_rotate'] = rotate_coordinates(adata1.obsm['spatial_raw'], 29)\n",
    "sc.pl.embedding(adata1, basis = 'spatial_rotate', color = 'Cortex_Ridge')"
   ]
  },
  {
   "cell_type": "code",
   "execution_count": null,
   "id": "b2590276-a4d7-4987-ab6a-baec6c9b0f0a",
   "metadata": {
    "tags": []
   },
   "outputs": [],
   "source": [
    "sc.pl.embedding(adata1, basis = 'spatial_rotate', color = 'cell_type',  save = 'KO2_cortex_ridge.pdf')"
   ]
  },
  {
   "cell_type": "code",
   "execution_count": null,
   "id": "32d78fa0-19b9-4dac-9d1a-f15d92a015d4",
   "metadata": {
    "tags": []
   },
   "outputs": [],
   "source": [
    "import seaborn as sns\n",
    "import matplotlib.pyplot as plt\n",
    "\n",
    "plt.figure(figsize=(7, 3))\n",
    "\n",
    "sns.kdeplot(adata1[adata1.obs['cell_type'] == 'Ext L2/3'].obsm['spatial_rotate'][:,1], label='Ext L2/3', color = '#E9530F')\n",
    "sns.kdeplot(adata1[adata1.obs['cell_type'] == 'Ext L4/5'].obsm['spatial_rotate'][:,1], label='Ext L4/5', color = '#3DCCB7')\n",
    "sns.kdeplot(adata1[adata1.obs['cell_type'] == 'Ext L6'].obsm['spatial_rotate'][:,1], label='Ext L6', color = '#34661F')\n",
    "\n",
    "plt.legend()\n",
    "\n",
    "plt.savefig('KO2_cortex_kde_plot.pdf', dpi=300)  # 可以调整dpi和bbox_inches参数\n",
    "\n",
    "plt.show()"
   ]
  },
  {
   "cell_type": "code",
   "execution_count": null,
   "id": "f97008d2-2877-440d-b4e5-b903ca981317",
   "metadata": {},
   "outputs": [],
   "source": []
  },
  {
   "cell_type": "code",
   "execution_count": null,
   "id": "a99c06ac-8073-4f11-bcca-3ca115590e70",
   "metadata": {
    "tags": []
   },
   "outputs": [],
   "source": [
    "roi = read_roi_file('/media/duan/DuanLab_Data/openFISH/Reln/ROIs_Cortex/WT0522_cortex_ridge.roi')\n",
    "roi"
   ]
  },
  {
   "cell_type": "code",
   "execution_count": null,
   "id": "d9e0468d-8fb3-4cb0-aad5-2f6691058642",
   "metadata": {
    "tags": []
   },
   "outputs": [],
   "source": [
    "key = 'WT0522_cortex_ridge'\n",
    "polygon = Polygon(\n",
    "\n",
    "        np.column_stack([roi[key]['x'], roi[key]['y']])\n",
    "\n",
    ")\n",
    "polygon"
   ]
  },
  {
   "cell_type": "code",
   "execution_count": null,
   "id": "317ac873-2a98-4f18-903b-55ef5e90db5b",
   "metadata": {
    "tags": []
   },
   "outputs": [],
   "source": [
    "adata1 = adata[adata.obs['Sample'] == 'WT1'].copy()"
   ]
  },
  {
   "cell_type": "code",
   "execution_count": null,
   "id": "1a100c0a-b15a-4915-ac86-bf3c894f0dc2",
   "metadata": {
    "tags": []
   },
   "outputs": [],
   "source": [
    "adata1.obs['Cortex_Ridge'] = adata1.obs[['x', 'y']].apply(lambda row: polygon.contains(Point([row['x'],row['y']])), axis = 1)"
   ]
  },
  {
   "cell_type": "code",
   "execution_count": null,
   "id": "26327593-36c1-42e0-a056-749eeac0228a",
   "metadata": {
    "tags": []
   },
   "outputs": [],
   "source": [
    "adata1 = adata1[adata1.obs['Cortex_Ridge']].copy()"
   ]
  },
  {
   "cell_type": "code",
   "execution_count": null,
   "id": "eabafbe0-5adb-4c92-8838-47bde73c746a",
   "metadata": {
    "tags": []
   },
   "outputs": [],
   "source": [
    "sc.pl.embedding(adata1, basis = 'spatial_raw', color = 'Cortex_Ridge')"
   ]
  },
  {
   "cell_type": "code",
   "execution_count": null,
   "id": "74008c84-2a96-4ebf-a74c-8f7a71342278",
   "metadata": {
    "tags": []
   },
   "outputs": [],
   "source": [
    "def rotate_coordinates(coords, angle):\n",
    "    theta = np.radians(angle)\n",
    "    rotation_matrix = np.array([[np.cos(theta), -np.sin(theta)],\n",
    "                               [np.sin(theta), np.cos(theta)]])\n",
    "    coords_array = np.array(coords)\n",
    "    rotated_coords = coords_array @ rotation_matrix.T\n",
    "    return rotated_coords"
   ]
  },
  {
   "cell_type": "code",
   "execution_count": null,
   "id": "82a033e5-7844-4fa8-b080-a7084f0f4f4c",
   "metadata": {
    "tags": []
   },
   "outputs": [],
   "source": [
    "sc.set_figure_params(figsize=(3,7), scanpy = False)\n",
    "adata1.obsm['spatial_rotate'] = rotate_coordinates(adata1.obsm['spatial_raw'], 29)\n",
    "sc.pl.embedding(adata1, basis = 'spatial_rotate', color = 'Cortex_Ridge')"
   ]
  },
  {
   "cell_type": "code",
   "execution_count": null,
   "id": "a9feef2b-9d26-4b39-8181-e11bb8ad9e61",
   "metadata": {
    "tags": []
   },
   "outputs": [],
   "source": [
    "sc.pl.embedding(adata1, basis = 'spatial_rotate', color = 'cell_type',  save = 'WT1_cortex_ridge.pdf')"
   ]
  },
  {
   "cell_type": "code",
   "execution_count": null,
   "id": "91745ca2-f0a2-49cf-879f-14db0c4bb336",
   "metadata": {
    "tags": []
   },
   "outputs": [],
   "source": [
    "import seaborn as sns\n",
    "import matplotlib.pyplot as plt\n",
    "\n",
    "plt.figure(figsize=(7, 3))\n",
    "\n",
    "sns.kdeplot(adata1[adata1.obs['cell_type'] == 'Ext L2/3'].obsm['spatial_rotate'][:,1], label='Ext L2/3', color = '#E9530F')\n",
    "sns.kdeplot(adata1[adata1.obs['cell_type'] == 'Ext L4/5'].obsm['spatial_rotate'][:,1], label='Ext L4/5', color = '#3DCCB7')\n",
    "sns.kdeplot(adata1[adata1.obs['cell_type'] == 'Ext L6'].obsm['spatial_rotate'][:,1], label='Ext L6', color = '#34661F')\n",
    "\n",
    "plt.legend()\n",
    "\n",
    "plt.savefig('WT1_cortex_kde_plot.pdf', dpi=300)  # 可以调整dpi和bbox_inches参数\n",
    "\n",
    "plt.show()"
   ]
  },
  {
   "cell_type": "code",
   "execution_count": null,
   "id": "1e57591e-a7fa-4ef5-bf3a-25ab2cb214c0",
   "metadata": {},
   "outputs": [],
   "source": []
  },
  {
   "cell_type": "code",
   "execution_count": null,
   "id": "7bd11382-742c-48d6-842a-5dd4f83bdaa0",
   "metadata": {
    "tags": []
   },
   "outputs": [],
   "source": [
    "roi = read_roi_file('/media/duan/DuanLab_Data/openFISH/Reln/ROIs_Cortex/WT0624_cortex_ridge.roi')\n",
    "roi"
   ]
  },
  {
   "cell_type": "code",
   "execution_count": null,
   "id": "a0ce6889-b994-48ec-9362-fbfa2c67de43",
   "metadata": {
    "tags": []
   },
   "outputs": [],
   "source": [
    "key = 'WT0624_cortex_ridge'\n",
    "polygon = Polygon(\n",
    "\n",
    "        np.column_stack([roi[key]['x'], roi[key]['y']])\n",
    "\n",
    ")\n",
    "polygon"
   ]
  },
  {
   "cell_type": "code",
   "execution_count": null,
   "id": "6005fc80-dabb-499e-86dd-513826236d09",
   "metadata": {
    "tags": []
   },
   "outputs": [],
   "source": [
    "adata1 = adata[adata.obs['Sample'] == 'WT2'].copy()"
   ]
  },
  {
   "cell_type": "code",
   "execution_count": null,
   "id": "c99bdfa9-848d-491d-af9d-bca18414cc80",
   "metadata": {
    "tags": []
   },
   "outputs": [],
   "source": [
    "adata1.obs['Cortex_Ridge'] = adata1.obs[['x', 'y']].apply(lambda row: polygon.contains(Point([row['x'],row['y']])), axis = 1)"
   ]
  },
  {
   "cell_type": "code",
   "execution_count": null,
   "id": "882ce3be-0b49-436f-bb4a-bfeb9ecfe6f3",
   "metadata": {
    "tags": []
   },
   "outputs": [],
   "source": [
    "adata1 = adata1[adata1.obs['Cortex_Ridge']].copy()"
   ]
  },
  {
   "cell_type": "code",
   "execution_count": null,
   "id": "455bb206-9cea-437e-8ad5-c1cb7c53d2c3",
   "metadata": {
    "tags": []
   },
   "outputs": [],
   "source": [
    "sc.pl.embedding(adata1, basis = 'spatial_raw', color = 'Cortex_Ridge')"
   ]
  },
  {
   "cell_type": "code",
   "execution_count": null,
   "id": "daa3df9b-c49e-4dc9-92d9-bba7280d3f14",
   "metadata": {
    "tags": []
   },
   "outputs": [],
   "source": [
    "def rotate_coordinates(coords, angle):\n",
    "    theta = np.radians(angle)\n",
    "    rotation_matrix = np.array([[np.cos(theta), -np.sin(theta)],\n",
    "                               [np.sin(theta), np.cos(theta)]])\n",
    "    coords_array = np.array(coords)\n",
    "    rotated_coords = coords_array @ rotation_matrix.T\n",
    "    return rotated_coords"
   ]
  },
  {
   "cell_type": "code",
   "execution_count": null,
   "id": "ff734fbe-51ed-4bcc-a745-2d4432789fe6",
   "metadata": {
    "tags": []
   },
   "outputs": [],
   "source": [
    "sc.set_figure_params(figsize=(3,7), scanpy = False)\n",
    "adata1.obsm['spatial_rotate'] = rotate_coordinates(adata1.obsm['spatial_raw'], 29)\n",
    "sc.pl.embedding(adata1, basis = 'spatial_rotate', color = 'Cortex_Ridge')"
   ]
  },
  {
   "cell_type": "code",
   "execution_count": null,
   "id": "b6ba477b-033d-4b94-994f-94f0d18606dd",
   "metadata": {
    "tags": []
   },
   "outputs": [],
   "source": [
    "sc.pl.embedding(adata1, basis = 'spatial_rotate', color = 'cell_type',  save = 'WT2_cortex_ridge.pdf')"
   ]
  },
  {
   "cell_type": "code",
   "execution_count": null,
   "id": "5f33f933-4a76-458c-950f-91d4c22af872",
   "metadata": {
    "tags": []
   },
   "outputs": [],
   "source": [
    "import seaborn as sns\n",
    "import matplotlib.pyplot as plt\n",
    "\n",
    "plt.figure(figsize=(7, 3))\n",
    "\n",
    "sns.kdeplot(adata1[adata1.obs['cell_type'] == 'Ext L2/3'].obsm['spatial_rotate'][:,1], label='Ext L2/3', color = '#E9530F')\n",
    "sns.kdeplot(adata1[adata1.obs['cell_type'] == 'Ext L4/5'].obsm['spatial_rotate'][:,1], label='Ext L4/5', color = '#3DCCB7')\n",
    "sns.kdeplot(adata1[adata1.obs['cell_type'] == 'Ext L6'].obsm['spatial_rotate'][:,1], label='Ext L6', color = '#34661F')\n",
    "\n",
    "plt.legend()\n",
    "\n",
    "plt.savefig('WT2_cortex_kde_plot.pdf', dpi=300)  # 可以调整dpi和bbox_inches参数\n",
    "\n",
    "plt.show()"
   ]
  },
  {
   "cell_type": "code",
   "execution_count": null,
   "id": "75ae4a09-c049-4f3b-932a-75c60e501040",
   "metadata": {},
   "outputs": [],
   "source": []
  },
  {
   "cell_type": "code",
   "execution_count": null,
   "id": "143ba866-3cdf-416f-aa41-1296e216df34",
   "metadata": {},
   "outputs": [],
   "source": []
  }
 ],
 "metadata": {
  "kernelspec": {
   "display_name": "Python [conda env:python3.10]",
   "language": "python",
   "name": "conda-env-python3.10-py"
  },
  "language_info": {
   "codemirror_mode": {
    "name": "ipython",
    "version": 3
   },
   "file_extension": ".py",
   "mimetype": "text/x-python",
   "name": "python",
   "nbconvert_exporter": "python",
   "pygments_lexer": "ipython3",
   "version": "3.10.9"
  }
 },
 "nbformat": 4,
 "nbformat_minor": 5
}
