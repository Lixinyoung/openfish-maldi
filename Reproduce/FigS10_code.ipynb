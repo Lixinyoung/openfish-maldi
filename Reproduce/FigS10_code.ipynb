{
 "cells": [
  {
   "cell_type": "code",
   "execution_count": null,
   "id": "00bd8ba5-c488-4631-92b3-909377af8483",
   "metadata": {},
   "outputs": [],
   "source": []
  },
  {
   "cell_type": "code",
   "execution_count": null,
   "id": "691d5bf0-a52c-40e1-8bd6-0abb0c2b7bb4",
   "metadata": {},
   "outputs": [],
   "source": []
  },
  {
   "cell_type": "code",
   "execution_count": null,
   "id": "52cd2443-b4ed-4f1d-bfd8-ce49877d0872",
   "metadata": {},
   "outputs": [],
   "source": []
  },
  {
   "cell_type": "code",
   "execution_count": null,
   "id": "ffabc648-fced-4cb5-8195-a181cf147502",
   "metadata": {
    "tags": []
   },
   "outputs": [],
   "source": [
    "import scanpy as sc"
   ]
  },
  {
   "cell_type": "code",
   "execution_count": null,
   "id": "b99ef39e-73ca-46a5-a0ee-da03e54a716f",
   "metadata": {
    "tags": []
   },
   "outputs": [],
   "source": [
    "LPS = sc.read_h5ad(\"/media/duan/sda2/MALDI/Data/LPS_01/LPS_Scaled_Reg2.h5ad\")\n",
    "LPS"
   ]
  },
  {
   "cell_type": "code",
   "execution_count": null,
   "id": "5763841f-c347-4f53-9891-54ba44c1c198",
   "metadata": {
    "tags": []
   },
   "outputs": [],
   "source": [
    "Saline = sc.read_h5ad(\"Result/Saline_MALDI_STaligned.h5ad\")\n",
    "Saline"
   ]
  },
  {
   "cell_type": "code",
   "execution_count": null,
   "id": "e2b49b81-8ceb-46cb-bc1a-805bfdf63f20",
   "metadata": {
    "tags": []
   },
   "outputs": [],
   "source": [
    "LPS.obsm[\"spatial\"][:,1] =  0 - LPS.obsm[\"spatial\"][:,1]"
   ]
  },
  {
   "cell_type": "code",
   "execution_count": null,
   "id": "c7d9f56d-a2ca-4b96-96ca-abcea5d1b0fb",
   "metadata": {
    "tags": []
   },
   "outputs": [],
   "source": [
    "Saline.obsm['spatial'] = Saline.obs[['x_aligned', 'y_aligned']].to_numpy()\n",
    "Saline.obsm[\"spatial\"][:,1] =  0 - Saline.obsm[\"spatial\"][:,1]"
   ]
  },
  {
   "cell_type": "code",
   "execution_count": null,
   "id": "bd87dc54-618c-45f8-b8aa-fdfa49d6b244",
   "metadata": {
    "tags": []
   },
   "outputs": [],
   "source": [
    "Saline.obsm[\"spatial\"].min(axis=  0)"
   ]
  },
  {
   "cell_type": "code",
   "execution_count": null,
   "id": "e55ae2c3-80a4-4fbc-ab6c-ef0f3c11a2de",
   "metadata": {
    "tags": []
   },
   "outputs": [],
   "source": [
    "Saline.obsm[\"spatial\"].max(axis=  0)"
   ]
  },
  {
   "cell_type": "code",
   "execution_count": null,
   "id": "cb58d968-911b-4571-9a49-764f5aecf3b1",
   "metadata": {
    "tags": []
   },
   "outputs": [],
   "source": [
    "LPS"
   ]
  },
  {
   "cell_type": "code",
   "execution_count": null,
   "id": "552c8614-aed0-44d2-b4d0-9b26212787a7",
   "metadata": {
    "tags": []
   },
   "outputs": [],
   "source": [
    "sc.set_figure_params(figsize = (11,6), scanpy = False, dpi_save = 600)\n",
    "sc.pl.embedding(LPS, basis=\"spatial\", color=\"650.4392\", size = 15, frameon = False, vmin = 0, vmax = 300, save = 'LPS_meta_650.4392.pdf')"
   ]
  },
  {
   "cell_type": "code",
   "execution_count": null,
   "id": "79eb877e-e6e6-4fec-8eb8-1a6d60da742d",
   "metadata": {
    "tags": []
   },
   "outputs": [],
   "source": [
    "sc.set_figure_params(figsize = (14,6), scanpy = False, dpi_save = 600)\n",
    "sc.pl.embedding(Saline, basis=\"spatial\", color=\"650.4392\", size = 15, frameon = False, vmin = 0, vmax = 300, save = 'Saline_meta_650.4392.pdf')"
   ]
  },
  {
   "cell_type": "code",
   "execution_count": null,
   "id": "2e88fa1d-ac8b-4cbd-92e0-7d49536b638b",
   "metadata": {},
   "outputs": [],
   "source": []
  },
  {
   "cell_type": "code",
   "execution_count": null,
   "id": "7fad31c0-3519-4fcb-bf1a-ba9ff855bb41",
   "metadata": {},
   "outputs": [],
   "source": []
  },
  {
   "cell_type": "code",
   "execution_count": null,
   "id": "81113d31-479a-494f-ad1e-f7dcc9995976",
   "metadata": {
    "tags": []
   },
   "outputs": [],
   "source": [
    "stLPS = sc.read_h5ad(\"Result/st_filtered.h5ad\")\n",
    "stLPS"
   ]
  },
  {
   "cell_type": "code",
   "execution_count": null,
   "id": "1b9d70b5-7aa0-4201-be5f-802617f73e31",
   "metadata": {
    "tags": []
   },
   "outputs": [],
   "source": [
    "stLPS.obsm['spatial'] = stLPS.obs[['x', 'y']].to_numpy()\n",
    "stLPS.obsm[\"spatial\"][:,1] =  0 - stLPS.obsm[\"spatial\"][:,1]"
   ]
  },
  {
   "cell_type": "code",
   "execution_count": null,
   "id": "41797c99-23e3-4088-9d63-0ba136d9ee11",
   "metadata": {
    "tags": []
   },
   "outputs": [],
   "source": [
    "sc.set_figure_params(figsize = (11,6), scanpy = False)\n",
    "sc.pl.embedding(stLPS, basis=\"spatial\", color=\"Fos\", size = 20, frameon = False, vmax = 5, vmin = 1, cmap = 'inferno', save = 'LPS_Fos.pdf')"
   ]
  },
  {
   "cell_type": "code",
   "execution_count": null,
   "id": "5c8c9f29-0603-4854-b9cd-321cbef344a9",
   "metadata": {},
   "outputs": [],
   "source": []
  },
  {
   "cell_type": "code",
   "execution_count": null,
   "id": "7c298d6b-166d-4db7-9c97-75bfa8621430",
   "metadata": {},
   "outputs": [],
   "source": []
  },
  {
   "cell_type": "code",
   "execution_count": null,
   "id": "f2a8299a-35c5-4973-9c02-8e1bace498bf",
   "metadata": {
    "tags": []
   },
   "outputs": [],
   "source": [
    "stSaline = sc.read_h5ad(\"/media/duan/sda2/MALDI/Data/20250727_Saline_MALDI/MALDI_Saline_filtered.h5ad\")"
   ]
  },
  {
   "cell_type": "code",
   "execution_count": null,
   "id": "87bf708a-b0b5-4b05-8364-c43e8f9b4ad1",
   "metadata": {
    "tags": []
   },
   "outputs": [],
   "source": [
    "sc.set_figure_params(figsize = (13,6), scanpy = False)\n",
    "sc.pl.embedding(stSaline, basis=\"spatial\", color=\"Fos\", size = 20, frameon = False, vmax = 5, vmin = 1, cmap = 'inferno', layer='counts_corrected',save = 'Saline_Fos.pdf')"
   ]
  },
  {
   "cell_type": "code",
   "execution_count": null,
   "id": "d53731dd-dfd5-4529-806f-87f60c25c44f",
   "metadata": {
    "tags": []
   },
   "outputs": [],
   "source": [
    "sc.set_figure_params(figsize = (13,6), scanpy = False)\n",
    "sc.pl.embedding(stSaline, basis=\"spatial\", color=\"Adcyap1\", size = 20, frameon = False, vmax = 'p99', cmap = 'inferno', layer='counts_corrected')"
   ]
  },
  {
   "cell_type": "code",
   "execution_count": null,
   "id": "9f229b21-c7b1-41fb-ba5a-9446a757b644",
   "metadata": {},
   "outputs": [],
   "source": []
  },
  {
   "cell_type": "code",
   "execution_count": null,
   "id": "53bcb877-1e16-412e-beee-7365125f5cae",
   "metadata": {},
   "outputs": [],
   "source": []
  },
  {
   "cell_type": "code",
   "execution_count": null,
   "id": "9a4e427e-d6b3-40bf-8d4e-402a7954eac7",
   "metadata": {},
   "outputs": [],
   "source": []
  },
  {
   "cell_type": "code",
   "execution_count": null,
   "id": "8e1a9060-72ec-4592-97d8-123eb52617fb",
   "metadata": {},
   "outputs": [],
   "source": []
  },
  {
   "cell_type": "code",
   "execution_count": null,
   "id": "409b3de5-eb01-49bf-8131-0b28a5699a72",
   "metadata": {
    "tags": []
   },
   "outputs": [],
   "source": [
    "from read_roi import read_roi_file, read_roi_zip"
   ]
  },
  {
   "cell_type": "code",
   "execution_count": null,
   "id": "4048ca02-1ae7-44d1-ae3c-75a7ae181e52",
   "metadata": {
    "tags": []
   },
   "outputs": [],
   "source": [
    "LPS_roi = read_roi_file(\"/media/duan/sda2/MALDI/Data/20250727_LPS_MALDI/Result/LPS_NTS-AP.roi\")\n",
    "LPS_roi"
   ]
  },
  {
   "cell_type": "code",
   "execution_count": null,
   "id": "f643e34c-6ff5-4c66-9ec8-8cccd7fb07b1",
   "metadata": {
    "tags": []
   },
   "outputs": [],
   "source": [
    "from shapely import Polygon,Point\n",
    "import numpy as np"
   ]
  },
  {
   "cell_type": "code",
   "execution_count": null,
   "id": "ac490293-c63e-4cc5-b1ca-e0ba3a2e1d00",
   "metadata": {
    "tags": []
   },
   "outputs": [],
   "source": [
    "roi = LPS_roi['LPS_NTS-AP']\n",
    "polygon = Polygon([[roi['left'], roi['top']], \n",
    "                   [roi['left'] + roi['width'], roi['top']], \n",
    "                   [roi['left'] + roi['width'], roi['top'] + roi['height']], \n",
    "                   [roi['left'], roi['top'] + roi['height']]])\n",
    "polygon"
   ]
  },
  {
   "cell_type": "code",
   "execution_count": null,
   "id": "d481224f-a4d7-4c70-bc0b-fc78741e97d0",
   "metadata": {
    "tags": []
   },
   "outputs": [],
   "source": [
    "LPS.obs['AP-NTS'] = LPS.obs[['x_aligned', 'y_aligned']].apply(lambda row: polygon.contains(Point([row['x_aligned'],row['y_aligned']])), axis = 1)"
   ]
  },
  {
   "cell_type": "code",
   "execution_count": null,
   "id": "679fec7e-8021-4993-8f7c-2847eb284d4c",
   "metadata": {
    "tags": []
   },
   "outputs": [],
   "source": [
    "tmp = LPS[LPS.obs['AP-NTS']].copy()\n",
    "tmp = tmp[tmp.to_df()['650.4392'] > 140].copy()"
   ]
  },
  {
   "cell_type": "code",
   "execution_count": null,
   "id": "5c41b7ee-a792-4791-afbf-ddab51a6ae22",
   "metadata": {
    "tags": []
   },
   "outputs": [],
   "source": [
    "sc.set_figure_params(figsize = (5,5), scanpy = False, dpi_save = 600)\n",
    "sc.pl.embedding(tmp, basis=\"spatial\", color=\"650.4392\", size = 150, frameon = False, vmin = 140, vmax = 300, save = 'LPS_AP-NTS_650.4392.pdf')"
   ]
  },
  {
   "cell_type": "code",
   "execution_count": null,
   "id": "6230723c-f5dc-478f-8243-8ad5feb49b1c",
   "metadata": {},
   "outputs": [],
   "source": []
  },
  {
   "cell_type": "code",
   "execution_count": null,
   "id": "e089cc3a-efb2-4093-8ebd-0f2065395743",
   "metadata": {
    "tags": []
   },
   "outputs": [],
   "source": [
    "Saline_roi = read_roi_file(\"/media/duan/sda2/MALDI/Data/20250727_LPS_MALDI/Result/Saline_NTS-AP.roi\")\n",
    "Saline_roi"
   ]
  },
  {
   "cell_type": "code",
   "execution_count": null,
   "id": "2c6043ec-2ddf-4346-83fe-9fa32e534c98",
   "metadata": {
    "tags": []
   },
   "outputs": [],
   "source": [
    "from shapely import Polygon,Point\n",
    "import numpy as np"
   ]
  },
  {
   "cell_type": "code",
   "execution_count": null,
   "id": "af7ab0b2-5491-496e-a5aa-70418d8ef71f",
   "metadata": {
    "tags": []
   },
   "outputs": [],
   "source": [
    "roi = Saline_roi['Saline_NTS-AP']\n",
    "polygon = Polygon([[roi['left'], roi['top']], \n",
    "                   [roi['left'] + roi['width'], roi['top']], \n",
    "                   [roi['left'] + roi['width'], roi['top'] + roi['height']], \n",
    "                   [roi['left'], roi['top'] + roi['height']]])\n",
    "polygon"
   ]
  },
  {
   "cell_type": "code",
   "execution_count": null,
   "id": "3c26bfd3-7e39-4e54-bbc3-ea4ad7fa1c34",
   "metadata": {
    "tags": []
   },
   "outputs": [],
   "source": [
    "Saline.obs['AP-NTS'] = Saline.obs[['x_aligned', 'y_aligned']].apply(lambda row: polygon.contains(Point([row['x_aligned'],row['y_aligned']])), axis = 1)"
   ]
  },
  {
   "cell_type": "code",
   "execution_count": null,
   "id": "723fb6b6-ae8e-4220-a7f3-b324480acf5a",
   "metadata": {
    "tags": []
   },
   "outputs": [],
   "source": [
    "tmp = Saline[Saline.obs['AP-NTS']].copy()\n",
    "tmp = tmp[tmp.to_df()['650.4392'] > 0].copy()"
   ]
  },
  {
   "cell_type": "code",
   "execution_count": null,
   "id": "e3eda78b-440a-42e5-ae07-64507295b93c",
   "metadata": {
    "tags": []
   },
   "outputs": [],
   "source": [
    "sc.set_figure_params(figsize = (5,5), scanpy = False, dpi_save = 600)\n",
    "sc.pl.embedding(tmp, basis=\"spatial\", color=\"650.4392\", size = 150, frameon = False, vmin = 140, vmax = 300, save = 'Saline_AP-NTS_650.4392.pdf')"
   ]
  },
  {
   "cell_type": "raw",
   "id": "bebb179b-4de3-4726-8ec4-cdac03377e7a",
   "metadata": {
    "tags": []
   },
   "source": [
    "sc.set_figure_params(figsize = (13,6), scanpy = False)\n",
    "sc.pl.embedding(stLPS, basis=\"spatial\", color=\"Adcyap1\", size = 20, frameon = False, vmax = 'p99', cmap = 'inferno', layer='counts_corrected')"
   ]
  },
  {
   "cell_type": "code",
   "execution_count": null,
   "id": "f5eabb35-9761-4292-b582-cab801984554",
   "metadata": {
    "tags": []
   },
   "outputs": [],
   "source": [
    "from read_roi import read_roi_file, read_roi_zip"
   ]
  },
  {
   "cell_type": "code",
   "execution_count": null,
   "id": "4c497cb9-af97-4953-ac9c-eceb7c2394d4",
   "metadata": {
    "tags": []
   },
   "outputs": [],
   "source": [
    "LPS_roi = read_roi_file(\"/media/duan/sda2/MALDI/Data/20250727_LPS_MALDI/Result/LPS_NTS-AP.roi\")\n",
    "LPS_roi"
   ]
  },
  {
   "cell_type": "code",
   "execution_count": null,
   "id": "1329900d-6a2e-4ced-a20c-0c5a1627fd63",
   "metadata": {
    "tags": []
   },
   "outputs": [],
   "source": [
    "from shapely import Polygon,Point\n",
    "import numpy as np"
   ]
  },
  {
   "cell_type": "code",
   "execution_count": null,
   "id": "1e06f708-0c32-47e8-98a2-f68ed54737c9",
   "metadata": {
    "tags": []
   },
   "outputs": [],
   "source": [
    "roi = LPS_roi['LPS_NTS-AP']\n",
    "polygon = Polygon([[roi['left'], roi['top']], \n",
    "                   [roi['left'] + roi['width'], roi['top']], \n",
    "                   [roi['left'] + roi['width'], roi['top'] + roi['height']], \n",
    "                   [roi['left'], roi['top'] + roi['height']]])\n",
    "polygon"
   ]
  },
  {
   "cell_type": "code",
   "execution_count": null,
   "id": "42f2e27e-2927-41b3-987a-bc85e9008fcf",
   "metadata": {
    "tags": []
   },
   "outputs": [],
   "source": [
    "stLPS.obs['AP-NTS'] = stLPS.obs[['x', 'y']].apply(lambda row: polygon.contains(Point([row['x'],row['y']])), axis = 1)"
   ]
  },
  {
   "cell_type": "code",
   "execution_count": null,
   "id": "e80315ce-3f64-4409-ac16-5a6124d057d7",
   "metadata": {
    "tags": []
   },
   "outputs": [],
   "source": [
    "tmp = stLPS[stLPS.obs['AP-NTS']].copy()\n",
    "# tmp = tmp[tmp.to_df()['650.4392'] > 140].copy()"
   ]
  },
  {
   "cell_type": "code",
   "execution_count": null,
   "id": "1a29400f-5fda-4fc7-b2b7-9181d096ba48",
   "metadata": {
    "tags": []
   },
   "outputs": [],
   "source": [
    "sc.set_figure_params(figsize = (5,5), scanpy = False, dpi_save = 600)\n",
    "sc.pl.embedding(tmp, basis=\"spatial\", color=\"Fos\", size = 150, frameon = False, vmax = 3, cmap = 'inferno', save = 'Fos_LPS_AP-NTS.pdf')"
   ]
  },
  {
   "cell_type": "code",
   "execution_count": null,
   "id": "ed185b9b-5fbd-489f-8ced-94a0a6e6e613",
   "metadata": {
    "tags": []
   },
   "outputs": [],
   "source": [
    "stSaline.obs['x'] = stSaline.obs['x'].max() - stSaline.obs['x']"
   ]
  },
  {
   "cell_type": "code",
   "execution_count": null,
   "id": "c9481fc7-3877-41d0-89f7-97b74e4c6647",
   "metadata": {
    "tags": []
   },
   "outputs": [],
   "source": [
    "roi = Saline_roi['Saline_NTS-AP']\n",
    "polygon = Polygon([[roi['left'], roi['top']], \n",
    "                   [roi['left'] + roi['width'], roi['top']], \n",
    "                   [roi['left'] + roi['width'], roi['top'] + roi['height']], \n",
    "                   [roi['left'], roi['top'] + roi['height']]])\n",
    "polygon"
   ]
  },
  {
   "cell_type": "code",
   "execution_count": null,
   "id": "861c5bdc-421c-4624-a738-b26643061f2b",
   "metadata": {
    "tags": []
   },
   "outputs": [],
   "source": [
    "stSaline.obs['AP-NTS'] = stSaline.obs[['x', 'y']].apply(lambda row: polygon.contains(Point([row['x'],row['y']])), axis = 1)"
   ]
  },
  {
   "cell_type": "code",
   "execution_count": null,
   "id": "a4addca4-c995-4781-a957-7917eede3802",
   "metadata": {
    "tags": []
   },
   "outputs": [],
   "source": [
    "tmp = stSaline[stSaline.obs['AP-NTS']].copy()\n",
    "#tmp = tmp[tmp.to_df()['650.4392'] > 0].copy()"
   ]
  },
  {
   "cell_type": "code",
   "execution_count": null,
   "id": "5df86495-3f59-4bc4-998d-6fcbd1d33181",
   "metadata": {
    "tags": []
   },
   "outputs": [],
   "source": [
    "sc.set_figure_params(figsize = (5,5), scanpy = False, dpi_save = 600)\n",
    "sc.pl.embedding(tmp, basis=\"spatial\", color=\"Fos\", size = 150, frameon = False, vmax = 3, cmap = 'inferno', save = 'Fos_Saline_AP-NTS.pdf')"
   ]
  },
  {
   "cell_type": "code",
   "execution_count": null,
   "id": "3e2edf4f-0730-4270-91b1-5e26962f7334",
   "metadata": {},
   "outputs": [],
   "source": []
  },
  {
   "cell_type": "code",
   "execution_count": null,
   "id": "2435200b-2c10-4d53-ba6a-3559c7e9bf92",
   "metadata": {},
   "outputs": [],
   "source": []
  },
  {
   "cell_type": "code",
   "execution_count": null,
   "id": "03017a9f-34e1-4b7b-bdc5-f058eebbfd8e",
   "metadata": {
    "tags": []
   },
   "outputs": [],
   "source": [
    "from spatialdata import read_zarr\n",
    "import geopandas as gpd\n",
    "import numpy as np\n",
    "import scanpy as sc\n",
    "from shapely import Polygon\n",
    "from read_roi import read_roi_file, read_roi_zip\n",
    "import pandas as pd"
   ]
  },
  {
   "cell_type": "code",
   "execution_count": null,
   "id": "5a0199ef-c23b-4194-a5bf-0a6ac7774cf0",
   "metadata": {
    "tags": []
   },
   "outputs": [],
   "source": [
    "sdata = read_zarr(\"/media/duan/sda2/MALDI/Data/20250727_LPS_MALDI/Result/raw_sdata.zarr\")\n",
    "sdata"
   ]
  },
  {
   "cell_type": "code",
   "execution_count": null,
   "id": "1b9e1038-615a-4ea6-a2ae-746645e4e048",
   "metadata": {
    "tags": []
   },
   "outputs": [],
   "source": [
    "st_polygon = sdata.shapes['MultiModel'].copy()\n",
    "st_polygon"
   ]
  },
  {
   "cell_type": "code",
   "execution_count": null,
   "id": "6f3aaecd-78f1-43bd-bf85-a2daf5032907",
   "metadata": {
    "scrolled": true,
    "tags": []
   },
   "outputs": [],
   "source": [
    "fos_roi1 = read_roi_zip(\"/media/duan/sda2/MALDI/Data/20250727_LPS_MALDI/RoiSet_RO4_20250811.zip\")\n",
    "fos_roi1"
   ]
  },
  {
   "cell_type": "code",
   "execution_count": null,
   "id": "40cc2f15-ebe5-45db-9186-2f3a0264644e",
   "metadata": {
    "tags": []
   },
   "outputs": [],
   "source": [
    "index_list = []\n",
    "polygon_list = []\n",
    "\n",
    "for key, value in fos_roi1.items():\n",
    "    index_list.append(key)\n",
    "    \n",
    "    polygon = Polygon(\n",
    "\n",
    "        np.column_stack([value['x'][0:4], value['y'][0:4]])\n",
    "\n",
    "    )\n",
    "    \n",
    "    polygon_list.append(polygon)"
   ]
  },
  {
   "cell_type": "code",
   "execution_count": null,
   "id": "a2b909c3-7487-4e84-882f-0cffc0fab360",
   "metadata": {
    "tags": []
   },
   "outputs": [],
   "source": [
    "sm_polygon = gpd.GeoDataFrame(geometry=polygon_list)\n",
    "sm_polygon"
   ]
  },
  {
   "cell_type": "code",
   "execution_count": null,
   "id": "50789008-79a5-4e1e-8976-3feb2feba3d6",
   "metadata": {
    "tags": []
   },
   "outputs": [],
   "source": [
    "sm_polygon.index = index_list\n",
    "sm_polygon"
   ]
  },
  {
   "cell_type": "code",
   "execution_count": null,
   "id": "e4a59363-ab21-483a-8685-d7660da45f88",
   "metadata": {
    "tags": []
   },
   "outputs": [],
   "source": [
    "st_polygon.index = [str(x) for x in st_polygon.index]"
   ]
  },
  {
   "cell_type": "code",
   "execution_count": null,
   "id": "3b427e7c-3541-4255-ad6f-5c2176748299",
   "metadata": {
    "tags": []
   },
   "outputs": [],
   "source": [
    "st_polygon = st_polygon.loc[adata_st.obs_names, :].copy()\n",
    "st_polygon"
   ]
  },
  {
   "cell_type": "code",
   "execution_count": null,
   "id": "d3de6091-e24b-49b1-80bc-3f1b8c72c3f7",
   "metadata": {
    "tags": []
   },
   "outputs": [],
   "source": [
    "intersection = gpd.sjoin(st_polygon, sm_polygon, how='inner', predicate='intersects')\n",
    "intersection"
   ]
  },
  {
   "cell_type": "markdown",
   "id": "170cdc1f-a2b2-4207-82fe-12756eb35c4d",
   "metadata": {},
   "source": []
  },
  {
   "cell_type": "code",
   "execution_count": null,
   "id": "a55b82d9-c688-4553-a2f5-0e7cb79658b2",
   "metadata": {
    "tags": []
   },
   "outputs": [],
   "source": [
    "intersection['index_st'] = intersection.index\n",
    "intersection['index_sm'] = intersection['index_right'].copy()\n",
    "intersection"
   ]
  },
  {
   "cell_type": "code",
   "execution_count": null,
   "id": "1687d7f2-3d54-4c3d-80ba-ea517042c1af",
   "metadata": {
    "tags": []
   },
   "outputs": [],
   "source": [
    "intersection = intersection.set_index('index_right', drop = True)\n",
    "intersection"
   ]
  },
  {
   "cell_type": "code",
   "execution_count": null,
   "id": "78c00747-7259-4beb-be9a-6dc8d1d2d188",
   "metadata": {
    "tags": []
   },
   "outputs": [],
   "source": [
    "# 查看ablation marker和细胞的交集情况，先第一遍遍历记录cell_area，ablation_area面积和 sampling area\n",
    "from tqdm import tqdm\n",
    "\n",
    "cell_areas = []\n",
    "ablation_areas = []\n",
    "sampling_areas = []\n",
    "\n",
    "for _, row in tqdm(intersection.iterrows()):\n",
    "    \n",
    "    st_idx = row['index_st']\n",
    "    sm_idx = row['index_sm']\n",
    "    \n",
    "    ablation_marker = sm_polygon.loc[sm_idx, 'geometry']\n",
    "    cell_segmentation = st_polygon.loc[st_idx, 'geometry']\n",
    "    \n",
    "    cell_areas.append(cell_segmentation.area)\n",
    "    ablation_areas.append(ablation_marker.area)\n",
    "    sampling_areas.append(ablation_marker.intersection(cell_segmentation).area)"
   ]
  },
  {
   "cell_type": "code",
   "execution_count": null,
   "id": "402f3c30-f1b1-4b7b-9ce5-2b1c7721c7db",
   "metadata": {
    "tags": []
   },
   "outputs": [],
   "source": [
    "intersection['cell_area'] = cell_areas\n",
    "intersection['ablation_area'] = ablation_areas\n",
    "intersection['sampling_area'] = sampling_areas"
   ]
  },
  {
   "cell_type": "code",
   "execution_count": null,
   "id": "2d360047-179c-4b78-a9e9-23fb5e242005",
   "metadata": {
    "tags": []
   },
   "outputs": [],
   "source": [
    "intersection"
   ]
  },
  {
   "cell_type": "code",
   "execution_count": null,
   "id": "101e8863-8a37-4fe2-ac0f-ef74d9413ee0",
   "metadata": {
    "tags": []
   },
   "outputs": [],
   "source": [
    "criteria1 = (intersection['sampling_area'] - intersection['ablation_area'] * 0.45) > 0"
   ]
  },
  {
   "cell_type": "code",
   "execution_count": null,
   "id": "dfe7816c-c740-4bb3-acfe-eacf8db813fe",
   "metadata": {
    "tags": []
   },
   "outputs": [],
   "source": [
    "intersection['criteria1'] = criteria1"
   ]
  },
  {
   "cell_type": "code",
   "execution_count": null,
   "id": "388583b7-3bb2-40d6-9949-62cc3aa688ca",
   "metadata": {
    "scrolled": true,
    "tags": []
   },
   "outputs": [],
   "source": [
    "intersection = intersection.sort_index()\n",
    "intersection"
   ]
  },
  {
   "cell_type": "code",
   "execution_count": null,
   "id": "90893ccd-80b4-40a0-b810-086adbc95d2e",
   "metadata": {
    "tags": []
   },
   "outputs": [],
   "source": [
    "# 第二遍遍历记录sampling_specificity\n",
    "\n",
    "sampling_specificities = []\n",
    "\n",
    "for idx in tqdm(intersection.index.unique()):\n",
    "    \n",
    "    if isinstance(intersection.loc[idx,:], pd.core.frame.Series):\n",
    "        sampling_specificities.append(1.0)\n",
    "    else:\n",
    "        \n",
    "        tmp_gdf = intersection.loc[idx, :].copy()\n",
    "        \n",
    "        batch_total_sampling_area = tmp_gdf['sampling_area'].sum()\n",
    "        for batch_sampling_area in tmp_gdf['sampling_area']:\n",
    "            sampling_specificities.append(batch_sampling_area/batch_total_sampling_area)"
   ]
  },
  {
   "cell_type": "code",
   "execution_count": null,
   "id": "f2530464-ccf4-4e8a-9909-d85ee276f4a7",
   "metadata": {
    "tags": []
   },
   "outputs": [],
   "source": [
    "intersection['sampling_specificity'] = sampling_specificities\n",
    "intersection"
   ]
  },
  {
   "cell_type": "code",
   "execution_count": null,
   "id": "a84f3f67-1a48-4b1e-96cb-e5965c4a3db7",
   "metadata": {
    "tags": []
   },
   "outputs": [],
   "source": [
    "criteria2 = intersection['sampling_specificity'] > 0.9\n",
    "intersection['criteria2'] = criteria2\n",
    "intersection"
   ]
  },
  {
   "cell_type": "code",
   "execution_count": null,
   "id": "12d4113b-a523-4299-abf5-27da1d06b61c",
   "metadata": {
    "tags": []
   },
   "outputs": [],
   "source": [
    "intersection['criteria1'] & intersection['criteria2']"
   ]
  },
  {
   "cell_type": "code",
   "execution_count": null,
   "id": "f55e9c7c-3ea8-4b5a-9425-91e0e76b953b",
   "metadata": {
    "tags": []
   },
   "outputs": [],
   "source": [
    "intersection = intersection[intersection['criteria1'] & intersection['criteria2']].copy()"
   ]
  },
  {
   "cell_type": "code",
   "execution_count": null,
   "id": "4ef4d463-45e6-486e-ad66-69dcae34501f",
   "metadata": {
    "tags": []
   },
   "outputs": [],
   "source": [
    "intersection"
   ]
  },
  {
   "cell_type": "code",
   "execution_count": null,
   "id": "61cc5a85-d5e2-4255-aa98-249b5526e283",
   "metadata": {
    "tags": []
   },
   "outputs": [],
   "source": [
    "if len(intersection['index_st'].unique()) < len(intersection):\n",
    "    print('需要进行Ablation marker merge')"
   ]
  },
  {
   "cell_type": "code",
   "execution_count": null,
   "id": "e7affa43-6cd6-4386-baa5-0a31d893da66",
   "metadata": {
    "tags": []
   },
   "outputs": [],
   "source": [
    "intersection = intersection.set_index('index_st', drop = False)\n",
    "intersection"
   ]
  },
  {
   "cell_type": "code",
   "execution_count": null,
   "id": "b300e352-27a5-4bc9-9090-28b8ea97bd43",
   "metadata": {
    "tags": []
   },
   "outputs": [],
   "source": [
    "intersection = intersection.sort_index()\n",
    "intersection"
   ]
  },
  {
   "cell_type": "code",
   "execution_count": null,
   "id": "5db51def-27fd-412f-bdba-596d85e31b87",
   "metadata": {
    "tags": []
   },
   "outputs": [],
   "source": [
    "# 第三遍遍历merge用了同一个细胞的ablation marker\n",
    "\n",
    "new_ablation_areas = []\n",
    "new_sampling_areas = []\n",
    "new_sampleing_specificities = []\n",
    "\n",
    "sampling_specificities = []\n",
    "\n",
    "for idx in tqdm(intersection.index.unique()):\n",
    "    \n",
    "    if isinstance(intersection.loc[idx,:], pd.core.frame.Series):\n",
    "        new_ablation_areas.append(intersection.loc[idx,'ablation_area'])\n",
    "        new_sampling_areas.append(intersection.loc[idx,'sampling_area'])\n",
    "        new_sampleing_specificities.append(intersection.loc[idx,'sampling_specificity'])\n",
    "        \n",
    "    else:\n",
    "        \n",
    "        tmp_gdf = intersection.loc[idx, :].copy()\n",
    "        \n",
    "        tmp_ablation_area = tmp_gdf['ablation_area'].sum()\n",
    "        tmp_sampling_area = tmp_gdf['sampling_area'].sum()\n",
    "        tmp_sampling_specificity = (tmp_gdf['sampling_area'] * tmp_gdf['sampling_specificity']).sum()/tmp_sampling_area\n",
    "        \n",
    "        new_ablation_areas.extend([tmp_ablation_area] * len(tmp_gdf))\n",
    "        new_sampling_areas.extend([tmp_sampling_area] * len(tmp_gdf))\n",
    "        new_sampleing_specificities.extend([tmp_sampling_specificity] * len(tmp_gdf))"
   ]
  },
  {
   "cell_type": "code",
   "execution_count": null,
   "id": "7558a81a-100d-473a-a289-0891b74bafa5",
   "metadata": {
    "tags": []
   },
   "outputs": [],
   "source": [
    "intersection['new_ablation_area'] = new_ablation_areas\n",
    "intersection['new_sampling_area'] = new_sampling_areas\n",
    "intersection['new_sampling_specificity'] = new_sampleing_specificities"
   ]
  },
  {
   "cell_type": "code",
   "execution_count": null,
   "id": "dad2871c-46b2-49c6-800f-535c9fe28db0",
   "metadata": {
    "tags": []
   },
   "outputs": [],
   "source": [
    "intersection"
   ]
  },
  {
   "cell_type": "code",
   "execution_count": null,
   "id": "6383c0e6-4306-47f9-9385-b0940dd5d5e2",
   "metadata": {
    "tags": []
   },
   "outputs": [],
   "source": [
    "intersection = intersection[['index_st', 'index_sm', 'new_ablation_area', 'new_sampling_area', 'new_sampling_specificity']].copy()"
   ]
  },
  {
   "cell_type": "code",
   "execution_count": null,
   "id": "94298a63-d202-4306-a49f-dd9e8fd39478",
   "metadata": {
    "tags": []
   },
   "outputs": [],
   "source": [
    "intersection.columns = ['index_st', 'index_sm', 'ablation_area', 'sampling_area', 'sampling_specificity']"
   ]
  },
  {
   "cell_type": "code",
   "execution_count": null,
   "id": "f7fa92bb-18c2-4557-b1c0-b87d6b2dbda2",
   "metadata": {
    "tags": []
   },
   "outputs": [],
   "source": [
    "Final_join_df = intersection.reset_index(drop=True)"
   ]
  },
  {
   "cell_type": "raw",
   "id": "6f2d204f-ec1b-407a-925a-ddca6d34ebc9",
   "metadata": {
    "tags": []
   },
   "source": [
    "Final_join_df = Final_join_df.drop_duplicates('index_st')"
   ]
  },
  {
   "cell_type": "code",
   "execution_count": null,
   "id": "033bc588-87e5-4e12-b1c5-03486b422d15",
   "metadata": {
    "tags": []
   },
   "outputs": [],
   "source": [
    "Final_join_df.to_csv(\"Result/FosROI4_join_df.csv\", index=False)"
   ]
  },
  {
   "cell_type": "code",
   "execution_count": null,
   "id": "a63db67b-3373-496c-a239-c0dcad5d2286",
   "metadata": {},
   "outputs": [],
   "source": []
  },
  {
   "cell_type": "code",
   "execution_count": null,
   "id": "cffcb8cc-daee-4720-ad5b-a3298594e031",
   "metadata": {},
   "outputs": [],
   "source": []
  },
  {
   "cell_type": "code",
   "execution_count": null,
   "id": "94c08f1b-62db-4f09-8789-d03a8f610eec",
   "metadata": {
    "tags": []
   },
   "outputs": [],
   "source": [
    "import scanpy as sc\n",
    "import pandas as pd\n",
    "from shapely import Polygon, Point\n",
    "import numpy as np"
   ]
  },
  {
   "cell_type": "code",
   "execution_count": null,
   "id": "59c1d8ae-0e83-4642-827c-f9cd77e5763a",
   "metadata": {
    "tags": []
   },
   "outputs": [],
   "source": [
    "adata = sc.read_h5ad(\"/media/duan/sda2/MALDI/Data/20250727_LPS_MALDI/Result/st_filtered.h5ad\")\n",
    "adata"
   ]
  },
  {
   "cell_type": "code",
   "execution_count": null,
   "id": "92c86146-8fac-40a6-af5b-faa19d89b112",
   "metadata": {
    "tags": []
   },
   "outputs": [],
   "source": [
    "adata.obsm['spatial'] = adata.obs[['x', 'y']].to_numpy()\n",
    "adata.obsm[\"spatial\"][:,1] =  0 - adata.obsm[\"spatial\"][:,1]"
   ]
  },
  {
   "cell_type": "code",
   "execution_count": null,
   "id": "ca5f278d-9562-4445-b4bf-9b1b9c5e50b0",
   "metadata": {
    "tags": []
   },
   "outputs": [],
   "source": [
    "df = pd.read_csv(\"/media/duan/sda2/MALDI/Data/LPS_01/Fos_coordinates.csv\", skiprows=2)\n",
    "df"
   ]
  },
  {
   "cell_type": "code",
   "execution_count": null,
   "id": "0aa8c4dd-db2d-46ef-b481-0818e848a04a",
   "metadata": {
    "tags": []
   },
   "outputs": [],
   "source": []
  },
  {
   "cell_type": "code",
   "execution_count": null,
   "id": "bf85a951-c941-4bc7-b77a-3098a644dc68",
   "metadata": {
    "tags": []
   },
   "outputs": [],
   "source": [
    "polygon = Polygon((df[df['Selection'] == 'Fos_ROI1'][['X', 'Y']] / 0.325).to_numpy())\n",
    "polygon"
   ]
  },
  {
   "cell_type": "code",
   "execution_count": null,
   "id": "03dc52e4-9df5-44e5-b1d4-b4db752d5159",
   "metadata": {
    "tags": []
   },
   "outputs": [],
   "source": [
    "adata.obs['Fos_ROI1'] = adata.obs[['x', 'y']].apply(lambda row: polygon.contains(Point([row['x'],row['y']])), axis = 1)"
   ]
  },
  {
   "cell_type": "code",
   "execution_count": null,
   "id": "9151c8e2-e6eb-4163-91c7-9046f1d6330b",
   "metadata": {
    "tags": []
   },
   "outputs": [],
   "source": [
    "sc.pl.embedding(adata, basis = 'spatial', color = 'Fos_ROI1', size = 10)"
   ]
  },
  {
   "cell_type": "code",
   "execution_count": null,
   "id": "0b967947-4eb9-4532-a6be-9fbec4914c24",
   "metadata": {},
   "outputs": [],
   "source": []
  },
  {
   "cell_type": "code",
   "execution_count": null,
   "id": "3dc3735a-1417-4535-ac72-0dab51d0502a",
   "metadata": {
    "tags": []
   },
   "outputs": [],
   "source": [
    "polygon = Polygon((df[df['Selection'] == 'Fos_ROI2'][['X', 'Y']] / 0.325).to_numpy())\n",
    "polygon"
   ]
  },
  {
   "cell_type": "code",
   "execution_count": null,
   "id": "6729bce8-2e90-4270-b5b1-5b10eceb0203",
   "metadata": {
    "tags": []
   },
   "outputs": [],
   "source": [
    "adata.obs['Fos_ROI2'] = adata.obs[['x', 'y']].apply(lambda row: polygon.contains(Point([row['x'],row['y']])), axis = 1)"
   ]
  },
  {
   "cell_type": "code",
   "execution_count": null,
   "id": "54922776-6ed2-4107-91ee-f63be6ba535e",
   "metadata": {
    "tags": []
   },
   "outputs": [],
   "source": [
    "sc.pl.embedding(adata, basis = 'spatial', color = 'Fos_ROI2', size = 10)"
   ]
  },
  {
   "cell_type": "code",
   "execution_count": null,
   "id": "26386097-33f2-4c04-a094-2344a7c8d0da",
   "metadata": {},
   "outputs": [],
   "source": []
  },
  {
   "cell_type": "code",
   "execution_count": null,
   "id": "daae3b00-2b67-45f7-9e95-8f70963524b9",
   "metadata": {
    "tags": []
   },
   "outputs": [],
   "source": [
    "polygon = Polygon((df[df['Selection'] == 'Fos_ROI3'][['X', 'Y']] / 0.325).to_numpy())\n",
    "polygon"
   ]
  },
  {
   "cell_type": "code",
   "execution_count": null,
   "id": "89ea5d56-a19b-4430-8bc0-67b8e3b99fdc",
   "metadata": {
    "tags": []
   },
   "outputs": [],
   "source": [
    "adata.obs['Fos_ROI3'] = adata.obs[['x', 'y']].apply(lambda row: polygon.contains(Point([row['x'],row['y']])), axis = 1)"
   ]
  },
  {
   "cell_type": "code",
   "execution_count": null,
   "id": "3a9e0a80-0ac3-4655-bf74-a52077907ec2",
   "metadata": {
    "tags": []
   },
   "outputs": [],
   "source": [
    "sc.pl.embedding(adata, basis = 'spatial', color = 'Fos_ROI3', size = 10)"
   ]
  },
  {
   "cell_type": "code",
   "execution_count": null,
   "id": "625b9ad9-be84-453f-b06a-136e7cf290db",
   "metadata": {},
   "outputs": [],
   "source": []
  },
  {
   "cell_type": "code",
   "execution_count": null,
   "id": "c7654d23-5214-4543-8944-c8a50cef5bb2",
   "metadata": {
    "tags": []
   },
   "outputs": [],
   "source": [
    "polygon = Polygon((df[df['Selection'] == 'Fos_ROI4'][['X', 'Y']] / 0.325).to_numpy())\n",
    "polygon"
   ]
  },
  {
   "cell_type": "code",
   "execution_count": null,
   "id": "4dd84d88-4530-4c8a-8929-3fd6962b24c1",
   "metadata": {
    "tags": []
   },
   "outputs": [],
   "source": [
    "adata.obs['Fos_ROI4'] = adata.obs[['x', 'y']].apply(lambda row: polygon.contains(Point([row['x'],row['y']])), axis = 1)"
   ]
  },
  {
   "cell_type": "code",
   "execution_count": null,
   "id": "954cc051-d166-4e34-afa9-0de1e13d2252",
   "metadata": {
    "tags": []
   },
   "outputs": [],
   "source": [
    "sc.pl.embedding(adata, basis = 'spatial', color = 'Fos_ROI4', size = 10)"
   ]
  },
  {
   "cell_type": "code",
   "execution_count": null,
   "id": "da87c778-d8be-4dd5-bf7c-5e932489c8d2",
   "metadata": {
    "tags": []
   },
   "outputs": [],
   "source": []
  },
  {
   "cell_type": "code",
   "execution_count": null,
   "id": "0f089e18-c961-4b87-b183-fdf9396987ca",
   "metadata": {
    "tags": []
   },
   "outputs": [],
   "source": [
    "adata_Fos = adata[(adata.obs['Fos_ROI1']) | (adata.obs['Fos_ROI2']) | (adata.obs['Fos_ROI3']) | (adata.obs['Fos_ROI4'])].copy()"
   ]
  },
  {
   "cell_type": "code",
   "execution_count": null,
   "id": "8055660b-997d-4abb-ab35-0e089459cdab",
   "metadata": {
    "tags": []
   },
   "outputs": [],
   "source": [
    "adata_Fos.write_h5ad(\"Result/FISH_Fos_filtered.h5ad\")"
   ]
  },
  {
   "cell_type": "code",
   "execution_count": null,
   "id": "7bffbb51-2e75-4b81-83c0-3d6248bd0aa4",
   "metadata": {
    "tags": []
   },
   "outputs": [],
   "source": [
    "adata = adata_Fos.copy()"
   ]
  },
  {
   "cell_type": "code",
   "execution_count": null,
   "id": "f7598b9c-73ea-44ad-8661-f0473e48dada",
   "metadata": {
    "tags": []
   },
   "outputs": [],
   "source": [
    "adata = sc.read_h5ad(\"Result/FISH_Fos_filtered.h5ad\")"
   ]
  },
  {
   "cell_type": "code",
   "execution_count": null,
   "id": "dae22e61-aea5-4fb6-b1f5-5b5d367ba11e",
   "metadata": {
    "tags": []
   },
   "outputs": [],
   "source": [
    "# Normalize using cell area\n",
    "import numpy as np\n",
    "from scipy.sparse import csr_matrix\n",
    "cell_area = np.array(adata.obs[\"area\"])\n",
    "# cell_area = cell_area.reshape((len(cell_area),1))\n",
    "adata.X = csr_matrix((adata.X.T / cell_area).T)"
   ]
  },
  {
   "cell_type": "code",
   "execution_count": null,
   "id": "24c2fecc-07d8-432c-af5a-4cfcac11cd94",
   "metadata": {
    "tags": []
   },
   "outputs": [],
   "source": [
    "# Normalizing to library size\n",
    "sc.pp.normalize_total(adata, target_sum=110)\n",
    "# Logarithmize the data\n",
    "sc.pp.log1p(adata)"
   ]
  },
  {
   "cell_type": "code",
   "execution_count": null,
   "id": "a84ec94f-4bda-4215-985f-5fb831f1a6cd",
   "metadata": {
    "tags": []
   },
   "outputs": [],
   "source": [
    "sc.pl.embedding(adata, basis=\"spatial\", color=\"Fos\", size = 30)"
   ]
  },
  {
   "cell_type": "code",
   "execution_count": null,
   "id": "3db5cba6-ab45-4955-9377-054141e149c5",
   "metadata": {},
   "outputs": [],
   "source": []
  },
  {
   "cell_type": "code",
   "execution_count": null,
   "id": "f5bb52a9-7582-4c26-aff7-fee9e24dce4f",
   "metadata": {
    "scrolled": true,
    "tags": []
   },
   "outputs": [],
   "source": [
    "sc.tl.pca(adata)\n",
    "sc.pp.neighbors(adata)\n",
    "sc.tl.umap(adata)"
   ]
  },
  {
   "cell_type": "code",
   "execution_count": null,
   "id": "85fcc97f-720f-4322-9707-14eb93571075",
   "metadata": {
    "tags": []
   },
   "outputs": [],
   "source": [
    "# Using the igraph implementation and a fixed number of iterations can be significantly faster, especially for larger datasets\n",
    "sc.tl.leiden(adata, resolution=2.0, flavor=\"igraph\",n_iterations=-1)"
   ]
  },
  {
   "cell_type": "code",
   "execution_count": null,
   "id": "0c24c55c-b845-4a64-93be-c20c41a3c86b",
   "metadata": {
    "tags": []
   },
   "outputs": [],
   "source": [
    "sc.set_figure_params(figsize = (6,6), dpi = 100)\n",
    "sc.pl.umap(adata, color = 'leiden')"
   ]
  },
  {
   "cell_type": "code",
   "execution_count": null,
   "id": "10428f45-3151-42e8-a556-034e28a4d435",
   "metadata": {
    "tags": []
   },
   "outputs": [],
   "source": [
    "sc.set_figure_params(figsize = (10,6), dpi = 100)\n",
    "sc.pl.embedding(adata, basis=\"spatial\", color=\"leiden\", size = 30)"
   ]
  },
  {
   "cell_type": "code",
   "execution_count": null,
   "id": "a851f485-7239-47b8-83d7-e6a74a6b5c02",
   "metadata": {
    "tags": []
   },
   "outputs": [],
   "source": [
    "sc.pl.embedding(adata, basis=\"spatial\", color=\"leiden\", size = 30, groups=['0'])"
   ]
  },
  {
   "cell_type": "code",
   "execution_count": null,
   "id": "042729b6-6df8-4014-bac6-6d12ef60e72e",
   "metadata": {
    "tags": []
   },
   "outputs": [],
   "source": [
    "sc.pl.embedding(adata, basis=\"spatial\", color=\"Mrc1\", size = 30)"
   ]
  },
  {
   "cell_type": "code",
   "execution_count": null,
   "id": "cb7eda26-9f22-4fd8-be6b-8f4f0485deb1",
   "metadata": {},
   "outputs": [],
   "source": []
  },
  {
   "cell_type": "code",
   "execution_count": null,
   "id": "b6cd1efb-7bc9-44ed-aafd-f99328fa335b",
   "metadata": {},
   "outputs": [],
   "source": []
  },
  {
   "cell_type": "code",
   "execution_count": null,
   "id": "273dec42-7d3f-4a61-bd2e-ede2563dd1b3",
   "metadata": {},
   "outputs": [],
   "source": [
    "import cosg"
   ]
  },
  {
   "cell_type": "code",
   "execution_count": null,
   "id": "c6c76ee0-fd09-4ca2-9c08-a984d7547cf7",
   "metadata": {
    "scrolled": true,
    "tags": []
   },
   "outputs": [],
   "source": [
    "groupby='leiden_R'\n",
    "cosg.cosg(adata, key_added='cosg_leiden',\n",
    "          # use_raw=False, layer='log1p', ## e.g., if you want to use the log1p layer in adata\n",
    "          mu=1,\n",
    "          expressed_pct=0.1,\n",
    "          remove_lowly_expressed=True,\n",
    "          n_genes_user=10,\n",
    "          groupby=groupby)\n",
    "\n",
    "import pandas as pd\n",
    "pd.DataFrame(adata.uns[\"cosg_leiden\"][\"names\"]).to_csv('LPS_Fos_cosg.csv')"
   ]
  },
  {
   "cell_type": "code",
   "execution_count": null,
   "id": "839ab5ce-4945-4ddf-9f61-ef119e19c707",
   "metadata": {
    "tags": []
   },
   "outputs": [],
   "source": []
  },
  {
   "cell_type": "code",
   "execution_count": null,
   "id": "48f95bc9-8f17-4f66-9322-aa8b9e207186",
   "metadata": {
    "tags": []
   },
   "outputs": [],
   "source": [
    "adata"
   ]
  },
  {
   "cell_type": "code",
   "execution_count": null,
   "id": "4b1fb4fd-4561-462d-b208-add0533b24ca",
   "metadata": {},
   "outputs": [],
   "source": [
    "annotation_dict = {\n",
    "    '0,0': 'Ext',\n",
    "    '0,1': 'Inh',\n",
    "    '0,2': 'Inh',\n",
    "    '1': 'Inh',\n",
    "    '2': 'Astro',\n",
    "    '3': 'Fibro',\n",
    "    '4,0': 'Ext',\n",
    "    '4,1': 'Astro',\n",
    "    '4,2': 'Mural',\n",
    "    '5': 'Oligo',\n",
    "    '6': 'Ext',\n",
    "    '7': 'Epen',\n",
    "    '8': 'Inh',\n",
    "    '9': 'Ext',\n",
    "    '10': 'Ext',\n",
    "    '11': 'Ext',\n",
    "    '12': 'Ext',\n",
    "    '13': 'Ext',\n",
    "    '14': 'Ext',\n",
    "    '15': 'Ext',\n",
    "    '16': 'Ext'\n",
    "}"
   ]
  },
  {
   "cell_type": "code",
   "execution_count": null,
   "id": "fc694cf0-0cc6-4bf4-aad5-9947adfcf76a",
   "metadata": {
    "tags": []
   },
   "outputs": [],
   "source": [
    "del adata.uns['leiden_R_colors']"
   ]
  },
  {
   "cell_type": "code",
   "execution_count": null,
   "id": "f985bc3d-4a3f-4197-bfb7-36bcbdce4558",
   "metadata": {
    "tags": []
   },
   "outputs": [],
   "source": [
    "sc.tl.leiden(adata, restrict_to=('leiden', ['0']), resolution = 0.4)\n",
    "sc.tl.leiden(adata, restrict_to=('leiden_R', ['4']), resolution = 0.4)\n",
    "# sc.tl.leiden(adata, restrict_to=('leiden_R', ['6']), resolution = 0.4)\n",
    "# sc.tl.leiden(adata, restrict_to=('leiden_R', ['7']), resolution = 0.3)\n",
    "# sc.tl.leiden(adata, restrict_to=('leiden_R', ['17']), resolution = 0.3)\n",
    "\n",
    "sc.set_figure_params(figsize = (9, 6))\n",
    "sc.pl.embedding(adata, basis = 'spatial', color = 'leiden_R', size = 30)"
   ]
  },
  {
   "cell_type": "code",
   "execution_count": null,
   "id": "c16a8e33-560b-41dd-b5b6-06ef12ad584e",
   "metadata": {
    "tags": []
   },
   "outputs": [],
   "source": [
    "sc.pl.embedding(adata, basis = 'spatial', color = 'leiden_R', size = 3)"
   ]
  },
  {
   "cell_type": "raw",
   "id": "b774e384-a957-4af1-907a-420f658e79da",
   "metadata": {
    "tags": []
   },
   "source": [
    "sum((adata.obs['leiden'] == '0') & (adata.to_df(layer='counts')['Mrc1'] > 3))"
   ]
  },
  {
   "cell_type": "code",
   "execution_count": null,
   "id": "42ad46b7-ac92-492b-b0ac-a3a35b9c9063",
   "metadata": {
    "tags": []
   },
   "outputs": [],
   "source": [
    "sc.set_figure_params(figsize = (9, 6))\n",
    "sc.pl.embedding(adata, basis = 'spatial', color = 'leiden_R', size = 20, groups=['7'])"
   ]
  },
  {
   "cell_type": "code",
   "execution_count": null,
   "id": "c10ffe69-7cdd-4bb8-8942-bacd397b74b8",
   "metadata": {
    "tags": []
   },
   "outputs": [],
   "source": [
    "sc.set_figure_params(figsize = (6,6), dpi = 100)\n",
    "sc.pl.umap(adata, color = ['leiden_R', 'Gad1'], wspace = 0.5)"
   ]
  },
  {
   "cell_type": "raw",
   "id": "d3665823-cbb5-43d2-a4f1-300cf1415741",
   "metadata": {
    "tags": []
   },
   "source": [
    "sc.pl.embedding(adata, basis = 'spatial', color = 'leiden', size = 10, groups=['17'])"
   ]
  },
  {
   "cell_type": "code",
   "execution_count": null,
   "id": "377c69f3-0010-411b-bd88-11ca5bf11918",
   "metadata": {
    "tags": []
   },
   "outputs": [],
   "source": [
    "sc.set_figure_params(figsize = (9, 6))\n",
    "sc.pl.embedding(adata, basis = 'spatial', color = 'Ecrg4', size = 30, groups=['29'])"
   ]
  },
  {
   "cell_type": "code",
   "execution_count": null,
   "id": "b1327b45-37c0-45f1-b8e0-a825f1815600",
   "metadata": {
    "tags": []
   },
   "outputs": [],
   "source": [
    "adata.obs['cell_type'] = [annotation_dict[x] for x in adata.obs['leiden_R']]"
   ]
  },
  {
   "cell_type": "code",
   "execution_count": null,
   "id": "47bf6be5-e693-4d95-a5ea-4e66a8263e96",
   "metadata": {
    "tags": []
   },
   "outputs": [],
   "source": [
    "sc.set_figure_params(figsize=(5,5))\n",
    "sc.pl.umap(adata, color = ['cell_type'], size = 10)"
   ]
  },
  {
   "cell_type": "code",
   "execution_count": null,
   "id": "3058d701-4caf-4259-85db-06dac3d5aee9",
   "metadata": {},
   "outputs": [],
   "source": []
  },
  {
   "cell_type": "code",
   "execution_count": null,
   "id": "56f179db-f36b-4c2e-b424-376d1b2139f9",
   "metadata": {
    "tags": []
   },
   "outputs": [],
   "source": [
    "sum(adata.to_df(layer='counts')['Mrc1'] > 5)"
   ]
  },
  {
   "cell_type": "code",
   "execution_count": null,
   "id": "0e46dae9-a13c-4607-895a-72a0569036a2",
   "metadata": {
    "tags": []
   },
   "outputs": [],
   "source": [
    "sum(adata.to_df(layer='counts')['Pdgfra'] > 5)"
   ]
  },
  {
   "cell_type": "code",
   "execution_count": null,
   "id": "42743f9e-0abd-40ef-bffa-9a9219327caa",
   "metadata": {
    "tags": []
   },
   "outputs": [],
   "source": [
    "sum(adata.to_df(layer='counts')['P2ry12'] > 7)"
   ]
  },
  {
   "cell_type": "code",
   "execution_count": null,
   "id": "7a6dcf78-f938-4091-a187-e26f1290bd7e",
   "metadata": {
    "tags": []
   },
   "outputs": [],
   "source": [
    "cell_type_list = np.array([annotation_dict[x] for x in adata.obs['leiden_R']])"
   ]
  },
  {
   "cell_type": "code",
   "execution_count": null,
   "id": "32073586-b0a5-44b9-97f1-7a2711064469",
   "metadata": {
    "tags": []
   },
   "outputs": [],
   "source": [
    "adata.obs['cell_type'] = cell_type_list"
   ]
  },
  {
   "cell_type": "code",
   "execution_count": null,
   "id": "13b7bf25-fbdc-49b2-a2fc-7a80a26ebccb",
   "metadata": {
    "tags": []
   },
   "outputs": [],
   "source": [
    "sc.set_figure_params(figsize=(5,5))\n",
    "sc.pl.umap(adata, color = ['cell_type'], size = 10)"
   ]
  },
  {
   "cell_type": "code",
   "execution_count": null,
   "id": "eaf65d61-23c6-45ae-a3d7-14255cb2d4cc",
   "metadata": {
    "tags": []
   },
   "outputs": [],
   "source": [
    "sum(cell_type_list == 'Endo')"
   ]
  },
  {
   "cell_type": "code",
   "execution_count": null,
   "id": "aaa86c8a-cbc9-4dae-a44f-e9ca0f61d9b0",
   "metadata": {
    "tags": []
   },
   "outputs": [],
   "source": [
    "adata.write_h5ad(\"Result/FISH_Fos_annotated.h5ad\")"
   ]
  },
  {
   "cell_type": "code",
   "execution_count": null,
   "id": "fe0c2c28-e389-4daa-b9c9-d9d3a38c564d",
   "metadata": {},
   "outputs": [],
   "source": []
  },
  {
   "cell_type": "code",
   "execution_count": null,
   "id": "85b98bc0-73af-44d4-91d5-0f2fa57efebe",
   "metadata": {},
   "outputs": [],
   "source": []
  },
  {
   "cell_type": "code",
   "execution_count": null,
   "id": "2f195197-f521-4be3-a194-0eb8ed0248f4",
   "metadata": {
    "tags": []
   },
   "outputs": [],
   "source": [
    "import scanpy as sc\n",
    "import pandas as pd\n",
    "import numpy as np\n",
    "from shapely import Polygon\n",
    "from spatialdata import read_zarr,  polygon_query\n",
    "import geopandas as gpd\n",
    "from read_roi import read_roi_file, read_roi_zip\n",
    "import spatialdata_plot\n",
    "from spatialdata.models import Image2DModel, PointsModel,ShapesModel,TableModel"
   ]
  },
  {
   "cell_type": "code",
   "execution_count": null,
   "id": "1c902b83-c113-44b9-afa1-a0b3373ad0df",
   "metadata": {},
   "outputs": [],
   "source": []
  },
  {
   "cell_type": "code",
   "execution_count": null,
   "id": "ef1644ca-09db-4cb6-90cd-b9df5218572b",
   "metadata": {
    "tags": []
   },
   "outputs": [],
   "source": [
    "sdata = read_zarr(\"/media/duan/sda2/MALDI/Data/20250727_LPS_MALDI/Result/raw_sdata.zarr\")\n",
    "sdata"
   ]
  },
  {
   "cell_type": "code",
   "execution_count": null,
   "id": "c136dc38-f057-48d7-b76d-b42321fbcaab",
   "metadata": {
    "scrolled": true,
    "tags": []
   },
   "outputs": [],
   "source": [
    "fos_polygon = pd.read_csv(\"/media/duan/sda2/MALDI/Data/LPS_01/Fos_coordinates.csv\", skiprows=2)\n",
    "fos_polygon"
   ]
  },
  {
   "cell_type": "code",
   "execution_count": null,
   "id": "a759e208-3626-49d4-83c8-718594459c8a",
   "metadata": {},
   "outputs": [],
   "source": [
    "fos_polygon = fos_polygon.set_index('Selection')"
   ]
  },
  {
   "cell_type": "code",
   "execution_count": null,
   "id": "537d30be-ec86-4cc9-8957-e61e615ca7d5",
   "metadata": {
    "scrolled": true,
    "tags": []
   },
   "outputs": [],
   "source": [
    "fos_polygon.loc[\"Fos_ROI4\", ['X', 'Y']] / 0.325"
   ]
  },
  {
   "cell_type": "code",
   "execution_count": null,
   "id": "f205cf15-179f-41f2-9ed8-d4deb4cb52b0",
   "metadata": {
    "tags": []
   },
   "outputs": [],
   "source": [
    "polygon_fos = Polygon((fos_polygon.loc[\"Fos_ROI4\", ['X', 'Y']] / 0.325).to_numpy())\n",
    "polygon_fos"
   ]
  },
  {
   "cell_type": "raw",
   "id": "79864420-29c2-42b7-a78e-b28846e73d2c",
   "metadata": {
    "tags": []
   },
   "source": [
    "roi = read_roi_file(\"/media/duan/sda2/MALDI/Data/20250727_LPS_MALDI/Result/Test_Plot.roi\")\n",
    "roi = roi['Test_Plot']"
   ]
  },
  {
   "cell_type": "raw",
   "id": "76b22f8a-e559-479d-bf4e-16dc26825c03",
   "metadata": {
    "tags": []
   },
   "source": [
    "polygon = Polygon([[roi['left'], roi['top']], \n",
    "                   [roi['left'] + roi['width'], roi['top']], \n",
    "                   [roi['left'] + roi['width'], roi['top'] + roi['height']], \n",
    "                   [roi['left'], roi['top'] + roi['height']]])\n",
    "polygon"
   ]
  },
  {
   "cell_type": "code",
   "execution_count": null,
   "id": "dc8ae66c-506a-407c-b4f4-97e7a06b4252",
   "metadata": {},
   "outputs": [],
   "source": []
  },
  {
   "cell_type": "code",
   "execution_count": null,
   "id": "0cd6d463-f890-42bc-ac1b-63fe7899bf0c",
   "metadata": {
    "scrolled": true,
    "tags": []
   },
   "outputs": [],
   "source": [
    "fos1_roi = read_roi_zip(\"/media/duan/sda2/MALDI/Data/LPS_01/LPS_MALDI_Fos_ROI4_alignedROI.zip\")\n",
    "fos1_roi"
   ]
  },
  {
   "cell_type": "code",
   "execution_count": null,
   "id": "35ac22c7-1f7d-4ca9-b396-932f214a5a7d",
   "metadata": {
    "tags": []
   },
   "outputs": [],
   "source": [
    "index_list = []\n",
    "polygon_list = []\n",
    "\n",
    "for key, value in fos1_roi.items():\n",
    "    index_list.append(key)\n",
    "    \n",
    "    polygon = Polygon(\n",
    "\n",
    "        np.column_stack([value['x'][0:4], value['y'][0:4]])\n",
    "\n",
    "    )\n",
    "    \n",
    "    polygon_list.append(polygon)"
   ]
  },
  {
   "cell_type": "code",
   "execution_count": null,
   "id": "cde11021-81db-4b4d-a3bc-8d75891cf390",
   "metadata": {
    "tags": []
   },
   "outputs": [],
   "source": [
    "sm_polygon = gpd.GeoDataFrame(geometry=polygon_list)\n",
    "sm_polygon.index = index_list\n",
    "sm_polygon"
   ]
  },
  {
   "cell_type": "code",
   "execution_count": null,
   "id": "432feeec-5e71-4f2e-8c79-c0acaf0156e9",
   "metadata": {
    "tags": []
   },
   "outputs": [],
   "source": [
    "sdata.shapes['fos1_ablation'] = ShapesModel.parse(sm_polygon)"
   ]
  },
  {
   "cell_type": "code",
   "execution_count": null,
   "id": "9cdb13ff-0f42-4d02-8ac1-db5ab58e65a3",
   "metadata": {
    "tags": []
   },
   "outputs": [],
   "source": [
    "adata_sm = sc.read_h5ad(\"/media/duan/sda2/MALDI/Data/LPS_01/LPS_Scaled_Reg2.h5ad\")\n",
    "adata_sm"
   ]
  },
  {
   "cell_type": "raw",
   "id": "1b35e731-8f5c-4f3e-97cc-b6618bb1147c",
   "metadata": {
    "tags": []
   },
   "source": [
    "adata_sm.obs.loc[sm_polygon.index, 'total_intensity']"
   ]
  },
  {
   "cell_type": "raw",
   "id": "362c5291-0e31-4396-9b63-dd9c7e779939",
   "metadata": {
    "tags": []
   },
   "source": [
    "total_intensity = adata_sm.obs.loc[sm_polygon.index, 'total_intensity'].to_numpy()"
   ]
  },
  {
   "cell_type": "raw",
   "id": "57eb2bde-eec1-4bee-a648-b1033063e746",
   "metadata": {
    "tags": []
   },
   "source": [
    "np.percentile(total_intensity, 99.9)"
   ]
  },
  {
   "cell_type": "raw",
   "id": "774b4689-fa0b-41d1-8862-3fe055b43b37",
   "metadata": {
    "tags": []
   },
   "source": [
    "total_intensity = np.clip(total_intensity, 0, np.percentile(total_intensity, 99.9))"
   ]
  },
  {
   "cell_type": "raw",
   "id": "ad803bb9-ece1-48ae-b435-e9436fce21c5",
   "metadata": {
    "tags": []
   },
   "source": [
    "sdata.shapes['fos1_ablation']['total_intensity'] = total_intensity"
   ]
  },
  {
   "cell_type": "code",
   "execution_count": null,
   "id": "c624b84c-b1b2-424b-9cd8-db1cb8816419",
   "metadata": {},
   "outputs": [],
   "source": []
  },
  {
   "cell_type": "code",
   "execution_count": null,
   "id": "4ac179c6-d52d-4b00-877c-4181094a67fb",
   "metadata": {
    "tags": []
   },
   "outputs": [],
   "source": [
    "from spatialdata import polygon_query\n",
    "crop1 = lambda x: polygon_query(\n",
    "    x,\n",
    "    polygon=polygon_fos,\n",
    "    target_coordinate_system=\"global\",\n",
    ")"
   ]
  },
  {
   "cell_type": "raw",
   "id": "2594d3e8-d082-4f84-b10d-fa2739fb2ee8",
   "metadata": {
    "tags": []
   },
   "source": [
    "crop1(sdata).pl.render_shapes(\"Cortex_ablation\", color = 'total_intensity', method = 'matplotlib',\n",
    "                              outline_alpha = 0, fill_alpha = .7).pl.show(title=\"Cortex_ablation\", figsize = (20,15), dpi = 300, frameon = False, save = 'figures/Ablation_Total_Intensity.pdf')"
   ]
  },
  {
   "cell_type": "code",
   "execution_count": null,
   "id": "be196d16-9ef9-4f97-8ea2-9a9d1ab763fc",
   "metadata": {
    "tags": []
   },
   "outputs": [],
   "source": [
    "sdata.shapes['MultiModel'].index = sdata.shapes['MultiModel'].index.astype('str')"
   ]
  },
  {
   "cell_type": "raw",
   "id": "610efc0a-d9b8-47c3-a5ec-f48f23c70ef3",
   "metadata": {
    "tags": []
   },
   "source": [
    "crop1(sdata).pl.render_shapes(\"Cortex_ablation\", color = None, method = 'matplotlib',\n",
    "                              outline_alpha = 1., fill_alpha = .0, outline_color = '#FFFF00', outline_width = 0.15).pl.render_shapes(\"MultiModel\", color = None, method = 'matplotlib',\n",
    "                              outline_alpha = .8, fill_alpha = .0, outline_color = '#00BFFF', outline_width = 0.15).pl.show(title=\"Ablation_Segmentation\", figsize = (15,10), dpi = 600, frameon = False, save = 'figures/Ablation_Segmentation.pdf')"
   ]
  },
  {
   "cell_type": "code",
   "execution_count": null,
   "id": "548ef379-23ba-4a41-8169-0dc0374ac852",
   "metadata": {
    "tags": []
   },
   "outputs": [],
   "source": [
    "adata_sm"
   ]
  },
  {
   "cell_type": "code",
   "execution_count": null,
   "id": "48893f60-76ee-4e57-9673-dd7d88783754",
   "metadata": {
    "tags": []
   },
   "outputs": [],
   "source": [
    "DEM = ['595.3818', '660.365', '651.4432', '676.4562', '650.4392', '662.4385', '629.3234']"
   ]
  },
  {
   "cell_type": "code",
   "execution_count": null,
   "id": "dc380447-6d25-4f73-b726-2843b9fcc574",
   "metadata": {
    "tags": []
   },
   "outputs": [],
   "source": [
    "adata_sm = adata_sm[index_list,:].copy()"
   ]
  },
  {
   "cell_type": "code",
   "execution_count": null,
   "id": "be4b18eb-cfca-4030-b847-07b7deb5dd68",
   "metadata": {
    "tags": []
   },
   "outputs": [],
   "source": [
    "M_Exp = adata_sm.to_df()"
   ]
  },
  {
   "cell_type": "code",
   "execution_count": null,
   "id": "19013f21-90b3-408c-b086-58cc614321cd",
   "metadata": {
    "tags": []
   },
   "outputs": [],
   "source": [
    "for meta in DEM:\n",
    "    total_intensity = M_Exp[meta].to_numpy()\n",
    "    total_intensity = np.clip(total_intensity, 0, np.percentile(total_intensity, 99.9))\n",
    "    total_intensity[total_intensity < np.percentile(total_intensity,50)] = 0.0\n",
    "    sdata.shapes['fos1_ablation'][meta] = total_intensity"
   ]
  },
  {
   "cell_type": "raw",
   "id": "1ff5ce0a-8356-4bea-8a74-28760539bf47",
   "metadata": {
    "tags": []
   },
   "source": [
    "for meta in DEM:\n",
    "    crop1(sdata).pl.render_shapes(\"fos1_ablation\", color = meta, method = 'matplotlib',\n",
    "                                  outline_alpha = 0, fill_alpha = 1.).pl.show(title=\"MultiModel\", figsize = (5,5), dpi = 100, frameon = False, save = f'figures/Abalation_Fos1_{meta}.pdf')"
   ]
  },
  {
   "cell_type": "code",
   "execution_count": null,
   "id": "22c8e4aa-f6fd-444c-a72b-b9a491cfa71e",
   "metadata": {
    "tags": []
   },
   "outputs": [],
   "source": [
    "sdata"
   ]
  },
  {
   "cell_type": "code",
   "execution_count": null,
   "id": "423f8f51-ef0e-4518-bd48-379d48b23ef4",
   "metadata": {
    "scrolled": true,
    "tags": []
   },
   "outputs": [],
   "source": [
    "cdf = pd.read_csv(\"/media/duan/sda2/MALDI/Data/20250727_LPS_MALDI/LPS_Fos_cell_type_color.csv\")\n",
    "cdf = cdf.set_index('0')\n",
    "cdf"
   ]
  },
  {
   "cell_type": "code",
   "execution_count": null,
   "id": "01295f16-efe7-4be9-94fd-80b57cb955ea",
   "metadata": {
    "tags": []
   },
   "outputs": [],
   "source": [
    "adata_st = sc.read_h5ad(\"/media/duan/sda2/MALDI/Data/20250727_LPS_MALDI/Result/FISH_Fos_annotated.h5ad\")"
   ]
  },
  {
   "cell_type": "code",
   "execution_count": null,
   "id": "824485c1-1520-4d6b-a278-059ec1fee41c",
   "metadata": {
    "tags": []
   },
   "outputs": [],
   "source": [
    "sdata.shapes['MultiModel'] = sdata.shapes['MultiModel'].loc[adata_st.obs_names, :].copy()"
   ]
  },
  {
   "cell_type": "code",
   "execution_count": null,
   "id": "b0a252a4-44f7-49bb-bbab-37842f761de4",
   "metadata": {
    "tags": []
   },
   "outputs": [],
   "source": [
    "sdata.shapes['MultiModel']"
   ]
  },
  {
   "cell_type": "code",
   "execution_count": null,
   "id": "9d3c1b28-5881-4567-a4d7-6858066eeb18",
   "metadata": {
    "tags": []
   },
   "outputs": [],
   "source": [
    "adata_st.obs"
   ]
  },
  {
   "cell_type": "code",
   "execution_count": null,
   "id": "a188c692-9fe7-4e3d-9c33-c9530641fef2",
   "metadata": {
    "tags": []
   },
   "outputs": [],
   "source": [
    "G_Exp = adata_st.to_df()"
   ]
  },
  {
   "cell_type": "code",
   "execution_count": null,
   "id": "1321c769-85aa-4ce6-82f3-67485c34036b",
   "metadata": {
    "tags": []
   },
   "outputs": [],
   "source": [
    "total_intensity = G_Exp['Fos'].to_numpy()\n",
    "total_intensity = np.clip(total_intensity, 0, np.percentile(total_intensity, 99.9))\n",
    "sdata.shapes['MultiModel']['Fos'] = total_intensity"
   ]
  },
  {
   "cell_type": "code",
   "execution_count": null,
   "id": "90906937-0331-4f7a-b0c2-6427454e96fa",
   "metadata": {
    "tags": []
   },
   "outputs": [],
   "source": [
    "sdata.shapes['MultiModel']['cell_type'] = adata_st.obs['cell_type']\n",
    "sdata.shapes['MultiModel']['cell_type'] = sdata.shapes['MultiModel']['cell_type'].astype('category')\n",
    "# adata.shapes['MultiModel'] = sdata.shapes['MultiModel'].dropna()"
   ]
  },
  {
   "cell_type": "code",
   "execution_count": null,
   "id": "eca677af-f734-446f-b42e-dcd357963e61",
   "metadata": {
    "tags": []
   },
   "outputs": [],
   "source": [
    "sdata.shapes['MultiModel']"
   ]
  },
  {
   "cell_type": "code",
   "execution_count": null,
   "id": "56414644-7173-425b-a255-9f0b6cbfd157",
   "metadata": {
    "tags": []
   },
   "outputs": [],
   "source": [
    "cell_type_list = list(sdata.shapes['MultiModel']['cell_type'].cat.categories)\n",
    "[cdf.loc[x, '1'] for x in cell_type_list]"
   ]
  },
  {
   "cell_type": "code",
   "execution_count": null,
   "id": "74224cef-501b-4131-8310-960eb33cf7e9",
   "metadata": {},
   "outputs": [],
   "source": []
  },
  {
   "cell_type": "code",
   "execution_count": null,
   "id": "814549a7-dd13-4283-8f32-d6ad788f9742",
   "metadata": {
    "tags": []
   },
   "outputs": [],
   "source": [
    "import seaborn as sns"
   ]
  },
  {
   "cell_type": "code",
   "execution_count": null,
   "id": "ab3ac224-7469-4ab8-929f-d3248d41ff8c",
   "metadata": {
    "tags": []
   },
   "outputs": [],
   "source": [
    "cell_type_list = list(adata_st[adata_st.obs['Fos_ROI4']].obs['cell_type'].cat.categories)"
   ]
  },
  {
   "cell_type": "code",
   "execution_count": null,
   "id": "c318d02d-e1ae-4073-8ddd-e9db564405f8",
   "metadata": {
    "tags": []
   },
   "outputs": [],
   "source": [
    "cell_type_list"
   ]
  },
  {
   "cell_type": "code",
   "execution_count": null,
   "id": "55b03b2c-c527-4d3c-a628-7a061c8e3b0d",
   "metadata": {
    "tags": []
   },
   "outputs": [],
   "source": [
    "# sdata.shapes['MultiModel'] = sdata.shapes['MultiModel'][sdata.shapes['MultiModel']['Fos'] > 1.0]"
   ]
  },
  {
   "cell_type": "raw",
   "id": "29863520-27f7-4bf1-9cf1-7300578be5d9",
   "metadata": {
    "jupyter": {
     "outputs_hidden": true
    },
    "tags": []
   },
   "source": [
    "[cdf.loc[x, '1'] for x in sdata.shapes['MultiModel']['cell_type']]"
   ]
  },
  {
   "cell_type": "code",
   "execution_count": null,
   "id": "39f67356-d465-47cf-92ee-175781c9d281",
   "metadata": {
    "tags": []
   },
   "outputs": [],
   "source": [
    "crop1(sdata).pl.render_shapes(\"MultiModel\", color = 'Fos', method = 'matplotlib', cmap = 'Reds',\n",
    "                             outline_color = '#000000', outline_width = 0.5, fill_alpha = 1.0, \n",
    "                             outline_alpha = .8).pl.show(title=f\"Fos4\", figsize = (5,5), dpi = 100, frameon = False, save = f'figures/Fos4_Fos.pdf')"
   ]
  },
  {
   "cell_type": "code",
   "execution_count": null,
   "id": "83264ca6-e0d9-4310-a62b-4435b53cdf80",
   "metadata": {
    "tags": []
   },
   "outputs": [],
   "source": [
    "crop1(sdata).pl.render_shapes(\"MultiModel\", \n",
    "                                 color = 'cell_type', method = 'matplotlib', palette = [cdf.loc[x, '1'] for x in cell_type_list], outline_width = .5,outline_color = '#000000', \n",
    "                                  outline_alpha = .8, fill_alpha =1., groups = cell_type_list).pl.show(title=f\"Fos4_cell_type\", figsize = (5,5), dpi = 100, frameon = False, save = f'figures/Fos4_cell_type.pdf')"
   ]
  },
  {
   "cell_type": "code",
   "execution_count": null,
   "id": "1081b153-ab49-4dcb-afb6-51c153b6e45f",
   "metadata": {
    "tags": []
   },
   "outputs": [],
   "source": [
    "for meta in DEM:\n",
    "\n",
    "    crop1(sdata).pl.render_shapes(\"fos1_ablation\", color = meta, method = 'matplotlib',\n",
    "                                     outline_alpha = 0.0, fill_alpha = 1., cmap = 'Greens').pl.render_shapes(\"MultiModel\", method = 'matplotlib',outline_color = '#000000', outline_width = .2,\n",
    "                                      outline_alpha = .5, fill_alpha =.0).pl.show(title=f\"Fos4_{meta}\", figsize = (5,5), dpi = 100, frameon = False, save = f'figures/Fos4_{meta}.pdf')"
   ]
  }
 ],
 "metadata": {
  "kernelspec": {
   "display_name": "Python [conda env:python3.9]",
   "language": "python",
   "name": "conda-env-python3.9-py"
  },
  "language_info": {
   "codemirror_mode": {
    "name": "ipython",
    "version": 3
   },
   "file_extension": ".py",
   "mimetype": "text/x-python",
   "name": "python",
   "nbconvert_exporter": "python",
   "pygments_lexer": "ipython3",
   "version": "3.9.13"
  }
 },
 "nbformat": 4,
 "nbformat_minor": 5
}
