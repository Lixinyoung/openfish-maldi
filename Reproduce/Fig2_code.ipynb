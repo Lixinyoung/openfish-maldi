{
 "cells": [
  {
   "cell_type": "code",
   "execution_count": null,
   "id": "92b745fe-617b-47d6-a30f-c8cce9cb03a0",
   "metadata": {
    "tags": []
   },
   "outputs": [],
   "source": [
    "import scanpy as sc\n",
    "import numpy as np\n",
    "import pandas as pd\n",
    "from spatialdata import read_zarr"
   ]
  },
  {
   "cell_type": "code",
   "execution_count": null,
   "id": "5b13dbbf-15e4-4eb4-b1ff-18bdae630f2b",
   "metadata": {
    "tags": []
   },
   "outputs": [],
   "source": [
    "sdata = read_zarr('/media/duan/DuanLab_Data/openFISH/ABA110_Demo2/Rep1/raw_sdata.zarr')\n",
    "sdata"
   ]
  },
  {
   "cell_type": "code",
   "execution_count": null,
   "id": "a8ef48e9-c303-4ef0-a3f6-9b395a8460d5",
   "metadata": {
    "tags": []
   },
   "outputs": [],
   "source": [
    "areas = []\n",
    "for pg in sdata.shapes[\"MultiModel\"][\"geometry\"]:\n",
    "    areas.append(pg.area)"
   ]
  },
  {
   "cell_type": "code",
   "execution_count": null,
   "id": "81cbe246-bdbd-4520-85ca-d82a35a88914",
   "metadata": {
    "tags": []
   },
   "outputs": [],
   "source": [
    "adata = sdata.tables['table'].copy()"
   ]
  },
  {
   "cell_type": "code",
   "execution_count": null,
   "id": "2bee3760-6cd8-4446-b350-70969e31657e",
   "metadata": {
    "tags": []
   },
   "outputs": [],
   "source": [
    "adata.obs['area'] = areas\n",
    "adata.obs"
   ]
  },
  {
   "cell_type": "code",
   "execution_count": null,
   "id": "6d50215e-b4a1-4d11-9b2a-ae3180ba1f63",
   "metadata": {
    "tags": []
   },
   "outputs": [],
   "source": [
    "NP_Pad = pd.read_csv(\"/media/duan/DuanLab_Data/openFISH/ABA110_Demo/NP_Fold_V58.csv\", index_col=0)"
   ]
  },
  {
   "cell_type": "code",
   "execution_count": null,
   "id": "a17150a6-b722-440f-8fd6-f446ca09f7ac",
   "metadata": {
    "tags": []
   },
   "outputs": [],
   "source": [
    "def rotate_coordinates(coords, angle):\n",
    "    theta = np.radians(angle)\n",
    "    rotation_matrix = np.array([[np.cos(theta), -np.sin(theta)],\n",
    "                               [np.sin(theta), np.cos(theta)]])\n",
    "    coords_array = np.array(coords)\n",
    "    rotated_coords = coords_array @ rotation_matrix.T\n",
    "    return rotated_coords"
   ]
  },
  {
   "cell_type": "code",
   "execution_count": null,
   "id": "016b93bf-e5fa-4817-abb4-40a10fb45076",
   "metadata": {
    "tags": []
   },
   "outputs": [],
   "source": [
    "adata.obsm['spatial'] = adata.obs[['x', 'y']].to_numpy()\n",
    "adata.obsm[\"spatial\"][:,1] =  0 - adata.obsm[\"spatial\"][:,1]"
   ]
  },
  {
   "cell_type": "code",
   "execution_count": null,
   "id": "8bab7cc4-a165-46ec-8cec-08f272ec5ead",
   "metadata": {
    "tags": []
   },
   "outputs": [],
   "source": [
    "sc.set_figure_params(figsize = (6,6), dpi = 100)\n",
    "sc.pl.embedding(adata, basis = 'spatial', color = 'area', size = 10)"
   ]
  },
  {
   "cell_type": "code",
   "execution_count": null,
   "id": "a5950507-20c5-4361-bac7-354d8bf46787",
   "metadata": {
    "tags": []
   },
   "outputs": [],
   "source": [
    "tmpmatrix = adata.to_df().copy()"
   ]
  },
  {
   "cell_type": "code",
   "execution_count": null,
   "id": "da83260c-be81-4fb1-b2b2-b877149b1fa1",
   "metadata": {
    "tags": []
   },
   "outputs": [],
   "source": [
    "tmpmatrix = tmpmatrix.astype('float32')"
   ]
  },
  {
   "cell_type": "code",
   "execution_count": null,
   "id": "feab2943-8e8f-44f8-b30c-e5e528e1f974",
   "metadata": {
    "scrolled": true,
    "tags": []
   },
   "outputs": [],
   "source": [
    "import numpy as np\n",
    "\n",
    "for col in tmpmatrix.columns:\n",
    "    # tmpmatrix.loc[:,col] = tmpmatrix.loc[:,col] * np.log2(NP_Pad.loc[col, 'Fold'] + 1)\n",
    "    tmpmatrix.loc[:,col] = tmpmatrix.loc[:,col] * NP_Pad.loc[col, 'Fold']"
   ]
  },
  {
   "cell_type": "code",
   "execution_count": null,
   "id": "e8fac3ac-4a4f-4852-a2a7-3a2973a2de72",
   "metadata": {
    "tags": []
   },
   "outputs": [],
   "source": [
    "from scipy.sparse import csr_matrix"
   ]
  },
  {
   "cell_type": "code",
   "execution_count": null,
   "id": "8a4c4b1c-e1db-4443-8208-d5fc33e6953a",
   "metadata": {
    "tags": []
   },
   "outputs": [],
   "source": [
    "adata.layers['counts'] = adata.X.copy()\n",
    "adata.X = csr_matrix(tmpmatrix)\n",
    "adata.layers['counts_corrected'] = adata.X.copy()"
   ]
  },
  {
   "cell_type": "code",
   "execution_count": null,
   "id": "33f86392-2d9a-4c83-93b3-87dbf1b251e8",
   "metadata": {
    "tags": []
   },
   "outputs": [],
   "source": [
    "adata"
   ]
  },
  {
   "cell_type": "code",
   "execution_count": null,
   "id": "8e514231-b7a4-4ff0-b107-72b24cdd793f",
   "metadata": {},
   "outputs": [],
   "source": [
    "adata.var[\"FP\"] = adata.var_names.str.startswith(\"sFP\")"
   ]
  },
  {
   "cell_type": "code",
   "execution_count": null,
   "id": "147ce483-1670-427b-8974-3db326521cbe",
   "metadata": {
    "tags": []
   },
   "outputs": [],
   "source": [
    "sc.pp.calculate_qc_metrics(\n",
    "    adata, inplace=True, log1p=True, percent_top=None,qc_vars=['FP']\n",
    ")"
   ]
  },
  {
   "cell_type": "code",
   "execution_count": null,
   "id": "14d3866e-57c8-48eb-bb37-4a530efe11ec",
   "metadata": {
    "tags": []
   },
   "outputs": [],
   "source": [
    "sc.pl.violin(\n",
    "    adata,\n",
    "    [\"n_genes_by_counts\", \"total_counts\", 'pct_counts_FP'],\n",
    "    jitter=0.4,\n",
    "    multi_panel=True,\n",
    ")"
   ]
  },
  {
   "cell_type": "code",
   "execution_count": null,
   "id": "25fd288b-d390-4de8-af33-8d8eb73820e5",
   "metadata": {
    "tags": []
   },
   "outputs": [],
   "source": [
    "adata.obs['total_counts'].mean()"
   ]
  },
  {
   "cell_type": "code",
   "execution_count": null,
   "id": "c233a8c5-7cdc-4bc3-a3c5-4235f149130c",
   "metadata": {
    "tags": []
   },
   "outputs": [],
   "source": [
    "adata.obs['total_counts'].median()"
   ]
  },
  {
   "cell_type": "code",
   "execution_count": null,
   "id": "31661bea-fe71-4611-9853-7e8bbaf0006c",
   "metadata": {
    "tags": []
   },
   "outputs": [],
   "source": [
    "np.max(adata.obs['total_counts_FP'])"
   ]
  },
  {
   "cell_type": "code",
   "execution_count": null,
   "id": "699082ca-d83d-4400-a68b-298abec33cf3",
   "metadata": {
    "tags": []
   },
   "outputs": [],
   "source": [
    "adata.obs['total_counts_FP'].mean()"
   ]
  },
  {
   "cell_type": "code",
   "execution_count": null,
   "id": "bba93ea9-c39c-44f9-a13f-2db832c08def",
   "metadata": {
    "tags": []
   },
   "outputs": [],
   "source": [
    "# Filter cells according to Cell Volume\n",
    "adata.obs[\"area\"].mean()"
   ]
  },
  {
   "cell_type": "code",
   "execution_count": null,
   "id": "e841f06a-0cf0-4c9e-835a-213c4b67b6d6",
   "metadata": {
    "tags": []
   },
   "outputs": [],
   "source": [
    "np.percentile(adata.obs[\"area\"], 1)"
   ]
  },
  {
   "cell_type": "code",
   "execution_count": null,
   "id": "d96ef134-4a6f-469e-8404-8b0e2e084bcc",
   "metadata": {
    "tags": []
   },
   "outputs": [],
   "source": [
    "np.percentile(adata.obs[\"area\"], 90)"
   ]
  },
  {
   "cell_type": "code",
   "execution_count": null,
   "id": "71e69754-9c0b-4489-8948-94894839ccf6",
   "metadata": {
    "tags": []
   },
   "outputs": [],
   "source": [
    "np.percentile(adata.obs[\"area\"], 50)"
   ]
  },
  {
   "cell_type": "code",
   "execution_count": null,
   "id": "6c5e2df9-d360-4704-8a68-7fdabc6cbd34",
   "metadata": {
    "tags": []
   },
   "outputs": [],
   "source": [
    "adata = adata[(adata.obs[\"area\"] > 300) & (adata.obs[\"area\"] < (3 * adata.obs[\"area\"].mean())),:].copy()\n",
    "adata"
   ]
  },
  {
   "cell_type": "code",
   "execution_count": null,
   "id": "bbe6c47f-fd61-48b3-8dc0-a25434d205f8",
   "metadata": {
    "tags": []
   },
   "outputs": [],
   "source": [
    "adata.obs['total_counts'].median()"
   ]
  },
  {
   "cell_type": "code",
   "execution_count": null,
   "id": "74b2857b-da56-4221-9ec6-6b02f2c4ad21",
   "metadata": {},
   "outputs": [],
   "source": []
  },
  {
   "cell_type": "code",
   "execution_count": null,
   "id": "53e0ba9d-547c-4d54-967d-4b35c2f3e0fb",
   "metadata": {},
   "outputs": [],
   "source": [
    "adata = adata[adata.obs.pct_counts_FP < 0.1, :].copy()\n",
    "sc.pp.filter_cells(adata, min_genes=5)\n",
    "sc.pp.filter_cells(adata, max_counts=1000)\n",
    "sc.pp.filter_cells(adata, min_counts=20)"
   ]
  },
  {
   "cell_type": "code",
   "execution_count": null,
   "id": "12a4f47c-6301-4623-a5eb-71a1ce215720",
   "metadata": {
    "tags": []
   },
   "outputs": [],
   "source": [
    "adata"
   ]
  },
  {
   "cell_type": "code",
   "execution_count": null,
   "id": "f408c2a7-f26e-434f-a1f8-515caf2ef5e4",
   "metadata": {
    "tags": []
   },
   "outputs": [],
   "source": [
    "adata.var_names"
   ]
  },
  {
   "cell_type": "code",
   "execution_count": null,
   "id": "97f25be2-4344-46e1-bdda-64d527dce4be",
   "metadata": {},
   "outputs": [],
   "source": [
    "adata.obs['total_counts'].median()"
   ]
  },
  {
   "cell_type": "code",
   "execution_count": null,
   "id": "c8ecc361-5311-49d8-a58b-a60a9b3accb3",
   "metadata": {
    "tags": []
   },
   "outputs": [],
   "source": [
    "BLACK_LIST = ['sFP']"
   ]
  },
  {
   "cell_type": "code",
   "execution_count": null,
   "id": "a9c00896-b001-4798-9e57-e871242ccca6",
   "metadata": {
    "tags": []
   },
   "outputs": [],
   "source": [
    "adata = adata[:, [x for x in adata.var_names if x not in BLACK_LIST]].copy()"
   ]
  },
  {
   "cell_type": "code",
   "execution_count": null,
   "id": "4d3b5846-f867-4e99-bc23-6b47bde7f1b5",
   "metadata": {
    "tags": []
   },
   "outputs": [],
   "source": [
    "adata"
   ]
  },
  {
   "cell_type": "code",
   "execution_count": null,
   "id": "d69a4163-0a77-4bb2-9c5a-795f5d2b5dd6",
   "metadata": {
    "tags": []
   },
   "outputs": [],
   "source": [
    "# Normalize using cell area\n",
    "from scipy.sparse import csr_matrix\n",
    "cell_area = np.array(adata.obs[\"area\"])\n",
    "# cell_area = cell_area.reshape((len(cell_area),1))\n",
    "adata.X = csr_matrix((adata.X.T / cell_area).T)"
   ]
  },
  {
   "cell_type": "code",
   "execution_count": null,
   "id": "6433cea2-6d47-470a-aa03-f308921d28c0",
   "metadata": {
    "tags": []
   },
   "outputs": [],
   "source": [
    "# Normalizing to library size\n",
    "sc.pp.normalize_total(adata, target_sum=109)\n",
    "# Logarithmize the data\n",
    "sc.pp.log1p(adata)"
   ]
  },
  {
   "cell_type": "code",
   "execution_count": null,
   "id": "03d316b4-1be8-4930-9784-6b80e7957b3d",
   "metadata": {
    "tags": []
   },
   "outputs": [],
   "source": [
    "sc.pl.embedding(adata, basis=\"spatial\", color=\"Slc17a7\")"
   ]
  },
  {
   "cell_type": "code",
   "execution_count": null,
   "id": "9d79813e-c7e4-430c-86fe-422bcab42ed7",
   "metadata": {
    "scrolled": true,
    "tags": []
   },
   "outputs": [],
   "source": [
    "sc.tl.pca(adata)\n",
    "sc.pp.neighbors(adata)\n",
    "sc.tl.umap(adata)"
   ]
  },
  {
   "cell_type": "code",
   "execution_count": null,
   "id": "64c2d202-d70f-4bc7-a573-2fecd35ab69c",
   "metadata": {
    "tags": []
   },
   "outputs": [],
   "source": [
    "# Using the igraph implementation and a fixed number of iterations can be significantly faster, especially for larger datasets\n",
    "sc.tl.leiden(adata, resolution=2, flavor=\"igraph\",n_iterations=-1)"
   ]
  },
  {
   "cell_type": "code",
   "execution_count": null,
   "id": "d13af36c-7120-4467-931a-c066a05c1d5a",
   "metadata": {
    "tags": []
   },
   "outputs": [],
   "source": [
    "sc.pl.umap(adata, color = 'leiden')"
   ]
  },
  {
   "cell_type": "code",
   "execution_count": null,
   "id": "61407c98-4c49-4ffd-a002-67eaca0ef37b",
   "metadata": {
    "tags": []
   },
   "outputs": [],
   "source": [
    "sc.pl.embedding(adata, basis=\"spatial\", color=\"leiden\")"
   ]
  },
  {
   "cell_type": "code",
   "execution_count": null,
   "id": "a7fe8483-9c5d-46ca-9cdb-8ce39b1698b0",
   "metadata": {
    "tags": []
   },
   "outputs": [],
   "source": [
    "adata"
   ]
  },
  {
   "cell_type": "code",
   "execution_count": null,
   "id": "515f6d89-bfbe-49b1-bdea-695ec0ad4226",
   "metadata": {
    "tags": []
   },
   "outputs": [],
   "source": [
    "adata.layers['norm'] = adata.X.copy()"
   ]
  },
  {
   "cell_type": "code",
   "execution_count": null,
   "id": "1c889026-809e-4a5a-899e-aa98a7d54efa",
   "metadata": {},
   "outputs": [],
   "source": []
  },
  {
   "cell_type": "code",
   "execution_count": null,
   "id": "845f84d5-3429-49c7-930c-4214f05743df",
   "metadata": {},
   "outputs": [],
   "source": []
  },
  {
   "cell_type": "code",
   "execution_count": null,
   "id": "86d4b201-9379-4b71-a372-aff7dd617ff2",
   "metadata": {
    "tags": []
   },
   "outputs": [],
   "source": [
    "adata.write_h5ad(\"./Rep1/filtered.h5ad\")"
   ]
  },
  {
   "cell_type": "code",
   "execution_count": null,
   "id": "aa1822aa-d680-4188-8270-62410fb1e561",
   "metadata": {},
   "outputs": [],
   "source": []
  },
  {
   "cell_type": "code",
   "execution_count": null,
   "id": "6321e2e6-97fc-40e8-b1e9-36f838e4b662",
   "metadata": {
    "tags": []
   },
   "outputs": [],
   "source": [
    "sdata = read_zarr('/media/duan/DuanLab_Data/openFISH/ABA110_Demo2/Rep2/raw_sdata.zarr')\n",
    "sdata"
   ]
  },
  {
   "cell_type": "code",
   "execution_count": null,
   "id": "6b78e200-9977-4661-9ccf-a35843629fb5",
   "metadata": {
    "tags": []
   },
   "outputs": [],
   "source": [
    "areas = []\n",
    "for pg in sdata.shapes[\"MultiModel\"][\"geometry\"]:\n",
    "    areas.append(pg.area)"
   ]
  },
  {
   "cell_type": "code",
   "execution_count": null,
   "id": "71f54482-983d-4531-8452-861306df7124",
   "metadata": {
    "tags": []
   },
   "outputs": [],
   "source": [
    "adata = sdata.tables['table'].copy()"
   ]
  },
  {
   "cell_type": "code",
   "execution_count": null,
   "id": "1d5d010a-de80-4cc9-ab93-1ac9eeab3793",
   "metadata": {
    "tags": []
   },
   "outputs": [],
   "source": [
    "adata.obs['area'] = areas\n",
    "adata.obs"
   ]
  },
  {
   "cell_type": "code",
   "execution_count": null,
   "id": "62f8e93e-05de-4e8b-890d-86ac4fc9801f",
   "metadata": {
    "tags": []
   },
   "outputs": [],
   "source": [
    "def rotate_coordinates(coords, angle):\n",
    "    theta = np.radians(angle)\n",
    "    rotation_matrix = np.array([[np.cos(theta), -np.sin(theta)],\n",
    "                               [np.sin(theta), np.cos(theta)]])\n",
    "    coords_array = np.array(coords)\n",
    "    rotated_coords = coords_array @ rotation_matrix.T\n",
    "    return rotated_coords"
   ]
  },
  {
   "cell_type": "code",
   "execution_count": null,
   "id": "6f03f8bb-5874-451f-b868-53e75d7a4a80",
   "metadata": {
    "tags": []
   },
   "outputs": [],
   "source": [
    "adata.obsm['spatial'] = adata.obs[['x', 'y']].to_numpy()\n",
    "adata.obsm[\"spatial\"][:,1] =  0 - adata.obsm[\"spatial\"][:,1]"
   ]
  },
  {
   "cell_type": "code",
   "execution_count": null,
   "id": "bcd597c6-d846-49e1-bcd4-e6077efca46d",
   "metadata": {
    "tags": []
   },
   "outputs": [],
   "source": [
    "sc.set_figure_params(figsize = (5,6), dpi = 100)\n",
    "sc.pl.embedding(adata, basis = 'spatial', color = 'area', size = 10)"
   ]
  },
  {
   "cell_type": "code",
   "execution_count": null,
   "id": "90ed85fd-ab13-4b86-8940-8249e716d2b7",
   "metadata": {
    "tags": []
   },
   "outputs": [],
   "source": [
    "tmpmatrix = adata.to_df().copy()"
   ]
  },
  {
   "cell_type": "code",
   "execution_count": null,
   "id": "1db1d2c1-254d-44ba-a69b-8e440958a6e4",
   "metadata": {
    "tags": []
   },
   "outputs": [],
   "source": [
    "tmpmatrix = tmpmatrix.astype('float32')"
   ]
  },
  {
   "cell_type": "code",
   "execution_count": null,
   "id": "3ad49fe0-2d36-43bc-a5b9-6bdddac0a306",
   "metadata": {
    "scrolled": true,
    "tags": []
   },
   "outputs": [],
   "source": [
    "import numpy as np\n",
    "\n",
    "for col in tmpmatrix.columns:\n",
    "    # tmpmatrix.loc[:,col] = tmpmatrix.loc[:,col] * np.log2(NP_Pad.loc[col, 'Fold'] + 1)\n",
    "    tmpmatrix.loc[:,col] = tmpmatrix.loc[:,col] * NP_Pad.loc[col, 'Fold']"
   ]
  },
  {
   "cell_type": "code",
   "execution_count": null,
   "id": "175603c0-d667-4a8d-b71a-c48b758ef19e",
   "metadata": {
    "tags": []
   },
   "outputs": [],
   "source": [
    "from scipy.sparse import csr_matrix"
   ]
  },
  {
   "cell_type": "code",
   "execution_count": null,
   "id": "39279bb5-c05c-4682-bda7-0585903491d9",
   "metadata": {
    "tags": []
   },
   "outputs": [],
   "source": [
    "adata.layers['counts'] = adata.X.copy()\n",
    "adata.X = csr_matrix(tmpmatrix)\n",
    "adata.layers['counts_corrected'] = adata.X.copy()"
   ]
  },
  {
   "cell_type": "code",
   "execution_count": null,
   "id": "ff632b17-f7bc-4ff4-9678-ea378d4d5cd3",
   "metadata": {
    "tags": []
   },
   "outputs": [],
   "source": [
    "adata"
   ]
  },
  {
   "cell_type": "code",
   "execution_count": null,
   "id": "37111389-d83d-4fb2-97b7-80fc558f1779",
   "metadata": {},
   "outputs": [],
   "source": [
    "adata.var[\"FP\"] = adata.var_names.str.startswith(\"sFP\")"
   ]
  },
  {
   "cell_type": "code",
   "execution_count": null,
   "id": "67a360ee-2199-49e0-9e1f-81466f052c46",
   "metadata": {
    "tags": []
   },
   "outputs": [],
   "source": [
    "sc.pp.calculate_qc_metrics(\n",
    "    adata, inplace=True, log1p=True, percent_top=None,qc_vars=['FP']\n",
    ")"
   ]
  },
  {
   "cell_type": "code",
   "execution_count": null,
   "id": "0adeac3c-56d3-4c4e-8eaa-fd9350b0d0cb",
   "metadata": {
    "tags": []
   },
   "outputs": [],
   "source": [
    "sc.pl.violin(\n",
    "    adata,\n",
    "    [\"n_genes_by_counts\", \"total_counts\", 'pct_counts_FP'],\n",
    "    jitter=0.4,\n",
    "    multi_panel=True,\n",
    ")"
   ]
  },
  {
   "cell_type": "code",
   "execution_count": null,
   "id": "81274f94-c93f-43a2-b938-e9eab1073b69",
   "metadata": {
    "tags": []
   },
   "outputs": [],
   "source": [
    "adata.obs['total_counts'].mean()"
   ]
  },
  {
   "cell_type": "code",
   "execution_count": null,
   "id": "ef7bd498-d13c-4b23-87cd-c7c25ee79f32",
   "metadata": {
    "tags": []
   },
   "outputs": [],
   "source": [
    "adata.obs['total_counts'].median()"
   ]
  },
  {
   "cell_type": "code",
   "execution_count": null,
   "id": "02972ac1-45d5-4552-9b21-4c026eaaba4b",
   "metadata": {
    "tags": []
   },
   "outputs": [],
   "source": [
    "np.max(adata.obs['total_counts_FP'])"
   ]
  },
  {
   "cell_type": "code",
   "execution_count": null,
   "id": "c9eb66b5-c30d-42a7-a1e5-a96433f9f330",
   "metadata": {
    "tags": []
   },
   "outputs": [],
   "source": [
    "adata.obs['total_counts_FP'].mean()"
   ]
  },
  {
   "cell_type": "code",
   "execution_count": null,
   "id": "8ef89b62-61b5-4c7c-b8ae-489f3ae4f311",
   "metadata": {
    "tags": []
   },
   "outputs": [],
   "source": [
    "# Filter cells according to Cell Volume\n",
    "adata.obs[\"area\"].mean()"
   ]
  },
  {
   "cell_type": "code",
   "execution_count": null,
   "id": "29a83def-ebdd-4aa9-91ef-277e798690db",
   "metadata": {
    "tags": []
   },
   "outputs": [],
   "source": [
    "np.percentile(adata.obs[\"area\"], 1)"
   ]
  },
  {
   "cell_type": "code",
   "execution_count": null,
   "id": "d2f2777b-7454-48d6-8d77-44023996cd1f",
   "metadata": {
    "tags": []
   },
   "outputs": [],
   "source": [
    "np.percentile(adata.obs[\"area\"], 90)"
   ]
  },
  {
   "cell_type": "code",
   "execution_count": null,
   "id": "ad913a85-2aa8-4204-b786-beb2684b3487",
   "metadata": {
    "tags": []
   },
   "outputs": [],
   "source": [
    "np.percentile(adata.obs[\"area\"], 50)"
   ]
  },
  {
   "cell_type": "code",
   "execution_count": null,
   "id": "150f8d38-c0bb-4640-accc-ccf904f86f13",
   "metadata": {
    "tags": []
   },
   "outputs": [],
   "source": [
    "adata = adata[(adata.obs[\"area\"] > 300) & (adata.obs[\"area\"] < (3 * adata.obs[\"area\"].mean())),:].copy()\n",
    "adata"
   ]
  },
  {
   "cell_type": "code",
   "execution_count": null,
   "id": "974bc7fd-a1db-4e70-a588-215e3180117e",
   "metadata": {
    "tags": []
   },
   "outputs": [],
   "source": [
    "adata.obs['total_counts'].median()"
   ]
  },
  {
   "cell_type": "code",
   "execution_count": null,
   "id": "8fef0655-3ec5-4be9-92cc-e155ec368685",
   "metadata": {},
   "outputs": [],
   "source": []
  },
  {
   "cell_type": "code",
   "execution_count": null,
   "id": "6ee5a2b2-2639-44d0-a71e-97ec788c1665",
   "metadata": {},
   "outputs": [],
   "source": [
    "adata = adata[adata.obs.pct_counts_FP < 0.1, :].copy()\n",
    "sc.pp.filter_cells(adata, min_genes=5)\n",
    "sc.pp.filter_cells(adata, max_counts=1000)\n",
    "sc.pp.filter_cells(adata, min_counts=20)"
   ]
  },
  {
   "cell_type": "code",
   "execution_count": null,
   "id": "3590ac80-afe6-4e37-9096-98e129781e82",
   "metadata": {
    "tags": []
   },
   "outputs": [],
   "source": [
    "adata"
   ]
  },
  {
   "cell_type": "code",
   "execution_count": null,
   "id": "560cae09-c46a-4ba9-ad5b-aa54bf3fab19",
   "metadata": {
    "tags": []
   },
   "outputs": [],
   "source": [
    "adata.var_names"
   ]
  },
  {
   "cell_type": "code",
   "execution_count": null,
   "id": "9f113ab7-6539-43fb-8868-a4e429cbc175",
   "metadata": {},
   "outputs": [],
   "source": [
    "adata.obs['total_counts'].median()"
   ]
  },
  {
   "cell_type": "code",
   "execution_count": null,
   "id": "45b592a8-762b-444e-8e85-ecab5eb49f33",
   "metadata": {
    "tags": []
   },
   "outputs": [],
   "source": [
    "BLACK_LIST = ['sFP']"
   ]
  },
  {
   "cell_type": "code",
   "execution_count": null,
   "id": "72c876dd-ad37-49d9-847a-9258cf39b7a9",
   "metadata": {
    "tags": []
   },
   "outputs": [],
   "source": [
    "adata = adata[:, [x for x in adata.var_names if x not in BLACK_LIST]].copy()"
   ]
  },
  {
   "cell_type": "code",
   "execution_count": null,
   "id": "11fbf0e8-769e-4718-bb62-89f467ac7c2f",
   "metadata": {
    "tags": []
   },
   "outputs": [],
   "source": [
    "adata"
   ]
  },
  {
   "cell_type": "code",
   "execution_count": null,
   "id": "4bb79467-b597-44c5-8f03-d381318d595b",
   "metadata": {
    "tags": []
   },
   "outputs": [],
   "source": [
    "# Normalize using cell area\n",
    "from scipy.sparse import csr_matrix\n",
    "cell_area = np.array(adata.obs[\"area\"])\n",
    "# cell_area = cell_area.reshape((len(cell_area),1))\n",
    "adata.X = csr_matrix((adata.X.T / cell_area).T)"
   ]
  },
  {
   "cell_type": "code",
   "execution_count": null,
   "id": "23592cc8-0973-4a79-b8cf-d7ec567f2515",
   "metadata": {
    "tags": []
   },
   "outputs": [],
   "source": [
    "# Normalizing to library size\n",
    "sc.pp.normalize_total(adata, target_sum=109)\n",
    "# Logarithmize the data\n",
    "sc.pp.log1p(adata)"
   ]
  },
  {
   "cell_type": "code",
   "execution_count": null,
   "id": "d3b90701-7178-4496-ad4a-b17ca5082b61",
   "metadata": {
    "tags": []
   },
   "outputs": [],
   "source": [
    "sc.pl.embedding(adata, basis=\"spatial\", color=\"Slc17a7\")"
   ]
  },
  {
   "cell_type": "code",
   "execution_count": null,
   "id": "df7e76a5-cdba-465f-bc75-69280b77c2b5",
   "metadata": {
    "scrolled": true,
    "tags": []
   },
   "outputs": [],
   "source": [
    "sc.tl.pca(adata)\n",
    "sc.pp.neighbors(adata)\n",
    "sc.tl.umap(adata)"
   ]
  },
  {
   "cell_type": "code",
   "execution_count": null,
   "id": "59d7dd73-25fd-48df-9e35-b9e132bab237",
   "metadata": {
    "tags": []
   },
   "outputs": [],
   "source": [
    "# Using the igraph implementation and a fixed number of iterations can be significantly faster, especially for larger datasets\n",
    "sc.tl.leiden(adata, resolution=2, flavor=\"igraph\",n_iterations=-1)"
   ]
  },
  {
   "cell_type": "code",
   "execution_count": null,
   "id": "bce6b293-2b35-4721-b2f1-9c2bfe53e0a6",
   "metadata": {
    "tags": []
   },
   "outputs": [],
   "source": [
    "sc.pl.umap(adata, color = 'leiden')"
   ]
  },
  {
   "cell_type": "code",
   "execution_count": null,
   "id": "d5c14563-9cf8-4a72-ad0f-9df0bc87358c",
   "metadata": {
    "tags": []
   },
   "outputs": [],
   "source": [
    "sc.pl.embedding(adata, basis=\"spatial\", color=\"leiden\", size = 7)"
   ]
  },
  {
   "cell_type": "code",
   "execution_count": null,
   "id": "365798f5-fcb9-44fb-be98-9a2d3ef6a7bd",
   "metadata": {
    "tags": []
   },
   "outputs": [],
   "source": [
    "adata"
   ]
  },
  {
   "cell_type": "code",
   "execution_count": null,
   "id": "789394d2-32a7-46c9-aeae-7909b707d87b",
   "metadata": {
    "tags": []
   },
   "outputs": [],
   "source": [
    "adata.layers['norm'] = adata.X.copy()"
   ]
  },
  {
   "cell_type": "code",
   "execution_count": null,
   "id": "9cd1f240-4370-46b8-8c7c-0b4acfba3b99",
   "metadata": {},
   "outputs": [],
   "source": []
  },
  {
   "cell_type": "code",
   "execution_count": null,
   "id": "9de6efd4-4647-4997-b6eb-c2999c18c5ae",
   "metadata": {},
   "outputs": [],
   "source": []
  },
  {
   "cell_type": "code",
   "execution_count": null,
   "id": "6b16150e-456d-468b-b9f6-4b240094bce2",
   "metadata": {
    "tags": []
   },
   "outputs": [],
   "source": [
    "adata.write_h5ad(\"./Rep2/filtered.h5ad\")"
   ]
  },
  {
   "cell_type": "code",
   "execution_count": null,
   "id": "651607f9-1f1e-4553-8028-0775c75053d6",
   "metadata": {},
   "outputs": [],
   "source": []
  },
  {
   "cell_type": "code",
   "execution_count": null,
   "id": "ef4c1e15-0271-423d-b8f9-8bd97f393c38",
   "metadata": {
    "tags": []
   },
   "outputs": [],
   "source": [
    "import scanpy as sc\n",
    "import cosg"
   ]
  },
  {
   "cell_type": "code",
   "execution_count": null,
   "id": "28cb529f-0308-426c-9e3f-d83ff837afb5",
   "metadata": {
    "tags": []
   },
   "outputs": [],
   "source": [
    "adata = sc.read_h5ad(\"./Rep1/filtered.h5ad\")\n",
    "adata"
   ]
  },
  {
   "cell_type": "code",
   "execution_count": null,
   "id": "c6c76ee0-fd09-4ca2-9c08-a984d7547cf7",
   "metadata": {
    "scrolled": true,
    "tags": []
   },
   "outputs": [],
   "source": [
    "groupby='leiden_R'\n",
    "cosg.cosg(adata, key_added='cosg_leiden',\n",
    "          # use_raw=False, layer='log1p', ## e.g., if you want to use the log1p layer in adata\n",
    "          mu=1,\n",
    "          expressed_pct=0.1,\n",
    "          remove_lowly_expressed=True,\n",
    "          n_genes_user=10,\n",
    "          groupby=groupby)\n",
    "\n",
    "import pandas as pd\n",
    "pd.DataFrame(adata.uns[\"cosg_leiden\"][\"names\"]).to_csv('Rep1_cosg.csv')"
   ]
  },
  {
   "cell_type": "code",
   "execution_count": null,
   "id": "839ab5ce-4945-4ddf-9f61-ef119e19c707",
   "metadata": {
    "tags": []
   },
   "outputs": [],
   "source": [
    "annotation_dict = {\n",
    "    '0,0': 'Fibro',\n",
    "    '0,1': 'Macrophage',\n",
    "    '0,2': 'SMC',\n",
    "    '0,3': 'Fibro',\n",
    "    '1': 'Peri',\n",
    "    '10': 'Oligo',\n",
    "    '11': 'Oligo',\n",
    "    '12': 'Oligo',\n",
    "    '13': 'Microglia',\n",
    "    '14,0,0': 'Inh DMH-LHA',\n",
    "    '14,0,1': 'Inh MEA-BST',\n",
    "    '14,0,2': 'Inh TU-ARH',\n",
    "    '14,0,3': 'Inh STR D2',\n",
    "    '14,1': 'Tanycyte',\n",
    "    '15': 'Ext LH-VMH',\n",
    "    '16,0': 'DOUBLETs_Inh_Oligo',\n",
    "    '16,1': 'Inh RT-ZI',\n",
    "    '16,2': 'Unknown_SstCbln1',\n",
    "    '17': 'Astro-TE',\n",
    "    '18,0': 'Ext L6 CT',\n",
    "    '18,1': 'Ext L6b',\n",
    "    '19': 'Ext L5 CT',\n",
    "    '2': 'Endo', \n",
    "    '20': 'Ext L2/3 IT',\n",
    "    '21': 'Endo',\n",
    "    '22': 'Ext TH',\n",
    "    '23,0': 'Inh Sst',\n",
    "    '23,1': 'Inh Sst',\n",
    "    '23,2': 'Inh Sst',\n",
    "    '24': 'Ext TH',\n",
    "    '25': 'Ext MEA-COA-BMA',\n",
    "    '26,0': 'Ext DMH-LHA',\n",
    "    '26,1': 'Inh TU-ARH',\n",
    "    '27,0': 'Ext L6 IT',\n",
    "    '27,1': 'Ext L5 CT',\n",
    "    '28': 'Ext L5 IT',\n",
    "    '29': 'Ext L4 IT',\n",
    "    '3': 'Astro-NT',\n",
    "    '30,0': 'Inh Lamp5',\n",
    "    '30,1': 'Ext L2/3 PIR-ENTl',\n",
    "    '31': 'Ext LA-BLA-BMA-PA',\n",
    "    '32': 'Ext L2/3 PIR-ENTl',\n",
    "    '33': 'CHOR',\n",
    "    '34': 'Inh STR D2',\n",
    "    '35': 'DOUBLETs_Endo_Oligo',\n",
    "    '36,0,0': 'Ext CA2',\n",
    "    '36,0,1': 'Ext CA2',\n",
    "    '36,0,2': 'Ext CA1',\n",
    "    '36,1': 'Ext CA3',\n",
    "    '36,2': 'Ext CA3',\n",
    "    '37': 'Unknown_Ext',\n",
    "    '38': 'Ext DG',\n",
    "    '39': 'Ext CLA-EPd',\n",
    "    '4': 'Astro-GLS', # glia limitans superficialis\n",
    "    '40,0': 'Inh RT-ZI',\n",
    "    '40,1': 'DOUBLETs_Inh_Oligo',\n",
    "    '40,2': 'Unknown_Inh',\n",
    "    '41': 'Ext MH',\n",
    "    '42': 'Epen',\n",
    "    '43': 'Inh STR D1',\n",
    "    '5': 'Endo',\n",
    "    '6': 'Microglia',\n",
    "    '7': 'DOUBLETs_Stromal',\n",
    "    '8': 'OPC',\n",
    "    '9,0': 'Inh Pvalb',\n",
    "    '9,1': 'Inh Vip',\n",
    "    '9,2': 'Inh Reln',\n",
    "    '9,3': 'Unknown_Inh'\n",
    "}"
   ]
  },
  {
   "cell_type": "code",
   "execution_count": null,
   "id": "f985bc3d-4a3f-4197-bfb7-36bcbdce4558",
   "metadata": {
    "tags": []
   },
   "outputs": [],
   "source": [
    "sc.tl.leiden(adata, restrict_to=('leiden', ['0']), resolution = 0.3)\n",
    "sc.tl.leiden(adata, restrict_to=('leiden_R', ['14']), resolution = 0.1)\n",
    "sc.tl.leiden(adata, restrict_to=('leiden_R', ['14,0']), resolution = 0.3)\n",
    "sc.tl.leiden(adata, restrict_to=('leiden_R', ['16']), resolution = 0.2)\n",
    "sc.tl.leiden(adata, restrict_to=('leiden_R', ['18']), resolution = 0.2)\n",
    "sc.tl.leiden(adata, restrict_to=('leiden_R', ['23']), resolution = 0.2)\n",
    "sc.tl.leiden(adata, restrict_to=('leiden_R', ['26']), resolution = 0.1)\n",
    "sc.tl.leiden(adata, restrict_to=('leiden_R', ['27']), resolution = 0.2)\n",
    "sc.tl.leiden(adata, restrict_to=('leiden_R', ['30']), resolution = 0.1)\n",
    "sc.tl.leiden(adata, restrict_to=('leiden_R', ['36']), resolution = 0.1)\n",
    "sc.tl.leiden(adata, restrict_to=('leiden_R', ['36,0']), resolution = 0.2)\n",
    "sc.tl.leiden(adata, restrict_to=('leiden_R', ['40']), resolution = 0.1)\n",
    "sc.tl.leiden(adata, restrict_to=('leiden_R', ['9']), resolution = 0.3)\n",
    "\n",
    "sc.set_figure_params(figsize = (10, 10))\n",
    "sc.pl.embedding(adata, basis = 'spatial', color = 'leiden_R', size = 20)"
   ]
  },
  {
   "cell_type": "code",
   "execution_count": null,
   "id": "42ad46b7-ac92-492b-b0ac-a3a35b9c9063",
   "metadata": {
    "tags": []
   },
   "outputs": [],
   "source": [
    "sc.set_figure_params(figsize = (10, 10))\n",
    "sc.pl.embedding(adata, basis = 'spatial', color = 'leiden_R', size = 20, groups=['9,3'])"
   ]
  },
  {
   "cell_type": "code",
   "execution_count": null,
   "id": "377c69f3-0010-411b-bd88-11ca5bf11918",
   "metadata": {
    "tags": []
   },
   "outputs": [],
   "source": [
    "sc.set_figure_params(figsize=(10,5))\n",
    "sc.pl.violin(adata, keys = 'Drd1', groupby='leiden_R', rotation=90)"
   ]
  },
  {
   "cell_type": "code",
   "execution_count": null,
   "id": "2fb0508b-bb6b-45d0-a34d-56acf2a167fd",
   "metadata": {
    "tags": []
   },
   "outputs": [],
   "source": [
    "sc.set_figure_params(figsize=(10,10))\n",
    "sc.pl.umap(adata, color = ['leiden_R', 'Nxph1'], size = 10, groups = ['9'])"
   ]
  },
  {
   "cell_type": "code",
   "execution_count": null,
   "id": "b1327b45-37c0-45f1-b8e0-a825f1815600",
   "metadata": {
    "tags": []
   },
   "outputs": [],
   "source": [
    "adata.obs['cell_type'] = [annotation_dict[x] for x in adata.obs['leiden_R']]"
   ]
  },
  {
   "cell_type": "code",
   "execution_count": null,
   "id": "47bf6be5-e693-4d95-a5ea-4e66a8263e96",
   "metadata": {
    "tags": []
   },
   "outputs": [],
   "source": [
    "sc.pl.umap(adata, color = ['cell_type'], size = 10)"
   ]
  },
  {
   "cell_type": "code",
   "execution_count": null,
   "id": "4f06524c-8e27-4c26-b726-2dfa9ff0ad78",
   "metadata": {
    "tags": []
   },
   "outputs": [],
   "source": [
    "sc.set_figure_params(figsize = (10, 10))\n",
    "sc.pl.embedding(adata, basis = 'spatial', color = 'cell_type', size = 20)"
   ]
  },
  {
   "cell_type": "code",
   "execution_count": null,
   "id": "396824d0-2811-465e-b7ae-9485699c382e",
   "metadata": {
    "tags": []
   },
   "outputs": [],
   "source": [
    "adata.write_h5ad(\"Rep1/annotated.h5ad\")"
   ]
  },
  {
   "cell_type": "code",
   "execution_count": null,
   "id": "b3bf65c9-92bf-42c9-bd5b-77e7bba96323",
   "metadata": {},
   "outputs": [],
   "source": []
  },
  {
   "cell_type": "code",
   "execution_count": null,
   "id": "1e4ee76b-55c2-4a0c-868e-aa2630195d9d",
   "metadata": {
    "tags": []
   },
   "outputs": [],
   "source": [
    "adata = sc.read_h5ad(\"./Rep2/filtered.h5ad\")\n",
    "adata"
   ]
  },
  {
   "cell_type": "code",
   "execution_count": null,
   "id": "678f039c-c6cf-46d3-9f19-c1ea91a81dd0",
   "metadata": {
    "scrolled": true,
    "tags": []
   },
   "outputs": [],
   "source": [
    "groupby='leiden_R'\n",
    "cosg.cosg(adata, key_added='cosg_leiden',\n",
    "          # use_raw=False, layer='log1p', ## e.g., if you want to use the log1p layer in adata\n",
    "          mu=1,\n",
    "          expressed_pct=0.1,\n",
    "          remove_lowly_expressed=True,\n",
    "          n_genes_user=10,\n",
    "          groupby=groupby)\n",
    "\n",
    "import pandas as pd\n",
    "pd.DataFrame(adata.uns[\"cosg_leiden\"][\"names\"]).to_csv('Rep2_cosg.csv')"
   ]
  },
  {
   "cell_type": "code",
   "execution_count": null,
   "id": "9a0e51e5-a87e-48c6-9dd7-50cae82f24d0",
   "metadata": {
    "tags": []
   },
   "outputs": [],
   "source": [
    "annotation_dict = {\n",
    "    '0,0': 'Fibro',\n",
    "    '0,1': 'Peri',\n",
    "    '0,2': 'Fibro',\n",
    "    '0,3': 'CHOR',\n",
    "    '1': 'Astro-TE',\n",
    "    '10': 'Oligo',\n",
    "    '11,0': 'Inh Pvalb',\n",
    "    '11,1': 'Inh Pvalb',\n",
    "    '11,2': 'Inh Reln',\n",
    "    '11,3': 'Inh Vip',\n",
    "    '12': 'Astro-NT',\n",
    "    '13': 'Inh Sst',\n",
    "    '14': 'Macrophage',\n",
    "    '15': 'Microglia',\n",
    "    '16,0': 'Inh RT-ZI',\n",
    "    '16,1': 'Unknown_SstCbln1',\n",
    "    '17,0': 'DOUBLETs_Ext_Inh', # 这个应该有问题\n",
    "    '17,1': 'Ext L6 IT',\n",
    "    '18': 'OPC',\n",
    "    '19': 'Ext TH',\n",
    "    '2': 'Endo',\n",
    "    '20': 'DOUBLETs_Ext_Astro',\n",
    "    '21,0': 'Ext LH-VMH',\n",
    "    '21,1': 'Inh TU-ARH',\n",
    "    '21,2': 'Ext LH-LHA',\n",
    "    '21,3': 'Ext LH-LHA',\n",
    "    '22': 'Ext L2/3 IT',\n",
    "    '23,0,0': 'Ext L6 IT', \n",
    "    '23,0,1': 'Ext L5 CT',\n",
    "    '23,1': 'Ext LA-BLA-BMA-PA',\n",
    "    '24': 'Ext L2/3 RSP IT',\n",
    "    '25,0': 'Ext L6 CT',\n",
    "    '25,1': 'Ext L6b',\n",
    "    '26,0': 'Ext L4 IT',\n",
    "    '26,1': 'Ext LA-BLA-BMA-PA',\n",
    "    '27,0': 'Inh DMH-LHA-MEA',\n",
    "    '27,1': 'Inh DMH-LHA-MEA',\n",
    "    '27,2': 'Inh DMH-LHA-MEA',\n",
    "    '27,3': 'Inh PAL',\n",
    "    '28,0': 'Ext L2/3 PIR-ENTl',\n",
    "    '28,1': 'Ext L2/3 PIR-ENTl',\n",
    "    '28,2': 'Unknown_Ext',\n",
    "    '29': 'Ext CLA-EPd',\n",
    "    '3': 'Endo',\n",
    "    '30': 'Inh CEA',\n",
    "    '31,0': 'Ext L5 IT',\n",
    "    '31,1': 'Ext L5 CT',\n",
    "    '32': 'Ext MEA-COA-BMA',\n",
    "    '33': 'Microglia',\n",
    "    '34,0': 'Ext L5 CT',\n",
    "    '34,1': 'Ext L4 RSP-ACA',\n",
    "    '35,0': 'Ext CA3',\n",
    "    '35,1': 'Ext CA2',\n",
    "    '36': 'Ext DG',\n",
    "    '37': 'Epen',\n",
    "    '38': 'Inh STR D2',\n",
    "    '39': 'Ext CA1',\n",
    "    '4': 'Endo',\n",
    "    '40': 'Ext MH',\n",
    "    '41': 'Ext DG',\n",
    "    '42': 'Ext L2/3 PIR-ENTl',\n",
    "    '43': 'Inh STR D1',\n",
    "    '5': 'Oligo',\n",
    "    '6': 'DOUBLETs_Peri_Oligo',\n",
    "    '7': 'Oligo',\n",
    "    '8,0': 'Inh RT-ZI', \n",
    "    '8,1': 'Inh RT-ZI', \n",
    "    '9': 'Ext TH'\n",
    "}"
   ]
  },
  {
   "cell_type": "code",
   "execution_count": null,
   "id": "9c45c557-4c3a-473b-aef6-f76463545dbc",
   "metadata": {
    "tags": []
   },
   "outputs": [],
   "source": [
    "sc.tl.leiden(adata, restrict_to=('leiden', ['0']), resolution = 0.3)\n",
    "sc.tl.leiden(adata, restrict_to=('leiden_R', ['11']), resolution = 0.3)\n",
    "sc.tl.leiden(adata, restrict_to=('leiden_R', ['16']), resolution = 0.1)\n",
    "sc.tl.leiden(adata, restrict_to=('leiden_R', ['17']), resolution = 0.1)\n",
    "sc.tl.leiden(adata, restrict_to=('leiden_R', ['21']), resolution = 0.2)\n",
    "sc.tl.leiden(adata, restrict_to=('leiden_R', ['23']), resolution = 0.2)\n",
    "sc.tl.leiden(adata, restrict_to=('leiden_R', ['23,0']), resolution = 0.2)\n",
    "sc.tl.leiden(adata, restrict_to=('leiden_R', ['25']), resolution = 0.2)\n",
    "sc.tl.leiden(adata, restrict_to=('leiden_R', ['26']), resolution = 0.2)\n",
    "sc.tl.leiden(adata, restrict_to=('leiden_R', ['27']), resolution = 0.3)\n",
    "sc.tl.leiden(adata, restrict_to=('leiden_R', ['28']), resolution = 0.2)\n",
    "sc.tl.leiden(adata, restrict_to=('leiden_R', ['31']), resolution = 0.2)\n",
    "sc.tl.leiden(adata, restrict_to=('leiden_R', ['34']), resolution = 0.1)\n",
    "sc.tl.leiden(adata, restrict_to=('leiden_R', ['35']), resolution = 0.1)\n",
    "sc.tl.leiden(adata, restrict_to=('leiden_R', ['8']), resolution = 0.1)\n",
    "\n",
    "sc.set_figure_params(figsize = (8, 10))\n",
    "sc.pl.embedding(adata, basis = 'spatial', color = 'leiden_R', size = 20)"
   ]
  },
  {
   "cell_type": "code",
   "execution_count": null,
   "id": "002a1adc-00da-41ea-8037-80bb0228976d",
   "metadata": {
    "tags": []
   },
   "outputs": [],
   "source": [
    "sc.set_figure_params(figsize = (8, 10))\n",
    "sc.pl.embedding(adata, basis = 'spatial', color = 'leiden_R', size = 20, groups=['0,2'])"
   ]
  },
  {
   "cell_type": "code",
   "execution_count": null,
   "id": "93fce1aa-b3b0-4fb7-839b-7637c5fa1c7c",
   "metadata": {
    "tags": []
   },
   "outputs": [],
   "source": [
    "sc.set_figure_params(figsize=(10,5))\n",
    "sc.pl.violin(adata, keys = ['Tagln'], groupby='leiden_R', rotation=90)"
   ]
  },
  {
   "cell_type": "code",
   "execution_count": null,
   "id": "90fefef1-923a-48e2-b58b-dba1a0226a78",
   "metadata": {
    "tags": []
   },
   "outputs": [],
   "source": [
    "sc.set_figure_params(figsize=(10,10))\n",
    "sc.pl.umap(adata, color = ['leiden_R', 'Hap1'], size = 10, groups = ['34'])"
   ]
  },
  {
   "cell_type": "code",
   "execution_count": null,
   "id": "43d8b8eb-f10d-4dba-959f-25aae0446987",
   "metadata": {
    "tags": []
   },
   "outputs": [],
   "source": [
    "adata.obs['cell_type'] = [annotation_dict[x] for x in adata.obs['leiden_R']]"
   ]
  },
  {
   "cell_type": "code",
   "execution_count": null,
   "id": "f4ca833e-9de5-4dc8-b392-01df13bebd62",
   "metadata": {
    "tags": []
   },
   "outputs": [],
   "source": [
    "sc.pl.umap(adata, color = ['cell_type'], size = 10, legend_loc = 'on data')"
   ]
  },
  {
   "cell_type": "code",
   "execution_count": null,
   "id": "015a470b-9429-4311-9dc2-96c4121fad6d",
   "metadata": {
    "tags": []
   },
   "outputs": [],
   "source": [
    "sc.set_figure_params(figsize = (7.5, 10))\n",
    "sc.pl.embedding(adata, basis = 'spatial', color = 'cell_type', size = 20)"
   ]
  },
  {
   "cell_type": "code",
   "execution_count": null,
   "id": "e8331679-434b-45ec-b86b-e9ce5d9d169e",
   "metadata": {
    "tags": []
   },
   "outputs": [],
   "source": [
    "adata.write_h5ad(\"Rep2/annotated.h5ad\")"
   ]
  },
  {
   "cell_type": "code",
   "execution_count": null,
   "id": "372619dd-ab55-4320-ba9d-50bc3e5375da",
   "metadata": {
    "tags": []
   },
   "outputs": [],
   "source": [
    "sc.pl.embedding(adata, basis = 'spatial', color = 'Tagln', size = 20)"
   ]
  },
  {
   "cell_type": "code",
   "execution_count": null,
   "id": "27d94af7-06e8-4ba2-8a99-3d7a0f473cad",
   "metadata": {},
   "outputs": [],
   "source": []
  },
  {
   "cell_type": "code",
   "execution_count": null,
   "id": "b53bda10-35a9-4f82-b130-4a06f6e5c672",
   "metadata": {
    "tags": []
   },
   "outputs": [],
   "source": [
    "df = sdata.points['dist_coord'].compute()\n",
    "df"
   ]
  },
  {
   "cell_type": "code",
   "execution_count": null,
   "id": "799a38d9-382e-4b94-8265-225a4a44e2d2",
   "metadata": {
    "tags": []
   },
   "outputs": [],
   "source": [
    "counts = df['gene'].value_counts()"
   ]
  },
  {
   "cell_type": "code",
   "execution_count": null,
   "id": "409e7906-d95b-45b2-89a1-319be963bbbe",
   "metadata": {
    "tags": []
   },
   "outputs": [],
   "source": [
    "counts.sum()"
   ]
  },
  {
   "cell_type": "code",
   "execution_count": null,
   "id": "9d6a4a66-a325-4294-bf69-eb7cae59b46f",
   "metadata": {
    "tags": []
   },
   "outputs": [],
   "source": [
    "NP_pad = NP_pad.set_index('Gene')"
   ]
  },
  {
   "cell_type": "code",
   "execution_count": null,
   "id": "5c033972-4b17-44d7-af96-176fd836b783",
   "metadata": {
    "tags": []
   },
   "outputs": [],
   "source": [
    "result = 0\n",
    "for i in NP_pad.index:\n",
    "    if i != 'sFP':\n",
    "        result += counts[i] * NP_pad.loc[i, 'Fold']\n",
    "result"
   ]
  },
  {
   "cell_type": "code",
   "execution_count": null,
   "id": "467d0fd0-ea44-4a7a-88fe-d01f89881caf",
   "metadata": {},
   "outputs": [],
   "source": []
  },
  {
   "cell_type": "code",
   "execution_count": null,
   "id": "8b14964e-d3d6-4cb1-8ed1-954e55dfb1ab",
   "metadata": {},
   "outputs": [],
   "source": []
  },
  {
   "cell_type": "code",
   "execution_count": null,
   "id": "2cf41791-4ebe-4141-bf3c-43b197d2b86f",
   "metadata": {
    "scrolled": true,
    "tags": []
   },
   "outputs": [],
   "source": [
    "cdf2 = pd.read_table(\"/media/duan/DuanLab_Data/openFISH/ABA110_Demo/gene_color.tsv\", header=None)\n",
    "cdf2"
   ]
  },
  {
   "cell_type": "code",
   "execution_count": null,
   "id": "97e08cd6-3fd4-4587-8189-0c70ae1d3d91",
   "metadata": {
    "tags": []
   },
   "outputs": [],
   "source": [
    "from read_roi import read_roi_file\n",
    "\n",
    "roi = read_roi_file('/media/duan/DuanLab_Data/openFISH/ABA110_Demo2/Rep2/Fig_2_roi1_big.roi')"
   ]
  },
  {
   "cell_type": "code",
   "execution_count": null,
   "id": "4e76b3cd-410f-4874-a56f-22f81d39923e",
   "metadata": {
    "tags": []
   },
   "outputs": [],
   "source": [
    "roi"
   ]
  },
  {
   "cell_type": "code",
   "execution_count": null,
   "id": "b9a827a5-7a85-41b7-8551-0aa2cc2c65ae",
   "metadata": {
    "tags": []
   },
   "outputs": [],
   "source": [
    "from shapely import Polygon\n",
    "key = 'Fig_2_roi1_big'\n",
    "polygon = Polygon([[roi[key]['left'], roi[key]['top']], \n",
    "                   [roi[key]['left'] + roi[key]['width'], roi[key]['top']], \n",
    "                   [roi[key]['left'] + roi[key]['width'], roi[key]['top'] + roi[key]['height']], \n",
    "                   [roi[key]['left'], roi[key]['top'] + roi[key]['height']]])\n",
    "polygon"
   ]
  },
  {
   "cell_type": "code",
   "execution_count": null,
   "id": "5b03e99e-9721-4f77-a5b6-106ab0fd4f3a",
   "metadata": {
    "tags": []
   },
   "outputs": [],
   "source": [
    "from spatialdata import polygon_query\n",
    "crop1 = lambda x: polygon_query(\n",
    "    x,\n",
    "    polygon=polygon,\n",
    "    target_coordinate_system=\"global\",\n",
    ")"
   ]
  },
  {
   "cell_type": "code",
   "execution_count": null,
   "id": "692855f5-46cb-46ab-9682-036b88b23401",
   "metadata": {
    "tags": []
   },
   "outputs": [],
   "source": [
    "crop1(sdata).pl.render_points('dist_coord', color = 'gene', size=0.1, palette = list(cdf2[2]), groups = list(cdf2[0])).pl.render_shapes(\n",
    "    'MultiModel', outline_alpha = 1., fill_alpha = 0., outline_width = .2, outline_color = \"#FFFFFF\").pl.show(figsize = (20,10), dpi = 600, save = 'spots_density.pdf')"
   ]
  },
  {
   "cell_type": "code",
   "execution_count": null,
   "id": "eca5deac-94ca-4f13-b41e-ae8d2d3148fa",
   "metadata": {},
   "outputs": [],
   "source": []
  },
  {
   "cell_type": "code",
   "execution_count": null,
   "id": "2647a71e-dd62-4000-95e8-ece13ad4595e",
   "metadata": {},
   "outputs": [],
   "source": []
  },
  {
   "cell_type": "code",
   "execution_count": null,
   "id": "65de4ed8-0735-43c1-9f42-dd282dc9e827",
   "metadata": {
    "tags": []
   },
   "outputs": [],
   "source": [
    "adata = sc.read_h5ad(\"Rep2/annotated.h5ad\")"
   ]
  },
  {
   "cell_type": "code",
   "execution_count": null,
   "id": "f557ef3a-83e8-4bf8-b1f7-471e809fe753",
   "metadata": {
    "tags": []
   },
   "outputs": [],
   "source": [
    "adata"
   ]
  },
  {
   "cell_type": "code",
   "execution_count": null,
   "id": "09e2f976-aaeb-4eb5-ac1e-911627cecf1d",
   "metadata": {
    "tags": []
   },
   "outputs": [],
   "source": [
    "import numpy as np"
   ]
  },
  {
   "cell_type": "code",
   "execution_count": null,
   "id": "1f1b8865-1501-4acb-905a-911749eb3cf6",
   "metadata": {
    "tags": []
   },
   "outputs": [],
   "source": [
    "np.percentile(adata.obs['area'], 5)"
   ]
  },
  {
   "cell_type": "code",
   "execution_count": null,
   "id": "60e294a5-044b-4932-aa52-28b643454213",
   "metadata": {
    "tags": []
   },
   "outputs": [],
   "source": [
    "adata = adata[adata.obs['area'] > 600].copy()"
   ]
  },
  {
   "cell_type": "code",
   "execution_count": null,
   "id": "b819c84d-9198-4d3f-89fd-c2259462cce7",
   "metadata": {
    "tags": []
   },
   "outputs": [],
   "source": [
    "sc.set_figure_params(figsize = (7.5, 10), scanpy = False)\n",
    "sc.pl.embedding(adata, basis = 'spatial', color = 'cell_type', size = 20)"
   ]
  },
  {
   "cell_type": "code",
   "execution_count": null,
   "id": "1883d085-0556-4d1d-a6c3-e6fbb832117f",
   "metadata": {
    "tags": []
   },
   "outputs": [],
   "source": [
    "sc.pl.embedding(adata, basis = 'spatial', color = 'cell_type', size = 20, groups = ['Unknown_SstCbln1'])"
   ]
  },
  {
   "cell_type": "code",
   "execution_count": null,
   "id": "69be5256-599d-4dce-ae9c-3114291b6987",
   "metadata": {
    "tags": []
   },
   "outputs": [],
   "source": [
    "annotation_dict = {\n",
    "    'Astro-NT': 'Astro-Epen',\n",
    "    'Astro-TE': 'Astro-Epen',\n",
    "    'CHOR': 'Astro-Epen',\n",
    "    'Epen': 'Astro-Epen',\n",
    "    \n",
    "    'DOUBLETs_Ext_Astro': 'DOUBLETs',\n",
    "    'DOUBLETs_Ext_Inh': 'DOUBLETs',\n",
    "    'DOUBLETs_Peri_Oligo': 'DOUBLETs',\n",
    "    \n",
    "    'Endo': 'Vascular',\n",
    "    'Fibro': 'Vascular',\n",
    "    'Peri': 'Vascular',\n",
    "    \n",
    "    'Ext CA1': 'Ext HIP',\n",
    "    'Ext CA2': 'Ext HIP',\n",
    "    'Ext CA3': 'Ext HIP',\n",
    "    'Ext DG': 'Ext HIP',\n",
    "    \n",
    "    'Ext CLA-EPd': 'Ext Isocortex',\n",
    "    'Ext L2/3 IT': 'Ext Isocortex',\n",
    "    'Ext L2/3 RSP IT': 'Ext Isocortex',\n",
    "    'Ext L4 IT': 'Ext Isocortex',\n",
    "    'Ext L4 RSP-ACA': 'Ext Isocortex',\n",
    "    'Ext L5 CT': 'Ext Isocortex',\n",
    "    'Ext L5 IT': 'Ext Isocortex',\n",
    "    'Ext L6 CT': 'Ext Isocortex',\n",
    "    'Ext L6 IT': 'Ext Isocortex',\n",
    "    'Ext L6b': 'Ext Isocortex',\n",
    "    \n",
    "    'Ext LA-BLA-BMA-PA': 'Ext CTXsp',\n",
    "    \n",
    "    'Ext LH-LHA': 'Ext TH HY',\n",
    "    'Ext LH-VMH': 'Ext TH HY',\n",
    "    'Ext MH': 'Ext TH HY',\n",
    "    'Ext TH': 'Ext TH HY',\n",
    "    \n",
    "    'Ext MEA-COA-BMA': 'Ext CNU',\n",
    "    \n",
    "    'Ext L2/3 PIR-ENTl': 'Ext OLF',\n",
    "    \n",
    "    'Inh CEA': 'Inh CNU',\n",
    "    'Inh PAL': 'Inh CNU',\n",
    "    'Inh STR D1': 'Inh CNU',\n",
    "    'Inh STR D2': 'Inh CNU',\n",
    "    \n",
    "    'Inh DMH-LHA-MEA': 'Inh TH HY',\n",
    "    'Inh RT-ZI': 'Inh TH HY',\n",
    "    'Inh TU-ARH': 'Inh TH HY',\n",
    "    \n",
    "    'Inh Pvalb': 'Inh',\n",
    "    'Inh Reln': 'Inh',\n",
    "    'Inh Sst': 'Inh',\n",
    "    'Inh Vip': 'Inh',\n",
    "    \n",
    "    'Macrophage': 'Immune',\n",
    "    'Microglia': 'Immune',\n",
    "    \n",
    "    'OPC': 'Oligo-OPC',\n",
    "    'Oligo': 'Oligo-OPC',\n",
    "    \n",
    "    'Unknown_Ext': 'Unknown',\n",
    "    'Unknown_SstCbln1': 'Inh'\n",
    "}"
   ]
  },
  {
   "cell_type": "code",
   "execution_count": null,
   "id": "e819c7c3-a6f9-485d-bcd7-34e62dc8f4bf",
   "metadata": {
    "tags": []
   },
   "outputs": [],
   "source": [
    "adata.obs['Part'] = [annotation_dict[x] for x in adata.obs['cell_type']]"
   ]
  },
  {
   "cell_type": "code",
   "execution_count": null,
   "id": "a5339d58-84d1-4176-9aa3-1af37c5aa5f4",
   "metadata": {
    "tags": []
   },
   "outputs": [],
   "source": [
    "sc.pl.embedding(adata, basis = 'spatial', color = 'Part', size = 20)"
   ]
  },
  {
   "cell_type": "code",
   "execution_count": null,
   "id": "8d554c5c-1ada-438d-9c00-9823d2f694ac",
   "metadata": {
    "tags": []
   },
   "outputs": [],
   "source": [
    "check = adata[~adata.obs['Part'].isin(['Unknown', 'DOUBLETs'])].copy()\n",
    "check"
   ]
  },
  {
   "cell_type": "code",
   "execution_count": null,
   "id": "d53a0bc1-62bc-4d53-9601-dc54acd07112",
   "metadata": {
    "tags": []
   },
   "outputs": [],
   "source": [
    "check.uns['Part_colors'] = [\n",
    "    '#00FFFFff', '#8B5A2Bff', '#CD1076ff', '#00008Bff', '#1E90FFff',\n",
    "    '#9B30FFff', '#2E8B57ff', '#FFFF00ff', '#00FF00ff', '#CD661Dff', '#009ACDff',\n",
    "    '#696969ff', '#FF3030ff'\n",
    "]"
   ]
  },
  {
   "cell_type": "code",
   "execution_count": null,
   "id": "8a9c52ec-b032-41ee-9031-288c0e209224",
   "metadata": {
    "tags": []
   },
   "outputs": [],
   "source": [
    "sc.pl.embedding(check, basis = 'spatial', color = 'Part', size = 20)"
   ]
  },
  {
   "cell_type": "code",
   "execution_count": null,
   "id": "40891d30-bb4c-49cf-a574-b77b8eb7620e",
   "metadata": {},
   "outputs": [],
   "source": []
  },
  {
   "cell_type": "code",
   "execution_count": null,
   "id": "a417eed3-5493-4272-b808-01d3bb5b1ce0",
   "metadata": {
    "tags": []
   },
   "outputs": [],
   "source": [
    "sdata = read_zarr('/media/duan/DuanLab_Data/openFISH/ABA110_Demo2/Rep2/raw_sdata.zarr')\n",
    "sdata"
   ]
  },
  {
   "cell_type": "code",
   "execution_count": null,
   "id": "962b59f8-17dd-4848-9dff-c452f0567cdf",
   "metadata": {
    "tags": []
   },
   "outputs": [],
   "source": [
    "import spatialdata_plot"
   ]
  },
  {
   "cell_type": "code",
   "execution_count": null,
   "id": "bd733ac1-5686-4032-a097-68c6a725dc4c",
   "metadata": {
    "tags": []
   },
   "outputs": [],
   "source": [
    "sdata.shapes['MultiModel'].index = sdata.shapes['MultiModel'].index.astype('str')\n",
    "sdata.shapes['MultiModel']['Part'] = check.obs['Part']\n",
    "sdata.shapes['MultiModel']['Part'] = sdata.shapes['MultiModel']['Part'].astype('category')\n",
    "sdata.shapes['MultiModel'] = sdata.shapes['MultiModel'].dropna()"
   ]
  },
  {
   "cell_type": "code",
   "execution_count": null,
   "id": "4e4b18e6-534c-4e35-87ce-26486a11eb96",
   "metadata": {
    "tags": []
   },
   "outputs": [],
   "source": [
    "sdata.pl.render_shapes(\"MultiModel\", color = 'Part', palette=list(check.uns['Part_colors']), groups = sorted(check.obs['Part'].unique().tolist()),\n",
    "                      outline_alpha = 0., fill_alpha = 1).pl.show(title=\"MultiModel\", dpi = 900, frameon = False, save = 'Part_Rep2.pdf')"
   ]
  },
  {
   "cell_type": "code",
   "execution_count": null,
   "id": "c51a669a-918d-431c-863b-c82d1b6fb901",
   "metadata": {
    "scrolled": true,
    "tags": []
   },
   "outputs": [],
   "source": [
    "cdf = pd.read_table('Rep2_CellType_Color.tsv', header=None, index_col=0)\n",
    "cdf"
   ]
  },
  {
   "cell_type": "code",
   "execution_count": null,
   "id": "7a59cba9-f688-4e26-8a47-9d8ce86d6ec1",
   "metadata": {
    "tags": []
   },
   "outputs": [],
   "source": [
    "sdata.shapes['MultiModel'].index = sdata.shapes['MultiModel'].index.astype('str')\n",
    "sdata.shapes['MultiModel']['cell_type'] = check.obs['cell_type']\n",
    "sdata.shapes['MultiModel']['cell_type'] = sdata.shapes['MultiModel']['cell_type'].astype('category')\n",
    "sdata.shapes['MultiModel'] = sdata.shapes['MultiModel'].dropna()"
   ]
  },
  {
   "cell_type": "code",
   "execution_count": null,
   "id": "2f5a9218-2480-4250-89d6-fbc772749a98",
   "metadata": {
    "tags": []
   },
   "outputs": [],
   "source": [
    "sdata.pl.render_shapes(\"MultiModel\", color = 'cell_type', palette=[cdf.loc[x,1] + 'ff' for x in sorted(check.obs['cell_type'].unique().tolist())], groups = sorted(check.obs['cell_type'].unique().tolist()),\n",
    "                      outline_alpha = 0., fill_alpha = 1).pl.show(figsize = (20,10), title=\"MultiModel\", dpi = 900, frameon = False, save = 'CellType_Rep2.pdf')"
   ]
  },
  {
   "cell_type": "code",
   "execution_count": null,
   "id": "2c62dd2d-3900-425d-87d2-2b2a7b7228c6",
   "metadata": {
    "tags": []
   },
   "outputs": [],
   "source": [
    "check"
   ]
  },
  {
   "cell_type": "code",
   "execution_count": null,
   "id": "521074ee-1833-4de1-8177-c9bbc4814ee2",
   "metadata": {
    "tags": []
   },
   "outputs": [],
   "source": [
    "from read_roi import read_roi_file\n",
    "\n",
    "roi = read_roi_file('/media/duan/DuanLab_Data/openFISH/ABA110_Demo2/Rep2/Fig_2C_roi1.roi')"
   ]
  },
  {
   "cell_type": "code",
   "execution_count": null,
   "id": "1e13fd79-2fda-411f-b3fa-6fb0b23bcb9a",
   "metadata": {
    "tags": []
   },
   "outputs": [],
   "source": [
    "roi"
   ]
  },
  {
   "cell_type": "code",
   "execution_count": null,
   "id": "b8f79b77-6768-44ef-8a81-bc850a6f25bf",
   "metadata": {
    "tags": []
   },
   "outputs": [],
   "source": [
    "from shapely import Polygon\n",
    "import numpy as np\n",
    "\n",
    "key = 'Fig_2C_roi1'\n",
    "polygon = Polygon(\n",
    "\n",
    "        np.column_stack([roi[key]['x'], roi[key]['y']])\n",
    "\n",
    ")\n",
    "polygon"
   ]
  },
  {
   "cell_type": "code",
   "execution_count": null,
   "id": "21288cbe-7be9-4875-a3e2-e880277bc273",
   "metadata": {
    "tags": []
   },
   "outputs": [],
   "source": [
    "from spatialdata import polygon_query\n",
    "crop1 = lambda x: polygon_query(\n",
    "    x,\n",
    "    polygon=polygon,\n",
    "    target_coordinate_system=\"global\",\n",
    ")"
   ]
  },
  {
   "cell_type": "code",
   "execution_count": null,
   "id": "75b2cb3f-5278-47f4-9612-d0c9c1fbc3c6",
   "metadata": {
    "tags": []
   },
   "outputs": [],
   "source": [
    "crop1(sdata).pl.render_shapes(\"MultiModel\", color = 'cell_type', palette=[cdf.loc[x,1] + 'ff' for x in sorted(check.obs['cell_type'].unique().tolist())], groups = sorted(check.obs['cell_type'].unique().tolist()),\n",
    "                      outline_alpha = 0, fill_alpha = 1.).pl.show(title=\"MultiModel\", figsize = (20,10), dpi = 150, frameon = False, save = 'demo_roi1_HIP.pdf')"
   ]
  },
  {
   "cell_type": "code",
   "execution_count": null,
   "id": "1dfb7682-4e91-4325-a936-b280b39225df",
   "metadata": {},
   "outputs": [],
   "source": []
  },
  {
   "cell_type": "code",
   "execution_count": null,
   "id": "5d7f0c9c-d1cd-4055-b086-706a8d432e8d",
   "metadata": {
    "tags": []
   },
   "outputs": [],
   "source": [
    "from read_roi import read_roi_file\n",
    "\n",
    "roi = read_roi_file('/media/duan/DuanLab_Data/openFISH/ABA110_Demo2/Rep2/Fig_2C_roi2.roi')"
   ]
  },
  {
   "cell_type": "code",
   "execution_count": null,
   "id": "ec7afcee-aa07-4d3e-9bce-011ac6d3ff9a",
   "metadata": {
    "tags": []
   },
   "outputs": [],
   "source": [
    "roi"
   ]
  },
  {
   "cell_type": "code",
   "execution_count": null,
   "id": "186b5365-5e84-49dd-ad4e-7ad9757d787b",
   "metadata": {
    "tags": []
   },
   "outputs": [],
   "source": [
    "from shapely import Polygon\n",
    "import numpy as np\n",
    "\n",
    "key = 'Fig_2C_roi2'\n",
    "polygon = Polygon(\n",
    "\n",
    "        np.column_stack([roi[key]['x'], roi[key]['y']])\n",
    "\n",
    ")\n",
    "polygon"
   ]
  },
  {
   "cell_type": "code",
   "execution_count": null,
   "id": "daca38d0-477c-4572-9ab0-7d4b8c32bb80",
   "metadata": {
    "tags": []
   },
   "outputs": [],
   "source": [
    "from spatialdata import polygon_query\n",
    "crop1 = lambda x: polygon_query(\n",
    "    x,\n",
    "    polygon=polygon,\n",
    "    target_coordinate_system=\"global\",\n",
    ")"
   ]
  },
  {
   "cell_type": "code",
   "execution_count": null,
   "id": "64c38f96-0ac2-4292-88f4-a68a60f2d487",
   "metadata": {
    "tags": []
   },
   "outputs": [],
   "source": [
    "crop1(sdata).pl.render_shapes(\"MultiModel\", color = 'cell_type', palette=[cdf.loc[x,1] + 'ff' for x in sorted(check.obs['cell_type'].unique().tolist())], groups = sorted(check.obs['cell_type'].unique().tolist()),\n",
    "                      outline_alpha = 0, fill_alpha = 1.).pl.show(title=\"MultiModel\",figsize = (10,20), dpi = 150, frameon = False, save = 'demo_roi2_Ventricle.pdf')"
   ]
  },
  {
   "cell_type": "code",
   "execution_count": null,
   "id": "347070ab-27a0-4d37-9710-b46482c9c5e4",
   "metadata": {},
   "outputs": [],
   "source": []
  },
  {
   "cell_type": "code",
   "execution_count": null,
   "id": "6619c105-c5e6-4d19-b3fb-b2096fac223d",
   "metadata": {
    "tags": []
   },
   "outputs": [],
   "source": [
    "from read_roi import read_roi_file\n",
    "\n",
    "roi = read_roi_file('/media/duan/DuanLab_Data/openFISH/ABA110_Demo2/Rep2/Fig_2C_roi3.roi')"
   ]
  },
  {
   "cell_type": "code",
   "execution_count": null,
   "id": "2902a660-0697-4697-9340-c34d13a7f5c5",
   "metadata": {
    "tags": []
   },
   "outputs": [],
   "source": [
    "roi"
   ]
  },
  {
   "cell_type": "code",
   "execution_count": null,
   "id": "c7d1023c-faf3-47d2-a518-4e571b3f9f0f",
   "metadata": {
    "tags": []
   },
   "outputs": [],
   "source": [
    "from shapely import Polygon\n",
    "import numpy as np\n",
    "\n",
    "key = 'Fig_2C_roi3'\n",
    "polygon = Polygon(\n",
    "\n",
    "        np.column_stack([roi[key]['x'], roi[key]['y']])\n",
    "\n",
    ")\n",
    "polygon"
   ]
  },
  {
   "cell_type": "code",
   "execution_count": null,
   "id": "75544fa7-c1f8-40a8-95e3-10f7358b33d8",
   "metadata": {
    "tags": []
   },
   "outputs": [],
   "source": [
    "from spatialdata import polygon_query\n",
    "crop1 = lambda x: polygon_query(\n",
    "    x,\n",
    "    polygon=polygon,\n",
    "    target_coordinate_system=\"global\",\n",
    ")"
   ]
  },
  {
   "cell_type": "code",
   "execution_count": null,
   "id": "29315100-0d4f-495a-af91-39ff4802dfa2",
   "metadata": {
    "scrolled": true,
    "tags": []
   },
   "outputs": [],
   "source": [
    "groups = sorted(check.obs['cell_type'].unique().tolist())\n",
    "groups"
   ]
  },
  {
   "cell_type": "code",
   "execution_count": null,
   "id": "db4fbeb6-e8a9-413e-811a-f5a9eb9c123b",
   "metadata": {
    "tags": []
   },
   "outputs": [],
   "source": [
    "pallette = [cdf.loc[x,1] + 'ff' for x in sorted(check.obs['cell_type'].unique().tolist())]"
   ]
  },
  {
   "cell_type": "code",
   "execution_count": null,
   "id": "073cfe9a-a751-4d44-84b3-f58cd7dc577b",
   "metadata": {
    "tags": []
   },
   "outputs": [],
   "source": [
    "pallette = np.array(pallette)\n",
    "groups = np.array(groups)"
   ]
  },
  {
   "cell_type": "code",
   "execution_count": null,
   "id": "8fc6fc6e-74a7-4be8-8103-8118fc204125",
   "metadata": {
    "tags": []
   },
   "outputs": [],
   "source": [
    "groups"
   ]
  },
  {
   "cell_type": "code",
   "execution_count": null,
   "id": "93a54513-319a-4410-b2c4-5fdc3f2c5eb2",
   "metadata": {
    "tags": []
   },
   "outputs": [],
   "source": [
    "crop1(sdata).pl.render_shapes(\"MultiModel\", color = 'cell_type', palette=list(pallette[[0,1,3,8,10,13,15,16,17,18,19,20,26,42]]) , groups = list(groups[[0,1,3,8,10,13,15,16,17,18,19,20,26,42]]),\n",
    "                      outline_alpha = 0, fill_alpha = 1.).pl.show(title=\"MultiModel\", figsize = (20,10), dpi = 150, frameon = False, save = 'demo_roi3_CortexExt.pdf')"
   ]
  },
  {
   "cell_type": "code",
   "execution_count": null,
   "id": "1b9c94a0-d530-4bb4-beba-40ec13be3b38",
   "metadata": {},
   "outputs": [],
   "source": []
  },
  {
   "cell_type": "code",
   "execution_count": null,
   "id": "40043876-107a-4b79-a19a-6c10d6642f47",
   "metadata": {
    "tags": []
   },
   "outputs": [],
   "source": [
    "groups[[30,32,35,37]]"
   ]
  },
  {
   "cell_type": "code",
   "execution_count": null,
   "id": "6fd71db2-697f-4420-8f6a-80be7b8c402e",
   "metadata": {
    "tags": []
   },
   "outputs": [],
   "source": [
    "crop1(sdata).pl.render_shapes(\"MultiModel\", color = 'cell_type', palette=list(pallette[[30,32,35,37,43,26,0,1,3,42]]) , groups = list(groups[[30,32,35,37,43,26,0,1,3,42]]),\n",
    "                      outline_alpha = 0, fill_alpha = 1.).pl.show(title=\"MultiModel\", figsize = (20,10), dpi = 150, frameon = False, save = 'demo_roi3_CortexInh.pdf')"
   ]
  },
  {
   "cell_type": "code",
   "execution_count": null,
   "id": "b38260ae-6077-407a-b216-74b196cdac66",
   "metadata": {
    "tags": []
   },
   "outputs": [],
   "source": [
    "check"
   ]
  },
  {
   "cell_type": "code",
   "execution_count": null,
   "id": "3289c4f9-588e-4400-971d-f433ae050aa8",
   "metadata": {
    "tags": []
   },
   "outputs": [],
   "source": [
    "sc.set_figure_params(figsize = (5, 5), scanpy = False, dpi_save=300)\n",
    "sc.pl.umap(check, color = 'Part', size = 10, save='_Part.pdf')"
   ]
  },
  {
   "cell_type": "code",
   "execution_count": null,
   "id": "06863e9f-2b3d-44c1-9148-55a90728e23b",
   "metadata": {},
   "outputs": [],
   "source": []
  },
  {
   "cell_type": "code",
   "execution_count": null,
   "id": "03405334-3d7f-41d9-b6fb-8da52dd10a51",
   "metadata": {
    "tags": []
   },
   "outputs": [],
   "source": [
    "sc.set_figure_params(figsize = (5, 5), scanpy = False, dpi_save=300)\n",
    "sc.pl.umap(check, color = 'cell_type', size = 10, save='_CellType.pdf')"
   ]
  },
  {
   "cell_type": "code",
   "execution_count": null,
   "id": "62c448b1-619a-4a05-b665-3dc20a99b6d9",
   "metadata": {
    "tags": []
   },
   "outputs": [],
   "source": [
    "check.uns['cell_type_colors'] = pallette"
   ]
  },
  {
   "cell_type": "code",
   "execution_count": null,
   "id": "790bd2e2-9ca4-4fa0-884e-2700b5e67424",
   "metadata": {
    "tags": []
   },
   "outputs": [],
   "source": [
    "import scanpy as sc"
   ]
  },
  {
   "cell_type": "code",
   "execution_count": null,
   "id": "65403413-7c74-4c80-ad2a-f19097530fb3",
   "metadata": {
    "tags": []
   },
   "outputs": [],
   "source": [
    "import seaborn as sns\n",
    "import matplotlib.pyplot as plt"
   ]
  },
  {
   "cell_type": "code",
   "execution_count": null,
   "id": "8b4a59a9-7738-4c4a-8865-86290b16ee0d",
   "metadata": {
    "tags": []
   },
   "outputs": [],
   "source": [
    "fig,ax = plt.subplots(figsize = (3,4))\n",
    "sns.violinplot(check.obs['total_counts'], ax = ax, color = '#FFFFFF', inner = 'box', linecolor=\"#000000\")\n",
    "plt.savefig(\"./figures/Rep2_total_counts.pdf\", dpi = 150)\n",
    "plt.show()"
   ]
  },
  {
   "cell_type": "code",
   "execution_count": null,
   "id": "04ab8f1d-7996-4019-b0ae-285fb75c1e15",
   "metadata": {
    "tags": []
   },
   "outputs": [],
   "source": [
    "check.obs['total_counts'].median()"
   ]
  },
  {
   "cell_type": "code",
   "execution_count": null,
   "id": "9e2cd5f4-73bf-45fb-a094-c8835b1dbb48",
   "metadata": {
    "tags": []
   },
   "outputs": [],
   "source": [
    "check.obs['n_genes_by_counts'].median()"
   ]
  },
  {
   "cell_type": "code",
   "execution_count": null,
   "id": "56c72abd-87d5-4c11-95a0-e5fc04924961",
   "metadata": {
    "tags": []
   },
   "outputs": [],
   "source": [
    "fig,ax = plt.subplots(figsize = (3,4))\n",
    "sns.violinplot(check.obs['n_genes_by_counts'], ax = ax, color = '#FFFFFF', inner = 'box', linecolor=\"#000000\")\n",
    "plt.savefig(\"./figures/Rep2_n_genes.pdf\", dpi = 150)\n",
    "plt.show()"
   ]
  },
  {
   "cell_type": "code",
   "execution_count": null,
   "id": "ca1febb1-d58a-459b-90bb-0b89433a445d",
   "metadata": {},
   "outputs": [],
   "source": [
    "import scanpy as sc"
   ]
  },
  {
   "cell_type": "code",
   "execution_count": null,
   "id": "32303fe8-6b9d-4094-b1bd-20b9fa0f99b9",
   "metadata": {
    "tags": []
   },
   "outputs": [],
   "source": [
    "adata = sc.read_h5ad(\"/media/duan/DuanLab_Data/openFISH/ABA110_Demo2/Rep2/annotated.h5ad\")\n",
    "adata"
   ]
  },
  {
   "cell_type": "code",
   "execution_count": null,
   "id": "07a082f5-5a1b-46d2-bec7-00e509dced24",
   "metadata": {
    "tags": []
   },
   "outputs": [],
   "source": [
    "check = adata[~adata.obs['Part'].isin(['Unknown', 'DOUBLETs'])].copy()\n",
    "check"
   ]
  },
  {
   "cell_type": "code",
   "execution_count": null,
   "id": "b74d5978-0398-447d-91f5-8d7f0e837bd6",
   "metadata": {
    "tags": []
   },
   "outputs": [],
   "source": [
    "check.obs['pct_counts_FP'].median()"
   ]
  },
  {
   "cell_type": "code",
   "execution_count": null,
   "id": "e2943e0a-4570-4018-b939-3c78fbf9d806",
   "metadata": {
    "tags": []
   },
   "outputs": [],
   "source": [
    "check.obs['pct_counts_FP'].max()"
   ]
  }
 ],
 "metadata": {
  "kernelspec": {
   "display_name": "Python [conda env:sopa]",
   "language": "python",
   "name": "conda-env-sopa-py"
  },
  "language_info": {
   "codemirror_mode": {
    "name": "ipython",
    "version": 3
   },
   "file_extension": ".py",
   "mimetype": "text/x-python",
   "name": "python",
   "nbconvert_exporter": "python",
   "pygments_lexer": "ipython3",
   "version": "3.10.13"
  }
 },
 "nbformat": 4,
 "nbformat_minor": 5
}
