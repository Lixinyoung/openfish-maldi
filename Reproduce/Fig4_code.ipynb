{
 "cells": [
  {
   "cell_type": "code",
   "execution_count": null,
   "id": "8f09c583-43b2-4a3a-89aa-c651d3b1221b",
   "metadata": {
    "tags": []
   },
   "outputs": [],
   "source": [
    "import spatialmeta as smt\n",
    "import numpy as np\n",
    "import pandas as pd\n",
    "import scanpy as sc\n",
    "from pyimzml.ImzMLParser import ImzMLParser"
   ]
  },
  {
   "cell_type": "code",
   "execution_count": null,
   "id": "6fdc5533-c3d7-40dc-ad63-ce4ff37c503e",
   "metadata": {
    "tags": []
   },
   "outputs": [],
   "source": [
    "SM_file = '/media/duan/sda2/MALDI/Data/LPS_01/2.imzML/Aligned_imzML/1.imzML'\n",
    "p = ImzMLParser(SM_file)"
   ]
  },
  {
   "cell_type": "code",
   "execution_count": null,
   "id": "4ba7df3c-cf75-4f19-8e17-f1e7f5a49f1e",
   "metadata": {
    "tags": []
   },
   "outputs": [],
   "source": [
    "mz_reference = smt.pp.get_mz_reference(p,ppm_tolerance=10)\n",
    "mz_reference"
   ]
  },
  {
   "cell_type": "code",
   "execution_count": null,
   "id": "ff9796a9-e604-445f-bed3-42f36a56031d",
   "metadata": {
    "tags": []
   },
   "outputs": [],
   "source": [
    "adata_SM_pos = smt.pp.read_sm_imzml_as_anndata(p,mz_reference)"
   ]
  },
  {
   "cell_type": "code",
   "execution_count": null,
   "id": "a2b0c9f8-f368-4284-a897-e0e8bfeb09b3",
   "metadata": {
    "tags": []
   },
   "outputs": [],
   "source": [
    "adata_SM_pos"
   ]
  },
  {
   "cell_type": "code",
   "execution_count": null,
   "id": "70e0adba-9589-40c8-9270-16c461877231",
   "metadata": {
    "tags": []
   },
   "outputs": [],
   "source": [
    "adata_SM_pos.obs"
   ]
  },
  {
   "cell_type": "code",
   "execution_count": null,
   "id": "27990082-b3ea-43b9-8d5c-c716fa132db7",
   "metadata": {
    "tags": []
   },
   "outputs": [],
   "source": [
    "adata_SM_pos.var['m/z'] = [float(x) for x in adata_SM_pos.var['m/z']]"
   ]
  },
  {
   "cell_type": "code",
   "execution_count": null,
   "id": "3b76c5b2-0d01-40f1-8ac6-121d8d1a3c61",
   "metadata": {
    "tags": []
   },
   "outputs": [],
   "source": [
    "adata_SM_pos.obs['x_coord_original'].mean()"
   ]
  },
  {
   "cell_type": "code",
   "execution_count": null,
   "id": "ec16ec27-dfee-4e0c-9af2-ee69ef96819c",
   "metadata": {
    "tags": []
   },
   "outputs": [],
   "source": [
    "adata_SM_pos.obs['Saline'] = adata_SM_pos.obs['x_coord_original'] > 800"
   ]
  },
  {
   "cell_type": "code",
   "execution_count": null,
   "id": "dae519b2-6bb8-46c0-8f00-8a64dd1ee6ba",
   "metadata": {
    "tags": []
   },
   "outputs": [],
   "source": [
    "sc.pl.embedding(adata_SM_pos[adata_SM_pos.obs['Saline']], basis = 'spatial', color = 'mean_intensity')"
   ]
  },
  {
   "cell_type": "code",
   "execution_count": null,
   "id": "d65e412e-dd17-43df-bc53-84e18f8ba647",
   "metadata": {
    "tags": []
   },
   "outputs": [],
   "source": [
    "sc.pl.embedding(adata_SM_pos[~adata_SM_pos.obs['Saline']], basis = 'spatial', color = 'mean_intensity')"
   ]
  },
  {
   "cell_type": "code",
   "execution_count": null,
   "id": "43accb6e-8629-4b63-8bd6-721f644b4de0",
   "metadata": {
    "tags": []
   },
   "outputs": [],
   "source": [
    "adata_LPS = adata_SM_pos[~adata_SM_pos.obs['Saline']].copy()"
   ]
  },
  {
   "cell_type": "code",
   "execution_count": null,
   "id": "4e16564c-fe17-4dc8-9c87-ff0245355edb",
   "metadata": {
    "tags": []
   },
   "outputs": [],
   "source": [
    "adata_LPS.obsm['spatial']"
   ]
  },
  {
   "cell_type": "code",
   "execution_count": null,
   "id": "5a1c3d54-6dfb-4936-9088-be89f84154ca",
   "metadata": {
    "tags": []
   },
   "outputs": [],
   "source": [
    "adata_LPS.obs['x_scaled'] = adata_LPS.obs['x_coord_original'] - 1\n",
    "adata_LPS.obs['y_scaled'] = adata_LPS.obs['y_coord_original'] - 1"
   ]
  },
  {
   "cell_type": "code",
   "execution_count": null,
   "id": "2318c0cf-452b-47b4-ab20-81a4ab5314e7",
   "metadata": {
    "tags": []
   },
   "outputs": [],
   "source": [
    "adata_LPS.obs['x_scaled'] = adata_LPS.obs['x_scaled'] * 61.5384\n",
    "adata_LPS.obs['y_scaled'] = adata_LPS.obs['y_scaled'] * 61.5384"
   ]
  },
  {
   "cell_type": "code",
   "execution_count": null,
   "id": "ad2ef1d7-fd8a-4203-9eaa-77d37d0e857e",
   "metadata": {
    "tags": []
   },
   "outputs": [],
   "source": [
    "adata_LPS.obs"
   ]
  },
  {
   "cell_type": "code",
   "execution_count": null,
   "id": "d42f4954-437c-4b54-a24b-b63088f25c2f",
   "metadata": {
    "tags": []
   },
   "outputs": [],
   "source": [
    "adata_LPS.obs['x_scaled'].max()"
   ]
  },
  {
   "cell_type": "code",
   "execution_count": null,
   "id": "bb8c0a86-f982-44c3-b47f-ced869763d56",
   "metadata": {
    "tags": []
   },
   "outputs": [],
   "source": [
    "adata_LPS.obs['y_scaled'].max()"
   ]
  },
  {
   "cell_type": "code",
   "execution_count": null,
   "id": "cc3a92d7-93c9-4256-935a-ffa53dfe18c7",
   "metadata": {
    "tags": []
   },
   "outputs": [],
   "source": [
    "adata_LPS.obs['x_scaled'] = adata_LPS.obs['x_scaled'] + 40\n",
    "adata_LPS.obs['y_scaled'] = adata_LPS.obs['y_scaled'] + 40"
   ]
  },
  {
   "cell_type": "code",
   "execution_count": null,
   "id": "a1cfa2da-0661-4ca4-a157-6e4ba5aa5d55",
   "metadata": {
    "tags": []
   },
   "outputs": [],
   "source": [
    "adata_LPS.write_h5ad(\"LPS_Scaled_raw.h5ad\")"
   ]
  },
  {
   "cell_type": "code",
   "execution_count": null,
   "id": "b8268153-a103-4945-ad52-6dc67a70ff52",
   "metadata": {},
   "outputs": [],
   "source": [
    "from shapely import Polygon, affinity\n",
    "import geopandas as gpd\n",
    "import matplotlib.pyplot as plt\n",
    "import numpy as np\n",
    "import tifffile"
   ]
  },
  {
   "cell_type": "code",
   "execution_count": null,
   "id": "30b64b59-beb0-49fa-bd28-ef7b941a8e7b",
   "metadata": {
    "tags": []
   },
   "outputs": [],
   "source": [
    "DIC_img = tifffile.imread(\"/media/duan/sda2/MALDI/Data/20250727_LPS_MALDI/Stitched_DIC.tif\")\n",
    "DIC_img.shape"
   ]
  },
  {
   "cell_type": "code",
   "execution_count": null,
   "id": "584d29c2-ca83-4e6f-8c16-6ada6c5213a4",
   "metadata": {
    "tags": []
   },
   "outputs": [],
   "source": [
    "img = np.zeros_like(DIC_img)"
   ]
  },
  {
   "cell_type": "code",
   "execution_count": null,
   "id": "21017690-ea2f-4b35-996b-b3ca2fe230eb",
   "metadata": {},
   "outputs": [],
   "source": [
    "for idx, row in adata.obs.iterrows():\n",
    "    \n",
    "    TopLeft_x = round(row['y_aligned'])\n",
    "    TopLeft_y = round(row['x_aligned'])\n",
    "    \n",
    "    if TopLeft_x > 0 and TopLeft_x + 40 < 24187 and TopLeft_y >0 and TopLeft_y + 40 < 44316:\n",
    "    \n",
    "        img[TopLeft_x: TopLeft_x + 40, TopLeft_y: TopLeft_y + 40] = row['scaled_total_intensity']"
   ]
  },
  {
   "cell_type": "code",
   "execution_count": null,
   "id": "87643e85-282f-47ba-af7f-ceaf6a1f5c1a",
   "metadata": {
    "tags": []
   },
   "outputs": [],
   "source": [
    "tifffile.imwrite(\"LPS_total_intensity_aligned.tif\", img.astype(np.uint8))"
   ]
  },
  {
   "cell_type": "code",
   "execution_count": null,
   "id": "70bfb2e1-5bcd-429b-a2b1-1774c1432e1e",
   "metadata": {
    "tags": []
   },
   "outputs": [],
   "source": [
    "import cv2"
   ]
  },
  {
   "cell_type": "code",
   "execution_count": null,
   "id": "88ff71ca-64da-409e-877e-02d7c496b56d",
   "metadata": {
    "tags": []
   },
   "outputs": [],
   "source": [
    "M = np.array([[1.0007454663706765, 0.008320817632502187, -31.366865549945945], [-0.008336573756612373, 0.9988540574740241, -3278.7280880942467]])"
   ]
  },
  {
   "cell_type": "code",
   "execution_count": null,
   "id": "b6dd5244-232e-4520-bd78-4e5bf84b0146",
   "metadata": {
    "tags": []
   },
   "outputs": [],
   "source": [
    "new_points = adata.obs.loc[:, ['y_scaled', 'x_scaled']].to_numpy()"
   ]
  },
  {
   "cell_type": "code",
   "execution_count": null,
   "id": "e13cc809-92df-4d1c-a7e7-bf64aa050253",
   "metadata": {
    "tags": []
   },
   "outputs": [],
   "source": [
    "transformed_new_points = cv2.transform(new_points.reshape(-1, 1, 2), M).reshape(-1, 2)"
   ]
  },
  {
   "cell_type": "code",
   "execution_count": null,
   "id": "4b0a8ea8-ccf0-4d9f-ae51-74aff9f1a350",
   "metadata": {
    "tags": []
   },
   "outputs": [],
   "source": [
    "adata.obs['x_aligned'] = transformed_new_points[:, 1]\n",
    "adata.obs['y_aligned'] = transformed_new_points[:, 0]"
   ]
  },
  {
   "cell_type": "code",
   "execution_count": null,
   "id": "4c8667c1-1a9e-4655-bd6f-6a8b9020780b",
   "metadata": {
    "tags": []
   },
   "outputs": [],
   "source": [
    "sum(adata.obs['x_aligned'] < 0)"
   ]
  },
  {
   "cell_type": "code",
   "execution_count": null,
   "id": "8028f35e-75d7-485f-8191-d0ac92c1fa56",
   "metadata": {
    "tags": []
   },
   "outputs": [],
   "source": [
    "DIC_img = tifffile.imread(\"/media/duan/sda2/MALDI/Data/20250727_LPS_MALDI/Stitched_DIC.tif\")\n",
    "DIC_img.shape"
   ]
  },
  {
   "cell_type": "code",
   "execution_count": null,
   "id": "3c6b9da0-e1ec-4ab7-af81-89b5e38e8b0d",
   "metadata": {
    "tags": []
   },
   "outputs": [],
   "source": [
    "img = np.zeros_like(DIC_img)"
   ]
  },
  {
   "cell_type": "code",
   "execution_count": null,
   "id": "1a1311dc-5c3a-41b6-8d35-9296dee0a512",
   "metadata": {
    "tags": []
   },
   "outputs": [],
   "source": [
    "adata"
   ]
  },
  {
   "cell_type": "code",
   "execution_count": null,
   "id": "88cf34ae-4be7-4249-9e38-cc688edb5740",
   "metadata": {},
   "outputs": [],
   "source": []
  },
  {
   "cell_type": "code",
   "execution_count": null,
   "id": "d4e58a01-31ab-4fc1-ab1b-1e034243a820",
   "metadata": {},
   "outputs": [],
   "source": [
    "for idx, row in adata.obs.iterrows():\n",
    "    \n",
    "    TopLeft_x = round(row['y_aligned'])\n",
    "    TopLeft_y = round(row['x_aligned'])\n",
    "    \n",
    "    if TopLeft_x > 0 and TopLeft_x + 40 < 24187 and TopLeft_y >0 and TopLeft_y + 40 < 44316:\n",
    "    \n",
    "        img[TopLeft_x: TopLeft_x + 40, TopLeft_y: TopLeft_y + 40] = row['scaled_intensity']"
   ]
  },
  {
   "cell_type": "code",
   "execution_count": null,
   "id": "5ecebf6c-90a5-400a-aa51-d340e1928a08",
   "metadata": {},
   "outputs": [],
   "source": []
  },
  {
   "cell_type": "code",
   "execution_count": null,
   "id": "5bf5d7fb-1c47-4247-a1b8-a5c237992772",
   "metadata": {
    "tags": []
   },
   "outputs": [],
   "source": [
    "tifffile.imwrite(\"LPS_scaled_intensity_aligned.tif\", img.astype(np.uint8))"
   ]
  },
  {
   "cell_type": "code",
   "execution_count": null,
   "id": "1a981145-589a-40e5-9cf6-51f8335d2a1f",
   "metadata": {
    "tags": []
   },
   "outputs": [],
   "source": [
    "adata.write_h5ad(\"LPS_Scaled_Reg1.h5ad\")"
   ]
  },
  {
   "cell_type": "code",
   "execution_count": null,
   "id": "058ac951-48c1-4194-8640-3265ffe759a0",
   "metadata": {},
   "outputs": [],
   "source": []
  },
  {
   "cell_type": "code",
   "execution_count": null,
   "id": "d4b8da15-7e5a-4f83-bf0c-ff495882deb4",
   "metadata": {
    "tags": []
   },
   "outputs": [],
   "source": [
    "from read_roi import read_roi_file\n",
    "from shapely import Polygon, affinity\n",
    "import geopandas as gpd\n",
    "import matplotlib.pyplot as plt\n",
    "import numpy as np\n",
    "import tifffile\n",
    "import pandas as pd\n",
    "import cv2\n",
    "\n",
    "import scanpy as sc\n",
    "from roifile import ImagejRoi, ROI_TYPE, ROI_OPTIONS, roiwrite"
   ]
  },
  {
   "cell_type": "code",
   "execution_count": null,
   "id": "c00a6725-ce98-43c4-9ef8-438e09e32d85",
   "metadata": {
    "tags": []
   },
   "outputs": [],
   "source": [
    "adata = sc.read_h5ad(\"LPS_Scaled_Reg1.h5ad\")\n",
    "adata.obs"
   ]
  },
  {
   "cell_type": "code",
   "execution_count": null,
   "id": "29bb19e4-a37f-4f19-82d4-81d7db34d8b2",
   "metadata": {
    "tags": []
   },
   "outputs": [],
   "source": [
    "M = np.array([[0.995782858272422, -0.0018972998360801893, 160.21749144068235], [0.0018914893645645132, 0.9988418064442617, 7.464203150175308]])"
   ]
  },
  {
   "cell_type": "code",
   "execution_count": null,
   "id": "5ed48522-b138-4c2a-acfd-311b4046f00a",
   "metadata": {
    "tags": []
   },
   "outputs": [],
   "source": [
    "new_points = adata.obs.loc[:, ['y_aligned', 'x_aligned']].to_numpy()"
   ]
  },
  {
   "cell_type": "code",
   "execution_count": null,
   "id": "93b0901c-6de2-4c03-a757-e6d27a7c166b",
   "metadata": {
    "tags": []
   },
   "outputs": [],
   "source": [
    "transformed_new_points = cv2.transform(new_points.reshape(-1, 1, 2), M).reshape(-1, 2)"
   ]
  },
  {
   "cell_type": "code",
   "execution_count": null,
   "id": "7b7f1834-b32e-4f89-a61d-0ccce5f123e1",
   "metadata": {
    "tags": []
   },
   "outputs": [],
   "source": [
    "adata.obs['x_aligned'] = transformed_new_points[:, 1]\n",
    "adata.obs['y_aligned'] = transformed_new_points[:, 0]"
   ]
  },
  {
   "cell_type": "code",
   "execution_count": null,
   "id": "0ec40df3-d4c2-4dc2-8a85-aa3528ab6f1e",
   "metadata": {
    "tags": []
   },
   "outputs": [],
   "source": [
    "adata.obs"
   ]
  },
  {
   "cell_type": "code",
   "execution_count": null,
   "id": "8759f153-084c-4a80-b827-9a811d7fc9a7",
   "metadata": {},
   "outputs": [],
   "source": []
  },
  {
   "cell_type": "code",
   "execution_count": null,
   "id": "431a87f3-3ca0-4213-a223-01320163336b",
   "metadata": {
    "tags": []
   },
   "outputs": [],
   "source": [
    "from spatialdata import read_zarr\n",
    "import sopa.segmentation as sseg\n",
    "import geopandas as gpd\n",
    "import scanpy as sc\n",
    "from shapely import Polygon, Point\n",
    "import numpy as np\n",
    "from spatialdata.models import Image2DModel, PointsModel,ShapesModel,TableModel"
   ]
  },
  {
   "cell_type": "code",
   "execution_count": null,
   "id": "40347fe5-2b34-421b-bc5d-8509036a1d87",
   "metadata": {
    "tags": []
   },
   "outputs": [],
   "source": [
    "adata = sc.read_h5ad(\"/media/duan/sda2/MALDI/Data/LPS_01/LPS_Scaled_Reg2.h5ad\")\n",
    "adata"
   ]
  },
  {
   "cell_type": "code",
   "execution_count": null,
   "id": "cc488fc0-4b6c-47fc-aa0e-4f6d0b2c7fe3",
   "metadata": {
    "tags": []
   },
   "outputs": [],
   "source": [
    "sdata = read_zarr(\"/media/duan/sda2/MALDI/Data/20250727_LPS_MALDI/Result/raw_sdata.zarr\")\n",
    "sdata"
   ]
  },
  {
   "cell_type": "code",
   "execution_count": null,
   "id": "e56f48af-6f5b-46dc-bca7-22392acf6062",
   "metadata": {
    "tags": []
   },
   "outputs": [],
   "source": [
    "polygon_list = []\n",
    "\n",
    "for idx, row in adata.obs.iterrows():\n",
    "    \n",
    "    TopLeft_x = row['x_aligned']\n",
    "    TopLeft_y = row['y_aligned']\n",
    "    \n",
    "    tmp_polygon = Polygon(np.array([[TopLeft_x, TopLeft_y], [TopLeft_x + 40, TopLeft_y], [TopLeft_x + 40, TopLeft_y + 40], [TopLeft_x, TopLeft_y + 40], [TopLeft_x, TopLeft_y]]))\n",
    "\n",
    "    polygon_list.append(tmp_polygon)"
   ]
  },
  {
   "cell_type": "code",
   "execution_count": null,
   "id": "5ac20df3-ccda-4cdb-8933-e07213aa7abd",
   "metadata": {
    "tags": []
   },
   "outputs": [],
   "source": [
    "Ablation_Marks = gpd.GeoDataFrame({\"geometry\":polygon_list})\n",
    "Ablation_Marks"
   ]
  },
  {
   "cell_type": "code",
   "execution_count": null,
   "id": "a7bc8a1e-646d-460a-820d-89a50bda1662",
   "metadata": {
    "tags": []
   },
   "outputs": [],
   "source": [
    "sdata.shapes['Ablation_Mark'] = ShapesModel.parse(Ablation_Marks)\n",
    "sdata"
   ]
  },
  {
   "cell_type": "code",
   "execution_count": null,
   "id": "f0ce7aa8-dd4f-4551-af1d-51abf3f3bfc0",
   "metadata": {
    "tags": []
   },
   "outputs": [],
   "source": [
    "adata = sseg.aggregation.count_transcripts(sdata, gene_column = \"gene\", shapes_key='Ablation_Mark', points_key='dist_coord')"
   ]
  },
  {
   "cell_type": "code",
   "execution_count": null,
   "id": "d0cae354-8132-42de-a06f-e642bfa0d041",
   "metadata": {
    "tags": []
   },
   "outputs": [],
   "source": [
    "adata.obs[\"x\"] = sdata['Ablation_Mark'].apply(lambda x: x.centroid.x).to_numpy()\n",
    "adata.obs[\"y\"] = sdata['Ablation_Mark'].apply(lambda x: x.centroid.y).to_numpy()\n",
    "adata.obs[\"area\"] = sdata['Ablation_Mark'].apply(lambda x: x.area).to_numpy()"
   ]
  },
  {
   "cell_type": "code",
   "execution_count": null,
   "id": "66f7e5d3-10cb-43c6-8253-289c0b953b4a",
   "metadata": {
    "tags": []
   },
   "outputs": [],
   "source": [
    "adata.write_h5ad(\"Result/FISH_in_Ablation_raw.h5ad\")"
   ]
  },
  {
   "cell_type": "code",
   "execution_count": null,
   "id": "41cfa349-52f3-4b82-90c8-6c1ba95d3e42",
   "metadata": {
    "tags": []
   },
   "outputs": [],
   "source": [
    "mdata = sc.read_h5ad(\"/media/duan/sda2/MALDI/Data/LPS_01/LPS_Scaled_Reg2.h5ad\")\n",
    "mdata"
   ]
  },
  {
   "cell_type": "code",
   "execution_count": null,
   "id": "f62c5eac-dcaf-43c6-86a5-40d81096da9b",
   "metadata": {
    "tags": []
   },
   "outputs": [],
   "source": [
    "mdata.obs"
   ]
  },
  {
   "cell_type": "code",
   "execution_count": null,
   "id": "62f11fdc-7fa3-47d8-a8ab-281e66f88b12",
   "metadata": {
    "tags": []
   },
   "outputs": [],
   "source": [
    "adata.obs"
   ]
  },
  {
   "cell_type": "code",
   "execution_count": null,
   "id": "4f4b7b26-3c48-46fd-9ec2-c077d4d1ffdf",
   "metadata": {
    "tags": []
   },
   "outputs": [],
   "source": [
    "from scipy.spatial import KDTree"
   ]
  },
  {
   "cell_type": "code",
   "execution_count": null,
   "id": "27596496-2a1c-45b6-8807-5f64ba18f314",
   "metadata": {
    "tags": []
   },
   "outputs": [],
   "source": [
    "tree = KDTree(mdata.obs[['x_aligned', 'y_aligned']])"
   ]
  },
  {
   "cell_type": "code",
   "execution_count": null,
   "id": "788f7647-17ee-4864-b925-5ba7d6da727c",
   "metadata": {
    "tags": []
   },
   "outputs": [],
   "source": [
    "sm_index = []\n",
    "for _,row in adata.obs.iterrows():\n",
    "    _, idx = tree.query([[row['x'],row['y']]])\n",
    "    sm_index.append(str(idx[0]))"
   ]
  },
  {
   "cell_type": "code",
   "execution_count": null,
   "id": "9de31810-90b8-4b7d-adaa-a2c9417fab46",
   "metadata": {
    "tags": []
   },
   "outputs": [],
   "source": [
    "adata.obs['index_sm'] = sm_index"
   ]
  },
  {
   "cell_type": "code",
   "execution_count": null,
   "id": "f94f1b09-46de-45e7-96e2-21d71b4d12bd",
   "metadata": {
    "tags": []
   },
   "outputs": [],
   "source": [
    "adata.obs"
   ]
  },
  {
   "cell_type": "code",
   "execution_count": null,
   "id": "e3b5b83e-1bf0-4696-8391-c961f82dc6c1",
   "metadata": {
    "tags": []
   },
   "outputs": [],
   "source": [
    "adata.write_h5ad(\"Result/FISH_in_Ablation_raw.h5ad\")"
   ]
  },
  {
   "cell_type": "code",
   "execution_count": null,
   "id": "e89a8bd6-68c2-4fd2-95e7-3884568262b7",
   "metadata": {},
   "outputs": [],
   "source": []
  },
  {
   "cell_type": "code",
   "execution_count": null,
   "id": "cf444dc4-16cd-4cf1-8a84-4a3659979a51",
   "metadata": {},
   "outputs": [],
   "source": []
  },
  {
   "cell_type": "code",
   "execution_count": null,
   "id": "ab3146b6-14db-4a4f-8789-ae0f7014ad44",
   "metadata": {},
   "outputs": [],
   "source": []
  },
  {
   "cell_type": "code",
   "execution_count": null,
   "id": "18554e31-02f4-470f-90b7-3d986c5d063f",
   "metadata": {},
   "outputs": [],
   "source": [
    "import scanpy as sc\n",
    "from celllens.utils import *\n",
    "import os\n",
    "from tqdm import tqdm\n",
    "from celllens.preprocessing import *\n",
    "from celllens.datasets import *\n",
    "from celllens.celllens import *\n",
    "import pandas as pd"
   ]
  },
  {
   "cell_type": "code",
   "execution_count": null,
   "id": "8220fd79-694b-40fe-8bfe-e171975c3331",
   "metadata": {},
   "outputs": [],
   "source": []
  },
  {
   "cell_type": "code",
   "execution_count": null,
   "id": "d6177ce0-ee65-43ec-9c46-211e1369ce5b",
   "metadata": {
    "tags": []
   },
   "outputs": [],
   "source": [
    "adata = sc.read_h5ad(\"Result/FISH_in_Ablation_raw.h5ad\")\n",
    "adata"
   ]
  },
  {
   "cell_type": "code",
   "execution_count": null,
   "id": "ab99fd0c-db0f-47b8-9c70-f6ee89cff99e",
   "metadata": {
    "tags": []
   },
   "outputs": [],
   "source": [
    "NP_Pad = pd.read_csv(\"/media/duan/sda2/MALDI/Data/20250727_Saline_MALDI/NP_Fold_V58.csv\", index_col=0)"
   ]
  },
  {
   "cell_type": "code",
   "execution_count": null,
   "id": "56f7fb88-aae9-4e0e-b826-2266e5045b61",
   "metadata": {
    "tags": []
   },
   "outputs": [],
   "source": [
    "adata.var_names = [x[0:-2] if x.endswith(\"_s\") else x for x in adata.var_names]"
   ]
  },
  {
   "cell_type": "code",
   "execution_count": null,
   "id": "81024a6d-3602-4255-bc11-01435e7ae9de",
   "metadata": {
    "tags": []
   },
   "outputs": [],
   "source": [
    "tmpmatrix = adata.to_df().copy()"
   ]
  },
  {
   "cell_type": "code",
   "execution_count": null,
   "id": "2c3f15f3-72ae-46c3-aeae-ed2a50206c78",
   "metadata": {
    "tags": []
   },
   "outputs": [],
   "source": [
    "tmpmatrix = tmpmatrix.astype('float32')"
   ]
  },
  {
   "cell_type": "code",
   "execution_count": null,
   "id": "5b07c2ed-9d36-432e-b9b2-c6f443a7c82c",
   "metadata": {
    "scrolled": true,
    "tags": []
   },
   "outputs": [],
   "source": [
    "import numpy as np\n",
    "\n",
    "for col in tmpmatrix.columns:\n",
    "    # tmpmatrix.loc[:,col] = tmpmatrix.loc[:,col] * np.log2(NP_Pad.loc[col, 'Fold'] + 1)\n",
    "    tmpmatrix.loc[:,col] = tmpmatrix.loc[:,col] * NP_Pad.loc[col, 'Fold']"
   ]
  },
  {
   "cell_type": "code",
   "execution_count": null,
   "id": "bc61fdbb-258c-4cde-ac2a-89988d7e78dc",
   "metadata": {
    "tags": []
   },
   "outputs": [],
   "source": [
    "from scipy.sparse import csr_matrix"
   ]
  },
  {
   "cell_type": "code",
   "execution_count": null,
   "id": "a3a39527-815e-4e24-a0f7-96ba3a337c72",
   "metadata": {
    "tags": []
   },
   "outputs": [],
   "source": [
    "adata.layers['counts'] = adata.X.copy()\n",
    "adata.X = csr_matrix(tmpmatrix)\n",
    "adata.layers['counts_corrected'] = adata.X.copy()"
   ]
  },
  {
   "cell_type": "code",
   "execution_count": null,
   "id": "b7821fe5-5005-4a0c-92db-3814ac009cc0",
   "metadata": {
    "tags": []
   },
   "outputs": [],
   "source": [
    "adata.obsm['spatial'] = adata.obs[['x', 'y']].to_numpy()\n",
    "adata.obsm[\"spatial\"][:,1] =  0 - adata.obsm[\"spatial\"][:,1]"
   ]
  },
  {
   "cell_type": "code",
   "execution_count": null,
   "id": "c1ba9af2-f371-46dd-9397-5daff1b373e4",
   "metadata": {
    "tags": []
   },
   "outputs": [],
   "source": [
    "sc.pp.calculate_qc_metrics(\n",
    "    adata, inplace=True, log1p=True, percent_top=None\n",
    ")"
   ]
  },
  {
   "cell_type": "code",
   "execution_count": null,
   "id": "9907e02b-07dd-4665-bd93-3be98f9881df",
   "metadata": {
    "tags": []
   },
   "outputs": [],
   "source": [
    "sc.pl.violin(\n",
    "    adata,\n",
    "    [\"n_genes_by_counts\", \"total_counts\"],\n",
    "    jitter=0.4,\n",
    "    multi_panel=True,\n",
    ")"
   ]
  },
  {
   "cell_type": "code",
   "execution_count": null,
   "id": "b3460849-16e9-417c-9057-63a65b3d2164",
   "metadata": {
    "tags": []
   },
   "outputs": [],
   "source": [
    "adata.obs['total_counts'].mean()"
   ]
  },
  {
   "cell_type": "code",
   "execution_count": null,
   "id": "6738aee5-3deb-4071-855b-4d637b22bf3e",
   "metadata": {
    "tags": []
   },
   "outputs": [],
   "source": [
    "adata.obs['total_counts'].median()"
   ]
  },
  {
   "cell_type": "code",
   "execution_count": null,
   "id": "85e389ab-ae83-4f8c-b18f-1dbc1bc573c9",
   "metadata": {
    "tags": []
   },
   "outputs": [],
   "source": [
    "adata.obs['total_counts'].median()"
   ]
  },
  {
   "cell_type": "code",
   "execution_count": null,
   "id": "9b2eada5-82d3-41ca-9228-b4863459e36b",
   "metadata": {
    "tags": []
   },
   "outputs": [],
   "source": [
    "np.percentile(adata.obs['total_counts'], 10)"
   ]
  },
  {
   "cell_type": "code",
   "execution_count": null,
   "id": "417ab6da-86db-43a5-b118-0acd00e9bce9",
   "metadata": {},
   "outputs": [],
   "source": [
    "sc.pp.filter_cells(adata, min_genes=3)\n",
    "sc.pp.filter_cells(adata, max_counts=250)\n",
    "sc.pp.filter_cells(adata, min_counts=10)\n",
    "adata"
   ]
  },
  {
   "cell_type": "code",
   "execution_count": null,
   "id": "67a0bfb3-4764-40e7-ac77-601e71f22b39",
   "metadata": {
    "tags": []
   },
   "outputs": [],
   "source": [
    "adata.obs['total_counts'].median()"
   ]
  },
  {
   "cell_type": "code",
   "execution_count": null,
   "id": "53dd2bbe-de5c-4a23-abc3-9b957e66b585",
   "metadata": {
    "tags": []
   },
   "outputs": [],
   "source": [
    "# Normalizing to library size\n",
    "sc.pp.normalize_total(adata, target_sum=110)\n",
    "# Logarithmize the data\n",
    "sc.pp.log1p(adata)"
   ]
  },
  {
   "cell_type": "code",
   "execution_count": null,
   "id": "da9eb95f-923c-467c-924a-61efca0b7020",
   "metadata": {
    "scrolled": true,
    "tags": []
   },
   "outputs": [],
   "source": [
    "sc.tl.pca(adata)\n",
    "sc.pp.neighbors(adata)\n",
    "sc.tl.umap(adata)"
   ]
  },
  {
   "cell_type": "code",
   "execution_count": null,
   "id": "ae314def-0b5a-48d1-97ea-99c4a3bbd04e",
   "metadata": {
    "tags": []
   },
   "outputs": [],
   "source": [
    "# Using the igraph implementation and a fixed number of iterations can be significantly faster, especially for larger datasets\n",
    "sc.tl.leiden(adata, flavor=\"igraph\",n_iterations=2)"
   ]
  },
  {
   "cell_type": "code",
   "execution_count": null,
   "id": "9772a099-a82c-4e93-aeee-3c3e165e58e7",
   "metadata": {
    "tags": []
   },
   "outputs": [],
   "source": [
    "adata.obsm['spatial'].min(axis = 0) - adata.obsm['spatial'].max(axis = 0)"
   ]
  },
  {
   "cell_type": "code",
   "execution_count": null,
   "id": "d6f9f774-6fd1-4edc-89f5-f03c45531da0",
   "metadata": {},
   "outputs": [],
   "source": []
  },
  {
   "cell_type": "code",
   "execution_count": null,
   "id": "0787387a-5cb8-4b8b-8f7d-e131be58ff2f",
   "metadata": {},
   "outputs": [],
   "source": []
  },
  {
   "cell_type": "code",
   "execution_count": null,
   "id": "de1ddaee-ee51-4529-8027-157291131fd5",
   "metadata": {},
   "outputs": [],
   "source": []
  },
  {
   "cell_type": "code",
   "execution_count": null,
   "id": "c7a130a4-259a-4142-8cb7-960a5172143f",
   "metadata": {
    "scrolled": true,
    "tags": []
   },
   "outputs": [],
   "source": [
    "df = adata.to_df(layer = 'counts_corrected')\n",
    "df"
   ]
  },
  {
   "cell_type": "code",
   "execution_count": null,
   "id": "41cb41e0-6335-442f-ab8a-d3fa49a893cd",
   "metadata": {
    "tags": []
   },
   "outputs": [],
   "source": [
    "df['x'] = adata.obs['x']\n",
    "df['y'] = adata.obs['y']\n",
    "#df['area'] = adata.obs['area']\n",
    "df['leiden'] = adata.obs['leiden']"
   ]
  },
  {
   "cell_type": "code",
   "execution_count": null,
   "id": "109a6a8b-a5ce-41de-8176-b796ed906734",
   "metadata": {
    "tags": []
   },
   "outputs": [],
   "source": [
    "df"
   ]
  },
  {
   "cell_type": "code",
   "execution_count": null,
   "id": "d8d37803-0b45-4944-9b29-37da6095e935",
   "metadata": {
    "tags": []
   },
   "outputs": [],
   "source": [
    "Rep2_dataset = LENS_Dataset(df,\n",
    "                              features_list=adata.var_names.to_list(),\n",
    "                              nbhd_composition=15,\n",
    "                              feature_neighbor=15,\n",
    "                              spatial_neighbor=15,\n",
    "                              path2img=None,\n",
    "                             use_transform = False) # Not used -  processed image saving location - in later steps"
   ]
  },
  {
   "cell_type": "code",
   "execution_count": null,
   "id": "bf2933f0-82f8-4faa-a5ae-bcab37cda122",
   "metadata": {
    "tags": []
   },
   "outputs": [],
   "source": [
    "import warnings\n",
    "warnings.filterwarnings('ignore')\n",
    "\n",
    "Rep2_dataset.initialize(cent_x=\"x\", # x loc of cells\n",
    "                          cent_y=\"y\", # y loc of cells\n",
    "                          celltype=\"feature_labels\", # default option - run leiden to initialize the clusters\n",
    "                          pca_components=25, # PCA components to use, user decide \n",
    "                          cluster_res=2.0) # leiden initialization resolution"
   ]
  },
  {
   "cell_type": "code",
   "execution_count": null,
   "id": "d5269572-033a-4f36-8df1-6b008b72af98",
   "metadata": {
    "tags": []
   },
   "outputs": [],
   "source": [
    "# check the training label\n",
    "Rep2_dataset.dual_labels.shape # should be cluster number x 2"
   ]
  },
  {
   "cell_type": "code",
   "execution_count": null,
   "id": "6a0e903d-60ae-44aa-a100-4e3f0983ad27",
   "metadata": {
    "tags": []
   },
   "outputs": [],
   "source": [
    "device = 'cuda' if torch.cuda.is_available() else 'cpu'\n",
    "Rep2_celllens = CellLENS(Rep2_dataset,\n",
    "                           device,\n",
    "                           cnn_model=False, ### NOTE here set to no cnn model\n",
    "                           cnn_latent_dim=128,\n",
    "                           gnn_latent_dim=32,\n",
    "                          ) # generally these parameters no need to change"
   ]
  },
  {
   "cell_type": "code",
   "execution_count": null,
   "id": "91bb6dba-070b-4add-a372-0a23c7483341",
   "metadata": {
    "scrolled": true,
    "tags": []
   },
   "outputs": [],
   "source": [
    "Rep2_celllens.get_lens_embedding(round=5,\n",
    "                                   k=32,\n",
    "                                   learning_rate=1e-3,\n",
    "                                   n_epochs=5000,\n",
    "                                   loss_fn='MSELoss',\n",
    "                                   OptimizerAlg='Adam',\n",
    "                                   optimizer_kwargs={},\n",
    "                                   SchedulerAlg=None,\n",
    "                                   scheduler_kwargs={},\n",
    "                                   verbose=True) # generally these parameters do not need to change"
   ]
  },
  {
   "cell_type": "code",
   "execution_count": null,
   "id": "9b66252a-c6d1-4c6b-944b-8f1b6f57bac9",
   "metadata": {
    "tags": []
   },
   "outputs": [],
   "source": [
    "# the resulting CellLENS embedding is stored here:\n",
    "pd.DataFrame(Rep2_celllens.lens_embedding)"
   ]
  },
  {
   "cell_type": "code",
   "execution_count": null,
   "id": "1663c896-427d-4380-b384-258a454264c9",
   "metadata": {
    "tags": []
   },
   "outputs": [],
   "source": [
    "Rep2_celllens.get_lens_clustering(neighbor=15, # standard leiden parameter\n",
    "                                    resolution=1.0, # resolution for leiden - specific\n",
    "                                    entropy_threshold=0.75, # CellLENS parameter - generally no change needed\n",
    "                                    concen_threshold=1, # CellLENS parameter - generally no change needed\n",
    "                                    max_breaks=3, # CellLENS parameter - generally no change needed\n",
    "                                    size_lim=50 # CellLENS parameter - smallest cluster size allowed\n",
    "                                   )"
   ]
  },
  {
   "cell_type": "code",
   "execution_count": null,
   "id": "05e4217b-d19f-482c-8deb-1cd7edfa1080",
   "metadata": {
    "tags": []
   },
   "outputs": [],
   "source": [
    "adata.obsm['CellLENS'] = Rep2_celllens.lens_embedding\n",
    "adata.obs['lens_cluster'] = Rep2_celllens.lens_clustering"
   ]
  },
  {
   "cell_type": "code",
   "execution_count": null,
   "id": "e15a2c91-21cf-43ff-a888-1b0d07c4a818",
   "metadata": {
    "tags": []
   },
   "outputs": [],
   "source": [
    "adata.write_h5ad(\"/media/duan/sda2/MALDI/Data/20250727_LPS_MALDI/Result/FISH_in_Ablation_CellLens.h5ad\")"
   ]
  },
  {
   "cell_type": "code",
   "execution_count": null,
   "id": "ddbaa4d0-69de-4f5a-a799-c1ee215e9fc7",
   "metadata": {},
   "outputs": [],
   "source": []
  },
  {
   "cell_type": "code",
   "execution_count": null,
   "id": "f928e456-ce3f-453c-84bf-6c2d1f935e6f",
   "metadata": {},
   "outputs": [],
   "source": [
    "adata = sc.read_h5ad(\"/media/duan/sda2/MALDI/Data/LPS_01/LPS_Scaled_Reg2.h5ad\")\n",
    "adata"
   ]
  },
  {
   "cell_type": "code",
   "execution_count": null,
   "id": "0c74da23-439b-4a8a-8828-7997a89e27cc",
   "metadata": {
    "tags": []
   },
   "outputs": [],
   "source": [
    "bdf = pd.read_csv(\"/media/duan/sda2/MALDI/Data/LPS_01/BACKGROUND_mz.csv\", header=None)\n",
    "bdf"
   ]
  },
  {
   "cell_type": "code",
   "execution_count": null,
   "id": "e13ee258-e171-403d-8397-73684b1a5fbd",
   "metadata": {
    "tags": []
   },
   "outputs": [],
   "source": [
    "mz_BLACK_LIST = bdf[0].to_numpy(dtype = str)"
   ]
  },
  {
   "cell_type": "code",
   "execution_count": null,
   "id": "6a3780f1-0fd4-4f92-95fb-d3e18d047ec1",
   "metadata": {
    "tags": []
   },
   "outputs": [],
   "source": [
    "adata = adata[:, [x for x in adata.var_names if x not in mz_BLACK_LIST]].copy()"
   ]
  },
  {
   "cell_type": "code",
   "execution_count": null,
   "id": "2623288e-a950-4e99-8eab-97ef22ded0e0",
   "metadata": {
    "tags": []
   },
   "outputs": [],
   "source": [
    "from scipy.sparse import csr_matrix"
   ]
  },
  {
   "cell_type": "code",
   "execution_count": null,
   "id": "fbc31385-89eb-4ab6-bcc9-75306138e4b5",
   "metadata": {
    "tags": []
   },
   "outputs": [],
   "source": [
    "adata"
   ]
  },
  {
   "cell_type": "code",
   "execution_count": null,
   "id": "6202c449-7e29-443a-b9d6-c7d4332f5a22",
   "metadata": {
    "tags": []
   },
   "outputs": [],
   "source": [
    "adata.layers['RMS'] = adata.X.copy()"
   ]
  },
  {
   "cell_type": "code",
   "execution_count": null,
   "id": "71d12391-094b-4909-9ea8-74b2c6595181",
   "metadata": {
    "tags": []
   },
   "outputs": [],
   "source": [
    "sc.pp.calculate_qc_metrics(\n",
    "    adata, inplace=True, log1p=True, percent_top=None\n",
    ")"
   ]
  },
  {
   "cell_type": "code",
   "execution_count": null,
   "id": "95565587-482a-4f15-b56a-2122eeaf04e6",
   "metadata": {
    "tags": []
   },
   "outputs": [],
   "source": [
    "sc.pl.violin(\n",
    "    adata,\n",
    "    [\"n_genes_by_counts\", \"total_counts\"],\n",
    "    jitter=0.4,\n",
    "    multi_panel=True,\n",
    ")"
   ]
  },
  {
   "cell_type": "code",
   "execution_count": null,
   "id": "cb885646-f74e-4ea3-9a1c-fc0116d66166",
   "metadata": {
    "tags": []
   },
   "outputs": [],
   "source": [
    "adata.obs['total_counts'].mean()"
   ]
  },
  {
   "cell_type": "code",
   "execution_count": null,
   "id": "98bf5d7d-87b5-4bbe-a6ad-160514440ad5",
   "metadata": {
    "tags": []
   },
   "outputs": [],
   "source": [
    "adata.obs['total_counts'].median()"
   ]
  },
  {
   "cell_type": "code",
   "execution_count": null,
   "id": "137e352c-54ab-4819-b7ab-5dd72174a8dd",
   "metadata": {
    "tags": []
   },
   "outputs": [],
   "source": [
    "adata.obs['total_counts'].median()"
   ]
  },
  {
   "cell_type": "code",
   "execution_count": null,
   "id": "69d6488a-bed6-4c6d-aa48-6f7a9fdf7772",
   "metadata": {
    "tags": []
   },
   "outputs": [],
   "source": [
    "np.percentile(adata.obs['total_counts'], 5)"
   ]
  },
  {
   "cell_type": "code",
   "execution_count": null,
   "id": "9e25655c-04b9-4346-acfb-0aec55ea586e",
   "metadata": {},
   "outputs": [],
   "source": [
    "sc.pp.filter_cells(adata, min_genes=400)\n",
    "sc.pp.filter_cells(adata, max_counts=60000)\n",
    "sc.pp.filter_cells(adata, min_counts=8000)\n",
    "adata"
   ]
  },
  {
   "cell_type": "code",
   "execution_count": null,
   "id": "a3ec58f6-8665-49d8-8a76-23f4512112dc",
   "metadata": {
    "tags": []
   },
   "outputs": [],
   "source": [
    "# Logarithmize the data\n",
    "sc.pp.log1p(adata)"
   ]
  },
  {
   "cell_type": "code",
   "execution_count": null,
   "id": "45a76a8c-ea1e-4837-952c-111711791bbf",
   "metadata": {},
   "outputs": [],
   "source": []
  },
  {
   "cell_type": "code",
   "execution_count": null,
   "id": "7bca403b-b090-404d-948e-000fb826cbc9",
   "metadata": {
    "scrolled": true,
    "tags": []
   },
   "outputs": [],
   "source": [
    "sc.tl.pca(adata)\n",
    "sc.pp.neighbors(adata)\n",
    "sc.tl.umap(adata)"
   ]
  },
  {
   "cell_type": "code",
   "execution_count": null,
   "id": "9ef5b34f-637c-4fa2-b7ed-3e9bff345595",
   "metadata": {
    "tags": []
   },
   "outputs": [],
   "source": [
    "# Using the igraph implementation and a fixed number of iterations can be significantly faster, especially for larger datasets\n",
    "sc.tl.leiden(adata, flavor=\"igraph\",n_iterations=2)"
   ]
  },
  {
   "cell_type": "code",
   "execution_count": null,
   "id": "b18940a4-c728-4d22-a938-5e38f136fa44",
   "metadata": {
    "tags": []
   },
   "outputs": [],
   "source": [
    "adata.obsm['spatial'].min(axis = 0) - adata.obsm['spatial'].max(axis = 0)"
   ]
  },
  {
   "cell_type": "code",
   "execution_count": null,
   "id": "d6cb810a-020e-4708-b1a4-d4b660bf3f2c",
   "metadata": {},
   "outputs": [],
   "source": []
  },
  {
   "cell_type": "code",
   "execution_count": null,
   "id": "edf20237-bb47-4784-9e7c-50f3e7f88a70",
   "metadata": {},
   "outputs": [],
   "source": []
  },
  {
   "cell_type": "code",
   "execution_count": null,
   "id": "91e68f38-bd7e-4615-9fc5-e3b223321caf",
   "metadata": {},
   "outputs": [],
   "source": []
  },
  {
   "cell_type": "code",
   "execution_count": null,
   "id": "eb051419-6529-4d83-b0ad-7d82fd86f38e",
   "metadata": {
    "scrolled": true,
    "tags": []
   },
   "outputs": [],
   "source": [
    "df = adata.to_df(layer = 'RMS')\n",
    "df"
   ]
  },
  {
   "cell_type": "code",
   "execution_count": null,
   "id": "df34aed5-1328-42db-8f07-e267545cf235",
   "metadata": {
    "tags": []
   },
   "outputs": [],
   "source": [
    "df['x'] = adata.obs['x_aligned']\n",
    "df['y'] = adata.obs['y_aligned']\n",
    "#df['area'] = adata.obs['area']\n",
    "df['leiden'] = adata.obs['leiden']"
   ]
  },
  {
   "cell_type": "code",
   "execution_count": null,
   "id": "5d8a8950-e78e-49a8-8173-72aa1daa361d",
   "metadata": {
    "tags": []
   },
   "outputs": [],
   "source": [
    "df"
   ]
  },
  {
   "cell_type": "code",
   "execution_count": null,
   "id": "42fcde84-7855-4b57-858b-05b2a669a6ab",
   "metadata": {
    "tags": []
   },
   "outputs": [],
   "source": [
    "Rep2_dataset = LENS_Dataset(df,\n",
    "                              features_list=adata.var_names.to_list(),\n",
    "                              nbhd_composition=15,\n",
    "                              feature_neighbor=15,\n",
    "                              spatial_neighbor=15,\n",
    "                              path2img=None,\n",
    "                             use_transform = False) # Not used -  processed image saving location - in later steps"
   ]
  },
  {
   "cell_type": "code",
   "execution_count": null,
   "id": "ce16b624-cc69-4e31-83b8-cfac3d57087f",
   "metadata": {
    "tags": []
   },
   "outputs": [],
   "source": [
    "import warnings\n",
    "warnings.filterwarnings('ignore')\n",
    "\n",
    "Rep2_dataset.initialize(cent_x=\"x\", # x loc of cells\n",
    "                          cent_y=\"y\", # y loc of cells\n",
    "                          celltype=\"feature_labels\", # default option - run leiden to initialize the clusters\n",
    "                          pca_components=25, # PCA components to use, user decide \n",
    "                          cluster_res=2.0) # leiden initialization resolution"
   ]
  },
  {
   "cell_type": "code",
   "execution_count": null,
   "id": "02b5931a-e1c9-4bd2-a125-dcbbddf0e651",
   "metadata": {
    "tags": []
   },
   "outputs": [],
   "source": [
    "# check the training label\n",
    "Rep2_dataset.dual_labels.shape # should be cluster number x 2"
   ]
  },
  {
   "cell_type": "code",
   "execution_count": null,
   "id": "7ba5a4ab-573e-4e20-b458-dac29776d382",
   "metadata": {
    "tags": []
   },
   "outputs": [],
   "source": [
    "device = 'cuda' if torch.cuda.is_available() else 'cpu'\n",
    "Rep2_celllens = CellLENS(Rep2_dataset,\n",
    "                           device,\n",
    "                           cnn_model=False, ### NOTE here set to no cnn model\n",
    "                           cnn_latent_dim=128,\n",
    "                           gnn_latent_dim=32,\n",
    "                          ) # generally these parameters no need to change"
   ]
  },
  {
   "cell_type": "code",
   "execution_count": null,
   "id": "f46f9396-de97-425b-acea-f3af6a527cd0",
   "metadata": {
    "scrolled": true,
    "tags": []
   },
   "outputs": [],
   "source": [
    "Rep2_celllens.get_lens_embedding(round=5,\n",
    "                                   k=32,\n",
    "                                   learning_rate=1e-3,\n",
    "                                   n_epochs=5000,\n",
    "                                   loss_fn='MSELoss',\n",
    "                                   OptimizerAlg='Adam',\n",
    "                                   optimizer_kwargs={},\n",
    "                                   SchedulerAlg=None,\n",
    "                                   scheduler_kwargs={},\n",
    "                                   verbose=True) # generally these parameters do not need to change"
   ]
  },
  {
   "cell_type": "code",
   "execution_count": null,
   "id": "422fb16a-c7b5-4a3a-9766-1461b1710ee7",
   "metadata": {
    "tags": []
   },
   "outputs": [],
   "source": [
    "# the resulting CellLENS embedding is stored here:\n",
    "pd.DataFrame(Rep2_celllens.lens_embedding)"
   ]
  },
  {
   "cell_type": "code",
   "execution_count": null,
   "id": "b0d5ff9c-3b30-4706-a4db-0279cd8858cb",
   "metadata": {
    "tags": []
   },
   "outputs": [],
   "source": [
    "Rep2_celllens.get_lens_clustering(neighbor=15, # standard leiden parameter\n",
    "                                    resolution=1.0, # resolution for leiden - specific\n",
    "                                    entropy_threshold=0.75, # CellLENS parameter - generally no change needed\n",
    "                                    concen_threshold=1, # CellLENS parameter - generally no change needed\n",
    "                                    max_breaks=3, # CellLENS parameter - generally no change needed\n",
    "                                    size_lim=50 # CellLENS parameter - smallest cluster size allowed\n",
    "                                   )"
   ]
  },
  {
   "cell_type": "code",
   "execution_count": null,
   "id": "74744a30-1faa-4305-b01f-90d761308d1a",
   "metadata": {
    "tags": []
   },
   "outputs": [],
   "source": [
    "adata.obsm['CellLENS'] = Rep2_celllens.lens_embedding\n",
    "adata.obs['lens_cluster'] = Rep2_celllens.lens_clustering"
   ]
  },
  {
   "cell_type": "code",
   "execution_count": null,
   "id": "d7bb6161-7a29-4dff-9c8d-08103fa21d98",
   "metadata": {
    "tags": []
   },
   "outputs": [],
   "source": [
    "adata.write_h5ad(\"/media/duan/sda2/MALDI/Data/20250727_LPS_MALDI/Result/MALDI_in_Ablation_CellLens.h5ad\")"
   ]
  },
  {
   "cell_type": "code",
   "execution_count": null,
   "id": "f9fc1947-5ab6-4eb6-8200-a65c115538de",
   "metadata": {},
   "outputs": [],
   "source": []
  },
  {
   "cell_type": "code",
   "execution_count": null,
   "id": "2cf3f28c-5249-484e-8c13-5152f3038274",
   "metadata": {},
   "outputs": [],
   "source": [
    "adata_st = sc.read_h5ad(\"/media/duan/sda2/MALDI/Data/20250727_LPS_MALDI/Result/FISH_in_Ablation_CellLens.h5ad\")"
   ]
  },
  {
   "cell_type": "code",
   "execution_count": null,
   "id": "19f8ce74-03b5-474a-adff-e5d0b28de5c7",
   "metadata": {
    "tags": []
   },
   "outputs": [],
   "source": [
    "adata_sm = sc.read_h5ad(\"/media/duan/sda2/MALDI/Data/20250727_LPS_MALDI/Result/MALDI_in_Ablation_CellLens.h5ad\")"
   ]
  },
  {
   "cell_type": "code",
   "execution_count": null,
   "id": "0a5a8e81-7c7d-4b45-be23-b12042963992",
   "metadata": {
    "tags": []
   },
   "outputs": [],
   "source": [
    "sc.pp.highly_variable_genes(adata_sm, n_top_genes=110)"
   ]
  },
  {
   "cell_type": "code",
   "execution_count": null,
   "id": "b70bc5bb-6995-4292-9772-e220d49d51a2",
   "metadata": {
    "tags": []
   },
   "outputs": [],
   "source": [
    "adata_sm"
   ]
  },
  {
   "cell_type": "code",
   "execution_count": null,
   "id": "87e24286-fe09-43f7-adfa-a720bf7ec268",
   "metadata": {
    "tags": []
   },
   "outputs": [],
   "source": [
    "adata_sm = adata_sm[:, adata_sm.var['highly_variable']].copy()"
   ]
  },
  {
   "cell_type": "code",
   "execution_count": null,
   "id": "e94ceef6-0776-436a-ba2d-c55652cadceb",
   "metadata": {
    "tags": []
   },
   "outputs": [],
   "source": [
    "adata_sm"
   ]
  },
  {
   "cell_type": "code",
   "execution_count": null,
   "id": "86a68854-f143-4d09-bdd5-fb37a6fed80a",
   "metadata": {
    "tags": []
   },
   "outputs": [],
   "source": [
    "adata_st.X = adata_st.layers['counts_corrected'].copy()"
   ]
  },
  {
   "cell_type": "code",
   "execution_count": null,
   "id": "de8f63f6-f31f-4b7e-89ec-d39f388460fe",
   "metadata": {
    "tags": []
   },
   "outputs": [],
   "source": [
    "sc.pp.normalize_total(adata_st, target_sum=110)"
   ]
  },
  {
   "cell_type": "code",
   "execution_count": null,
   "id": "2ee07273-1806-474d-b1eb-007be6af653d",
   "metadata": {
    "tags": []
   },
   "outputs": [],
   "source": [
    "adata_sm.X = adata_sm.layers['RMS'].copy()"
   ]
  },
  {
   "cell_type": "code",
   "execution_count": null,
   "id": "e73f3c1a-686a-4f6b-bab3-da27b273221b",
   "metadata": {
    "tags": []
   },
   "outputs": [],
   "source": [
    "sc.pp.normalize_total(adata_sm, target_sum=110)"
   ]
  },
  {
   "cell_type": "code",
   "execution_count": null,
   "id": "71fe7fc2-58f4-46e4-b158-4f3e04ee31ad",
   "metadata": {},
   "outputs": [],
   "source": []
  },
  {
   "cell_type": "code",
   "execution_count": null,
   "id": "7503aeb9-e130-44cd-8675-e69f0dcebf32",
   "metadata": {
    "tags": []
   },
   "outputs": [],
   "source": [
    "df1 = adata_st.to_df()"
   ]
  },
  {
   "cell_type": "code",
   "execution_count": null,
   "id": "7116cf2f-c00c-4c0a-95d1-312a9e32b995",
   "metadata": {
    "tags": []
   },
   "outputs": [],
   "source": [
    "df2 = adata_sm.to_df()"
   ]
  },
  {
   "cell_type": "code",
   "execution_count": null,
   "id": "93611429-d028-4904-b4e2-b787a47a724c",
   "metadata": {
    "tags": []
   },
   "outputs": [],
   "source": [
    "cidx = [idx for idx in df1.index if idx in df2.index]\n",
    "len(cidx)"
   ]
  },
  {
   "cell_type": "code",
   "execution_count": null,
   "id": "a1fde699-c6f8-4f09-a864-9ea708ce5f46",
   "metadata": {
    "tags": []
   },
   "outputs": [],
   "source": [
    "df1 = df1.loc[cidx,:].copy()\n",
    "df2 = df2.loc[cidx,:].copy()"
   ]
  },
  {
   "cell_type": "code",
   "execution_count": null,
   "id": "beadc456-0c13-4e3f-8cd7-bf1f2c7ca412",
   "metadata": {
    "tags": []
   },
   "outputs": [],
   "source": [
    "df1"
   ]
  },
  {
   "cell_type": "code",
   "execution_count": null,
   "id": "351d37aa-b105-4804-9552-247215245f9c",
   "metadata": {
    "tags": []
   },
   "outputs": [],
   "source": [
    "df2"
   ]
  },
  {
   "cell_type": "code",
   "execution_count": null,
   "id": "20416fc2-df36-4cc7-9d97-bfaad5bdacc7",
   "metadata": {
    "tags": []
   },
   "outputs": [],
   "source": [
    "new_df = pd.concat([df1, df2], axis = 1)"
   ]
  },
  {
   "cell_type": "code",
   "execution_count": null,
   "id": "04c0fe19-d995-42fc-8450-10eeac68c1f7",
   "metadata": {
    "tags": []
   },
   "outputs": [],
   "source": [
    "adata = sc.AnnData(new_df)\n",
    "adata"
   ]
  },
  {
   "cell_type": "code",
   "execution_count": null,
   "id": "a2d33851-a12e-4673-bcf3-6c979ae32f17",
   "metadata": {
    "tags": []
   },
   "outputs": [],
   "source": [
    "st_raw = sc.read_h5ad(\"Result/FISH_in_Ablation_raw.h5ad\")\n",
    "st_raw"
   ]
  },
  {
   "cell_type": "code",
   "execution_count": null,
   "id": "1e1ca585-ed7a-4e60-b2fc-570bf7f159da",
   "metadata": {
    "tags": []
   },
   "outputs": [],
   "source": [
    "adata.obs['x'] = st_raw.obs.loc[adata.obs_names,'x']\n",
    "adata.obs['y'] = st_raw.obs.loc[adata.obs_names,'y']"
   ]
  },
  {
   "cell_type": "code",
   "execution_count": null,
   "id": "bab8b67d-d25e-458a-af46-3d3e22d85314",
   "metadata": {
    "tags": []
   },
   "outputs": [],
   "source": [
    "adata.obsm['spatial'] = adata.obs[['x', 'y']].to_numpy()\n",
    "adata.obsm[\"spatial\"][:,1] =  0 - adata.obsm[\"spatial\"][:,1]"
   ]
  },
  {
   "cell_type": "code",
   "execution_count": null,
   "id": "79c473cc-753b-49c9-8094-178f9e177e43",
   "metadata": {},
   "outputs": [],
   "source": []
  },
  {
   "cell_type": "code",
   "execution_count": null,
   "id": "3e056c02-224c-4c76-b500-c404b38d14b8",
   "metadata": {},
   "outputs": [],
   "source": []
  },
  {
   "cell_type": "code",
   "execution_count": null,
   "id": "feb9746a-1473-4f4a-b396-c4a033052637",
   "metadata": {},
   "outputs": [],
   "source": []
  },
  {
   "cell_type": "code",
   "execution_count": null,
   "id": "74f6bb1d-5871-4347-824a-3d3a248ba6b4",
   "metadata": {
    "tags": []
   },
   "outputs": [],
   "source": [
    "# Logarithmize the data\n",
    "sc.pp.log1p(adata)"
   ]
  },
  {
   "cell_type": "code",
   "execution_count": null,
   "id": "721c5e16-fab1-4b9d-9c11-939fda3d4bc5",
   "metadata": {},
   "outputs": [],
   "source": []
  },
  {
   "cell_type": "code",
   "execution_count": null,
   "id": "7b8639e3-d74f-4ba3-a6f2-6bdc71f86bab",
   "metadata": {
    "scrolled": true,
    "tags": []
   },
   "outputs": [],
   "source": [
    "sc.tl.pca(adata)\n",
    "sc.pp.neighbors(adata)\n",
    "sc.tl.umap(adata)"
   ]
  },
  {
   "cell_type": "code",
   "execution_count": null,
   "id": "30a22aac-a310-4c1b-95c0-1c1e296bde71",
   "metadata": {
    "tags": []
   },
   "outputs": [],
   "source": [
    "# Using the igraph implementation and a fixed number of iterations can be significantly faster, especially for larger datasets\n",
    "sc.tl.leiden(adata, flavor=\"igraph\",n_iterations=2)"
   ]
  },
  {
   "cell_type": "code",
   "execution_count": null,
   "id": "b6cc9d72-2741-4c56-8443-74fddeccb426",
   "metadata": {},
   "outputs": [],
   "source": []
  },
  {
   "cell_type": "code",
   "execution_count": null,
   "id": "559442ce-fda6-4755-8d5f-a96bdb603d27",
   "metadata": {},
   "outputs": [],
   "source": []
  },
  {
   "cell_type": "code",
   "execution_count": null,
   "id": "e0633291-b6b0-49d8-a8dd-c7edfc981bf4",
   "metadata": {},
   "outputs": [],
   "source": []
  },
  {
   "cell_type": "code",
   "execution_count": null,
   "id": "e9ca71e7-f8ba-4bc0-9115-52da70d04565",
   "metadata": {
    "scrolled": true,
    "tags": []
   },
   "outputs": [],
   "source": [
    "df = adata.to_df()\n",
    "df"
   ]
  },
  {
   "cell_type": "code",
   "execution_count": null,
   "id": "f3bf89c3-b683-46c0-92dd-f160c1059ea7",
   "metadata": {
    "tags": []
   },
   "outputs": [],
   "source": [
    "df['x'] = adata.obs['x']\n",
    "df['y'] = adata.obs['y']\n",
    "# df['area'] = adata.obs['area']\n",
    "# df['leiden'] = adata.obs['leiden']"
   ]
  },
  {
   "cell_type": "code",
   "execution_count": null,
   "id": "fdd478cd-278a-4432-bdc4-5f52d7d32f3e",
   "metadata": {
    "tags": []
   },
   "outputs": [],
   "source": [
    "df"
   ]
  },
  {
   "cell_type": "code",
   "execution_count": null,
   "id": "bce944a4-beec-4dd1-9400-27cd2bf0f408",
   "metadata": {
    "tags": []
   },
   "outputs": [],
   "source": [
    "Rep2_dataset = LENS_Dataset(df,\n",
    "                              features_list=adata.var_names.to_list(),\n",
    "                              nbhd_composition=15,\n",
    "                              feature_neighbor=15,\n",
    "                              spatial_neighbor=15,\n",
    "                              path2img=None,\n",
    "                             use_transform = False) # Not used -  processed image saving location - in later steps"
   ]
  },
  {
   "cell_type": "code",
   "execution_count": null,
   "id": "2b1fc1dd-7b39-40f9-bf1f-783acd38aeb7",
   "metadata": {
    "tags": []
   },
   "outputs": [],
   "source": [
    "import warnings\n",
    "warnings.filterwarnings('ignore')\n",
    "\n",
    "Rep2_dataset.initialize(cent_x=\"x\", # x loc of cells\n",
    "                          cent_y=\"y\", # y loc of cells\n",
    "                          celltype=\"feature_labels\", # default option - run leiden to initialize the clusters\n",
    "                          pca_components=25, # PCA components to use, user decide \n",
    "                          cluster_res=2.0) # leiden initialization resolution"
   ]
  },
  {
   "cell_type": "code",
   "execution_count": null,
   "id": "ec104367-f15b-4d17-8587-cf85f9c79d0d",
   "metadata": {
    "tags": []
   },
   "outputs": [],
   "source": [
    "# check the training label\n",
    "Rep2_dataset.dual_labels.shape # should be cluster number x 2"
   ]
  },
  {
   "cell_type": "code",
   "execution_count": null,
   "id": "612404ac-7dd3-41e7-94ac-a1bda8580679",
   "metadata": {
    "tags": []
   },
   "outputs": [],
   "source": [
    "device = 'cuda' if torch.cuda.is_available() else 'cpu'\n",
    "Rep2_celllens = CellLENS(Rep2_dataset,\n",
    "                           device,\n",
    "                           cnn_model=False, ### NOTE here set to no cnn model\n",
    "                           cnn_latent_dim=128,\n",
    "                           gnn_latent_dim=32,\n",
    "                          ) # generally these parameters no need to change"
   ]
  },
  {
   "cell_type": "code",
   "execution_count": null,
   "id": "5686d987-24f8-43c3-b443-5f45bd741142",
   "metadata": {
    "scrolled": true,
    "tags": []
   },
   "outputs": [],
   "source": [
    "Rep2_celllens.get_lens_embedding(round=5,\n",
    "                                   k=32,\n",
    "                                   learning_rate=1e-3,\n",
    "                                   n_epochs=5000,\n",
    "                                   loss_fn='MSELoss',\n",
    "                                   OptimizerAlg='Adam',\n",
    "                                   optimizer_kwargs={},\n",
    "                                   SchedulerAlg=None,\n",
    "                                   scheduler_kwargs={},\n",
    "                                   verbose=True) # generally these parameters do not need to change"
   ]
  },
  {
   "cell_type": "code",
   "execution_count": null,
   "id": "fc57be65-f7ac-43bc-9b70-90a1db8024ce",
   "metadata": {
    "tags": []
   },
   "outputs": [],
   "source": [
    "# the resulting CellLENS embedding is stored here:\n",
    "pd.DataFrame(Rep2_celllens.lens_embedding)"
   ]
  },
  {
   "cell_type": "code",
   "execution_count": null,
   "id": "3022fcad-9963-4dee-9356-9e70c3322ccf",
   "metadata": {
    "tags": []
   },
   "outputs": [],
   "source": [
    "adata.obsm['CellLENS'] = Rep2_celllens.lens_embedding\n",
    "adata.obs['lens_cluster'] = Rep2_celllens.lens_clustering"
   ]
  },
  {
   "cell_type": "code",
   "execution_count": null,
   "id": "da755474-536b-4ef0-9b82-13730caff202",
   "metadata": {
    "tags": []
   },
   "outputs": [],
   "source": [
    "adata.write_h5ad(\"/media/duan/sda2/MALDI/Data/20250727_LPS_MALDI/Result/MALDI_FISH_in_Ablation_CellLens.h5ad\")"
   ]
  },
  {
   "cell_type": "code",
   "execution_count": null,
   "id": "806333a4-dcf1-49e5-8821-e7d2510baf41",
   "metadata": {},
   "outputs": [],
   "source": []
  },
  {
   "cell_type": "code",
   "execution_count": null,
   "id": "785292df-ce6a-4e70-b817-152914fd9471",
   "metadata": {
    "tags": []
   },
   "outputs": [],
   "source": [
    "import MENDER\n",
    "import scanpy as sc\n",
    "import pandas as pd\n",
    "import numpy as np\n",
    "from sklearn.metrics import *"
   ]
  },
  {
   "cell_type": "code",
   "execution_count": null,
   "id": "fc8e9eed-8264-47d1-ab9d-5ab2b5f1617e",
   "metadata": {
    "tags": []
   },
   "outputs": [],
   "source": [
    "adata = sc.read_h5ad('Result/MALDI_in_Ablation_CellLens.h5ad')\n",
    "adata"
   ]
  },
  {
   "cell_type": "code",
   "execution_count": null,
   "id": "18a88cb1-fa8e-49d7-b124-c75114123e72",
   "metadata": {
    "tags": []
   },
   "outputs": [],
   "source": [
    "adata.obsm['spatial'] = adata.obs[['x', 'y']].to_numpy()\n",
    "adata.obsm[\"spatial\"][:,1] =  0 - adata.obsm[\"spatial\"][:,1]"
   ]
  },
  {
   "cell_type": "code",
   "execution_count": null,
   "id": "2a58d70a-60d6-4793-ae4b-26d7a309de80",
   "metadata": {
    "tags": []
   },
   "outputs": [],
   "source": [
    "# Normalizing to library size\n",
    "sc.pp.normalize_total(adata, target_sum=110)\n",
    "# Logarithmize the data\n",
    "sc.pp.log1p(adata)"
   ]
  },
  {
   "cell_type": "code",
   "execution_count": null,
   "id": "aba3b503-317b-421f-8ad6-d7476a82fb27",
   "metadata": {
    "scrolled": true,
    "tags": []
   },
   "outputs": [],
   "source": [
    "sc.tl.pca(adata)\n",
    "sc.pp.neighbors(adata)\n",
    "sc.tl.umap(adata)"
   ]
  },
  {
   "cell_type": "code",
   "execution_count": null,
   "id": "9cc93f21-b263-4c68-a1f2-755eb1f88289",
   "metadata": {
    "tags": []
   },
   "outputs": [],
   "source": [
    "# Using the igraph implementation and a fixed number of iterations can be significantly faster, especially for larger datasets\n",
    "sc.tl.leiden(adata, resolution=2.0)"
   ]
  },
  {
   "cell_type": "code",
   "execution_count": null,
   "id": "a4eec0c7-12f3-409e-8e9a-72be7bcdeb58",
   "metadata": {},
   "outputs": [],
   "source": []
  },
  {
   "cell_type": "code",
   "execution_count": null,
   "id": "01ee252d-6dc5-457a-93af-40fda19b45b1",
   "metadata": {
    "tags": []
   },
   "outputs": [],
   "source": [
    "adata = sc.read_h5ad(\"/media/duan/sda2/MALDI/Data/20250727_LPS_MALDI/Result/MALDI_FISH_in_Ablation_CellLens.h5ad\")\n",
    "adata"
   ]
  },
  {
   "cell_type": "code",
   "execution_count": null,
   "id": "33ccb7fc-0b36-4a80-b724-be16914cabb2",
   "metadata": {},
   "outputs": [],
   "source": []
  },
  {
   "cell_type": "code",
   "execution_count": null,
   "id": "aca2ae90-9319-4d8d-9f94-98a980ea0733",
   "metadata": {
    "scrolled": true,
    "tags": []
   },
   "outputs": [],
   "source": [
    "scale = 6\n",
    "radius = 90\n",
    "\n",
    "# main body of MENDER\n",
    "msm = MENDER.MENDER_single(\n",
    "    adata,\n",
    "    # determine which cell state to use\n",
    "    # we use the cell state got by Leiden\n",
    "    ct_obs='lens_cluster',\n",
    "    random_seed=666\n",
    ")\n",
    "\n",
    "\n",
    "# set the MENDER parameters\n",
    "\n",
    "msm.set_MENDER_para(\n",
    "    # default of n_scales is 6\n",
    "    n_scales=scale,\n",
    "\n",
    "    # for single cell data, nn_mode is set to 'radius'\n",
    "    nn_mode='radius',\n",
    "\n",
    "    # default of n_scales is 15 um (see the manuscript for why).\n",
    "    # MENDER also provide a function 'estimate_radius' for estimating the radius\n",
    "    nn_para=radius,\n",
    "\n",
    ")\n",
    "# construct the context representation\n",
    "msm.run_representation(\n",
    "    200\n",
    "    # the number of processings\n",
    ")\n",
    "\n",
    "# set the spatial clustering parameter\n",
    "# positive values for the expected number of domains\n",
    "# negative values for the clustering resolution\n",
    "msm.run_clustering_normal(-1.0)"
   ]
  },
  {
   "cell_type": "code",
   "execution_count": null,
   "id": "f540e0e2-e55d-419b-80dd-78e92f7a7895",
   "metadata": {},
   "outputs": [],
   "source": [
    "msm.run_clustering_normal(-0.3)"
   ]
  },
  {
   "cell_type": "code",
   "execution_count": null,
   "id": "b99e6753-4798-471c-a754-d5fce464d05d",
   "metadata": {
    "scrolled": true,
    "tags": []
   },
   "outputs": [],
   "source": [
    "adata.obs[\"MENDER\"] = msm.adata_MENDER.obs[\"MENDER\"]"
   ]
  },
  {
   "cell_type": "code",
   "execution_count": null,
   "id": "3b0f11ec",
   "metadata": {
    "tags": []
   },
   "outputs": [],
   "source": [
    "del adata.uns['MENDER_colors']"
   ]
  },
  {
   "cell_type": "code",
   "execution_count": null,
   "id": "92e5456d",
   "metadata": {
    "tags": []
   },
   "outputs": [],
   "source": [
    "sc.pl.embedding(adata, basis=\"spatial\", color=[\"MENDER\"], size = 10)"
   ]
  },
  {
   "cell_type": "raw",
   "id": "1f64247c-9403-4c82-be24-ab5111723f78",
   "metadata": {
    "tags": []
   },
   "source": [
    "pd.DataFrame(adata.obs['MENDER']).to_csv(\"ABA110_1031_MENDER.csv\")"
   ]
  },
  {
   "cell_type": "code",
   "execution_count": null,
   "id": "83417d11-f08e-4679-be42-c750b7843a3f",
   "metadata": {
    "tags": []
   },
   "outputs": [],
   "source": [
    "adata.write_h5ad(\"Result/MENDER_MALDI_FISH_LPS.h5ad\")"
   ]
  },
  {
   "cell_type": "code",
   "execution_count": null,
   "id": "41c5c45a-a0e6-429e-9377-da550ffdbb63",
   "metadata": {},
   "outputs": [],
   "source": []
  },
  {
   "cell_type": "code",
   "execution_count": null,
   "id": "88bfe524",
   "metadata": {
    "tags": []
   },
   "outputs": [],
   "source": [
    "adata = sc.read_h5ad('Result/MALDI_in_Ablation_CellLens.h5ad')\n",
    "adata"
   ]
  },
  {
   "cell_type": "code",
   "execution_count": null,
   "id": "3615acbc-030a-4b36-82aa-d8e9478ae62a",
   "metadata": {},
   "outputs": [],
   "source": [
    "adata.obsm['spatial'] = adata.obs[['x_aligned', 'y_aligned']].to_numpy()\n",
    "adata.obsm[\"spatial\"][:,1] =  0 - adata.obsm[\"spatial\"][:,1]"
   ]
  },
  {
   "cell_type": "code",
   "execution_count": null,
   "id": "ba46adeb-5717-4f51-840b-5e399d431d9a",
   "metadata": {},
   "outputs": [],
   "source": [
    "adata.obsm['spatial']"
   ]
  },
  {
   "cell_type": "code",
   "execution_count": null,
   "id": "988fbe85",
   "metadata": {},
   "outputs": [],
   "source": []
  },
  {
   "cell_type": "code",
   "execution_count": null,
   "id": "71c06441",
   "metadata": {},
   "outputs": [],
   "source": []
  },
  {
   "cell_type": "code",
   "execution_count": null,
   "id": "c38865c9",
   "metadata": {
    "scrolled": true,
    "tags": []
   },
   "outputs": [],
   "source": [
    "scale = 6\n",
    "radius = 90\n",
    "\n",
    "# main body of MENDER\n",
    "msm = MENDER.MENDER_single(\n",
    "    adata,\n",
    "    # determine which cell state to use\n",
    "    # we use the cell state got by Leiden\n",
    "    ct_obs='lens_cluster',\n",
    "    random_seed=666\n",
    ")\n",
    "\n",
    "\n",
    "# set the MENDER parameters\n",
    "\n",
    "msm.set_MENDER_para(\n",
    "    # default of n_scales is 6\n",
    "    n_scales=scale,\n",
    "\n",
    "    # for single cell data, nn_mode is set to 'radius'\n",
    "    nn_mode='radius',\n",
    "\n",
    "    # default of n_scales is 15 um (see the manuscript for why).\n",
    "    # MENDER also provide a function 'estimate_radius' for estimating the radius\n",
    "    nn_para=radius,\n",
    "\n",
    ")\n",
    "# construct the context representation\n",
    "msm.run_representation(\n",
    "    200\n",
    "    # the number of processings\n",
    ")\n",
    "\n",
    "# set the spatial clustering parameter\n",
    "# positive values for the expected number of domains\n",
    "# negative values for the clustering resolution\n",
    "msm.run_clustering_normal(-1.0)"
   ]
  },
  {
   "cell_type": "code",
   "execution_count": null,
   "id": "0073ed4e",
   "metadata": {},
   "outputs": [],
   "source": [
    "msm.run_clustering_normal(-0.3)"
   ]
  },
  {
   "cell_type": "code",
   "execution_count": null,
   "id": "83a10c18",
   "metadata": {
    "scrolled": true,
    "tags": []
   },
   "outputs": [],
   "source": [
    "adata.obs[\"MENDER\"] = msm.adata_MENDER.obs[\"MENDER\"]"
   ]
  },
  {
   "cell_type": "code",
   "execution_count": null,
   "id": "41e4ef91-e688-4cea-be8d-0388626f2f66",
   "metadata": {},
   "outputs": [],
   "source": [
    "sc.set_figure_params(figsize = (11,5.9))\n",
    "sc.pl.embedding(adata, basis=\"spatial\", color=[\"MENDER\"], size = 5)"
   ]
  },
  {
   "cell_type": "code",
   "execution_count": null,
   "id": "b45be198-e0e2-4acf-9a8e-13abd13bed03",
   "metadata": {},
   "outputs": [],
   "source": [
    "adata.write_h5ad(\"Result/MENDER_MALDI_LPS.h5ad\")"
   ]
  },
  {
   "cell_type": "code",
   "execution_count": null,
   "id": "0a2c8ba4-91cb-4780-b850-57c7f41b62e4",
   "metadata": {},
   "outputs": [],
   "source": []
  },
  {
   "cell_type": "code",
   "execution_count": null,
   "id": "ec6f934e-fa06-486f-ac88-5eb9c4f41595",
   "metadata": {
    "tags": []
   },
   "outputs": [],
   "source": [
    "import scanpy as sc\n",
    "import pandas as pd\n",
    "import numpy as np"
   ]
  },
  {
   "cell_type": "code",
   "execution_count": null,
   "id": "17fd2116-4133-4adc-9bc7-1edea9615092",
   "metadata": {
    "tags": []
   },
   "outputs": [],
   "source": [
    "adata_sm = sc.read_h5ad(\"Result/MENDER_MALDI_LPS.h5ad\")\n",
    "adata_st = sc.read_h5ad(\"Result/MENDER_FISH_LPS.h5ad\")\n",
    "adata = sc.read_h5ad(\"Result/MENDER_MALDI_FISH_LPS.h5ad\")"
   ]
  },
  {
   "cell_type": "code",
   "execution_count": null,
   "id": "3b81a53b-eb77-45d4-a2ba-f2e38f498e8d",
   "metadata": {
    "tags": []
   },
   "outputs": [],
   "source": [
    "adata.obs['MENDER'].cat.categories"
   ]
  },
  {
   "cell_type": "code",
   "execution_count": null,
   "id": "09852390-88ce-4453-86ba-dd1567f8fb3b",
   "metadata": {
    "tags": []
   },
   "outputs": [],
   "source": [
    "adata.uns['MENDER_colors']"
   ]
  },
  {
   "cell_type": "code",
   "execution_count": null,
   "id": "03095123-c77c-4e79-b50d-c49991964834",
   "metadata": {
    "tags": []
   },
   "outputs": [],
   "source": [
    "sc.set_figure_params(figsize = (11,6), scanpy = False, dpi_save=300)\n",
    "sc.pl.embedding(adata, basis=\"spatial\", color=[\"MENDER\"], size = 5, save = 'MENDER_FISH_MALDI.pdf', frameon = False, legend_loc=None, title = 'OpenFISH + MALDI')"
   ]
  },
  {
   "cell_type": "code",
   "execution_count": null,
   "id": "91aac962-a42c-4736-a1d2-46f1d1b00b7c",
   "metadata": {
    "scrolled": true,
    "tags": []
   },
   "outputs": [],
   "source": [
    "MALDI_FISH_color = {x:y for x,y in zip(adata.obs['MENDER'].cat.categories, adata.uns['MENDER_colors'])}"
   ]
  },
  {
   "cell_type": "code",
   "execution_count": null,
   "id": "602d11d9-ded3-499e-bf7e-fc1263e6d3c4",
   "metadata": {
    "tags": []
   },
   "outputs": [],
   "source": [
    "FISH_color = {'0': MALDI_FISH_color['1'], '1': MALDI_FISH_color['7'], '2': MALDI_FISH_color['0'], '3': MALDI_FISH_color['9'], '4': MALDI_FISH_color['6'],\n",
    "             '5': MALDI_FISH_color['15'], '6': MALDI_FISH_color['28'], '7': MALDI_FISH_color['4'], '8': MALDI_FISH_color['23'], '9': MALDI_FISH_color['18'],\n",
    "             '10': MALDI_FISH_color['11'], '11': MALDI_FISH_color['14'], '12': MALDI_FISH_color['22'], '13': MALDI_FISH_color['3'], '14': MALDI_FISH_color['24'],\n",
    "             '15': MALDI_FISH_color['17'], '16': MALDI_FISH_color['35'], '17': MALDI_FISH_color['33'], '18': MALDI_FISH_color['32'], '19': MALDI_FISH_color['27'],\n",
    "             '20': MALDI_FISH_color['40']}"
   ]
  },
  {
   "cell_type": "code",
   "execution_count": null,
   "id": "41df9012-f0ef-4850-8812-cfa4ae1d1b38",
   "metadata": {
    "tags": []
   },
   "outputs": [],
   "source": [
    "adata_st.uns['MENDER_colors']"
   ]
  },
  {
   "cell_type": "code",
   "execution_count": null,
   "id": "ffed4fbf-eefc-4068-a4eb-ed4c8a1df350",
   "metadata": {
    "tags": []
   },
   "outputs": [],
   "source": [
    "FISH_color = {x:y for x,y in zip(adata_st.obs['MENDER'].cat.categories, adata_st.uns['MENDER_colors'])}"
   ]
  },
  {
   "cell_type": "code",
   "execution_count": null,
   "id": "f8d8a1d6-2f2a-4b71-a2ca-920dd2034159",
   "metadata": {
    "scrolled": true,
    "tags": []
   },
   "outputs": [],
   "source": [
    "FISH_color = {'0': '#1ce6ff',\n",
    " '1': '#ffdbe5',\n",
    " '2': '#ffff00',\n",
    " '3': '#0000a6',\n",
    " '4': '#a30059',\n",
    " '5': '#5a0007',\n",
    " '6': '#ff90c9',\n",
    " '7': '#008941',\n",
    " '8': '#61615a',\n",
    " '9': '#1b4400',\n",
    " '10': '#b79762',\n",
    " '11': '#997d87',\n",
    " '12': '#ff2f80',\n",
    " '13': '#ff4a46',\n",
    " '14': '#ba0900',\n",
    " '15': '#6a3a4c',\n",
    " '16': '#300018',\n",
    " '17': '#7b4f4b',\n",
    " '18': '#000035',\n",
    " '19': '#ffaa92',\n",
    " '20': '#ffb500', '21': '#4a3b53',\n",
    " '22': '#ff2f80',\n",
    " '23': '#61615a',\n",
    " '24': '#ba0900',\n",
    " '25': '#6b7900',\n",
    " '26': '#00c2a0',\n",
    " '27': '#ffaa92',\n",
    " '28': '#ff90c9',\n",
    " '29': '#b903aa',\n",
    " '30': '#d16100',\n",
    " '31': '#ddefff',\n",
    " '32': '#000035',\n",
    " '33': '#7b4f4b',\n",
    " '34': '#a1c299',\n",
    " '35': '#300018',\n",
    " '36': '#0aa6d8',\n",
    " '37': '#013349',\n",
    " '38': '#00846f',\n",
    " '39': '#372101',\n",
    " '40': '#ffb500',\n",
    " '41': '#c2ffed',\n",
    " '42': '#a079bf',\n",
    " '43': '#cc0744',\n",
    " '44': '#c0b9b2',\n",
    " '45': '#c2ff99'}"
   ]
  },
  {
   "cell_type": "code",
   "execution_count": null,
   "id": "19b93daf-940c-4f62-b8bf-22d8d174380d",
   "metadata": {
    "tags": []
   },
   "outputs": [],
   "source": [
    "sc.set_figure_params(figsize = (11,6), scanpy = False, dpi_save=300)\n",
    "sc.pl.embedding(adata_st, basis=\"spatial\", color=[\"MENDER\"], size = 8, save = 'MENDER_FISH.pdf', frameon = False, legend_loc=None, title = 'OpenFISH', palette=FISH_color)"
   ]
  },
  {
   "cell_type": "code",
   "execution_count": null,
   "id": "20492853-f7ce-45ed-ad72-964a43069301",
   "metadata": {
    "tags": []
   },
   "outputs": [],
   "source": [
    "MALDI_color = {'0': '#ffff00',\n",
    " '1': '#b79762',\n",
    " '2': '#0000a6',\n",
    " '3': '#a30059',\n",
    " '4': '#63ffac',\n",
    " '5': '#ff4a46',\n",
    " '6': '#ff34ff',\n",
    " '7': '#ffdbe5',\n",
    " '8': '#008941',\n",
    " '9': '#6a3a4c',\n",
    " '10': '#7a4900',\n",
    " '11': '#ff90c9',\n",
    " '12': '#6b7900',\n",
    " '13': '#b79762',\n",
    " '14': '#ff34ff',\n",
    " '15': '#006fa6',\n",
    " '16': '#997d87',\n",
    " '17': '#1ce6ff',\n",
    " '18': '#8fb0ff',\n",
    " '19': '#004d43',\n",
    " '20': '#ba0900',\n",
    " '21': '#ff4a46',\n",
    " '22': '#ffdbe5',\n",
    " '23': '#8fb0ff',\n",
    " '24': '#b79762',\n",
    " '25': '#000035','26': '#00c2a0',\n",
    " '27': '#ffaa92',\n",
    " '28': '#ff90c9',\n",
    " '29': '#b903aa',\n",
    " '30': '#d16100',\n",
    " '31': '#ddefff',\n",
    " '32': '#000035',\n",
    " '33': '#7b4f4b',\n",
    " '34': '#a1c299',\n",
    " '35': '#300018',\n",
    " '36': '#0aa6d8',\n",
    " '37': '#013349',\n",
    " '38': '#00846f',\n",
    " '39': '#372101',\n",
    " '40': '#ffb500',\n",
    " '41': '#c2ffed',\n",
    " '42': '#a079bf',\n",
    " '43': '#cc0744',\n",
    " '44': '#c0b9b2',\n",
    " '45': '#c2ff99',\n",
    " '46': '#001e09',\n",
    " '47': '#00489c',\n",
    " '48': '#6f0062',\n",
    " '49': '#0cbd66',\n",
    " '50': '#eec3ff',\n",
    " '51': '#456d75',\n",
    " '52': '#b77b68',\n",
    " '53': '#7a87a1',\n",
    " '54': '#788d66',\n",
    " '55': '#885578',\n",
    " '56': '#fad09f',\n",
    " '57': '#ff8a9a',\n",
    " '58': '#d157a0',\n",
    " '59': '#bec459',\n",
    " '60': '#456648',\n",
    " '61': '#0086ed',\n",
    " '62': '#886f4c',\n",
    " '63': '#34362d',\n",
    " '64': '#b4a8bd',\n",
    " '65': '#00a6aa',\n",
    " '66': '#452c2c',\n",
    " '67': '#636375',\n",
    " '68': '#a3c8c9',\n",
    " '69': '#ff913f',\n",
    " '70': '#938a81',\n",
    " '71': '#575329',\n",
    " '72': '#00fecf',\n",
    " '73': '#b05b6f',\n",
    " '74': '#8cd0ff',\n",
    " '75': '#3b9700',\n",
    " '76': '#04f757',\n",
    " '77': '#c8a1a1',\n",
    " '78': '#1e6e00',\n",
    " '79': '#7900d7',\n",
    " '80': '#a77500',\n",
    " '81': '#6367a9',\n",
    " '82': '#a05837',\n",
    " '83': '#6b002c',\n",
    " '84': '#772600',\n",
    " '85': '#d790ff',\n",
    " '86': '#9b9700',\n",
    " '87': '#549e79',\n",
    " '88': '#fff69f',\n",
    " '89': '#201625',\n",
    " '90': '#72418f',\n",
    " '91': '#bc23ff',\n",
    " '92': '#99adc0',\n",
    " '93': '#3a2465',\n",
    " '94': '#922329',\n",
    " '95': '#5b4534',\n",
    " '96': '#fde8dc'}"
   ]
  },
  {
   "cell_type": "code",
   "execution_count": null,
   "id": "ed929d0c-b5a0-44f0-a04b-ed29ec17b310",
   "metadata": {
    "tags": []
   },
   "outputs": [],
   "source": [
    "sc.set_figure_params(figsize = (11,6), scanpy = False, dpi_save=300)\n",
    "sc.pl.embedding(adata_sm, basis=\"spatial\", color=[\"MENDER\"], size = 3, palette=MALDI_color, save = 'MENDER_MALDI.pdf', frameon = False, legend_loc=None, title = 'MALDI')"
   ]
  },
  {
   "cell_type": "code",
   "execution_count": null,
   "id": "4d8015ad-f214-4282-aba9-d09f81075fd0",
   "metadata": {},
   "outputs": [],
   "source": []
  },
  {
   "cell_type": "code",
   "execution_count": null,
   "id": "9b23d2c2-e9ea-4b16-aae1-368186daa64e",
   "metadata": {},
   "outputs": [],
   "source": []
  },
  {
   "cell_type": "code",
   "execution_count": null,
   "id": "3e3b5a26-9951-4dbe-a429-c0c109a717a4",
   "metadata": {
    "scrolled": true,
    "tags": []
   },
   "outputs": [],
   "source": [
    "cortex_polygon = pd.read_csv(\"Cortex_Shapes.csv\")\n",
    "cortex_polygon"
   ]
  },
  {
   "cell_type": "code",
   "execution_count": null,
   "id": "55525342-f9bc-4156-a714-691b23cf8225",
   "metadata": {},
   "outputs": [],
   "source": []
  },
  {
   "cell_type": "code",
   "execution_count": null,
   "id": "d69b539f-7799-4d8b-bdc5-d32f920c9f18",
   "metadata": {
    "tags": []
   },
   "outputs": [],
   "source": [
    "from shapely import Polygon, Point\n",
    "import numpy as np"
   ]
  },
  {
   "cell_type": "code",
   "execution_count": null,
   "id": "fdfed8da-036a-49c4-85a6-0404606a51c1",
   "metadata": {
    "tags": []
   },
   "outputs": [],
   "source": [
    "polygon = Polygon((cortex_polygon[['axis-1', 'axis-0']]).to_numpy())\n",
    "polygon"
   ]
  },
  {
   "cell_type": "code",
   "execution_count": null,
   "id": "acc0b97f-c89b-411d-9675-a31bc4a8627e",
   "metadata": {
    "tags": []
   },
   "outputs": [],
   "source": [
    "roi = ImagejRoi.frompoints(np.array(cortex_polygon[['axis-1', 'axis-0']]))\n",
    "roi.roitype = ROI_TYPE.POLYGON\n",
    "roi.name = 'Cortex'\n",
    "roi.options |= ROI_OPTIONS.SHOW_LABELS"
   ]
  },
  {
   "cell_type": "code",
   "execution_count": null,
   "id": "6b98b08f-4e50-4c53-8796-789333edd4a8",
   "metadata": {
    "tags": []
   },
   "outputs": [],
   "source": [
    "roiwrite('LPS_MALDI_Cortex_forFiji.roi', roi, mode='w')"
   ]
  },
  {
   "cell_type": "code",
   "execution_count": null,
   "id": "47d097b2-1af3-4b48-af7a-e883c0a486d6",
   "metadata": {
    "tags": []
   },
   "outputs": [],
   "source": [
    "adata.obs['Cortex'] = adata.obs[['x_aligned', 'y_aligned']].apply(lambda row: polygon.contains(Point([row['x_aligned'],row['y_aligned']])), axis = 1)"
   ]
  },
  {
   "cell_type": "code",
   "execution_count": null,
   "id": "e62a64bf-ff9e-45cd-8c93-294ab731ff3b",
   "metadata": {
    "tags": []
   },
   "outputs": [],
   "source": [
    "sc.pl.embedding(adata, basis = 'spatial', color = 'Cortex', size = 10)"
   ]
  },
  {
   "cell_type": "code",
   "execution_count": null,
   "id": "3645bd67-f917-46f1-acfe-a2c87783debc",
   "metadata": {
    "tags": []
   },
   "outputs": [],
   "source": [
    "tmp = adata[adata.obs['Cortex']].copy()"
   ]
  },
  {
   "cell_type": "code",
   "execution_count": null,
   "id": "825001a3-1718-414b-8fa3-c05552e2c3fc",
   "metadata": {
    "tags": []
   },
   "outputs": [],
   "source": [
    "tmp.obs"
   ]
  },
  {
   "cell_type": "code",
   "execution_count": null,
   "id": "d5408752-6de0-424a-8f3e-8fc518e9b861",
   "metadata": {
    "tags": []
   },
   "outputs": [],
   "source": [
    "rois = []\n",
    "\n",
    "for idx, row in tmp.obs.iterrows():\n",
    "    \n",
    "    TopLeft_x = row['x_aligned']\n",
    "    TopLeft_y = row['y_aligned']\n",
    "    \n",
    "    arr = np.array([[TopLeft_x, TopLeft_y], [TopLeft_x + 40, TopLeft_y], [TopLeft_x + 40, TopLeft_y + 40], [TopLeft_x, TopLeft_y + 40], [TopLeft_x, TopLeft_y]])\n",
    "\n",
    "    roi = ImagejRoi.frompoints(arr)\n",
    "    roi.roitype = ROI_TYPE.POLYGON\n",
    "    roi.name = idx\n",
    "    roi.options |= ROI_OPTIONS.SHOW_LABELS\n",
    "    rois.append(roi)\n",
    "    \n",
    "roiwrite('LPS_MALDI_Cortex_alignedROI.zip', rois, mode='w')"
   ]
  },
  {
   "cell_type": "code",
   "execution_count": null,
   "id": "c7e36fe8-4614-4e10-bd67-323ddc02e904",
   "metadata": {
    "tags": []
   },
   "outputs": [],
   "source": [
    "len(rois)"
   ]
  },
  {
   "cell_type": "code",
   "execution_count": null,
   "id": "815d701e-5b53-4258-bbd3-9f43c4f80bc2",
   "metadata": {
    "tags": []
   },
   "outputs": [],
   "source": [
    "adata"
   ]
  },
  {
   "cell_type": "code",
   "execution_count": null,
   "id": "619068a2-1c4f-4224-9ea2-acb8af175661",
   "metadata": {},
   "outputs": [],
   "source": [
    "adata.write_h5ad(\"LPS_Scaled_Reg2.h5ad\")"
   ]
  },
  {
   "cell_type": "code",
   "execution_count": null,
   "id": "e40c21b1-58d4-4215-9571-d68fa2db5c50",
   "metadata": {},
   "outputs": [],
   "source": []
  },
  {
   "cell_type": "code",
   "execution_count": null,
   "id": "03017a9f-34e1-4b7b-bdc5-f058eebbfd8e",
   "metadata": {
    "tags": []
   },
   "outputs": [],
   "source": [
    "from spatialdata import read_zarr\n",
    "import geopandas as gpd\n",
    "import numpy as np\n",
    "import scanpy as sc\n",
    "from shapely import Polygon\n",
    "from read_roi import read_roi_file, read_roi_zip\n",
    "import pandas as pd"
   ]
  },
  {
   "cell_type": "code",
   "execution_count": null,
   "id": "5a0199ef-c23b-4194-a5bf-0a6ac7774cf0",
   "metadata": {
    "tags": []
   },
   "outputs": [],
   "source": [
    "sdata = read_zarr(\"/media/duan/sda2/MALDI/Data/20250727_LPS_MALDI/Result/raw_sdata.zarr\")\n",
    "sdata"
   ]
  },
  {
   "cell_type": "code",
   "execution_count": null,
   "id": "1b9e1038-615a-4ea6-a2ae-746645e4e048",
   "metadata": {
    "tags": []
   },
   "outputs": [],
   "source": [
    "st_polygon = sdata.shapes['MultiModel'].copy()\n",
    "st_polygon"
   ]
  },
  {
   "cell_type": "code",
   "execution_count": null,
   "id": "6f3aaecd-78f1-43bd-bf85-a2daf5032907",
   "metadata": {
    "scrolled": true,
    "tags": []
   },
   "outputs": [],
   "source": [
    "cortex_roi = read_roi_zip(\"/media/duan/sda2/MALDI/Data/20250727_LPS_MALDI/LPS_MALDI_Cortex_alignedROI_Final.zip\")"
   ]
  },
  {
   "cell_type": "code",
   "execution_count": null,
   "id": "40cc2f15-ebe5-45db-9186-2f3a0264644e",
   "metadata": {
    "tags": []
   },
   "outputs": [],
   "source": [
    "index_list = []\n",
    "polygon_list = []\n",
    "\n",
    "for key, value in cortex_roi.items():\n",
    "    index_list.append(key)\n",
    "    \n",
    "    polygon = Polygon(\n",
    "\n",
    "        np.column_stack([value['x'][0:4], value['y'][0:4]])\n",
    "\n",
    "    )\n",
    "    \n",
    "    polygon_list.append(polygon)"
   ]
  },
  {
   "cell_type": "code",
   "execution_count": null,
   "id": "a2b909c3-7487-4e84-882f-0cffc0fab360",
   "metadata": {
    "tags": []
   },
   "outputs": [],
   "source": [
    "sm_polygon = gpd.GeoDataFrame(geometry=polygon_list)\n",
    "sm_polygon"
   ]
  },
  {
   "cell_type": "code",
   "execution_count": null,
   "id": "50789008-79a5-4e1e-8976-3feb2feba3d6",
   "metadata": {
    "tags": []
   },
   "outputs": [],
   "source": [
    "sm_polygon.index = index_list\n",
    "sm_polygon"
   ]
  },
  {
   "cell_type": "code",
   "execution_count": null,
   "id": "e4c39c60-85c7-469c-9b41-6152ce3dcc0e",
   "metadata": {
    "tags": []
   },
   "outputs": [],
   "source": [
    "adata_sm = sc.read_h5ad(\"/media/duan/sda2/MALDI/Data/LPS_01/LPS_Scaled_Reg2.h5ad\")\n",
    "adata_sm"
   ]
  },
  {
   "cell_type": "code",
   "execution_count": null,
   "id": "b708b7c4-2830-4acc-b0a2-a9e5c139be83",
   "metadata": {
    "tags": []
   },
   "outputs": [],
   "source": [
    "adata_sm = adata_sm[sm_polygon.index, :].copy()"
   ]
  },
  {
   "cell_type": "code",
   "execution_count": null,
   "id": "5910fc8e-f5e5-421c-8d70-efbc9d396d19",
   "metadata": {
    "tags": []
   },
   "outputs": [],
   "source": [
    "sc.pl.violin(adata_sm, keys = ['total_intensity'])"
   ]
  },
  {
   "cell_type": "code",
   "execution_count": null,
   "id": "0c78a325-d394-4589-a1eb-8c1abeee08ca",
   "metadata": {
    "tags": []
   },
   "outputs": [],
   "source": [
    "sc.pl.violin(adata_sm, keys = ['mean_intensity'])"
   ]
  },
  {
   "cell_type": "code",
   "execution_count": null,
   "id": "5596c9a3-3309-46cc-be6f-232deee92646",
   "metadata": {
    "tags": []
   },
   "outputs": [],
   "source": [
    "np.percentile(adata_sm.obs['mean_intensity'], 0.1)"
   ]
  },
  {
   "cell_type": "code",
   "execution_count": null,
   "id": "18a88fde-47ec-4066-9e89-e273530ad51b",
   "metadata": {
    "tags": []
   },
   "outputs": [],
   "source": [
    "np.percentile(adata_sm.obs['mean_intensity'], 99.9)"
   ]
  },
  {
   "cell_type": "code",
   "execution_count": null,
   "id": "2939244c-fec7-49cf-8405-0aab748c7169",
   "metadata": {
    "tags": []
   },
   "outputs": [],
   "source": [
    "np.percentile(adata_sm.obs['total_intensity'], 0.1)"
   ]
  },
  {
   "cell_type": "code",
   "execution_count": null,
   "id": "57811654-dcbf-48a9-bff4-98ae44ef26d3",
   "metadata": {
    "tags": []
   },
   "outputs": [],
   "source": [
    "np.percentile(adata_sm.obs['total_intensity'], 99.9)"
   ]
  },
  {
   "cell_type": "code",
   "execution_count": null,
   "id": "fb303453-6a81-4789-be64-95cc19e33e67",
   "metadata": {
    "tags": []
   },
   "outputs": [],
   "source": [
    "adata_sm = adata_sm[adata_sm.obs['mean_intensity'] > 5].copy()\n",
    "adata_sm = adata_sm[adata_sm.obs['mean_intensity'] <= 57].copy()\n",
    "adata_sm = adata_sm[adata_sm.obs['total_intensity'] <= 78690].copy()\n",
    "adata_sm = adata_sm[adata_sm.obs['total_intensity'] > 7344].copy()\n",
    "adata_sm"
   ]
  },
  {
   "cell_type": "code",
   "execution_count": null,
   "id": "1953a632-988e-476f-ab38-662993e0778d",
   "metadata": {
    "tags": []
   },
   "outputs": [],
   "source": [
    "sm_polygon = sm_polygon.loc[adata_sm.obs_names, :].copy()\n",
    "sm_polygon"
   ]
  },
  {
   "cell_type": "code",
   "execution_count": null,
   "id": "417bd810-fbac-4b4b-b4c4-b42a67e824f9",
   "metadata": {
    "tags": []
   },
   "outputs": [],
   "source": [
    "adata_st = sdata.tables['table'].copy()\n",
    "adata_st"
   ]
  },
  {
   "cell_type": "code",
   "execution_count": null,
   "id": "f5342119-21fd-439c-abb5-6d89b95a2036",
   "metadata": {
    "tags": []
   },
   "outputs": [],
   "source": [
    "areas = []\n",
    "for pg in sdata.shapes[\"MultiModel\"][\"geometry\"]:\n",
    "    areas.append(pg.area)"
   ]
  },
  {
   "cell_type": "code",
   "execution_count": null,
   "id": "96f51da8-e836-4f9c-beee-f9731de238bd",
   "metadata": {
    "tags": []
   },
   "outputs": [],
   "source": [
    "adata_st.obs['area'] = areas\n",
    "adata_st"
   ]
  },
  {
   "cell_type": "code",
   "execution_count": null,
   "id": "a24fcc95-cf43-4e37-a018-6a9b0c948cf3",
   "metadata": {
    "tags": []
   },
   "outputs": [],
   "source": [
    "NP_Pad = pd.read_csv(\"/media/duan/sda2/MALDI/Data/20250727_Saline_MALDI/NP_Fold_V58.csv\", index_col=0)"
   ]
  },
  {
   "cell_type": "code",
   "execution_count": null,
   "id": "0557af1a-ff9d-4b59-916a-e1a043f3bfd7",
   "metadata": {
    "tags": []
   },
   "outputs": [],
   "source": [
    "adata_st.var_names = [x[0:-2] if x.endswith(\"_s\") else x for x in adata_st.var_names]"
   ]
  },
  {
   "cell_type": "code",
   "execution_count": null,
   "id": "6c44ba5a-2127-49e8-bd63-02bc94b935fb",
   "metadata": {
    "tags": []
   },
   "outputs": [],
   "source": [
    "tmpmatrix = adata_st.to_df().copy()"
   ]
  },
  {
   "cell_type": "code",
   "execution_count": null,
   "id": "920c3ff8-e16d-4c80-baee-bb9d460f32ee",
   "metadata": {
    "tags": []
   },
   "outputs": [],
   "source": [
    "tmpmatrix = tmpmatrix.astype('float32')"
   ]
  },
  {
   "cell_type": "code",
   "execution_count": null,
   "id": "6ec0fe0e-1080-4f1d-aa2f-ae6fc1447180",
   "metadata": {
    "scrolled": true,
    "tags": []
   },
   "outputs": [],
   "source": [
    "import numpy as np\n",
    "\n",
    "for col in tmpmatrix.columns:\n",
    "    # tmpmatrix.loc[:,col] = tmpmatrix.loc[:,col] * np.log2(NP_Pad.loc[col, 'Fold'] + 1)\n",
    "    tmpmatrix.loc[:,col] = tmpmatrix.loc[:,col] * NP_Pad.loc[col, 'Fold']"
   ]
  },
  {
   "cell_type": "code",
   "execution_count": null,
   "id": "ddc96094-94f9-4553-bc7e-060122c94d08",
   "metadata": {
    "tags": []
   },
   "outputs": [],
   "source": [
    "from scipy.sparse import csr_matrix"
   ]
  },
  {
   "cell_type": "code",
   "execution_count": null,
   "id": "686512b7-7588-4845-8522-1fd553935560",
   "metadata": {
    "tags": []
   },
   "outputs": [],
   "source": [
    "adata_st.layers['counts'] = adata_st.X.copy()\n",
    "adata_st.X = csr_matrix(tmpmatrix)\n",
    "adata_st.layers['counts_corrected'] = adata_st.X.copy()"
   ]
  },
  {
   "cell_type": "code",
   "execution_count": null,
   "id": "87b8bd26-6829-43a1-9c79-f12dc8a4d35b",
   "metadata": {
    "tags": []
   },
   "outputs": [],
   "source": [
    "adata_st"
   ]
  },
  {
   "cell_type": "code",
   "execution_count": null,
   "id": "05d83323-30fc-4e96-b69a-e4cfd9218157",
   "metadata": {
    "tags": []
   },
   "outputs": [],
   "source": [
    "sc.pp.calculate_qc_metrics(\n",
    "    adata_st, inplace=True, log1p=True, percent_top=None\n",
    ")"
   ]
  },
  {
   "cell_type": "code",
   "execution_count": null,
   "id": "edf4100b-7c42-4714-95a6-13c73b59b8a5",
   "metadata": {
    "tags": []
   },
   "outputs": [],
   "source": [
    "sc.pl.violin(\n",
    "    adata_st,\n",
    "    [\"n_genes_by_counts\", \"total_counts\"],\n",
    "    jitter=0.4,\n",
    "    multi_panel=True,\n",
    ")"
   ]
  },
  {
   "cell_type": "code",
   "execution_count": null,
   "id": "ae90a35a-a4bd-4b89-ac83-db9f6caf2a36",
   "metadata": {
    "tags": []
   },
   "outputs": [],
   "source": [
    "adata_st.obs['total_counts'].mean()"
   ]
  },
  {
   "cell_type": "code",
   "execution_count": null,
   "id": "595924d7-75ac-4ec3-b631-28e1a6ff4560",
   "metadata": {
    "tags": []
   },
   "outputs": [],
   "source": [
    "adata_st.obs['total_counts'].median()"
   ]
  },
  {
   "cell_type": "code",
   "execution_count": null,
   "id": "2b48f20a-093c-491a-8c3a-cd69e60be8e8",
   "metadata": {
    "tags": []
   },
   "outputs": [],
   "source": [
    "# Filter cells according to Cell Volume\n",
    "adata_st.obs[\"area\"].mean()"
   ]
  },
  {
   "cell_type": "code",
   "execution_count": null,
   "id": "bd28bae9-1dd9-402d-a835-27cc750d06d3",
   "metadata": {
    "tags": []
   },
   "outputs": [],
   "source": [
    "np.percentile(adata_st.obs[\"area\"], 1)"
   ]
  },
  {
   "cell_type": "code",
   "execution_count": null,
   "id": "11c219b6-5dab-4696-bd13-fda857ef7913",
   "metadata": {
    "tags": []
   },
   "outputs": [],
   "source": [
    "np.percentile(adata_st.obs[\"area\"], 90)"
   ]
  },
  {
   "cell_type": "code",
   "execution_count": null,
   "id": "a0d4ba55-8afe-4067-b53a-01c63dd2339f",
   "metadata": {
    "tags": []
   },
   "outputs": [],
   "source": [
    "np.percentile(adata_st.obs[\"area\"], 50)"
   ]
  },
  {
   "cell_type": "code",
   "execution_count": null,
   "id": "99cb6e2f-f776-4d83-8b06-1ff2cf256d5b",
   "metadata": {
    "tags": []
   },
   "outputs": [],
   "source": [
    "adata_st = adata_st[(adata_st.obs[\"area\"] > 500) & (adata_st.obs[\"area\"] < (3 * adata_st.obs[\"area\"].mean())),:].copy()\n",
    "adata_st"
   ]
  },
  {
   "cell_type": "code",
   "execution_count": null,
   "id": "2784995d-390b-4a24-b225-bf6918f312ad",
   "metadata": {
    "tags": []
   },
   "outputs": [],
   "source": [
    "adata_st.obs['total_counts'].median()"
   ]
  },
  {
   "cell_type": "code",
   "execution_count": null,
   "id": "2015652d-40fe-459b-bed1-7dfd3fe47220",
   "metadata": {},
   "outputs": [],
   "source": [
    "sc.pp.filter_cells(adata_st, min_genes=2)\n",
    "sc.pp.filter_cells(adata_st, max_counts=600)\n",
    "sc.pp.filter_cells(adata_st, min_counts=10)\n",
    "adata_st"
   ]
  },
  {
   "cell_type": "code",
   "execution_count": null,
   "id": "219aab71-94cf-4ab0-8b36-e451985eaca7",
   "metadata": {
    "tags": []
   },
   "outputs": [],
   "source": [
    "adata_st.write_h5ad(\"Result/st_filtered.h5ad\")"
   ]
  },
  {
   "cell_type": "code",
   "execution_count": null,
   "id": "e4a59363-ab21-483a-8685-d7660da45f88",
   "metadata": {
    "tags": []
   },
   "outputs": [],
   "source": [
    "st_polygon.index = [str(x) for x in st_polygon.index]"
   ]
  },
  {
   "cell_type": "code",
   "execution_count": null,
   "id": "3b427e7c-3541-4255-ad6f-5c2176748299",
   "metadata": {
    "tags": []
   },
   "outputs": [],
   "source": [
    "st_polygon = st_polygon.loc[adata_st.obs_names, :].copy()\n",
    "st_polygon"
   ]
  },
  {
   "cell_type": "code",
   "execution_count": null,
   "id": "d3de6091-e24b-49b1-80bc-3f1b8c72c3f7",
   "metadata": {
    "tags": []
   },
   "outputs": [],
   "source": [
    "intersection = gpd.sjoin(st_polygon, sm_polygon, how='inner', predicate='intersects')\n",
    "intersection"
   ]
  },
  {
   "cell_type": "markdown",
   "id": "b028201a-edc6-4338-8ef0-8e5e8f4c1e09",
   "metadata": {},
   "source": []
  },
  {
   "cell_type": "markdown",
   "id": "ba87475f-2ff7-4eb2-95f9-7a263f1bc73f",
   "metadata": {},
   "source": [
    "## 处理intersection, 并记录相交面积，依据SpaceM"
   ]
  },
  {
   "cell_type": "markdown",
   "id": "772d3234-2b41-463d-a3aa-0828836d68ee",
   "metadata": {},
   "source": [
    "* 细胞分割与MALDI的格子相交面积需占MALDI格子面积的45%以上，约为720个平方像素。这个相交部分称之为 sampling_area  \n",
    "* 若ablation marker和多个细胞相交，若其中一个cell的sampling_area占总相交面积的90%以上，则保留该ablation marker  \n",
    "* 所有保留的ablation marker的位置信息改成对应细胞的中心；\n",
    "* 最终保留下来的ablation marker可以进行一步merge，若两个保留的ablation marker的sampling area来自同一个细胞，直接相加，sampling specificity根据Sampling area加权平均\n",
    "* 最后根据sampling area进行intensity的矫正，RMS矫正过的信号先根据sampling_area的占ablation marker的比例进行normalize；  "
   ]
  },
  {
   "cell_type": "markdown",
   "id": "e5a16c4a-94d1-448f-9b68-57947a588491",
   "metadata": {},
   "source": [
    "### intersection的index是st的细胞，是排好序的，index_right是sm的ablation marker index"
   ]
  },
  {
   "cell_type": "code",
   "execution_count": null,
   "id": "a55b82d9-c688-4553-a2f5-0e7cb79658b2",
   "metadata": {
    "tags": []
   },
   "outputs": [],
   "source": [
    "intersection['index_st'] = intersection.index\n",
    "intersection['index_sm'] = intersection['index_right'].copy()\n",
    "intersection"
   ]
  },
  {
   "cell_type": "code",
   "execution_count": null,
   "id": "1687d7f2-3d54-4c3d-80ba-ea517042c1af",
   "metadata": {
    "tags": []
   },
   "outputs": [],
   "source": [
    "intersection = intersection.set_index('index_right', drop = True)\n",
    "intersection"
   ]
  },
  {
   "cell_type": "code",
   "execution_count": null,
   "id": "78c00747-7259-4beb-be9a-6dc8d1d2d188",
   "metadata": {
    "tags": []
   },
   "outputs": [],
   "source": [
    "# 查看ablation marker和细胞的交集情况，先第一遍遍历记录cell_area，ablation_area面积和 sampling area\n",
    "from tqdm import tqdm\n",
    "\n",
    "cell_areas = []\n",
    "ablation_areas = []\n",
    "sampling_areas = []\n",
    "\n",
    "for _, row in tqdm(intersection.iterrows()):\n",
    "    \n",
    "    st_idx = row['index_st']\n",
    "    sm_idx = row['index_sm']\n",
    "    \n",
    "    ablation_marker = sm_polygon.loc[sm_idx, 'geometry']\n",
    "    cell_segmentation = st_polygon.loc[st_idx, 'geometry']\n",
    "    \n",
    "    cell_areas.append(cell_segmentation.area)\n",
    "    ablation_areas.append(ablation_marker.area)\n",
    "    sampling_areas.append(ablation_marker.intersection(cell_segmentation).area)"
   ]
  },
  {
   "cell_type": "code",
   "execution_count": null,
   "id": "402f3c30-f1b1-4b7b-9ce5-2b1c7721c7db",
   "metadata": {
    "tags": []
   },
   "outputs": [],
   "source": [
    "intersection['cell_area'] = cell_areas\n",
    "intersection['ablation_area'] = ablation_areas\n",
    "intersection['sampling_area'] = sampling_areas"
   ]
  },
  {
   "cell_type": "code",
   "execution_count": null,
   "id": "2d360047-179c-4b78-a9e9-23fb5e242005",
   "metadata": {
    "tags": []
   },
   "outputs": [],
   "source": [
    "intersection"
   ]
  },
  {
   "cell_type": "code",
   "execution_count": null,
   "id": "101e8863-8a37-4fe2-ac0f-ef74d9413ee0",
   "metadata": {
    "tags": []
   },
   "outputs": [],
   "source": [
    "criteria1 = (intersection['sampling_area'] - intersection['ablation_area'] * 0.45) > 0"
   ]
  },
  {
   "cell_type": "code",
   "execution_count": null,
   "id": "dfe7816c-c740-4bb3-acfe-eacf8db813fe",
   "metadata": {
    "tags": []
   },
   "outputs": [],
   "source": [
    "intersection['criteria1'] = criteria1"
   ]
  },
  {
   "cell_type": "code",
   "execution_count": null,
   "id": "388583b7-3bb2-40d6-9949-62cc3aa688ca",
   "metadata": {
    "scrolled": true,
    "tags": []
   },
   "outputs": [],
   "source": [
    "intersection = intersection.sort_index()\n",
    "intersection"
   ]
  },
  {
   "cell_type": "code",
   "execution_count": null,
   "id": "90893ccd-80b4-40a0-b810-086adbc95d2e",
   "metadata": {
    "tags": []
   },
   "outputs": [],
   "source": [
    "# 第二遍遍历记录sampling_specificity\n",
    "\n",
    "sampling_specificities = []\n",
    "\n",
    "for idx in tqdm(intersection.index.unique()):\n",
    "    \n",
    "    if isinstance(intersection.loc[idx,:], pd.core.frame.Series):\n",
    "        sampling_specificities.append(1.0)\n",
    "    else:\n",
    "        \n",
    "        tmp_gdf = intersection.loc[idx, :].copy()\n",
    "        \n",
    "        batch_total_sampling_area = tmp_gdf['sampling_area'].sum()\n",
    "        for batch_sampling_area in tmp_gdf['sampling_area']:\n",
    "            sampling_specificities.append(batch_sampling_area/batch_total_sampling_area)"
   ]
  },
  {
   "cell_type": "code",
   "execution_count": null,
   "id": "f2530464-ccf4-4e8a-9909-d85ee276f4a7",
   "metadata": {
    "tags": []
   },
   "outputs": [],
   "source": [
    "intersection['sampling_specificity'] = sampling_specificities\n",
    "intersection"
   ]
  },
  {
   "cell_type": "code",
   "execution_count": null,
   "id": "a84f3f67-1a48-4b1e-96cb-e5965c4a3db7",
   "metadata": {
    "tags": []
   },
   "outputs": [],
   "source": [
    "criteria2 = intersection['sampling_specificity'] > 0.9\n",
    "intersection['criteria2'] = criteria2\n",
    "intersection"
   ]
  },
  {
   "cell_type": "code",
   "execution_count": null,
   "id": "12d4113b-a523-4299-abf5-27da1d06b61c",
   "metadata": {
    "tags": []
   },
   "outputs": [],
   "source": [
    "intersection['criteria1'] & intersection['criteria2']"
   ]
  },
  {
   "cell_type": "code",
   "execution_count": null,
   "id": "f55e9c7c-3ea8-4b5a-9425-91e0e76b953b",
   "metadata": {
    "tags": []
   },
   "outputs": [],
   "source": [
    "intersection = intersection[intersection['criteria1'] & intersection['criteria2']].copy()"
   ]
  },
  {
   "cell_type": "code",
   "execution_count": null,
   "id": "4ef4d463-45e6-486e-ad66-69dcae34501f",
   "metadata": {
    "tags": []
   },
   "outputs": [],
   "source": [
    "intersection"
   ]
  },
  {
   "cell_type": "code",
   "execution_count": null,
   "id": "61cc5a85-d5e2-4255-aa98-249b5526e283",
   "metadata": {
    "tags": []
   },
   "outputs": [],
   "source": [
    "if len(intersection['index_st'].unique()) < len(intersection):\n",
    "    print('需要进行Ablation marker merge')"
   ]
  },
  {
   "cell_type": "code",
   "execution_count": null,
   "id": "e7affa43-6cd6-4386-baa5-0a31d893da66",
   "metadata": {
    "tags": []
   },
   "outputs": [],
   "source": [
    "intersection = intersection.set_index('index_st', drop = False)\n",
    "intersection"
   ]
  },
  {
   "cell_type": "code",
   "execution_count": null,
   "id": "b300e352-27a5-4bc9-9090-28b8ea97bd43",
   "metadata": {
    "tags": []
   },
   "outputs": [],
   "source": [
    "intersection = intersection.sort_index()\n",
    "intersection"
   ]
  },
  {
   "cell_type": "code",
   "execution_count": null,
   "id": "5db51def-27fd-412f-bdba-596d85e31b87",
   "metadata": {
    "tags": []
   },
   "outputs": [],
   "source": [
    "# 第三遍遍历merge用了同一个细胞的ablation marker\n",
    "\n",
    "new_ablation_areas = []\n",
    "new_sampling_areas = []\n",
    "new_sampleing_specificities = []\n",
    "\n",
    "sampling_specificities = []\n",
    "\n",
    "for idx in tqdm(intersection.index.unique()):\n",
    "    \n",
    "    if isinstance(intersection.loc[idx,:], pd.core.frame.Series):\n",
    "        new_ablation_areas.append(intersection.loc[idx,'ablation_area'])\n",
    "        new_sampling_areas.append(intersection.loc[idx,'sampling_area'])\n",
    "        new_sampleing_specificities.append(intersection.loc[idx,'sampling_specificity'])\n",
    "        \n",
    "    else:\n",
    "        \n",
    "        tmp_gdf = intersection.loc[idx, :].copy()\n",
    "        \n",
    "        tmp_ablation_area = tmp_gdf['ablation_area'].sum()\n",
    "        tmp_sampling_area = tmp_gdf['sampling_area'].sum()\n",
    "        tmp_sampling_specificity = (tmp_gdf['sampling_area'] * tmp_gdf['sampling_specificity']).sum()/tmp_sampling_area\n",
    "        \n",
    "        new_ablation_areas.extend([tmp_ablation_area] * len(tmp_gdf))\n",
    "        new_sampling_areas.extend([tmp_sampling_area] * len(tmp_gdf))\n",
    "        new_sampleing_specificities.extend([tmp_sampling_specificity] * len(tmp_gdf))"
   ]
  },
  {
   "cell_type": "code",
   "execution_count": null,
   "id": "7558a81a-100d-473a-a289-0891b74bafa5",
   "metadata": {
    "tags": []
   },
   "outputs": [],
   "source": [
    "intersection['new_ablation_area'] = new_ablation_areas\n",
    "intersection['new_sampling_area'] = new_sampling_areas\n",
    "intersection['new_sampling_specificity'] = new_sampleing_specificities"
   ]
  },
  {
   "cell_type": "code",
   "execution_count": null,
   "id": "dad2871c-46b2-49c6-800f-535c9fe28db0",
   "metadata": {
    "tags": []
   },
   "outputs": [],
   "source": [
    "intersection"
   ]
  },
  {
   "cell_type": "code",
   "execution_count": null,
   "id": "6383c0e6-4306-47f9-9385-b0940dd5d5e2",
   "metadata": {
    "tags": []
   },
   "outputs": [],
   "source": [
    "intersection = intersection[['index_st', 'index_sm', 'new_ablation_area', 'new_sampling_area', 'new_sampling_specificity']].copy()"
   ]
  },
  {
   "cell_type": "code",
   "execution_count": null,
   "id": "94298a63-d202-4306-a49f-dd9e8fd39478",
   "metadata": {
    "tags": []
   },
   "outputs": [],
   "source": [
    "intersection.columns = ['index_st', 'index_sm', 'ablation_area', 'sampling_area', 'sampling_specificity']"
   ]
  },
  {
   "cell_type": "code",
   "execution_count": null,
   "id": "f7fa92bb-18c2-4557-b1c0-b87d6b2dbda2",
   "metadata": {
    "tags": []
   },
   "outputs": [],
   "source": [
    "Final_join_df = intersection.reset_index(drop=True)"
   ]
  },
  {
   "cell_type": "raw",
   "id": "3c383e4f-865a-4258-b575-fb6521f18760",
   "metadata": {
    "tags": []
   },
   "source": [
    "Final_join_df = Final_join_df.drop_duplicates('index_st')"
   ]
  },
  {
   "cell_type": "code",
   "execution_count": null,
   "id": "033bc588-87e5-4e12-b1c5-03486b422d15",
   "metadata": {
    "tags": []
   },
   "outputs": [],
   "source": [
    "Final_join_df.to_csv(\"Result/Cortex_join_df.csv\", index=False)"
   ]
  },
  {
   "cell_type": "code",
   "execution_count": null,
   "id": "522fe512-9ff2-4a24-a07d-1b6d2158877e",
   "metadata": {},
   "outputs": [],
   "source": []
  },
  {
   "cell_type": "code",
   "execution_count": null,
   "id": "771a74df-1d71-475a-87ee-9e99fe613df0",
   "metadata": {
    "tags": []
   },
   "outputs": [],
   "source": [
    "import scanpy as sc\n",
    "from celllens.utils import *\n",
    "import os\n",
    "from tqdm import tqdm\n",
    "from celllens.preprocessing import *\n",
    "from celllens.datasets import *\n",
    "from celllens.celllens import *\n",
    "import pandas as pd"
   ]
  },
  {
   "cell_type": "code",
   "execution_count": null,
   "id": "d8f1063a-8c42-4a38-bf16-cde05a211ef6",
   "metadata": {
    "tags": []
   },
   "outputs": [],
   "source": [
    "adata = sc.read_h5ad(\"Result/FISH_Cortex_all.h5ad\")\n",
    "adata"
   ]
  },
  {
   "cell_type": "code",
   "execution_count": null,
   "id": "889f4855-1aa7-427b-9386-ad9597224f9e",
   "metadata": {},
   "outputs": [],
   "source": []
  },
  {
   "cell_type": "code",
   "execution_count": null,
   "id": "d3b5d37e-dabc-4aeb-9f1b-a8f68d0a8f42",
   "metadata": {},
   "outputs": [],
   "source": []
  },
  {
   "cell_type": "code",
   "execution_count": null,
   "id": "29661a7f-daa3-44e1-89a9-da8bfdc1267d",
   "metadata": {
    "scrolled": true,
    "tags": []
   },
   "outputs": [],
   "source": [
    "df = adata.to_df(layer = 'counts_corrected')\n",
    "df"
   ]
  },
  {
   "cell_type": "code",
   "execution_count": null,
   "id": "a190a9c2-0c56-4620-aca0-8c0be30a304f",
   "metadata": {
    "tags": []
   },
   "outputs": [],
   "source": [
    "df['x'] = adata.obs['x']\n",
    "df['y'] = adata.obs['y']\n",
    "#df['area'] = adata.obs['area']\n",
    "df['leiden'] = adata.obs['leiden']"
   ]
  },
  {
   "cell_type": "code",
   "execution_count": null,
   "id": "e4a85674-9239-49ba-8c5b-57bdacb33f71",
   "metadata": {
    "tags": []
   },
   "outputs": [],
   "source": [
    "df"
   ]
  },
  {
   "cell_type": "code",
   "execution_count": null,
   "id": "07f29730-3cd3-41ec-a1f3-917e0609750f",
   "metadata": {
    "tags": []
   },
   "outputs": [],
   "source": [
    "Rep2_dataset = LENS_Dataset(df,\n",
    "                              features_list=adata.var_names.to_list(),\n",
    "                              nbhd_composition=15,\n",
    "                              feature_neighbor=15,\n",
    "                              spatial_neighbor=15,\n",
    "                              path2img=None,\n",
    "                             use_transform = False) # Not used -  processed image saving location - in later steps"
   ]
  },
  {
   "cell_type": "code",
   "execution_count": null,
   "id": "5731f1e7-fb60-47c3-8815-728948cad9f5",
   "metadata": {
    "tags": []
   },
   "outputs": [],
   "source": [
    "import warnings\n",
    "warnings.filterwarnings('ignore')\n",
    "\n",
    "Rep2_dataset.initialize(cent_x=\"x\", # x loc of cells\n",
    "                          cent_y=\"y\", # y loc of cells\n",
    "                          celltype=\"feature_labels\", # default option - run leiden to initialize the clusters\n",
    "                          pca_components=25, # PCA components to use, user decide \n",
    "                          cluster_res=2.0) # leiden initialization resolution"
   ]
  },
  {
   "cell_type": "code",
   "execution_count": null,
   "id": "0579a222-90dc-4fa4-89b4-4c7e23450d69",
   "metadata": {
    "tags": []
   },
   "outputs": [],
   "source": [
    "# check the training label\n",
    "Rep2_dataset.dual_labels.shape # should be cluster number x 2"
   ]
  },
  {
   "cell_type": "code",
   "execution_count": null,
   "id": "cef45bdd-f174-426e-bb17-aa4f1fb6f437",
   "metadata": {
    "tags": []
   },
   "outputs": [],
   "source": [
    "device = 'cuda' if torch.cuda.is_available() else 'cpu'\n",
    "Rep2_celllens = CellLENS(Rep2_dataset,\n",
    "                           device,\n",
    "                           cnn_model=False, ### NOTE here set to no cnn model\n",
    "                           cnn_latent_dim=128,\n",
    "                           gnn_latent_dim=32,\n",
    "                          ) # generally these parameters no need to change"
   ]
  },
  {
   "cell_type": "code",
   "execution_count": null,
   "id": "a3785e60-2595-4992-8a1d-ffab3cff7450",
   "metadata": {
    "scrolled": true,
    "tags": []
   },
   "outputs": [],
   "source": [
    "Rep2_celllens.get_lens_embedding(round=5,\n",
    "                                   k=32,\n",
    "                                   learning_rate=1e-3,\n",
    "                                   n_epochs=5000,\n",
    "                                   loss_fn='MSELoss',\n",
    "                                   OptimizerAlg='Adam',\n",
    "                                   optimizer_kwargs={},\n",
    "                                   SchedulerAlg=None,\n",
    "                                   scheduler_kwargs={},\n",
    "                                   verbose=True) # generally these parameters do not need to change"
   ]
  },
  {
   "cell_type": "code",
   "execution_count": null,
   "id": "6eab184b-b633-4e6c-a54a-38b3a477708e",
   "metadata": {
    "tags": []
   },
   "outputs": [],
   "source": [
    "# the resulting CellLENS embedding is stored here:\n",
    "pd.DataFrame(Rep2_celllens.lens_embedding)"
   ]
  },
  {
   "cell_type": "code",
   "execution_count": null,
   "id": "30163fa4-d55b-473c-971a-91943d0ec183",
   "metadata": {
    "tags": []
   },
   "outputs": [],
   "source": [
    "Rep2_celllens.get_lens_clustering(neighbor=15, # standard leiden parameter\n",
    "                                    resolution=1.0, # resolution for leiden - specific\n",
    "                                    entropy_threshold=0.75, # CellLENS parameter - generally no change needed\n",
    "                                    concen_threshold=1, # CellLENS parameter - generally no change needed\n",
    "                                    max_breaks=3, # CellLENS parameter - generally no change needed\n",
    "                                    size_lim=50 # CellLENS parameter - smallest cluster size allowed\n",
    "                                   )"
   ]
  },
  {
   "cell_type": "code",
   "execution_count": null,
   "id": "37cd4697-41a4-40e2-b4ba-d7517494cc1e",
   "metadata": {
    "tags": []
   },
   "outputs": [],
   "source": [
    "Rep2_celllens.visualize_umap(Rep2_celllens.lens_embedding, Rep2_celllens.lens_clustering)"
   ]
  },
  {
   "cell_type": "code",
   "execution_count": null,
   "id": "b5d2cd84-b8ea-4b4f-b311-889ccd41325c",
   "metadata": {
    "tags": []
   },
   "outputs": [],
   "source": [
    "adata.obsm['CellLENS'] = Rep2_celllens.lens_embedding\n",
    "adata.obs['lens_cluster'] = Rep2_celllens.lens_clustering"
   ]
  },
  {
   "cell_type": "code",
   "execution_count": null,
   "id": "5d7efaa0-a565-4c9a-a113-0a81b4976fdb",
   "metadata": {
    "tags": []
   },
   "outputs": [],
   "source": [
    "sc.set_figure_params(figsize=(11,6))\n",
    "sc.pl.embedding(adata, basis = 'spatial', color = 'lens_cluster', size = 3)"
   ]
  },
  {
   "cell_type": "code",
   "execution_count": null,
   "id": "48e41f14-d484-4b6b-b3e3-f17de1c38d5d",
   "metadata": {
    "tags": []
   },
   "outputs": [],
   "source": [
    "adata.write_h5ad(\"Result/FISH_Cortex_all_cellLens.h5ad\")"
   ]
  },
  {
   "cell_type": "code",
   "execution_count": null,
   "id": "8d73c352-ec56-4a30-b16a-c466db97a2a5",
   "metadata": {},
   "outputs": [],
   "source": []
  },
  {
   "cell_type": "code",
   "execution_count": null,
   "id": "ef4c1e15-0271-423d-b8f9-8bd97f393c38",
   "metadata": {
    "tags": []
   },
   "outputs": [],
   "source": [
    "import scanpy as sc\n",
    "import cosg\n",
    "import pandas as pd"
   ]
  },
  {
   "cell_type": "code",
   "execution_count": null,
   "id": "69b9161a-706a-4907-a4cd-fcb157a12a3a",
   "metadata": {},
   "outputs": [],
   "source": []
  },
  {
   "cell_type": "code",
   "execution_count": null,
   "id": "cb7eda26-9f22-4fd8-be6b-8f4f0485deb1",
   "metadata": {},
   "outputs": [],
   "source": [
    "adata = sc.read_h5ad(\"Result/FISH_Cortex_all_cellLens.h5ad\")"
   ]
  },
  {
   "cell_type": "code",
   "execution_count": null,
   "id": "44ea074b-ba59-445b-824c-07826ebd0f29",
   "metadata": {
    "tags": []
   },
   "outputs": [],
   "source": [
    "adata"
   ]
  },
  {
   "cell_type": "code",
   "execution_count": null,
   "id": "c6c76ee0-fd09-4ca2-9c08-a984d7547cf7",
   "metadata": {
    "scrolled": true,
    "tags": []
   },
   "outputs": [],
   "source": [
    "groupby='lens_cluster'\n",
    "cosg.cosg(adata, key_added='cosg_leiden',\n",
    "          # use_raw=False, layer='log1p', ## e.g., if you want to use the log1p layer in adata\n",
    "          mu=1,\n",
    "          expressed_pct=0.1,\n",
    "          remove_lowly_expressed=True,\n",
    "          n_genes_user=10,\n",
    "          groupby=groupby)\n",
    "\n",
    "import pandas as pd\n",
    "pd.DataFrame(adata.uns[\"cosg_leiden\"][\"names\"]).to_csv('LPS_Cortex_cosg.csv')"
   ]
  },
  {
   "cell_type": "code",
   "execution_count": null,
   "id": "c6541639-29b5-4d12-9acd-9b4998402ebc",
   "metadata": {
    "scrolled": true,
    "tags": []
   },
   "outputs": [],
   "source": [
    "sc.pp.neighbors(adata, use_rep='CellLENS')\n",
    "sc.tl.umap(adata)"
   ]
  },
  {
   "cell_type": "code",
   "execution_count": null,
   "id": "0f963576-6441-42ec-81de-5f7da0cdfa19",
   "metadata": {
    "tags": []
   },
   "outputs": [],
   "source": [
    "sc.pl.umap(adata, color = ['lens_cluster', 'Penk'], size = 10, wspace = 0.5, groups = ['6'])"
   ]
  },
  {
   "cell_type": "code",
   "execution_count": null,
   "id": "839ab5ce-4945-4ddf-9f61-ef119e19c707",
   "metadata": {
    "tags": []
   },
   "outputs": [],
   "source": [
    "sc.pl.embedding(adata, basis=\"spatial\", color=\"lens_cluster\", size = 10, groups=['7'])"
   ]
  },
  {
   "cell_type": "raw",
   "id": "a7c81fd1-cb30-4bfc-bdf6-22589453d670",
   "metadata": {
    "tags": []
   },
   "source": [
    "adata.write_h5ad(\"Result/FISH_Cortex_all.h5ad\")"
   ]
  },
  {
   "cell_type": "code",
   "execution_count": null,
   "id": "4b1fb4fd-4561-462d-b208-add0533b24ca",
   "metadata": {},
   "outputs": [],
   "source": [
    "annotation_dict = {\n",
    "    '0': 'Microglia',\n",
    "    '1': 'Ext L6 CT',\n",
    "    '2': 'Inh Other',\n",
    "    '3': 'Endo',\n",
    "    '4': 'Ext L4/5 IT',\n",
    "    '5': 'Ext L4/5 IT',\n",
    "    '6': 'Unknown',\n",
    "    '7': 'Ext L2/3 IT',\n",
    "    '8': 'Inh Other',\n",
    "    '9': 'Ext L5 IT',\n",
    "    '10': 'Mural',\n",
    "    '11': 'Ext L4 RSP-ACA',\n",
    "    '12': 'Ext L5 ET/NP',\n",
    "    '13': 'Astro',\n",
    "    '14': 'Ext L2/3 IT',\n",
    "    '15': 'Ext L4/5 IT',\n",
    "    '16': 'Ext L5 ET/NP',\n",
    "    '17': 'OPC',\n",
    "    '18': 'Oligo',\n",
    "    '19': 'Fibro',\n",
    "    '20': 'Endo',\n",
    "    '21': 'Ext L5 IT',\n",
    "    '22': 'Inh Lamp5',\n",
    "    '23': 'Inh Pvalb',\n",
    "    '24': 'Inh Sst',\n",
    "    '25': 'Ext L4 RSP-ACA',\n",
    "    '26': 'Inh Vip',\n",
    "    '27': 'Ext L5 ET/NP',\n",
    "    '28': 'Ext L5 IT',\n",
    "    '29': 'Astro',\n",
    "    '30': 'Fibro',\n",
    "    '31': 'Endo',\n",
    "    '32': 'Ext L4/5 IT',\n",
    "    '33': 'Ext L5 IT',\n",
    "    '34': 'Unknown',\n",
    "    '35': 'Oligo',\n",
    "    '36': 'Unknown',\n",
    "    '37': 'Inh Sst',\n",
    "    '38': 'Inh Sst',\n",
    "    '39': 'Astro',\n",
    "    '40': 'Astro',\n",
    "    '41': 'Ext L5 IT',\n",
    "    '42': 'Ext L4 RSP-ACA',\n",
    "    '43': 'Ext L4/5 IT',\n",
    "    '44': 'Ext L5 ET/NP',\n",
    "    '45': 'Mural',\n",
    "    '46': 'Ext L4/5 IT',\n",
    "    '47': 'Endo',\n",
    "    '48': 'Fibro',\n",
    "    '49': 'Unknown',\n",
    "}"
   ]
  },
  {
   "cell_type": "code",
   "execution_count": null,
   "id": "fc694cf0-0cc6-4bf4-aad5-9947adfcf76a",
   "metadata": {
    "tags": []
   },
   "outputs": [],
   "source": [
    "adata.obs['cell_type'] = [annotation_dict[x] for x in adata.obs['lens_cluster']]"
   ]
  },
  {
   "cell_type": "code",
   "execution_count": null,
   "id": "53ad4445-de9d-47eb-a2a7-efdba939dc9e",
   "metadata": {
    "tags": []
   },
   "outputs": [],
   "source": [
    "sc.pl.embedding(adata, basis=\"spatial\", color=\"lens_cluster\", size = 10, groups = ['4', '5'])"
   ]
  },
  {
   "cell_type": "code",
   "execution_count": null,
   "id": "6d79ae0d-fcce-45ae-a5e2-515e0179bc6c",
   "metadata": {
    "tags": []
   },
   "outputs": [],
   "source": [
    "import numpy as np"
   ]
  },
  {
   "cell_type": "code",
   "execution_count": null,
   "id": "09e5aa88-8320-4d4b-b4d4-2905b73bac9a",
   "metadata": {
    "tags": []
   },
   "outputs": [],
   "source": [
    "cell_type_list = np.array([annotation_dict[x] for x in adata.obs['lens_cluster']])"
   ]
  },
  {
   "cell_type": "code",
   "execution_count": null,
   "id": "f413ef2b-3284-4562-9bed-6c9867469b54",
   "metadata": {
    "tags": []
   },
   "outputs": [],
   "source": [
    "sc.pl.umap(mdata, color = ['cell_type2'], size = 10)"
   ]
  },
  {
   "cell_type": "code",
   "execution_count": null,
   "id": "0e7af4a1-60be-4efe-a7a5-0525c7e4906c",
   "metadata": {},
   "outputs": [],
   "source": [
    "sc.pl.umap(adata, color = ['cell_type2'], size = 10)"
   ]
  },
  {
   "cell_type": "code",
   "execution_count": null,
   "id": "60483567-c771-40d2-b4b0-f4f52c981203",
   "metadata": {},
   "outputs": [],
   "source": []
  },
  {
   "cell_type": "code",
   "execution_count": null,
   "id": "9017d067-8b93-4e5a-ba94-8419b66b36f9",
   "metadata": {
    "tags": []
   },
   "outputs": [],
   "source": [
    "adata.obs['cell_type'] = cell_type_list"
   ]
  },
  {
   "cell_type": "code",
   "execution_count": null,
   "id": "75c465a3-e0f0-426a-be26-624745714a3a",
   "metadata": {
    "tags": []
   },
   "outputs": [],
   "source": [
    "sc.pl.embedding(adata, basis=\"spatial\", color=\"cell_type\", size = 10, groups='Macrophage')"
   ]
  },
  {
   "cell_type": "code",
   "execution_count": null,
   "id": "b16b14e6-580f-43f1-a3d7-bba34b3501e7",
   "metadata": {
    "tags": []
   },
   "outputs": [],
   "source": [
    "adata.write_h5ad(\"Result/FISH_Cortex_all_cellLens_annotated.h5ad\")"
   ]
  },
  {
   "cell_type": "code",
   "execution_count": null,
   "id": "98798c39-1e34-49c8-a292-e35e1978bf61",
   "metadata": {
    "tags": []
   },
   "outputs": [],
   "source": [
    "adata = sc.read_h5ad(\"Result/FISH_Cortex_all_cellLens_annotated.h5ad\")"
   ]
  },
  {
   "cell_type": "code",
   "execution_count": null,
   "id": "dd2db582-3148-4a56-b875-b4d36cd814ba",
   "metadata": {},
   "outputs": [],
   "source": []
  },
  {
   "cell_type": "code",
   "execution_count": null,
   "id": "a953cc5c-6c24-4b5b-8fcc-d007c516548d",
   "metadata": {},
   "outputs": [],
   "source": [
    "adata_sm = sc.read_h5ad(\"/media/duan/sda2/MALDI/Data/LPS_01/LPS_Scaled_Reg2.h5ad\")\n",
    "adata_sm"
   ]
  },
  {
   "cell_type": "code",
   "execution_count": null,
   "id": "a565258c-0d05-4f3b-8651-ad55492b6c72",
   "metadata": {},
   "outputs": [],
   "source": [
    "join_df = join_df.set_index('index_st', drop = False)\n",
    "join_df"
   ]
  },
  {
   "cell_type": "code",
   "execution_count": null,
   "id": "37f06608-d127-4bf9-82ab-c73584e961ed",
   "metadata": {
    "tags": []
   },
   "outputs": [],
   "source": [
    "join_df = join_df.loc[[int(x) for x in adata.obs_names], :]"
   ]
  },
  {
   "cell_type": "code",
   "execution_count": null,
   "id": "98087398-1c30-48cd-a894-57e0a6916ac7",
   "metadata": {
    "tags": []
   },
   "outputs": [],
   "source": [
    "join_df"
   ]
  },
  {
   "cell_type": "code",
   "execution_count": null,
   "id": "301f72b7-971e-44cc-a6b3-dccb0cc59f3f",
   "metadata": {
    "tags": []
   },
   "outputs": [],
   "source": [
    "adata_sm = adata_sm[[str(x) for x in join_df['index_sm']]].copy()\n",
    "adata_sm"
   ]
  },
  {
   "cell_type": "code",
   "execution_count": null,
   "id": "f60e1814-25fa-4e03-9c5c-f52542dfacb5",
   "metadata": {
    "tags": []
   },
   "outputs": [],
   "source": [
    "RMS_df = adata_sm.to_df()"
   ]
  },
  {
   "cell_type": "code",
   "execution_count": null,
   "id": "f1d0d7b9-2ba4-4a70-aaec-32d55934536d",
   "metadata": {
    "tags": []
   },
   "outputs": [],
   "source": [
    "RMS_df"
   ]
  },
  {
   "cell_type": "code",
   "execution_count": null,
   "id": "32818c9d-3a87-40c1-930d-84774a33640e",
   "metadata": {
    "tags": []
   },
   "outputs": [],
   "source": [
    "RMS_df['index_st'] = join_df['index_st'].to_numpy()\n",
    "RMS_df['index_sm'] = join_df['index_sm'].to_numpy()\n",
    "# RMS_df['sampling_specificity'] = join_df['sampling_specificity'].to_numpy()\n",
    "# RMS_df = RMS_df.set_index('index_st', drop = False)\n",
    "RMS_df"
   ]
  },
  {
   "cell_type": "code",
   "execution_count": null,
   "id": "a0bef40d-90c3-4518-b74d-170619a707f7",
   "metadata": {
    "tags": []
   },
   "outputs": [],
   "source": [
    "RMS_df = RMS_df.groupby('index_st').sum()"
   ]
  },
  {
   "cell_type": "code",
   "execution_count": null,
   "id": "41e329fd-368c-4ff7-8208-85d78f3813fa",
   "metadata": {
    "tags": []
   },
   "outputs": [],
   "source": [
    "RMS_df"
   ]
  },
  {
   "cell_type": "code",
   "execution_count": null,
   "id": "698ea293-98fb-48ba-8a6b-2eec2c48024e",
   "metadata": {
    "tags": []
   },
   "outputs": [],
   "source": [
    "join_df = join_df.drop_duplicates('index_st')"
   ]
  },
  {
   "cell_type": "code",
   "execution_count": null,
   "id": "7b279c5e-2407-4d2e-82e5-285b93df07d5",
   "metadata": {
    "tags": []
   },
   "outputs": [],
   "source": [
    "join_df = join_df.loc[RMS_df.index,:].copy()"
   ]
  },
  {
   "cell_type": "code",
   "execution_count": null,
   "id": "27e63ec2-b8af-4748-8751-0d19f9bd0110",
   "metadata": {
    "tags": []
   },
   "outputs": [],
   "source": [
    "RMS_df = RMS_df * (join_df['sampling_area'] / join_df['ablation_area']).to_numpy().reshape(-1,1)"
   ]
  },
  {
   "cell_type": "code",
   "execution_count": null,
   "id": "89fd4297-e063-45d1-8676-8877231534a5",
   "metadata": {
    "tags": []
   },
   "outputs": [],
   "source": [
    "RMS_df = RMS_df.iloc[:, 0:-1]"
   ]
  },
  {
   "cell_type": "code",
   "execution_count": null,
   "id": "b02e3db4-3e1e-49df-88d2-e0da62fdad59",
   "metadata": {
    "tags": []
   },
   "outputs": [],
   "source": [
    "RMS_df"
   ]
  },
  {
   "cell_type": "code",
   "execution_count": null,
   "id": "14a5b96e-dfef-49c0-bafe-49a3ffca5d96",
   "metadata": {
    "tags": []
   },
   "outputs": [],
   "source": [
    "adata_sm = sc.AnnData(RMS_df)"
   ]
  },
  {
   "cell_type": "code",
   "execution_count": null,
   "id": "1e8458ba-c911-4942-ac52-7a5fa6896b92",
   "metadata": {
    "tags": []
   },
   "outputs": [],
   "source": [
    "adata.obs"
   ]
  },
  {
   "cell_type": "code",
   "execution_count": null,
   "id": "e161d0da-69d5-4aa5-b8ef-342498ee1e2a",
   "metadata": {
    "tags": []
   },
   "outputs": [],
   "source": [
    "adata_sm = adata_sm[adata.obs_names,:].copy()\n",
    "adata_sm.obs['x'] = adata.obs['x']\n",
    "adata_sm.obs['x'] = adata.obs['x']\n",
    "adata_sm.obs['cell_type'] = adata.obs['cell_type']\n",
    "adata_sm.obsm['spatial'] = adata.obsm['spatial']"
   ]
  },
  {
   "cell_type": "code",
   "execution_count": null,
   "id": "5dabf406-6c4d-4e12-a941-bcee4098d6e0",
   "metadata": {
    "tags": []
   },
   "outputs": [],
   "source": [
    "adata_sm.write_h5ad(\"Result/MALDI_Cortex_norm_annotated.h5ad\")"
   ]
  },
  {
   "cell_type": "code",
   "execution_count": null,
   "id": "6784db6e-74bc-427b-8530-19e86f443106",
   "metadata": {},
   "outputs": [],
   "source": []
  },
  {
   "cell_type": "code",
   "execution_count": null,
   "id": "3c180cc6-9259-4590-b35d-9e5fc213bc8e",
   "metadata": {},
   "outputs": [],
   "source": []
  },
  {
   "cell_type": "code",
   "execution_count": null,
   "id": "679cbbe5-fcfd-4c97-94e9-1d5b7bc44824",
   "metadata": {},
   "outputs": [],
   "source": []
  },
  {
   "cell_type": "code",
   "execution_count": null,
   "id": "d3f43562-5770-4862-b8e9-42e632626d4c",
   "metadata": {
    "tags": []
   },
   "outputs": [],
   "source": [
    "mdata = sc.read_h5ad(\"Result/MALDI_Cortex_norm_annotated_filtered.h5ad\")\n",
    "mdata"
   ]
  },
  {
   "cell_type": "code",
   "execution_count": null,
   "id": "7e93e4b7-3826-4579-bc32-f7c6ef92d545",
   "metadata": {
    "tags": []
   },
   "outputs": [],
   "source": [
    "cidx = [x for x in mdata.obs_names if x in adata.obs_names]"
   ]
  },
  {
   "cell_type": "code",
   "execution_count": null,
   "id": "d74e8025-9498-4436-8add-3ed450546924",
   "metadata": {
    "tags": []
   },
   "outputs": [],
   "source": [
    "adata = adata[cidx,:].copy()\n",
    "mdata = mdata[cidx,:].copy()"
   ]
  },
  {
   "cell_type": "code",
   "execution_count": null,
   "id": "f054ffdb-6300-4cdb-951b-4ab85eebd3d1",
   "metadata": {
    "tags": []
   },
   "outputs": [],
   "source": [
    "mdata.obs['cell_type2'] = adata.obs['cell_type']"
   ]
  },
  {
   "cell_type": "code",
   "execution_count": null,
   "id": "29131ca0-8bd5-48f3-bbdd-7b7d0b44d068",
   "metadata": {
    "tags": []
   },
   "outputs": [],
   "source": [
    "mdata.obsm['X_umap'] = adata.obsm['X_umap']"
   ]
  },
  {
   "cell_type": "code",
   "execution_count": null,
   "id": "c46a2adc-7771-4cd8-b474-9647b4c443d5",
   "metadata": {
    "tags": []
   },
   "outputs": [],
   "source": [
    "mdata = mdata[mdata.obs['cell_type2'] != 'Unknown'].copy()"
   ]
  },
  {
   "cell_type": "code",
   "execution_count": null,
   "id": "98ebd995-c20e-44e7-a7b3-40125433d0c4",
   "metadata": {
    "tags": []
   },
   "outputs": [],
   "source": [
    "sc.set_figure_params(figsize = (6,6), dpi_save = 300)\n",
    "sc.pl.umap(mdata, color = ['cell_type2'], frameon = False, save = 'Cortex_FISH_cell_type.pdf', size = 40)"
   ]
  },
  {
   "cell_type": "code",
   "execution_count": null,
   "id": "6c9071ae-ca67-4962-87aa-36fe392ccd66",
   "metadata": {
    "tags": []
   },
   "outputs": [],
   "source": [
    "sc.set_figure_params(figsize = (6,6), dpi_save = 300)\n",
    "sc.pl.umap(mdata, color = ['772.5256'], frameon = False,size = 40)"
   ]
  },
  {
   "cell_type": "code",
   "execution_count": null,
   "id": "56441d3e-9f0d-4ef9-ba42-298916c81690",
   "metadata": {
    "tags": []
   },
   "outputs": [],
   "source": [
    "translate_dict = {\n",
    "    'Astro': 'Astro',\n",
    "    'Endo': 'Endo',\n",
    "    'Ext L2/3 IT': 'Ext',\n",
    "    'Ext L2/3 RSP': 'Ext',\n",
    "    'Ext L4 RSP-ACA': 'Ext',\n",
    "    'Ext L4/5 IT': 'Ext',\n",
    "    'Ext L5 ET/NP': 'Ext',\n",
    "    'Ext L5 IT': 'Ext',\n",
    "    'Ext L6 CT': 'Ext',\n",
    "    'Fibro': 'Fibro',\n",
    "    'Inh Other': 'Inh',\n",
    "    'Inh Vip': 'Inh',\n",
    "    'Inh Lamp5': 'Inh',\n",
    "    'Inh Pvalb': 'Inh',\n",
    "    'Inh Sst': 'Inh',\n",
    "    'Macrophage': 'Macrophage',\n",
    "    'Microglia': 'Microglia',\n",
    "    'Mural': 'Mural',\n",
    "    'OPC': 'OPC',\n",
    "    'Oligo': 'Oligo'\n",
    "}"
   ]
  },
  {
   "cell_type": "code",
   "execution_count": null,
   "id": "4d2c2e9f-6753-4815-aa6f-d5ed6fba23c7",
   "metadata": {
    "tags": []
   },
   "outputs": [],
   "source": [
    "mdata.obs['cell_class'] = [translate_dict[x] for x in mdata.obs['cell_type2']]"
   ]
  },
  {
   "cell_type": "code",
   "execution_count": null,
   "id": "13358c2f-a89a-4f31-b073-67f1a821f679",
   "metadata": {
    "tags": []
   },
   "outputs": [],
   "source": [
    "groupby='cell_class'\n",
    "cosg.cosg(mdata, key_added='cosg_cell_type',\n",
    "          # use_raw=False, layer='log1p', ## e.g., if you want to use the log1p layer in adata\n",
    "          mu=1,\n",
    "          expressed_pct=0.1,\n",
    "          remove_lowly_expressed=True,\n",
    "          n_genes_user=50,\n",
    "          groupby=groupby)"
   ]
  },
  {
   "cell_type": "code",
   "execution_count": null,
   "id": "9abc5625-a88c-4a61-9668-c05c8610f2fe",
   "metadata": {
    "scrolled": true,
    "tags": []
   },
   "outputs": [],
   "source": [
    "import pandas as pd\n",
    "df = pd.DataFrame(mdata.uns[\"cosg_cell_type\"][\"names\"])\n",
    "df"
   ]
  },
  {
   "cell_type": "code",
   "execution_count": null,
   "id": "7c68ac0c-6de6-4af1-93ef-530c12929b1a",
   "metadata": {
    "tags": []
   },
   "outputs": [],
   "source": [
    "mdata.obs['cell_class'] = mdata.obs['cell_class'].astype('category')"
   ]
  },
  {
   "cell_type": "code",
   "execution_count": null,
   "id": "88379982-8e1f-4a1c-ad4f-58e8c56a0f43",
   "metadata": {
    "tags": []
   },
   "outputs": [],
   "source": [
    "sc.tl.dendrogram(mdata, groupby = 'cell_class', use_rep = 'X')"
   ]
  },
  {
   "cell_type": "code",
   "execution_count": null,
   "id": "b70a4764-fc04-4ff4-a4cb-92dbd198a8cc",
   "metadata": {
    "tags": []
   },
   "outputs": [],
   "source": [
    "sc.set_figure_params(scanpy = False, dpi_save=300)\n",
    "sc.pl.dotplot(mdata, var_names={x: df.loc[0:4, x].to_numpy() for x in df.columns}, groupby='cell_class', \n",
    "              standard_scale='var', dendrogram=True, cmap = 'RdYlBu_r' ,figsize=(17, 4), save = 'Cortex_class_MALDI.pdf')"
   ]
  },
  {
   "cell_type": "code",
   "execution_count": null,
   "id": "577b9c10-9a94-4c5f-9e9f-365d5b988486",
   "metadata": {
    "tags": []
   },
   "outputs": [],
   "source": [
    "mdata.write_h5ad(\"Result/MALDI_Cortex_norm_cellLens_annotated_filtered.h5ad\")"
   ]
  },
  {
   "cell_type": "code",
   "execution_count": null,
   "id": "d82a29f4-df30-4b13-a6a5-4392750f1f60",
   "metadata": {
    "tags": []
   },
   "outputs": [],
   "source": [
    "sc.set_figure_params(figsize = (9,6), dpi_save = 300)\n",
    "sc.pl.embedding(mdata, basis=\"spatial\", color=\"cell_type2\", size = 30, frameon = False, save = 'Cortex_celltype_MALDI.pdf' )"
   ]
  },
  {
   "cell_type": "code",
   "execution_count": null,
   "id": "d0aedfb8-666a-4d64-aceb-2a78d8a594d8",
   "metadata": {},
   "outputs": [],
   "source": []
  },
  {
   "cell_type": "code",
   "execution_count": null,
   "id": "1f7b74c5-088f-4910-9797-1f6b06843fcd",
   "metadata": {
    "tags": []
   },
   "outputs": [],
   "source": [
    "sc.pp.calculate_qc_metrics(\n",
    "    mdata, inplace=True, log1p=False, percent_top=None\n",
    ")"
   ]
  },
  {
   "cell_type": "code",
   "execution_count": null,
   "id": "c8631723-ae7b-4e41-81cb-909b98029da4",
   "metadata": {
    "tags": []
   },
   "outputs": [],
   "source": [
    "sc.set_figure_params(figsize = (9,6), dpi_save = 300)\n",
    "sc.pl.embedding(mdata, basis=\"spatial\", color=\"total_counts\", size = 30, frameon = False, save = 'Cortex_totalIntensity_MALDI.pdf', vmax = 'p99')"
   ]
  },
  {
   "cell_type": "code",
   "execution_count": null,
   "id": "628fffa7-0966-4478-8db0-de38d7a6d6a3",
   "metadata": {},
   "outputs": [],
   "source": []
  },
  {
   "cell_type": "code",
   "execution_count": null,
   "id": "d9f05911-e32c-40ce-992a-9516852e1d97",
   "metadata": {},
   "outputs": [],
   "source": [
    "import scanpy as sc\n",
    "import pandas as pd\n",
    "import numpy as np\n",
    "from shapely import Polygon\n",
    "from spatialdata import read_zarr,  polygon_query\n",
    "import geopandas as gpd\n",
    "from read_roi import read_roi_file, read_roi_zip\n",
    "import spatialdata_plot\n",
    "from spatialdata.models import Image2DModel, PointsModel,ShapesModel,TableModel"
   ]
  },
  {
   "cell_type": "code",
   "execution_count": null,
   "id": "a42a76b5-1469-4e0e-a20d-226d73efecc6",
   "metadata": {},
   "outputs": [],
   "source": []
  },
  {
   "cell_type": "code",
   "execution_count": null,
   "id": "2f6ce079-b4fc-49dc-b902-a52b81904000",
   "metadata": {
    "tags": []
   },
   "outputs": [],
   "source": [
    "sdata = read_zarr(\"/media/duan/sda2/MALDI/Data/20250727_LPS_MALDI/Result/raw_sdata.zarr\")\n",
    "sdata"
   ]
  },
  {
   "cell_type": "code",
   "execution_count": null,
   "id": "f0e431a1-a839-4524-952f-b554a54f8e18",
   "metadata": {
    "tags": []
   },
   "outputs": [],
   "source": [
    "roi = read_roi_file(\"/media/duan/sda2/MALDI/Data/20250727_LPS_MALDI/Result/Enlarge_Segmentation2.roi\")\n",
    "roi"
   ]
  },
  {
   "cell_type": "code",
   "execution_count": null,
   "id": "5444b78d-6825-4825-a8eb-e56345b5efe7",
   "metadata": {
    "tags": []
   },
   "outputs": [],
   "source": [
    "roi = roi['Enlarge_Segmentation2']"
   ]
  },
  {
   "cell_type": "code",
   "execution_count": null,
   "id": "4d5501cf-d030-4fbc-8404-62080a67c96f",
   "metadata": {
    "tags": []
   },
   "outputs": [],
   "source": [
    "polygon_roi = Polygon([[roi['left'], roi['top']], \n",
    "                   [roi['left'] + roi['width'], roi['top']], \n",
    "                   [roi['left'] + roi['width'], roi['top'] + roi['height']], \n",
    "                   [roi['left'], roi['top'] + roi['height']]])\n",
    "polygon_roi"
   ]
  },
  {
   "cell_type": "code",
   "execution_count": null,
   "id": "d43eab6e-2261-4b25-8060-5101898b76d7",
   "metadata": {},
   "outputs": [],
   "source": []
  },
  {
   "cell_type": "code",
   "execution_count": null,
   "id": "717599d0-b75e-49cc-bb5e-1b88207045a4",
   "metadata": {
    "scrolled": true,
    "tags": []
   },
   "outputs": [],
   "source": [
    "cortex_roi = read_roi_zip(\"/media/duan/sda2/MALDI/Data/20250727_LPS_MALDI/LPS_MALDI_Cortex_alignedROI_Final.zip\")\n",
    "cortex_roi"
   ]
  },
  {
   "cell_type": "code",
   "execution_count": null,
   "id": "39dff547-7ad1-40e3-9b91-6fd9bd629b30",
   "metadata": {
    "tags": []
   },
   "outputs": [],
   "source": [
    "index_list = []\n",
    "polygon_list = []\n",
    "\n",
    "for key, value in cortex_roi.items():\n",
    "    index_list.append(key)\n",
    "    \n",
    "    polygon = Polygon(\n",
    "\n",
    "        np.column_stack([value['x'][0:4], value['y'][0:4]])\n",
    "\n",
    "    )\n",
    "    \n",
    "    polygon_list.append(polygon)"
   ]
  },
  {
   "cell_type": "code",
   "execution_count": null,
   "id": "2a5eada9-83f4-4ae2-81c2-6ef414e11dc1",
   "metadata": {
    "tags": []
   },
   "outputs": [],
   "source": [
    "sm_polygon = gpd.GeoDataFrame(geometry=polygon_list)\n",
    "sm_polygon.index = index_list\n",
    "sm_polygon"
   ]
  },
  {
   "cell_type": "code",
   "execution_count": null,
   "id": "d7272554-fc58-47c6-ba86-d3a555558e3b",
   "metadata": {
    "tags": []
   },
   "outputs": [],
   "source": [
    "sdata.shapes['Cortex_ablation'] = ShapesModel.parse(sm_polygon)"
   ]
  },
  {
   "cell_type": "code",
   "execution_count": null,
   "id": "a56dd4db-6e38-46cb-bbe7-e69a429eb3b4",
   "metadata": {
    "tags": []
   },
   "outputs": [],
   "source": [
    "adata_sm = sc.read_h5ad(\"/media/duan/sda2/MALDI/Data/LPS_01/LPS_Scaled_Reg2.h5ad\")\n",
    "adata_sm"
   ]
  },
  {
   "cell_type": "code",
   "execution_count": null,
   "id": "a3d5178d-6eae-4104-93af-ec449ef34f70",
   "metadata": {
    "tags": []
   },
   "outputs": [],
   "source": [
    "adata_sm.obs.loc[sm_polygon.index, 'total_intensity']"
   ]
  },
  {
   "cell_type": "code",
   "execution_count": null,
   "id": "20c43d80-518f-459b-9f67-b2506afcaf59",
   "metadata": {
    "tags": []
   },
   "outputs": [],
   "source": [
    "total_intensity = adata_sm.obs.loc[sm_polygon.index, 'total_intensity'].to_numpy()"
   ]
  },
  {
   "cell_type": "code",
   "execution_count": null,
   "id": "52e35070-042a-4909-b3c3-aa761b7ccb11",
   "metadata": {
    "tags": []
   },
   "outputs": [],
   "source": [
    "np.percentile(total_intensity, 99.9)"
   ]
  },
  {
   "cell_type": "code",
   "execution_count": null,
   "id": "27361337-7c6a-4963-a29c-ba66d6fe7fd2",
   "metadata": {
    "tags": []
   },
   "outputs": [],
   "source": [
    "total_intensity = np.clip(total_intensity, 0, np.percentile(total_intensity, 99.9))"
   ]
  },
  {
   "cell_type": "code",
   "execution_count": null,
   "id": "c7c01573-4fbd-4f28-82f7-07b856664028",
   "metadata": {
    "tags": []
   },
   "outputs": [],
   "source": [
    "sdata.shapes['Cortex_ablation']['total_intensity'] = total_intensity"
   ]
  },
  {
   "cell_type": "code",
   "execution_count": null,
   "id": "168713cf-be20-4dbc-b3f7-6a17726d0a99",
   "metadata": {},
   "outputs": [],
   "source": []
  },
  {
   "cell_type": "code",
   "execution_count": null,
   "id": "480cd59a-d712-42f9-8105-0ba57df9c02b",
   "metadata": {
    "tags": []
   },
   "outputs": [],
   "source": [
    "from spatialdata import polygon_query\n",
    "crop1 = lambda x: polygon_query(\n",
    "    x,\n",
    "    polygon=polygon_roi,\n",
    "    target_coordinate_system=\"global\",\n",
    ")"
   ]
  },
  {
   "cell_type": "code",
   "execution_count": null,
   "id": "31325f3d-b16c-4e62-9f94-f3457ee0d185",
   "metadata": {
    "tags": []
   },
   "outputs": [],
   "source": [
    "adata_st = sc.read_h5ad(\"/media/duan/sda2/MALDI/Data/20250727_LPS_MALDI/Result/FISH_Cortex_annotated.h5ad\")\n",
    "adata_st"
   ]
  },
  {
   "cell_type": "code",
   "execution_count": null,
   "id": "ccd6f7ac-5354-4c33-b64a-08a8154517c4",
   "metadata": {
    "tags": []
   },
   "outputs": [],
   "source": [
    "adata_sm_kept = sc.read_h5ad(\"/media/duan/sda2/MALDI/Data/20250727_LPS_MALDI/Result/MALDI_Cortex_norm_annotated_filtered.h5ad\")\n",
    "adata_sm_kept.obs"
   ]
  },
  {
   "cell_type": "code",
   "execution_count": null,
   "id": "ef47f15d-7858-4c86-81fa-6d048c353b66",
   "metadata": {
    "tags": []
   },
   "outputs": [],
   "source": [
    "df = pd.read_csv(\"/media/duan/sda2/MALDI/Data/20250727_LPS_MALDI/Result/Cortex_join_df.csv\")\n",
    "df"
   ]
  },
  {
   "cell_type": "code",
   "execution_count": null,
   "id": "e454f7a3-d125-4df5-b3a1-f1777d632a1e",
   "metadata": {
    "tags": []
   },
   "outputs": [],
   "source": [
    "df = df.set_index('index_st', drop = False)"
   ]
  },
  {
   "cell_type": "code",
   "execution_count": null,
   "id": "1f0fbecd-e076-4552-aba8-428a8895e1b1",
   "metadata": {
    "tags": []
   },
   "outputs": [],
   "source": [
    "df"
   ]
  },
  {
   "cell_type": "code",
   "execution_count": null,
   "id": "bbaf1290-32d0-4bc3-af5f-76ed25fdd7ee",
   "metadata": {
    "tags": []
   },
   "outputs": [],
   "source": [
    "df = df.loc[adata_st.obs_names.to_numpy().astype(int),:].copy()"
   ]
  },
  {
   "cell_type": "code",
   "execution_count": null,
   "id": "40ca376a-4158-4754-bf3f-14cc684fa74e",
   "metadata": {
    "tags": []
   },
   "outputs": [],
   "source": [
    "df['index_sm'].unique().astype(str)"
   ]
  },
  {
   "cell_type": "code",
   "execution_count": null,
   "id": "ae218cd6-67fe-4dd1-8f1b-242a34d6d5c8",
   "metadata": {
    "tags": []
   },
   "outputs": [],
   "source": [
    "sdata.shapes['Cortex_ablation'] = sdata.shapes['Cortex_ablation'].loc[df['index_sm'].unique().astype(str), :].copy()"
   ]
  },
  {
   "cell_type": "code",
   "execution_count": null,
   "id": "5c714ab7-396e-412e-b527-90ccf1cbf61d",
   "metadata": {
    "tags": []
   },
   "outputs": [],
   "source": [
    "crop1(sdata).pl.render_shapes(\"Cortex_ablation\", color = 'total_intensity', method = 'matplotlib',\n",
    "                              outline_alpha = 0, fill_alpha = .9).pl.show(title=\"Cortex_ablation\", figsize = (5,5), dpi = 100, frameon = False, save = 'figures/Ablation_Total_Intensity_enlarge_kept.pdf')"
   ]
  },
  {
   "cell_type": "code",
   "execution_count": null,
   "id": "573814aa-becc-4f06-997f-37e42c166917",
   "metadata": {},
   "outputs": [],
   "source": []
  },
  {
   "cell_type": "code",
   "execution_count": null,
   "id": "ec3af6fe-21df-4143-b066-a88f9e6ce47b",
   "metadata": {},
   "outputs": [],
   "source": []
  },
  {
   "cell_type": "code",
   "execution_count": null,
   "id": "9f83009d-0fe1-425b-9b0e-f16c6a4197a9",
   "metadata": {},
   "outputs": [],
   "source": []
  },
  {
   "cell_type": "code",
   "execution_count": null,
   "id": "32d05af3-1ec4-4f45-aa9a-074238ab1518",
   "metadata": {
    "tags": []
   },
   "outputs": [],
   "source": [
    "sdata.shapes['MultiModel'].index = sdata.shapes['MultiModel'].index.astype('str')"
   ]
  },
  {
   "cell_type": "code",
   "execution_count": null,
   "id": "52ed4f04-6c2f-4d1d-950c-06246378b291",
   "metadata": {
    "tags": []
   },
   "outputs": [],
   "source": [
    "sdata.shapes['MultiModel'] = sdata.shapes['MultiModel'].loc[adata_st.obs_names,:].copy()"
   ]
  },
  {
   "cell_type": "raw",
   "id": "ddb0aa73-723d-45df-9ac4-6f754bf9708a",
   "metadata": {
    "tags": []
   },
   "source": [
    "sdata.shapes['Cortex_ablation'] = sdata.shapes['Cortex_ablation'].loc[df['index_sm'].unique().astype(str), :].copy()"
   ]
  },
  {
   "cell_type": "code",
   "execution_count": null,
   "id": "b10682f0-5e5a-47f8-9265-a22b69446e78",
   "metadata": {
    "tags": []
   },
   "outputs": [],
   "source": [
    "crop1(sdata).pl.render_shapes(\"Cortex_ablation\", color = None, method = 'matplotlib',\n",
    "                              outline_alpha = 1., fill_alpha = .0, outline_color = '#FFFF00', outline_width = 1.5).pl.render_shapes(\"MultiModel\", color = None, method = 'matplotlib',\n",
    "                              outline_alpha = 1., fill_alpha = .0, outline_color = '#00BFFF', outline_width = 1.5).pl.show(title=\"Ablation_Segmentation\", figsize = (5,5), dpi = 100, frameon = False, save = 'figures/Ablation_Segmentation_enlarge.pdf')"
   ]
  },
  {
   "cell_type": "code",
   "execution_count": null,
   "id": "cd58e6dd-ca28-4590-b386-ec889ac08619",
   "metadata": {
    "tags": []
   },
   "outputs": [],
   "source": [
    "sc.pp.calculate_qc_metrics(\n",
    "    adata_sm_kept, inplace=True, log1p=True, percent_top=None\n",
    ")"
   ]
  },
  {
   "cell_type": "code",
   "execution_count": null,
   "id": "532eb40d-359a-4682-9622-bec7d7df6272",
   "metadata": {
    "tags": []
   },
   "outputs": [],
   "source": [
    "adata_sm_kept"
   ]
  },
  {
   "cell_type": "code",
   "execution_count": null,
   "id": "a0c775b8-66e9-4c87-a7e8-e0b0747f0104",
   "metadata": {
    "tags": []
   },
   "outputs": [],
   "source": [
    "total_intensity = adata_sm_kept.obs['total_counts'].to_numpy()"
   ]
  },
  {
   "cell_type": "code",
   "execution_count": null,
   "id": "2b8704cf-4667-47a4-883b-b4e480f3563f",
   "metadata": {
    "tags": []
   },
   "outputs": [],
   "source": [
    "np.percentile(total_intensity, 99.9)"
   ]
  },
  {
   "cell_type": "code",
   "execution_count": null,
   "id": "1e919ed6-54f0-4539-9780-152bbdbb137a",
   "metadata": {
    "tags": []
   },
   "outputs": [],
   "source": [
    "total_intensity = np.clip(total_intensity, 0, np.percentile(total_intensity, 99.9))"
   ]
  },
  {
   "cell_type": "code",
   "execution_count": null,
   "id": "c50a3f09-ec03-4a5b-ae17-5f97ddd25470",
   "metadata": {
    "tags": []
   },
   "outputs": [],
   "source": [
    "sdata.shapes['MultiModel']['total_intensity'] = total_intensity"
   ]
  },
  {
   "cell_type": "code",
   "execution_count": null,
   "id": "50dffae9-a9d5-465d-998f-275156c3fcc1",
   "metadata": {
    "tags": []
   },
   "outputs": [],
   "source": [
    "sdata.shapes['MultiModel']"
   ]
  },
  {
   "cell_type": "code",
   "execution_count": null,
   "id": "d0aa3c13-50e6-4698-a9ed-42497dff5cce",
   "metadata": {
    "tags": []
   },
   "outputs": [],
   "source": [
    "crop1(sdata).pl.render_shapes(\"MultiModel\", color = 'total_intensity', method = 'matplotlib',\n",
    "                              outline_alpha = 0, fill_alpha = .9).pl.show(title=\"MultiModel\", figsize = (5,5), dpi = 100, frameon = False, save = 'figures/MultiModel_Total_Intensity_enlarge.pdf')"
   ]
  },
  {
   "cell_type": "code",
   "execution_count": null,
   "id": "f484463d-7bd4-46d9-a9c5-9ccc9bb7d364",
   "metadata": {
    "tags": []
   },
   "outputs": [],
   "source": [
    "sdata"
   ]
  },
  {
   "cell_type": "code",
   "execution_count": null,
   "id": "fb356cc2-fdfc-40bd-9db6-b7a8436189ba",
   "metadata": {
    "tags": []
   },
   "outputs": [],
   "source": [
    "total_intensity = adata_st.obs['total_counts'].to_numpy()"
   ]
  },
  {
   "cell_type": "code",
   "execution_count": null,
   "id": "e90cb4e1-21d7-4a8e-a02d-93ecaab7bc7f",
   "metadata": {
    "tags": []
   },
   "outputs": [],
   "source": [
    "np.percentile(total_intensity, 99.9)"
   ]
  },
  {
   "cell_type": "code",
   "execution_count": null,
   "id": "adba0d93-4cdc-4172-9a2c-993191aebe9a",
   "metadata": {
    "tags": []
   },
   "outputs": [],
   "source": [
    "total_intensity = np.clip(total_intensity, 0, np.percentile(total_intensity, 99.9))"
   ]
  },
  {
   "cell_type": "code",
   "execution_count": null,
   "id": "bc35e45e-fecc-4d82-b886-b910357bdcb5",
   "metadata": {
    "tags": []
   },
   "outputs": [],
   "source": [
    "sdata.shapes['MultiModel']['total_counts'] = total_intensity"
   ]
  },
  {
   "cell_type": "code",
   "execution_count": null,
   "id": "0a767a9b-1733-4bb6-8898-d8ef8a571b28",
   "metadata": {
    "tags": []
   },
   "outputs": [],
   "source": [
    "crop1(sdata).pl.render_shapes(\"MultiModel\", color = 'total_counts', method = 'matplotlib',cmap = 'inferno',\n",
    "                              outline_alpha = 0, fill_alpha = .9).pl.show(title=\"MultiModel\", figsize = (5,5), dpi = 100, frameon = False, save = 'figures/MultiModel_Total_Counts_enlarge.pdf')"
   ]
  }
 ],
 "metadata": {
  "kernelspec": {
   "display_name": "Python [conda env:sopa]",
   "language": "python",
   "name": "conda-env-sopa-py"
  },
  "language_info": {
   "codemirror_mode": {
    "name": "ipython",
    "version": 3
   },
   "file_extension": ".py",
   "mimetype": "text/x-python",
   "name": "python",
   "nbconvert_exporter": "python",
   "pygments_lexer": "ipython3",
   "version": "3.10.13"
  }
 },
 "nbformat": 4,
 "nbformat_minor": 5
}
